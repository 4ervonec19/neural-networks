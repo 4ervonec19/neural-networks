{
 "cells": [
  {
   "cell_type": "markdown",
   "id": "90bf5b2b",
   "metadata": {
    "papermill": {
     "duration": 0.027404,
     "end_time": "2024-11-09T23:21:18.904137",
     "exception": false,
     "start_time": "2024-11-09T23:21:18.876733",
     "status": "completed"
    },
    "tags": []
   },
   "source": [
    "#### Обучение трансформера c использованием сети DaBERTa:"
   ]
  },
  {
   "cell_type": "markdown",
   "id": "77b4704f",
   "metadata": {},
   "source": [
    "#### Обучение и инференс моделей происходил на kaggle.com с использованием бесплатного недельного доступа к GPU блоку A100."
   ]
  },
  {
   "cell_type": "markdown",
   "id": "ed92e28d",
   "metadata": {},
   "source": [
    "#### Загружаем недостающие модули:"
   ]
  },
  {
   "cell_type": "code",
   "execution_count": 1,
   "id": "f2ee0118",
   "metadata": {
    "execution": {
     "iopub.execute_input": "2024-11-09T23:21:18.959598Z",
     "iopub.status.busy": "2024-11-09T23:21:18.959184Z",
     "iopub.status.idle": "2024-11-09T23:21:31.692629Z",
     "shell.execute_reply": "2024-11-09T23:21:31.691397Z"
    },
    "papermill": {
     "duration": 12.764005,
     "end_time": "2024-11-09T23:21:31.694899",
     "exception": false,
     "start_time": "2024-11-09T23:21:18.930894",
     "status": "completed"
    },
    "tags": []
   },
   "outputs": [
    {
     "name": "stdout",
     "output_type": "stream",
     "text": [
      "Requirement already satisfied: transformers in /opt/conda/lib/python3.10/site-packages (4.45.1)\r\n",
      "Requirement already satisfied: filelock in /opt/conda/lib/python3.10/site-packages (from transformers) (3.15.1)\r\n",
      "Requirement already satisfied: huggingface-hub<1.0,>=0.23.2 in /opt/conda/lib/python3.10/site-packages (from transformers) (0.25.1)\r\n",
      "Requirement already satisfied: numpy>=1.17 in /opt/conda/lib/python3.10/site-packages (from transformers) (1.26.4)\r\n",
      "Requirement already satisfied: packaging>=20.0 in /opt/conda/lib/python3.10/site-packages (from transformers) (21.3)\r\n",
      "Requirement already satisfied: pyyaml>=5.1 in /opt/conda/lib/python3.10/site-packages (from transformers) (6.0.2)\r\n",
      "Requirement already satisfied: regex!=2019.12.17 in /opt/conda/lib/python3.10/site-packages (from transformers) (2024.5.15)\r\n",
      "Requirement already satisfied: requests in /opt/conda/lib/python3.10/site-packages (from transformers) (2.32.3)\r\n",
      "Requirement already satisfied: safetensors>=0.4.1 in /opt/conda/lib/python3.10/site-packages (from transformers) (0.4.5)\r\n",
      "Requirement already satisfied: tokenizers<0.21,>=0.20 in /opt/conda/lib/python3.10/site-packages (from transformers) (0.20.0)\r\n",
      "Requirement already satisfied: tqdm>=4.27 in /opt/conda/lib/python3.10/site-packages (from transformers) (4.66.4)\r\n",
      "Requirement already satisfied: fsspec>=2023.5.0 in /opt/conda/lib/python3.10/site-packages (from huggingface-hub<1.0,>=0.23.2->transformers) (2024.6.1)\r\n",
      "Requirement already satisfied: typing-extensions>=3.7.4.3 in /opt/conda/lib/python3.10/site-packages (from huggingface-hub<1.0,>=0.23.2->transformers) (4.12.2)\r\n",
      "Requirement already satisfied: pyparsing!=3.0.5,>=2.0.2 in /opt/conda/lib/python3.10/site-packages (from packaging>=20.0->transformers) (3.1.2)\r\n",
      "Requirement already satisfied: charset-normalizer<4,>=2 in /opt/conda/lib/python3.10/site-packages (from requests->transformers) (3.3.2)\r\n",
      "Requirement already satisfied: idna<4,>=2.5 in /opt/conda/lib/python3.10/site-packages (from requests->transformers) (3.7)\r\n",
      "Requirement already satisfied: urllib3<3,>=1.21.1 in /opt/conda/lib/python3.10/site-packages (from requests->transformers) (1.26.18)\r\n",
      "Requirement already satisfied: certifi>=2017.4.17 in /opt/conda/lib/python3.10/site-packages (from requests->transformers) (2024.8.30)\r\n",
      "Note: you may need to restart the kernel to use updated packages.\n"
     ]
    }
   ],
   "source": [
    "pip install transformers"
   ]
  },
  {
   "cell_type": "code",
   "execution_count": 2,
   "id": "7e8d3e92",
   "metadata": {
    "execution": {
     "iopub.execute_input": "2024-11-09T23:21:31.750289Z",
     "iopub.status.busy": "2024-11-09T23:21:31.749899Z",
     "iopub.status.idle": "2024-11-09T23:21:43.421666Z",
     "shell.execute_reply": "2024-11-09T23:21:43.420301Z"
    },
    "papermill": {
     "duration": 11.701941,
     "end_time": "2024-11-09T23:21:43.423931",
     "exception": false,
     "start_time": "2024-11-09T23:21:31.721990",
     "status": "completed"
    },
    "tags": []
   },
   "outputs": [
    {
     "name": "stdout",
     "output_type": "stream",
     "text": [
      "Requirement already satisfied: wandb in /opt/conda/lib/python3.10/site-packages (0.18.3)\r\n",
      "Requirement already satisfied: click!=8.0.0,>=7.1 in /opt/conda/lib/python3.10/site-packages (from wandb) (8.1.7)\r\n",
      "Requirement already satisfied: docker-pycreds>=0.4.0 in /opt/conda/lib/python3.10/site-packages (from wandb) (0.4.0)\r\n",
      "Requirement already satisfied: gitpython!=3.1.29,>=1.0.0 in /opt/conda/lib/python3.10/site-packages (from wandb) (3.1.43)\r\n",
      "Requirement already satisfied: platformdirs in /opt/conda/lib/python3.10/site-packages (from wandb) (3.11.0)\r\n",
      "Requirement already satisfied: protobuf!=4.21.0,!=5.28.0,<6,>=3.19.0 in /opt/conda/lib/python3.10/site-packages (from wandb) (3.20.3)\r\n",
      "Requirement already satisfied: psutil>=5.0.0 in /opt/conda/lib/python3.10/site-packages (from wandb) (5.9.3)\r\n",
      "Requirement already satisfied: pyyaml in /opt/conda/lib/python3.10/site-packages (from wandb) (6.0.2)\r\n",
      "Requirement already satisfied: requests<3,>=2.0.0 in /opt/conda/lib/python3.10/site-packages (from wandb) (2.32.3)\r\n",
      "Requirement already satisfied: sentry-sdk>=1.0.0 in /opt/conda/lib/python3.10/site-packages (from wandb) (2.15.0)\r\n",
      "Requirement already satisfied: setproctitle in /opt/conda/lib/python3.10/site-packages (from wandb) (1.3.3)\r\n",
      "Requirement already satisfied: setuptools in /opt/conda/lib/python3.10/site-packages (from wandb) (70.0.0)\r\n",
      "Requirement already satisfied: six>=1.4.0 in /opt/conda/lib/python3.10/site-packages (from docker-pycreds>=0.4.0->wandb) (1.16.0)\r\n",
      "Requirement already satisfied: gitdb<5,>=4.0.1 in /opt/conda/lib/python3.10/site-packages (from gitpython!=3.1.29,>=1.0.0->wandb) (4.0.11)\r\n",
      "Requirement already satisfied: charset-normalizer<4,>=2 in /opt/conda/lib/python3.10/site-packages (from requests<3,>=2.0.0->wandb) (3.3.2)\r\n",
      "Requirement already satisfied: idna<4,>=2.5 in /opt/conda/lib/python3.10/site-packages (from requests<3,>=2.0.0->wandb) (3.7)\r\n",
      "Requirement already satisfied: urllib3<3,>=1.21.1 in /opt/conda/lib/python3.10/site-packages (from requests<3,>=2.0.0->wandb) (1.26.18)\r\n",
      "Requirement already satisfied: certifi>=2017.4.17 in /opt/conda/lib/python3.10/site-packages (from requests<3,>=2.0.0->wandb) (2024.8.30)\r\n",
      "Requirement already satisfied: smmap<6,>=3.0.1 in /opt/conda/lib/python3.10/site-packages (from gitdb<5,>=4.0.1->gitpython!=3.1.29,>=1.0.0->wandb) (5.0.1)\r\n",
      "Note: you may need to restart the kernel to use updated packages.\n"
     ]
    }
   ],
   "source": [
    "pip install wandb"
   ]
  },
  {
   "cell_type": "code",
   "execution_count": 3,
   "id": "5a171dba",
   "metadata": {
    "execution": {
     "iopub.execute_input": "2024-11-09T23:21:43.480557Z",
     "iopub.status.busy": "2024-11-09T23:21:43.480046Z",
     "iopub.status.idle": "2024-11-09T23:21:57.739725Z",
     "shell.execute_reply": "2024-11-09T23:21:57.738417Z"
    },
    "papermill": {
     "duration": 14.290551,
     "end_time": "2024-11-09T23:21:57.741911",
     "exception": false,
     "start_time": "2024-11-09T23:21:43.451360",
     "status": "completed"
    },
    "tags": []
   },
   "outputs": [
    {
     "name": "stdout",
     "output_type": "stream",
     "text": [
      "Requirement already satisfied: datasets in /opt/conda/lib/python3.10/site-packages (3.0.1)\r\n",
      "Requirement already satisfied: accelerate in /opt/conda/lib/python3.10/site-packages (0.34.2)\r\n",
      "Collecting nvidia-ml-py3\r\n",
      "  Downloading nvidia-ml-py3-7.352.0.tar.gz (19 kB)\r\n",
      "  Preparing metadata (setup.py) ... \u001b[?25l-\b \bdone\r\n",
      "\u001b[?25hRequirement already satisfied: filelock in /opt/conda/lib/python3.10/site-packages (from datasets) (3.15.1)\r\n",
      "Requirement already satisfied: numpy>=1.17 in /opt/conda/lib/python3.10/site-packages (from datasets) (1.26.4)\r\n",
      "Requirement already satisfied: pyarrow>=15.0.0 in /opt/conda/lib/python3.10/site-packages (from datasets) (16.1.0)\r\n",
      "Requirement already satisfied: dill<0.3.9,>=0.3.0 in /opt/conda/lib/python3.10/site-packages (from datasets) (0.3.8)\r\n",
      "Requirement already satisfied: pandas in /opt/conda/lib/python3.10/site-packages (from datasets) (2.2.2)\r\n",
      "Requirement already satisfied: requests>=2.32.2 in /opt/conda/lib/python3.10/site-packages (from datasets) (2.32.3)\r\n",
      "Requirement already satisfied: tqdm>=4.66.3 in /opt/conda/lib/python3.10/site-packages (from datasets) (4.66.4)\r\n",
      "Requirement already satisfied: xxhash in /opt/conda/lib/python3.10/site-packages (from datasets) (3.4.1)\r\n",
      "Requirement already satisfied: multiprocess in /opt/conda/lib/python3.10/site-packages (from datasets) (0.70.16)\r\n",
      "Requirement already satisfied: fsspec<=2024.6.1,>=2023.1.0 in /opt/conda/lib/python3.10/site-packages (from fsspec[http]<=2024.6.1,>=2023.1.0->datasets) (2024.6.1)\r\n",
      "Requirement already satisfied: aiohttp in /opt/conda/lib/python3.10/site-packages (from datasets) (3.9.5)\r\n",
      "Requirement already satisfied: huggingface-hub>=0.22.0 in /opt/conda/lib/python3.10/site-packages (from datasets) (0.25.1)\r\n",
      "Requirement already satisfied: packaging in /opt/conda/lib/python3.10/site-packages (from datasets) (21.3)\r\n",
      "Requirement already satisfied: pyyaml>=5.1 in /opt/conda/lib/python3.10/site-packages (from datasets) (6.0.2)\r\n",
      "Requirement already satisfied: psutil in /opt/conda/lib/python3.10/site-packages (from accelerate) (5.9.3)\r\n",
      "Requirement already satisfied: torch>=1.10.0 in /opt/conda/lib/python3.10/site-packages (from accelerate) (2.4.0)\r\n",
      "Requirement already satisfied: safetensors>=0.4.3 in /opt/conda/lib/python3.10/site-packages (from accelerate) (0.4.5)\r\n",
      "Requirement already satisfied: aiosignal>=1.1.2 in /opt/conda/lib/python3.10/site-packages (from aiohttp->datasets) (1.3.1)\r\n",
      "Requirement already satisfied: attrs>=17.3.0 in /opt/conda/lib/python3.10/site-packages (from aiohttp->datasets) (23.2.0)\r\n",
      "Requirement already satisfied: frozenlist>=1.1.1 in /opt/conda/lib/python3.10/site-packages (from aiohttp->datasets) (1.4.1)\r\n",
      "Requirement already satisfied: multidict<7.0,>=4.5 in /opt/conda/lib/python3.10/site-packages (from aiohttp->datasets) (6.0.5)\r\n",
      "Requirement already satisfied: yarl<2.0,>=1.0 in /opt/conda/lib/python3.10/site-packages (from aiohttp->datasets) (1.9.4)\r\n",
      "Requirement already satisfied: async-timeout<5.0,>=4.0 in /opt/conda/lib/python3.10/site-packages (from aiohttp->datasets) (4.0.3)\r\n",
      "Requirement already satisfied: typing-extensions>=3.7.4.3 in /opt/conda/lib/python3.10/site-packages (from huggingface-hub>=0.22.0->datasets) (4.12.2)\r\n",
      "Requirement already satisfied: pyparsing!=3.0.5,>=2.0.2 in /opt/conda/lib/python3.10/site-packages (from packaging->datasets) (3.1.2)\r\n",
      "Requirement already satisfied: charset-normalizer<4,>=2 in /opt/conda/lib/python3.10/site-packages (from requests>=2.32.2->datasets) (3.3.2)\r\n",
      "Requirement already satisfied: idna<4,>=2.5 in /opt/conda/lib/python3.10/site-packages (from requests>=2.32.2->datasets) (3.7)\r\n",
      "Requirement already satisfied: urllib3<3,>=1.21.1 in /opt/conda/lib/python3.10/site-packages (from requests>=2.32.2->datasets) (1.26.18)\r\n",
      "Requirement already satisfied: certifi>=2017.4.17 in /opt/conda/lib/python3.10/site-packages (from requests>=2.32.2->datasets) (2024.8.30)\r\n",
      "Requirement already satisfied: sympy in /opt/conda/lib/python3.10/site-packages (from torch>=1.10.0->accelerate) (1.13.3)\r\n",
      "Requirement already satisfied: networkx in /opt/conda/lib/python3.10/site-packages (from torch>=1.10.0->accelerate) (3.3)\r\n",
      "Requirement already satisfied: jinja2 in /opt/conda/lib/python3.10/site-packages (from torch>=1.10.0->accelerate) (3.1.4)\r\n",
      "Requirement already satisfied: python-dateutil>=2.8.2 in /opt/conda/lib/python3.10/site-packages (from pandas->datasets) (2.9.0.post0)\r\n",
      "Requirement already satisfied: pytz>=2020.1 in /opt/conda/lib/python3.10/site-packages (from pandas->datasets) (2024.1)\r\n",
      "Requirement already satisfied: tzdata>=2022.7 in /opt/conda/lib/python3.10/site-packages (from pandas->datasets) (2024.1)\r\n",
      "Requirement already satisfied: six>=1.5 in /opt/conda/lib/python3.10/site-packages (from python-dateutil>=2.8.2->pandas->datasets) (1.16.0)\r\n",
      "Requirement already satisfied: MarkupSafe>=2.0 in /opt/conda/lib/python3.10/site-packages (from jinja2->torch>=1.10.0->accelerate) (2.1.5)\r\n",
      "Requirement already satisfied: mpmath<1.4,>=1.1.0 in /opt/conda/lib/python3.10/site-packages (from sympy->torch>=1.10.0->accelerate) (1.3.0)\r\n",
      "Building wheels for collected packages: nvidia-ml-py3\r\n",
      "  Building wheel for nvidia-ml-py3 (setup.py) ... \u001b[?25l-\b \b\\\b \bdone\r\n",
      "\u001b[?25h  Created wheel for nvidia-ml-py3: filename=nvidia_ml_py3-7.352.0-py3-none-any.whl size=19172 sha256=2351baa583dafbbd12f89fcbaba44b296b7489381c83ad2bf058cc0aff46a78d\r\n",
      "  Stored in directory: /root/.cache/pip/wheels/5c/d8/c0/46899f8be7a75a2ffd197a23c8797700ea858b9b34819fbf9e\r\n",
      "Successfully built nvidia-ml-py3\r\n",
      "Installing collected packages: nvidia-ml-py3\r\n",
      "Successfully installed nvidia-ml-py3-7.352.0\r\n",
      "Note: you may need to restart the kernel to use updated packages.\n"
     ]
    }
   ],
   "source": [
    "pip install datasets accelerate nvidia-ml-py3"
   ]
  },
  {
   "cell_type": "markdown",
   "id": "72fc564d",
   "metadata": {},
   "source": [
    "#### Импортируем модули:"
   ]
  },
  {
   "cell_type": "code",
   "execution_count": 4,
   "id": "87fce579",
   "metadata": {
    "_cell_guid": "b1076dfc-b9ad-4769-8c92-a6c4dae69d19",
    "_uuid": "8f2839f25d086af736a60e9eeb907d3b93b6e0e5",
    "execution": {
     "iopub.execute_input": "2024-11-09T23:21:57.805733Z",
     "iopub.status.busy": "2024-11-09T23:21:57.805289Z",
     "iopub.status.idle": "2024-11-09T23:22:15.415235Z",
     "shell.execute_reply": "2024-11-09T23:22:15.414190Z"
    },
    "papermill": {
     "duration": 17.646723,
     "end_time": "2024-11-09T23:22:15.417748",
     "exception": false,
     "start_time": "2024-11-09T23:21:57.771025",
     "status": "completed"
    },
    "tags": []
   },
   "outputs": [],
   "source": [
    "import os\n",
    "import string\n",
    "import sys\n",
    "import random\n",
    "import numpy as np\n",
    "import pandas as pd\n",
    "import time\n",
    "import matplotlib.pyplot as plt\n",
    "import re\n",
    "import datetime\n",
    "\n",
    "import torch\n",
    "from torch.utils.data import Dataset, DataLoader, Subset, ConcatDataset, random_split,  RandomSampler, SequentialSampler\n",
    "import torch.nn.functional as F\n",
    "import torch.nn as nn\n",
    "import torch.optim as optim\n",
    "from torch.nn.utils.rnn import pad_sequence\n",
    "\n",
    "from sklearn.metrics import accuracy_score\n",
    "from torch.utils.tensorboard import summary, writer, SummaryWriter\n",
    "\n",
    "from tqdm.notebook import tqdm\n"
   ]
  },
  {
   "cell_type": "markdown",
   "id": "6f3ecad9",
   "metadata": {
    "papermill": {
     "duration": 0.029419,
     "end_time": "2024-11-09T23:22:15.476246",
     "exception": false,
     "start_time": "2024-11-09T23:22:15.446827",
     "status": "completed"
    },
    "tags": []
   },
   "source": [
    "#### Устанавливаем Seed'ы:"
   ]
  },
  {
   "cell_type": "code",
   "execution_count": 5,
   "id": "e441b4e4",
   "metadata": {
    "execution": {
     "iopub.execute_input": "2024-11-09T23:22:15.536373Z",
     "iopub.status.busy": "2024-11-09T23:22:15.535725Z",
     "iopub.status.idle": "2024-11-09T23:22:15.545906Z",
     "shell.execute_reply": "2024-11-09T23:22:15.544995Z"
    },
    "papermill": {
     "duration": 0.042613,
     "end_time": "2024-11-09T23:22:15.547891",
     "exception": false,
     "start_time": "2024-11-09T23:22:15.505278",
     "status": "completed"
    },
    "tags": []
   },
   "outputs": [],
   "source": [
    "SEED = 42\n",
    "\n",
    "random.seed(SEED)\n",
    "np.random.seed(SEED)\n",
    "torch.manual_seed(SEED)\n",
    "torch.cuda.manual_seed_all(SEED)\n",
    "\n",
    "import warnings\n",
    "warnings.filterwarnings(\"ignore\")"
   ]
  },
  {
   "cell_type": "markdown",
   "id": "e769450a",
   "metadata": {
    "papermill": {
     "duration": 0.028626,
     "end_time": "2024-11-09T23:22:15.605528",
     "exception": false,
     "start_time": "2024-11-09T23:22:15.576902",
     "status": "completed"
    },
    "tags": []
   },
   "source": [
    "#### Задаём device:"
   ]
  },
  {
   "cell_type": "code",
   "execution_count": 6,
   "id": "d7361e71",
   "metadata": {
    "execution": {
     "iopub.execute_input": "2024-11-09T23:22:15.664985Z",
     "iopub.status.busy": "2024-11-09T23:22:15.664536Z",
     "iopub.status.idle": "2024-11-09T23:22:15.761097Z",
     "shell.execute_reply": "2024-11-09T23:22:15.760146Z"
    },
    "papermill": {
     "duration": 0.128685,
     "end_time": "2024-11-09T23:22:15.763268",
     "exception": false,
     "start_time": "2024-11-09T23:22:15.634583",
     "status": "completed"
    },
    "tags": []
   },
   "outputs": [
    {
     "name": "stdout",
     "output_type": "stream",
     "text": [
      "There are 1 GPU(s) available.\n",
      "We will use the GPU: Tesla P100-PCIE-16GB\n"
     ]
    }
   ],
   "source": [
    "if torch.cuda.is_available():\n",
    "\n",
    "    # Tell PyTorch to use the GPU.\n",
    "    device = torch.device(\"cuda\")\n",
    "\n",
    "    print('There are %d GPU(s) available.' % torch.cuda.device_count())\n",
    "\n",
    "    print('We will use the GPU:', torch.cuda.get_device_name(0))\n",
    "\n",
    "# If not...\n",
    "else:\n",
    "    print('No GPU available, using the CPU instead.')\n",
    "    device = torch.device(\"cpu\")"
   ]
  },
  {
   "cell_type": "markdown",
   "id": "c32d7e86",
   "metadata": {
    "papermill": {
     "duration": 0.029581,
     "end_time": "2024-11-09T23:22:15.822545",
     "exception": false,
     "start_time": "2024-11-09T23:22:15.792964",
     "status": "completed"
    },
    "tags": []
   },
   "source": [
    "#### Импортируем и устанавливаем дополнительно все, что необходимо:"
   ]
  },
  {
   "cell_type": "code",
   "execution_count": 7,
   "id": "dc5ded56",
   "metadata": {
    "execution": {
     "iopub.execute_input": "2024-11-09T23:22:15.883087Z",
     "iopub.status.busy": "2024-11-09T23:22:15.882693Z",
     "iopub.status.idle": "2024-11-09T23:22:17.558890Z",
     "shell.execute_reply": "2024-11-09T23:22:17.557685Z"
    },
    "papermill": {
     "duration": 1.709893,
     "end_time": "2024-11-09T23:22:17.561804",
     "exception": false,
     "start_time": "2024-11-09T23:22:15.851911",
     "status": "completed"
    },
    "tags": []
   },
   "outputs": [
    {
     "name": "stdout",
     "output_type": "stream",
     "text": [
      "Cloning into 'character-tokenizer'...\r\n",
      "remote: Enumerating objects: 20, done.\u001b[K\r\n",
      "remote: Counting objects: 100% (20/20), done.\u001b[K\r\n",
      "remote: Compressing objects: 100% (14/14), done.\u001b[K\r\n",
      "remote: Total 20 (delta 5), reused 10 (delta 3), pack-reused 0 (from 0)\u001b[K\r\n",
      "Receiving objects: 100% (20/20), 5.89 KiB | 1.96 MiB/s, done.\r\n",
      "Resolving deltas: 100% (5/5), done.\r\n"
     ]
    }
   ],
   "source": [
    "!git clone https://github.com/KuzmaKhrabrov/character-tokenizer.git"
   ]
  },
  {
   "cell_type": "code",
   "execution_count": 8,
   "id": "5d6038cb",
   "metadata": {
    "execution": {
     "iopub.execute_input": "2024-11-09T23:22:17.630454Z",
     "iopub.status.busy": "2024-11-09T23:22:17.629369Z",
     "iopub.status.idle": "2024-11-09T23:22:18.436853Z",
     "shell.execute_reply": "2024-11-09T23:22:18.436033Z"
    },
    "papermill": {
     "duration": 0.840855,
     "end_time": "2024-11-09T23:22:18.439250",
     "exception": false,
     "start_time": "2024-11-09T23:22:17.598395",
     "status": "completed"
    },
    "tags": []
   },
   "outputs": [],
   "source": [
    "sys.path.append(\"/kaggle/input/tools/character-tokenizer\")\n",
    "from charactertokenizer import CharacterTokenizer"
   ]
  },
  {
   "cell_type": "markdown",
   "id": "45c3db78",
   "metadata": {
    "papermill": {
     "duration": 0.028459,
     "end_time": "2024-11-09T23:22:18.497136",
     "exception": false,
     "start_time": "2024-11-09T23:22:18.468677",
     "status": "completed"
    },
    "tags": []
   },
   "source": [
    "#### Check:"
   ]
  },
  {
   "cell_type": "code",
   "execution_count": 9,
   "id": "4e0a3b65",
   "metadata": {
    "execution": {
     "iopub.execute_input": "2024-11-09T23:22:18.555902Z",
     "iopub.status.busy": "2024-11-09T23:22:18.555294Z",
     "iopub.status.idle": "2024-11-09T23:22:18.561786Z",
     "shell.execute_reply": "2024-11-09T23:22:18.560971Z"
    },
    "papermill": {
     "duration": 0.038073,
     "end_time": "2024-11-09T23:22:18.563782",
     "exception": false,
     "start_time": "2024-11-09T23:22:18.525709",
     "status": "completed"
    },
    "tags": []
   },
   "outputs": [],
   "source": [
    "chars = \"АаБбВвГгДдЕеЁёЖжЗзИиЙйКкЛлМмНнОоПпРрСсТтУуФфХхЦцЧчШшЩщЪъЫыЬьЭэЮюЯя-h\"\n",
    "model_max_length = 22\n",
    "tokenizer = CharacterTokenizer(chars, model_max_length)"
   ]
  },
  {
   "cell_type": "markdown",
   "id": "7fb16873",
   "metadata": {
    "papermill": {
     "duration": 0.028867,
     "end_time": "2024-11-09T23:22:18.621979",
     "exception": false,
     "start_time": "2024-11-09T23:22:18.593112",
     "status": "completed"
    },
    "tags": []
   },
   "source": [
    "#### Проверяем Encode:"
   ]
  },
  {
   "cell_type": "code",
   "execution_count": 10,
   "id": "9469fdd3",
   "metadata": {
    "execution": {
     "iopub.execute_input": "2024-11-09T23:22:18.680802Z",
     "iopub.status.busy": "2024-11-09T23:22:18.680454Z",
     "iopub.status.idle": "2024-11-09T23:22:18.685486Z",
     "shell.execute_reply": "2024-11-09T23:22:18.684511Z"
    },
    "papermill": {
     "duration": 0.037013,
     "end_time": "2024-11-09T23:22:18.687684",
     "exception": false,
     "start_time": "2024-11-09T23:22:18.650671",
     "status": "completed"
    },
    "tags": []
   },
   "outputs": [
    {
     "name": "stdout",
     "output_type": "stream",
     "text": [
      "{'input_ids': [0, 73, 10, 48, 74, 1], 'token_type_ids': [0, 0, 0, 0, 0, 0], 'attention_mask': [1, 1, 1, 1, 1, 1]}\n"
     ]
    }
   ],
   "source": [
    "example = \"-буh\"\n",
    "tokens = tokenizer(example)\n",
    "print(tokens)"
   ]
  },
  {
   "cell_type": "markdown",
   "id": "3030a6c9",
   "metadata": {
    "papermill": {
     "duration": 0.028354,
     "end_time": "2024-11-09T23:22:18.744902",
     "exception": false,
     "start_time": "2024-11-09T23:22:18.716548",
     "status": "completed"
    },
    "tags": []
   },
   "source": [
    "#### Проверяем Decode:"
   ]
  },
  {
   "cell_type": "code",
   "execution_count": 11,
   "id": "ab6e9d7b",
   "metadata": {
    "execution": {
     "iopub.execute_input": "2024-11-09T23:22:18.842000Z",
     "iopub.status.busy": "2024-11-09T23:22:18.841315Z",
     "iopub.status.idle": "2024-11-09T23:22:18.846897Z",
     "shell.execute_reply": "2024-11-09T23:22:18.845960Z"
    },
    "papermill": {
     "duration": 0.075379,
     "end_time": "2024-11-09T23:22:18.849056",
     "exception": false,
     "start_time": "2024-11-09T23:22:18.773677",
     "status": "completed"
    },
    "tags": []
   },
   "outputs": [
    {
     "name": "stdout",
     "output_type": "stream",
     "text": [
      "[CLS]-буh[SEP]\n"
     ]
    }
   ],
   "source": [
    "print(tokenizer.decode(tokens[\"input_ids\"]))"
   ]
  },
  {
   "cell_type": "markdown",
   "id": "7b9ada9b",
   "metadata": {
    "papermill": {
     "duration": 0.029019,
     "end_time": "2024-11-09T23:22:18.907043",
     "exception": false,
     "start_time": "2024-11-09T23:22:18.878024",
     "status": "completed"
    },
    "tags": []
   },
   "source": [
    "#### Задача:\n",
    "\n",
    "##### Необходимо обучить модель классификации букв для задачи расстановки ударения с помощью методов из библиотеки transformers.\n",
    "\n",
    "1. Написать класс для Dataset/Dataloder и разбить данные на случайные train / test сплиты в соотношении 50:50. (1 балл)\n",
    "2. Попробовать обучить одну или несколько из моделей: Bert, Albert, Deberta. Посчитать метрику Accuracy на train и test. (1 балл). При преодолении порога в Accuracy на test 0.8: (+1 балл), 0.85: (+2 балла), 0.89: (+3 балла)."
   ]
  },
  {
   "cell_type": "markdown",
   "id": "4f9d83d1",
   "metadata": {
    "papermill": {
     "duration": 0.028871,
     "end_time": "2024-11-09T23:22:18.964852",
     "exception": false,
     "start_time": "2024-11-09T23:22:18.935981",
     "status": "completed"
    },
    "tags": []
   },
   "source": [
    "#### Датасет загружен, проверяем его содержимое:"
   ]
  },
  {
   "cell_type": "code",
   "execution_count": 12,
   "id": "4a36d2e3",
   "metadata": {
    "execution": {
     "iopub.execute_input": "2024-11-09T23:22:19.024308Z",
     "iopub.status.busy": "2024-11-09T23:22:19.023971Z",
     "iopub.status.idle": "2024-11-09T23:22:22.494063Z",
     "shell.execute_reply": "2024-11-09T23:22:22.493019Z"
    },
    "papermill": {
     "duration": 3.502482,
     "end_time": "2024-11-09T23:22:22.496469",
     "exception": false,
     "start_time": "2024-11-09T23:22:18.993987",
     "status": "completed"
    },
    "tags": []
   },
   "outputs": [],
   "source": [
    "accents_path = '/kaggle/input/accents-dataset/all_accents.tsv'\n",
    "accents_dataset = pd.read_csv(accents_path, sep = '\\t', header=0, encoding='utf-8', na_values='NA')"
   ]
  },
  {
   "cell_type": "code",
   "execution_count": 13,
   "id": "79bba6c2",
   "metadata": {
    "execution": {
     "iopub.execute_input": "2024-11-09T23:22:22.559086Z",
     "iopub.status.busy": "2024-11-09T23:22:22.558707Z",
     "iopub.status.idle": "2024-11-09T23:22:22.576253Z",
     "shell.execute_reply": "2024-11-09T23:22:22.575356Z"
    },
    "papermill": {
     "duration": 0.0515,
     "end_time": "2024-11-09T23:22:22.578305",
     "exception": false,
     "start_time": "2024-11-09T23:22:22.526805",
     "status": "completed"
    },
    "tags": []
   },
   "outputs": [
    {
     "data": {
      "text/html": [
       "<div>\n",
       "<style scoped>\n",
       "    .dataframe tbody tr th:only-of-type {\n",
       "        vertical-align: middle;\n",
       "    }\n",
       "\n",
       "    .dataframe tbody tr th {\n",
       "        vertical-align: top;\n",
       "    }\n",
       "\n",
       "    .dataframe thead th {\n",
       "        text-align: right;\n",
       "    }\n",
       "</style>\n",
       "<table border=\"1\" class=\"dataframe\">\n",
       "  <thead>\n",
       "    <tr style=\"text-align: right;\">\n",
       "      <th></th>\n",
       "      <th>-де</th>\n",
       "      <th>-д^е</th>\n",
       "    </tr>\n",
       "  </thead>\n",
       "  <tbody>\n",
       "    <tr>\n",
       "      <th>0</th>\n",
       "      <td>-ка</td>\n",
       "      <td>-к^а</td>\n",
       "    </tr>\n",
       "    <tr>\n",
       "      <th>1</th>\n",
       "      <td>-либо</td>\n",
       "      <td>-л^ибо</td>\n",
       "    </tr>\n",
       "    <tr>\n",
       "      <th>2</th>\n",
       "      <td>-нибудь</td>\n",
       "      <td>-ниб^удь</td>\n",
       "    </tr>\n",
       "    <tr>\n",
       "      <th>3</th>\n",
       "      <td>-с</td>\n",
       "      <td>-с</td>\n",
       "    </tr>\n",
       "    <tr>\n",
       "      <th>4</th>\n",
       "      <td>-таки</td>\n",
       "      <td>-так^и</td>\n",
       "    </tr>\n",
       "  </tbody>\n",
       "</table>\n",
       "</div>"
      ],
      "text/plain": [
       "       -де      -д^е\n",
       "0      -ка      -к^а\n",
       "1    -либо    -л^ибо\n",
       "2  -нибудь  -ниб^удь\n",
       "3       -с        -с\n",
       "4    -таки    -так^и"
      ]
     },
     "execution_count": 13,
     "metadata": {},
     "output_type": "execute_result"
    }
   ],
   "source": [
    "accents_dataset.head()"
   ]
  },
  {
   "cell_type": "markdown",
   "id": "68d3e2ca",
   "metadata": {
    "papermill": {
     "duration": 0.029248,
     "end_time": "2024-11-09T23:22:22.637468",
     "exception": false,
     "start_time": "2024-11-09T23:22:22.608220",
     "status": "completed"
    },
    "tags": []
   },
   "source": [
    "#### Немного исследований датасета:"
   ]
  },
  {
   "cell_type": "code",
   "execution_count": 14,
   "id": "339a44e1",
   "metadata": {
    "execution": {
     "iopub.execute_input": "2024-11-09T23:22:22.698393Z",
     "iopub.status.busy": "2024-11-09T23:22:22.697646Z",
     "iopub.status.idle": "2024-11-09T23:22:22.702882Z",
     "shell.execute_reply": "2024-11-09T23:22:22.701888Z"
    },
    "papermill": {
     "duration": 0.038181,
     "end_time": "2024-11-09T23:22:22.705170",
     "exception": false,
     "start_time": "2024-11-09T23:22:22.666989",
     "status": "completed"
    },
    "tags": []
   },
   "outputs": [
    {
     "name": "stdout",
     "output_type": "stream",
     "text": [
      "1680534\n"
     ]
    }
   ],
   "source": [
    "# Число примеров:\n",
    "print(accents_dataset.shape[0])"
   ]
  },
  {
   "cell_type": "code",
   "execution_count": null,
   "id": "2706ee7d",
   "metadata": {
    "execution": {
     "iopub.execute_input": "2024-11-09T23:22:22.767055Z",
     "iopub.status.busy": "2024-11-09T23:22:22.766256Z",
     "iopub.status.idle": "2024-11-09T23:22:42.674710Z",
     "shell.execute_reply": "2024-11-09T23:22:42.673767Z"
    },
    "papermill": {
     "duration": 19.94214,
     "end_time": "2024-11-09T23:22:42.677058",
     "exception": false,
     "start_time": "2024-11-09T23:22:22.734918",
     "status": "completed"
    },
    "tags": []
   },
   "outputs": [],
   "source": [
    "# Символьная длина слов\n",
    "def word_length(word):\n",
    "    '''Просто принимаем на вход слово и возвращаем его длину'''\n",
    "    return len(word)\n",
    "\n",
    "# Один символ\n",
    "def is_one_symbol(word):\n",
    "    '''Возвращаем 1, если слово имеет один символ, иначе возвращаем 0'''\n",
    "    return int(len(word) == 1)\n",
    "\n",
    "# Больше одного слова через пробел\n",
    "def more_than_one_word(word):\n",
    "    '''Возвращаем 1, если несколько слов в записи, иначе 0'''\n",
    "    splitted = word.split(' ')\n",
    "    return int(len(splitted) > 1)\n",
    "\n",
    "# Подсчет символов ударения ^:\n",
    "def count_hat(word):\n",
    "    '''Считаем количество символов ^'''\n",
    "    return len(re.findall(r'\\^', word))\n",
    "\n",
    "# Есть ли латинские буквы в слове\n",
    "def contains_latin(word):\n",
    "    '''Обрабатываем случаи наличия латинских символов (bool flag)'''\n",
    "    return int(bool(re.search(r'[a-zA-Z]', word)))\n",
    "\n",
    "# Функция для подсчета символов, которые не являются русскими буквами\n",
    "def count_non_russian(word):\n",
    "    '''Считаем количество не кириллицы'''\n",
    "    return len(re.findall(r'[a-zA-Z]', word))\n",
    "\n",
    "def letter_yo(word):\n",
    "    '''Обрабатываем случай буквы ёЁ, она всегда угарная'''\n",
    "    return int(bool(re.search(r'[ёЁ]', word)))\n",
    "\n",
    "def error_cases(word):\n",
    "    '''Обработка ошибок (ударение в слове падает на согласную букву)'''\n",
    "    pattern = r'\\^[бвгджзйклмнпрстфхцчшщБВГДЖЗЙКЛМНПРСТФХЦЧШЩ]'   \n",
    "    matches = re.findall(pattern, word)\n",
    "    return len(matches)\n",
    "\n",
    "\n",
    "accents_dataset['word_length'] = accents_dataset['-де'].map(word_length)\n",
    "accents_dataset['is_one_symbol'] = accents_dataset['-де'].map(is_one_symbol)\n",
    "accents_dataset['more_than_one_word'] = accents_dataset['-де'].map(more_than_one_word)\n",
    "accents_dataset['hat_num'] = accents_dataset['-д^е'].map(count_hat)\n",
    "accents_dataset['has_latin'] = accents_dataset['-де'].map(contains_latin)\n",
    "accents_dataset['num_non_russian'] = accents_dataset['-де'].map(count_non_russian)\n",
    "accents_dataset['error_cases'] = accents_dataset['-д^е'].map(error_cases)\n",
    "accents_dataset['is_Ёё'] = accents_dataset['-де'].map(letter_yo)"
   ]
  },
  {
   "cell_type": "code",
   "execution_count": 16,
   "id": "b4855c8e",
   "metadata": {
    "execution": {
     "iopub.execute_input": "2024-11-09T23:22:42.739101Z",
     "iopub.status.busy": "2024-11-09T23:22:42.738321Z",
     "iopub.status.idle": "2024-11-09T23:22:42.749006Z",
     "shell.execute_reply": "2024-11-09T23:22:42.747966Z"
    },
    "papermill": {
     "duration": 0.043765,
     "end_time": "2024-11-09T23:22:42.751005",
     "exception": false,
     "start_time": "2024-11-09T23:22:42.707240",
     "status": "completed"
    },
    "tags": []
   },
   "outputs": [
    {
     "name": "stdout",
     "output_type": "stream",
     "text": [
      "Максимальное число символов в слове: 56\n",
      "Среднее число символов в слове: 10.641052189363618\n"
     ]
    }
   ],
   "source": [
    "# Максимальное и среднее число символов в слове:\n",
    "word_max_length = accents_dataset['word_length'].max()\n",
    "print(f\"Максимальное число символов в слове: {word_max_length}\")\n",
    "\n",
    "# Максимальное и среднее число символов в слове:\n",
    "word_mean_length = accents_dataset['word_length'].mean()\n",
    "print(f\"Среднее число символов в слове: {word_mean_length}\")"
   ]
  },
  {
   "cell_type": "markdown",
   "id": "30c74434",
   "metadata": {
    "papermill": {
     "duration": 0.029345,
     "end_time": "2024-11-09T23:22:42.810100",
     "exception": false,
     "start_time": "2024-11-09T23:22:42.780755",
     "status": "completed"
    },
    "tags": []
   },
   "source": [
    "#### Посмотрим более пристально на ударения:"
   ]
  },
  {
   "cell_type": "code",
   "execution_count": 17,
   "id": "e6bd2609",
   "metadata": {
    "execution": {
     "iopub.execute_input": "2024-11-09T23:22:42.870981Z",
     "iopub.status.busy": "2024-11-09T23:22:42.870597Z",
     "iopub.status.idle": "2024-11-09T23:22:42.883029Z",
     "shell.execute_reply": "2024-11-09T23:22:42.882032Z"
    },
    "papermill": {
     "duration": 0.045626,
     "end_time": "2024-11-09T23:22:42.885080",
     "exception": false,
     "start_time": "2024-11-09T23:22:42.839454",
     "status": "completed"
    },
    "tags": []
   },
   "outputs": [
    {
     "name": "stdout",
     "output_type": "stream",
     "text": [
      "Максимальное число ударений в слове: 1\n",
      "Количество случаев отсутствия ударений в словах: 507\n"
     ]
    }
   ],
   "source": [
    "accents_count_max = accents_dataset['hat_num'].max()\n",
    "print(f\"Максимальное число ударений в слове: {accents_count_max}\")\n",
    "\n",
    "zero_accents_num = accents_dataset[accents_dataset['hat_num'] == 0].shape[0]\n",
    "print(f\"Количество случаев отсутствия ударений в словах: {zero_accents_num}\")"
   ]
  },
  {
   "cell_type": "markdown",
   "id": "b4edc972",
   "metadata": {
    "papermill": {
     "duration": 0.029289,
     "end_time": "2024-11-09T23:22:42.944108",
     "exception": false,
     "start_time": "2024-11-09T23:22:42.914819",
     "status": "completed"
    },
    "tags": []
   },
   "source": [
    "Ошибок нет, где у нас больше одного ударения. Однако у нас целых 507 случаев отсутствия ударений в словах:"
   ]
  },
  {
   "cell_type": "code",
   "execution_count": 18,
   "id": "bb12f65d",
   "metadata": {
    "execution": {
     "iopub.execute_input": "2024-11-09T23:22:43.009209Z",
     "iopub.status.busy": "2024-11-09T23:22:43.008361Z",
     "iopub.status.idle": "2024-11-09T23:22:43.024323Z",
     "shell.execute_reply": "2024-11-09T23:22:43.023462Z"
    },
    "papermill": {
     "duration": 0.048893,
     "end_time": "2024-11-09T23:22:43.026411",
     "exception": false,
     "start_time": "2024-11-09T23:22:42.977518",
     "status": "completed"
    },
    "tags": []
   },
   "outputs": [
    {
     "data": {
      "text/html": [
       "<div>\n",
       "<style scoped>\n",
       "    .dataframe tbody tr th:only-of-type {\n",
       "        vertical-align: middle;\n",
       "    }\n",
       "\n",
       "    .dataframe tbody tr th {\n",
       "        vertical-align: top;\n",
       "    }\n",
       "\n",
       "    .dataframe thead th {\n",
       "        text-align: right;\n",
       "    }\n",
       "</style>\n",
       "<table border=\"1\" class=\"dataframe\">\n",
       "  <thead>\n",
       "    <tr style=\"text-align: right;\">\n",
       "      <th></th>\n",
       "      <th>-де</th>\n",
       "      <th>-д^е</th>\n",
       "      <th>word_length</th>\n",
       "      <th>is_one_symbol</th>\n",
       "      <th>more_than_one_word</th>\n",
       "      <th>hat_num</th>\n",
       "      <th>has_latin</th>\n",
       "      <th>num_non_russian</th>\n",
       "      <th>error_cases</th>\n",
       "      <th>is_Ёё</th>\n",
       "    </tr>\n",
       "  </thead>\n",
       "  <tbody>\n",
       "    <tr>\n",
       "      <th>3</th>\n",
       "      <td>-с</td>\n",
       "      <td>-с</td>\n",
       "      <td>2</td>\n",
       "      <td>0</td>\n",
       "      <td>0</td>\n",
       "      <td>0</td>\n",
       "      <td>0</td>\n",
       "      <td>0</td>\n",
       "      <td>0</td>\n",
       "      <td>0</td>\n",
       "    </tr>\n",
       "    <tr>\n",
       "      <th>16107</th>\n",
       "      <td>ай</td>\n",
       "      <td>ай</td>\n",
       "      <td>2</td>\n",
       "      <td>0</td>\n",
       "      <td>0</td>\n",
       "      <td>0</td>\n",
       "      <td>0</td>\n",
       "      <td>0</td>\n",
       "      <td>0</td>\n",
       "      <td>0</td>\n",
       "    </tr>\n",
       "    <tr>\n",
       "      <th>16172</th>\n",
       "      <td>айвингхо</td>\n",
       "      <td>айвингхо</td>\n",
       "      <td>8</td>\n",
       "      <td>0</td>\n",
       "      <td>0</td>\n",
       "      <td>0</td>\n",
       "      <td>0</td>\n",
       "      <td>0</td>\n",
       "      <td>0</td>\n",
       "      <td>0</td>\n",
       "    </tr>\n",
       "    <tr>\n",
       "      <th>24766</th>\n",
       "      <td>алмондсбери</td>\n",
       "      <td>алмондсбери</td>\n",
       "      <td>11</td>\n",
       "      <td>0</td>\n",
       "      <td>0</td>\n",
       "      <td>0</td>\n",
       "      <td>0</td>\n",
       "      <td>0</td>\n",
       "      <td>0</td>\n",
       "      <td>0</td>\n",
       "    </tr>\n",
       "    <tr>\n",
       "      <th>27255</th>\n",
       "      <td>ам</td>\n",
       "      <td>ам</td>\n",
       "      <td>2</td>\n",
       "      <td>0</td>\n",
       "      <td>0</td>\n",
       "      <td>0</td>\n",
       "      <td>0</td>\n",
       "      <td>0</td>\n",
       "      <td>0</td>\n",
       "      <td>0</td>\n",
       "    </tr>\n",
       "    <tr>\n",
       "      <th>29041</th>\n",
       "      <td>амка</td>\n",
       "      <td>амка</td>\n",
       "      <td>4</td>\n",
       "      <td>0</td>\n",
       "      <td>0</td>\n",
       "      <td>0</td>\n",
       "      <td>0</td>\n",
       "      <td>0</td>\n",
       "      <td>0</td>\n",
       "      <td>0</td>\n",
       "    </tr>\n",
       "    <tr>\n",
       "      <th>35185</th>\n",
       "      <td>анка</td>\n",
       "      <td>анка</td>\n",
       "      <td>4</td>\n",
       "      <td>0</td>\n",
       "      <td>0</td>\n",
       "      <td>0</td>\n",
       "      <td>0</td>\n",
       "      <td>0</td>\n",
       "      <td>0</td>\n",
       "      <td>0</td>\n",
       "    </tr>\n",
       "    <tr>\n",
       "      <th>42254</th>\n",
       "      <td>анька</td>\n",
       "      <td>анька</td>\n",
       "      <td>5</td>\n",
       "      <td>0</td>\n",
       "      <td>0</td>\n",
       "      <td>0</td>\n",
       "      <td>0</td>\n",
       "      <td>0</td>\n",
       "      <td>0</td>\n",
       "      <td>0</td>\n",
       "    </tr>\n",
       "    <tr>\n",
       "      <th>62526</th>\n",
       "      <td>б</td>\n",
       "      <td>б</td>\n",
       "      <td>1</td>\n",
       "      <td>1</td>\n",
       "      <td>0</td>\n",
       "      <td>0</td>\n",
       "      <td>0</td>\n",
       "      <td>0</td>\n",
       "      <td>0</td>\n",
       "      <td>0</td>\n",
       "    </tr>\n",
       "    <tr>\n",
       "      <th>75305</th>\n",
       "      <td>бедерный</td>\n",
       "      <td>бедерный</td>\n",
       "      <td>8</td>\n",
       "      <td>0</td>\n",
       "      <td>0</td>\n",
       "      <td>0</td>\n",
       "      <td>0</td>\n",
       "      <td>0</td>\n",
       "      <td>0</td>\n",
       "      <td>0</td>\n",
       "    </tr>\n",
       "  </tbody>\n",
       "</table>\n",
       "</div>"
      ],
      "text/plain": [
       "               -де         -д^е  word_length  is_one_symbol  \\\n",
       "3               -с           -с            2              0   \n",
       "16107           ай           ай            2              0   \n",
       "16172     айвингхо     айвингхо            8              0   \n",
       "24766  алмондсбери  алмондсбери           11              0   \n",
       "27255           ам           ам            2              0   \n",
       "29041         амка         амка            4              0   \n",
       "35185         анка         анка            4              0   \n",
       "42254        анька        анька            5              0   \n",
       "62526            б            б            1              1   \n",
       "75305     бедерный     бедерный            8              0   \n",
       "\n",
       "       more_than_one_word  hat_num  has_latin  num_non_russian  error_cases  \\\n",
       "3                       0        0          0                0            0   \n",
       "16107                   0        0          0                0            0   \n",
       "16172                   0        0          0                0            0   \n",
       "24766                   0        0          0                0            0   \n",
       "27255                   0        0          0                0            0   \n",
       "29041                   0        0          0                0            0   \n",
       "35185                   0        0          0                0            0   \n",
       "42254                   0        0          0                0            0   \n",
       "62526                   0        0          0                0            0   \n",
       "75305                   0        0          0                0            0   \n",
       "\n",
       "       is_Ёё  \n",
       "3          0  \n",
       "16107      0  \n",
       "16172      0  \n",
       "24766      0  \n",
       "27255      0  \n",
       "29041      0  \n",
       "35185      0  \n",
       "42254      0  \n",
       "62526      0  \n",
       "75305      0  "
      ]
     },
     "execution_count": 18,
     "metadata": {},
     "output_type": "execute_result"
    }
   ],
   "source": [
    "accents_dataset[accents_dataset['hat_num'] == 0].head(10)"
   ]
  },
  {
   "cell_type": "markdown",
   "id": "7b0ad346",
   "metadata": {
    "papermill": {
     "duration": 0.029976,
     "end_time": "2024-11-09T23:22:43.086571",
     "exception": false,
     "start_time": "2024-11-09T23:22:43.056595",
     "status": "completed"
    },
    "tags": []
   },
   "source": [
    "Возможно, это ошибка разметки или какие-то части слов. Но где-то это справедливо ввиду отсутствия гласных букв в словах. Подобные сэмплы могут запутать модель, но их количество в целом и незначительно в сравнении с общим числов сэмплов в обучении."
   ]
  },
  {
   "cell_type": "markdown",
   "id": "7d831df4",
   "metadata": {
    "papermill": {
     "duration": 0.038672,
     "end_time": "2024-11-09T23:22:43.158829",
     "exception": false,
     "start_time": "2024-11-09T23:22:43.120157",
     "status": "completed"
    },
    "tags": []
   },
   "source": [
    "#### Нерусская раскладка:"
   ]
  },
  {
   "cell_type": "code",
   "execution_count": 19,
   "id": "cd85658d",
   "metadata": {
    "execution": {
     "iopub.execute_input": "2024-11-09T23:22:43.223550Z",
     "iopub.status.busy": "2024-11-09T23:22:43.222799Z",
     "iopub.status.idle": "2024-11-09T23:22:43.232870Z",
     "shell.execute_reply": "2024-11-09T23:22:43.231770Z"
    },
    "papermill": {
     "duration": 0.043076,
     "end_time": "2024-11-09T23:22:43.235019",
     "exception": false,
     "start_time": "2024-11-09T23:22:43.191943",
     "status": "completed"
    },
    "tags": []
   },
   "outputs": [
    {
     "name": "stdout",
     "output_type": "stream",
     "text": [
      "Максимальное число нерусских символов в слове: 2\n",
      "Количество сэмплов, где число нерусских символов больше 0: 14\n"
     ]
    }
   ],
   "source": [
    "accents_count_latin_max = accents_dataset['num_non_russian'].max()\n",
    "print(f\"Максимальное число нерусских символов в слове: {accents_count_latin_max}\")\n",
    "\n",
    "accents_count_latin = accents_dataset[accents_dataset['num_non_russian'] > 0].shape[0]\n",
    "print(f\"Количество сэмплов, где число нерусских символов больше 0: {accents_count_latin}\")"
   ]
  },
  {
   "cell_type": "code",
   "execution_count": 20,
   "id": "f45fcc6b",
   "metadata": {
    "execution": {
     "iopub.execute_input": "2024-11-09T23:22:43.297728Z",
     "iopub.status.busy": "2024-11-09T23:22:43.297378Z",
     "iopub.status.idle": "2024-11-09T23:22:43.313905Z",
     "shell.execute_reply": "2024-11-09T23:22:43.312907Z"
    },
    "papermill": {
     "duration": 0.050587,
     "end_time": "2024-11-09T23:22:43.315922",
     "exception": false,
     "start_time": "2024-11-09T23:22:43.265335",
     "status": "completed"
    },
    "tags": []
   },
   "outputs": [
    {
     "data": {
      "text/html": [
       "<div>\n",
       "<style scoped>\n",
       "    .dataframe tbody tr th:only-of-type {\n",
       "        vertical-align: middle;\n",
       "    }\n",
       "\n",
       "    .dataframe tbody tr th {\n",
       "        vertical-align: top;\n",
       "    }\n",
       "\n",
       "    .dataframe thead th {\n",
       "        text-align: right;\n",
       "    }\n",
       "</style>\n",
       "<table border=\"1\" class=\"dataframe\">\n",
       "  <thead>\n",
       "    <tr style=\"text-align: right;\">\n",
       "      <th></th>\n",
       "      <th>-де</th>\n",
       "      <th>-д^е</th>\n",
       "      <th>word_length</th>\n",
       "      <th>is_one_symbol</th>\n",
       "      <th>more_than_one_word</th>\n",
       "      <th>hat_num</th>\n",
       "      <th>has_latin</th>\n",
       "      <th>num_non_russian</th>\n",
       "      <th>error_cases</th>\n",
       "      <th>is_Ёё</th>\n",
       "    </tr>\n",
       "  </thead>\n",
       "  <tbody>\n",
       "    <tr>\n",
       "      <th>116704</th>\n",
       "      <td>буhалтер</td>\n",
       "      <td>буh^алтер</td>\n",
       "      <td>8</td>\n",
       "      <td>0</td>\n",
       "      <td>0</td>\n",
       "      <td>1</td>\n",
       "      <td>1</td>\n",
       "      <td>1</td>\n",
       "      <td>0</td>\n",
       "      <td>0</td>\n",
       "    </tr>\n",
       "    <tr>\n",
       "      <th>116705</th>\n",
       "      <td>буhалтер-калькулятор</td>\n",
       "      <td>буh^алтер-калькулятор</td>\n",
       "      <td>20</td>\n",
       "      <td>0</td>\n",
       "      <td>0</td>\n",
       "      <td>1</td>\n",
       "      <td>1</td>\n",
       "      <td>1</td>\n",
       "      <td>0</td>\n",
       "      <td>0</td>\n",
       "    </tr>\n",
       "    <tr>\n",
       "      <th>116706</th>\n",
       "      <td>буhалтер-ревизор</td>\n",
       "      <td>буh^алтер-ревизор</td>\n",
       "      <td>16</td>\n",
       "      <td>0</td>\n",
       "      <td>0</td>\n",
       "      <td>1</td>\n",
       "      <td>1</td>\n",
       "      <td>1</td>\n",
       "      <td>0</td>\n",
       "      <td>0</td>\n",
       "    </tr>\n",
       "    <tr>\n",
       "      <th>116707</th>\n",
       "      <td>буhалтерия</td>\n",
       "      <td>буhалт^ерия</td>\n",
       "      <td>10</td>\n",
       "      <td>0</td>\n",
       "      <td>0</td>\n",
       "      <td>1</td>\n",
       "      <td>1</td>\n",
       "      <td>1</td>\n",
       "      <td>0</td>\n",
       "      <td>0</td>\n",
       "    </tr>\n",
       "    <tr>\n",
       "      <th>116708</th>\n",
       "      <td>буhалтерски</td>\n",
       "      <td>буh^алтерски</td>\n",
       "      <td>11</td>\n",
       "      <td>0</td>\n",
       "      <td>0</td>\n",
       "      <td>1</td>\n",
       "      <td>1</td>\n",
       "      <td>1</td>\n",
       "      <td>0</td>\n",
       "      <td>0</td>\n",
       "    </tr>\n",
       "    <tr>\n",
       "      <th>116709</th>\n",
       "      <td>буhалтерский</td>\n",
       "      <td>буh^алтерский</td>\n",
       "      <td>12</td>\n",
       "      <td>0</td>\n",
       "      <td>0</td>\n",
       "      <td>1</td>\n",
       "      <td>1</td>\n",
       "      <td>1</td>\n",
       "      <td>0</td>\n",
       "      <td>0</td>\n",
       "    </tr>\n",
       "    <tr>\n",
       "      <th>116710</th>\n",
       "      <td>буhалтерша</td>\n",
       "      <td>буh^алтерша</td>\n",
       "      <td>10</td>\n",
       "      <td>0</td>\n",
       "      <td>0</td>\n",
       "      <td>1</td>\n",
       "      <td>1</td>\n",
       "      <td>1</td>\n",
       "      <td>0</td>\n",
       "      <td>0</td>\n",
       "    </tr>\n",
       "    <tr>\n",
       "      <th>620314</th>\n",
       "      <td>лимасcольский</td>\n",
       "      <td>лимасc^ольский</td>\n",
       "      <td>13</td>\n",
       "      <td>0</td>\n",
       "      <td>0</td>\n",
       "      <td>1</td>\n",
       "      <td>1</td>\n",
       "      <td>1</td>\n",
       "      <td>0</td>\n",
       "      <td>0</td>\n",
       "    </tr>\n",
       "    <tr>\n",
       "      <th>1018887</th>\n",
       "      <td>по-буhалтерски</td>\n",
       "      <td>по-буh^алтерски</td>\n",
       "      <td>14</td>\n",
       "      <td>0</td>\n",
       "      <td>0</td>\n",
       "      <td>1</td>\n",
       "      <td>1</td>\n",
       "      <td>1</td>\n",
       "      <td>0</td>\n",
       "      <td>0</td>\n",
       "    </tr>\n",
       "    <tr>\n",
       "      <th>1133176</th>\n",
       "      <td>прдjети</td>\n",
       "      <td>прдjети</td>\n",
       "      <td>7</td>\n",
       "      <td>0</td>\n",
       "      <td>0</td>\n",
       "      <td>0</td>\n",
       "      <td>1</td>\n",
       "      <td>1</td>\n",
       "      <td>0</td>\n",
       "      <td>0</td>\n",
       "    </tr>\n",
       "    <tr>\n",
       "      <th>1237738</th>\n",
       "      <td>психолоgо-педагогический</td>\n",
       "      <td>психолоgо-педагог^ический</td>\n",
       "      <td>24</td>\n",
       "      <td>0</td>\n",
       "      <td>0</td>\n",
       "      <td>1</td>\n",
       "      <td>1</td>\n",
       "      <td>1</td>\n",
       "      <td>0</td>\n",
       "      <td>0</td>\n",
       "    </tr>\n",
       "    <tr>\n",
       "      <th>1653222</th>\n",
       "      <td>э-hѐ-hе</td>\n",
       "      <td>э-hѐ-h^е</td>\n",
       "      <td>7</td>\n",
       "      <td>0</td>\n",
       "      <td>0</td>\n",
       "      <td>1</td>\n",
       "      <td>1</td>\n",
       "      <td>2</td>\n",
       "      <td>0</td>\n",
       "      <td>0</td>\n",
       "    </tr>\n",
       "    <tr>\n",
       "      <th>1653226</th>\n",
       "      <td>эhей</td>\n",
       "      <td>эh^ей</td>\n",
       "      <td>4</td>\n",
       "      <td>0</td>\n",
       "      <td>0</td>\n",
       "      <td>1</td>\n",
       "      <td>1</td>\n",
       "      <td>1</td>\n",
       "      <td>0</td>\n",
       "      <td>0</td>\n",
       "    </tr>\n",
       "    <tr>\n",
       "      <th>1680522</th>\n",
       "      <td>ѐй-боhу</td>\n",
       "      <td>ѐй-б^оhу</td>\n",
       "      <td>7</td>\n",
       "      <td>0</td>\n",
       "      <td>0</td>\n",
       "      <td>1</td>\n",
       "      <td>1</td>\n",
       "      <td>1</td>\n",
       "      <td>0</td>\n",
       "      <td>0</td>\n",
       "    </tr>\n",
       "  </tbody>\n",
       "</table>\n",
       "</div>"
      ],
      "text/plain": [
       "                              -де                       -д^е  word_length  \\\n",
       "116704                   буhалтер                  буh^алтер            8   \n",
       "116705       буhалтер-калькулятор      буh^алтер-калькулятор           20   \n",
       "116706           буhалтер-ревизор          буh^алтер-ревизор           16   \n",
       "116707                 буhалтерия                буhалт^ерия           10   \n",
       "116708                буhалтерски               буh^алтерски           11   \n",
       "116709               буhалтерский              буh^алтерский           12   \n",
       "116710                 буhалтерша                буh^алтерша           10   \n",
       "620314              лимасcольский             лимасc^ольский           13   \n",
       "1018887            по-буhалтерски            по-буh^алтерски           14   \n",
       "1133176                   прдjети                    прдjети            7   \n",
       "1237738  психолоgо-педагогический  психолоgо-педагог^ический           24   \n",
       "1653222                   э-hѐ-hе                   э-hѐ-h^е            7   \n",
       "1653226                      эhей                      эh^ей            4   \n",
       "1680522                   ѐй-боhу                   ѐй-б^оhу            7   \n",
       "\n",
       "         is_one_symbol  more_than_one_word  hat_num  has_latin  \\\n",
       "116704               0                   0        1          1   \n",
       "116705               0                   0        1          1   \n",
       "116706               0                   0        1          1   \n",
       "116707               0                   0        1          1   \n",
       "116708               0                   0        1          1   \n",
       "116709               0                   0        1          1   \n",
       "116710               0                   0        1          1   \n",
       "620314               0                   0        1          1   \n",
       "1018887              0                   0        1          1   \n",
       "1133176              0                   0        0          1   \n",
       "1237738              0                   0        1          1   \n",
       "1653222              0                   0        1          1   \n",
       "1653226              0                   0        1          1   \n",
       "1680522              0                   0        1          1   \n",
       "\n",
       "         num_non_russian  error_cases  is_Ёё  \n",
       "116704                 1            0      0  \n",
       "116705                 1            0      0  \n",
       "116706                 1            0      0  \n",
       "116707                 1            0      0  \n",
       "116708                 1            0      0  \n",
       "116709                 1            0      0  \n",
       "116710                 1            0      0  \n",
       "620314                 1            0      0  \n",
       "1018887                1            0      0  \n",
       "1133176                1            0      0  \n",
       "1237738                1            0      0  \n",
       "1653222                2            0      0  \n",
       "1653226                1            0      0  \n",
       "1680522                1            0      0  "
      ]
     },
     "execution_count": 20,
     "metadata": {},
     "output_type": "execute_result"
    }
   ],
   "source": [
    "accents_dataset[accents_dataset['num_non_russian'] > 0]"
   ]
  },
  {
   "cell_type": "markdown",
   "id": "23e34b30",
   "metadata": {
    "papermill": {
     "duration": 0.029978,
     "end_time": "2024-11-09T23:22:43.376155",
     "exception": false,
     "start_time": "2024-11-09T23:22:43.346177",
     "status": "completed"
    },
    "tags": []
   },
   "source": [
    "Что ж, есть и такие сэмплы, но благо их тоже не очень-то и много."
   ]
  },
  {
   "cell_type": "markdown",
   "id": "2595c1e8",
   "metadata": {
    "papermill": {
     "duration": 0.030347,
     "end_time": "2024-11-09T23:22:43.436686",
     "exception": false,
     "start_time": "2024-11-09T23:22:43.406339",
     "status": "completed"
    },
    "tags": []
   },
   "source": [
    "#### Посмотрим на распределения слов по выделенным параметрам:"
   ]
  },
  {
   "cell_type": "code",
   "execution_count": 21,
   "id": "d436727b",
   "metadata": {
    "execution": {
     "iopub.execute_input": "2024-11-09T23:22:43.499336Z",
     "iopub.status.busy": "2024-11-09T23:22:43.498482Z",
     "iopub.status.idle": "2024-11-09T23:22:44.188428Z",
     "shell.execute_reply": "2024-11-09T23:22:44.187486Z"
    },
    "papermill": {
     "duration": 0.723584,
     "end_time": "2024-11-09T23:22:44.190607",
     "exception": false,
     "start_time": "2024-11-09T23:22:43.467023",
     "status": "completed"
    },
    "tags": []
   },
   "outputs": [
    {
     "data": {
      "image/png": "[encoded data removed]",
      "text/plain": [
       "<Figure size 1500x500 with 2 Axes>"
      ]
     },
     "metadata": {},
     "output_type": "display_data"
    }
   ],
   "source": [
    "fig, axs = plt.subplots(1, 2, figsize=(15, 5))\n",
    "\n",
    "axs[0].hist(accents_dataset['word_length'], color='skyblue')\n",
    "axs[0].set_title('Гистограмма длины слов')\n",
    "axs[1].hist(accents_dataset['num_non_russian'], color='salmon')\n",
    "axs[1].set_title('Гистограмма количества нерусских символов')\n",
    "for ax in axs:\n",
    "    ax.set_xlabel('Значения')\n",
    "    ax.set_ylabel('Категории')\n",
    "\n",
    "plt.tight_layout()\n",
    "plt.show()"
   ]
  },
  {
   "cell_type": "code",
   "execution_count": 22,
   "id": "869fa3b0",
   "metadata": {
    "execution": {
     "iopub.execute_input": "2024-11-09T23:22:44.254554Z",
     "iopub.status.busy": "2024-11-09T23:22:44.254175Z",
     "iopub.status.idle": "2024-11-09T23:22:44.281450Z",
     "shell.execute_reply": "2024-11-09T23:22:44.278831Z"
    },
    "papermill": {
     "duration": 0.061751,
     "end_time": "2024-11-09T23:22:44.283762",
     "exception": false,
     "start_time": "2024-11-09T23:22:44.222011",
     "status": "completed"
    },
    "tags": []
   },
   "outputs": [
    {
     "name": "stdout",
     "output_type": "stream",
     "text": [
      "95-квантиль: 16.0\n"
     ]
    }
   ],
   "source": [
    "print(f\"95-квантиль: {np.quantile(accents_dataset['word_length'].values, q = 0.95)}\")"
   ]
  },
  {
   "cell_type": "code",
   "execution_count": 23,
   "id": "a2b84fa2",
   "metadata": {
    "execution": {
     "iopub.execute_input": "2024-11-09T23:22:44.348552Z",
     "iopub.status.busy": "2024-11-09T23:22:44.348152Z",
     "iopub.status.idle": "2024-11-09T23:22:44.358446Z",
     "shell.execute_reply": "2024-11-09T23:22:44.357578Z"
    },
    "papermill": {
     "duration": 0.044975,
     "end_time": "2024-11-09T23:22:44.360817",
     "exception": false,
     "start_time": "2024-11-09T23:22:44.315842",
     "status": "completed"
    },
    "tags": []
   },
   "outputs": [
    {
     "data": {
      "text/plain": [
       "4477"
      ]
     },
     "execution_count": 23,
     "metadata": {},
     "output_type": "execute_result"
    }
   ],
   "source": [
    "len(accents_dataset[accents_dataset['word_length'] > 20])"
   ]
  },
  {
   "cell_type": "markdown",
   "id": "a4cb03c3",
   "metadata": {
    "papermill": {
     "duration": 0.030897,
     "end_time": "2024-11-09T23:22:44.424778",
     "exception": false,
     "start_time": "2024-11-09T23:22:44.393881",
     "status": "completed"
    },
    "tags": []
   },
   "source": [
    "Думаю 4500 длинных слов можно отбросить"
   ]
  },
  {
   "cell_type": "code",
   "execution_count": 24,
   "id": "f4c17814",
   "metadata": {
    "execution": {
     "iopub.execute_input": "2024-11-09T23:22:44.488797Z",
     "iopub.status.busy": "2024-11-09T23:22:44.488137Z",
     "iopub.status.idle": "2024-11-09T23:22:44.646542Z",
     "shell.execute_reply": "2024-11-09T23:22:44.645749Z"
    },
    "papermill": {
     "duration": 0.193143,
     "end_time": "2024-11-09T23:22:44.648995",
     "exception": false,
     "start_time": "2024-11-09T23:22:44.455852",
     "status": "completed"
    },
    "tags": []
   },
   "outputs": [],
   "source": [
    "accents_dataset = accents_dataset[accents_dataset['word_length'] < 20]"
   ]
  },
  {
   "cell_type": "markdown",
   "id": "972f8d73",
   "metadata": {
    "papermill": {
     "duration": 0.030851,
     "end_time": "2024-11-09T23:22:44.711308",
     "exception": false,
     "start_time": "2024-11-09T23:22:44.680457",
     "status": "completed"
    },
    "tags": []
   },
   "source": [
    "Итак, предварительный анализ показывает, что существуют особые сэмплы, которые могут повлиять на обобщающую способность модели. Однако их количество не такое уж и большое и, в целом, такие примеры как одна согласная могут быть довольно-таки полезными. По необходимости, отфильтруем данные позже.\n",
    "\n",
    "Как вариант иностранные символы из латинской раскладки можно заменить транслитерацией на русские символы или, например, неизвестные символы (отличающиеся от \"-\") вообще убрать или заменить на другой символ. "
   ]
  },
  {
   "cell_type": "markdown",
   "id": "c518006b",
   "metadata": {
    "papermill": {
     "duration": 0.030786,
     "end_time": "2024-11-09T23:22:44.773003",
     "exception": false,
     "start_time": "2024-11-09T23:22:44.742217",
     "status": "completed"
    },
    "tags": []
   },
   "source": [
    "#### Еще хочется посмотреть, есть ли сэмплы, в которых случайно расставлены ударения на согласную букву и сэмплы, содержащие букву ёЁ, чтобы не учить модель на них:"
   ]
  },
  {
   "cell_type": "code",
   "execution_count": 25,
   "id": "5786b3c7",
   "metadata": {
    "execution": {
     "iopub.execute_input": "2024-11-09T23:22:44.837553Z",
     "iopub.status.busy": "2024-11-09T23:22:44.836915Z",
     "iopub.status.idle": "2024-11-09T23:22:44.847017Z",
     "shell.execute_reply": "2024-11-09T23:22:44.845993Z"
    },
    "papermill": {
     "duration": 0.044695,
     "end_time": "2024-11-09T23:22:44.849191",
     "exception": false,
     "start_time": "2024-11-09T23:22:44.804496",
     "status": "completed"
    },
    "tags": []
   },
   "outputs": [
    {
     "name": "stdout",
     "output_type": "stream",
     "text": [
      "Количество сэмплов с буквой Ёё: 0\n",
      "Количество сэмплов с ударениям на согласную: 0\n"
     ]
    }
   ],
   "source": [
    "print(f\"Количество сэмплов с буквой Ёё: {accents_dataset[accents_dataset['is_Ёё'] != 0].shape[0]}\")\n",
    "\n",
    "print(f\"Количество сэмплов с ударениям на согласную: {accents_dataset[accents_dataset['error_cases'] != 0].shape[0]}\")"
   ]
  },
  {
   "cell_type": "markdown",
   "id": "72e0d376",
   "metadata": {
    "papermill": {
     "duration": 0.031159,
     "end_time": "2024-11-09T23:22:44.914993",
     "exception": false,
     "start_time": "2024-11-09T23:22:44.883834",
     "status": "completed"
    },
    "tags": []
   },
   "source": [
    "Итак, букв Ёё и ошибок с ударением на согласную нет."
   ]
  },
  {
   "cell_type": "markdown",
   "id": "9f1a6da4",
   "metadata": {
    "papermill": {
     "duration": 0.030946,
     "end_time": "2024-11-09T23:22:44.976881",
     "exception": false,
     "start_time": "2024-11-09T23:22:44.945935",
     "status": "completed"
    },
    "tags": []
   },
   "source": [
    "#### Всё же попробуем заменит английские символы транслитерацией:"
   ]
  },
  {
   "cell_type": "code",
   "execution_count": null,
   "id": "93fbf54e",
   "metadata": {
    "execution": {
     "iopub.execute_input": "2024-11-09T23:22:45.040501Z",
     "iopub.status.busy": "2024-11-09T23:22:45.039858Z",
     "iopub.status.idle": "2024-11-09T23:22:50.101638Z",
     "shell.execute_reply": "2024-11-09T23:22:50.100587Z"
    },
    "papermill": {
     "duration": 5.096304,
     "end_time": "2024-11-09T23:22:50.104086",
     "exception": false,
     "start_time": "2024-11-09T23:22:45.007782",
     "status": "completed"
    },
    "tags": []
   },
   "outputs": [],
   "source": [
    "latin_to_russian_needed = {\n",
    "    'c': 'с', 'h': 'г', 'j': 'ъ', 'g': 'г'\n",
    "}\n",
    "\n",
    "def transliterate(text):\n",
    "    '''Делаем транслитерацию найденных латинских букв и символов'''\n",
    "    return ''.join(latin_to_russian_needed.get(char, char) for char in text)\n",
    "\n",
    "accents_dataset['words_upd'] = accents_dataset['-де'].map(transliterate)"
   ]
  },
  {
   "cell_type": "code",
   "execution_count": 27,
   "id": "2b5e9dbc",
   "metadata": {
    "execution": {
     "iopub.execute_input": "2024-11-09T23:22:50.168541Z",
     "iopub.status.busy": "2024-11-09T23:22:50.168190Z",
     "iopub.status.idle": "2024-11-09T23:22:50.184858Z",
     "shell.execute_reply": "2024-11-09T23:22:50.183828Z"
    },
    "papermill": {
     "duration": 0.051109,
     "end_time": "2024-11-09T23:22:50.186919",
     "exception": false,
     "start_time": "2024-11-09T23:22:50.135810",
     "status": "completed"
    },
    "tags": []
   },
   "outputs": [
    {
     "data": {
      "text/html": [
       "<div>\n",
       "<style scoped>\n",
       "    .dataframe tbody tr th:only-of-type {\n",
       "        vertical-align: middle;\n",
       "    }\n",
       "\n",
       "    .dataframe tbody tr th {\n",
       "        vertical-align: top;\n",
       "    }\n",
       "\n",
       "    .dataframe thead th {\n",
       "        text-align: right;\n",
       "    }\n",
       "</style>\n",
       "<table border=\"1\" class=\"dataframe\">\n",
       "  <thead>\n",
       "    <tr style=\"text-align: right;\">\n",
       "      <th></th>\n",
       "      <th>-де</th>\n",
       "      <th>-д^е</th>\n",
       "      <th>word_length</th>\n",
       "      <th>is_one_symbol</th>\n",
       "      <th>more_than_one_word</th>\n",
       "      <th>hat_num</th>\n",
       "      <th>has_latin</th>\n",
       "      <th>num_non_russian</th>\n",
       "      <th>error_cases</th>\n",
       "      <th>is_Ёё</th>\n",
       "      <th>words_upd</th>\n",
       "    </tr>\n",
       "  </thead>\n",
       "  <tbody>\n",
       "    <tr>\n",
       "      <th>116704</th>\n",
       "      <td>буhалтер</td>\n",
       "      <td>буh^алтер</td>\n",
       "      <td>8</td>\n",
       "      <td>0</td>\n",
       "      <td>0</td>\n",
       "      <td>1</td>\n",
       "      <td>1</td>\n",
       "      <td>1</td>\n",
       "      <td>0</td>\n",
       "      <td>0</td>\n",
       "      <td>бугалтер</td>\n",
       "    </tr>\n",
       "    <tr>\n",
       "      <th>116706</th>\n",
       "      <td>буhалтер-ревизор</td>\n",
       "      <td>буh^алтер-ревизор</td>\n",
       "      <td>16</td>\n",
       "      <td>0</td>\n",
       "      <td>0</td>\n",
       "      <td>1</td>\n",
       "      <td>1</td>\n",
       "      <td>1</td>\n",
       "      <td>0</td>\n",
       "      <td>0</td>\n",
       "      <td>бугалтер-ревизор</td>\n",
       "    </tr>\n",
       "    <tr>\n",
       "      <th>116707</th>\n",
       "      <td>буhалтерия</td>\n",
       "      <td>буhалт^ерия</td>\n",
       "      <td>10</td>\n",
       "      <td>0</td>\n",
       "      <td>0</td>\n",
       "      <td>1</td>\n",
       "      <td>1</td>\n",
       "      <td>1</td>\n",
       "      <td>0</td>\n",
       "      <td>0</td>\n",
       "      <td>бугалтерия</td>\n",
       "    </tr>\n",
       "    <tr>\n",
       "      <th>116708</th>\n",
       "      <td>буhалтерски</td>\n",
       "      <td>буh^алтерски</td>\n",
       "      <td>11</td>\n",
       "      <td>0</td>\n",
       "      <td>0</td>\n",
       "      <td>1</td>\n",
       "      <td>1</td>\n",
       "      <td>1</td>\n",
       "      <td>0</td>\n",
       "      <td>0</td>\n",
       "      <td>бугалтерски</td>\n",
       "    </tr>\n",
       "    <tr>\n",
       "      <th>116709</th>\n",
       "      <td>буhалтерский</td>\n",
       "      <td>буh^алтерский</td>\n",
       "      <td>12</td>\n",
       "      <td>0</td>\n",
       "      <td>0</td>\n",
       "      <td>1</td>\n",
       "      <td>1</td>\n",
       "      <td>1</td>\n",
       "      <td>0</td>\n",
       "      <td>0</td>\n",
       "      <td>бугалтерский</td>\n",
       "    </tr>\n",
       "  </tbody>\n",
       "</table>\n",
       "</div>"
      ],
      "text/plain": [
       "                     -де               -д^е  word_length  is_one_symbol  \\\n",
       "116704          буhалтер          буh^алтер            8              0   \n",
       "116706  буhалтер-ревизор  буh^алтер-ревизор           16              0   \n",
       "116707        буhалтерия        буhалт^ерия           10              0   \n",
       "116708       буhалтерски       буh^алтерски           11              0   \n",
       "116709      буhалтерский      буh^алтерский           12              0   \n",
       "\n",
       "        more_than_one_word  hat_num  has_latin  num_non_russian  error_cases  \\\n",
       "116704                   0        1          1                1            0   \n",
       "116706                   0        1          1                1            0   \n",
       "116707                   0        1          1                1            0   \n",
       "116708                   0        1          1                1            0   \n",
       "116709                   0        1          1                1            0   \n",
       "\n",
       "        is_Ёё         words_upd  \n",
       "116704      0          бугалтер  \n",
       "116706      0  бугалтер-ревизор  \n",
       "116707      0        бугалтерия  \n",
       "116708      0       бугалтерски  \n",
       "116709      0      бугалтерский  "
      ]
     },
     "execution_count": 27,
     "metadata": {},
     "output_type": "execute_result"
    }
   ],
   "source": [
    "accents_dataset[accents_dataset['num_non_russian'] > 0].head()"
   ]
  },
  {
   "cell_type": "markdown",
   "id": "a4256d12",
   "metadata": {
    "papermill": {
     "duration": 0.031156,
     "end_time": "2024-11-09T23:22:50.249596",
     "exception": false,
     "start_time": "2024-11-09T23:22:50.218440",
     "status": "completed"
    },
    "tags": []
   },
   "source": [
    "#### Уберем, где нет ударений:"
   ]
  },
  {
   "cell_type": "code",
   "execution_count": 28,
   "id": "5b3eaaa7",
   "metadata": {
    "execution": {
     "iopub.execute_input": "2024-11-09T23:22:50.314965Z",
     "iopub.status.busy": "2024-11-09T23:22:50.314557Z",
     "iopub.status.idle": "2024-11-09T23:22:50.526191Z",
     "shell.execute_reply": "2024-11-09T23:22:50.525302Z"
    },
    "papermill": {
     "duration": 0.247704,
     "end_time": "2024-11-09T23:22:50.528599",
     "exception": false,
     "start_time": "2024-11-09T23:22:50.280895",
     "status": "completed"
    },
    "tags": []
   },
   "outputs": [],
   "source": [
    "accents_dataset = accents_dataset[accents_dataset['hat_num'] > 0]"
   ]
  },
  {
   "cell_type": "markdown",
   "id": "9f456b33",
   "metadata": {
    "papermill": {
     "duration": 0.031214,
     "end_time": "2024-11-09T23:22:50.591721",
     "exception": false,
     "start_time": "2024-11-09T23:22:50.560507",
     "status": "completed"
    },
    "tags": []
   },
   "source": [
    "#### Итоговый датасет после некоторых преобразований:"
   ]
  },
  {
   "cell_type": "code",
   "execution_count": 29,
   "id": "0f3335ac",
   "metadata": {
    "execution": {
     "iopub.execute_input": "2024-11-09T23:22:50.656055Z",
     "iopub.status.busy": "2024-11-09T23:22:50.655129Z",
     "iopub.status.idle": "2024-11-09T23:22:50.661337Z",
     "shell.execute_reply": "2024-11-09T23:22:50.660463Z"
    },
    "papermill": {
     "duration": 0.040356,
     "end_time": "2024-11-09T23:22:50.663242",
     "exception": false,
     "start_time": "2024-11-09T23:22:50.622886",
     "status": "completed"
    },
    "tags": []
   },
   "outputs": [
    {
     "data": {
      "text/plain": [
       "(1671254, 11)"
      ]
     },
     "execution_count": 29,
     "metadata": {},
     "output_type": "execute_result"
    }
   ],
   "source": [
    "accents_dataset.shape"
   ]
  },
  {
   "cell_type": "code",
   "execution_count": 30,
   "id": "e7bd637e",
   "metadata": {
    "execution": {
     "iopub.execute_input": "2024-11-09T23:22:50.727116Z",
     "iopub.status.busy": "2024-11-09T23:22:50.726788Z",
     "iopub.status.idle": "2024-11-09T23:22:50.740943Z",
     "shell.execute_reply": "2024-11-09T23:22:50.740063Z"
    },
    "papermill": {
     "duration": 0.048405,
     "end_time": "2024-11-09T23:22:50.742935",
     "exception": false,
     "start_time": "2024-11-09T23:22:50.694530",
     "status": "completed"
    },
    "tags": []
   },
   "outputs": [
    {
     "data": {
      "text/html": [
       "<div>\n",
       "<style scoped>\n",
       "    .dataframe tbody tr th:only-of-type {\n",
       "        vertical-align: middle;\n",
       "    }\n",
       "\n",
       "    .dataframe tbody tr th {\n",
       "        vertical-align: top;\n",
       "    }\n",
       "\n",
       "    .dataframe thead th {\n",
       "        text-align: right;\n",
       "    }\n",
       "</style>\n",
       "<table border=\"1\" class=\"dataframe\">\n",
       "  <thead>\n",
       "    <tr style=\"text-align: right;\">\n",
       "      <th></th>\n",
       "      <th>-де</th>\n",
       "      <th>-д^е</th>\n",
       "      <th>word_length</th>\n",
       "      <th>is_one_symbol</th>\n",
       "      <th>more_than_one_word</th>\n",
       "      <th>hat_num</th>\n",
       "      <th>has_latin</th>\n",
       "      <th>num_non_russian</th>\n",
       "      <th>error_cases</th>\n",
       "      <th>is_Ёё</th>\n",
       "      <th>words_upd</th>\n",
       "    </tr>\n",
       "  </thead>\n",
       "  <tbody>\n",
       "    <tr>\n",
       "      <th>0</th>\n",
       "      <td>-ка</td>\n",
       "      <td>-к^а</td>\n",
       "      <td>3</td>\n",
       "      <td>0</td>\n",
       "      <td>0</td>\n",
       "      <td>1</td>\n",
       "      <td>0</td>\n",
       "      <td>0</td>\n",
       "      <td>0</td>\n",
       "      <td>0</td>\n",
       "      <td>-ка</td>\n",
       "    </tr>\n",
       "    <tr>\n",
       "      <th>1</th>\n",
       "      <td>-либо</td>\n",
       "      <td>-л^ибо</td>\n",
       "      <td>5</td>\n",
       "      <td>0</td>\n",
       "      <td>0</td>\n",
       "      <td>1</td>\n",
       "      <td>0</td>\n",
       "      <td>0</td>\n",
       "      <td>0</td>\n",
       "      <td>0</td>\n",
       "      <td>-либо</td>\n",
       "    </tr>\n",
       "    <tr>\n",
       "      <th>2</th>\n",
       "      <td>-нибудь</td>\n",
       "      <td>-ниб^удь</td>\n",
       "      <td>7</td>\n",
       "      <td>0</td>\n",
       "      <td>0</td>\n",
       "      <td>1</td>\n",
       "      <td>0</td>\n",
       "      <td>0</td>\n",
       "      <td>0</td>\n",
       "      <td>0</td>\n",
       "      <td>-нибудь</td>\n",
       "    </tr>\n",
       "    <tr>\n",
       "      <th>4</th>\n",
       "      <td>-таки</td>\n",
       "      <td>-так^и</td>\n",
       "      <td>5</td>\n",
       "      <td>0</td>\n",
       "      <td>0</td>\n",
       "      <td>1</td>\n",
       "      <td>0</td>\n",
       "      <td>0</td>\n",
       "      <td>0</td>\n",
       "      <td>0</td>\n",
       "      <td>-таки</td>\n",
       "    </tr>\n",
       "    <tr>\n",
       "      <th>5</th>\n",
       "      <td>-то</td>\n",
       "      <td>-т^о</td>\n",
       "      <td>3</td>\n",
       "      <td>0</td>\n",
       "      <td>0</td>\n",
       "      <td>1</td>\n",
       "      <td>0</td>\n",
       "      <td>0</td>\n",
       "      <td>0</td>\n",
       "      <td>0</td>\n",
       "      <td>-то</td>\n",
       "    </tr>\n",
       "    <tr>\n",
       "      <th>6</th>\n",
       "      <td>­вычеркнуть</td>\n",
       "      <td>­в^ычеркнуть</td>\n",
       "      <td>11</td>\n",
       "      <td>0</td>\n",
       "      <td>0</td>\n",
       "      <td>1</td>\n",
       "      <td>0</td>\n",
       "      <td>0</td>\n",
       "      <td>0</td>\n",
       "      <td>0</td>\n",
       "      <td>­вычеркнуть</td>\n",
       "    </tr>\n",
       "    <tr>\n",
       "      <th>7</th>\n",
       "      <td>а</td>\n",
       "      <td>^а</td>\n",
       "      <td>1</td>\n",
       "      <td>1</td>\n",
       "      <td>0</td>\n",
       "      <td>1</td>\n",
       "      <td>0</td>\n",
       "      <td>0</td>\n",
       "      <td>0</td>\n",
       "      <td>0</td>\n",
       "      <td>а</td>\n",
       "    </tr>\n",
       "    <tr>\n",
       "      <th>8</th>\n",
       "      <td>а-конто</td>\n",
       "      <td>а-к^онто</td>\n",
       "      <td>7</td>\n",
       "      <td>0</td>\n",
       "      <td>0</td>\n",
       "      <td>1</td>\n",
       "      <td>0</td>\n",
       "      <td>0</td>\n",
       "      <td>0</td>\n",
       "      <td>0</td>\n",
       "      <td>а-конто</td>\n",
       "    </tr>\n",
       "    <tr>\n",
       "      <th>9</th>\n",
       "      <td>а-ля</td>\n",
       "      <td>а-л^я</td>\n",
       "      <td>4</td>\n",
       "      <td>0</td>\n",
       "      <td>0</td>\n",
       "      <td>1</td>\n",
       "      <td>0</td>\n",
       "      <td>0</td>\n",
       "      <td>0</td>\n",
       "      <td>0</td>\n",
       "      <td>а-ля</td>\n",
       "    </tr>\n",
       "    <tr>\n",
       "      <th>10</th>\n",
       "      <td>а-мольный</td>\n",
       "      <td>а-м^ольный</td>\n",
       "      <td>9</td>\n",
       "      <td>0</td>\n",
       "      <td>0</td>\n",
       "      <td>1</td>\n",
       "      <td>0</td>\n",
       "      <td>0</td>\n",
       "      <td>0</td>\n",
       "      <td>0</td>\n",
       "      <td>а-мольный</td>\n",
       "    </tr>\n",
       "  </tbody>\n",
       "</table>\n",
       "</div>"
      ],
      "text/plain": [
       "            -де          -д^е  word_length  is_one_symbol  more_than_one_word  \\\n",
       "0           -ка          -к^а            3              0                   0   \n",
       "1         -либо        -л^ибо            5              0                   0   \n",
       "2       -нибудь      -ниб^удь            7              0                   0   \n",
       "4         -таки        -так^и            5              0                   0   \n",
       "5           -то          -т^о            3              0                   0   \n",
       "6   ­вычеркнуть  ­в^ычеркнуть           11              0                   0   \n",
       "7             а            ^а            1              1                   0   \n",
       "8       а-конто      а-к^онто            7              0                   0   \n",
       "9          а-ля         а-л^я            4              0                   0   \n",
       "10    а-мольный    а-м^ольный            9              0                   0   \n",
       "\n",
       "    hat_num  has_latin  num_non_russian  error_cases  is_Ёё    words_upd  \n",
       "0         1          0                0            0      0          -ка  \n",
       "1         1          0                0            0      0        -либо  \n",
       "2         1          0                0            0      0      -нибудь  \n",
       "4         1          0                0            0      0        -таки  \n",
       "5         1          0                0            0      0          -то  \n",
       "6         1          0                0            0      0  ­вычеркнуть  \n",
       "7         1          0                0            0      0            а  \n",
       "8         1          0                0            0      0      а-конто  \n",
       "9         1          0                0            0      0         а-ля  \n",
       "10        1          0                0            0      0    а-мольный  "
      ]
     },
     "execution_count": 30,
     "metadata": {},
     "output_type": "execute_result"
    }
   ],
   "source": [
    "accents_dataset.head(10)"
   ]
  },
  {
   "cell_type": "markdown",
   "id": "719b346a",
   "metadata": {
    "papermill": {
     "duration": 0.031404,
     "end_time": "2024-11-09T23:22:50.806033",
     "exception": false,
     "start_time": "2024-11-09T23:22:50.774629",
     "status": "completed"
    },
    "tags": []
   },
   "source": [
    "#### Теперь нужно подготовить данные для обучения"
   ]
  },
  {
   "cell_type": "markdown",
   "id": "16f3fa03",
   "metadata": {
    "papermill": {
     "duration": 0.031334,
     "end_time": "2024-11-09T23:22:50.868889",
     "exception": false,
     "start_time": "2024-11-09T23:22:50.837555",
     "status": "completed"
    },
    "tags": []
   },
   "source": [
    "Предполагается, что есть смысл разделить слово на токены, причём каждая буква будет являться токеном. Далее можно присвоить каждому токену метку 1 или 0 в зависимости от того, является ли данный токен ударным или нет и выйти на своего рода задачу бинарной классификации для каждого токена.\n",
    "\n",
    "UPD: позднее от данной идеи было решено отказаться в пользу классификации ударной позиции в слове. Посколько метка 1 одна, а меток 0 (безударная) может быть немало, модель может начать минимизировать лосс с приоритетом по безударным позициям, что не есть хорошо.\n",
    "\n",
    "Однако посчитано и посчитано, перейти к задаче классификации не составит особого труда!"
   ]
  },
  {
   "cell_type": "code",
   "execution_count": null,
   "id": "1c6df05c",
   "metadata": {
    "execution": {
     "iopub.execute_input": "2024-11-09T23:22:50.934907Z",
     "iopub.status.busy": "2024-11-09T23:22:50.933831Z",
     "iopub.status.idle": "2024-11-09T23:22:57.768205Z",
     "shell.execute_reply": "2024-11-09T23:22:57.767233Z"
    },
    "papermill": {
     "duration": 6.869419,
     "end_time": "2024-11-09T23:22:57.770285",
     "exception": false,
     "start_time": "2024-11-09T23:22:50.900866",
     "status": "completed"
    },
    "tags": []
   },
   "outputs": [
    {
     "data": {
      "application/vnd.jupyter.widget-view+json": {
       "model_id": "e6b72acc6c6d4a2ba692517851f5ef4e",
       "version_major": 2,
       "version_minor": 0
      },
      "text/plain": [
       "0it [00:00, ?it/s]"
      ]
     },
     "metadata": {},
     "output_type": "display_data"
    }
   ],
   "source": [
    "def get_marked_dict(dataset = accents_dataset,\n",
    "\t\t\tinput_column = 'words_upd',\n",
    "\t\t\tpredict_column = '-д^е'):\n",
    "\t\n",
    "\t'''\n",
    "\tФункция, реализующая логику выделения ударного токена в слове\n",
    "\t\n",
    "\tПараметры:\n",
    "\t-dataset: выделенный датасет (default: accents_dataset)\n",
    "\t-input_column: колонка датасета, которую будем обрабатывать (default: 'words_upd')\n",
    "\t-predict_column: колонка датасета, где будем искать ударение (default: '-д^е')\n",
    "\t'''\n",
    "\t\n",
    "\twords = dataset[input_column].values\n",
    "\twords_accents = dataset[predict_column].values\n",
    "\tinputs = [word for word in words]\n",
    "\tlabels = []\n",
    "\t\n",
    "\tfor word, accents in tqdm(zip(words, words_accents)):\n",
    "\t\tlabel = [0] * (len(word) + 2)\n",
    "\t\tfor i, char in enumerate(accents):\n",
    "\t\t\tif char == '^':\n",
    "\t\t\t\tlabel[i+1] = 1\n",
    "\t\t\t\t\n",
    "\t\tlabels.append(label)\n",
    "\treturn {\"input_words\" : inputs,\n",
    "\t\t\"labels\" : labels}\n",
    "\t\t\n",
    "words_labels = get_marked_dict()"
   ]
  },
  {
   "cell_type": "code",
   "execution_count": null,
   "id": "07961315",
   "metadata": {
    "execution": {
     "iopub.execute_input": "2024-11-09T23:22:57.837386Z",
     "iopub.status.busy": "2024-11-09T23:22:57.836984Z",
     "iopub.status.idle": "2024-11-09T23:22:57.842575Z",
     "shell.execute_reply": "2024-11-09T23:22:57.841747Z"
    },
    "papermill": {
     "duration": 0.041591,
     "end_time": "2024-11-09T23:22:57.844936",
     "exception": false,
     "start_time": "2024-11-09T23:22:57.803345",
     "status": "completed"
    },
    "tags": []
   },
   "outputs": [
    {
     "name": "stdout",
     "output_type": "stream",
     "text": [
      "абердинского [0, 0, 0, 0, 0, 0, 1, 0, 0, 0, 0, 0, 0, 0]\n"
     ]
    }
   ],
   "source": [
    "def get_example(dict = words_labels,\n",
    "                idx = 0):\n",
    "    '''Получаем экземпляр после обработки'''\n",
    "    print(words_labels['input_words'][idx], words_labels['labels'][idx])\n",
    "    \n",
    "get_example(idx = 1001)"
   ]
  },
  {
   "cell_type": "code",
   "execution_count": null,
   "id": "c52a83c6",
   "metadata": {},
   "outputs": [],
   "source": [
    "def convert_to_tokens(example):\n",
    "    '''Конвертер экземпляра в токен'''\n",
    "    result = tokenizer.convert_ids_to_tokens(example)\n",
    "    return result"
   ]
  },
  {
   "cell_type": "markdown",
   "id": "c7f6e690",
   "metadata": {
    "papermill": {
     "duration": 0.034061,
     "end_time": "2024-11-09T23:22:57.911427",
     "exception": false,
     "start_time": "2024-11-09T23:22:57.877366",
     "status": "completed"
    },
    "tags": []
   },
   "source": [
    "Вроде как размечено корректно. Создаем torc.utils.data.Dataset из словаря:"
   ]
  },
  {
   "cell_type": "code",
   "execution_count": null,
   "id": "bfa7c7d7",
   "metadata": {
    "execution": {
     "iopub.execute_input": "2024-11-09T23:22:57.983178Z",
     "iopub.status.busy": "2024-11-09T23:22:57.982740Z",
     "iopub.status.idle": "2024-11-09T23:22:57.996782Z",
     "shell.execute_reply": "2024-11-09T23:22:57.995838Z"
    },
    "papermill": {
     "duration": 0.053759,
     "end_time": "2024-11-09T23:22:57.999146",
     "exception": false,
     "start_time": "2024-11-09T23:22:57.945387",
     "status": "completed"
    },
    "tags": []
   },
   "outputs": [],
   "source": [
    "class AccentDataset(Dataset):\n",
    "\t\n",
    "\tdef __init__(self, words_labels = words_labels,\n",
    "\t\t\t\ttokenizer = tokenizer,\n",
    "\t\t\t\tmax_len = 22):\n",
    "\t\t\n",
    "\t\t'''\n",
    "\t\tКонструктор датасета ударений, который мы и будем подавать в сеть\n",
    "\t\t\n",
    "\t\tПараметры:\n",
    "\t\t-self\n",
    "\t\t-words_labels: метки для ударности позиций (default: words_labels, полученные раннее)\n",
    "\t\t-tokenizer: токенизатор (default: tokenizer из репозитория)\n",
    "\t\t-max_len: ограничиваем максимальную длину слова (default: 22)\n",
    "\t\t'''\n",
    "\t\tself.data = words_labels\n",
    "\t\tself.tokenizer = tokenizer\n",
    "\t\tself.max_model_length = max_len\n",
    "\t\t\n",
    "\tdef __len__(self):\n",
    "\t\treturn len(self.data['input_words'])\n",
    "\t\n",
    "\tdef __getitem__(self, idx, idx_to_token = False):\n",
    "\t\tinput_word, accent_labels = self.data['input_words'][idx], self.data['labels'][idx]\n",
    "\t\t\n",
    "\t\tencoding = self.tokenizer.encode_plus(\n",
    "\t\t\tinput_word,\n",
    "\t\t\tadd_special_tokens=True,\n",
    "\t\t\tmax_length=self.max_model_length,\n",
    "\t\t\tpadding='max_length',\n",
    "\t\t\ttruncation=True,\n",
    "\t\t\treturn_attention_mask=True,\n",
    "\t\t\treturn_tensors='pt',\n",
    "\t\t)\n",
    "\t\t\n",
    "\t\tinput_ids = encoding['input_ids'].flatten()\n",
    "\t\tattention_mask = encoding['attention_mask'].flatten()\n",
    "\t\ttoken_type_ids = encoding['token_type_ids'].flatten()\n",
    "\n",
    "\t\tlabels = torch.tensor(accent_labels, dtype=torch.long)\n",
    "\t\tpadding_length = self.max_model_length - labels.size(0)\n",
    "\t\tidx = np.where(labels == 1)[0]\n",
    "\t\tif len(idx) == 0:\n",
    "\t\t\tprint(input_ids)\n",
    "\t\t\tprint(labels)\n",
    "\t\t\tprint(convert_to_tokens(input_ids.tolist()))\n",
    "\t\tlabel = torch.tensor(idx)\n",
    "\n",
    "\t\tif idx_to_token == True:\n",
    "\t\t\treturn {\n",
    "\t\t\t\t'input_ids': self.tokenizer.convert_ids_to_tokens(input_ids),\n",
    "\t\t\t\t'attention_mask': attention_mask,\n",
    "\t\t\t\t'token_type_ids': token_type_ids,\n",
    "\t\t\t\t'labels': torch.tensor(idx[0], dtype=torch.long)\n",
    "\t\t\t\t}\n",
    "\t\treturn {\n",
    "\t\t\t\t'input_ids': input_ids,\n",
    "\t\t\t\t'attention_mask': attention_mask,\n",
    "\t\t\t\t'token_type_ids': token_type_ids,\n",
    "\t\t\t\t'labels': torch.tensor(idx[0], dtype=torch.long)\n",
    "\t\t\t\t}\n",
    "\t\n",
    "\t\n",
    "words_labels_dataset = AccentDataset()"
   ]
  },
  {
   "cell_type": "markdown",
   "id": "f9f68274",
   "metadata": {
    "papermill": {
     "duration": 0.038835,
     "end_time": "2024-11-09T23:22:58.076883",
     "exception": false,
     "start_time": "2024-11-09T23:22:58.038048",
     "status": "completed"
    },
    "tags": []
   },
   "source": [
    "#### Check:"
   ]
  },
  {
   "cell_type": "code",
   "execution_count": 34,
   "id": "03bd8fbd",
   "metadata": {
    "execution": {
     "iopub.execute_input": "2024-11-09T23:22:58.145746Z",
     "iopub.status.busy": "2024-11-09T23:22:58.145334Z",
     "iopub.status.idle": "2024-11-09T23:22:58.203541Z",
     "shell.execute_reply": "2024-11-09T23:22:58.202662Z"
    },
    "papermill": {
     "duration": 0.094983,
     "end_time": "2024-11-09T23:22:58.205523",
     "exception": false,
     "start_time": "2024-11-09T23:22:58.110540",
     "status": "completed"
    },
    "tags": []
   },
   "outputs": [
    {
     "data": {
      "text/plain": [
       "tensor(5)"
      ]
     },
     "execution_count": 34,
     "metadata": {},
     "output_type": "execute_result"
    }
   ],
   "source": [
    "words_labels_dataset[168]['labels']"
   ]
  },
  {
   "cell_type": "code",
   "execution_count": 35,
   "id": "e4e0c4c0",
   "metadata": {
    "execution": {
     "iopub.execute_input": "2024-11-09T23:22:58.272065Z",
     "iopub.status.busy": "2024-11-09T23:22:58.271661Z",
     "iopub.status.idle": "2024-11-09T23:22:58.277519Z",
     "shell.execute_reply": "2024-11-09T23:22:58.276683Z"
    },
    "papermill": {
     "duration": 0.041411,
     "end_time": "2024-11-09T23:22:58.279523",
     "exception": false,
     "start_time": "2024-11-09T23:22:58.238112",
     "status": "completed"
    },
    "tags": []
   },
   "outputs": [
    {
     "data": {
      "text/plain": [
       "1671254"
      ]
     },
     "execution_count": 35,
     "metadata": {},
     "output_type": "execute_result"
    }
   ],
   "source": [
    "len(words_labels_dataset)"
   ]
  },
  {
   "cell_type": "code",
   "execution_count": 36,
   "id": "56a8cad8",
   "metadata": {
    "execution": {
     "iopub.execute_input": "2024-11-09T23:22:58.348531Z",
     "iopub.status.busy": "2024-11-09T23:22:58.347880Z",
     "iopub.status.idle": "2024-11-09T23:22:58.355501Z",
     "shell.execute_reply": "2024-11-09T23:22:58.354636Z"
    },
    "papermill": {
     "duration": 0.044764,
     "end_time": "2024-11-09T23:22:58.357417",
     "exception": false,
     "start_time": "2024-11-09T23:22:58.312653",
     "status": "completed"
    },
    "tags": []
   },
   "outputs": [
    {
     "data": {
      "text/plain": [
       "{'input_ids': tensor([ 0,  8, 10, 18, 42, 16, 26, 36, 44, 30, 38, 14, 38,  1,  4,  4,  4,  4,\n",
       "          4,  4,  4,  4]),\n",
       " 'attention_mask': tensor([1, 1, 1, 1, 1, 1, 1, 1, 1, 1, 1, 1, 1, 1, 0, 0, 0, 0, 0, 0, 0, 0]),\n",
       " 'token_type_ids': tensor([0, 0, 0, 0, 0, 0, 0, 0, 0, 0, 0, 0, 0, 0, 0, 0, 0, 0, 0, 0, 0, 0]),\n",
       " 'labels': tensor(6)}"
      ]
     },
     "execution_count": 36,
     "metadata": {},
     "output_type": "execute_result"
    }
   ],
   "source": [
    "words_labels_dataset[1001]"
   ]
  },
  {
   "cell_type": "code",
   "execution_count": 37,
   "id": "2d9fd9e6",
   "metadata": {
    "execution": {
     "iopub.execute_input": "2024-11-09T23:22:58.424443Z",
     "iopub.status.busy": "2024-11-09T23:22:58.423739Z",
     "iopub.status.idle": "2024-11-09T23:22:58.432339Z",
     "shell.execute_reply": "2024-11-09T23:22:58.431409Z"
    },
    "papermill": {
     "duration": 0.044264,
     "end_time": "2024-11-09T23:22:58.434329",
     "exception": false,
     "start_time": "2024-11-09T23:22:58.390065",
     "status": "completed"
    },
    "tags": []
   },
   "outputs": [
    {
     "data": {
      "text/plain": [
       "{'input_ids': ['[CLS]',\n",
       "  '-',\n",
       "  'к',\n",
       "  'а',\n",
       "  '[SEP]',\n",
       "  '[PAD]',\n",
       "  '[PAD]',\n",
       "  '[PAD]',\n",
       "  '[PAD]',\n",
       "  '[PAD]',\n",
       "  '[PAD]',\n",
       "  '[PAD]',\n",
       "  '[PAD]',\n",
       "  '[PAD]',\n",
       "  '[PAD]',\n",
       "  '[PAD]',\n",
       "  '[PAD]',\n",
       "  '[PAD]',\n",
       "  '[PAD]',\n",
       "  '[PAD]',\n",
       "  '[PAD]',\n",
       "  '[PAD]'],\n",
       " 'attention_mask': tensor([1, 1, 1, 1, 1, 0, 0, 0, 0, 0, 0, 0, 0, 0, 0, 0, 0, 0, 0, 0, 0, 0]),\n",
       " 'token_type_ids': tensor([0, 0, 0, 0, 0, 0, 0, 0, 0, 0, 0, 0, 0, 0, 0, 0, 0, 0, 0, 0, 0, 0]),\n",
       " 'labels': tensor(3)}"
      ]
     },
     "execution_count": 37,
     "metadata": {},
     "output_type": "execute_result"
    }
   ],
   "source": [
    "words_labels_dataset.__getitem__(0, idx_to_token = True)"
   ]
  },
  {
   "cell_type": "markdown",
   "id": "7562f758",
   "metadata": {
    "papermill": {
     "duration": 0.032891,
     "end_time": "2024-11-09T23:22:58.500236",
     "exception": false,
     "start_time": "2024-11-09T23:22:58.467345",
     "status": "completed"
    },
    "tags": []
   },
   "source": [
    "Всё корректно. Теперь нужно написать функцию получения датасетов для train и для test."
   ]
  },
  {
   "cell_type": "code",
   "execution_count": null,
   "id": "bd5d6101",
   "metadata": {
    "execution": {
     "iopub.execute_input": "2024-11-09T23:22:58.567839Z",
     "iopub.status.busy": "2024-11-09T23:22:58.567085Z",
     "iopub.status.idle": "2024-11-09T23:22:58.738192Z",
     "shell.execute_reply": "2024-11-09T23:22:58.737108Z"
    },
    "papermill": {
     "duration": 0.207441,
     "end_time": "2024-11-09T23:22:58.740687",
     "exception": false,
     "start_time": "2024-11-09T23:22:58.533246",
     "status": "completed"
    },
    "tags": []
   },
   "outputs": [],
   "source": [
    "def get_datasets(dataset_cls = AccentDataset,\n",
    "\t\t\tmax_len = 22, # 99% слов ниже этой длины по символам\n",
    "\t\t\tdata = words_labels,\n",
    "\t\t\ttokenizer = tokenizer,\n",
    "\t\t\ttrain_size = 0.5):\n",
    "\t'''\n",
    "\tФункция get_datasets() возвращает train и test датасеты на основе конструктора AccentDataset, делая train_test_spilt\n",
    "\t\n",
    "\tПараметры функции:\n",
    "\t-dataset_cls: класс датасета, который мы будем передвавать в функцию и чей конструктор мы будем вызывать (default: AccentDataset)\n",
    "\t-max_ken: максимальная длина последовательности токенов (решил взять 22, так как это 95% квантиль распределения слов по длинам)\n",
    "\t-data: данные (default: words_labels)\n",
    "\t-tokenizer: токенизатор (default: tokenizer)\n",
    "\t-train_size: размер train выборки для сплита (default: 0.5 из задания)\n",
    "\t'''\n",
    "\t# Вызов конструктора датасета\n",
    "\tdataset = dataset_cls(words_labels = data,\n",
    "\t\t\t\ttokenizer = tokenizer,\n",
    "\t\t\t\tmax_len = max_len)\n",
    "\t\n",
    "\t# Устанавливаем размеры\n",
    "\ttrain_size = int(train_size * len(dataset))\n",
    "\ttest_size = len(dataset) - train_size\n",
    "\ttrain_dataset, test_dataset = random_split(dataset, [train_size, test_size])\n",
    "\n",
    "\t# Возвращаем датасеты train + test\t\t\n",
    "\treturn train_dataset, test_dataset\n",
    "\n",
    "train_dataset_, test_dataset = get_datasets()\n",
    "\t"
   ]
  },
  {
   "cell_type": "markdown",
   "id": "7cc94c9a",
   "metadata": {
    "papermill": {
     "duration": 0.032688,
     "end_time": "2024-11-09T23:22:58.808703",
     "exception": false,
     "start_time": "2024-11-09T23:22:58.776015",
     "status": "completed"
    },
    "tags": []
   },
   "source": [
    "#### Check:"
   ]
  },
  {
   "cell_type": "code",
   "execution_count": 40,
   "id": "50e4b910",
   "metadata": {
    "execution": {
     "iopub.execute_input": "2024-11-09T23:22:58.951883Z",
     "iopub.status.busy": "2024-11-09T23:22:58.951473Z",
     "iopub.status.idle": "2024-11-09T23:22:58.957740Z",
     "shell.execute_reply": "2024-11-09T23:22:58.956836Z"
    },
    "papermill": {
     "duration": 0.042687,
     "end_time": "2024-11-09T23:22:58.959781",
     "exception": false,
     "start_time": "2024-11-09T23:22:58.917094",
     "status": "completed"
    },
    "tags": []
   },
   "outputs": [
    {
     "data": {
      "text/plain": [
       "(835627, 835627)"
      ]
     },
     "execution_count": 40,
     "metadata": {},
     "output_type": "execute_result"
    }
   ],
   "source": [
    "len(train_dataset_), len(test_dataset)"
   ]
  },
  {
   "cell_type": "markdown",
   "id": "2b0002ee",
   "metadata": {
    "papermill": {
     "duration": 0.032819,
     "end_time": "2024-11-09T23:22:59.025928",
     "exception": false,
     "start_time": "2024-11-09T23:22:58.993109",
     "status": "completed"
    },
    "tags": []
   },
   "source": [
    "#### Проверим тренировочный сэмпл:"
   ]
  },
  {
   "cell_type": "code",
   "execution_count": 41,
   "id": "b566c379",
   "metadata": {
    "execution": {
     "iopub.execute_input": "2024-11-09T23:22:59.093772Z",
     "iopub.status.busy": "2024-11-09T23:22:59.093358Z",
     "iopub.status.idle": "2024-11-09T23:22:59.101972Z",
     "shell.execute_reply": "2024-11-09T23:22:59.101022Z"
    },
    "papermill": {
     "duration": 0.044916,
     "end_time": "2024-11-09T23:22:59.103852",
     "exception": false,
     "start_time": "2024-11-09T23:22:59.058936",
     "status": "completed"
    },
    "tags": []
   },
   "outputs": [
    {
     "data": {
      "text/plain": [
       "{'input_ids': tensor([ 0, 24,  8, 40,  8, 52,  8, 36, 36, 48, 70,  1,  4,  4,  4,  4,  4,  4,\n",
       "          4,  4,  4,  4]),\n",
       " 'attention_mask': tensor([1, 1, 1, 1, 1, 1, 1, 1, 1, 1, 1, 1, 0, 0, 0, 0, 0, 0, 0, 0, 0, 0]),\n",
       " 'token_type_ids': tensor([0, 0, 0, 0, 0, 0, 0, 0, 0, 0, 0, 0, 0, 0, 0, 0, 0, 0, 0, 0, 0, 0]),\n",
       " 'labels': tensor(4)}"
      ]
     },
     "execution_count": 41,
     "metadata": {},
     "output_type": "execute_result"
    }
   ],
   "source": [
    "train_dataset_[2]"
   ]
  },
  {
   "cell_type": "code",
   "execution_count": 42,
   "id": "66908527",
   "metadata": {
    "execution": {
     "iopub.execute_input": "2024-11-09T23:22:59.171936Z",
     "iopub.status.busy": "2024-11-09T23:22:59.171511Z",
     "iopub.status.idle": "2024-11-09T23:22:59.178511Z",
     "shell.execute_reply": "2024-11-09T23:22:59.177456Z"
    },
    "papermill": {
     "duration": 0.043429,
     "end_time": "2024-11-09T23:22:59.180633",
     "exception": false,
     "start_time": "2024-11-09T23:22:59.137204",
     "status": "completed"
    },
    "tags": []
   },
   "outputs": [
    {
     "name": "stdout",
     "output_type": "stream",
     "text": [
      "['[CLS]', 'з', 'а', 'п', 'а', 'х', 'а', 'н', 'н', 'у', 'ю', '[SEP]', '[PAD]', '[PAD]', '[PAD]', '[PAD]', '[PAD]', '[PAD]', '[PAD]', '[PAD]', '[PAD]', '[PAD]']\n"
     ]
    }
   ],
   "source": [
    "print(convert_to_tokens(train_dataset_[2]['input_ids'].tolist()))"
   ]
  },
  {
   "cell_type": "code",
   "execution_count": 43,
   "id": "89feeb40",
   "metadata": {
    "execution": {
     "iopub.execute_input": "2024-11-09T23:22:59.249040Z",
     "iopub.status.busy": "2024-11-09T23:22:59.248606Z",
     "iopub.status.idle": "2024-11-09T23:22:59.256149Z",
     "shell.execute_reply": "2024-11-09T23:22:59.255204Z"
    },
    "papermill": {
     "duration": 0.043903,
     "end_time": "2024-11-09T23:22:59.258076",
     "exception": false,
     "start_time": "2024-11-09T23:22:59.214173",
     "status": "completed"
    },
    "tags": []
   },
   "outputs": [
    {
     "data": {
      "text/plain": [
       "tensor(4)"
      ]
     },
     "execution_count": 43,
     "metadata": {},
     "output_type": "execute_result"
    }
   ],
   "source": [
    "train_dataset_[2]['labels']"
   ]
  },
  {
   "cell_type": "markdown",
   "id": "adaedbce",
   "metadata": {
    "papermill": {
     "duration": 0.033128,
     "end_time": "2024-11-09T23:22:59.324766",
     "exception": false,
     "start_time": "2024-11-09T23:22:59.291638",
     "status": "completed"
    },
    "tags": []
   },
   "source": [
    "#### Проверим тестовый сэмпл:"
   ]
  },
  {
   "cell_type": "code",
   "execution_count": 44,
   "id": "b2e12ca2",
   "metadata": {
    "execution": {
     "iopub.execute_input": "2024-11-09T23:22:59.394109Z",
     "iopub.status.busy": "2024-11-09T23:22:59.393237Z",
     "iopub.status.idle": "2024-11-09T23:22:59.401102Z",
     "shell.execute_reply": "2024-11-09T23:22:59.400245Z"
    },
    "papermill": {
     "duration": 0.044107,
     "end_time": "2024-11-09T23:22:59.403098",
     "exception": false,
     "start_time": "2024-11-09T23:22:59.358991",
     "status": "completed"
    },
    "tags": []
   },
   "outputs": [
    {
     "data": {
      "text/plain": [
       "{'input_ids': tensor([ 0, 48, 54, 18, 40, 32, 72, 70, 46,  1,  4,  4,  4,  4,  4,  4,  4,  4,\n",
       "          4,  4,  4,  4]),\n",
       " 'attention_mask': tensor([1, 1, 1, 1, 1, 1, 1, 1, 1, 1, 0, 0, 0, 0, 0, 0, 0, 0, 0, 0, 0, 0]),\n",
       " 'token_type_ids': tensor([0, 0, 0, 0, 0, 0, 0, 0, 0, 0, 0, 0, 0, 0, 0, 0, 0, 0, 0, 0, 0, 0]),\n",
       " 'labels': tensor(6)}"
      ]
     },
     "execution_count": 44,
     "metadata": {},
     "output_type": "execute_result"
    }
   ],
   "source": [
    "test_dataset[2]"
   ]
  },
  {
   "cell_type": "code",
   "execution_count": 45,
   "id": "0c1d70fa",
   "metadata": {
    "execution": {
     "iopub.execute_input": "2024-11-09T23:22:59.471067Z",
     "iopub.status.busy": "2024-11-09T23:22:59.470705Z",
     "iopub.status.idle": "2024-11-09T23:22:59.476447Z",
     "shell.execute_reply": "2024-11-09T23:22:59.475624Z"
    },
    "papermill": {
     "duration": 0.042045,
     "end_time": "2024-11-09T23:22:59.478439",
     "exception": false,
     "start_time": "2024-11-09T23:22:59.436394",
     "status": "completed"
    },
    "tags": []
   },
   "outputs": [
    {
     "name": "stdout",
     "output_type": "stream",
     "text": [
      "['[CLS]', 'у', 'ц', 'е', 'п', 'л', 'я', 'ю', 'т', '[SEP]', '[PAD]', '[PAD]', '[PAD]', '[PAD]', '[PAD]', '[PAD]', '[PAD]', '[PAD]', '[PAD]', '[PAD]', '[PAD]', '[PAD]']\n"
     ]
    }
   ],
   "source": [
    "print(convert_to_tokens(test_dataset[2]['input_ids'].tolist()))"
   ]
  },
  {
   "cell_type": "code",
   "execution_count": 46,
   "id": "98966558",
   "metadata": {
    "execution": {
     "iopub.execute_input": "2024-11-09T23:22:59.546042Z",
     "iopub.status.busy": "2024-11-09T23:22:59.545740Z",
     "iopub.status.idle": "2024-11-09T23:22:59.552382Z",
     "shell.execute_reply": "2024-11-09T23:22:59.551506Z"
    },
    "papermill": {
     "duration": 0.042607,
     "end_time": "2024-11-09T23:22:59.554308",
     "exception": false,
     "start_time": "2024-11-09T23:22:59.511701",
     "status": "completed"
    },
    "tags": []
   },
   "outputs": [
    {
     "data": {
      "text/plain": [
       "tensor(6)"
      ]
     },
     "execution_count": 46,
     "metadata": {},
     "output_type": "execute_result"
    }
   ],
   "source": [
    "test_dataset[2]['labels']"
   ]
  },
  {
   "cell_type": "markdown",
   "id": "bf4e9e21",
   "metadata": {
    "papermill": {
     "duration": 0.033059,
     "end_time": "2024-11-09T23:22:59.620424",
     "exception": false,
     "start_time": "2024-11-09T23:22:59.587365",
     "status": "completed"
    },
    "tags": []
   },
   "source": [
    "Всё работает!"
   ]
  },
  {
   "cell_type": "markdown",
   "id": "a2dec93f",
   "metadata": {
    "papermill": {
     "duration": 0.03289,
     "end_time": "2024-11-09T23:22:59.686189",
     "exception": false,
     "start_time": "2024-11-09T23:22:59.653299",
     "status": "completed"
    },
    "tags": []
   },
   "source": [
    "#### Теперь нужно сделать train_val_split:"
   ]
  },
  {
   "cell_type": "code",
   "execution_count": null,
   "id": "8b9b42c2",
   "metadata": {
    "execution": {
     "iopub.execute_input": "2024-11-09T23:22:59.754038Z",
     "iopub.status.busy": "2024-11-09T23:22:59.753652Z",
     "iopub.status.idle": "2024-11-09T23:22:59.831932Z",
     "shell.execute_reply": "2024-11-09T23:22:59.831028Z"
    },
    "papermill": {
     "duration": 0.114945,
     "end_time": "2024-11-09T23:22:59.834296",
     "exception": false,
     "start_time": "2024-11-09T23:22:59.719351",
     "status": "completed"
    },
    "tags": []
   },
   "outputs": [],
   "source": [
    "def train_val_split(dataset = train_dataset_,\n",
    "\t\t\t\ttrain_size = 0.9):\n",
    "\t\n",
    "\t'''\n",
    "\tФункция для создания искомого тренировочного и валидационного множества\n",
    "\n",
    "\tПараметры:\n",
    "\t-dataset: тренировочный датасет, который будет разбиваться на train x val (default: train_dataset_)\n",
    "\t-train_size: размер искомового тренировочного датасета от передаваемого (default: 0.9)\n",
    "\t'''\n",
    "\t\n",
    "\t# Объявляем размеры train x val\n",
    "\ttrain_size = int(train_size * len(dataset))\n",
    "\tval_size = len(dataset) - train_size\n",
    "\t\n",
    "\t# Делаем сплит и возвращаем тренировочный и тестовый датасеты\n",
    "\ttrain_dataset, val_dataset = random_split(dataset, [train_size, val_size])\n",
    "\treturn train_dataset, val_dataset\n",
    "\n",
    "train_dataset, val_dataset = train_val_split()"
   ]
  },
  {
   "cell_type": "markdown",
   "id": "543b0222",
   "metadata": {
    "papermill": {
     "duration": 0.033028,
     "end_time": "2024-11-09T23:22:59.901568",
     "exception": false,
     "start_time": "2024-11-09T23:22:59.868540",
     "status": "completed"
    },
    "tags": []
   },
   "source": [
    "#### Check:"
   ]
  },
  {
   "cell_type": "code",
   "execution_count": 48,
   "id": "ff52ffa8",
   "metadata": {
    "execution": {
     "iopub.execute_input": "2024-11-09T23:22:59.973016Z",
     "iopub.status.busy": "2024-11-09T23:22:59.972054Z",
     "iopub.status.idle": "2024-11-09T23:22:59.978317Z",
     "shell.execute_reply": "2024-11-09T23:22:59.977497Z"
    },
    "papermill": {
     "duration": 0.045012,
     "end_time": "2024-11-09T23:22:59.980497",
     "exception": false,
     "start_time": "2024-11-09T23:22:59.935485",
     "status": "completed"
    },
    "tags": []
   },
   "outputs": [
    {
     "data": {
      "text/plain": [
       "(752064, 83563)"
      ]
     },
     "execution_count": 48,
     "metadata": {},
     "output_type": "execute_result"
    }
   ],
   "source": [
    "len(train_dataset), len(val_dataset)"
   ]
  },
  {
   "cell_type": "code",
   "execution_count": 49,
   "id": "293b267c",
   "metadata": {
    "execution": {
     "iopub.execute_input": "2024-11-09T23:23:00.048429Z",
     "iopub.status.busy": "2024-11-09T23:23:00.048095Z",
     "iopub.status.idle": "2024-11-09T23:23:00.055086Z",
     "shell.execute_reply": "2024-11-09T23:23:00.054239Z"
    },
    "papermill": {
     "duration": 0.043167,
     "end_time": "2024-11-09T23:23:00.056959",
     "exception": false,
     "start_time": "2024-11-09T23:23:00.013792",
     "status": "completed"
    },
    "tags": []
   },
   "outputs": [
    {
     "data": {
      "text/plain": [
       "tensor(10)"
      ]
     },
     "execution_count": 49,
     "metadata": {},
     "output_type": "execute_result"
    }
   ],
   "source": [
    "train_dataset[2]['labels']"
   ]
  },
  {
   "cell_type": "code",
   "execution_count": null,
   "id": "611ddcbf",
   "metadata": {
    "execution": {
     "iopub.execute_input": "2024-11-09T23:23:00.199272Z",
     "iopub.status.busy": "2024-11-09T23:23:00.198943Z",
     "iopub.status.idle": "2024-11-09T23:23:00.205451Z",
     "shell.execute_reply": "2024-11-09T23:23:00.204578Z"
    },
    "papermill": {
     "duration": 0.043279,
     "end_time": "2024-11-09T23:23:00.207397",
     "exception": false,
     "start_time": "2024-11-09T23:23:00.164118",
     "status": "completed"
    },
    "tags": []
   },
   "outputs": [],
   "source": [
    "def get_loaders(train_dataset = train_dataset,\n",
    "\t\t\t\tval_dataset = val_dataset,\n",
    "\t\t\ttest_dataset = test_dataset,\n",
    "\t\t\tshuffle_train = True,\n",
    "\t\t\tshuffle_val = False,\n",
    "\t\t\t\tshuffle_test = False,\n",
    "\t\t\tbatch_size = 128):\n",
    "\t'''\n",
    "\tФункция get_loaders() для получения train, val и test даталоадеров\n",
    "\n",
    "\tПараметры:\n",
    "\t-train_dataset: тренировочный датасет (default: train_dataset)\n",
    "\t-val_dataset: валидационный датасет (default: val_dataset)\n",
    "\t-test_dataset: тестовый датасет (default: test_dataset)\n",
    "\t-shuffle_train: флаг перемешивания для train (default: True)\n",
    "\t-shuffle_val: флаг перемешивания для val (default: False)\n",
    "\t-shuffle_test: флаг перемешивания для test (default: False)\n",
    "\t-batch_size: размер батча данных (default: 128)\n",
    "\t'''\n",
    "\t\n",
    "\t# train_dataloader\n",
    "\ttrain_dataloader = DataLoader(\n",
    "\t\t\ttrain_dataset,   \n",
    "\t\t\tbatch_size = batch_size,\n",
    "\t\t\tshuffle = shuffle_train,\n",
    "\t\t)\n",
    "\n",
    "\t# validation_dataloader\n",
    "\tvalidation_dataloader = DataLoader(\n",
    "\t\t\tval_dataset, \n",
    "\t\t\tbatch_size = batch_size,\n",
    "\t\t\tshuffle = shuffle_val,\n",
    "\t\t)\n",
    "\t\n",
    "\t# test_dataloader\n",
    "\ttest_dataloader = DataLoader(\n",
    "\t\t\ttest_dataset, \n",
    "\t\t\tbatch_size = batch_size,\n",
    "\t\t\tshuffle = shuffle_test,\n",
    "\t\t)\n",
    "\t\n",
    "\t# Возвращаем даталоадеры\n",
    "\treturn train_dataloader, validation_dataloader, test_dataloader\n",
    "\n",
    "train_dataloader, validation_dataloader, test_dataloader = get_loaders()\n"
   ]
  },
  {
   "cell_type": "markdown",
   "id": "13470f2f",
   "metadata": {},
   "source": [
    "#### Check:"
   ]
  },
  {
   "cell_type": "code",
   "execution_count": 52,
   "id": "fd87b9a6",
   "metadata": {
    "execution": {
     "iopub.execute_input": "2024-11-09T23:23:00.278188Z",
     "iopub.status.busy": "2024-11-09T23:23:00.277829Z",
     "iopub.status.idle": "2024-11-09T23:23:00.286562Z",
     "shell.execute_reply": "2024-11-09T23:23:00.285657Z"
    },
    "papermill": {
     "duration": 0.04644,
     "end_time": "2024-11-09T23:23:00.288718",
     "exception": false,
     "start_time": "2024-11-09T23:23:00.242278",
     "status": "completed"
    },
    "tags": []
   },
   "outputs": [
    {
     "data": {
      "text/plain": [
       "{'input_ids': tensor([ 0, 12, 18, 46, 18, 42, 26, 36,  8, 42, 36, 38, 34,  1,  4,  4,  4,  4,\n",
       "          4,  4,  4,  4]),\n",
       " 'attention_mask': tensor([1, 1, 1, 1, 1, 1, 1, 1, 1, 1, 1, 1, 1, 1, 0, 0, 0, 0, 0, 0, 0, 0]),\n",
       " 'token_type_ids': tensor([0, 0, 0, 0, 0, 0, 0, 0, 0, 0, 0, 0, 0, 0, 0, 0, 0, 0, 0, 0, 0, 0]),\n",
       " 'labels': tensor(8)}"
      ]
     },
     "execution_count": 52,
     "metadata": {},
     "output_type": "execute_result"
    }
   ],
   "source": [
    "train_dataloader.dataset[0]"
   ]
  },
  {
   "cell_type": "code",
   "execution_count": 53,
   "id": "75ba8b04",
   "metadata": {
    "execution": {
     "iopub.execute_input": "2024-11-09T23:23:00.359372Z",
     "iopub.status.busy": "2024-11-09T23:23:00.358996Z",
     "iopub.status.idle": "2024-11-09T23:23:00.367206Z",
     "shell.execute_reply": "2024-11-09T23:23:00.366338Z"
    },
    "papermill": {
     "duration": 0.046682,
     "end_time": "2024-11-09T23:23:00.369131",
     "exception": false,
     "start_time": "2024-11-09T23:23:00.322449",
     "status": "completed"
    },
    "tags": []
   },
   "outputs": [
    {
     "data": {
      "text/plain": [
       "{'input_ids': tensor([ 0, 42,  8, 44, 56, 18, 44, 64, 12,  8, 18, 34, 64,  1,  4,  4,  4,  4,\n",
       "          4,  4,  4,  4]),\n",
       " 'attention_mask': tensor([1, 1, 1, 1, 1, 1, 1, 1, 1, 1, 1, 1, 1, 1, 0, 0, 0, 0, 0, 0, 0, 0]),\n",
       " 'token_type_ids': tensor([0, 0, 0, 0, 0, 0, 0, 0, 0, 0, 0, 0, 0, 0, 0, 0, 0, 0, 0, 0, 0, 0]),\n",
       " 'labels': tensor(2)}"
      ]
     },
     "execution_count": 53,
     "metadata": {},
     "output_type": "execute_result"
    }
   ],
   "source": [
    "validation_dataloader.dataset[0]"
   ]
  },
  {
   "cell_type": "markdown",
   "id": "c8185f40",
   "metadata": {},
   "source": [
    "#### Check итерирования:"
   ]
  },
  {
   "cell_type": "code",
   "execution_count": 54,
   "id": "093fe625",
   "metadata": {
    "execution": {
     "iopub.execute_input": "2024-11-09T23:23:00.439246Z",
     "iopub.status.busy": "2024-11-09T23:23:00.438848Z",
     "iopub.status.idle": "2024-11-09T23:23:00.623195Z",
     "shell.execute_reply": "2024-11-09T23:23:00.622267Z"
    },
    "papermill": {
     "duration": 0.222455,
     "end_time": "2024-11-09T23:23:00.625490",
     "exception": false,
     "start_time": "2024-11-09T23:23:00.403035",
     "status": "completed"
    },
    "tags": []
   },
   "outputs": [
    {
     "data": {
      "application/vnd.jupyter.widget-view+json": {
       "model_id": "0f35c5f155124a87b34a840c9f56d407",
       "version_major": 2,
       "version_minor": 0
      },
      "text/plain": [
       "  0%|          | 0/5876 [00:00<?, ?it/s]"
      ]
     },
     "metadata": {},
     "output_type": "display_data"
    },
    {
     "name": "stdout",
     "output_type": "stream",
     "text": [
      "tensor([ 0, 40, 42, 26, 52, 32, 18, 44, 46, 36, 18, 46, 18,  1,  4,  4,  4,  4,\n",
      "         4,  4,  4,  4])\n",
      "22\n",
      "tensor(10)\n",
      "['[CLS]', 'п', 'р', 'и', 'х', 'л', 'е', 'с', 'т', 'н', 'е', 'т', 'е', '[SEP]', '[PAD]', '[PAD]', '[PAD]', '[PAD]', '[PAD]', '[PAD]', '[PAD]', '[PAD]']\n"
     ]
    }
   ],
   "source": [
    "for i, batch in enumerate(tqdm(train_dataloader)):\n",
    "#     pass\n",
    "    print(batch['input_ids'][0])\n",
    "    print(len(batch['attention_mask'][0]))\n",
    "    print(batch['labels'][0])\n",
    "    print(convert_to_tokens(batch['input_ids'][0].tolist()))\n",
    "    if i == 0:\n",
    "        break"
   ]
  },
  {
   "cell_type": "markdown",
   "id": "304f78c2",
   "metadata": {
    "papermill": {
     "duration": 0.034762,
     "end_time": "2024-11-09T23:23:00.695004",
     "exception": false,
     "start_time": "2024-11-09T23:23:00.660242",
     "status": "completed"
    },
    "tags": []
   },
   "source": [
    "#### Готовимся обучать... В этот раз DeBERTa модель!"
   ]
  },
  {
   "cell_type": "code",
   "execution_count": null,
   "id": "6ded8568",
   "metadata": {
    "execution": {
     "iopub.execute_input": "2024-11-09T23:23:00.764967Z",
     "iopub.status.busy": "2024-11-09T23:23:00.764534Z",
     "iopub.status.idle": "2024-11-09T23:24:05.310041Z",
     "shell.execute_reply": "2024-11-09T23:24:05.309019Z"
    },
    "papermill": {
     "duration": 64.582675,
     "end_time": "2024-11-09T23:24:05.312050",
     "exception": false,
     "start_time": "2024-11-09T23:23:00.729375",
     "status": "completed"
    },
    "tags": []
   },
   "outputs": [
    {
     "data": {
      "application/vnd.jupyter.widget-view+json": {
       "model_id": "9dce6ff9049142ca80c6bdf8571de037",
       "version_major": 2,
       "version_minor": 0
      },
      "text/plain": [
       "config.json:   0%|          | 0.00/474 [00:00<?, ?B/s]"
      ]
     },
     "metadata": {},
     "output_type": "display_data"
    },
    {
     "data": {
      "application/vnd.jupyter.widget-view+json": {
       "model_id": "56a842166f384707a1fa7522755a78a6",
       "version_major": 2,
       "version_minor": 0
      },
      "text/plain": [
       "pytorch_model.bin:   0%|          | 0.00/559M [00:00<?, ?B/s]"
      ]
     },
     "metadata": {},
     "output_type": "display_data"
    },
    {
     "name": "stderr",
     "output_type": "stream",
     "text": [
      "Some weights of DebertaForSequenceClassification were not initialized from the model checkpoint at microsoft/deberta-base and are newly initialized: ['classifier.bias', 'classifier.weight', 'pooler.dense.bias', 'pooler.dense.weight']\n",
      "You should probably TRAIN this model on a down-stream task to be able to use it for predictions and inference.\n"
     ]
    },
    {
     "data": {
      "text/plain": [
       "DebertaForSequenceClassification(\n",
       "  (deberta): DebertaModel(\n",
       "    (embeddings): DebertaEmbeddings(\n",
       "      (word_embeddings): Embedding(50265, 768, padding_idx=0)\n",
       "      (LayerNorm): DebertaLayerNorm()\n",
       "      (dropout): StableDropout()\n",
       "    )\n",
       "    (encoder): DebertaEncoder(\n",
       "      (layer): ModuleList(\n",
       "        (0-11): 12 x DebertaLayer(\n",
       "          (attention): DebertaAttention(\n",
       "            (self): DisentangledSelfAttention(\n",
       "              (in_proj): Linear(in_features=768, out_features=2304, bias=False)\n",
       "              (pos_dropout): StableDropout()\n",
       "              (pos_proj): Linear(in_features=768, out_features=768, bias=False)\n",
       "              (pos_q_proj): Linear(in_features=768, out_features=768, bias=True)\n",
       "              (dropout): StableDropout()\n",
       "            )\n",
       "            (output): DebertaSelfOutput(\n",
       "              (dense): Linear(in_features=768, out_features=768, bias=True)\n",
       "              (LayerNorm): DebertaLayerNorm()\n",
       "              (dropout): StableDropout()\n",
       "            )\n",
       "          )\n",
       "          (intermediate): DebertaIntermediate(\n",
       "            (dense): Linear(in_features=768, out_features=3072, bias=True)\n",
       "            (intermediate_act_fn): GELUActivation()\n",
       "          )\n",
       "          (output): DebertaOutput(\n",
       "            (dense): Linear(in_features=3072, out_features=768, bias=True)\n",
       "            (LayerNorm): DebertaLayerNorm()\n",
       "            (dropout): StableDropout()\n",
       "          )\n",
       "        )\n",
       "      )\n",
       "      (rel_embeddings): Embedding(1024, 768)\n",
       "    )\n",
       "  )\n",
       "  (pooler): ContextPooler(\n",
       "    (dense): Linear(in_features=768, out_features=768, bias=True)\n",
       "    (dropout): StableDropout()\n",
       "  )\n",
       "  (classifier): Linear(in_features=768, out_features=20, bias=True)\n",
       "  (dropout): StableDropout()\n",
       ")"
      ]
     },
     "execution_count": 55,
     "metadata": {},
     "output_type": "execute_result"
    }
   ],
   "source": [
    "from transformers import DebertaForSequenceClassification, Trainer, TrainingArguments\n",
    "\n",
    "# Импортируем модель для классификации послеждовательностей\n",
    "model = DebertaForSequenceClassification.from_pretrained(\"microsoft/deberta-base\", num_labels=20)\n",
    "device = 'cuda' if torch.cuda.is_available() else 'cpu'\n",
    "# Перебрасываем модель на device\n",
    "model.to(device)\n"
   ]
  },
  {
   "cell_type": "markdown",
   "id": "f28e5719",
   "metadata": {},
   "source": [
    "#### Нашел возможность логирования с помощью wandb.ai (Weights and Biases):"
   ]
  },
  {
   "cell_type": "markdown",
   "id": "6763ece9",
   "metadata": {
    "papermill": {
     "duration": 0.034489,
     "end_time": "2024-11-09T23:24:05.381578",
     "exception": false,
     "start_time": "2024-11-09T23:24:05.347089",
     "status": "completed"
    },
    "tags": []
   },
   "source": [
    "#### Аргументы:"
   ]
  },
  {
   "cell_type": "code",
   "execution_count": null,
   "id": "206a90ed",
   "metadata": {
    "execution": {
     "iopub.execute_input": "2024-11-09T23:24:05.453323Z",
     "iopub.status.busy": "2024-11-09T23:24:05.452288Z",
     "iopub.status.idle": "2024-11-09T23:24:10.414860Z",
     "shell.execute_reply": "2024-11-09T23:24:10.413887Z"
    },
    "papermill": {
     "duration": 5.000753,
     "end_time": "2024-11-09T23:24:10.417044",
     "exception": false,
     "start_time": "2024-11-09T23:24:05.416291",
     "status": "completed"
    },
    "tags": []
   },
   "outputs": [
    {
     "name": "stderr",
     "output_type": "stream",
     "text": [
      "\u001b[34m\u001b[1mwandb\u001b[0m: Using wandb-core as the SDK backend. Please refer to https://wandb.me/wandb-core for more information.\n",
      "\u001b[34m\u001b[1mwandb\u001b[0m: W&B API key is configured. Use \u001b[1m`wandb login --relogin`\u001b[0m to force relogin\n",
      "\u001b[34m\u001b[1mwandb\u001b[0m: \u001b[33mWARNING\u001b[0m If you're specifying your api key in code, ensure this code is not shared publicly.\n",
      "\u001b[34m\u001b[1mwandb\u001b[0m: \u001b[33mWARNING\u001b[0m Consider setting the WANDB_API_KEY environment variable, or running `wandb login` from the command line.\n",
      "\u001b[34m\u001b[1mwandb\u001b[0m: Appending key for api.wandb.ai to your netrc file: /root/.netrc\n",
      "\u001b[34m\u001b[1mwandb\u001b[0m: Currently logged in as: \u001b[33m4ervonec19\u001b[0m (\u001b[33m4ervonec19-bauman-moscow-state-technical-university\u001b[0m). Use \u001b[1m`wandb login --relogin`\u001b[0m to force relogin\n",
      "\u001b[34m\u001b[1mwandb\u001b[0m: Tracking run with wandb version 0.18.3\n",
      "\u001b[34m\u001b[1mwandb\u001b[0m: Run data is saved locally in \u001b[35m\u001b[1m/kaggle/working/wandb/run-20241109_232407-y4ak9gnv\u001b[0m\n",
      "\u001b[34m\u001b[1mwandb\u001b[0m: Run \u001b[1m`wandb offline`\u001b[0m to turn off syncing.\n",
      "\u001b[34m\u001b[1mwandb\u001b[0m: Syncing run \u001b[33mbright-cherry-1\u001b[0m\n",
      "\u001b[34m\u001b[1mwandb\u001b[0m: ⭐️ View project at \u001b[34m\u001b[4mhttps://wandb.ai/4ervonec19-bauman-moscow-state-technical-university/DaBERTa_Accents_GO\u001b[0m\n",
      "\u001b[34m\u001b[1mwandb\u001b[0m: 🚀 View run at \u001b[34m\u001b[4mhttps://wandb.ai/4ervonec19-bauman-moscow-state-technical-university/DaBERTa_Accents_GO/runs/y4ak9gnv\u001b[0m\n"
     ]
    },
    {
     "data": {
      "text/html": [
       "<button onClick=\"this.nextSibling.style.display='block';this.style.display='none';\">Display W&B run</button><iframe src='https://wandb.ai/4ervonec19-bauman-moscow-state-technical-university/DaBERTa_Accents_GO/runs/y4ak9gnv?jupyter=true' style='border:none;width:100%;height:420px;display:none;'></iframe>"
      ],
      "text/plain": [
       "<wandb.sdk.wandb_run.Run at 0x7dd43b540910>"
      ]
     },
     "execution_count": 56,
     "metadata": {},
     "output_type": "execute_result"
    }
   ],
   "source": [
    "import wandb\n",
    "wandb.login(key='### HERE_WAS_MY_API_KEY ###')\n",
    "\n",
    "wandb.init(project='DaBERTa_Accents_GO', config={\n",
    "    'learning_rate': 3e-5,\n",
    "    'epochs': 15,\n",
    "    'batch_size': 128,\n",
    "})\n"
   ]
  },
  {
   "cell_type": "code",
   "execution_count": null,
   "id": "703c5145",
   "metadata": {
    "execution": {
     "iopub.execute_input": "2024-11-09T23:24:10.495844Z",
     "iopub.status.busy": "2024-11-09T23:24:10.495447Z",
     "iopub.status.idle": "2024-11-09T23:24:10.527546Z",
     "shell.execute_reply": "2024-11-09T23:24:10.526682Z"
    },
    "papermill": {
     "duration": 0.074889,
     "end_time": "2024-11-09T23:24:10.529920",
     "exception": false,
     "start_time": "2024-11-09T23:24:10.455031",
     "status": "completed"
    },
    "tags": []
   },
   "outputs": [],
   "source": [
    "from sklearn.metrics import accuracy_score\n",
    "\n",
    "\n",
    "def compute_metrics(eval_pred):\n",
    "    '''Функция подсчета метрики accuracy'''\n",
    "    logits, labels = eval_pred\n",
    "    predictions = np.argmax(logits, axis=-1)\n",
    "    return {\n",
    "        'accuracy': accuracy_score(labels, predictions)\n",
    "    }\n",
    "\n",
    "\n",
    "'''Аргументы, передаваемые в wandb.ai обертку'''\n",
    "training_args = TrainingArguments(\n",
    "    output_dir='./results', # Путь результатов\n",
    "    evaluation_strategy='epoch', # Валидация через эпоху\n",
    "    save_strategy='epoch', # Созранение через эпоху\n",
    "    learning_rate=wandb.config['learning_rate'], # Шаг сходимости из config\n",
    "    per_device_train_batch_size=wandb.config['batch_size'], # Размер train-батча из config\n",
    "    per_device_eval_batch_size=wandb.config['batch_size'], # Размер val-батча из config\n",
    "    num_train_epochs=wandb.config['epochs'], # Число эпох из config\n",
    "    weight_decay=0.01, # Weight decay\n",
    "    logging_dir='./logs', # Папка для логов\n",
    "    logging_steps=10,\n",
    "    gradient_accumulation_steps=2, # Шагов накопления градиентов\n",
    "    load_best_model_at_end=True, \n",
    "    metric_for_best_model='accuracy', # Метрика отбора лучше модели \n",
    "    save_total_limit=2, # Сколько моделей будем сохранять\n",
    "    report_to='wandb'\n",
    ")"
   ]
  },
  {
   "cell_type": "markdown",
   "id": "906e41c6",
   "metadata": {
    "papermill": {
     "duration": 0.046322,
     "end_time": "2024-11-09T23:24:10.614445",
     "exception": false,
     "start_time": "2024-11-09T23:24:10.568123",
     "status": "completed"
    },
    "tags": []
   },
   "source": [
    "#### Train:"
   ]
  },
  {
   "cell_type": "code",
   "execution_count": null,
   "id": "18614a4d",
   "metadata": {
    "execution": {
     "iopub.execute_input": "2024-11-09T23:24:10.715151Z",
     "iopub.status.busy": "2024-11-09T23:24:10.714436Z",
     "iopub.status.idle": "2024-11-09T23:24:10.737783Z",
     "shell.execute_reply": "2024-11-09T23:24:10.736681Z"
    },
    "papermill": {
     "duration": 0.074502,
     "end_time": "2024-11-09T23:24:10.740075",
     "exception": false,
     "start_time": "2024-11-09T23:24:10.665573",
     "status": "completed"
    },
    "tags": []
   },
   "outputs": [],
   "source": [
    "'''Объявление trainer в виде конструктора'''\n",
    "trainer = Trainer(\n",
    "    model=model,\n",
    "    args=training_args,\n",
    "    train_dataset=train_dataset,\n",
    "    eval_dataset=val_dataset, \n",
    "    compute_metrics=compute_metrics\n",
    ")"
   ]
  },
  {
   "cell_type": "code",
   "execution_count": null,
   "id": "e7cd8622",
   "metadata": {
    "execution": {
     "iopub.execute_input": "2024-11-09T23:24:10.819792Z",
     "iopub.status.busy": "2024-11-09T23:24:10.818837Z",
     "iopub.status.idle": "2024-11-10T08:17:57.735191Z",
     "shell.execute_reply": "2024-11-10T08:17:57.734226Z"
    },
    "papermill": {
     "duration": 32026.959244,
     "end_time": "2024-11-10T08:17:57.737096",
     "exception": false,
     "start_time": "2024-11-09T23:24:10.777852",
     "status": "completed"
    },
    "tags": []
   },
   "outputs": [
    {
     "name": "stderr",
     "output_type": "stream",
     "text": [
      "\u001b[34m\u001b[1mwandb\u001b[0m: \u001b[33mWARNING\u001b[0m The `run_name` is currently set to the same value as `TrainingArguments.output_dir`. If this was not intended, please specify a different run name by setting the `TrainingArguments.run_name` parameter.\n"
     ]
    },
    {
     "data": {
      "text/html": [
       "\n",
       "    <div>\n",
       "      \n",
       "      <progress value='44070' max='44070' style='width:300px; height:20px; vertical-align: middle;'></progress>\n",
       "      [44070/44070 8:53:43, Epoch 15/15]\n",
       "    </div>\n",
       "    <table border=\"1\" class=\"dataframe\">\n",
       "  <thead>\n",
       " <tr style=\"text-align: left;\">\n",
       "      <th>Epoch</th>\n",
       "      <th>Training Loss</th>\n",
       "      <th>Validation Loss</th>\n",
       "      <th>Accuracy</th>\n",
       "    </tr>\n",
       "  </thead>\n",
       "  <tbody>\n",
       "    <tr>\n",
       "      <td>1</td>\n",
       "      <td>0.395500</td>\n",
       "      <td>0.330352</td>\n",
       "      <td>0.879923</td>\n",
       "    </tr>\n",
       "    <tr>\n",
       "      <td>2</td>\n",
       "      <td>0.241200</td>\n",
       "      <td>0.228939</td>\n",
       "      <td>0.913263</td>\n",
       "    </tr>\n",
       "    <tr>\n",
       "      <td>3</td>\n",
       "      <td>0.226100</td>\n",
       "      <td>0.185049</td>\n",
       "      <td>0.931620</td>\n",
       "    </tr>\n",
       "    <tr>\n",
       "      <td>4</td>\n",
       "      <td>0.174700</td>\n",
       "      <td>0.163128</td>\n",
       "      <td>0.941948</td>\n",
       "    </tr>\n",
       "    <tr>\n",
       "      <td>5</td>\n",
       "      <td>0.155500</td>\n",
       "      <td>0.143957</td>\n",
       "      <td>0.948685</td>\n",
       "    </tr>\n",
       "    <tr>\n",
       "      <td>6</td>\n",
       "      <td>0.121100</td>\n",
       "      <td>0.133725</td>\n",
       "      <td>0.953676</td>\n",
       "    </tr>\n",
       "    <tr>\n",
       "      <td>7</td>\n",
       "      <td>0.124600</td>\n",
       "      <td>0.126087</td>\n",
       "      <td>0.957589</td>\n",
       "    </tr>\n",
       "    <tr>\n",
       "      <td>8</td>\n",
       "      <td>0.109200</td>\n",
       "      <td>0.119399</td>\n",
       "      <td>0.960916</td>\n",
       "    </tr>\n",
       "    <tr>\n",
       "      <td>9</td>\n",
       "      <td>0.089500</td>\n",
       "      <td>0.116117</td>\n",
       "      <td>0.963417</td>\n",
       "    </tr>\n",
       "    <tr>\n",
       "      <td>10</td>\n",
       "      <td>0.091300</td>\n",
       "      <td>0.113263</td>\n",
       "      <td>0.964769</td>\n",
       "    </tr>\n",
       "    <tr>\n",
       "      <td>11</td>\n",
       "      <td>0.077700</td>\n",
       "      <td>0.115056</td>\n",
       "      <td>0.965583</td>\n",
       "    </tr>\n",
       "    <tr>\n",
       "      <td>12</td>\n",
       "      <td>0.076000</td>\n",
       "      <td>0.108906</td>\n",
       "      <td>0.966672</td>\n",
       "    </tr>\n",
       "    <tr>\n",
       "      <td>13</td>\n",
       "      <td>0.062800</td>\n",
       "      <td>0.111555</td>\n",
       "      <td>0.967952</td>\n",
       "    </tr>\n",
       "    <tr>\n",
       "      <td>14</td>\n",
       "      <td>0.065300</td>\n",
       "      <td>0.111460</td>\n",
       "      <td>0.968575</td>\n",
       "    </tr>\n",
       "    <tr>\n",
       "      <td>15</td>\n",
       "      <td>0.048800</td>\n",
       "      <td>0.114102</td>\n",
       "      <td>0.968658</td>\n",
       "    </tr>\n",
       "  </tbody>\n",
       "</table><p>"
      ],
      "text/plain": [
       "<IPython.core.display.HTML object>"
      ]
     },
     "metadata": {},
     "output_type": "display_data"
    },
    {
     "data": {
      "text/plain": [
       "TrainOutput(global_step=44070, training_loss=0.16563484262576145, metrics={'train_runtime': 32025.1183, 'train_samples_per_second': 352.254, 'train_steps_per_second': 1.376, 'total_flos': 1.4863728296710656e+17, 'train_loss': 0.16563484262576145, 'epoch': 15.0})"
      ]
     },
     "execution_count": 59,
     "metadata": {},
     "output_type": "execute_result"
    }
   ],
   "source": [
    "'''Обучение модели'''\n",
    "trainer.train()"
   ]
  },
  {
   "cell_type": "code",
   "execution_count": 60,
   "id": "b148b414",
   "metadata": {
    "execution": {
     "iopub.execute_input": "2024-11-10T08:17:57.813655Z",
     "iopub.status.busy": "2024-11-10T08:17:57.812881Z",
     "iopub.status.idle": "2024-11-10T08:17:59.352540Z",
     "shell.execute_reply": "2024-11-10T08:17:59.351601Z"
    },
    "papermill": {
     "duration": 1.580588,
     "end_time": "2024-11-10T08:17:59.354758",
     "exception": false,
     "start_time": "2024-11-10T08:17:57.774170",
     "status": "completed"
    },
    "tags": []
   },
   "outputs": [
    {
     "name": "stderr",
     "output_type": "stream",
     "text": [
      "\u001b[34m\u001b[1mwandb\u001b[0m:                                                                                \n",
      "\u001b[34m\u001b[1mwandb\u001b[0m: \n",
      "\u001b[34m\u001b[1mwandb\u001b[0m: Run history:\n",
      "\u001b[34m\u001b[1mwandb\u001b[0m:           eval/accuracy ▁▄▅▆▆▇▇▇███████\n",
      "\u001b[34m\u001b[1mwandb\u001b[0m:               eval/loss █▅▃▃▂▂▂▁▁▁▁▁▁▁▁\n",
      "\u001b[34m\u001b[1mwandb\u001b[0m:            eval/runtime ▁▂▁▁▁▂▃▆▇▅▅▅███\n",
      "\u001b[34m\u001b[1mwandb\u001b[0m: eval/samples_per_second █▇███▇▆▃▂▄▄▄▁▁▁\n",
      "\u001b[34m\u001b[1mwandb\u001b[0m:   eval/steps_per_second █▇███▇▆▃▂▄▄▄▁▁▁\n",
      "\u001b[34m\u001b[1mwandb\u001b[0m:             train/epoch ▁▁▁▁▁▂▂▂▂▂▃▃▃▃▃▃▄▄▄▄▄▄▅▅▅▅▅▅▆▆▆▆▆▆▆▇▇███\n",
      "\u001b[34m\u001b[1mwandb\u001b[0m:       train/global_step ▁▁▁▁▂▂▂▂▂▂▂▂▃▃▃▃▃▃▃▃▄▄▄▄▅▅▅▅▅▅▆▆▆▆▇▇▇███\n",
      "\u001b[34m\u001b[1mwandb\u001b[0m:         train/grad_norm ██▆▃▄▃▂▂▁▂▃▂▃▃▂▃▂▃▂▂▃▁▃▄▂▅▆▂▂▃▂▁▁▃▃▂▃▁▃▂\n",
      "\u001b[34m\u001b[1mwandb\u001b[0m:     train/learning_rate ████▇▇▇▇▇▇▆▆▆▆▆▆▅▅▅▅▅▅▅▅▄▄▄▃▃▃▃▃▂▂▂▂▂▂▁▁\n",
      "\u001b[34m\u001b[1mwandb\u001b[0m:              train/loss ██▃▃▃▂▂▂▂▂▂▂▁▁▂▁▁▁▁▂▁▁▁▁▁▁▁▁▁▁▁▁▁▁▁▁▁▁▁▁\n",
      "\u001b[34m\u001b[1mwandb\u001b[0m: \n",
      "\u001b[34m\u001b[1mwandb\u001b[0m: Run summary:\n",
      "\u001b[34m\u001b[1mwandb\u001b[0m:            eval/accuracy 0.96866\n",
      "\u001b[34m\u001b[1mwandb\u001b[0m:                eval/loss 0.1141\n",
      "\u001b[34m\u001b[1mwandb\u001b[0m:             eval/runtime 86.6476\n",
      "\u001b[34m\u001b[1mwandb\u001b[0m:  eval/samples_per_second 964.4\n",
      "\u001b[34m\u001b[1mwandb\u001b[0m:    eval/steps_per_second 7.536\n",
      "\u001b[34m\u001b[1mwandb\u001b[0m:               total_flos 1.4863728296710656e+17\n",
      "\u001b[34m\u001b[1mwandb\u001b[0m:              train/epoch 15\n",
      "\u001b[34m\u001b[1mwandb\u001b[0m:        train/global_step 44070\n",
      "\u001b[34m\u001b[1mwandb\u001b[0m:          train/grad_norm 1.77105\n",
      "\u001b[34m\u001b[1mwandb\u001b[0m:      train/learning_rate 0\n",
      "\u001b[34m\u001b[1mwandb\u001b[0m:               train/loss 0.0488\n",
      "\u001b[34m\u001b[1mwandb\u001b[0m:               train_loss 0.16563\n",
      "\u001b[34m\u001b[1mwandb\u001b[0m:            train_runtime 32025.1183\n",
      "\u001b[34m\u001b[1mwandb\u001b[0m: train_samples_per_second 352.254\n",
      "\u001b[34m\u001b[1mwandb\u001b[0m:   train_steps_per_second 1.376\n",
      "\u001b[34m\u001b[1mwandb\u001b[0m: \n",
      "\u001b[34m\u001b[1mwandb\u001b[0m: 🚀 View run \u001b[33mbright-cherry-1\u001b[0m at: \u001b[34m\u001b[4mhttps://wandb.ai/4ervonec19-bauman-moscow-state-technical-university/DaBERTa_Accents_GO/runs/y4ak9gnv\u001b[0m\n",
      "\u001b[34m\u001b[1mwandb\u001b[0m: ⭐️ View project at: \u001b[34m\u001b[4mhttps://wandb.ai/4ervonec19-bauman-moscow-state-technical-university/DaBERTa_Accents_GO\u001b[0m\n",
      "\u001b[34m\u001b[1mwandb\u001b[0m: Synced 5 W&B file(s), 0 media file(s), 0 artifact file(s) and 0 other file(s)\n",
      "\u001b[34m\u001b[1mwandb\u001b[0m: Find logs at: \u001b[35m\u001b[1m./wandb/run-20241109_232407-y4ak9gnv/logs\u001b[0m\n"
     ]
    }
   ],
   "source": [
    "wandb.finish()"
   ]
  },
  {
   "cell_type": "markdown",
   "id": "2dd3e4d1",
   "metadata": {},
   "source": [
    "#### Ссылка на логирование:\n",
    "\n",
    "https://wandb.ai/4ervonec19-bauman-moscow-state-technical-university/DaBERTa_Accents_GO?nw=nwuser4ervonec19"
   ]
  },
  {
   "cell_type": "code",
   "execution_count": null,
   "id": "71c52484",
   "metadata": {},
   "outputs": [],
   "source": []
  }
 ],
 "metadata": {
  "kaggle": {
   "accelerator": "gpu",
   "dataSources": [
    {
     "datasetId": 6039745,
     "sourceId": 9844355,
     "sourceType": "datasetVersion"
    },
    {
     "datasetId": 6041907,
     "sourceId": 9847182,
     "sourceType": "datasetVersion"
    },
    {
     "isSourceIdPinned": true,
     "modelId": 159412,
     "modelInstanceId": 136686,
     "sourceId": 160746,
     "sourceType": "modelInstanceVersion"
    },
    {
     "isSourceIdPinned": true,
     "modelId": 159510,
     "modelInstanceId": 136786,
     "sourceId": 160857,
     "sourceType": "modelInstanceVersion"
    }
   ],
   "dockerImageVersionId": 30786,
   "isGpuEnabled": true,
   "isInternetEnabled": true,
   "language": "python",
   "sourceType": "notebook"
  },
  "kernelspec": {
   "display_name": "Python 3",
   "language": "python",
   "name": "python3"
  },
  "language_info": {
   "codemirror_mode": {
    "name": "ipython",
    "version": 3
   },
   "file_extension": ".py",
   "mimetype": "text/x-python",
   "name": "python",
   "nbconvert_exporter": "python",
   "pygments_lexer": "ipython3",
   "version": "3.12.3"
  },
  "papermill": {
   "default_parameters": {},
   "duration": 32208.789845,
   "end_time": "2024-11-10T08:18:04.817064",
   "environment_variables": {},
   "exception": null,
   "input_path": "__notebook__.ipynb",
   "output_path": "__notebook__.ipynb",
   "parameters": {},
   "start_time": "2024-11-09T23:21:16.027219",
   "version": "2.6.0"
  },
  "widgets": {
   "application/vnd.jupyter.widget-state+json": {
    "state": {
     "01cee985151548de866c1e6936a2076c": {
      "model_module": "@jupyter-widgets/base",
      "model_module_version": "1.2.0",
      "model_name": "LayoutModel",
      "state": {
       "_model_module": "@jupyter-widgets/base",
       "_model_module_version": "1.2.0",
       "_model_name": "LayoutModel",
       "_view_count": null,
       "_view_module": "@jupyter-widgets/base",
       "_view_module_version": "1.2.0",
       "_view_name": "LayoutView",
       "align_content": null,
       "align_items": null,
       "align_self": null,
       "border": null,
       "bottom": null,
       "display": null,
       "flex": null,
       "flex_flow": null,
       "grid_area": null,
       "grid_auto_columns": null,
       "grid_auto_flow": null,
       "grid_auto_rows": null,
       "grid_column": null,
       "grid_gap": null,
       "grid_row": null,
       "grid_template_areas": null,
       "grid_template_columns": null,
       "grid_template_rows": null,
       "height": null,
       "justify_content": null,
       "justify_items": null,
       "left": null,
       "margin": null,
       "max_height": null,
       "max_width": null,
       "min_height": null,
       "min_width": null,
       "object_fit": null,
       "object_position": null,
       "order": null,
       "overflow": null,
       "overflow_x": null,
       "overflow_y": null,
       "padding": null,
       "right": null,
       "top": null,
       "visibility": null,
       "width": null
      }
     },
     "035628d91b434a198dba3ae177d76ccd": {
      "model_module": "@jupyter-widgets/base",
      "model_module_version": "1.2.0",
      "model_name": "LayoutModel",
      "state": {
       "_model_module": "@jupyter-widgets/base",
       "_model_module_version": "1.2.0",
       "_model_name": "LayoutModel",
       "_view_count": null,
       "_view_module": "@jupyter-widgets/base",
       "_view_module_version": "1.2.0",
       "_view_name": "LayoutView",
       "align_content": null,
       "align_items": null,
       "align_self": null,
       "border": null,
       "bottom": null,
       "display": null,
       "flex": null,
       "flex_flow": null,
       "grid_area": null,
       "grid_auto_columns": null,
       "grid_auto_flow": null,
       "grid_auto_rows": null,
       "grid_column": null,
       "grid_gap": null,
       "grid_row": null,
       "grid_template_areas": null,
       "grid_template_columns": null,
       "grid_template_rows": null,
       "height": null,
       "justify_content": null,
       "justify_items": null,
       "left": null,
       "margin": null,
       "max_height": null,
       "max_width": null,
       "min_height": null,
       "min_width": null,
       "object_fit": null,
       "object_position": null,
       "order": null,
       "overflow": null,
       "overflow_x": null,
       "overflow_y": null,
       "padding": null,
       "right": null,
       "top": null,
       "visibility": null,
       "width": null
      }
     },
     "0b8805a5d16249df8f95430208418867": {
      "model_module": "@jupyter-widgets/base",
      "model_module_version": "1.2.0",
      "model_name": "LayoutModel",
      "state": {
       "_model_module": "@jupyter-widgets/base",
       "_model_module_version": "1.2.0",
       "_model_name": "LayoutModel",
       "_view_count": null,
       "_view_module": "@jupyter-widgets/base",
       "_view_module_version": "1.2.0",
       "_view_name": "LayoutView",
       "align_content": null,
       "align_items": null,
       "align_self": null,
       "border": null,
       "bottom": null,
       "display": null,
       "flex": null,
       "flex_flow": null,
       "grid_area": null,
       "grid_auto_columns": null,
       "grid_auto_flow": null,
       "grid_auto_rows": null,
       "grid_column": null,
       "grid_gap": null,
       "grid_row": null,
       "grid_template_areas": null,
       "grid_template_columns": null,
       "grid_template_rows": null,
       "height": null,
       "justify_content": null,
       "justify_items": null,
       "left": null,
       "margin": null,
       "max_height": null,
       "max_width": null,
       "min_height": null,
       "min_width": null,
       "object_fit": null,
       "object_position": null,
       "order": null,
       "overflow": null,
       "overflow_x": null,
       "overflow_y": null,
       "padding": null,
       "right": null,
       "top": null,
       "visibility": null,
       "width": null
      }
     },
     "0f35c5f155124a87b34a840c9f56d407": {
      "model_module": "@jupyter-widgets/controls",
      "model_module_version": "1.5.0",
      "model_name": "HBoxModel",
      "state": {
       "_dom_classes": [],
       "_model_module": "@jupyter-widgets/controls",
       "_model_module_version": "1.5.0",
       "_model_name": "HBoxModel",
       "_view_count": null,
       "_view_module": "@jupyter-widgets/controls",
       "_view_module_version": "1.5.0",
       "_view_name": "HBoxView",
       "box_style": "",
       "children": [
        "IPY_MODEL_1af2760cdddf4838947364d35343ce8f",
        "IPY_MODEL_2fc0039b34d14261b5d191c629cbbf6e",
        "IPY_MODEL_fc68c2d557eb40aa88be0e0e799321ee"
       ],
       "layout": "IPY_MODEL_5131f557d9f64a9d8a65e5eda8692844"
      }
     },
     "10a6f05f78784a758cc8f9adfcd3a537": {
      "model_module": "@jupyter-widgets/controls",
      "model_module_version": "1.5.0",
      "model_name": "DescriptionStyleModel",
      "state": {
       "_model_module": "@jupyter-widgets/controls",
       "_model_module_version": "1.5.0",
       "_model_name": "DescriptionStyleModel",
       "_view_count": null,
       "_view_module": "@jupyter-widgets/base",
       "_view_module_version": "1.2.0",
       "_view_name": "StyleView",
       "description_width": ""
      }
     },
     "1af2760cdddf4838947364d35343ce8f": {
      "model_module": "@jupyter-widgets/controls",
      "model_module_version": "1.5.0",
      "model_name": "HTMLModel",
      "state": {
       "_dom_classes": [],
       "_model_module": "@jupyter-widgets/controls",
       "_model_module_version": "1.5.0",
       "_model_name": "HTMLModel",
       "_view_count": null,
       "_view_module": "@jupyter-widgets/controls",
       "_view_module_version": "1.5.0",
       "_view_name": "HTMLView",
       "description": "",
       "description_tooltip": null,
       "layout": "IPY_MODEL_d5408f7e7eaf425eab7cfa92a9077506",
       "placeholder": "​",
       "style": "IPY_MODEL_8fa4ffd2e959462db941ffc20fe35f0d",
       "value": "  0%"
      }
     },
     "1c74ba159d9d4d0f80c9eb0fa8b336bb": {
      "model_module": "@jupyter-widgets/controls",
      "model_module_version": "1.5.0",
      "model_name": "HTMLModel",
      "state": {
       "_dom_classes": [],
       "_model_module": "@jupyter-widgets/controls",
       "_model_module_version": "1.5.0",
       "_model_name": "HTMLModel",
       "_view_count": null,
       "_view_module": "@jupyter-widgets/controls",
       "_view_module_version": "1.5.0",
       "_view_name": "HTMLView",
       "description": "",
       "description_tooltip": null,
       "layout": "IPY_MODEL_45418d9abc9341de81d655767d17763c",
       "placeholder": "​",
       "style": "IPY_MODEL_10a6f05f78784a758cc8f9adfcd3a537",
       "value": " 474/474 [00:00&lt;00:00, 39.1kB/s]"
      }
     },
     "27c046f31a604c86828d02d6ec76da03": {
      "model_module": "@jupyter-widgets/controls",
      "model_module_version": "1.5.0",
      "model_name": "DescriptionStyleModel",
      "state": {
       "_model_module": "@jupyter-widgets/controls",
       "_model_module_version": "1.5.0",
       "_model_name": "DescriptionStyleModel",
       "_view_count": null,
       "_view_module": "@jupyter-widgets/base",
       "_view_module_version": "1.2.0",
       "_view_name": "StyleView",
       "description_width": ""
      }
     },
     "2f49aa7553b34e1abbad91944c541465": {
      "model_module": "@jupyter-widgets/controls",
      "model_module_version": "1.5.0",
      "model_name": "HTMLModel",
      "state": {
       "_dom_classes": [],
       "_model_module": "@jupyter-widgets/controls",
       "_model_module_version": "1.5.0",
       "_model_name": "HTMLModel",
       "_view_count": null,
       "_view_module": "@jupyter-widgets/controls",
       "_view_module_version": "1.5.0",
       "_view_name": "HTMLView",
       "description": "",
       "description_tooltip": null,
       "layout": "IPY_MODEL_573fb1fa21584c9d94196d7377273aed",
       "placeholder": "​",
       "style": "IPY_MODEL_27c046f31a604c86828d02d6ec76da03",
       "value": " 1671254/? [00:06&lt;00:00, 340477.38it/s]"
      }
     },
     "2fc0039b34d14261b5d191c629cbbf6e": {
      "model_module": "@jupyter-widgets/controls",
      "model_module_version": "1.5.0",
      "model_name": "FloatProgressModel",
      "state": {
       "_dom_classes": [],
       "_model_module": "@jupyter-widgets/controls",
       "_model_module_version": "1.5.0",
       "_model_name": "FloatProgressModel",
       "_view_count": null,
       "_view_module": "@jupyter-widgets/controls",
       "_view_module_version": "1.5.0",
       "_view_name": "ProgressView",
       "bar_style": "danger",
       "description": "",
       "description_tooltip": null,
       "layout": "IPY_MODEL_0b8805a5d16249df8f95430208418867",
       "max": 5876,
       "min": 0,
       "orientation": "horizontal",
       "style": "IPY_MODEL_ba5f4dc5412947498f7b853eb0e56941",
       "value": 0
      }
     },
     "3494fd854f0240b2ae65cb33f603c41a": {
      "model_module": "@jupyter-widgets/controls",
      "model_module_version": "1.5.0",
      "model_name": "HTMLModel",
      "state": {
       "_dom_classes": [],
       "_model_module": "@jupyter-widgets/controls",
       "_model_module_version": "1.5.0",
       "_model_name": "HTMLModel",
       "_view_count": null,
       "_view_module": "@jupyter-widgets/controls",
       "_view_module_version": "1.5.0",
       "_view_name": "HTMLView",
       "description": "",
       "description_tooltip": null,
       "layout": "IPY_MODEL_d7a70d47310f4591836a17a7cf2cad0e",
       "placeholder": "​",
       "style": "IPY_MODEL_98c6a0ccf2d642c2b15fa248461d5bcb",
       "value": " 559M/559M [01:00&lt;00:00, 9.96MB/s]"
      }
     },
     "372ea0afea484ff7a077d905871443a3": {
      "model_module": "@jupyter-widgets/controls",
      "model_module_version": "1.5.0",
      "model_name": "ProgressStyleModel",
      "state": {
       "_model_module": "@jupyter-widgets/controls",
       "_model_module_version": "1.5.0",
       "_model_name": "ProgressStyleModel",
       "_view_count": null,
       "_view_module": "@jupyter-widgets/base",
       "_view_module_version": "1.2.0",
       "_view_name": "StyleView",
       "bar_color": null,
       "description_width": ""
      }
     },
     "376d6582f38e4d15a1675c738579f8db": {
      "model_module": "@jupyter-widgets/base",
      "model_module_version": "1.2.0",
      "model_name": "LayoutModel",
      "state": {
       "_model_module": "@jupyter-widgets/base",
       "_model_module_version": "1.2.0",
       "_model_name": "LayoutModel",
       "_view_count": null,
       "_view_module": "@jupyter-widgets/base",
       "_view_module_version": "1.2.0",
       "_view_name": "LayoutView",
       "align_content": null,
       "align_items": null,
       "align_self": null,
       "border": null,
       "bottom": null,
       "display": null,
       "flex": null,
       "flex_flow": null,
       "grid_area": null,
       "grid_auto_columns": null,
       "grid_auto_flow": null,
       "grid_auto_rows": null,
       "grid_column": null,
       "grid_gap": null,
       "grid_row": null,
       "grid_template_areas": null,
       "grid_template_columns": null,
       "grid_template_rows": null,
       "height": null,
       "justify_content": null,
       "justify_items": null,
       "left": null,
       "margin": null,
       "max_height": null,
       "max_width": null,
       "min_height": null,
       "min_width": null,
       "object_fit": null,
       "object_position": null,
       "order": null,
       "overflow": null,
       "overflow_x": null,
       "overflow_y": null,
       "padding": null,
       "right": null,
       "top": null,
       "visibility": null,
       "width": null
      }
     },
     "45418d9abc9341de81d655767d17763c": {
      "model_module": "@jupyter-widgets/base",
      "model_module_version": "1.2.0",
      "model_name": "LayoutModel",
      "state": {
       "_model_module": "@jupyter-widgets/base",
       "_model_module_version": "1.2.0",
       "_model_name": "LayoutModel",
       "_view_count": null,
       "_view_module": "@jupyter-widgets/base",
       "_view_module_version": "1.2.0",
       "_view_name": "LayoutView",
       "align_content": null,
       "align_items": null,
       "align_self": null,
       "border": null,
       "bottom": null,
       "display": null,
       "flex": null,
       "flex_flow": null,
       "grid_area": null,
       "grid_auto_columns": null,
       "grid_auto_flow": null,
       "grid_auto_rows": null,
       "grid_column": null,
       "grid_gap": null,
       "grid_row": null,
       "grid_template_areas": null,
       "grid_template_columns": null,
       "grid_template_rows": null,
       "height": null,
       "justify_content": null,
       "justify_items": null,
       "left": null,
       "margin": null,
       "max_height": null,
       "max_width": null,
       "min_height": null,
       "min_width": null,
       "object_fit": null,
       "object_position": null,
       "order": null,
       "overflow": null,
       "overflow_x": null,
       "overflow_y": null,
       "padding": null,
       "right": null,
       "top": null,
       "visibility": null,
       "width": null
      }
     },
     "46a3d764f0f8480199275e62c638a897": {
      "model_module": "@jupyter-widgets/controls",
      "model_module_version": "1.5.0",
      "model_name": "FloatProgressModel",
      "state": {
       "_dom_classes": [],
       "_model_module": "@jupyter-widgets/controls",
       "_model_module_version": "1.5.0",
       "_model_name": "FloatProgressModel",
       "_view_count": null,
       "_view_module": "@jupyter-widgets/controls",
       "_view_module_version": "1.5.0",
       "_view_name": "ProgressView",
       "bar_style": "success",
       "description": "",
       "description_tooltip": null,
       "layout": "IPY_MODEL_48a699d67ec34e259c03f8a7ab11d4ac",
       "max": 558614189,
       "min": 0,
       "orientation": "horizontal",
       "style": "IPY_MODEL_dce7987d6a274a798f5cd876c2122354",
       "value": 558614189
      }
     },
     "48a699d67ec34e259c03f8a7ab11d4ac": {
      "model_module": "@jupyter-widgets/base",
      "model_module_version": "1.2.0",
      "model_name": "LayoutModel",
      "state": {
       "_model_module": "@jupyter-widgets/base",
       "_model_module_version": "1.2.0",
       "_model_name": "LayoutModel",
       "_view_count": null,
       "_view_module": "@jupyter-widgets/base",
       "_view_module_version": "1.2.0",
       "_view_name": "LayoutView",
       "align_content": null,
       "align_items": null,
       "align_self": null,
       "border": null,
       "bottom": null,
       "display": null,
       "flex": null,
       "flex_flow": null,
       "grid_area": null,
       "grid_auto_columns": null,
       "grid_auto_flow": null,
       "grid_auto_rows": null,
       "grid_column": null,
       "grid_gap": null,
       "grid_row": null,
       "grid_template_areas": null,
       "grid_template_columns": null,
       "grid_template_rows": null,
       "height": null,
       "justify_content": null,
       "justify_items": null,
       "left": null,
       "margin": null,
       "max_height": null,
       "max_width": null,
       "min_height": null,
       "min_width": null,
       "object_fit": null,
       "object_position": null,
       "order": null,
       "overflow": null,
       "overflow_x": null,
       "overflow_y": null,
       "padding": null,
       "right": null,
       "top": null,
       "visibility": null,
       "width": null
      }
     },
     "5131f557d9f64a9d8a65e5eda8692844": {
      "model_module": "@jupyter-widgets/base",
      "model_module_version": "1.2.0",
      "model_name": "LayoutModel",
      "state": {
       "_model_module": "@jupyter-widgets/base",
       "_model_module_version": "1.2.0",
       "_model_name": "LayoutModel",
       "_view_count": null,
       "_view_module": "@jupyter-widgets/base",
       "_view_module_version": "1.2.0",
       "_view_name": "LayoutView",
       "align_content": null,
       "align_items": null,
       "align_self": null,
       "border": null,
       "bottom": null,
       "display": null,
       "flex": null,
       "flex_flow": null,
       "grid_area": null,
       "grid_auto_columns": null,
       "grid_auto_flow": null,
       "grid_auto_rows": null,
       "grid_column": null,
       "grid_gap": null,
       "grid_row": null,
       "grid_template_areas": null,
       "grid_template_columns": null,
       "grid_template_rows": null,
       "height": null,
       "justify_content": null,
       "justify_items": null,
       "left": null,
       "margin": null,
       "max_height": null,
       "max_width": null,
       "min_height": null,
       "min_width": null,
       "object_fit": null,
       "object_position": null,
       "order": null,
       "overflow": null,
       "overflow_x": null,
       "overflow_y": null,
       "padding": null,
       "right": null,
       "top": null,
       "visibility": null,
       "width": null
      }
     },
     "56a842166f384707a1fa7522755a78a6": {
      "model_module": "@jupyter-widgets/controls",
      "model_module_version": "1.5.0",
      "model_name": "HBoxModel",
      "state": {
       "_dom_classes": [],
       "_model_module": "@jupyter-widgets/controls",
       "_model_module_version": "1.5.0",
       "_model_name": "HBoxModel",
       "_view_count": null,
       "_view_module": "@jupyter-widgets/controls",
       "_view_module_version": "1.5.0",
       "_view_name": "HBoxView",
       "box_style": "",
       "children": [
        "IPY_MODEL_f82dd436864e4038a357c68fae947eb1",
        "IPY_MODEL_46a3d764f0f8480199275e62c638a897",
        "IPY_MODEL_3494fd854f0240b2ae65cb33f603c41a"
       ],
       "layout": "IPY_MODEL_fb4d816e774a4a19af30257950867571"
      }
     },
     "573fb1fa21584c9d94196d7377273aed": {
      "model_module": "@jupyter-widgets/base",
      "model_module_version": "1.2.0",
      "model_name": "LayoutModel",
      "state": {
       "_model_module": "@jupyter-widgets/base",
       "_model_module_version": "1.2.0",
       "_model_name": "LayoutModel",
       "_view_count": null,
       "_view_module": "@jupyter-widgets/base",
       "_view_module_version": "1.2.0",
       "_view_name": "LayoutView",
       "align_content": null,
       "align_items": null,
       "align_self": null,
       "border": null,
       "bottom": null,
       "display": null,
       "flex": null,
       "flex_flow": null,
       "grid_area": null,
       "grid_auto_columns": null,
       "grid_auto_flow": null,
       "grid_auto_rows": null,
       "grid_column": null,
       "grid_gap": null,
       "grid_row": null,
       "grid_template_areas": null,
       "grid_template_columns": null,
       "grid_template_rows": null,
       "height": null,
       "justify_content": null,
       "justify_items": null,
       "left": null,
       "margin": null,
       "max_height": null,
       "max_width": null,
       "min_height": null,
       "min_width": null,
       "object_fit": null,
       "object_position": null,
       "order": null,
       "overflow": null,
       "overflow_x": null,
       "overflow_y": null,
       "padding": null,
       "right": null,
       "top": null,
       "visibility": null,
       "width": null
      }
     },
     "5c0016c1712c4d42871d026c536d9efe": {
      "model_module": "@jupyter-widgets/controls",
      "model_module_version": "1.5.0",
      "model_name": "DescriptionStyleModel",
      "state": {
       "_model_module": "@jupyter-widgets/controls",
       "_model_module_version": "1.5.0",
       "_model_name": "DescriptionStyleModel",
       "_view_count": null,
       "_view_module": "@jupyter-widgets/base",
       "_view_module_version": "1.2.0",
       "_view_name": "StyleView",
       "description_width": ""
      }
     },
     "6242bd35bc55451bbe6b9644bd1f1425": {
      "model_module": "@jupyter-widgets/base",
      "model_module_version": "1.2.0",
      "model_name": "LayoutModel",
      "state": {
       "_model_module": "@jupyter-widgets/base",
       "_model_module_version": "1.2.0",
       "_model_name": "LayoutModel",
       "_view_count": null,
       "_view_module": "@jupyter-widgets/base",
       "_view_module_version": "1.2.0",
       "_view_name": "LayoutView",
       "align_content": null,
       "align_items": null,
       "align_self": null,
       "border": null,
       "bottom": null,
       "display": null,
       "flex": null,
       "flex_flow": null,
       "grid_area": null,
       "grid_auto_columns": null,
       "grid_auto_flow": null,
       "grid_auto_rows": null,
       "grid_column": null,
       "grid_gap": null,
       "grid_row": null,
       "grid_template_areas": null,
       "grid_template_columns": null,
       "grid_template_rows": null,
       "height": null,
       "justify_content": null,
       "justify_items": null,
       "left": null,
       "margin": null,
       "max_height": null,
       "max_width": null,
       "min_height": null,
       "min_width": null,
       "object_fit": null,
       "object_position": null,
       "order": null,
       "overflow": null,
       "overflow_x": null,
       "overflow_y": null,
       "padding": null,
       "right": null,
       "top": null,
       "visibility": null,
       "width": "20px"
      }
     },
     "7f510a69e7954deaa784de8fc822fbb1": {
      "model_module": "@jupyter-widgets/controls",
      "model_module_version": "1.5.0",
      "model_name": "ProgressStyleModel",
      "state": {
       "_model_module": "@jupyter-widgets/controls",
       "_model_module_version": "1.5.0",
       "_model_name": "ProgressStyleModel",
       "_view_count": null,
       "_view_module": "@jupyter-widgets/base",
       "_view_module_version": "1.2.0",
       "_view_name": "StyleView",
       "bar_color": null,
       "description_width": ""
      }
     },
     "818209865ada466caedfa4c8ada85915": {
      "model_module": "@jupyter-widgets/controls",
      "model_module_version": "1.5.0",
      "model_name": "DescriptionStyleModel",
      "state": {
       "_model_module": "@jupyter-widgets/controls",
       "_model_module_version": "1.5.0",
       "_model_name": "DescriptionStyleModel",
       "_view_count": null,
       "_view_module": "@jupyter-widgets/base",
       "_view_module_version": "1.2.0",
       "_view_name": "StyleView",
       "description_width": ""
      }
     },
     "8617bc9cd5a44c44b9753e48e134c6cf": {
      "model_module": "@jupyter-widgets/base",
      "model_module_version": "1.2.0",
      "model_name": "LayoutModel",
      "state": {
       "_model_module": "@jupyter-widgets/base",
       "_model_module_version": "1.2.0",
       "_model_name": "LayoutModel",
       "_view_count": null,
       "_view_module": "@jupyter-widgets/base",
       "_view_module_version": "1.2.0",
       "_view_name": "LayoutView",
       "align_content": null,
       "align_items": null,
       "align_self": null,
       "border": null,
       "bottom": null,
       "display": null,
       "flex": null,
       "flex_flow": null,
       "grid_area": null,
       "grid_auto_columns": null,
       "grid_auto_flow": null,
       "grid_auto_rows": null,
       "grid_column": null,
       "grid_gap": null,
       "grid_row": null,
       "grid_template_areas": null,
       "grid_template_columns": null,
       "grid_template_rows": null,
       "height": null,
       "justify_content": null,
       "justify_items": null,
       "left": null,
       "margin": null,
       "max_height": null,
       "max_width": null,
       "min_height": null,
       "min_width": null,
       "object_fit": null,
       "object_position": null,
       "order": null,
       "overflow": null,
       "overflow_x": null,
       "overflow_y": null,
       "padding": null,
       "right": null,
       "top": null,
       "visibility": null,
       "width": null
      }
     },
     "8daf7f722bc0414b8d6186345a05de0e": {
      "model_module": "@jupyter-widgets/controls",
      "model_module_version": "1.5.0",
      "model_name": "DescriptionStyleModel",
      "state": {
       "_model_module": "@jupyter-widgets/controls",
       "_model_module_version": "1.5.0",
       "_model_name": "DescriptionStyleModel",
       "_view_count": null,
       "_view_module": "@jupyter-widgets/base",
       "_view_module_version": "1.2.0",
       "_view_name": "StyleView",
       "description_width": ""
      }
     },
     "8fa4ffd2e959462db941ffc20fe35f0d": {
      "model_module": "@jupyter-widgets/controls",
      "model_module_version": "1.5.0",
      "model_name": "DescriptionStyleModel",
      "state": {
       "_model_module": "@jupyter-widgets/controls",
       "_model_module_version": "1.5.0",
       "_model_name": "DescriptionStyleModel",
       "_view_count": null,
       "_view_module": "@jupyter-widgets/base",
       "_view_module_version": "1.2.0",
       "_view_name": "StyleView",
       "description_width": ""
      }
     },
     "98c6a0ccf2d642c2b15fa248461d5bcb": {
      "model_module": "@jupyter-widgets/controls",
      "model_module_version": "1.5.0",
      "model_name": "DescriptionStyleModel",
      "state": {
       "_model_module": "@jupyter-widgets/controls",
       "_model_module_version": "1.5.0",
       "_model_name": "DescriptionStyleModel",
       "_view_count": null,
       "_view_module": "@jupyter-widgets/base",
       "_view_module_version": "1.2.0",
       "_view_name": "StyleView",
       "description_width": ""
      }
     },
     "9dce6ff9049142ca80c6bdf8571de037": {
      "model_module": "@jupyter-widgets/controls",
      "model_module_version": "1.5.0",
      "model_name": "HBoxModel",
      "state": {
       "_dom_classes": [],
       "_model_module": "@jupyter-widgets/controls",
       "_model_module_version": "1.5.0",
       "_model_name": "HBoxModel",
       "_view_count": null,
       "_view_module": "@jupyter-widgets/controls",
       "_view_module_version": "1.5.0",
       "_view_name": "HBoxView",
       "box_style": "",
       "children": [
        "IPY_MODEL_f30026b8b3a144878c5f7b462c1407db",
        "IPY_MODEL_fa994024494840ac80b3c7f12bd527c8",
        "IPY_MODEL_1c74ba159d9d4d0f80c9eb0fa8b336bb"
       ],
       "layout": "IPY_MODEL_376d6582f38e4d15a1675c738579f8db"
      }
     },
     "9eeef611fc014d0894476e695852eeae": {
      "model_module": "@jupyter-widgets/controls",
      "model_module_version": "1.5.0",
      "model_name": "DescriptionStyleModel",
      "state": {
       "_model_module": "@jupyter-widgets/controls",
       "_model_module_version": "1.5.0",
       "_model_name": "DescriptionStyleModel",
       "_view_count": null,
       "_view_module": "@jupyter-widgets/base",
       "_view_module_version": "1.2.0",
       "_view_name": "StyleView",
       "description_width": ""
      }
     },
     "a3d6956ec8144c9fadc99948b0d8ac9d": {
      "model_module": "@jupyter-widgets/base",
      "model_module_version": "1.2.0",
      "model_name": "LayoutModel",
      "state": {
       "_model_module": "@jupyter-widgets/base",
       "_model_module_version": "1.2.0",
       "_model_name": "LayoutModel",
       "_view_count": null,
       "_view_module": "@jupyter-widgets/base",
       "_view_module_version": "1.2.0",
       "_view_name": "LayoutView",
       "align_content": null,
       "align_items": null,
       "align_self": null,
       "border": null,
       "bottom": null,
       "display": null,
       "flex": null,
       "flex_flow": null,
       "grid_area": null,
       "grid_auto_columns": null,
       "grid_auto_flow": null,
       "grid_auto_rows": null,
       "grid_column": null,
       "grid_gap": null,
       "grid_row": null,
       "grid_template_areas": null,
       "grid_template_columns": null,
       "grid_template_rows": null,
       "height": null,
       "justify_content": null,
       "justify_items": null,
       "left": null,
       "margin": null,
       "max_height": null,
       "max_width": null,
       "min_height": null,
       "min_width": null,
       "object_fit": null,
       "object_position": null,
       "order": null,
       "overflow": null,
       "overflow_x": null,
       "overflow_y": null,
       "padding": null,
       "right": null,
       "top": null,
       "visibility": null,
       "width": null
      }
     },
     "b99297ea51e34a8c87728320f7cbc13a": {
      "model_module": "@jupyter-widgets/controls",
      "model_module_version": "1.5.0",
      "model_name": "FloatProgressModel",
      "state": {
       "_dom_classes": [],
       "_model_module": "@jupyter-widgets/controls",
       "_model_module_version": "1.5.0",
       "_model_name": "FloatProgressModel",
       "_view_count": null,
       "_view_module": "@jupyter-widgets/controls",
       "_view_module_version": "1.5.0",
       "_view_name": "ProgressView",
       "bar_style": "success",
       "description": "",
       "description_tooltip": null,
       "layout": "IPY_MODEL_6242bd35bc55451bbe6b9644bd1f1425",
       "max": 1,
       "min": 0,
       "orientation": "horizontal",
       "style": "IPY_MODEL_7f510a69e7954deaa784de8fc822fbb1",
       "value": 1
      }
     },
     "ba5f4dc5412947498f7b853eb0e56941": {
      "model_module": "@jupyter-widgets/controls",
      "model_module_version": "1.5.0",
      "model_name": "ProgressStyleModel",
      "state": {
       "_model_module": "@jupyter-widgets/controls",
       "_model_module_version": "1.5.0",
       "_model_name": "ProgressStyleModel",
       "_view_count": null,
       "_view_module": "@jupyter-widgets/base",
       "_view_module_version": "1.2.0",
       "_view_name": "StyleView",
       "bar_color": null,
       "description_width": ""
      }
     },
     "c105b74555b44e7fa16e666611fa80d0": {
      "model_module": "@jupyter-widgets/controls",
      "model_module_version": "1.5.0",
      "model_name": "HTMLModel",
      "state": {
       "_dom_classes": [],
       "_model_module": "@jupyter-widgets/controls",
       "_model_module_version": "1.5.0",
       "_model_name": "HTMLModel",
       "_view_count": null,
       "_view_module": "@jupyter-widgets/controls",
       "_view_module_version": "1.5.0",
       "_view_name": "HTMLView",
       "description": "",
       "description_tooltip": null,
       "layout": "IPY_MODEL_d8fb19dada354519b941df5a6546a174",
       "placeholder": "​",
       "style": "IPY_MODEL_5c0016c1712c4d42871d026c536d9efe",
       "value": ""
      }
     },
     "d5408f7e7eaf425eab7cfa92a9077506": {
      "model_module": "@jupyter-widgets/base",
      "model_module_version": "1.2.0",
      "model_name": "LayoutModel",
      "state": {
       "_model_module": "@jupyter-widgets/base",
       "_model_module_version": "1.2.0",
       "_model_name": "LayoutModel",
       "_view_count": null,
       "_view_module": "@jupyter-widgets/base",
       "_view_module_version": "1.2.0",
       "_view_name": "LayoutView",
       "align_content": null,
       "align_items": null,
       "align_self": null,
       "border": null,
       "bottom": null,
       "display": null,
       "flex": null,
       "flex_flow": null,
       "grid_area": null,
       "grid_auto_columns": null,
       "grid_auto_flow": null,
       "grid_auto_rows": null,
       "grid_column": null,
       "grid_gap": null,
       "grid_row": null,
       "grid_template_areas": null,
       "grid_template_columns": null,
       "grid_template_rows": null,
       "height": null,
       "justify_content": null,
       "justify_items": null,
       "left": null,
       "margin": null,
       "max_height": null,
       "max_width": null,
       "min_height": null,
       "min_width": null,
       "object_fit": null,
       "object_position": null,
       "order": null,
       "overflow": null,
       "overflow_x": null,
       "overflow_y": null,
       "padding": null,
       "right": null,
       "top": null,
       "visibility": null,
       "width": null
      }
     },
     "d7a70d47310f4591836a17a7cf2cad0e": {
      "model_module": "@jupyter-widgets/base",
      "model_module_version": "1.2.0",
      "model_name": "LayoutModel",
      "state": {
       "_model_module": "@jupyter-widgets/base",
       "_model_module_version": "1.2.0",
       "_model_name": "LayoutModel",
       "_view_count": null,
       "_view_module": "@jupyter-widgets/base",
       "_view_module_version": "1.2.0",
       "_view_name": "LayoutView",
       "align_content": null,
       "align_items": null,
       "align_self": null,
       "border": null,
       "bottom": null,
       "display": null,
       "flex": null,
       "flex_flow": null,
       "grid_area": null,
       "grid_auto_columns": null,
       "grid_auto_flow": null,
       "grid_auto_rows": null,
       "grid_column": null,
       "grid_gap": null,
       "grid_row": null,
       "grid_template_areas": null,
       "grid_template_columns": null,
       "grid_template_rows": null,
       "height": null,
       "justify_content": null,
       "justify_items": null,
       "left": null,
       "margin": null,
       "max_height": null,
       "max_width": null,
       "min_height": null,
       "min_width": null,
       "object_fit": null,
       "object_position": null,
       "order": null,
       "overflow": null,
       "overflow_x": null,
       "overflow_y": null,
       "padding": null,
       "right": null,
       "top": null,
       "visibility": null,
       "width": null
      }
     },
     "d8fb19dada354519b941df5a6546a174": {
      "model_module": "@jupyter-widgets/base",
      "model_module_version": "1.2.0",
      "model_name": "LayoutModel",
      "state": {
       "_model_module": "@jupyter-widgets/base",
       "_model_module_version": "1.2.0",
       "_model_name": "LayoutModel",
       "_view_count": null,
       "_view_module": "@jupyter-widgets/base",
       "_view_module_version": "1.2.0",
       "_view_name": "LayoutView",
       "align_content": null,
       "align_items": null,
       "align_self": null,
       "border": null,
       "bottom": null,
       "display": null,
       "flex": null,
       "flex_flow": null,
       "grid_area": null,
       "grid_auto_columns": null,
       "grid_auto_flow": null,
       "grid_auto_rows": null,
       "grid_column": null,
       "grid_gap": null,
       "grid_row": null,
       "grid_template_areas": null,
       "grid_template_columns": null,
       "grid_template_rows": null,
       "height": null,
       "justify_content": null,
       "justify_items": null,
       "left": null,
       "margin": null,
       "max_height": null,
       "max_width": null,
       "min_height": null,
       "min_width": null,
       "object_fit": null,
       "object_position": null,
       "order": null,
       "overflow": null,
       "overflow_x": null,
       "overflow_y": null,
       "padding": null,
       "right": null,
       "top": null,
       "visibility": null,
       "width": null
      }
     },
     "dce7987d6a274a798f5cd876c2122354": {
      "model_module": "@jupyter-widgets/controls",
      "model_module_version": "1.5.0",
      "model_name": "ProgressStyleModel",
      "state": {
       "_model_module": "@jupyter-widgets/controls",
       "_model_module_version": "1.5.0",
       "_model_name": "ProgressStyleModel",
       "_view_count": null,
       "_view_module": "@jupyter-widgets/base",
       "_view_module_version": "1.2.0",
       "_view_name": "StyleView",
       "bar_color": null,
       "description_width": ""
      }
     },
     "e6b72acc6c6d4a2ba692517851f5ef4e": {
      "model_module": "@jupyter-widgets/controls",
      "model_module_version": "1.5.0",
      "model_name": "HBoxModel",
      "state": {
       "_dom_classes": [],
       "_model_module": "@jupyter-widgets/controls",
       "_model_module_version": "1.5.0",
       "_model_name": "HBoxModel",
       "_view_count": null,
       "_view_module": "@jupyter-widgets/controls",
       "_view_module_version": "1.5.0",
       "_view_name": "HBoxView",
       "box_style": "",
       "children": [
        "IPY_MODEL_c105b74555b44e7fa16e666611fa80d0",
        "IPY_MODEL_b99297ea51e34a8c87728320f7cbc13a",
        "IPY_MODEL_2f49aa7553b34e1abbad91944c541465"
       ],
       "layout": "IPY_MODEL_a3d6956ec8144c9fadc99948b0d8ac9d"
      }
     },
     "f30026b8b3a144878c5f7b462c1407db": {
      "model_module": "@jupyter-widgets/controls",
      "model_module_version": "1.5.0",
      "model_name": "HTMLModel",
      "state": {
       "_dom_classes": [],
       "_model_module": "@jupyter-widgets/controls",
       "_model_module_version": "1.5.0",
       "_model_name": "HTMLModel",
       "_view_count": null,
       "_view_module": "@jupyter-widgets/controls",
       "_view_module_version": "1.5.0",
       "_view_name": "HTMLView",
       "description": "",
       "description_tooltip": null,
       "layout": "IPY_MODEL_035628d91b434a198dba3ae177d76ccd",
       "placeholder": "​",
       "style": "IPY_MODEL_9eeef611fc014d0894476e695852eeae",
       "value": "config.json: 100%"
      }
     },
     "f82dd436864e4038a357c68fae947eb1": {
      "model_module": "@jupyter-widgets/controls",
      "model_module_version": "1.5.0",
      "model_name": "HTMLModel",
      "state": {
       "_dom_classes": [],
       "_model_module": "@jupyter-widgets/controls",
       "_model_module_version": "1.5.0",
       "_model_name": "HTMLModel",
       "_view_count": null,
       "_view_module": "@jupyter-widgets/controls",
       "_view_module_version": "1.5.0",
       "_view_name": "HTMLView",
       "description": "",
       "description_tooltip": null,
       "layout": "IPY_MODEL_8617bc9cd5a44c44b9753e48e134c6cf",
       "placeholder": "​",
       "style": "IPY_MODEL_818209865ada466caedfa4c8ada85915",
       "value": "pytorch_model.bin: 100%"
      }
     },
     "fa994024494840ac80b3c7f12bd527c8": {
      "model_module": "@jupyter-widgets/controls",
      "model_module_version": "1.5.0",
      "model_name": "FloatProgressModel",
      "state": {
       "_dom_classes": [],
       "_model_module": "@jupyter-widgets/controls",
       "_model_module_version": "1.5.0",
       "_model_name": "FloatProgressModel",
       "_view_count": null,
       "_view_module": "@jupyter-widgets/controls",
       "_view_module_version": "1.5.0",
       "_view_name": "ProgressView",
       "bar_style": "success",
       "description": "",
       "description_tooltip": null,
       "layout": "IPY_MODEL_fc6a6df45c1b460d9c7accd6d4841770",
       "max": 474,
       "min": 0,
       "orientation": "horizontal",
       "style": "IPY_MODEL_372ea0afea484ff7a077d905871443a3",
       "value": 474
      }
     },
     "fb4d816e774a4a19af30257950867571": {
      "model_module": "@jupyter-widgets/base",
      "model_module_version": "1.2.0",
      "model_name": "LayoutModel",
      "state": {
       "_model_module": "@jupyter-widgets/base",
       "_model_module_version": "1.2.0",
       "_model_name": "LayoutModel",
       "_view_count": null,
       "_view_module": "@jupyter-widgets/base",
       "_view_module_version": "1.2.0",
       "_view_name": "LayoutView",
       "align_content": null,
       "align_items": null,
       "align_self": null,
       "border": null,
       "bottom": null,
       "display": null,
       "flex": null,
       "flex_flow": null,
       "grid_area": null,
       "grid_auto_columns": null,
       "grid_auto_flow": null,
       "grid_auto_rows": null,
       "grid_column": null,
       "grid_gap": null,
       "grid_row": null,
       "grid_template_areas": null,
       "grid_template_columns": null,
       "grid_template_rows": null,
       "height": null,
       "justify_content": null,
       "justify_items": null,
       "left": null,
       "margin": null,
       "max_height": null,
       "max_width": null,
       "min_height": null,
       "min_width": null,
       "object_fit": null,
       "object_position": null,
       "order": null,
       "overflow": null,
       "overflow_x": null,
       "overflow_y": null,
       "padding": null,
       "right": null,
       "top": null,
       "visibility": null,
       "width": null
      }
     },
     "fc68c2d557eb40aa88be0e0e799321ee": {
      "model_module": "@jupyter-widgets/controls",
      "model_module_version": "1.5.0",
      "model_name": "HTMLModel",
      "state": {
       "_dom_classes": [],
       "_model_module": "@jupyter-widgets/controls",
       "_model_module_version": "1.5.0",
       "_model_name": "HTMLModel",
       "_view_count": null,
       "_view_module": "@jupyter-widgets/controls",
       "_view_module_version": "1.5.0",
       "_view_name": "HTMLView",
       "description": "",
       "description_tooltip": null,
       "layout": "IPY_MODEL_01cee985151548de866c1e6936a2076c",
       "placeholder": "​",
       "style": "IPY_MODEL_8daf7f722bc0414b8d6186345a05de0e",
       "value": " 0/5876 [00:00&lt;?, ?it/s]"
      }
     },
     "fc6a6df45c1b460d9c7accd6d4841770": {
      "model_module": "@jupyter-widgets/base",
      "model_module_version": "1.2.0",
      "model_name": "LayoutModel",
      "state": {
       "_model_module": "@jupyter-widgets/base",
       "_model_module_version": "1.2.0",
       "_model_name": "LayoutModel",
       "_view_count": null,
       "_view_module": "@jupyter-widgets/base",
       "_view_module_version": "1.2.0",
       "_view_name": "LayoutView",
       "align_content": null,
       "align_items": null,
       "align_self": null,
       "border": null,
       "bottom": null,
       "display": null,
       "flex": null,
       "flex_flow": null,
       "grid_area": null,
       "grid_auto_columns": null,
       "grid_auto_flow": null,
       "grid_auto_rows": null,
       "grid_column": null,
       "grid_gap": null,
       "grid_row": null,
       "grid_template_areas": null,
       "grid_template_columns": null,
       "grid_template_rows": null,
       "height": null,
       "justify_content": null,
       "justify_items": null,
       "left": null,
       "margin": null,
       "max_height": null,
       "max_width": null,
       "min_height": null,
       "min_width": null,
       "object_fit": null,
       "object_position": null,
       "order": null,
       "overflow": null,
       "overflow_x": null,
       "overflow_y": null,
       "padding": null,
       "right": null,
       "top": null,
       "visibility": null,
       "width": null
      }
     }
    },
    "version_major": 2,
    "version_minor": 0
   }
  }
 },
 "nbformat": 4,
 "nbformat_minor": 5
}
