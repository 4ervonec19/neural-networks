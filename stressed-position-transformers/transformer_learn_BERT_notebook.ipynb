{
 "cells": [
  {
   "cell_type": "markdown",
   "id": "a59a8db2",
   "metadata": {
    "papermill": {
     "duration": 0.024068,
     "end_time": "2024-11-09T00:36:27.175347",
     "exception": false,
     "start_time": "2024-11-09T00:36:27.151279",
     "status": "completed"
    },
    "tags": []
   },
   "source": [
    "#### Обучение трансформера:"
   ]
  },
  {
   "cell_type": "markdown",
   "id": "7d3afdb4",
   "metadata": {},
   "source": [
    "#### Обучение и инференс моделей происходил на kaggle.com с использованием бесплатного недельного доступа к GPU блоку A100."
   ]
  },
  {
   "cell_type": "markdown",
   "id": "10d88bd5",
   "metadata": {},
   "source": [
    "#### Загружаем недостающие модули:"
   ]
  },
  {
   "cell_type": "code",
   "execution_count": 1,
   "id": "5ebd281d",
   "metadata": {
    "execution": {
     "iopub.execute_input": "2024-11-09T00:36:27.221629Z",
     "iopub.status.busy": "2024-11-09T00:36:27.220836Z",
     "iopub.status.idle": "2024-11-09T00:36:39.930671Z",
     "shell.execute_reply": "2024-11-09T00:36:39.929466Z"
    },
    "papermill": {
     "duration": 12.735405,
     "end_time": "2024-11-09T00:36:39.932907",
     "exception": false,
     "start_time": "2024-11-09T00:36:27.197502",
     "status": "completed"
    },
    "tags": []
   },
   "outputs": [
    {
     "name": "stdout",
     "output_type": "stream",
     "text": [
      "Requirement already satisfied: transformers in /opt/conda/lib/python3.10/site-packages (4.45.1)\r\n",
      "Requirement already satisfied: filelock in /opt/conda/lib/python3.10/site-packages (from transformers) (3.15.1)\r\n",
      "Requirement already satisfied: huggingface-hub<1.0,>=0.23.2 in /opt/conda/lib/python3.10/site-packages (from transformers) (0.25.1)\r\n",
      "Requirement already satisfied: numpy>=1.17 in /opt/conda/lib/python3.10/site-packages (from transformers) (1.26.4)\r\n",
      "Requirement already satisfied: packaging>=20.0 in /opt/conda/lib/python3.10/site-packages (from transformers) (21.3)\r\n",
      "Requirement already satisfied: pyyaml>=5.1 in /opt/conda/lib/python3.10/site-packages (from transformers) (6.0.2)\r\n",
      "Requirement already satisfied: regex!=2019.12.17 in /opt/conda/lib/python3.10/site-packages (from transformers) (2024.5.15)\r\n",
      "Requirement already satisfied: requests in /opt/conda/lib/python3.10/site-packages (from transformers) (2.32.3)\r\n",
      "Requirement already satisfied: safetensors>=0.4.1 in /opt/conda/lib/python3.10/site-packages (from transformers) (0.4.5)\r\n",
      "Requirement already satisfied: tokenizers<0.21,>=0.20 in /opt/conda/lib/python3.10/site-packages (from transformers) (0.20.0)\r\n",
      "Requirement already satisfied: tqdm>=4.27 in /opt/conda/lib/python3.10/site-packages (from transformers) (4.66.4)\r\n",
      "Requirement already satisfied: fsspec>=2023.5.0 in /opt/conda/lib/python3.10/site-packages (from huggingface-hub<1.0,>=0.23.2->transformers) (2024.6.1)\r\n",
      "Requirement already satisfied: typing-extensions>=3.7.4.3 in /opt/conda/lib/python3.10/site-packages (from huggingface-hub<1.0,>=0.23.2->transformers) (4.12.2)\r\n",
      "Requirement already satisfied: pyparsing!=3.0.5,>=2.0.2 in /opt/conda/lib/python3.10/site-packages (from packaging>=20.0->transformers) (3.1.2)\r\n",
      "Requirement already satisfied: charset-normalizer<4,>=2 in /opt/conda/lib/python3.10/site-packages (from requests->transformers) (3.3.2)\r\n",
      "Requirement already satisfied: idna<4,>=2.5 in /opt/conda/lib/python3.10/site-packages (from requests->transformers) (3.7)\r\n",
      "Requirement already satisfied: urllib3<3,>=1.21.1 in /opt/conda/lib/python3.10/site-packages (from requests->transformers) (1.26.18)\r\n",
      "Requirement already satisfied: certifi>=2017.4.17 in /opt/conda/lib/python3.10/site-packages (from requests->transformers) (2024.8.30)\r\n",
      "Note: you may need to restart the kernel to use updated packages.\n"
     ]
    }
   ],
   "source": [
    "pip install transformers"
   ]
  },
  {
   "cell_type": "code",
   "execution_count": 2,
   "id": "ecf81a47",
   "metadata": {
    "execution": {
     "iopub.execute_input": "2024-11-09T00:36:39.979892Z",
     "iopub.status.busy": "2024-11-09T00:36:39.979542Z",
     "iopub.status.idle": "2024-11-09T00:36:54.189139Z",
     "shell.execute_reply": "2024-11-09T00:36:54.187829Z"
    },
    "papermill": {
     "duration": 14.23539,
     "end_time": "2024-11-09T00:36:54.191303",
     "exception": false,
     "start_time": "2024-11-09T00:36:39.955913",
     "status": "completed"
    },
    "tags": []
   },
   "outputs": [
    {
     "name": "stdout",
     "output_type": "stream",
     "text": [
      "Requirement already satisfied: datasets in /opt/conda/lib/python3.10/site-packages (3.0.1)\r\n",
      "Requirement already satisfied: accelerate in /opt/conda/lib/python3.10/site-packages (0.34.2)\r\n",
      "Collecting nvidia-ml-py3\r\n",
      "  Downloading nvidia-ml-py3-7.352.0.tar.gz (19 kB)\r\n",
      "  Preparing metadata (setup.py) ... \u001b[?25l-\b \bdone\r\n",
      "\u001b[?25hRequirement already satisfied: filelock in /opt/conda/lib/python3.10/site-packages (from datasets) (3.15.1)\r\n",
      "Requirement already satisfied: numpy>=1.17 in /opt/conda/lib/python3.10/site-packages (from datasets) (1.26.4)\r\n",
      "Requirement already satisfied: pyarrow>=15.0.0 in /opt/conda/lib/python3.10/site-packages (from datasets) (16.1.0)\r\n",
      "Requirement already satisfied: dill<0.3.9,>=0.3.0 in /opt/conda/lib/python3.10/site-packages (from datasets) (0.3.8)\r\n",
      "Requirement already satisfied: pandas in /opt/conda/lib/python3.10/site-packages (from datasets) (2.2.2)\r\n",
      "Requirement already satisfied: requests>=2.32.2 in /opt/conda/lib/python3.10/site-packages (from datasets) (2.32.3)\r\n",
      "Requirement already satisfied: tqdm>=4.66.3 in /opt/conda/lib/python3.10/site-packages (from datasets) (4.66.4)\r\n",
      "Requirement already satisfied: xxhash in /opt/conda/lib/python3.10/site-packages (from datasets) (3.4.1)\r\n",
      "Requirement already satisfied: multiprocess in /opt/conda/lib/python3.10/site-packages (from datasets) (0.70.16)\r\n",
      "Requirement already satisfied: fsspec<=2024.6.1,>=2023.1.0 in /opt/conda/lib/python3.10/site-packages (from fsspec[http]<=2024.6.1,>=2023.1.0->datasets) (2024.6.1)\r\n",
      "Requirement already satisfied: aiohttp in /opt/conda/lib/python3.10/site-packages (from datasets) (3.9.5)\r\n",
      "Requirement already satisfied: huggingface-hub>=0.22.0 in /opt/conda/lib/python3.10/site-packages (from datasets) (0.25.1)\r\n",
      "Requirement already satisfied: packaging in /opt/conda/lib/python3.10/site-packages (from datasets) (21.3)\r\n",
      "Requirement already satisfied: pyyaml>=5.1 in /opt/conda/lib/python3.10/site-packages (from datasets) (6.0.2)\r\n",
      "Requirement already satisfied: psutil in /opt/conda/lib/python3.10/site-packages (from accelerate) (5.9.3)\r\n",
      "Requirement already satisfied: torch>=1.10.0 in /opt/conda/lib/python3.10/site-packages (from accelerate) (2.4.0)\r\n",
      "Requirement already satisfied: safetensors>=0.4.3 in /opt/conda/lib/python3.10/site-packages (from accelerate) (0.4.5)\r\n",
      "Requirement already satisfied: aiosignal>=1.1.2 in /opt/conda/lib/python3.10/site-packages (from aiohttp->datasets) (1.3.1)\r\n",
      "Requirement already satisfied: attrs>=17.3.0 in /opt/conda/lib/python3.10/site-packages (from aiohttp->datasets) (23.2.0)\r\n",
      "Requirement already satisfied: frozenlist>=1.1.1 in /opt/conda/lib/python3.10/site-packages (from aiohttp->datasets) (1.4.1)\r\n",
      "Requirement already satisfied: multidict<7.0,>=4.5 in /opt/conda/lib/python3.10/site-packages (from aiohttp->datasets) (6.0.5)\r\n",
      "Requirement already satisfied: yarl<2.0,>=1.0 in /opt/conda/lib/python3.10/site-packages (from aiohttp->datasets) (1.9.4)\r\n",
      "Requirement already satisfied: async-timeout<5.0,>=4.0 in /opt/conda/lib/python3.10/site-packages (from aiohttp->datasets) (4.0.3)\r\n",
      "Requirement already satisfied: typing-extensions>=3.7.4.3 in /opt/conda/lib/python3.10/site-packages (from huggingface-hub>=0.22.0->datasets) (4.12.2)\r\n",
      "Requirement already satisfied: pyparsing!=3.0.5,>=2.0.2 in /opt/conda/lib/python3.10/site-packages (from packaging->datasets) (3.1.2)\r\n",
      "Requirement already satisfied: charset-normalizer<4,>=2 in /opt/conda/lib/python3.10/site-packages (from requests>=2.32.2->datasets) (3.3.2)\r\n",
      "Requirement already satisfied: idna<4,>=2.5 in /opt/conda/lib/python3.10/site-packages (from requests>=2.32.2->datasets) (3.7)\r\n",
      "Requirement already satisfied: urllib3<3,>=1.21.1 in /opt/conda/lib/python3.10/site-packages (from requests>=2.32.2->datasets) (1.26.18)\r\n",
      "Requirement already satisfied: certifi>=2017.4.17 in /opt/conda/lib/python3.10/site-packages (from requests>=2.32.2->datasets) (2024.8.30)\r\n",
      "Requirement already satisfied: sympy in /opt/conda/lib/python3.10/site-packages (from torch>=1.10.0->accelerate) (1.13.3)\r\n",
      "Requirement already satisfied: networkx in /opt/conda/lib/python3.10/site-packages (from torch>=1.10.0->accelerate) (3.3)\r\n",
      "Requirement already satisfied: jinja2 in /opt/conda/lib/python3.10/site-packages (from torch>=1.10.0->accelerate) (3.1.4)\r\n",
      "Requirement already satisfied: python-dateutil>=2.8.2 in /opt/conda/lib/python3.10/site-packages (from pandas->datasets) (2.9.0.post0)\r\n",
      "Requirement already satisfied: pytz>=2020.1 in /opt/conda/lib/python3.10/site-packages (from pandas->datasets) (2024.1)\r\n",
      "Requirement already satisfied: tzdata>=2022.7 in /opt/conda/lib/python3.10/site-packages (from pandas->datasets) (2024.1)\r\n",
      "Requirement already satisfied: six>=1.5 in /opt/conda/lib/python3.10/site-packages (from python-dateutil>=2.8.2->pandas->datasets) (1.16.0)\r\n",
      "Requirement already satisfied: MarkupSafe>=2.0 in /opt/conda/lib/python3.10/site-packages (from jinja2->torch>=1.10.0->accelerate) (2.1.5)\r\n",
      "Requirement already satisfied: mpmath<1.4,>=1.1.0 in /opt/conda/lib/python3.10/site-packages (from sympy->torch>=1.10.0->accelerate) (1.3.0)\r\n",
      "Building wheels for collected packages: nvidia-ml-py3\r\n",
      "  Building wheel for nvidia-ml-py3 (setup.py) ... \u001b[?25l-\b \b\\\b \bdone\r\n",
      "\u001b[?25h  Created wheel for nvidia-ml-py3: filename=nvidia_ml_py3-7.352.0-py3-none-any.whl size=19172 sha256=72b4b9ed9a29eb43e9c81bf22318b1639e0e704a99c94858b96e86ae59f05940\r\n",
      "  Stored in directory: /root/.cache/pip/wheels/5c/d8/c0/46899f8be7a75a2ffd197a23c8797700ea858b9b34819fbf9e\r\n",
      "Successfully built nvidia-ml-py3\r\n",
      "Installing collected packages: nvidia-ml-py3\r\n",
      "Successfully installed nvidia-ml-py3-7.352.0\r\n",
      "Note: you may need to restart the kernel to use updated packages.\n"
     ]
    }
   ],
   "source": [
    "pip install datasets accelerate nvidia-ml-py3"
   ]
  },
  {
   "cell_type": "markdown",
   "id": "db36a20d",
   "metadata": {},
   "source": [
    "#### Импортируем модули:"
   ]
  },
  {
   "cell_type": "code",
   "execution_count": 1,
   "id": "7d981864",
   "metadata": {
    "_cell_guid": "b1076dfc-b9ad-4769-8c92-a6c4dae69d19",
    "_uuid": "8f2839f25d086af736a60e9eeb907d3b93b6e0e5",
    "execution": {
     "iopub.execute_input": "2024-11-09T00:36:54.241681Z",
     "iopub.status.busy": "2024-11-09T00:36:54.241314Z",
     "iopub.status.idle": "2024-11-09T00:37:11.175328Z",
     "shell.execute_reply": "2024-11-09T00:37:11.174362Z"
    },
    "papermill": {
     "duration": 16.961966,
     "end_time": "2024-11-09T00:37:11.177737",
     "exception": false,
     "start_time": "2024-11-09T00:36:54.215771",
     "status": "completed"
    },
    "tags": []
   },
   "outputs": [],
   "source": [
    "import os\n",
    "import string\n",
    "import sys\n",
    "import random\n",
    "import numpy as np\n",
    "import pandas as pd\n",
    "import time\n",
    "import matplotlib.pyplot as plt\n",
    "import re\n",
    "import datetime\n",
    "\n",
    "import torch\n",
    "from torch.utils.data import Dataset, DataLoader, Subset, ConcatDataset, random_split,  RandomSampler, SequentialSampler\n",
    "import torch.nn.functional as F\n",
    "import torch.nn as nn\n",
    "import torch.optim as optim\n",
    "from torch.nn.utils.rnn import pad_sequence\n",
    "\n",
    "from sklearn.metrics import accuracy_score\n",
    "from torch.utils.tensorboard import summary, writer, SummaryWriter\n",
    "\n",
    "from tqdm.notebook import tqdm\n"
   ]
  },
  {
   "cell_type": "markdown",
   "id": "cac01bac",
   "metadata": {
    "papermill": {
     "duration": 0.023542,
     "end_time": "2024-11-09T00:37:11.225458",
     "exception": false,
     "start_time": "2024-11-09T00:37:11.201916",
     "status": "completed"
    },
    "tags": []
   },
   "source": [
    "#### Устанавливаем Seed'ы:"
   ]
  },
  {
   "cell_type": "code",
   "execution_count": 4,
   "id": "50ee20d0",
   "metadata": {
    "execution": {
     "iopub.execute_input": "2024-11-09T00:37:11.274216Z",
     "iopub.status.busy": "2024-11-09T00:37:11.273642Z",
     "iopub.status.idle": "2024-11-09T00:37:11.283123Z",
     "shell.execute_reply": "2024-11-09T00:37:11.282365Z"
    },
    "papermill": {
     "duration": 0.036096,
     "end_time": "2024-11-09T00:37:11.285000",
     "exception": false,
     "start_time": "2024-11-09T00:37:11.248904",
     "status": "completed"
    },
    "tags": []
   },
   "outputs": [],
   "source": [
    "SEED = 42\n",
    "\n",
    "random.seed(SEED)\n",
    "np.random.seed(SEED)\n",
    "torch.manual_seed(SEED)\n",
    "torch.cuda.manual_seed_all(SEED)\n",
    "\n",
    "import warnings\n",
    "warnings.filterwarnings(\"ignore\")"
   ]
  },
  {
   "cell_type": "markdown",
   "id": "2457b39c",
   "metadata": {
    "papermill": {
     "duration": 0.024077,
     "end_time": "2024-11-09T00:37:11.333033",
     "exception": false,
     "start_time": "2024-11-09T00:37:11.308956",
     "status": "completed"
    },
    "tags": []
   },
   "source": [
    "#### Задаём device:"
   ]
  },
  {
   "cell_type": "code",
   "execution_count": 5,
   "id": "9fe7a606",
   "metadata": {
    "execution": {
     "iopub.execute_input": "2024-11-09T00:37:11.382956Z",
     "iopub.status.busy": "2024-11-09T00:37:11.382159Z",
     "iopub.status.idle": "2024-11-09T00:37:11.474491Z",
     "shell.execute_reply": "2024-11-09T00:37:11.473520Z"
    },
    "papermill": {
     "duration": 0.119482,
     "end_time": "2024-11-09T00:37:11.476561",
     "exception": false,
     "start_time": "2024-11-09T00:37:11.357079",
     "status": "completed"
    },
    "tags": []
   },
   "outputs": [
    {
     "name": "stdout",
     "output_type": "stream",
     "text": [
      "There are 1 GPU(s) available.\n",
      "We will use the GPU: Tesla P100-PCIE-16GB\n"
     ]
    }
   ],
   "source": [
    "if torch.cuda.is_available():\n",
    "\n",
    "    # Tell PyTorch to use the GPU.\n",
    "    device = torch.device(\"cuda\")\n",
    "\n",
    "    print('There are %d GPU(s) available.' % torch.cuda.device_count())\n",
    "\n",
    "    print('We will use the GPU:', torch.cuda.get_device_name(0))\n",
    "\n",
    "# If not...\n",
    "else:\n",
    "    print('No GPU available, using the CPU instead.')\n",
    "    device = torch.device(\"cpu\")"
   ]
  },
  {
   "cell_type": "markdown",
   "id": "b3499c8c",
   "metadata": {
    "papermill": {
     "duration": 0.023422,
     "end_time": "2024-11-09T00:37:11.524002",
     "exception": false,
     "start_time": "2024-11-09T00:37:11.500580",
     "status": "completed"
    },
    "tags": []
   },
   "source": [
    "#### Импортируем и устанавливаем дополнительно все, что необходимо:"
   ]
  },
  {
   "cell_type": "code",
   "execution_count": 6,
   "id": "df4f5754",
   "metadata": {
    "execution": {
     "iopub.execute_input": "2024-11-09T00:37:11.572980Z",
     "iopub.status.busy": "2024-11-09T00:37:11.572648Z",
     "iopub.status.idle": "2024-11-09T00:37:13.027807Z",
     "shell.execute_reply": "2024-11-09T00:37:13.026739Z"
    },
    "papermill": {
     "duration": 1.482442,
     "end_time": "2024-11-09T00:37:13.030245",
     "exception": false,
     "start_time": "2024-11-09T00:37:11.547803",
     "status": "completed"
    },
    "tags": []
   },
   "outputs": [
    {
     "name": "stdout",
     "output_type": "stream",
     "text": [
      "Cloning into 'character-tokenizer'...\r\n",
      "remote: Enumerating objects: 20, done.\u001b[K\r\n",
      "remote: Counting objects: 100% (20/20), done.\u001b[K\r\n",
      "remote: Compressing objects: 100% (14/14), done.\u001b[K\r\n",
      "remote: Total 20 (delta 5), reused 10 (delta 3), pack-reused 0 (from 0)\u001b[K\r\n",
      "Receiving objects: 100% (20/20), 5.89 KiB | 1.96 MiB/s, done.\r\n",
      "Resolving deltas: 100% (5/5), done.\r\n"
     ]
    }
   ],
   "source": [
    "!git clone https://github.com/KuzmaKhrabrov/character-tokenizer.git"
   ]
  },
  {
   "cell_type": "code",
   "execution_count": 7,
   "id": "eaacce9d",
   "metadata": {
    "execution": {
     "iopub.execute_input": "2024-11-09T00:37:13.082313Z",
     "iopub.status.busy": "2024-11-09T00:37:13.081579Z",
     "iopub.status.idle": "2024-11-09T00:37:13.830893Z",
     "shell.execute_reply": "2024-11-09T00:37:13.829997Z"
    },
    "papermill": {
     "duration": 0.778112,
     "end_time": "2024-11-09T00:37:13.833201",
     "exception": false,
     "start_time": "2024-11-09T00:37:13.055089",
     "status": "completed"
    },
    "tags": []
   },
   "outputs": [],
   "source": [
    "sys.path.append(\"/kaggle/input/tools/character-tokenizer\")\n",
    "from charactertokenizer import CharacterTokenizer"
   ]
  },
  {
   "cell_type": "markdown",
   "id": "cfcdb0b6",
   "metadata": {
    "papermill": {
     "duration": 0.024507,
     "end_time": "2024-11-09T00:37:13.882817",
     "exception": false,
     "start_time": "2024-11-09T00:37:13.858310",
     "status": "completed"
    },
    "tags": []
   },
   "source": [
    "#### Check:"
   ]
  },
  {
   "cell_type": "code",
   "execution_count": 8,
   "id": "350cc797",
   "metadata": {
    "execution": {
     "iopub.execute_input": "2024-11-09T00:37:13.934301Z",
     "iopub.status.busy": "2024-11-09T00:37:13.933165Z",
     "iopub.status.idle": "2024-11-09T00:37:13.940428Z",
     "shell.execute_reply": "2024-11-09T00:37:13.939270Z"
    },
    "papermill": {
     "duration": 0.035394,
     "end_time": "2024-11-09T00:37:13.942525",
     "exception": false,
     "start_time": "2024-11-09T00:37:13.907131",
     "status": "completed"
    },
    "tags": []
   },
   "outputs": [],
   "source": [
    "chars = \"АаБбВвГгДдЕеЁёЖжЗзИиЙйКкЛлМмНнОоПпРрСсТтУуФфХхЦцЧчШшЩщЪъЫыЬьЭэЮюЯя-h\"\n",
    "model_max_length = 22\n",
    "tokenizer = CharacterTokenizer(chars, model_max_length)"
   ]
  },
  {
   "cell_type": "markdown",
   "id": "cc8a8240",
   "metadata": {
    "papermill": {
     "duration": 0.024294,
     "end_time": "2024-11-09T00:37:13.991594",
     "exception": false,
     "start_time": "2024-11-09T00:37:13.967300",
     "status": "completed"
    },
    "tags": []
   },
   "source": [
    "#### Проверяем Encode:"
   ]
  },
  {
   "cell_type": "code",
   "execution_count": 9,
   "id": "59712bd6",
   "metadata": {
    "execution": {
     "iopub.execute_input": "2024-11-09T00:37:14.042691Z",
     "iopub.status.busy": "2024-11-09T00:37:14.042292Z",
     "iopub.status.idle": "2024-11-09T00:37:14.047757Z",
     "shell.execute_reply": "2024-11-09T00:37:14.046914Z"
    },
    "papermill": {
     "duration": 0.033775,
     "end_time": "2024-11-09T00:37:14.049876",
     "exception": false,
     "start_time": "2024-11-09T00:37:14.016101",
     "status": "completed"
    },
    "tags": []
   },
   "outputs": [
    {
     "name": "stdout",
     "output_type": "stream",
     "text": [
      "{'input_ids': [0, 73, 10, 48, 74, 1], 'token_type_ids': [0, 0, 0, 0, 0, 0], 'attention_mask': [1, 1, 1, 1, 1, 1]}\n"
     ]
    }
   ],
   "source": [
    "example = \"-буh\"\n",
    "tokens = tokenizer(example)\n",
    "print(tokens)"
   ]
  },
  {
   "cell_type": "markdown",
   "id": "159ffe76",
   "metadata": {
    "papermill": {
     "duration": 0.024236,
     "end_time": "2024-11-09T00:37:14.099046",
     "exception": false,
     "start_time": "2024-11-09T00:37:14.074810",
     "status": "completed"
    },
    "tags": []
   },
   "source": [
    "#### Проверяем Decode:"
   ]
  },
  {
   "cell_type": "code",
   "execution_count": 10,
   "id": "1e329a57",
   "metadata": {
    "execution": {
     "iopub.execute_input": "2024-11-09T00:37:14.149667Z",
     "iopub.status.busy": "2024-11-09T00:37:14.149008Z",
     "iopub.status.idle": "2024-11-09T00:37:14.154492Z",
     "shell.execute_reply": "2024-11-09T00:37:14.153511Z"
    },
    "papermill": {
     "duration": 0.033241,
     "end_time": "2024-11-09T00:37:14.156594",
     "exception": false,
     "start_time": "2024-11-09T00:37:14.123353",
     "status": "completed"
    },
    "tags": []
   },
   "outputs": [
    {
     "name": "stdout",
     "output_type": "stream",
     "text": [
      "[CLS]-буh[SEP]\n"
     ]
    }
   ],
   "source": [
    "print(tokenizer.decode(tokens[\"input_ids\"]))"
   ]
  },
  {
   "cell_type": "markdown",
   "id": "c664461c",
   "metadata": {
    "papermill": {
     "duration": 0.024125,
     "end_time": "2024-11-09T00:37:14.205130",
     "exception": false,
     "start_time": "2024-11-09T00:37:14.181005",
     "status": "completed"
    },
    "tags": []
   },
   "source": [
    "#### Задача:\n",
    "\n",
    "##### Необходимо обучить модель классификации букв для задачи расстановки ударения с помощью методов из библиотеки transformers.\n",
    "\n",
    "1. Написать класс для Dataset/Dataloder и разбить данные на случайные train / test сплиты в соотношении 50:50. (1 балл)\n",
    "2. Попробовать обучить одну или несколько из моделей: Bert, Albert, Deberta. Посчитать метрику Accuracy на train и test. (1 балл). При преодолении порога в Accuracy на test 0.8: (+1 балл), 0.85: (+2 балла), 0.89: (+3 балла)."
   ]
  },
  {
   "cell_type": "markdown",
   "id": "388f7a2d",
   "metadata": {
    "papermill": {
     "duration": 0.066652,
     "end_time": "2024-11-09T00:37:14.297023",
     "exception": false,
     "start_time": "2024-11-09T00:37:14.230371",
     "status": "completed"
    },
    "tags": []
   },
   "source": [
    "#### Датасет загружен, проверяем его содержимое:"
   ]
  },
  {
   "cell_type": "code",
   "execution_count": 11,
   "id": "969b52c9",
   "metadata": {
    "execution": {
     "iopub.execute_input": "2024-11-09T00:37:14.350976Z",
     "iopub.status.busy": "2024-11-09T00:37:14.350062Z",
     "iopub.status.idle": "2024-11-09T00:37:17.444245Z",
     "shell.execute_reply": "2024-11-09T00:37:17.443308Z"
    },
    "papermill": {
     "duration": 3.123373,
     "end_time": "2024-11-09T00:37:17.446589",
     "exception": false,
     "start_time": "2024-11-09T00:37:14.323216",
     "status": "completed"
    },
    "tags": []
   },
   "outputs": [],
   "source": [
    "accents_path = '/kaggle/input/accents-dataset/all_accents.tsv'\n",
    "accents_dataset = pd.read_csv(accents_path, sep = '\\t', header=0, encoding='utf-8', na_values='NA')"
   ]
  },
  {
   "cell_type": "code",
   "execution_count": 12,
   "id": "405b22d5",
   "metadata": {
    "execution": {
     "iopub.execute_input": "2024-11-09T00:37:17.498042Z",
     "iopub.status.busy": "2024-11-09T00:37:17.497212Z",
     "iopub.status.idle": "2024-11-09T00:37:17.514209Z",
     "shell.execute_reply": "2024-11-09T00:37:17.513204Z"
    },
    "papermill": {
     "duration": 0.04444,
     "end_time": "2024-11-09T00:37:17.516120",
     "exception": false,
     "start_time": "2024-11-09T00:37:17.471680",
     "status": "completed"
    },
    "tags": []
   },
   "outputs": [
    {
     "data": {
      "text/html": [
       "<div>\n",
       "<style scoped>\n",
       "    .dataframe tbody tr th:only-of-type {\n",
       "        vertical-align: middle;\n",
       "    }\n",
       "\n",
       "    .dataframe tbody tr th {\n",
       "        vertical-align: top;\n",
       "    }\n",
       "\n",
       "    .dataframe thead th {\n",
       "        text-align: right;\n",
       "    }\n",
       "</style>\n",
       "<table border=\"1\" class=\"dataframe\">\n",
       "  <thead>\n",
       "    <tr style=\"text-align: right;\">\n",
       "      <th></th>\n",
       "      <th>-де</th>\n",
       "      <th>-д^е</th>\n",
       "    </tr>\n",
       "  </thead>\n",
       "  <tbody>\n",
       "    <tr>\n",
       "      <th>0</th>\n",
       "      <td>-ка</td>\n",
       "      <td>-к^а</td>\n",
       "    </tr>\n",
       "    <tr>\n",
       "      <th>1</th>\n",
       "      <td>-либо</td>\n",
       "      <td>-л^ибо</td>\n",
       "    </tr>\n",
       "    <tr>\n",
       "      <th>2</th>\n",
       "      <td>-нибудь</td>\n",
       "      <td>-ниб^удь</td>\n",
       "    </tr>\n",
       "    <tr>\n",
       "      <th>3</th>\n",
       "      <td>-с</td>\n",
       "      <td>-с</td>\n",
       "    </tr>\n",
       "    <tr>\n",
       "      <th>4</th>\n",
       "      <td>-таки</td>\n",
       "      <td>-так^и</td>\n",
       "    </tr>\n",
       "  </tbody>\n",
       "</table>\n",
       "</div>"
      ],
      "text/plain": [
       "       -де      -д^е\n",
       "0      -ка      -к^а\n",
       "1    -либо    -л^ибо\n",
       "2  -нибудь  -ниб^удь\n",
       "3       -с        -с\n",
       "4    -таки    -так^и"
      ]
     },
     "execution_count": 12,
     "metadata": {},
     "output_type": "execute_result"
    }
   ],
   "source": [
    "accents_dataset.head()"
   ]
  },
  {
   "cell_type": "markdown",
   "id": "006a59ce",
   "metadata": {
    "papermill": {
     "duration": 0.024232,
     "end_time": "2024-11-09T00:37:17.565169",
     "exception": false,
     "start_time": "2024-11-09T00:37:17.540937",
     "status": "completed"
    },
    "tags": []
   },
   "source": [
    "#### Немного исследований датасета:"
   ]
  },
  {
   "cell_type": "code",
   "execution_count": 13,
   "id": "ef08029f",
   "metadata": {
    "execution": {
     "iopub.execute_input": "2024-11-09T00:37:17.616669Z",
     "iopub.status.busy": "2024-11-09T00:37:17.616294Z",
     "iopub.status.idle": "2024-11-09T00:37:17.621728Z",
     "shell.execute_reply": "2024-11-09T00:37:17.620341Z"
    },
    "papermill": {
     "duration": 0.033437,
     "end_time": "2024-11-09T00:37:17.623565",
     "exception": false,
     "start_time": "2024-11-09T00:37:17.590128",
     "status": "completed"
    },
    "tags": []
   },
   "outputs": [
    {
     "name": "stdout",
     "output_type": "stream",
     "text": [
      "1680534\n"
     ]
    }
   ],
   "source": [
    "# Число примеров:\n",
    "print(accents_dataset.shape[0])"
   ]
  },
  {
   "cell_type": "code",
   "execution_count": null,
   "id": "9102dc8b",
   "metadata": {
    "execution": {
     "iopub.execute_input": "2024-11-09T00:37:17.674457Z",
     "iopub.status.busy": "2024-11-09T00:37:17.674089Z",
     "iopub.status.idle": "2024-11-09T00:37:37.954170Z",
     "shell.execute_reply": "2024-11-09T00:37:37.953358Z"
    },
    "papermill": {
     "duration": 20.308555,
     "end_time": "2024-11-09T00:37:37.956556",
     "exception": false,
     "start_time": "2024-11-09T00:37:17.648001",
     "status": "completed"
    },
    "tags": []
   },
   "outputs": [],
   "source": [
    "# Символьная длина слов\n",
    "def word_length(word):\n",
    "    '''Просто принимаем на вход слово и возвращаем его длину'''\n",
    "    return len(word)\n",
    "\n",
    "# Один символ\n",
    "def is_one_symbol(word):\n",
    "    '''Возвращаем 1, если слово имеет один символ, иначе возвращаем 0'''\n",
    "    return int(len(word) == 1)\n",
    "\n",
    "# Больше одного слова через пробел\n",
    "def more_than_one_word(word):\n",
    "    '''Возвращаем 1, если несколько слов в записи, иначе 0'''\n",
    "    splitted = word.split(' ')\n",
    "    return int(len(splitted) > 1)\n",
    "\n",
    "# Подсчет символов ударения ^:\n",
    "def count_hat(word):\n",
    "    '''Считаем количество символов ^'''\n",
    "    return len(re.findall(r'\\^', word))\n",
    "\n",
    "# Есть ли латинские буквы в слове\n",
    "def contains_latin(word):\n",
    "    '''Обрабатываем случаи наличия латинских символов (bool flag)'''\n",
    "    return int(bool(re.search(r'[a-zA-Z]', word)))\n",
    "\n",
    "# Функция для подсчета символов, которые не являются русскими буквами\n",
    "def count_non_russian(word):\n",
    "    '''Считаем количество не кириллицы'''\n",
    "    return len(re.findall(r'[a-zA-Z]', word))\n",
    "\n",
    "def letter_yo(word):\n",
    "    '''Обрабатываем случай буквы ёЁ, она всегда угарная'''\n",
    "    return int(bool(re.search(r'[ёЁ]', word)))\n",
    "\n",
    "def error_cases(word):\n",
    "    '''Обработка ошибок (ударение в слове падает на согласную букву)'''\n",
    "    pattern = r'\\^[бвгджзйклмнпрстфхцчшщБВГДЖЗЙКЛМНПРСТФХЦЧШЩ]'   \n",
    "    matches = re.findall(pattern, word)\n",
    "    return len(matches)\n",
    "\n",
    "# Последовательно обрабатываем датасет данными функциями для дальнейшего анализа\n",
    "accents_dataset['word_length'] = accents_dataset['-де'].map(word_length)\n",
    "accents_dataset['is_one_symbol'] = accents_dataset['-де'].map(is_one_symbol)\n",
    "accents_dataset['more_than_one_word'] = accents_dataset['-де'].map(more_than_one_word)\n",
    "accents_dataset['hat_num'] = accents_dataset['-д^е'].map(count_hat)\n",
    "accents_dataset['has_latin'] = accents_dataset['-де'].map(contains_latin)\n",
    "accents_dataset['num_non_russian'] = accents_dataset['-де'].map(count_non_russian)\n",
    "accents_dataset['error_cases'] = accents_dataset['-д^е'].map(error_cases)\n",
    "accents_dataset['is_Ёё'] = accents_dataset['-де'].map(letter_yo)"
   ]
  },
  {
   "cell_type": "code",
   "execution_count": 15,
   "id": "18c3fd56",
   "metadata": {
    "execution": {
     "iopub.execute_input": "2024-11-09T00:37:38.007971Z",
     "iopub.status.busy": "2024-11-09T00:37:38.007347Z",
     "iopub.status.idle": "2024-11-09T00:37:38.018630Z",
     "shell.execute_reply": "2024-11-09T00:37:38.017484Z"
    },
    "papermill": {
     "duration": 0.038934,
     "end_time": "2024-11-09T00:37:38.020678",
     "exception": false,
     "start_time": "2024-11-09T00:37:37.981744",
     "status": "completed"
    },
    "tags": []
   },
   "outputs": [
    {
     "name": "stdout",
     "output_type": "stream",
     "text": [
      "Максимальное число символов в слове: 56\n",
      "Среднее число символов в слове: 10.641052189363618\n"
     ]
    }
   ],
   "source": [
    "# Максимальное и среднее число символов в слове:\n",
    "word_max_length = accents_dataset['word_length'].max()\n",
    "print(f\"Максимальное число символов в слове: {word_max_length}\")\n",
    "\n",
    "# Максимальное и среднее число символов в слове:\n",
    "word_mean_length = accents_dataset['word_length'].mean()\n",
    "print(f\"Среднее число символов в слове: {word_mean_length}\")"
   ]
  },
  {
   "cell_type": "markdown",
   "id": "c3767929",
   "metadata": {
    "papermill": {
     "duration": 0.024385,
     "end_time": "2024-11-09T00:37:38.069898",
     "exception": false,
     "start_time": "2024-11-09T00:37:38.045513",
     "status": "completed"
    },
    "tags": []
   },
   "source": [
    "#### Посмотрим более пристально на ударения:"
   ]
  },
  {
   "cell_type": "code",
   "execution_count": 16,
   "id": "9e066390",
   "metadata": {
    "execution": {
     "iopub.execute_input": "2024-11-09T00:37:38.121556Z",
     "iopub.status.busy": "2024-11-09T00:37:38.120643Z",
     "iopub.status.idle": "2024-11-09T00:37:38.133406Z",
     "shell.execute_reply": "2024-11-09T00:37:38.132258Z"
    },
    "papermill": {
     "duration": 0.040595,
     "end_time": "2024-11-09T00:37:38.135572",
     "exception": false,
     "start_time": "2024-11-09T00:37:38.094977",
     "status": "completed"
    },
    "tags": []
   },
   "outputs": [
    {
     "name": "stdout",
     "output_type": "stream",
     "text": [
      "Максимальное число ударений в слове: 1\n",
      "Количество случаев отсутствия ударений в словах: 507\n"
     ]
    }
   ],
   "source": [
    "accents_count_max = accents_dataset['hat_num'].max()\n",
    "print(f\"Максимальное число ударений в слове: {accents_count_max}\")\n",
    "\n",
    "zero_accents_num = accents_dataset[accents_dataset['hat_num'] == 0].shape[0]\n",
    "print(f\"Количество случаев отсутствия ударений в словах: {zero_accents_num}\")"
   ]
  },
  {
   "cell_type": "markdown",
   "id": "89582de2",
   "metadata": {
    "papermill": {
     "duration": 0.024586,
     "end_time": "2024-11-09T00:37:38.185866",
     "exception": false,
     "start_time": "2024-11-09T00:37:38.161280",
     "status": "completed"
    },
    "tags": []
   },
   "source": [
    "Ошибок нет, где у нас больше одного ударения. Однако у нас целых 507 случаев отсутствия ударений в словах:"
   ]
  },
  {
   "cell_type": "code",
   "execution_count": 17,
   "id": "292bb417",
   "metadata": {
    "execution": {
     "iopub.execute_input": "2024-11-09T00:37:38.237024Z",
     "iopub.status.busy": "2024-11-09T00:37:38.236710Z",
     "iopub.status.idle": "2024-11-09T00:37:38.252589Z",
     "shell.execute_reply": "2024-11-09T00:37:38.251633Z"
    },
    "papermill": {
     "duration": 0.043507,
     "end_time": "2024-11-09T00:37:38.254592",
     "exception": false,
     "start_time": "2024-11-09T00:37:38.211085",
     "status": "completed"
    },
    "tags": []
   },
   "outputs": [
    {
     "data": {
      "text/html": [
       "<div>\n",
       "<style scoped>\n",
       "    .dataframe tbody tr th:only-of-type {\n",
       "        vertical-align: middle;\n",
       "    }\n",
       "\n",
       "    .dataframe tbody tr th {\n",
       "        vertical-align: top;\n",
       "    }\n",
       "\n",
       "    .dataframe thead th {\n",
       "        text-align: right;\n",
       "    }\n",
       "</style>\n",
       "<table border=\"1\" class=\"dataframe\">\n",
       "  <thead>\n",
       "    <tr style=\"text-align: right;\">\n",
       "      <th></th>\n",
       "      <th>-де</th>\n",
       "      <th>-д^е</th>\n",
       "      <th>word_length</th>\n",
       "      <th>is_one_symbol</th>\n",
       "      <th>more_than_one_word</th>\n",
       "      <th>hat_num</th>\n",
       "      <th>has_latin</th>\n",
       "      <th>num_non_russian</th>\n",
       "      <th>error_cases</th>\n",
       "      <th>is_Ёё</th>\n",
       "    </tr>\n",
       "  </thead>\n",
       "  <tbody>\n",
       "    <tr>\n",
       "      <th>3</th>\n",
       "      <td>-с</td>\n",
       "      <td>-с</td>\n",
       "      <td>2</td>\n",
       "      <td>0</td>\n",
       "      <td>0</td>\n",
       "      <td>0</td>\n",
       "      <td>0</td>\n",
       "      <td>0</td>\n",
       "      <td>0</td>\n",
       "      <td>0</td>\n",
       "    </tr>\n",
       "    <tr>\n",
       "      <th>16107</th>\n",
       "      <td>ай</td>\n",
       "      <td>ай</td>\n",
       "      <td>2</td>\n",
       "      <td>0</td>\n",
       "      <td>0</td>\n",
       "      <td>0</td>\n",
       "      <td>0</td>\n",
       "      <td>0</td>\n",
       "      <td>0</td>\n",
       "      <td>0</td>\n",
       "    </tr>\n",
       "    <tr>\n",
       "      <th>16172</th>\n",
       "      <td>айвингхо</td>\n",
       "      <td>айвингхо</td>\n",
       "      <td>8</td>\n",
       "      <td>0</td>\n",
       "      <td>0</td>\n",
       "      <td>0</td>\n",
       "      <td>0</td>\n",
       "      <td>0</td>\n",
       "      <td>0</td>\n",
       "      <td>0</td>\n",
       "    </tr>\n",
       "    <tr>\n",
       "      <th>24766</th>\n",
       "      <td>алмондсбери</td>\n",
       "      <td>алмондсбери</td>\n",
       "      <td>11</td>\n",
       "      <td>0</td>\n",
       "      <td>0</td>\n",
       "      <td>0</td>\n",
       "      <td>0</td>\n",
       "      <td>0</td>\n",
       "      <td>0</td>\n",
       "      <td>0</td>\n",
       "    </tr>\n",
       "    <tr>\n",
       "      <th>27255</th>\n",
       "      <td>ам</td>\n",
       "      <td>ам</td>\n",
       "      <td>2</td>\n",
       "      <td>0</td>\n",
       "      <td>0</td>\n",
       "      <td>0</td>\n",
       "      <td>0</td>\n",
       "      <td>0</td>\n",
       "      <td>0</td>\n",
       "      <td>0</td>\n",
       "    </tr>\n",
       "    <tr>\n",
       "      <th>29041</th>\n",
       "      <td>амка</td>\n",
       "      <td>амка</td>\n",
       "      <td>4</td>\n",
       "      <td>0</td>\n",
       "      <td>0</td>\n",
       "      <td>0</td>\n",
       "      <td>0</td>\n",
       "      <td>0</td>\n",
       "      <td>0</td>\n",
       "      <td>0</td>\n",
       "    </tr>\n",
       "    <tr>\n",
       "      <th>35185</th>\n",
       "      <td>анка</td>\n",
       "      <td>анка</td>\n",
       "      <td>4</td>\n",
       "      <td>0</td>\n",
       "      <td>0</td>\n",
       "      <td>0</td>\n",
       "      <td>0</td>\n",
       "      <td>0</td>\n",
       "      <td>0</td>\n",
       "      <td>0</td>\n",
       "    </tr>\n",
       "    <tr>\n",
       "      <th>42254</th>\n",
       "      <td>анька</td>\n",
       "      <td>анька</td>\n",
       "      <td>5</td>\n",
       "      <td>0</td>\n",
       "      <td>0</td>\n",
       "      <td>0</td>\n",
       "      <td>0</td>\n",
       "      <td>0</td>\n",
       "      <td>0</td>\n",
       "      <td>0</td>\n",
       "    </tr>\n",
       "    <tr>\n",
       "      <th>62526</th>\n",
       "      <td>б</td>\n",
       "      <td>б</td>\n",
       "      <td>1</td>\n",
       "      <td>1</td>\n",
       "      <td>0</td>\n",
       "      <td>0</td>\n",
       "      <td>0</td>\n",
       "      <td>0</td>\n",
       "      <td>0</td>\n",
       "      <td>0</td>\n",
       "    </tr>\n",
       "    <tr>\n",
       "      <th>75305</th>\n",
       "      <td>бедерный</td>\n",
       "      <td>бедерный</td>\n",
       "      <td>8</td>\n",
       "      <td>0</td>\n",
       "      <td>0</td>\n",
       "      <td>0</td>\n",
       "      <td>0</td>\n",
       "      <td>0</td>\n",
       "      <td>0</td>\n",
       "      <td>0</td>\n",
       "    </tr>\n",
       "  </tbody>\n",
       "</table>\n",
       "</div>"
      ],
      "text/plain": [
       "               -де         -д^е  word_length  is_one_symbol  \\\n",
       "3               -с           -с            2              0   \n",
       "16107           ай           ай            2              0   \n",
       "16172     айвингхо     айвингхо            8              0   \n",
       "24766  алмондсбери  алмондсбери           11              0   \n",
       "27255           ам           ам            2              0   \n",
       "29041         амка         амка            4              0   \n",
       "35185         анка         анка            4              0   \n",
       "42254        анька        анька            5              0   \n",
       "62526            б            б            1              1   \n",
       "75305     бедерный     бедерный            8              0   \n",
       "\n",
       "       more_than_one_word  hat_num  has_latin  num_non_russian  error_cases  \\\n",
       "3                       0        0          0                0            0   \n",
       "16107                   0        0          0                0            0   \n",
       "16172                   0        0          0                0            0   \n",
       "24766                   0        0          0                0            0   \n",
       "27255                   0        0          0                0            0   \n",
       "29041                   0        0          0                0            0   \n",
       "35185                   0        0          0                0            0   \n",
       "42254                   0        0          0                0            0   \n",
       "62526                   0        0          0                0            0   \n",
       "75305                   0        0          0                0            0   \n",
       "\n",
       "       is_Ёё  \n",
       "3          0  \n",
       "16107      0  \n",
       "16172      0  \n",
       "24766      0  \n",
       "27255      0  \n",
       "29041      0  \n",
       "35185      0  \n",
       "42254      0  \n",
       "62526      0  \n",
       "75305      0  "
      ]
     },
     "execution_count": 17,
     "metadata": {},
     "output_type": "execute_result"
    }
   ],
   "source": [
    "accents_dataset[accents_dataset['hat_num'] == 0].head(10)"
   ]
  },
  {
   "cell_type": "markdown",
   "id": "6fd5330d",
   "metadata": {
    "papermill": {
     "duration": 0.024751,
     "end_time": "2024-11-09T00:37:38.304553",
     "exception": false,
     "start_time": "2024-11-09T00:37:38.279802",
     "status": "completed"
    },
    "tags": []
   },
   "source": [
    "Возможно, это ошибка разметки или какие-то части слов. Но где-то это справедливо ввиду отсутствия гласных букв в словах. Подобные сэмплы могут запутать модель, но их количество в целом и незначительно в сравнении с общим числов сэмплов в обучении."
   ]
  },
  {
   "cell_type": "markdown",
   "id": "c9ce9dcd",
   "metadata": {
    "papermill": {
     "duration": 0.025036,
     "end_time": "2024-11-09T00:37:38.354742",
     "exception": false,
     "start_time": "2024-11-09T00:37:38.329706",
     "status": "completed"
    },
    "tags": []
   },
   "source": [
    "#### Нерусская раскладка:"
   ]
  },
  {
   "cell_type": "code",
   "execution_count": 18,
   "id": "2ec7ec7f",
   "metadata": {
    "execution": {
     "iopub.execute_input": "2024-11-09T00:37:38.406591Z",
     "iopub.status.busy": "2024-11-09T00:37:38.406194Z",
     "iopub.status.idle": "2024-11-09T00:37:38.415862Z",
     "shell.execute_reply": "2024-11-09T00:37:38.414775Z"
    },
    "papermill": {
     "duration": 0.038033,
     "end_time": "2024-11-09T00:37:38.417812",
     "exception": false,
     "start_time": "2024-11-09T00:37:38.379779",
     "status": "completed"
    },
    "tags": []
   },
   "outputs": [
    {
     "name": "stdout",
     "output_type": "stream",
     "text": [
      "Максимальное число нерусских символов в слове: 2\n",
      "Количество сэмплов, где число нерусских символов больше 0: 14\n"
     ]
    }
   ],
   "source": [
    "accents_count_latin_max = accents_dataset['num_non_russian'].max()\n",
    "print(f\"Максимальное число нерусских символов в слове: {accents_count_latin_max}\")\n",
    "\n",
    "accents_count_latin = accents_dataset[accents_dataset['num_non_russian'] > 0].shape[0]\n",
    "print(f\"Количество сэмплов, где число нерусских символов больше 0: {accents_count_latin}\")"
   ]
  },
  {
   "cell_type": "code",
   "execution_count": 19,
   "id": "b3c755a2",
   "metadata": {
    "execution": {
     "iopub.execute_input": "2024-11-09T00:37:38.469722Z",
     "iopub.status.busy": "2024-11-09T00:37:38.468978Z",
     "iopub.status.idle": "2024-11-09T00:37:38.486428Z",
     "shell.execute_reply": "2024-11-09T00:37:38.485470Z"
    },
    "papermill": {
     "duration": 0.045767,
     "end_time": "2024-11-09T00:37:38.488683",
     "exception": false,
     "start_time": "2024-11-09T00:37:38.442916",
     "status": "completed"
    },
    "tags": []
   },
   "outputs": [
    {
     "data": {
      "text/html": [
       "<div>\n",
       "<style scoped>\n",
       "    .dataframe tbody tr th:only-of-type {\n",
       "        vertical-align: middle;\n",
       "    }\n",
       "\n",
       "    .dataframe tbody tr th {\n",
       "        vertical-align: top;\n",
       "    }\n",
       "\n",
       "    .dataframe thead th {\n",
       "        text-align: right;\n",
       "    }\n",
       "</style>\n",
       "<table border=\"1\" class=\"dataframe\">\n",
       "  <thead>\n",
       "    <tr style=\"text-align: right;\">\n",
       "      <th></th>\n",
       "      <th>-де</th>\n",
       "      <th>-д^е</th>\n",
       "      <th>word_length</th>\n",
       "      <th>is_one_symbol</th>\n",
       "      <th>more_than_one_word</th>\n",
       "      <th>hat_num</th>\n",
       "      <th>has_latin</th>\n",
       "      <th>num_non_russian</th>\n",
       "      <th>error_cases</th>\n",
       "      <th>is_Ёё</th>\n",
       "    </tr>\n",
       "  </thead>\n",
       "  <tbody>\n",
       "    <tr>\n",
       "      <th>116704</th>\n",
       "      <td>буhалтер</td>\n",
       "      <td>буh^алтер</td>\n",
       "      <td>8</td>\n",
       "      <td>0</td>\n",
       "      <td>0</td>\n",
       "      <td>1</td>\n",
       "      <td>1</td>\n",
       "      <td>1</td>\n",
       "      <td>0</td>\n",
       "      <td>0</td>\n",
       "    </tr>\n",
       "    <tr>\n",
       "      <th>116705</th>\n",
       "      <td>буhалтер-калькулятор</td>\n",
       "      <td>буh^алтер-калькулятор</td>\n",
       "      <td>20</td>\n",
       "      <td>0</td>\n",
       "      <td>0</td>\n",
       "      <td>1</td>\n",
       "      <td>1</td>\n",
       "      <td>1</td>\n",
       "      <td>0</td>\n",
       "      <td>0</td>\n",
       "    </tr>\n",
       "    <tr>\n",
       "      <th>116706</th>\n",
       "      <td>буhалтер-ревизор</td>\n",
       "      <td>буh^алтер-ревизор</td>\n",
       "      <td>16</td>\n",
       "      <td>0</td>\n",
       "      <td>0</td>\n",
       "      <td>1</td>\n",
       "      <td>1</td>\n",
       "      <td>1</td>\n",
       "      <td>0</td>\n",
       "      <td>0</td>\n",
       "    </tr>\n",
       "    <tr>\n",
       "      <th>116707</th>\n",
       "      <td>буhалтерия</td>\n",
       "      <td>буhалт^ерия</td>\n",
       "      <td>10</td>\n",
       "      <td>0</td>\n",
       "      <td>0</td>\n",
       "      <td>1</td>\n",
       "      <td>1</td>\n",
       "      <td>1</td>\n",
       "      <td>0</td>\n",
       "      <td>0</td>\n",
       "    </tr>\n",
       "    <tr>\n",
       "      <th>116708</th>\n",
       "      <td>буhалтерски</td>\n",
       "      <td>буh^алтерски</td>\n",
       "      <td>11</td>\n",
       "      <td>0</td>\n",
       "      <td>0</td>\n",
       "      <td>1</td>\n",
       "      <td>1</td>\n",
       "      <td>1</td>\n",
       "      <td>0</td>\n",
       "      <td>0</td>\n",
       "    </tr>\n",
       "    <tr>\n",
       "      <th>116709</th>\n",
       "      <td>буhалтерский</td>\n",
       "      <td>буh^алтерский</td>\n",
       "      <td>12</td>\n",
       "      <td>0</td>\n",
       "      <td>0</td>\n",
       "      <td>1</td>\n",
       "      <td>1</td>\n",
       "      <td>1</td>\n",
       "      <td>0</td>\n",
       "      <td>0</td>\n",
       "    </tr>\n",
       "    <tr>\n",
       "      <th>116710</th>\n",
       "      <td>буhалтерша</td>\n",
       "      <td>буh^алтерша</td>\n",
       "      <td>10</td>\n",
       "      <td>0</td>\n",
       "      <td>0</td>\n",
       "      <td>1</td>\n",
       "      <td>1</td>\n",
       "      <td>1</td>\n",
       "      <td>0</td>\n",
       "      <td>0</td>\n",
       "    </tr>\n",
       "    <tr>\n",
       "      <th>620314</th>\n",
       "      <td>лимасcольский</td>\n",
       "      <td>лимасc^ольский</td>\n",
       "      <td>13</td>\n",
       "      <td>0</td>\n",
       "      <td>0</td>\n",
       "      <td>1</td>\n",
       "      <td>1</td>\n",
       "      <td>1</td>\n",
       "      <td>0</td>\n",
       "      <td>0</td>\n",
       "    </tr>\n",
       "    <tr>\n",
       "      <th>1018887</th>\n",
       "      <td>по-буhалтерски</td>\n",
       "      <td>по-буh^алтерски</td>\n",
       "      <td>14</td>\n",
       "      <td>0</td>\n",
       "      <td>0</td>\n",
       "      <td>1</td>\n",
       "      <td>1</td>\n",
       "      <td>1</td>\n",
       "      <td>0</td>\n",
       "      <td>0</td>\n",
       "    </tr>\n",
       "    <tr>\n",
       "      <th>1133176</th>\n",
       "      <td>прдjети</td>\n",
       "      <td>прдjети</td>\n",
       "      <td>7</td>\n",
       "      <td>0</td>\n",
       "      <td>0</td>\n",
       "      <td>0</td>\n",
       "      <td>1</td>\n",
       "      <td>1</td>\n",
       "      <td>0</td>\n",
       "      <td>0</td>\n",
       "    </tr>\n",
       "    <tr>\n",
       "      <th>1237738</th>\n",
       "      <td>психолоgо-педагогический</td>\n",
       "      <td>психолоgо-педагог^ический</td>\n",
       "      <td>24</td>\n",
       "      <td>0</td>\n",
       "      <td>0</td>\n",
       "      <td>1</td>\n",
       "      <td>1</td>\n",
       "      <td>1</td>\n",
       "      <td>0</td>\n",
       "      <td>0</td>\n",
       "    </tr>\n",
       "    <tr>\n",
       "      <th>1653222</th>\n",
       "      <td>э-hѐ-hе</td>\n",
       "      <td>э-hѐ-h^е</td>\n",
       "      <td>7</td>\n",
       "      <td>0</td>\n",
       "      <td>0</td>\n",
       "      <td>1</td>\n",
       "      <td>1</td>\n",
       "      <td>2</td>\n",
       "      <td>0</td>\n",
       "      <td>0</td>\n",
       "    </tr>\n",
       "    <tr>\n",
       "      <th>1653226</th>\n",
       "      <td>эhей</td>\n",
       "      <td>эh^ей</td>\n",
       "      <td>4</td>\n",
       "      <td>0</td>\n",
       "      <td>0</td>\n",
       "      <td>1</td>\n",
       "      <td>1</td>\n",
       "      <td>1</td>\n",
       "      <td>0</td>\n",
       "      <td>0</td>\n",
       "    </tr>\n",
       "    <tr>\n",
       "      <th>1680522</th>\n",
       "      <td>ѐй-боhу</td>\n",
       "      <td>ѐй-б^оhу</td>\n",
       "      <td>7</td>\n",
       "      <td>0</td>\n",
       "      <td>0</td>\n",
       "      <td>1</td>\n",
       "      <td>1</td>\n",
       "      <td>1</td>\n",
       "      <td>0</td>\n",
       "      <td>0</td>\n",
       "    </tr>\n",
       "  </tbody>\n",
       "</table>\n",
       "</div>"
      ],
      "text/plain": [
       "                              -де                       -д^е  word_length  \\\n",
       "116704                   буhалтер                  буh^алтер            8   \n",
       "116705       буhалтер-калькулятор      буh^алтер-калькулятор           20   \n",
       "116706           буhалтер-ревизор          буh^алтер-ревизор           16   \n",
       "116707                 буhалтерия                буhалт^ерия           10   \n",
       "116708                буhалтерски               буh^алтерски           11   \n",
       "116709               буhалтерский              буh^алтерский           12   \n",
       "116710                 буhалтерша                буh^алтерша           10   \n",
       "620314              лимасcольский             лимасc^ольский           13   \n",
       "1018887            по-буhалтерски            по-буh^алтерски           14   \n",
       "1133176                   прдjети                    прдjети            7   \n",
       "1237738  психолоgо-педагогический  психолоgо-педагог^ический           24   \n",
       "1653222                   э-hѐ-hе                   э-hѐ-h^е            7   \n",
       "1653226                      эhей                      эh^ей            4   \n",
       "1680522                   ѐй-боhу                   ѐй-б^оhу            7   \n",
       "\n",
       "         is_one_symbol  more_than_one_word  hat_num  has_latin  \\\n",
       "116704               0                   0        1          1   \n",
       "116705               0                   0        1          1   \n",
       "116706               0                   0        1          1   \n",
       "116707               0                   0        1          1   \n",
       "116708               0                   0        1          1   \n",
       "116709               0                   0        1          1   \n",
       "116710               0                   0        1          1   \n",
       "620314               0                   0        1          1   \n",
       "1018887              0                   0        1          1   \n",
       "1133176              0                   0        0          1   \n",
       "1237738              0                   0        1          1   \n",
       "1653222              0                   0        1          1   \n",
       "1653226              0                   0        1          1   \n",
       "1680522              0                   0        1          1   \n",
       "\n",
       "         num_non_russian  error_cases  is_Ёё  \n",
       "116704                 1            0      0  \n",
       "116705                 1            0      0  \n",
       "116706                 1            0      0  \n",
       "116707                 1            0      0  \n",
       "116708                 1            0      0  \n",
       "116709                 1            0      0  \n",
       "116710                 1            0      0  \n",
       "620314                 1            0      0  \n",
       "1018887                1            0      0  \n",
       "1133176                1            0      0  \n",
       "1237738                1            0      0  \n",
       "1653222                2            0      0  \n",
       "1653226                1            0      0  \n",
       "1680522                1            0      0  "
      ]
     },
     "execution_count": 19,
     "metadata": {},
     "output_type": "execute_result"
    }
   ],
   "source": [
    "accents_dataset[accents_dataset['num_non_russian'] > 0]"
   ]
  },
  {
   "cell_type": "markdown",
   "id": "7f04d948",
   "metadata": {
    "papermill": {
     "duration": 0.025087,
     "end_time": "2024-11-09T00:37:38.540101",
     "exception": false,
     "start_time": "2024-11-09T00:37:38.515014",
     "status": "completed"
    },
    "tags": []
   },
   "source": [
    "Что ж, есть и такие сэмплы, но благо их тоже не очень-то и много."
   ]
  },
  {
   "cell_type": "markdown",
   "id": "356a1fea",
   "metadata": {
    "papermill": {
     "duration": 0.025198,
     "end_time": "2024-11-09T00:37:38.590671",
     "exception": false,
     "start_time": "2024-11-09T00:37:38.565473",
     "status": "completed"
    },
    "tags": []
   },
   "source": [
    "#### Посмотрим на распределения слов по выделенным параметрам:"
   ]
  },
  {
   "cell_type": "code",
   "execution_count": 20,
   "id": "add11732",
   "metadata": {
    "execution": {
     "iopub.execute_input": "2024-11-09T00:37:38.644158Z",
     "iopub.status.busy": "2024-11-09T00:37:38.643341Z",
     "iopub.status.idle": "2024-11-09T00:37:39.330879Z",
     "shell.execute_reply": "2024-11-09T00:37:39.329956Z"
    },
    "papermill": {
     "duration": 0.716444,
     "end_time": "2024-11-09T00:37:39.333297",
     "exception": false,
     "start_time": "2024-11-09T00:37:38.616853",
     "status": "completed"
    },
    "tags": []
   },
   "outputs": [
    {
     "data": {
      "image/png": "[encoded data removed]",
      "text/plain": [
       "<Figure size 1500x500 with 2 Axes>"
      ]
     },
     "metadata": {},
     "output_type": "display_data"
    }
   ],
   "source": [
    "fig, axs = plt.subplots(1, 2, figsize=(15, 5))\n",
    "\n",
    "axs[0].hist(accents_dataset['word_length'], color='skyblue')\n",
    "axs[0].set_title('Гистограмма длины слов')\n",
    "axs[1].hist(accents_dataset['num_non_russian'], color='salmon')\n",
    "axs[1].set_title('Гистограмма количества нерусских символов')\n",
    "for ax in axs:\n",
    "    ax.set_xlabel('Значения')\n",
    "    ax.set_ylabel('Категории')\n",
    "\n",
    "plt.tight_layout()\n",
    "plt.show()"
   ]
  },
  {
   "cell_type": "code",
   "execution_count": null,
   "id": "984b3786",
   "metadata": {
    "execution": {
     "iopub.execute_input": "2024-11-09T00:37:39.388061Z",
     "iopub.status.busy": "2024-11-09T00:37:39.387732Z",
     "iopub.status.idle": "2024-11-09T00:37:39.412597Z",
     "shell.execute_reply": "2024-11-09T00:37:39.411483Z"
    },
    "papermill": {
     "duration": 0.054829,
     "end_time": "2024-11-09T00:37:39.414534",
     "exception": false,
     "start_time": "2024-11-09T00:37:39.359705",
     "status": "completed"
    },
    "tags": []
   },
   "outputs": [
    {
     "name": "stdout",
     "output_type": "stream",
     "text": [
      "95-квантиль: 16.0\n"
     ]
    }
   ],
   "source": [
    "# подсчет 95-% квантиля для распределения слов по длине\n",
    "print(f\"95-квантиль: {np.quantile(accents_dataset['word_length'].values, q = 0.95)}\")"
   ]
  },
  {
   "cell_type": "code",
   "execution_count": 22,
   "id": "8b345f10",
   "metadata": {
    "execution": {
     "iopub.execute_input": "2024-11-09T00:37:39.468909Z",
     "iopub.status.busy": "2024-11-09T00:37:39.468156Z",
     "iopub.status.idle": "2024-11-09T00:37:39.478308Z",
     "shell.execute_reply": "2024-11-09T00:37:39.477475Z"
    },
    "papermill": {
     "duration": 0.039233,
     "end_time": "2024-11-09T00:37:39.480222",
     "exception": false,
     "start_time": "2024-11-09T00:37:39.440989",
     "status": "completed"
    },
    "tags": []
   },
   "outputs": [
    {
     "data": {
      "text/plain": [
       "4477"
      ]
     },
     "execution_count": 22,
     "metadata": {},
     "output_type": "execute_result"
    }
   ],
   "source": [
    "len(accents_dataset[accents_dataset['word_length'] > 20])"
   ]
  },
  {
   "cell_type": "markdown",
   "id": "d08aacf6",
   "metadata": {
    "papermill": {
     "duration": 0.026014,
     "end_time": "2024-11-09T00:37:39.532558",
     "exception": false,
     "start_time": "2024-11-09T00:37:39.506544",
     "status": "completed"
    },
    "tags": []
   },
   "source": [
    "Думаю 4500 длинных слов можно отбросить"
   ]
  },
  {
   "cell_type": "code",
   "execution_count": 23,
   "id": "e74064a3",
   "metadata": {
    "execution": {
     "iopub.execute_input": "2024-11-09T00:37:39.587205Z",
     "iopub.status.busy": "2024-11-09T00:37:39.586342Z",
     "iopub.status.idle": "2024-11-09T00:37:39.744500Z",
     "shell.execute_reply": "2024-11-09T00:37:39.743453Z"
    },
    "papermill": {
     "duration": 0.187801,
     "end_time": "2024-11-09T00:37:39.746819",
     "exception": false,
     "start_time": "2024-11-09T00:37:39.559018",
     "status": "completed"
    },
    "tags": []
   },
   "outputs": [],
   "source": [
    "accents_dataset = accents_dataset[accents_dataset['word_length'] < 20]"
   ]
  },
  {
   "cell_type": "markdown",
   "id": "1b7a62cb",
   "metadata": {
    "papermill": {
     "duration": 0.026115,
     "end_time": "2024-11-09T00:37:39.799901",
     "exception": false,
     "start_time": "2024-11-09T00:37:39.773786",
     "status": "completed"
    },
    "tags": []
   },
   "source": [
    "Итак, предварительный анализ показывает, что существуют особые сэмплы, которые могут повлиять на обобщающую способность модели. Однако их количество не такое уж и большое и, в целом, такие примеры как одна согласная могут быть довольно-таки полезными. По необходимости, отфильтруем данные позже.\n",
    "\n",
    "Как вариант иностранные символы из латинской раскладки можно заменить транслитерацией на русские символы или, например, неизвестные символы (отличающиеся от \"-\") вообще убрать или заменить на другой символ. "
   ]
  },
  {
   "cell_type": "markdown",
   "id": "03525568",
   "metadata": {
    "papermill": {
     "duration": 0.025946,
     "end_time": "2024-11-09T00:37:39.852368",
     "exception": false,
     "start_time": "2024-11-09T00:37:39.826422",
     "status": "completed"
    },
    "tags": []
   },
   "source": [
    "#### Еще хочется посмотреть, есть ли сэмплы, в которых случайно расставлены ударения на согласную букву и сэмплы, содержащие букву ёЁ, чтобы не учить модель на них:"
   ]
  },
  {
   "cell_type": "code",
   "execution_count": 24,
   "id": "136eeeae",
   "metadata": {
    "execution": {
     "iopub.execute_input": "2024-11-09T00:37:39.908310Z",
     "iopub.status.busy": "2024-11-09T00:37:39.907683Z",
     "iopub.status.idle": "2024-11-09T00:37:39.917690Z",
     "shell.execute_reply": "2024-11-09T00:37:39.916757Z"
    },
    "papermill": {
     "duration": 0.039823,
     "end_time": "2024-11-09T00:37:39.919650",
     "exception": false,
     "start_time": "2024-11-09T00:37:39.879827",
     "status": "completed"
    },
    "tags": []
   },
   "outputs": [
    {
     "name": "stdout",
     "output_type": "stream",
     "text": [
      "Количество сэмплов с буквой Ёё: 0\n",
      "Количество сэмплов с ударениям на согласную: 0\n"
     ]
    }
   ],
   "source": [
    "print(f\"Количество сэмплов с буквой Ёё: {accents_dataset[accents_dataset['is_Ёё'] != 0].shape[0]}\")\n",
    "\n",
    "print(f\"Количество сэмплов с ударениям на согласную: {accents_dataset[accents_dataset['error_cases'] != 0].shape[0]}\")"
   ]
  },
  {
   "cell_type": "markdown",
   "id": "65260530",
   "metadata": {
    "papermill": {
     "duration": 0.026479,
     "end_time": "2024-11-09T00:37:39.972743",
     "exception": false,
     "start_time": "2024-11-09T00:37:39.946264",
     "status": "completed"
    },
    "tags": []
   },
   "source": [
    "Итак, букв Ёё и ошибок с ударением на согласную нет."
   ]
  },
  {
   "cell_type": "markdown",
   "id": "0d6f5372",
   "metadata": {
    "papermill": {
     "duration": 0.026214,
     "end_time": "2024-11-09T00:37:40.025210",
     "exception": false,
     "start_time": "2024-11-09T00:37:39.998996",
     "status": "completed"
    },
    "tags": []
   },
   "source": [
    "#### Всё же попробуем заменить английские символы транслитерацией:"
   ]
  },
  {
   "cell_type": "code",
   "execution_count": null,
   "id": "a465c24b",
   "metadata": {
    "execution": {
     "iopub.execute_input": "2024-11-09T00:37:40.079456Z",
     "iopub.status.busy": "2024-11-09T00:37:40.078792Z",
     "iopub.status.idle": "2024-11-09T00:37:45.111787Z",
     "shell.execute_reply": "2024-11-09T00:37:45.110757Z"
    },
    "papermill": {
     "duration": 5.063044,
     "end_time": "2024-11-09T00:37:45.114402",
     "exception": false,
     "start_time": "2024-11-09T00:37:40.051358",
     "status": "completed"
    },
    "tags": []
   },
   "outputs": [],
   "source": [
    "latin_to_russian_needed = {\n",
    "    'c': 'с', 'h': 'г', 'j': 'ъ', 'g': 'г'\n",
    "}\n",
    "\n",
    "def transliterate(text):\n",
    "    '''Делаем транслитерацию найденных латинских букв и символов'''\n",
    "    return ''.join(latin_to_russian_needed.get(char, char) for char in text)\n",
    "\n",
    "accents_dataset['words_upd'] = accents_dataset['-де'].map(transliterate)"
   ]
  },
  {
   "cell_type": "code",
   "execution_count": 26,
   "id": "2050dadb",
   "metadata": {
    "execution": {
     "iopub.execute_input": "2024-11-09T00:37:45.169728Z",
     "iopub.status.busy": "2024-11-09T00:37:45.169349Z",
     "iopub.status.idle": "2024-11-09T00:37:45.187302Z",
     "shell.execute_reply": "2024-11-09T00:37:45.186385Z"
    },
    "papermill": {
     "duration": 0.047837,
     "end_time": "2024-11-09T00:37:45.189332",
     "exception": false,
     "start_time": "2024-11-09T00:37:45.141495",
     "status": "completed"
    },
    "tags": []
   },
   "outputs": [
    {
     "data": {
      "text/html": [
       "<div>\n",
       "<style scoped>\n",
       "    .dataframe tbody tr th:only-of-type {\n",
       "        vertical-align: middle;\n",
       "    }\n",
       "\n",
       "    .dataframe tbody tr th {\n",
       "        vertical-align: top;\n",
       "    }\n",
       "\n",
       "    .dataframe thead th {\n",
       "        text-align: right;\n",
       "    }\n",
       "</style>\n",
       "<table border=\"1\" class=\"dataframe\">\n",
       "  <thead>\n",
       "    <tr style=\"text-align: right;\">\n",
       "      <th></th>\n",
       "      <th>-де</th>\n",
       "      <th>-д^е</th>\n",
       "      <th>word_length</th>\n",
       "      <th>is_one_symbol</th>\n",
       "      <th>more_than_one_word</th>\n",
       "      <th>hat_num</th>\n",
       "      <th>has_latin</th>\n",
       "      <th>num_non_russian</th>\n",
       "      <th>error_cases</th>\n",
       "      <th>is_Ёё</th>\n",
       "      <th>words_upd</th>\n",
       "    </tr>\n",
       "  </thead>\n",
       "  <tbody>\n",
       "    <tr>\n",
       "      <th>116704</th>\n",
       "      <td>буhалтер</td>\n",
       "      <td>буh^алтер</td>\n",
       "      <td>8</td>\n",
       "      <td>0</td>\n",
       "      <td>0</td>\n",
       "      <td>1</td>\n",
       "      <td>1</td>\n",
       "      <td>1</td>\n",
       "      <td>0</td>\n",
       "      <td>0</td>\n",
       "      <td>бугалтер</td>\n",
       "    </tr>\n",
       "    <tr>\n",
       "      <th>116706</th>\n",
       "      <td>буhалтер-ревизор</td>\n",
       "      <td>буh^алтер-ревизор</td>\n",
       "      <td>16</td>\n",
       "      <td>0</td>\n",
       "      <td>0</td>\n",
       "      <td>1</td>\n",
       "      <td>1</td>\n",
       "      <td>1</td>\n",
       "      <td>0</td>\n",
       "      <td>0</td>\n",
       "      <td>бугалтер-ревизор</td>\n",
       "    </tr>\n",
       "    <tr>\n",
       "      <th>116707</th>\n",
       "      <td>буhалтерия</td>\n",
       "      <td>буhалт^ерия</td>\n",
       "      <td>10</td>\n",
       "      <td>0</td>\n",
       "      <td>0</td>\n",
       "      <td>1</td>\n",
       "      <td>1</td>\n",
       "      <td>1</td>\n",
       "      <td>0</td>\n",
       "      <td>0</td>\n",
       "      <td>бугалтерия</td>\n",
       "    </tr>\n",
       "    <tr>\n",
       "      <th>116708</th>\n",
       "      <td>буhалтерски</td>\n",
       "      <td>буh^алтерски</td>\n",
       "      <td>11</td>\n",
       "      <td>0</td>\n",
       "      <td>0</td>\n",
       "      <td>1</td>\n",
       "      <td>1</td>\n",
       "      <td>1</td>\n",
       "      <td>0</td>\n",
       "      <td>0</td>\n",
       "      <td>бугалтерски</td>\n",
       "    </tr>\n",
       "    <tr>\n",
       "      <th>116709</th>\n",
       "      <td>буhалтерский</td>\n",
       "      <td>буh^алтерский</td>\n",
       "      <td>12</td>\n",
       "      <td>0</td>\n",
       "      <td>0</td>\n",
       "      <td>1</td>\n",
       "      <td>1</td>\n",
       "      <td>1</td>\n",
       "      <td>0</td>\n",
       "      <td>0</td>\n",
       "      <td>бугалтерский</td>\n",
       "    </tr>\n",
       "  </tbody>\n",
       "</table>\n",
       "</div>"
      ],
      "text/plain": [
       "                     -де               -д^е  word_length  is_one_symbol  \\\n",
       "116704          буhалтер          буh^алтер            8              0   \n",
       "116706  буhалтер-ревизор  буh^алтер-ревизор           16              0   \n",
       "116707        буhалтерия        буhалт^ерия           10              0   \n",
       "116708       буhалтерски       буh^алтерски           11              0   \n",
       "116709      буhалтерский      буh^алтерский           12              0   \n",
       "\n",
       "        more_than_one_word  hat_num  has_latin  num_non_russian  error_cases  \\\n",
       "116704                   0        1          1                1            0   \n",
       "116706                   0        1          1                1            0   \n",
       "116707                   0        1          1                1            0   \n",
       "116708                   0        1          1                1            0   \n",
       "116709                   0        1          1                1            0   \n",
       "\n",
       "        is_Ёё         words_upd  \n",
       "116704      0          бугалтер  \n",
       "116706      0  бугалтер-ревизор  \n",
       "116707      0        бугалтерия  \n",
       "116708      0       бугалтерски  \n",
       "116709      0      бугалтерский  "
      ]
     },
     "execution_count": 26,
     "metadata": {},
     "output_type": "execute_result"
    }
   ],
   "source": [
    "accents_dataset[accents_dataset['num_non_russian'] > 0].head()"
   ]
  },
  {
   "cell_type": "markdown",
   "id": "e30a4cc8",
   "metadata": {
    "papermill": {
     "duration": 0.026672,
     "end_time": "2024-11-09T00:37:45.243047",
     "exception": false,
     "start_time": "2024-11-09T00:37:45.216375",
     "status": "completed"
    },
    "tags": []
   },
   "source": [
    "#### Уберем, где нет ударений все-таки:"
   ]
  },
  {
   "cell_type": "code",
   "execution_count": 27,
   "id": "5de3112c",
   "metadata": {
    "execution": {
     "iopub.execute_input": "2024-11-09T00:37:45.298581Z",
     "iopub.status.busy": "2024-11-09T00:37:45.298201Z",
     "iopub.status.idle": "2024-11-09T00:37:45.508100Z",
     "shell.execute_reply": "2024-11-09T00:37:45.507287Z"
    },
    "papermill": {
     "duration": 0.240448,
     "end_time": "2024-11-09T00:37:45.510395",
     "exception": false,
     "start_time": "2024-11-09T00:37:45.269947",
     "status": "completed"
    },
    "tags": []
   },
   "outputs": [],
   "source": [
    "accents_dataset = accents_dataset[accents_dataset['hat_num'] > 0]"
   ]
  },
  {
   "cell_type": "markdown",
   "id": "eab989da",
   "metadata": {
    "papermill": {
     "duration": 0.026477,
     "end_time": "2024-11-09T00:37:45.564144",
     "exception": false,
     "start_time": "2024-11-09T00:37:45.537667",
     "status": "completed"
    },
    "tags": []
   },
   "source": [
    "#### Итоговый датасет после некоторых преобразований:"
   ]
  },
  {
   "cell_type": "code",
   "execution_count": 28,
   "id": "6a36bbcb",
   "metadata": {
    "execution": {
     "iopub.execute_input": "2024-11-09T00:37:45.619659Z",
     "iopub.status.busy": "2024-11-09T00:37:45.618952Z",
     "iopub.status.idle": "2024-11-09T00:37:45.625139Z",
     "shell.execute_reply": "2024-11-09T00:37:45.624256Z"
    },
    "papermill": {
     "duration": 0.036009,
     "end_time": "2024-11-09T00:37:45.627034",
     "exception": false,
     "start_time": "2024-11-09T00:37:45.591025",
     "status": "completed"
    },
    "tags": []
   },
   "outputs": [
    {
     "data": {
      "text/plain": [
       "(1671254, 11)"
      ]
     },
     "execution_count": 28,
     "metadata": {},
     "output_type": "execute_result"
    }
   ],
   "source": [
    "accents_dataset.shape"
   ]
  },
  {
   "cell_type": "code",
   "execution_count": 29,
   "id": "4e3b0be2",
   "metadata": {
    "execution": {
     "iopub.execute_input": "2024-11-09T00:37:45.681633Z",
     "iopub.status.busy": "2024-11-09T00:37:45.681287Z",
     "iopub.status.idle": "2024-11-09T00:37:45.696183Z",
     "shell.execute_reply": "2024-11-09T00:37:45.695307Z"
    },
    "papermill": {
     "duration": 0.04429,
     "end_time": "2024-11-09T00:37:45.698184",
     "exception": false,
     "start_time": "2024-11-09T00:37:45.653894",
     "status": "completed"
    },
    "tags": []
   },
   "outputs": [
    {
     "data": {
      "text/html": [
       "<div>\n",
       "<style scoped>\n",
       "    .dataframe tbody tr th:only-of-type {\n",
       "        vertical-align: middle;\n",
       "    }\n",
       "\n",
       "    .dataframe tbody tr th {\n",
       "        vertical-align: top;\n",
       "    }\n",
       "\n",
       "    .dataframe thead th {\n",
       "        text-align: right;\n",
       "    }\n",
       "</style>\n",
       "<table border=\"1\" class=\"dataframe\">\n",
       "  <thead>\n",
       "    <tr style=\"text-align: right;\">\n",
       "      <th></th>\n",
       "      <th>-де</th>\n",
       "      <th>-д^е</th>\n",
       "      <th>word_length</th>\n",
       "      <th>is_one_symbol</th>\n",
       "      <th>more_than_one_word</th>\n",
       "      <th>hat_num</th>\n",
       "      <th>has_latin</th>\n",
       "      <th>num_non_russian</th>\n",
       "      <th>error_cases</th>\n",
       "      <th>is_Ёё</th>\n",
       "      <th>words_upd</th>\n",
       "    </tr>\n",
       "  </thead>\n",
       "  <tbody>\n",
       "    <tr>\n",
       "      <th>0</th>\n",
       "      <td>-ка</td>\n",
       "      <td>-к^а</td>\n",
       "      <td>3</td>\n",
       "      <td>0</td>\n",
       "      <td>0</td>\n",
       "      <td>1</td>\n",
       "      <td>0</td>\n",
       "      <td>0</td>\n",
       "      <td>0</td>\n",
       "      <td>0</td>\n",
       "      <td>-ка</td>\n",
       "    </tr>\n",
       "    <tr>\n",
       "      <th>1</th>\n",
       "      <td>-либо</td>\n",
       "      <td>-л^ибо</td>\n",
       "      <td>5</td>\n",
       "      <td>0</td>\n",
       "      <td>0</td>\n",
       "      <td>1</td>\n",
       "      <td>0</td>\n",
       "      <td>0</td>\n",
       "      <td>0</td>\n",
       "      <td>0</td>\n",
       "      <td>-либо</td>\n",
       "    </tr>\n",
       "    <tr>\n",
       "      <th>2</th>\n",
       "      <td>-нибудь</td>\n",
       "      <td>-ниб^удь</td>\n",
       "      <td>7</td>\n",
       "      <td>0</td>\n",
       "      <td>0</td>\n",
       "      <td>1</td>\n",
       "      <td>0</td>\n",
       "      <td>0</td>\n",
       "      <td>0</td>\n",
       "      <td>0</td>\n",
       "      <td>-нибудь</td>\n",
       "    </tr>\n",
       "    <tr>\n",
       "      <th>4</th>\n",
       "      <td>-таки</td>\n",
       "      <td>-так^и</td>\n",
       "      <td>5</td>\n",
       "      <td>0</td>\n",
       "      <td>0</td>\n",
       "      <td>1</td>\n",
       "      <td>0</td>\n",
       "      <td>0</td>\n",
       "      <td>0</td>\n",
       "      <td>0</td>\n",
       "      <td>-таки</td>\n",
       "    </tr>\n",
       "    <tr>\n",
       "      <th>5</th>\n",
       "      <td>-то</td>\n",
       "      <td>-т^о</td>\n",
       "      <td>3</td>\n",
       "      <td>0</td>\n",
       "      <td>0</td>\n",
       "      <td>1</td>\n",
       "      <td>0</td>\n",
       "      <td>0</td>\n",
       "      <td>0</td>\n",
       "      <td>0</td>\n",
       "      <td>-то</td>\n",
       "    </tr>\n",
       "    <tr>\n",
       "      <th>6</th>\n",
       "      <td>­вычеркнуть</td>\n",
       "      <td>­в^ычеркнуть</td>\n",
       "      <td>11</td>\n",
       "      <td>0</td>\n",
       "      <td>0</td>\n",
       "      <td>1</td>\n",
       "      <td>0</td>\n",
       "      <td>0</td>\n",
       "      <td>0</td>\n",
       "      <td>0</td>\n",
       "      <td>­вычеркнуть</td>\n",
       "    </tr>\n",
       "    <tr>\n",
       "      <th>7</th>\n",
       "      <td>а</td>\n",
       "      <td>^а</td>\n",
       "      <td>1</td>\n",
       "      <td>1</td>\n",
       "      <td>0</td>\n",
       "      <td>1</td>\n",
       "      <td>0</td>\n",
       "      <td>0</td>\n",
       "      <td>0</td>\n",
       "      <td>0</td>\n",
       "      <td>а</td>\n",
       "    </tr>\n",
       "    <tr>\n",
       "      <th>8</th>\n",
       "      <td>а-конто</td>\n",
       "      <td>а-к^онто</td>\n",
       "      <td>7</td>\n",
       "      <td>0</td>\n",
       "      <td>0</td>\n",
       "      <td>1</td>\n",
       "      <td>0</td>\n",
       "      <td>0</td>\n",
       "      <td>0</td>\n",
       "      <td>0</td>\n",
       "      <td>а-конто</td>\n",
       "    </tr>\n",
       "    <tr>\n",
       "      <th>9</th>\n",
       "      <td>а-ля</td>\n",
       "      <td>а-л^я</td>\n",
       "      <td>4</td>\n",
       "      <td>0</td>\n",
       "      <td>0</td>\n",
       "      <td>1</td>\n",
       "      <td>0</td>\n",
       "      <td>0</td>\n",
       "      <td>0</td>\n",
       "      <td>0</td>\n",
       "      <td>а-ля</td>\n",
       "    </tr>\n",
       "    <tr>\n",
       "      <th>10</th>\n",
       "      <td>а-мольный</td>\n",
       "      <td>а-м^ольный</td>\n",
       "      <td>9</td>\n",
       "      <td>0</td>\n",
       "      <td>0</td>\n",
       "      <td>1</td>\n",
       "      <td>0</td>\n",
       "      <td>0</td>\n",
       "      <td>0</td>\n",
       "      <td>0</td>\n",
       "      <td>а-мольный</td>\n",
       "    </tr>\n",
       "  </tbody>\n",
       "</table>\n",
       "</div>"
      ],
      "text/plain": [
       "            -де          -д^е  word_length  is_one_symbol  more_than_one_word  \\\n",
       "0           -ка          -к^а            3              0                   0   \n",
       "1         -либо        -л^ибо            5              0                   0   \n",
       "2       -нибудь      -ниб^удь            7              0                   0   \n",
       "4         -таки        -так^и            5              0                   0   \n",
       "5           -то          -т^о            3              0                   0   \n",
       "6   ­вычеркнуть  ­в^ычеркнуть           11              0                   0   \n",
       "7             а            ^а            1              1                   0   \n",
       "8       а-конто      а-к^онто            7              0                   0   \n",
       "9          а-ля         а-л^я            4              0                   0   \n",
       "10    а-мольный    а-м^ольный            9              0                   0   \n",
       "\n",
       "    hat_num  has_latin  num_non_russian  error_cases  is_Ёё    words_upd  \n",
       "0         1          0                0            0      0          -ка  \n",
       "1         1          0                0            0      0        -либо  \n",
       "2         1          0                0            0      0      -нибудь  \n",
       "4         1          0                0            0      0        -таки  \n",
       "5         1          0                0            0      0          -то  \n",
       "6         1          0                0            0      0  ­вычеркнуть  \n",
       "7         1          0                0            0      0            а  \n",
       "8         1          0                0            0      0      а-конто  \n",
       "9         1          0                0            0      0         а-ля  \n",
       "10        1          0                0            0      0    а-мольный  "
      ]
     },
     "execution_count": 29,
     "metadata": {},
     "output_type": "execute_result"
    }
   ],
   "source": [
    "accents_dataset.head(10)"
   ]
  },
  {
   "cell_type": "markdown",
   "id": "30bcbbc8",
   "metadata": {
    "papermill": {
     "duration": 0.026684,
     "end_time": "2024-11-09T00:37:45.752519",
     "exception": false,
     "start_time": "2024-11-09T00:37:45.725835",
     "status": "completed"
    },
    "tags": []
   },
   "source": [
    "#### Теперь нужно подготовить данные для обучения."
   ]
  },
  {
   "cell_type": "markdown",
   "id": "7ecf1809",
   "metadata": {
    "papermill": {
     "duration": 0.026926,
     "end_time": "2024-11-09T00:37:45.806265",
     "exception": false,
     "start_time": "2024-11-09T00:37:45.779339",
     "status": "completed"
    },
    "tags": []
   },
   "source": [
    "Предполагается, что есть смысл разделить слово на токены, причём каждая буква будет являться токеном. Далее можно присвоить каждому токену метку 1 или 0 в зависимости от того, является ли данный токен ударным или нет и выйти на своего рода задачу бинарной классификации для каждого токена.\n",
    "\n",
    "UPD: позднее от данной идеи было решено отказаться в пользу классификации ударной позиции в слове. Посколько метка 1 одна, а меток 0 (безударная) может быть немало, модель может начать минимизировать лосс с приоритетом по безударным позициям, что не есть хорошо.\n",
    "\n",
    "Однако посчитано и посчитано, перейти к задаче классификации не составит особого труда!"
   ]
  },
  {
   "cell_type": "code",
   "execution_count": null,
   "id": "103fe730",
   "metadata": {
    "execution": {
     "iopub.execute_input": "2024-11-09T00:37:45.861549Z",
     "iopub.status.busy": "2024-11-09T00:37:45.861222Z",
     "iopub.status.idle": "2024-11-09T00:37:52.833608Z",
     "shell.execute_reply": "2024-11-09T00:37:52.832413Z"
    },
    "papermill": {
     "duration": 7.002547,
     "end_time": "2024-11-09T00:37:52.835724",
     "exception": false,
     "start_time": "2024-11-09T00:37:45.833177",
     "status": "completed"
    },
    "tags": []
   },
   "outputs": [
    {
     "data": {
      "application/vnd.jupyter.widget-view+json": {
       "model_id": "fb271e560dda4b89a3a315eb09029d13",
       "version_major": 2,
       "version_minor": 0
      },
      "text/plain": [
       "0it [00:00, ?it/s]"
      ]
     },
     "metadata": {},
     "output_type": "display_data"
    }
   ],
   "source": [
    "def get_marked_dict(dataset = accents_dataset,\n",
    "               input_column = 'words_upd',\n",
    "               predict_column = '-д^е'):\n",
    "    '''\n",
    "\tФункция, реализующая логику выделения ударного токена в слове\n",
    "    \n",
    "    Параметры:\n",
    "    -dataset: выделенный датасет (default: accents_dataset)\n",
    "    -input_column: колонка датасета, которую будем обрабатывать (default: 'words_upd')\n",
    "    -predict_column: колонка датасета, где будем искать ударение (default: '-д^е')\n",
    "    '''\n",
    "    words = dataset[input_column].values\n",
    "    words_accents = dataset[predict_column].values\n",
    "    inputs = [word for word in words]\n",
    "    labels = []\n",
    "    \n",
    "    for word, accents in tqdm(zip(words, words_accents)):\n",
    "        label = [0] * (len(word) + 2)\n",
    "        for i, char in enumerate(accents):\n",
    "            if char == '^':\n",
    "                label[i+1] = 1\n",
    "                \n",
    "        labels.append(label)\n",
    "    return {\"input_words\" : inputs,\n",
    "           \"labels\" : labels}\n",
    "        \n",
    "words_labels = get_marked_dict()"
   ]
  },
  {
   "cell_type": "code",
   "execution_count": null,
   "id": "e86cf1f3",
   "metadata": {
    "execution": {
     "iopub.execute_input": "2024-11-09T00:37:52.894321Z",
     "iopub.status.busy": "2024-11-09T00:37:52.893939Z",
     "iopub.status.idle": "2024-11-09T00:37:52.899737Z",
     "shell.execute_reply": "2024-11-09T00:37:52.898737Z"
    },
    "papermill": {
     "duration": 0.036954,
     "end_time": "2024-11-09T00:37:52.901778",
     "exception": false,
     "start_time": "2024-11-09T00:37:52.864824",
     "status": "completed"
    },
    "tags": []
   },
   "outputs": [
    {
     "name": "stdout",
     "output_type": "stream",
     "text": [
      "абердинского [0, 0, 0, 0, 0, 0, 1, 0, 0, 0, 0, 0, 0, 0]\n"
     ]
    }
   ],
   "source": [
    "def get_example(dict = words_labels,\n",
    "                idx = 0):\n",
    "    '''Получаем экземпляр после обработки'''\n",
    "    print(words_labels['input_words'][idx], words_labels['labels'][idx])\n",
    "    \n",
    "get_example(idx = 1001)"
   ]
  },
  {
   "cell_type": "code",
   "execution_count": null,
   "id": "efeacd06",
   "metadata": {},
   "outputs": [],
   "source": [
    "def convert_to_tokens(example):\n",
    "    '''Конвертер экземпляра в токен'''\n",
    "    result = tokenizer.convert_ids_to_tokens(example)\n",
    "    return result"
   ]
  },
  {
   "cell_type": "markdown",
   "id": "c2877655",
   "metadata": {
    "papermill": {
     "duration": 0.028683,
     "end_time": "2024-11-09T00:37:52.959924",
     "exception": false,
     "start_time": "2024-11-09T00:37:52.931241",
     "status": "completed"
    },
    "tags": []
   },
   "source": [
    "Вроде как размечено корректно. Создаем torch.utils.data.Dataset из словаря:"
   ]
  },
  {
   "cell_type": "code",
   "execution_count": null,
   "id": "4bbb024b",
   "metadata": {
    "execution": {
     "iopub.execute_input": "2024-11-09T00:37:53.018029Z",
     "iopub.status.busy": "2024-11-09T00:37:53.017643Z",
     "iopub.status.idle": "2024-11-09T00:37:53.028719Z",
     "shell.execute_reply": "2024-11-09T00:37:53.027759Z"
    },
    "papermill": {
     "duration": 0.042414,
     "end_time": "2024-11-09T00:37:53.030740",
     "exception": false,
     "start_time": "2024-11-09T00:37:52.988326",
     "status": "completed"
    },
    "tags": []
   },
   "outputs": [],
   "source": [
    "class AccentDataset(Dataset):\n",
    "    def __init__(self, words_labels = words_labels,\n",
    "                 tokenizer = tokenizer,\n",
    "                 max_len = 22):\n",
    "        '''\n",
    "        Конструктор датасета ударений, который мы и будем подавать в сеть\n",
    "        \n",
    "        Параметры:\n",
    "        -self\n",
    "        -words_labels: метки для ударности позиций (default: words_labels, полученные раннее)\n",
    "        -tokenizer: токенизатор (default: tokenizer из репозитория)\n",
    "        -max_len: ограничиваем максимальную длину слова (default: 22)\n",
    "        '''\n",
    "        self.data = words_labels\n",
    "        self.tokenizer = tokenizer\n",
    "        self.max_model_length = max_len\n",
    "        \n",
    "    def __len__(self):\n",
    "        return len(self.data['input_words'])\n",
    "    \n",
    "    def __getitem__(self, idx, idx_to_token = False):\n",
    "        input_word, accent_labels = self.data['input_words'][idx], self.data['labels'][idx]\n",
    "        \n",
    "        encoding = self.tokenizer.encode_plus(\n",
    "            input_word,\n",
    "            add_special_tokens=True,\n",
    "            max_length=self.max_model_length,\n",
    "            padding='max_length',\n",
    "            truncation=True,\n",
    "            return_attention_mask=True,\n",
    "            return_tensors='pt',\n",
    "        )\n",
    "        \n",
    "        input_ids = encoding['input_ids'].flatten()\n",
    "        attention_mask = encoding['attention_mask'].flatten()\n",
    "\n",
    "        labels = torch.tensor(accent_labels, dtype=torch.long)\n",
    "        padding_length = self.max_model_length - labels.size(0)\n",
    "        idx = np.where(labels == 1)[0]\n",
    "        if len(idx) == 0:\n",
    "            print(input_ids)\n",
    "            print(labels)\n",
    "            print(convert_to_tokens(input_ids.tolist()))\n",
    "\n",
    "        if idx_to_token == True:\n",
    "            return {\n",
    "                'input_ids': self.tokenizer.convert_ids_to_tokens(input_ids),\n",
    "                'attention_mask': attention_mask,\n",
    "                'labels': idx\n",
    "                }\n",
    "        return {\n",
    "                'input_ids': input_ids,\n",
    "                'attention_mask': attention_mask,\n",
    "                'labels': idx\n",
    "                }\n",
    "    \n",
    "    \n",
    "words_labels_dataset = AccentDataset()"
   ]
  },
  {
   "cell_type": "markdown",
   "id": "ec9a88b8",
   "metadata": {
    "papermill": {
     "duration": 0.027336,
     "end_time": "2024-11-09T00:37:53.086197",
     "exception": false,
     "start_time": "2024-11-09T00:37:53.058861",
     "status": "completed"
    },
    "tags": []
   },
   "source": [
    "#### Check:"
   ]
  },
  {
   "cell_type": "code",
   "execution_count": 33,
   "id": "7773d70c",
   "metadata": {
    "execution": {
     "iopub.execute_input": "2024-11-09T00:37:53.144081Z",
     "iopub.status.busy": "2024-11-09T00:37:53.142905Z",
     "iopub.status.idle": "2024-11-09T00:37:53.187268Z",
     "shell.execute_reply": "2024-11-09T00:37:53.186223Z"
    },
    "papermill": {
     "duration": 0.075509,
     "end_time": "2024-11-09T00:37:53.189337",
     "exception": false,
     "start_time": "2024-11-09T00:37:53.113828",
     "status": "completed"
    },
    "tags": []
   },
   "outputs": [
    {
     "data": {
      "text/plain": [
       "array([5])"
      ]
     },
     "execution_count": 33,
     "metadata": {},
     "output_type": "execute_result"
    }
   ],
   "source": [
    "words_labels_dataset[168]['labels']"
   ]
  },
  {
   "cell_type": "code",
   "execution_count": 34,
   "id": "329bf999",
   "metadata": {
    "execution": {
     "iopub.execute_input": "2024-11-09T00:37:53.247569Z",
     "iopub.status.busy": "2024-11-09T00:37:53.246886Z",
     "iopub.status.idle": "2024-11-09T00:37:53.253523Z",
     "shell.execute_reply": "2024-11-09T00:37:53.252455Z"
    },
    "papermill": {
     "duration": 0.038153,
     "end_time": "2024-11-09T00:37:53.255531",
     "exception": false,
     "start_time": "2024-11-09T00:37:53.217378",
     "status": "completed"
    },
    "tags": []
   },
   "outputs": [
    {
     "data": {
      "text/plain": [
       "1671254"
      ]
     },
     "execution_count": 34,
     "metadata": {},
     "output_type": "execute_result"
    }
   ],
   "source": [
    "len(words_labels_dataset)"
   ]
  },
  {
   "cell_type": "code",
   "execution_count": 35,
   "id": "01410d5f",
   "metadata": {
    "execution": {
     "iopub.execute_input": "2024-11-09T00:37:53.313284Z",
     "iopub.status.busy": "2024-11-09T00:37:53.312923Z",
     "iopub.status.idle": "2024-11-09T00:37:53.330863Z",
     "shell.execute_reply": "2024-11-09T00:37:53.329845Z"
    },
    "papermill": {
     "duration": 0.049291,
     "end_time": "2024-11-09T00:37:53.332991",
     "exception": false,
     "start_time": "2024-11-09T00:37:53.283700",
     "status": "completed"
    },
    "tags": []
   },
   "outputs": [
    {
     "data": {
      "text/plain": [
       "{'input_ids': tensor([ 0,  8, 10, 18, 42, 16, 26, 36, 44, 30, 38, 14, 38,  1,  4,  4,  4,  4,\n",
       "          4,  4,  4,  4]),\n",
       " 'attention_mask': tensor([1, 1, 1, 1, 1, 1, 1, 1, 1, 1, 1, 1, 1, 1, 0, 0, 0, 0, 0, 0, 0, 0]),\n",
       " 'labels': array([6])}"
      ]
     },
     "execution_count": 35,
     "metadata": {},
     "output_type": "execute_result"
    }
   ],
   "source": [
    "words_labels_dataset[1001]"
   ]
  },
  {
   "cell_type": "code",
   "execution_count": 36,
   "id": "bf0d3f28",
   "metadata": {
    "execution": {
     "iopub.execute_input": "2024-11-09T00:37:53.391835Z",
     "iopub.status.busy": "2024-11-09T00:37:53.390928Z",
     "iopub.status.idle": "2024-11-09T00:37:53.400095Z",
     "shell.execute_reply": "2024-11-09T00:37:53.399222Z"
    },
    "papermill": {
     "duration": 0.041076,
     "end_time": "2024-11-09T00:37:53.402053",
     "exception": false,
     "start_time": "2024-11-09T00:37:53.360977",
     "status": "completed"
    },
    "tags": []
   },
   "outputs": [
    {
     "data": {
      "text/plain": [
       "{'input_ids': ['[CLS]',\n",
       "  '-',\n",
       "  'к',\n",
       "  'а',\n",
       "  '[SEP]',\n",
       "  '[PAD]',\n",
       "  '[PAD]',\n",
       "  '[PAD]',\n",
       "  '[PAD]',\n",
       "  '[PAD]',\n",
       "  '[PAD]',\n",
       "  '[PAD]',\n",
       "  '[PAD]',\n",
       "  '[PAD]',\n",
       "  '[PAD]',\n",
       "  '[PAD]',\n",
       "  '[PAD]',\n",
       "  '[PAD]',\n",
       "  '[PAD]',\n",
       "  '[PAD]',\n",
       "  '[PAD]',\n",
       "  '[PAD]'],\n",
       " 'attention_mask': tensor([1, 1, 1, 1, 1, 0, 0, 0, 0, 0, 0, 0, 0, 0, 0, 0, 0, 0, 0, 0, 0, 0]),\n",
       " 'labels': array([3])}"
      ]
     },
     "execution_count": 36,
     "metadata": {},
     "output_type": "execute_result"
    }
   ],
   "source": [
    "words_labels_dataset.__getitem__(0, idx_to_token = True)"
   ]
  },
  {
   "cell_type": "markdown",
   "id": "5a3f0cb7",
   "metadata": {
    "papermill": {
     "duration": 0.028257,
     "end_time": "2024-11-09T00:37:53.459122",
     "exception": false,
     "start_time": "2024-11-09T00:37:53.430865",
     "status": "completed"
    },
    "tags": []
   },
   "source": [
    "Всё корректно. Теперь нужно написать функцию получения датасетов для train и для test."
   ]
  },
  {
   "cell_type": "code",
   "execution_count": null,
   "id": "8391ecd8",
   "metadata": {
    "execution": {
     "iopub.execute_input": "2024-11-09T00:37:53.521057Z",
     "iopub.status.busy": "2024-11-09T00:37:53.520667Z",
     "iopub.status.idle": "2024-11-09T00:37:53.686719Z",
     "shell.execute_reply": "2024-11-09T00:37:53.685763Z"
    },
    "papermill": {
     "duration": 0.201279,
     "end_time": "2024-11-09T00:37:53.689254",
     "exception": false,
     "start_time": "2024-11-09T00:37:53.487975",
     "status": "completed"
    },
    "tags": []
   },
   "outputs": [],
   "source": [
    "def get_datasets(dataset_cls = AccentDataset,\n",
    "               max_len = 22, # 99+% слов ниже этой длины по символам\n",
    "               data = words_labels,\n",
    "               tokenizer = tokenizer,\n",
    "               train_size = 0.5):\n",
    "    '''\n",
    "    Функция get_datasets() возвращает train и test датасеты на основе конструктора AccentDataset, делая train_test_spilt\n",
    "    \n",
    "    Параметры функции:\n",
    "    -dataset_cls: класс датасета, который мы будем передвавать в функцию и чей конструктор мы будем вызывать (default: AccentDataset)\n",
    "    -max_ken: максимальная длина последовательности токенов (решил взять 22, так как это 95% квантиль распределения слов по длинам)\n",
    "    -data: данные (default: words_labels)\n",
    "    -tokenizer: токенизатор (default: tokenizer)\n",
    "    -train_size: размер train выборки для сплита (default: 0.5 из задания)\n",
    "    '''\n",
    "    \n",
    "\t# Вызов конструктора датасета\n",
    "    dataset = dataset_cls(words_labels = data,\n",
    "                 tokenizer = tokenizer,\n",
    "                 max_len = max_len)\n",
    "    \n",
    "\t# Устанавливаем размеры\n",
    "    train_size = int(train_size * len(dataset))\n",
    "    test_size = len(dataset) - train_size\n",
    "    train_dataset, test_dataset = random_split(dataset, [train_size, test_size])\n",
    "    \n",
    "\t# Возвращаем датасеты train + test\n",
    "    return train_dataset, test_dataset\n",
    "\n",
    "train_dataset_, test_dataset = get_datasets()\n",
    "    "
   ]
  },
  {
   "cell_type": "markdown",
   "id": "fd4549e1",
   "metadata": {
    "papermill": {
     "duration": 0.029739,
     "end_time": "2024-11-09T00:37:53.754042",
     "exception": false,
     "start_time": "2024-11-09T00:37:53.724303",
     "status": "completed"
    },
    "tags": []
   },
   "source": [
    "#### Check:"
   ]
  },
  {
   "cell_type": "code",
   "execution_count": 39,
   "id": "f740346f",
   "metadata": {
    "execution": {
     "iopub.execute_input": "2024-11-09T00:37:53.875258Z",
     "iopub.status.busy": "2024-11-09T00:37:53.874946Z",
     "iopub.status.idle": "2024-11-09T00:37:53.880808Z",
     "shell.execute_reply": "2024-11-09T00:37:53.879936Z"
    },
    "papermill": {
     "duration": 0.036922,
     "end_time": "2024-11-09T00:37:53.882753",
     "exception": false,
     "start_time": "2024-11-09T00:37:53.845831",
     "status": "completed"
    },
    "tags": []
   },
   "outputs": [
    {
     "data": {
      "text/plain": [
       "(835627, 835627)"
      ]
     },
     "execution_count": 39,
     "metadata": {},
     "output_type": "execute_result"
    }
   ],
   "source": [
    "len(train_dataset_), len(test_dataset)"
   ]
  },
  {
   "cell_type": "markdown",
   "id": "e43e4f5e",
   "metadata": {
    "papermill": {
     "duration": 0.029081,
     "end_time": "2024-11-09T00:37:53.939644",
     "exception": false,
     "start_time": "2024-11-09T00:37:53.910563",
     "status": "completed"
    },
    "tags": []
   },
   "source": [
    "#### Проверим тренировочный сэмпл:"
   ]
  },
  {
   "cell_type": "code",
   "execution_count": 40,
   "id": "c744dd10",
   "metadata": {
    "execution": {
     "iopub.execute_input": "2024-11-09T00:37:53.997395Z",
     "iopub.status.busy": "2024-11-09T00:37:53.996711Z",
     "iopub.status.idle": "2024-11-09T00:37:54.004108Z",
     "shell.execute_reply": "2024-11-09T00:37:54.003192Z"
    },
    "papermill": {
     "duration": 0.038349,
     "end_time": "2024-11-09T00:37:54.005949",
     "exception": false,
     "start_time": "2024-11-09T00:37:53.967600",
     "status": "completed"
    },
    "tags": []
   },
   "outputs": [
    {
     "data": {
      "text/plain": [
       "{'input_ids': tensor([ 0, 24,  8, 40,  8, 52,  8, 36, 36, 48, 70,  1,  4,  4,  4,  4,  4,  4,\n",
       "          4,  4,  4,  4]),\n",
       " 'attention_mask': tensor([1, 1, 1, 1, 1, 1, 1, 1, 1, 1, 1, 1, 0, 0, 0, 0, 0, 0, 0, 0, 0, 0]),\n",
       " 'labels': array([4])}"
      ]
     },
     "execution_count": 40,
     "metadata": {},
     "output_type": "execute_result"
    }
   ],
   "source": [
    "train_dataset_[2]"
   ]
  },
  {
   "cell_type": "code",
   "execution_count": 41,
   "id": "043d24df",
   "metadata": {
    "execution": {
     "iopub.execute_input": "2024-11-09T00:37:54.064307Z",
     "iopub.status.busy": "2024-11-09T00:37:54.063682Z",
     "iopub.status.idle": "2024-11-09T00:37:54.069301Z",
     "shell.execute_reply": "2024-11-09T00:37:54.068209Z"
    },
    "papermill": {
     "duration": 0.036507,
     "end_time": "2024-11-09T00:37:54.071184",
     "exception": false,
     "start_time": "2024-11-09T00:37:54.034677",
     "status": "completed"
    },
    "tags": []
   },
   "outputs": [
    {
     "name": "stdout",
     "output_type": "stream",
     "text": [
      "['[CLS]', 'з', 'а', 'п', 'а', 'х', 'а', 'н', 'н', 'у', 'ю', '[SEP]', '[PAD]', '[PAD]', '[PAD]', '[PAD]', '[PAD]', '[PAD]', '[PAD]', '[PAD]', '[PAD]', '[PAD]']\n"
     ]
    }
   ],
   "source": [
    "print(convert_to_tokens(train_dataset_[2]['input_ids'].tolist()))"
   ]
  },
  {
   "cell_type": "code",
   "execution_count": 42,
   "id": "14b2837a",
   "metadata": {
    "execution": {
     "iopub.execute_input": "2024-11-09T00:37:54.129932Z",
     "iopub.status.busy": "2024-11-09T00:37:54.129643Z",
     "iopub.status.idle": "2024-11-09T00:37:54.136187Z",
     "shell.execute_reply": "2024-11-09T00:37:54.135357Z"
    },
    "papermill": {
     "duration": 0.037423,
     "end_time": "2024-11-09T00:37:54.138081",
     "exception": false,
     "start_time": "2024-11-09T00:37:54.100658",
     "status": "completed"
    },
    "tags": []
   },
   "outputs": [
    {
     "data": {
      "text/plain": [
       "array([4])"
      ]
     },
     "execution_count": 42,
     "metadata": {},
     "output_type": "execute_result"
    }
   ],
   "source": [
    "train_dataset_[2]['labels']"
   ]
  },
  {
   "cell_type": "markdown",
   "id": "a357f3f5",
   "metadata": {
    "papermill": {
     "duration": 0.028526,
     "end_time": "2024-11-09T00:37:54.194822",
     "exception": false,
     "start_time": "2024-11-09T00:37:54.166296",
     "status": "completed"
    },
    "tags": []
   },
   "source": [
    "#### Тестовый сэмпл:"
   ]
  },
  {
   "cell_type": "code",
   "execution_count": 43,
   "id": "8d8e98ab",
   "metadata": {
    "execution": {
     "iopub.execute_input": "2024-11-09T00:37:54.252170Z",
     "iopub.status.busy": "2024-11-09T00:37:54.251830Z",
     "iopub.status.idle": "2024-11-09T00:37:54.259138Z",
     "shell.execute_reply": "2024-11-09T00:37:54.258265Z"
    },
    "papermill": {
     "duration": 0.038203,
     "end_time": "2024-11-09T00:37:54.261130",
     "exception": false,
     "start_time": "2024-11-09T00:37:54.222927",
     "status": "completed"
    },
    "tags": []
   },
   "outputs": [
    {
     "data": {
      "text/plain": [
       "{'input_ids': tensor([ 0, 48, 54, 18, 40, 32, 72, 70, 46,  1,  4,  4,  4,  4,  4,  4,  4,  4,\n",
       "          4,  4,  4,  4]),\n",
       " 'attention_mask': tensor([1, 1, 1, 1, 1, 1, 1, 1, 1, 1, 0, 0, 0, 0, 0, 0, 0, 0, 0, 0, 0, 0]),\n",
       " 'labels': array([6])}"
      ]
     },
     "execution_count": 43,
     "metadata": {},
     "output_type": "execute_result"
    }
   ],
   "source": [
    "test_dataset[2]"
   ]
  },
  {
   "cell_type": "code",
   "execution_count": 44,
   "id": "e5dcb89f",
   "metadata": {
    "execution": {
     "iopub.execute_input": "2024-11-09T00:37:54.319060Z",
     "iopub.status.busy": "2024-11-09T00:37:54.318774Z",
     "iopub.status.idle": "2024-11-09T00:37:54.324768Z",
     "shell.execute_reply": "2024-11-09T00:37:54.323591Z"
    },
    "papermill": {
     "duration": 0.037373,
     "end_time": "2024-11-09T00:37:54.326935",
     "exception": false,
     "start_time": "2024-11-09T00:37:54.289562",
     "status": "completed"
    },
    "tags": []
   },
   "outputs": [
    {
     "name": "stdout",
     "output_type": "stream",
     "text": [
      "['[CLS]', 'у', 'ц', 'е', 'п', 'л', 'я', 'ю', 'т', '[SEP]', '[PAD]', '[PAD]', '[PAD]', '[PAD]', '[PAD]', '[PAD]', '[PAD]', '[PAD]', '[PAD]', '[PAD]', '[PAD]', '[PAD]']\n"
     ]
    }
   ],
   "source": [
    "print(convert_to_tokens(test_dataset[2]['input_ids'].tolist()))"
   ]
  },
  {
   "cell_type": "code",
   "execution_count": 45,
   "id": "d142ea34",
   "metadata": {
    "execution": {
     "iopub.execute_input": "2024-11-09T00:37:54.385296Z",
     "iopub.status.busy": "2024-11-09T00:37:54.384984Z",
     "iopub.status.idle": "2024-11-09T00:37:54.391567Z",
     "shell.execute_reply": "2024-11-09T00:37:54.390537Z"
    },
    "papermill": {
     "duration": 0.038017,
     "end_time": "2024-11-09T00:37:54.393688",
     "exception": false,
     "start_time": "2024-11-09T00:37:54.355671",
     "status": "completed"
    },
    "tags": []
   },
   "outputs": [
    {
     "data": {
      "text/plain": [
       "array([6])"
      ]
     },
     "execution_count": 45,
     "metadata": {},
     "output_type": "execute_result"
    }
   ],
   "source": [
    "test_dataset[2]['labels']"
   ]
  },
  {
   "cell_type": "markdown",
   "id": "a66a6962",
   "metadata": {
    "papermill": {
     "duration": 0.028494,
     "end_time": "2024-11-09T00:37:54.450680",
     "exception": false,
     "start_time": "2024-11-09T00:37:54.422186",
     "status": "completed"
    },
    "tags": []
   },
   "source": [
    "Всё работает!"
   ]
  },
  {
   "cell_type": "markdown",
   "id": "53a4e73d",
   "metadata": {
    "papermill": {
     "duration": 0.028352,
     "end_time": "2024-11-09T00:37:54.507510",
     "exception": false,
     "start_time": "2024-11-09T00:37:54.479158",
     "status": "completed"
    },
    "tags": []
   },
   "source": [
    "#### Теперь нужно сделать train_val_split:"
   ]
  },
  {
   "cell_type": "code",
   "execution_count": null,
   "id": "646d884d",
   "metadata": {
    "execution": {
     "iopub.execute_input": "2024-11-09T00:37:54.566307Z",
     "iopub.status.busy": "2024-11-09T00:37:54.565694Z",
     "iopub.status.idle": "2024-11-09T00:37:54.646345Z",
     "shell.execute_reply": "2024-11-09T00:37:54.645407Z"
    },
    "papermill": {
     "duration": 0.112717,
     "end_time": "2024-11-09T00:37:54.648694",
     "exception": false,
     "start_time": "2024-11-09T00:37:54.535977",
     "status": "completed"
    },
    "tags": []
   },
   "outputs": [],
   "source": [
    "def train_val_split(dataset = train_dataset_,\n",
    "\t\t\t\ttrain_size = 0.9):\n",
    "\t\n",
    "\t'''\n",
    "\tФункция для создания искомого тренировочного и валидационного множества\n",
    "\n",
    "\tПараметры:\n",
    "\t-dataset: тренировочный датасет, который будет разбиваться на train x val (default: train_dataset_)\n",
    "\t-train_size: размер искомового тренировочного датасета от передаваемого (default: 0.9)\n",
    "\t'''\n",
    "\t\n",
    "\t# Объявляем размеры train x val\n",
    "\ttrain_size = int(train_size * len(dataset))\n",
    "\tval_size = len(dataset) - train_size\n",
    "\t\n",
    "\t# Делаем сплит и возвращаем тренировочный и тестовый датасеты\n",
    "\ttrain_dataset, val_dataset = random_split(dataset, [train_size, val_size])\n",
    "\treturn train_dataset, val_dataset\n",
    "\n",
    "train_dataset, val_dataset = train_val_split()"
   ]
  },
  {
   "cell_type": "markdown",
   "id": "28ab1cb4",
   "metadata": {
    "papermill": {
     "duration": 0.029266,
     "end_time": "2024-11-09T00:37:54.707430",
     "exception": false,
     "start_time": "2024-11-09T00:37:54.678164",
     "status": "completed"
    },
    "tags": []
   },
   "source": [
    "#### Check:"
   ]
  },
  {
   "cell_type": "code",
   "execution_count": 47,
   "id": "7a807ef5",
   "metadata": {
    "execution": {
     "iopub.execute_input": "2024-11-09T00:37:54.770539Z",
     "iopub.status.busy": "2024-11-09T00:37:54.769749Z",
     "iopub.status.idle": "2024-11-09T00:37:54.776273Z",
     "shell.execute_reply": "2024-11-09T00:37:54.775356Z"
    },
    "papermill": {
     "duration": 0.04135,
     "end_time": "2024-11-09T00:37:54.778183",
     "exception": false,
     "start_time": "2024-11-09T00:37:54.736833",
     "status": "completed"
    },
    "tags": []
   },
   "outputs": [
    {
     "data": {
      "text/plain": [
       "(752064, 83563)"
      ]
     },
     "execution_count": 47,
     "metadata": {},
     "output_type": "execute_result"
    }
   ],
   "source": [
    "len(train_dataset), len(val_dataset)"
   ]
  },
  {
   "cell_type": "code",
   "execution_count": 48,
   "id": "d070af2f",
   "metadata": {
    "execution": {
     "iopub.execute_input": "2024-11-09T00:37:54.837863Z",
     "iopub.status.busy": "2024-11-09T00:37:54.837077Z",
     "iopub.status.idle": "2024-11-09T00:37:54.843645Z",
     "shell.execute_reply": "2024-11-09T00:37:54.842720Z"
    },
    "papermill": {
     "duration": 0.038619,
     "end_time": "2024-11-09T00:37:54.845597",
     "exception": false,
     "start_time": "2024-11-09T00:37:54.806978",
     "status": "completed"
    },
    "tags": []
   },
   "outputs": [
    {
     "data": {
      "text/plain": [
       "array([10])"
      ]
     },
     "execution_count": 48,
     "metadata": {},
     "output_type": "execute_result"
    }
   ],
   "source": [
    "train_dataset[2]['labels']"
   ]
  },
  {
   "cell_type": "code",
   "execution_count": null,
   "id": "3b71c024",
   "metadata": {
    "execution": {
     "iopub.execute_input": "2024-11-09T00:37:54.971463Z",
     "iopub.status.busy": "2024-11-09T00:37:54.971144Z",
     "iopub.status.idle": "2024-11-09T00:37:54.978138Z",
     "shell.execute_reply": "2024-11-09T00:37:54.977226Z"
    },
    "papermill": {
     "duration": 0.039064,
     "end_time": "2024-11-09T00:37:54.980145",
     "exception": false,
     "start_time": "2024-11-09T00:37:54.941081",
     "status": "completed"
    },
    "tags": []
   },
   "outputs": [],
   "source": [
    "def get_loaders(train_dataset = train_dataset,\n",
    "\t\t\tval_dataset = val_dataset,\n",
    "\t\t\ttest_dataset = test_dataset,\n",
    "\t\t\tshuffle_train = True,\n",
    "\t\t\tshuffle_val = False,\n",
    "\t\t\tshuffle_test = False,\n",
    "\t\t\tbatch_size = 128):\n",
    "\t\n",
    "\t'''\n",
    "\tФункция get_loaders() для получения train, val и test даталоадеров\n",
    "\n",
    "\tПараметры:\n",
    "\t-train_dataset: тренировочный датасет (default: train_dataset)\n",
    "\t-val_dataset: валидационный датасет (default: val_dataset)\n",
    "\t-test_dataset: тестовый датасет (default: test_dataset)\n",
    "\t-shuffle_train: флаг перемешивания для train (default: True)\n",
    "\t-shuffle_val: флаг перемешивания для val (default: False)\n",
    "\t-shuffle_test: флаг перемешивания для test (default: False)\n",
    "\t-batch_size: размер батча данных (default: 128)\n",
    "\t'''\n",
    "\t\n",
    "\t# train_dataloader\n",
    "\ttrain_dataloader = DataLoader(\n",
    "\t\t\ttrain_dataset,   \n",
    "\t\t\tbatch_size = batch_size,\n",
    "\t\t\tshuffle = shuffle_train,\n",
    "\t\t)\n",
    "\n",
    "\t# validation_dataloader\n",
    "\tvalidation_dataloader = DataLoader(\n",
    "\t\t\tval_dataset, \n",
    "\t\t\tbatch_size = batch_size,\n",
    "\t\t\tshuffle = shuffle_val,\n",
    "\t\t)\n",
    "\t\n",
    "\t# test_dataloader\n",
    "\ttest_dataloader = DataLoader(\n",
    "\t\t\ttest_dataset, \n",
    "\t\t\tbatch_size = batch_size,\n",
    "\t\t\tshuffle = shuffle_test,\n",
    "\t\t)\n",
    "\t\n",
    "\t# Возвращаем даталоадеры\n",
    "\treturn train_dataloader, validation_dataloader, test_dataloader\n",
    "\n",
    "train_dataloader, validation_dataloader, test_dataloader = get_loaders()\n"
   ]
  },
  {
   "cell_type": "markdown",
   "id": "7234795a",
   "metadata": {},
   "source": [
    "#### Check:"
   ]
  },
  {
   "cell_type": "code",
   "execution_count": 51,
   "id": "afe85781",
   "metadata": {
    "execution": {
     "iopub.execute_input": "2024-11-09T00:37:55.039364Z",
     "iopub.status.busy": "2024-11-09T00:37:55.039052Z",
     "iopub.status.idle": "2024-11-09T00:37:55.046494Z",
     "shell.execute_reply": "2024-11-09T00:37:55.045664Z"
    },
    "papermill": {
     "duration": 0.039074,
     "end_time": "2024-11-09T00:37:55.048252",
     "exception": false,
     "start_time": "2024-11-09T00:37:55.009178",
     "status": "completed"
    },
    "tags": []
   },
   "outputs": [
    {
     "data": {
      "text/plain": [
       "{'input_ids': tensor([ 0, 12, 18, 46, 18, 42, 26, 36,  8, 42, 36, 38, 34,  1,  4,  4,  4,  4,\n",
       "          4,  4,  4,  4]),\n",
       " 'attention_mask': tensor([1, 1, 1, 1, 1, 1, 1, 1, 1, 1, 1, 1, 1, 1, 0, 0, 0, 0, 0, 0, 0, 0]),\n",
       " 'labels': array([8])}"
      ]
     },
     "execution_count": 51,
     "metadata": {},
     "output_type": "execute_result"
    }
   ],
   "source": [
    "train_dataloader.dataset[0]"
   ]
  },
  {
   "cell_type": "code",
   "execution_count": 52,
   "id": "cf143f6c",
   "metadata": {
    "execution": {
     "iopub.execute_input": "2024-11-09T00:37:55.108124Z",
     "iopub.status.busy": "2024-11-09T00:37:55.107802Z",
     "iopub.status.idle": "2024-11-09T00:37:55.115103Z",
     "shell.execute_reply": "2024-11-09T00:37:55.114190Z"
    },
    "papermill": {
     "duration": 0.039723,
     "end_time": "2024-11-09T00:37:55.117044",
     "exception": false,
     "start_time": "2024-11-09T00:37:55.077321",
     "status": "completed"
    },
    "tags": []
   },
   "outputs": [
    {
     "data": {
      "text/plain": [
       "{'input_ids': tensor([ 0, 42,  8, 44, 56, 18, 44, 64, 12,  8, 18, 34, 64,  1,  4,  4,  4,  4,\n",
       "          4,  4,  4,  4]),\n",
       " 'attention_mask': tensor([1, 1, 1, 1, 1, 1, 1, 1, 1, 1, 1, 1, 1, 1, 0, 0, 0, 0, 0, 0, 0, 0]),\n",
       " 'labels': array([2])}"
      ]
     },
     "execution_count": 52,
     "metadata": {},
     "output_type": "execute_result"
    }
   ],
   "source": [
    "validation_dataloader.dataset[0]"
   ]
  },
  {
   "cell_type": "markdown",
   "id": "f0ef4760",
   "metadata": {},
   "source": [
    "#### Check итерирования:"
   ]
  },
  {
   "cell_type": "code",
   "execution_count": 53,
   "id": "856fdd84",
   "metadata": {
    "execution": {
     "iopub.execute_input": "2024-11-09T00:37:55.176413Z",
     "iopub.status.busy": "2024-11-09T00:37:55.176077Z",
     "iopub.status.idle": "2024-11-09T00:37:55.361159Z",
     "shell.execute_reply": "2024-11-09T00:37:55.360178Z"
    },
    "papermill": {
     "duration": 0.217444,
     "end_time": "2024-11-09T00:37:55.363510",
     "exception": false,
     "start_time": "2024-11-09T00:37:55.146066",
     "status": "completed"
    },
    "tags": []
   },
   "outputs": [
    {
     "data": {
      "application/vnd.jupyter.widget-view+json": {
       "model_id": "7ffbaf45f12f4e5ba51749914be45378",
       "version_major": 2,
       "version_minor": 0
      },
      "text/plain": [
       "  0%|          | 0/5876 [00:00<?, ?it/s]"
      ]
     },
     "metadata": {},
     "output_type": "display_data"
    },
    {
     "name": "stdout",
     "output_type": "stream",
     "text": [
      "tensor([ 0, 40, 42, 26, 52, 32, 18, 44, 46, 36, 18, 46, 18,  1,  4,  4,  4,  4,\n",
      "         4,  4,  4,  4])\n",
      "22\n",
      "tensor([10])\n",
      "['[CLS]', 'п', 'р', 'и', 'х', 'л', 'е', 'с', 'т', 'н', 'е', 'т', 'е', '[SEP]', '[PAD]', '[PAD]', '[PAD]', '[PAD]', '[PAD]', '[PAD]', '[PAD]', '[PAD]']\n"
     ]
    }
   ],
   "source": [
    "for i, batch in enumerate(tqdm(train_dataloader)):\n",
    "#     pass\n",
    "    print(batch['input_ids'][0])\n",
    "    print(len(batch['attention_mask'][0]))\n",
    "    print(batch['labels'][0])\n",
    "    print(convert_to_tokens(batch['input_ids'][0].tolist()))\n",
    "    if i == 0:\n",
    "        break"
   ]
  },
  {
   "cell_type": "markdown",
   "id": "6123b833",
   "metadata": {
    "papermill": {
     "duration": 0.02945,
     "end_time": "2024-11-09T00:37:55.425561",
     "exception": false,
     "start_time": "2024-11-09T00:37:55.396111",
     "status": "completed"
    },
    "tags": []
   },
   "source": [
    "#### Готовимся обучать..."
   ]
  },
  {
   "cell_type": "code",
   "execution_count": null,
   "id": "a84af14b",
   "metadata": {
    "execution": {
     "iopub.execute_input": "2024-11-09T00:37:55.486569Z",
     "iopub.status.busy": "2024-11-09T00:37:55.486153Z",
     "iopub.status.idle": "2024-11-09T00:38:00.876458Z",
     "shell.execute_reply": "2024-11-09T00:38:00.875451Z"
    },
    "papermill": {
     "duration": 5.423427,
     "end_time": "2024-11-09T00:38:00.878468",
     "exception": false,
     "start_time": "2024-11-09T00:37:55.455041",
     "status": "completed"
    },
    "tags": []
   },
   "outputs": [
    {
     "data": {
      "application/vnd.jupyter.widget-view+json": {
       "model_id": "3925cf758a3a4d3bb43fd2fd393bec8d",
       "version_major": 2,
       "version_minor": 0
      },
      "text/plain": [
       "config.json:   0%|          | 0.00/642 [00:00<?, ?B/s]"
      ]
     },
     "metadata": {},
     "output_type": "display_data"
    },
    {
     "data": {
      "application/vnd.jupyter.widget-view+json": {
       "model_id": "9f2f06d30aff4058bb4e4f3ce8219bab",
       "version_major": 2,
       "version_minor": 0
      },
      "text/plain": [
       "pytorch_model.bin:   0%|          | 0.00/714M [00:00<?, ?B/s]"
      ]
     },
     "metadata": {},
     "output_type": "display_data"
    },
    {
     "name": "stderr",
     "output_type": "stream",
     "text": [
      "Some weights of BertForSequenceClassification were not initialized from the model checkpoint at DeepPavlov/rubert-base-cased and are newly initialized: ['classifier.bias', 'classifier.weight']\n",
      "You should probably TRAIN this model on a down-stream task to be able to use it for predictions and inference.\n"
     ]
    },
    {
     "data": {
      "text/plain": [
       "BertForSequenceClassification(\n",
       "  (bert): BertModel(\n",
       "    (embeddings): BertEmbeddings(\n",
       "      (word_embeddings): Embedding(119547, 768, padding_idx=0)\n",
       "      (position_embeddings): Embedding(512, 768)\n",
       "      (token_type_embeddings): Embedding(2, 768)\n",
       "      (LayerNorm): LayerNorm((768,), eps=1e-12, elementwise_affine=True)\n",
       "      (dropout): Dropout(p=0.1, inplace=False)\n",
       "    )\n",
       "    (encoder): BertEncoder(\n",
       "      (layer): ModuleList(\n",
       "        (0-11): 12 x BertLayer(\n",
       "          (attention): BertAttention(\n",
       "            (self): BertSdpaSelfAttention(\n",
       "              (query): Linear(in_features=768, out_features=768, bias=True)\n",
       "              (key): Linear(in_features=768, out_features=768, bias=True)\n",
       "              (value): Linear(in_features=768, out_features=768, bias=True)\n",
       "              (dropout): Dropout(p=0.1, inplace=False)\n",
       "            )\n",
       "            (output): BertSelfOutput(\n",
       "              (dense): Linear(in_features=768, out_features=768, bias=True)\n",
       "              (LayerNorm): LayerNorm((768,), eps=1e-12, elementwise_affine=True)\n",
       "              (dropout): Dropout(p=0.1, inplace=False)\n",
       "            )\n",
       "          )\n",
       "          (intermediate): BertIntermediate(\n",
       "            (dense): Linear(in_features=768, out_features=3072, bias=True)\n",
       "            (intermediate_act_fn): GELUActivation()\n",
       "          )\n",
       "          (output): BertOutput(\n",
       "            (dense): Linear(in_features=3072, out_features=768, bias=True)\n",
       "            (LayerNorm): LayerNorm((768,), eps=1e-12, elementwise_affine=True)\n",
       "            (dropout): Dropout(p=0.1, inplace=False)\n",
       "          )\n",
       "        )\n",
       "      )\n",
       "    )\n",
       "    (pooler): BertPooler(\n",
       "      (dense): Linear(in_features=768, out_features=768, bias=True)\n",
       "      (activation): Tanh()\n",
       "    )\n",
       "  )\n",
       "  (dropout): Dropout(p=0.1, inplace=False)\n",
       "  (classifier): Linear(in_features=768, out_features=20, bias=True)\n",
       ")"
      ]
     },
     "execution_count": 54,
     "metadata": {},
     "output_type": "execute_result"
    }
   ],
   "source": [
    "from transformers import BertForTokenClassification, BertForSequenceClassification, AdamW, get_scheduler\n",
    "\n",
    "# Импортируем модель для классификации послеждовательностей\n",
    "model = BertForSequenceClassification.from_pretrained(\n",
    "    'DeepPavlov/rubert-base-cased',\n",
    "    num_labels = 20 \n",
    ")\n",
    "\n",
    "# Перебрасываем модель на device\n",
    "model.to('cuda' if torch.cuda.is_available() else 'cpu')\n"
   ]
  },
  {
   "cell_type": "markdown",
   "id": "fdfa02b6",
   "metadata": {
    "papermill": {
     "duration": 0.030235,
     "end_time": "2024-11-09T00:38:00.939458",
     "exception": false,
     "start_time": "2024-11-09T00:38:00.909223",
     "status": "completed"
    },
    "tags": []
   },
   "source": [
    "#### Тестируем прогон батчей через модель:"
   ]
  },
  {
   "cell_type": "code",
   "execution_count": null,
   "id": "08d6c325",
   "metadata": {
    "execution": {
     "iopub.execute_input": "2024-11-09T00:38:01.002939Z",
     "iopub.status.busy": "2024-11-09T00:38:01.002021Z",
     "iopub.status.idle": "2024-11-09T00:38:02.608410Z",
     "shell.execute_reply": "2024-11-09T00:38:02.607276Z"
    },
    "papermill": {
     "duration": 1.639797,
     "end_time": "2024-11-09T00:38:02.610423",
     "exception": false,
     "start_time": "2024-11-09T00:38:00.970626",
     "status": "completed"
    },
    "tags": []
   },
   "outputs": [
    {
     "name": "stdout",
     "output_type": "stream",
     "text": [
      "0.0390625\n",
      "0.0078125\n",
      "0.03125\n",
      "0.0234375\n",
      "0.046875\n",
      "0.03125\n",
      "0.0390625\n",
      "0.0234375\n",
      "0.0078125\n",
      "0.015625\n",
      "0.0546875\n"
     ]
    }
   ],
   "source": [
    "model.eval()  \n",
    "\n",
    "device = torch.device('cuda' if torch.cuda.is_available() else 'cpu')\n",
    "model.to(device)\n",
    "\n",
    "for i, batch in enumerate(train_dataloader):\n",
    "    \n",
    "    b_input_ids = batch['input_ids'].to(device)\n",
    "    b_input_mask = batch['attention_mask'].to(device)\n",
    "    b_labels = batch['labels']\n",
    "    \n",
    "\t# Дополнительные выводы для проверки\n",
    "#     print(f\"{i}:\")\n",
    "#     print(b_input_ids.size())\n",
    "#     print(b_input_mask.size())\n",
    "#     print(b_labels)\n",
    "\n",
    "    outputs = model(b_input_ids, attention_mask=b_input_mask)\n",
    "    \n",
    "    logits = outputs.logits\n",
    "#     print(outputs.logits.size())\n",
    "    \n",
    "    logits = logits.detach().cpu().numpy()\n",
    "    label_ids = b_labels.cpu().numpy()\n",
    "    mask_ids = b_input_mask.cpu().numpy()\n",
    "    \n",
    "#     print(logits)\n",
    "    \n",
    "    pred_flat = np.argmax(logits, axis=-1).flatten()  \n",
    "#     print(pred_flat)\n",
    "    labels_flat = label_ids.flatten()  \n",
    "    mask_flat = mask_ids.flatten() \n",
    "    \n",
    "#     print(labels_flat)\n",
    "    \n",
    "    accuracy = np.sum(pred_flat == labels_flat) / len(labels_flat)\n",
    "    print(accuracy)\n",
    "    \n",
    "\n",
    "    if i == 10:\n",
    "        break\n",
    "    "
   ]
  },
  {
   "cell_type": "markdown",
   "id": "4d915518",
   "metadata": {},
   "source": [
    "Выводы работают!"
   ]
  },
  {
   "cell_type": "markdown",
   "id": "9b79ce62",
   "metadata": {
    "papermill": {
     "duration": 0.030241,
     "end_time": "2024-11-09T00:38:02.672068",
     "exception": false,
     "start_time": "2024-11-09T00:38:02.641827",
     "status": "completed"
    },
    "tags": []
   },
   "source": [
    "#### Оптимизатор и его scheduler:"
   ]
  },
  {
   "cell_type": "code",
   "execution_count": 56,
   "id": "ecaa228f",
   "metadata": {
    "execution": {
     "iopub.execute_input": "2024-11-09T00:38:02.734920Z",
     "iopub.status.busy": "2024-11-09T00:38:02.734222Z",
     "iopub.status.idle": "2024-11-09T00:38:03.175523Z",
     "shell.execute_reply": "2024-11-09T00:38:03.174701Z"
    },
    "papermill": {
     "duration": 0.475429,
     "end_time": "2024-11-09T00:38:03.177965",
     "exception": false,
     "start_time": "2024-11-09T00:38:02.702536",
     "status": "completed"
    },
    "tags": []
   },
   "outputs": [],
   "source": [
    "optimizer = AdamW(model.parameters(), lr=3e-5)\n",
    "\n",
    "num_epochs = 15\n",
    "\n",
    "train_steps = len(train_dataloader) * num_epochs\n",
    "lr_scheduler = get_scheduler(\n",
    "    name='linear',\n",
    "    optimizer=optimizer,\n",
    "    num_warmup_steps=0,\n",
    "    num_training_steps=train_steps\n",
    ")"
   ]
  },
  {
   "cell_type": "markdown",
   "id": "5f44b78b",
   "metadata": {
    "papermill": {
     "duration": 0.03167,
     "end_time": "2024-11-09T00:38:03.243742",
     "exception": false,
     "start_time": "2024-11-09T00:38:03.212072",
     "status": "completed"
    },
    "tags": []
   },
   "source": [
    "#### Утилиты для train-val loop'а:"
   ]
  },
  {
   "cell_type": "code",
   "execution_count": null,
   "id": "6b8d5595",
   "metadata": {
    "execution": {
     "iopub.execute_input": "2024-11-09T00:38:03.309608Z",
     "iopub.status.busy": "2024-11-09T00:38:03.309140Z",
     "iopub.status.idle": "2024-11-09T00:38:03.315729Z",
     "shell.execute_reply": "2024-11-09T00:38:03.314780Z"
    },
    "papermill": {
     "duration": 0.043389,
     "end_time": "2024-11-09T00:38:03.318368",
     "exception": false,
     "start_time": "2024-11-09T00:38:03.274979",
     "status": "completed"
    },
    "tags": []
   },
   "outputs": [],
   "source": [
    "def format_time(elapsed):\n",
    "    '''Функция форматирования времени'''\n",
    "    return str(datetime.timedelta(seconds=int(round((elapsed)))))\n",
    "\n",
    "def token_accuracy_for_accent(preds, labels, attention_mask):\n",
    "    '''Функция подсчета accuracy для данных'''\n",
    "    pred_flat = np.argmax(preds, axis=1).flatten()  \n",
    "    labels_flat = labels.flatten()  \n",
    "    mask_flat = attention_mask.flatten()  \n",
    "    \n",
    "    accuracy = np.sum(pred_flat == labels_flat) / len(labels_flat)\n",
    "    \n",
    "\t# Дополнительные выводы для контроля\n",
    "#     if accuracy != 0:\n",
    "#         print(\"Non-zero:\")\n",
    "#         print(pred_flat)\n",
    "#         print(labels_flat)\n",
    "    return accuracy\n"
   ]
  },
  {
   "cell_type": "markdown",
   "id": "bf24df99",
   "metadata": {
    "papermill": {
     "duration": 0.032795,
     "end_time": "2024-11-09T00:38:03.390396",
     "exception": false,
     "start_time": "2024-11-09T00:38:03.357601",
     "status": "completed"
    },
    "tags": []
   },
   "source": [
    "#### Функция тренировки модели:"
   ]
  },
  {
   "cell_type": "code",
   "execution_count": null,
   "id": "da2e8464",
   "metadata": {
    "execution": {
     "iopub.execute_input": "2024-11-09T00:38:03.460461Z",
     "iopub.status.busy": "2024-11-09T00:38:03.459980Z",
     "iopub.status.idle": "2024-11-09T00:38:03.492741Z",
     "shell.execute_reply": "2024-11-09T00:38:03.491787Z"
    },
    "papermill": {
     "duration": 0.074011,
     "end_time": "2024-11-09T00:38:03.495180",
     "exception": false,
     "start_time": "2024-11-09T00:38:03.421169",
     "status": "completed"
    },
    "tags": []
   },
   "outputs": [],
   "source": [
    "def train_model(\n",
    "    model = model,\n",
    "    train_dataloader = train_dataloader,\n",
    "    validation_dataloader = validation_dataloader,\n",
    "    optimizer = AdamW(model.parameters(), lr=3e-5),\n",
    "    scheduler = lr_scheduler,\n",
    "    num_epochs = 15,\n",
    "    device = 'cuda',\n",
    "    model_save_path = \"bert_first_model.pth\",\n",
    "    tensorboard_log_dir = '/kaggle/working/runs/bert_launch',\n",
    "    gradient_accumulation_steps=2,\n",
    "    eval_every=1,\n",
    "    test_batch_only=False\n",
    "):\n",
    "    '''\n",
    "    Функция релиазации train_val loop\n",
    "    \n",
    "    Параметры:\n",
    "    -model: модель (default: model)\n",
    "    -train_dataloader: train даталоадер (default: train_dataloader)\n",
    "    -validation_dataloader: val даталоадер (default: validation_dataloader)\n",
    "    -optimizer: оптимизатор\n",
    "    -scheduler: изменение для learning_rate\n",
    "    -num_epochs: число эпох (default: 15)\n",
    "    -device: device (default: 'cuda')\n",
    "    -model_save_path: путь для сохранения весов (default: bert_first_model.pth)\n",
    "    -tensorboard_loag_dir: путь для записи логов TensorBoard (default: /kaggle/working/runs/bert_launch)\n",
    "    -gradient_accumulation_steps: число шагов для накопления градиентов (default: 2)\n",
    "    -eval_every: число шагов, через которые делаем валидацию (default: 1)\n",
    "    -test_batch_only: вспомогательная логика для тестирования обучения небольшого числа батчей (default: False)\n",
    "    \n",
    "    '''\n",
    "    \n",
    "    writer = SummaryWriter(log_dir=tensorboard_log_dir)\n",
    "    history = {\n",
    "        'train_loss': [],\n",
    "        'train_accuracy': [],\n",
    "        'val_loss': [],\n",
    "        'val_accuracy': []\n",
    "    }\n",
    "    best_val_accuracy = 0.0\n",
    "    \n",
    "    for epoch in range(num_epochs):\n",
    "        print(\"\")\n",
    "        print('======== Epoch {:} / {:} ========'.format(epoch + 1, num_epochs))\n",
    "        print('Training...')\n",
    "        \n",
    "        t0 = time.time()\n",
    "        model.train()\n",
    "        total_train_loss = 0\n",
    "        total_train_accuracy = 0\n",
    "        num_train_steps = 0\n",
    "        \n",
    "        for step, batch in enumerate(tqdm(train_dataloader)):\n",
    "            \n",
    "            if test_batch_only and step >= 100:  # Прерываем после первого батча\n",
    "                break\n",
    "                \n",
    "            \n",
    "            if step % 1500 == 0 and not step == 0:\n",
    "                # Calculate elapsed time in minutes.\n",
    "                elapsed = format_time(time.time() - t0)\n",
    "\n",
    "                # Report progress.\n",
    "                print('  Batch {:>5,}  of  {:>5,}.    Elapsed: {:}.'.format(step, len(train_dataloader), elapsed))\n",
    "\n",
    "            b_input_ids = batch['input_ids'].to(device)\n",
    "            b_input_mask = batch['attention_mask'].to(device)\n",
    "            b_labels = batch['labels'].to(device)\n",
    "\n",
    "            optimizer.zero_grad()\n",
    "\n",
    "            outputs = model(b_input_ids, attention_mask=b_input_mask, labels=b_labels)\n",
    "            loss = outputs.loss\n",
    "            logits = outputs.logits\n",
    "            \n",
    "            logits = logits.detach().cpu().numpy()\n",
    "            label_ids = b_labels.cpu().numpy()\n",
    "            mask_ids = b_input_mask.cpu().numpy()\n",
    "            \n",
    "            batch_accuracy = token_accuracy_for_accent(logits, label_ids, mask_ids)\n",
    "            \n",
    "\t\t\t# Дополнительная логика для контроля\n",
    "#             if step == 0:\n",
    "#                 print('Ground True:')\n",
    "#                 print(label_ids.flatten())\n",
    "#                 print(\"Predicted:\")\n",
    "#                 print(np.argmax(logits, axis=1).flatten())\n",
    "#             print(batch_accuracy)\n",
    "            total_train_accuracy += batch_accuracy\n",
    "\n",
    "            total_train_loss += loss.item()\n",
    "            num_train_steps += 1\n",
    "\n",
    "            loss.backward()\n",
    "\n",
    "            if (step + 1) % gradient_accumulation_steps == 0 or (step + 1) == len(train_dataloader):\n",
    "                torch.nn.utils.clip_grad_norm_(model.parameters(), 1.0) # Клипаем накопленные градиенты\n",
    "                optimizer.step()\n",
    "                scheduler.step()\n",
    "        \n",
    "        avg_train_loss = total_train_loss / num_train_steps\n",
    "        avg_train_accuracy = total_train_accuracy / num_train_steps\n",
    "        \n",
    "        training_time = format_time(time.time() - t0)\n",
    "\n",
    "        print(\"\")\n",
    "        print(\"  Average training loss: {0:.2f}\".format(avg_train_loss))\n",
    "        print(\"  Training epoch took: {:}\".format(training_time))\n",
    "\n",
    "        history['train_loss'].append(avg_train_loss)\n",
    "        history['train_accuracy'].append(avg_train_accuracy)\n",
    "\n",
    "        # Логирование в TensorBoard для обучения\n",
    "        writer.add_scalar(\"Train/Loss\", avg_train_loss, epoch + 1)\n",
    "        writer.add_scalar(\"Train/Accuracy\", avg_train_accuracy, epoch + 1)\n",
    "\n",
    "        print(f\"Train Loss: {avg_train_loss:.4f}, Train Accuracy: {avg_train_accuracy:.4f}\")\n",
    "        \n",
    "        print(\"\")\n",
    "        print(\"Running Validation...\")\n",
    "\n",
    "        t0 = time.time()\n",
    "\n",
    "        # Put the model in evaluation mode--the dropout layers behave differently\n",
    "        # during evaluation.\n",
    "        model.eval()\n",
    "        \n",
    "        if (epoch + 1) % eval_every == 0:\n",
    "            model.eval()\n",
    "            total_eval_loss = 0\n",
    "            total_eval_accuracy = 0\n",
    "            num_eval_steps = 0\n",
    "        \n",
    "        with torch.no_grad():\n",
    "            for batch in validation_dataloader:\n",
    "                \n",
    "                if test_batch_only and num_eval_steps >= 100:  # Прерываем если хотим проконтроллировать\n",
    "                    break\n",
    "                b_input_ids = batch['input_ids'].to(device)\n",
    "                b_input_mask = batch['attention_mask'].to(device)\n",
    "                b_labels = batch['labels'].to(device)\n",
    "\n",
    "                outputs = model(b_input_ids, attention_mask=b_input_mask, labels=b_labels)\n",
    "                loss = outputs.loss\n",
    "                logits = outputs.logits.detach().cpu().numpy()\n",
    "                label_ids = b_labels.cpu().numpy()\n",
    "                mask_ids = b_input_mask.cpu().numpy()\n",
    "\n",
    "                batch_accuracy = token_accuracy_for_accent(logits, label_ids, mask_ids)\n",
    "                total_eval_accuracy += batch_accuracy\n",
    "\n",
    "                total_eval_loss += loss.item()\n",
    "                num_eval_steps += 1\n",
    "\n",
    "        avg_val_loss = total_eval_loss / num_eval_steps\n",
    "        avg_val_accuracy = total_eval_accuracy / num_eval_steps\n",
    "\n",
    "        history['val_loss'].append(avg_val_loss)\n",
    "        history['val_accuracy'].append(avg_val_accuracy)\n",
    "\n",
    "        # Логирование в TensorBoard для валидации\n",
    "        writer.add_scalar(\"Validation/Loss\", avg_val_loss, epoch + 1)\n",
    "        writer.add_scalar(\"Validation/Accuracy\", avg_val_accuracy, epoch + 1)\n",
    "\n",
    "        print(f\"Validation Loss: {avg_val_loss:.4f}, Validation Accuracy: {avg_val_accuracy:.4f}\")\n",
    "\n",
    "\t\t# Если точность выше, то сохраняем веса\n",
    "        if avg_val_accuracy > best_val_accuracy:\n",
    "            best_val_accuracy = avg_val_accuracy\n",
    "            torch.save(model.state_dict(), model_save_path)\n",
    "            print(f\"Model saved to {model_save_path}\")\n",
    "    \n",
    "    writer.close()\n",
    "    return history\n",
    "\n",
    "    "
   ]
  },
  {
   "cell_type": "markdown",
   "id": "1934f2be",
   "metadata": {},
   "source": [
    "#### Обучаем модель:"
   ]
  },
  {
   "cell_type": "code",
   "execution_count": 59,
   "id": "8b419db4",
   "metadata": {
    "execution": {
     "iopub.execute_input": "2024-11-09T00:38:03.571319Z",
     "iopub.status.busy": "2024-11-09T00:38:03.570943Z",
     "iopub.status.idle": "2024-11-09T07:38:33.255894Z",
     "shell.execute_reply": "2024-11-09T07:38:33.254921Z"
    },
    "papermill": {
     "duration": 25229.769398,
     "end_time": "2024-11-09T07:38:33.298636",
     "exception": false,
     "start_time": "2024-11-09T00:38:03.529238",
     "status": "completed"
    },
    "tags": []
   },
   "outputs": [
    {
     "name": "stdout",
     "output_type": "stream",
     "text": [
      "\n",
      "======== Epoch 1 / 15 ========\n",
      "Training...\n"
     ]
    },
    {
     "data": {
      "application/vnd.jupyter.widget-view+json": {
       "model_id": "bb914eb5c95944af830391502b18b26b",
       "version_major": 2,
       "version_minor": 0
      },
      "text/plain": [
       "  0%|          | 0/5876 [00:00<?, ?it/s]"
      ]
     },
     "metadata": {},
     "output_type": "display_data"
    },
    {
     "name": "stdout",
     "output_type": "stream",
     "text": [
      "  Batch 1,500  of  5,876.    Elapsed: 0:06:52.\n",
      "  Batch 3,000  of  5,876.    Elapsed: 0:13:43.\n",
      "  Batch 4,500  of  5,876.    Elapsed: 0:20:33.\n",
      "\n",
      "  Average training loss: 0.88\n",
      "  Training epoch took: 0:26:50\n",
      "Train Loss: 0.8769, Train Accuracy: 0.6771\n",
      "\n",
      "Running Validation...\n",
      "Validation Loss: 0.5081, Validation Accuracy: 0.8003\n",
      "Model saved to bert_first_model.pth\n",
      "\n",
      "======== Epoch 2 / 15 ========\n",
      "Training...\n"
     ]
    },
    {
     "data": {
      "application/vnd.jupyter.widget-view+json": {
       "model_id": "2ce38acf5ffe400a996f0f813087b165",
       "version_major": 2,
       "version_minor": 0
      },
      "text/plain": [
       "  0%|          | 0/5876 [00:00<?, ?it/s]"
      ]
     },
     "metadata": {},
     "output_type": "display_data"
    },
    {
     "name": "stdout",
     "output_type": "stream",
     "text": [
      "  Batch 1,500  of  5,876.    Elapsed: 0:06:51.\n",
      "  Batch 3,000  of  5,876.    Elapsed: 0:13:43.\n",
      "  Batch 4,500  of  5,876.    Elapsed: 0:20:35.\n",
      "\n",
      "  Average training loss: 0.46\n",
      "  Training epoch took: 0:26:53\n",
      "Train Loss: 0.4630, Train Accuracy: 0.8183\n",
      "\n",
      "Running Validation...\n",
      "Validation Loss: 0.3748, Validation Accuracy: 0.8548\n",
      "Model saved to bert_first_model.pth\n",
      "\n",
      "======== Epoch 3 / 15 ========\n",
      "Training...\n"
     ]
    },
    {
     "data": {
      "application/vnd.jupyter.widget-view+json": {
       "model_id": "efa3d5a679ee4fe1ac2bd2915b27de3c",
       "version_major": 2,
       "version_minor": 0
      },
      "text/plain": [
       "  0%|          | 0/5876 [00:00<?, ?it/s]"
      ]
     },
     "metadata": {},
     "output_type": "display_data"
    },
    {
     "name": "stdout",
     "output_type": "stream",
     "text": [
      "  Batch 1,500  of  5,876.    Elapsed: 0:06:51.\n",
      "  Batch 3,000  of  5,876.    Elapsed: 0:13:43.\n",
      "  Batch 4,500  of  5,876.    Elapsed: 0:20:34.\n",
      "\n",
      "  Average training loss: 0.37\n",
      "  Training epoch took: 0:26:52\n",
      "Train Loss: 0.3668, Train Accuracy: 0.8580\n",
      "\n",
      "Running Validation...\n",
      "Validation Loss: 0.3030, Validation Accuracy: 0.8858\n",
      "Model saved to bert_first_model.pth\n",
      "\n",
      "======== Epoch 4 / 15 ========\n",
      "Training...\n"
     ]
    },
    {
     "data": {
      "application/vnd.jupyter.widget-view+json": {
       "model_id": "026d4ab9ef914876af00f9e73d833e64",
       "version_major": 2,
       "version_minor": 0
      },
      "text/plain": [
       "  0%|          | 0/5876 [00:00<?, ?it/s]"
      ]
     },
     "metadata": {},
     "output_type": "display_data"
    },
    {
     "name": "stdout",
     "output_type": "stream",
     "text": [
      "  Batch 1,500  of  5,876.    Elapsed: 0:06:52.\n",
      "  Batch 3,000  of  5,876.    Elapsed: 0:13:43.\n",
      "  Batch 4,500  of  5,876.    Elapsed: 0:20:34.\n",
      "\n",
      "  Average training loss: 0.30\n",
      "  Training epoch took: 0:26:51\n",
      "Train Loss: 0.3042, Train Accuracy: 0.8840\n",
      "\n",
      "Running Validation...\n",
      "Validation Loss: 0.2563, Validation Accuracy: 0.9074\n",
      "Model saved to bert_first_model.pth\n",
      "\n",
      "======== Epoch 5 / 15 ========\n",
      "Training...\n"
     ]
    },
    {
     "data": {
      "application/vnd.jupyter.widget-view+json": {
       "model_id": "4b80c63cb7264250a3cd791373484dcf",
       "version_major": 2,
       "version_minor": 0
      },
      "text/plain": [
       "  0%|          | 0/5876 [00:00<?, ?it/s]"
      ]
     },
     "metadata": {},
     "output_type": "display_data"
    },
    {
     "name": "stdout",
     "output_type": "stream",
     "text": [
      "  Batch 1,500  of  5,876.    Elapsed: 0:06:52.\n",
      "  Batch 3,000  of  5,876.    Elapsed: 0:13:43.\n",
      "  Batch 4,500  of  5,876.    Elapsed: 0:20:34.\n",
      "\n",
      "  Average training loss: 0.26\n",
      "  Training epoch took: 0:26:51\n",
      "Train Loss: 0.2603, Train Accuracy: 0.9011\n",
      "\n",
      "Running Validation...\n",
      "Validation Loss: 0.2262, Validation Accuracy: 0.9177\n",
      "Model saved to bert_first_model.pth\n",
      "\n",
      "======== Epoch 6 / 15 ========\n",
      "Training...\n"
     ]
    },
    {
     "data": {
      "application/vnd.jupyter.widget-view+json": {
       "model_id": "9a84cd86dcbf4c61895897ffcf6c090e",
       "version_major": 2,
       "version_minor": 0
      },
      "text/plain": [
       "  0%|          | 0/5876 [00:00<?, ?it/s]"
      ]
     },
     "metadata": {},
     "output_type": "display_data"
    },
    {
     "name": "stdout",
     "output_type": "stream",
     "text": [
      "  Batch 1,500  of  5,876.    Elapsed: 0:06:51.\n",
      "  Batch 3,000  of  5,876.    Elapsed: 0:13:42.\n",
      "  Batch 4,500  of  5,876.    Elapsed: 0:20:34.\n",
      "\n",
      "  Average training loss: 0.23\n",
      "  Training epoch took: 0:26:51\n",
      "Train Loss: 0.2295, Train Accuracy: 0.9140\n",
      "\n",
      "Running Validation...\n",
      "Validation Loss: 0.2092, Validation Accuracy: 0.9245\n",
      "Model saved to bert_first_model.pth\n",
      "\n",
      "======== Epoch 7 / 15 ========\n",
      "Training...\n"
     ]
    },
    {
     "data": {
      "application/vnd.jupyter.widget-view+json": {
       "model_id": "57098dea297242ba8b5907e175aa6797",
       "version_major": 2,
       "version_minor": 0
      },
      "text/plain": [
       "  0%|          | 0/5876 [00:00<?, ?it/s]"
      ]
     },
     "metadata": {},
     "output_type": "display_data"
    },
    {
     "name": "stdout",
     "output_type": "stream",
     "text": [
      "  Batch 1,500  of  5,876.    Elapsed: 0:06:52.\n",
      "  Batch 3,000  of  5,876.    Elapsed: 0:13:43.\n",
      "  Batch 4,500  of  5,876.    Elapsed: 0:20:35.\n",
      "\n",
      "  Average training loss: 0.21\n",
      "  Training epoch took: 0:26:52\n",
      "Train Loss: 0.2057, Train Accuracy: 0.9234\n",
      "\n",
      "Running Validation...\n",
      "Validation Loss: 0.1897, Validation Accuracy: 0.9329\n",
      "Model saved to bert_first_model.pth\n",
      "\n",
      "======== Epoch 8 / 15 ========\n",
      "Training...\n"
     ]
    },
    {
     "data": {
      "application/vnd.jupyter.widget-view+json": {
       "model_id": "364805aeffbe4f6f8fbead83a73cc4c1",
       "version_major": 2,
       "version_minor": 0
      },
      "text/plain": [
       "  0%|          | 0/5876 [00:00<?, ?it/s]"
      ]
     },
     "metadata": {},
     "output_type": "display_data"
    },
    {
     "name": "stdout",
     "output_type": "stream",
     "text": [
      "  Batch 1,500  of  5,876.    Elapsed: 0:06:51.\n",
      "  Batch 3,000  of  5,876.    Elapsed: 0:13:42.\n",
      "  Batch 4,500  of  5,876.    Elapsed: 0:20:33.\n",
      "\n",
      "  Average training loss: 0.19\n",
      "  Training epoch took: 0:26:51\n",
      "Train Loss: 0.1862, Train Accuracy: 0.9307\n",
      "\n",
      "Running Validation...\n",
      "Validation Loss: 0.1730, Validation Accuracy: 0.9389\n",
      "Model saved to bert_first_model.pth\n",
      "\n",
      "======== Epoch 9 / 15 ========\n",
      "Training...\n"
     ]
    },
    {
     "data": {
      "application/vnd.jupyter.widget-view+json": {
       "model_id": "2815345b1bc443a4807a7470fcf641ad",
       "version_major": 2,
       "version_minor": 0
      },
      "text/plain": [
       "  0%|          | 0/5876 [00:00<?, ?it/s]"
      ]
     },
     "metadata": {},
     "output_type": "display_data"
    },
    {
     "name": "stdout",
     "output_type": "stream",
     "text": [
      "  Batch 1,500  of  5,876.    Elapsed: 0:06:51.\n",
      "  Batch 3,000  of  5,876.    Elapsed: 0:13:43.\n",
      "  Batch 4,500  of  5,876.    Elapsed: 0:20:34.\n",
      "\n",
      "  Average training loss: 0.17\n",
      "  Training epoch took: 0:26:52\n",
      "Train Loss: 0.1708, Train Accuracy: 0.9376\n",
      "\n",
      "Running Validation...\n",
      "Validation Loss: 0.1696, Validation Accuracy: 0.9424\n",
      "Model saved to bert_first_model.pth\n",
      "\n",
      "======== Epoch 10 / 15 ========\n",
      "Training...\n"
     ]
    },
    {
     "data": {
      "application/vnd.jupyter.widget-view+json": {
       "model_id": "eed8723d5868488fbfc672d565ec2a94",
       "version_major": 2,
       "version_minor": 0
      },
      "text/plain": [
       "  0%|          | 0/5876 [00:00<?, ?it/s]"
      ]
     },
     "metadata": {},
     "output_type": "display_data"
    },
    {
     "name": "stdout",
     "output_type": "stream",
     "text": [
      "  Batch 1,500  of  5,876.    Elapsed: 0:06:51.\n",
      "  Batch 3,000  of  5,876.    Elapsed: 0:13:42.\n",
      "  Batch 4,500  of  5,876.    Elapsed: 0:20:33.\n",
      "\n",
      "  Average training loss: 0.16\n",
      "  Training epoch took: 0:26:51\n",
      "Train Loss: 0.1568, Train Accuracy: 0.9422\n",
      "\n",
      "Running Validation...\n",
      "Validation Loss: 0.1665, Validation Accuracy: 0.9432\n",
      "Model saved to bert_first_model.pth\n",
      "\n",
      "======== Epoch 11 / 15 ========\n",
      "Training...\n"
     ]
    },
    {
     "data": {
      "application/vnd.jupyter.widget-view+json": {
       "model_id": "8d87c90c837d42c7aabd5f5cdb1f6911",
       "version_major": 2,
       "version_minor": 0
      },
      "text/plain": [
       "  0%|          | 0/5876 [00:00<?, ?it/s]"
      ]
     },
     "metadata": {},
     "output_type": "display_data"
    },
    {
     "name": "stdout",
     "output_type": "stream",
     "text": [
      "  Batch 1,500  of  5,876.    Elapsed: 0:06:51.\n",
      "  Batch 3,000  of  5,876.    Elapsed: 0:13:42.\n",
      "  Batch 4,500  of  5,876.    Elapsed: 0:20:33.\n",
      "\n",
      "  Average training loss: 0.15\n",
      "  Training epoch took: 0:26:49\n",
      "Train Loss: 0.1457, Train Accuracy: 0.9470\n",
      "\n",
      "Running Validation...\n",
      "Validation Loss: 0.1534, Validation Accuracy: 0.9480\n",
      "Model saved to bert_first_model.pth\n",
      "\n",
      "======== Epoch 12 / 15 ========\n",
      "Training...\n"
     ]
    },
    {
     "data": {
      "application/vnd.jupyter.widget-view+json": {
       "model_id": "ad11f4cfe58f433fa3c2897c71778c0a",
       "version_major": 2,
       "version_minor": 0
      },
      "text/plain": [
       "  0%|          | 0/5876 [00:00<?, ?it/s]"
      ]
     },
     "metadata": {},
     "output_type": "display_data"
    },
    {
     "name": "stdout",
     "output_type": "stream",
     "text": [
      "  Batch 1,500  of  5,876.    Elapsed: 0:06:52.\n",
      "  Batch 3,000  of  5,876.    Elapsed: 0:13:42.\n",
      "  Batch 4,500  of  5,876.    Elapsed: 0:20:33.\n",
      "\n",
      "  Average training loss: 0.14\n",
      "  Training epoch took: 0:26:51\n",
      "Train Loss: 0.1362, Train Accuracy: 0.9504\n",
      "\n",
      "Running Validation...\n",
      "Validation Loss: 0.1524, Validation Accuracy: 0.9501\n",
      "Model saved to bert_first_model.pth\n",
      "\n",
      "======== Epoch 13 / 15 ========\n",
      "Training...\n"
     ]
    },
    {
     "data": {
      "application/vnd.jupyter.widget-view+json": {
       "model_id": "bd730b16ad944b60adf0de0fd0b639c4",
       "version_major": 2,
       "version_minor": 0
      },
      "text/plain": [
       "  0%|          | 0/5876 [00:00<?, ?it/s]"
      ]
     },
     "metadata": {},
     "output_type": "display_data"
    },
    {
     "name": "stdout",
     "output_type": "stream",
     "text": [
      "  Batch 1,500  of  5,876.    Elapsed: 0:06:52.\n",
      "  Batch 3,000  of  5,876.    Elapsed: 0:13:43.\n",
      "  Batch 4,500  of  5,876.    Elapsed: 0:20:35.\n",
      "\n",
      "  Average training loss: 0.13\n",
      "  Training epoch took: 0:26:51\n",
      "Train Loss: 0.1274, Train Accuracy: 0.9540\n",
      "\n",
      "Running Validation...\n",
      "Validation Loss: 0.1458, Validation Accuracy: 0.9534\n",
      "Model saved to bert_first_model.pth\n",
      "\n",
      "======== Epoch 14 / 15 ========\n",
      "Training...\n"
     ]
    },
    {
     "data": {
      "application/vnd.jupyter.widget-view+json": {
       "model_id": "2372dedd174243999c819f5a85128311",
       "version_major": 2,
       "version_minor": 0
      },
      "text/plain": [
       "  0%|          | 0/5876 [00:00<?, ?it/s]"
      ]
     },
     "metadata": {},
     "output_type": "display_data"
    },
    {
     "name": "stdout",
     "output_type": "stream",
     "text": [
      "  Batch 1,500  of  5,876.    Elapsed: 0:06:50.\n",
      "  Batch 3,000  of  5,876.    Elapsed: 0:13:40.\n",
      "  Batch 4,500  of  5,876.    Elapsed: 0:20:30.\n",
      "\n",
      "  Average training loss: 0.12\n",
      "  Training epoch took: 0:26:46\n",
      "Train Loss: 0.1197, Train Accuracy: 0.9570\n",
      "\n",
      "Running Validation...\n",
      "Validation Loss: 0.1403, Validation Accuracy: 0.9539\n",
      "Model saved to bert_first_model.pth\n",
      "\n",
      "======== Epoch 15 / 15 ========\n",
      "Training...\n"
     ]
    },
    {
     "data": {
      "application/vnd.jupyter.widget-view+json": {
       "model_id": "b8711f6ddc374be7a039ff6f76458dc3",
       "version_major": 2,
       "version_minor": 0
      },
      "text/plain": [
       "  0%|          | 0/5876 [00:00<?, ?it/s]"
      ]
     },
     "metadata": {},
     "output_type": "display_data"
    },
    {
     "name": "stdout",
     "output_type": "stream",
     "text": [
      "  Batch 1,500  of  5,876.    Elapsed: 0:06:50.\n",
      "  Batch 3,000  of  5,876.    Elapsed: 0:13:41.\n",
      "  Batch 4,500  of  5,876.    Elapsed: 0:20:31.\n",
      "\n",
      "  Average training loss: 0.11\n",
      "  Training epoch took: 0:26:49\n",
      "Train Loss: 0.1131, Train Accuracy: 0.9594\n",
      "\n",
      "Running Validation...\n",
      "Validation Loss: 0.1446, Validation Accuracy: 0.9537\n"
     ]
    },
    {
     "data": {
      "text/plain": [
       "{'train_loss': [0.876900054123874,\n",
       "  0.46296373213570974,\n",
       "  0.3668143760217664,\n",
       "  0.30419622650883527,\n",
       "  0.2602912243988195,\n",
       "  0.22947682055706187,\n",
       "  0.20574887540670703,\n",
       "  0.18621264057204767,\n",
       "  0.17079273843852494,\n",
       "  0.15683323101833505,\n",
       "  0.1456601994458923,\n",
       "  0.13624546970028387,\n",
       "  0.12743466424389943,\n",
       "  0.1197461914800493,\n",
       "  0.1131410279298243],\n",
       " 'train_accuracy': [0.6771400612661674,\n",
       "  0.818306192562968,\n",
       "  0.8580387912695712,\n",
       "  0.8840396847345132,\n",
       "  0.9011391678012253,\n",
       "  0.914015965367597,\n",
       "  0.9234079837474473,\n",
       "  0.9307471600578625,\n",
       "  0.9375717962899932,\n",
       "  0.9421680884104833,\n",
       "  0.9469531781824371,\n",
       "  0.9504299800034037,\n",
       "  0.9539958624063989,\n",
       "  0.9569727493192648,\n",
       "  0.9593872319605173],\n",
       " 'val_loss': [0.5080552857374889,\n",
       "  0.37476879648099815,\n",
       "  0.3030033187104951,\n",
       "  0.25631631460114973,\n",
       "  0.2261767920226452,\n",
       "  0.2092050154269837,\n",
       "  0.18970939684174326,\n",
       "  0.1730257809207779,\n",
       "  0.16961635209357573,\n",
       "  0.1665090957961714,\n",
       "  0.15337540819716125,\n",
       "  0.15243475808894652,\n",
       "  0.1457873859298722,\n",
       "  0.14025230810993208,\n",
       "  0.1445990647909561],\n",
       " 'val_accuracy': [0.8003100132744629,\n",
       "  0.8547791420975799,\n",
       "  0.8858327981208226,\n",
       "  0.9074133045183266,\n",
       "  0.9177452913225802,\n",
       "  0.9244692898341228,\n",
       "  0.9329086146255241,\n",
       "  0.9389096289948621,\n",
       "  0.9423815406248659,\n",
       "  0.943238253352607,\n",
       "  0.9479591184110718,\n",
       "  0.9501461845758613,\n",
       "  0.9534076637660833,\n",
       "  0.9538526802965466,\n",
       "  0.9536994962144524]}"
      ]
     },
     "execution_count": 59,
     "metadata": {},
     "output_type": "execute_result"
    }
   ],
   "source": [
    "train_model()"
   ]
  },
  {
   "cell_type": "markdown",
   "id": "0a8dddb5",
   "metadata": {},
   "source": [
    "#### Графики обучения в TensorBoard:"
   ]
  },
  {
   "cell_type": "markdown",
   "id": "95755aa5",
   "metadata": {
    "papermill": {
     "duration": 0.040509,
     "end_time": "2024-11-09T07:38:33.379588",
     "exception": false,
     "start_time": "2024-11-09T07:38:33.339079",
     "status": "completed"
    },
    "tags": []
   },
   "source": [
    "<img src=\"transformer_training_logs.png\" alt=\"Example Image\" width=\"650\" height=\"650\">"
   ]
  },
  {
   "cell_type": "code",
   "execution_count": null,
   "id": "e5f4348a",
   "metadata": {
    "papermill": {
     "duration": 0.039721,
     "end_time": "2024-11-09T07:38:33.459393",
     "exception": false,
     "start_time": "2024-11-09T07:38:33.419672",
     "status": "completed"
    },
    "tags": []
   },
   "outputs": [],
   "source": []
  }
 ],
 "metadata": {
  "kaggle": {
   "accelerator": "gpu",
   "dataSources": [
    {
     "datasetId": 6039745,
     "sourceId": 9844355,
     "sourceType": "datasetVersion"
    },
    {
     "datasetId": 6041907,
     "sourceId": 9847182,
     "sourceType": "datasetVersion"
    }
   ],
   "dockerImageVersionId": 30786,
   "isGpuEnabled": true,
   "isInternetEnabled": true,
   "language": "python",
   "sourceType": "notebook"
  },
  "kernelspec": {
   "display_name": "Python 3",
   "language": "python",
   "name": "python3"
  },
  "language_info": {
   "codemirror_mode": {
    "name": "ipython",
    "version": 3
   },
   "file_extension": ".py",
   "mimetype": "text/x-python",
   "name": "python",
   "nbconvert_exporter": "python",
   "pygments_lexer": "ipython3",
   "version": "3.12.3"
  },
  "papermill": {
   "default_parameters": {},
   "duration": 25332.690593,
   "end_time": "2024-11-09T07:38:37.104598",
   "environment_variables": {},
   "exception": null,
   "input_path": "__notebook__.ipynb",
   "output_path": "__notebook__.ipynb",
   "parameters": {},
   "start_time": "2024-11-09T00:36:24.414005",
   "version": "2.6.0"
  },
  "widgets": {
   "application/vnd.jupyter.widget-state+json": {
    "state": {
     "002b2ac0054643ebba1737bbdc76df0e": {
      "model_module": "@jupyter-widgets/controls",
      "model_module_version": "1.5.0",
      "model_name": "DescriptionStyleModel",
      "state": {
       "_model_module": "@jupyter-widgets/controls",
       "_model_module_version": "1.5.0",
       "_model_name": "DescriptionStyleModel",
       "_view_count": null,
       "_view_module": "@jupyter-widgets/base",
       "_view_module_version": "1.2.0",
       "_view_name": "StyleView",
       "description_width": ""
      }
     },
     "021e00c7b1b043bf80663c678a9fed80": {
      "model_module": "@jupyter-widgets/controls",
      "model_module_version": "1.5.0",
      "model_name": "DescriptionStyleModel",
      "state": {
       "_model_module": "@jupyter-widgets/controls",
       "_model_module_version": "1.5.0",
       "_model_name": "DescriptionStyleModel",
       "_view_count": null,
       "_view_module": "@jupyter-widgets/base",
       "_view_module_version": "1.2.0",
       "_view_name": "StyleView",
       "description_width": ""
      }
     },
     "026c25106d9745398e484e63ec186fe0": {
      "model_module": "@jupyter-widgets/base",
      "model_module_version": "1.2.0",
      "model_name": "LayoutModel",
      "state": {
       "_model_module": "@jupyter-widgets/base",
       "_model_module_version": "1.2.0",
       "_model_name": "LayoutModel",
       "_view_count": null,
       "_view_module": "@jupyter-widgets/base",
       "_view_module_version": "1.2.0",
       "_view_name": "LayoutView",
       "align_content": null,
       "align_items": null,
       "align_self": null,
       "border": null,
       "bottom": null,
       "display": null,
       "flex": null,
       "flex_flow": null,
       "grid_area": null,
       "grid_auto_columns": null,
       "grid_auto_flow": null,
       "grid_auto_rows": null,
       "grid_column": null,
       "grid_gap": null,
       "grid_row": null,
       "grid_template_areas": null,
       "grid_template_columns": null,
       "grid_template_rows": null,
       "height": null,
       "justify_content": null,
       "justify_items": null,
       "left": null,
       "margin": null,
       "max_height": null,
       "max_width": null,
       "min_height": null,
       "min_width": null,
       "object_fit": null,
       "object_position": null,
       "order": null,
       "overflow": null,
       "overflow_x": null,
       "overflow_y": null,
       "padding": null,
       "right": null,
       "top": null,
       "visibility": null,
       "width": null
      }
     },
     "026d4ab9ef914876af00f9e73d833e64": {
      "model_module": "@jupyter-widgets/controls",
      "model_module_version": "1.5.0",
      "model_name": "HBoxModel",
      "state": {
       "_dom_classes": [],
       "_model_module": "@jupyter-widgets/controls",
       "_model_module_version": "1.5.0",
       "_model_name": "HBoxModel",
       "_view_count": null,
       "_view_module": "@jupyter-widgets/controls",
       "_view_module_version": "1.5.0",
       "_view_name": "HBoxView",
       "box_style": "",
       "children": [
        "IPY_MODEL_70fbeb6c56fe4d72b8ee2f1a229e2bd9",
        "IPY_MODEL_2a6b0dd9d9284d5e9ec4106aa4cc77a1",
        "IPY_MODEL_cfd465a903c446ac88717b17d2ca9b74"
       ],
       "layout": "IPY_MODEL_580374011fe141dabbc5cb6a28b08846"
      }
     },
     "03e29f77e80541548c296c56c6a7ed2c": {
      "model_module": "@jupyter-widgets/base",
      "model_module_version": "1.2.0",
      "model_name": "LayoutModel",
      "state": {
       "_model_module": "@jupyter-widgets/base",
       "_model_module_version": "1.2.0",
       "_model_name": "LayoutModel",
       "_view_count": null,
       "_view_module": "@jupyter-widgets/base",
       "_view_module_version": "1.2.0",
       "_view_name": "LayoutView",
       "align_content": null,
       "align_items": null,
       "align_self": null,
       "border": null,
       "bottom": null,
       "display": null,
       "flex": null,
       "flex_flow": null,
       "grid_area": null,
       "grid_auto_columns": null,
       "grid_auto_flow": null,
       "grid_auto_rows": null,
       "grid_column": null,
       "grid_gap": null,
       "grid_row": null,
       "grid_template_areas": null,
       "grid_template_columns": null,
       "grid_template_rows": null,
       "height": null,
       "justify_content": null,
       "justify_items": null,
       "left": null,
       "margin": null,
       "max_height": null,
       "max_width": null,
       "min_height": null,
       "min_width": null,
       "object_fit": null,
       "object_position": null,
       "order": null,
       "overflow": null,
       "overflow_x": null,
       "overflow_y": null,
       "padding": null,
       "right": null,
       "top": null,
       "visibility": null,
       "width": null
      }
     },
     "046c4d1065d045d8ae63bc742daf5899": {
      "model_module": "@jupyter-widgets/controls",
      "model_module_version": "1.5.0",
      "model_name": "ProgressStyleModel",
      "state": {
       "_model_module": "@jupyter-widgets/controls",
       "_model_module_version": "1.5.0",
       "_model_name": "ProgressStyleModel",
       "_view_count": null,
       "_view_module": "@jupyter-widgets/base",
       "_view_module_version": "1.2.0",
       "_view_name": "StyleView",
       "bar_color": null,
       "description_width": ""
      }
     },
     "04ac1744db9649ef8fa69eec4314b724": {
      "model_module": "@jupyter-widgets/base",
      "model_module_version": "1.2.0",
      "model_name": "LayoutModel",
      "state": {
       "_model_module": "@jupyter-widgets/base",
       "_model_module_version": "1.2.0",
       "_model_name": "LayoutModel",
       "_view_count": null,
       "_view_module": "@jupyter-widgets/base",
       "_view_module_version": "1.2.0",
       "_view_name": "LayoutView",
       "align_content": null,
       "align_items": null,
       "align_self": null,
       "border": null,
       "bottom": null,
       "display": null,
       "flex": null,
       "flex_flow": null,
       "grid_area": null,
       "grid_auto_columns": null,
       "grid_auto_flow": null,
       "grid_auto_rows": null,
       "grid_column": null,
       "grid_gap": null,
       "grid_row": null,
       "grid_template_areas": null,
       "grid_template_columns": null,
       "grid_template_rows": null,
       "height": null,
       "justify_content": null,
       "justify_items": null,
       "left": null,
       "margin": null,
       "max_height": null,
       "max_width": null,
       "min_height": null,
       "min_width": null,
       "object_fit": null,
       "object_position": null,
       "order": null,
       "overflow": null,
       "overflow_x": null,
       "overflow_y": null,
       "padding": null,
       "right": null,
       "top": null,
       "visibility": null,
       "width": null
      }
     },
     "0520c81446eb437495da24508e11c3ea": {
      "model_module": "@jupyter-widgets/base",
      "model_module_version": "1.2.0",
      "model_name": "LayoutModel",
      "state": {
       "_model_module": "@jupyter-widgets/base",
       "_model_module_version": "1.2.0",
       "_model_name": "LayoutModel",
       "_view_count": null,
       "_view_module": "@jupyter-widgets/base",
       "_view_module_version": "1.2.0",
       "_view_name": "LayoutView",
       "align_content": null,
       "align_items": null,
       "align_self": null,
       "border": null,
       "bottom": null,
       "display": null,
       "flex": null,
       "flex_flow": null,
       "grid_area": null,
       "grid_auto_columns": null,
       "grid_auto_flow": null,
       "grid_auto_rows": null,
       "grid_column": null,
       "grid_gap": null,
       "grid_row": null,
       "grid_template_areas": null,
       "grid_template_columns": null,
       "grid_template_rows": null,
       "height": null,
       "justify_content": null,
       "justify_items": null,
       "left": null,
       "margin": null,
       "max_height": null,
       "max_width": null,
       "min_height": null,
       "min_width": null,
       "object_fit": null,
       "object_position": null,
       "order": null,
       "overflow": null,
       "overflow_x": null,
       "overflow_y": null,
       "padding": null,
       "right": null,
       "top": null,
       "visibility": null,
       "width": null
      }
     },
     "06840e7f719f4a98b0581f911dc96abf": {
      "model_module": "@jupyter-widgets/controls",
      "model_module_version": "1.5.0",
      "model_name": "ProgressStyleModel",
      "state": {
       "_model_module": "@jupyter-widgets/controls",
       "_model_module_version": "1.5.0",
       "_model_name": "ProgressStyleModel",
       "_view_count": null,
       "_view_module": "@jupyter-widgets/base",
       "_view_module_version": "1.2.0",
       "_view_name": "StyleView",
       "bar_color": null,
       "description_width": ""
      }
     },
     "079e50bf1688445190f6c38774cc2712": {
      "model_module": "@jupyter-widgets/controls",
      "model_module_version": "1.5.0",
      "model_name": "DescriptionStyleModel",
      "state": {
       "_model_module": "@jupyter-widgets/controls",
       "_model_module_version": "1.5.0",
       "_model_name": "DescriptionStyleModel",
       "_view_count": null,
       "_view_module": "@jupyter-widgets/base",
       "_view_module_version": "1.2.0",
       "_view_name": "StyleView",
       "description_width": ""
      }
     },
     "0a96946afb564dd7b56978b4884b1e14": {
      "model_module": "@jupyter-widgets/base",
      "model_module_version": "1.2.0",
      "model_name": "LayoutModel",
      "state": {
       "_model_module": "@jupyter-widgets/base",
       "_model_module_version": "1.2.0",
       "_model_name": "LayoutModel",
       "_view_count": null,
       "_view_module": "@jupyter-widgets/base",
       "_view_module_version": "1.2.0",
       "_view_name": "LayoutView",
       "align_content": null,
       "align_items": null,
       "align_self": null,
       "border": null,
       "bottom": null,
       "display": null,
       "flex": null,
       "flex_flow": null,
       "grid_area": null,
       "grid_auto_columns": null,
       "grid_auto_flow": null,
       "grid_auto_rows": null,
       "grid_column": null,
       "grid_gap": null,
       "grid_row": null,
       "grid_template_areas": null,
       "grid_template_columns": null,
       "grid_template_rows": null,
       "height": null,
       "justify_content": null,
       "justify_items": null,
       "left": null,
       "margin": null,
       "max_height": null,
       "max_width": null,
       "min_height": null,
       "min_width": null,
       "object_fit": null,
       "object_position": null,
       "order": null,
       "overflow": null,
       "overflow_x": null,
       "overflow_y": null,
       "padding": null,
       "right": null,
       "top": null,
       "visibility": null,
       "width": null
      }
     },
     "0ac8275fc229400d8715b7516fe3d8f0": {
      "model_module": "@jupyter-widgets/base",
      "model_module_version": "1.2.0",
      "model_name": "LayoutModel",
      "state": {
       "_model_module": "@jupyter-widgets/base",
       "_model_module_version": "1.2.0",
       "_model_name": "LayoutModel",
       "_view_count": null,
       "_view_module": "@jupyter-widgets/base",
       "_view_module_version": "1.2.0",
       "_view_name": "LayoutView",
       "align_content": null,
       "align_items": null,
       "align_self": null,
       "border": null,
       "bottom": null,
       "display": null,
       "flex": null,
       "flex_flow": null,
       "grid_area": null,
       "grid_auto_columns": null,
       "grid_auto_flow": null,
       "grid_auto_rows": null,
       "grid_column": null,
       "grid_gap": null,
       "grid_row": null,
       "grid_template_areas": null,
       "grid_template_columns": null,
       "grid_template_rows": null,
       "height": null,
       "justify_content": null,
       "justify_items": null,
       "left": null,
       "margin": null,
       "max_height": null,
       "max_width": null,
       "min_height": null,
       "min_width": null,
       "object_fit": null,
       "object_position": null,
       "order": null,
       "overflow": null,
       "overflow_x": null,
       "overflow_y": null,
       "padding": null,
       "right": null,
       "top": null,
       "visibility": null,
       "width": null
      }
     },
     "0c1f9c1837cd405d8952db53e65d7db3": {
      "model_module": "@jupyter-widgets/controls",
      "model_module_version": "1.5.0",
      "model_name": "HTMLModel",
      "state": {
       "_dom_classes": [],
       "_model_module": "@jupyter-widgets/controls",
       "_model_module_version": "1.5.0",
       "_model_name": "HTMLModel",
       "_view_count": null,
       "_view_module": "@jupyter-widgets/controls",
       "_view_module_version": "1.5.0",
       "_view_name": "HTMLView",
       "description": "",
       "description_tooltip": null,
       "layout": "IPY_MODEL_536e3b2af1b343e9a7400ce0fd9df61d",
       "placeholder": "​",
       "style": "IPY_MODEL_48cfd12a81f54ba7ae339edb823a8833",
       "value": "100%"
      }
     },
     "0cb6c1c38ff745eebbeb0f3051218056": {
      "model_module": "@jupyter-widgets/base",
      "model_module_version": "1.2.0",
      "model_name": "LayoutModel",
      "state": {
       "_model_module": "@jupyter-widgets/base",
       "_model_module_version": "1.2.0",
       "_model_name": "LayoutModel",
       "_view_count": null,
       "_view_module": "@jupyter-widgets/base",
       "_view_module_version": "1.2.0",
       "_view_name": "LayoutView",
       "align_content": null,
       "align_items": null,
       "align_self": null,
       "border": null,
       "bottom": null,
       "display": null,
       "flex": null,
       "flex_flow": null,
       "grid_area": null,
       "grid_auto_columns": null,
       "grid_auto_flow": null,
       "grid_auto_rows": null,
       "grid_column": null,
       "grid_gap": null,
       "grid_row": null,
       "grid_template_areas": null,
       "grid_template_columns": null,
       "grid_template_rows": null,
       "height": null,
       "justify_content": null,
       "justify_items": null,
       "left": null,
       "margin": null,
       "max_height": null,
       "max_width": null,
       "min_height": null,
       "min_width": null,
       "object_fit": null,
       "object_position": null,
       "order": null,
       "overflow": null,
       "overflow_x": null,
       "overflow_y": null,
       "padding": null,
       "right": null,
       "top": null,
       "visibility": null,
       "width": null
      }
     },
     "0ddb02f590e44ce7961605c1593cdbfc": {
      "model_module": "@jupyter-widgets/base",
      "model_module_version": "1.2.0",
      "model_name": "LayoutModel",
      "state": {
       "_model_module": "@jupyter-widgets/base",
       "_model_module_version": "1.2.0",
       "_model_name": "LayoutModel",
       "_view_count": null,
       "_view_module": "@jupyter-widgets/base",
       "_view_module_version": "1.2.0",
       "_view_name": "LayoutView",
       "align_content": null,
       "align_items": null,
       "align_self": null,
       "border": null,
       "bottom": null,
       "display": null,
       "flex": null,
       "flex_flow": null,
       "grid_area": null,
       "grid_auto_columns": null,
       "grid_auto_flow": null,
       "grid_auto_rows": null,
       "grid_column": null,
       "grid_gap": null,
       "grid_row": null,
       "grid_template_areas": null,
       "grid_template_columns": null,
       "grid_template_rows": null,
       "height": null,
       "justify_content": null,
       "justify_items": null,
       "left": null,
       "margin": null,
       "max_height": null,
       "max_width": null,
       "min_height": null,
       "min_width": null,
       "object_fit": null,
       "object_position": null,
       "order": null,
       "overflow": null,
       "overflow_x": null,
       "overflow_y": null,
       "padding": null,
       "right": null,
       "top": null,
       "visibility": null,
       "width": null
      }
     },
     "0e4b08f7af334ea593606d3ea120b881": {
      "model_module": "@jupyter-widgets/controls",
      "model_module_version": "1.5.0",
      "model_name": "HTMLModel",
      "state": {
       "_dom_classes": [],
       "_model_module": "@jupyter-widgets/controls",
       "_model_module_version": "1.5.0",
       "_model_name": "HTMLModel",
       "_view_count": null,
       "_view_module": "@jupyter-widgets/controls",
       "_view_module_version": "1.5.0",
       "_view_name": "HTMLView",
       "description": "",
       "description_tooltip": null,
       "layout": "IPY_MODEL_aa6c4b10a4714b70b233cb77ccc13977",
       "placeholder": "​",
       "style": "IPY_MODEL_7949b787f718467b93a93aea253804da",
       "value": "  0%"
      }
     },
     "121d44d7c2be48a8b3b4d923bd924f11": {
      "model_module": "@jupyter-widgets/controls",
      "model_module_version": "1.5.0",
      "model_name": "DescriptionStyleModel",
      "state": {
       "_model_module": "@jupyter-widgets/controls",
       "_model_module_version": "1.5.0",
       "_model_name": "DescriptionStyleModel",
       "_view_count": null,
       "_view_module": "@jupyter-widgets/base",
       "_view_module_version": "1.2.0",
       "_view_name": "StyleView",
       "description_width": ""
      }
     },
     "18a4386112ba4d0dab300683ab37087d": {
      "model_module": "@jupyter-widgets/controls",
      "model_module_version": "1.5.0",
      "model_name": "DescriptionStyleModel",
      "state": {
       "_model_module": "@jupyter-widgets/controls",
       "_model_module_version": "1.5.0",
       "_model_name": "DescriptionStyleModel",
       "_view_count": null,
       "_view_module": "@jupyter-widgets/base",
       "_view_module_version": "1.2.0",
       "_view_name": "StyleView",
       "description_width": ""
      }
     },
     "18b922543a584a36ac01d6901fb3dddb": {
      "model_module": "@jupyter-widgets/controls",
      "model_module_version": "1.5.0",
      "model_name": "ProgressStyleModel",
      "state": {
       "_model_module": "@jupyter-widgets/controls",
       "_model_module_version": "1.5.0",
       "_model_name": "ProgressStyleModel",
       "_view_count": null,
       "_view_module": "@jupyter-widgets/base",
       "_view_module_version": "1.2.0",
       "_view_name": "StyleView",
       "bar_color": null,
       "description_width": ""
      }
     },
     "1b0f1b7d68b649a2baa58621913770fd": {
      "model_module": "@jupyter-widgets/base",
      "model_module_version": "1.2.0",
      "model_name": "LayoutModel",
      "state": {
       "_model_module": "@jupyter-widgets/base",
       "_model_module_version": "1.2.0",
       "_model_name": "LayoutModel",
       "_view_count": null,
       "_view_module": "@jupyter-widgets/base",
       "_view_module_version": "1.2.0",
       "_view_name": "LayoutView",
       "align_content": null,
       "align_items": null,
       "align_self": null,
       "border": null,
       "bottom": null,
       "display": null,
       "flex": null,
       "flex_flow": null,
       "grid_area": null,
       "grid_auto_columns": null,
       "grid_auto_flow": null,
       "grid_auto_rows": null,
       "grid_column": null,
       "grid_gap": null,
       "grid_row": null,
       "grid_template_areas": null,
       "grid_template_columns": null,
       "grid_template_rows": null,
       "height": null,
       "justify_content": null,
       "justify_items": null,
       "left": null,
       "margin": null,
       "max_height": null,
       "max_width": null,
       "min_height": null,
       "min_width": null,
       "object_fit": null,
       "object_position": null,
       "order": null,
       "overflow": null,
       "overflow_x": null,
       "overflow_y": null,
       "padding": null,
       "right": null,
       "top": null,
       "visibility": null,
       "width": null
      }
     },
     "1b160ff9f641441fbbf5c8a8cc7d9ad7": {
      "model_module": "@jupyter-widgets/base",
      "model_module_version": "1.2.0",
      "model_name": "LayoutModel",
      "state": {
       "_model_module": "@jupyter-widgets/base",
       "_model_module_version": "1.2.0",
       "_model_name": "LayoutModel",
       "_view_count": null,
       "_view_module": "@jupyter-widgets/base",
       "_view_module_version": "1.2.0",
       "_view_name": "LayoutView",
       "align_content": null,
       "align_items": null,
       "align_self": null,
       "border": null,
       "bottom": null,
       "display": null,
       "flex": null,
       "flex_flow": null,
       "grid_area": null,
       "grid_auto_columns": null,
       "grid_auto_flow": null,
       "grid_auto_rows": null,
       "grid_column": null,
       "grid_gap": null,
       "grid_row": null,
       "grid_template_areas": null,
       "grid_template_columns": null,
       "grid_template_rows": null,
       "height": null,
       "justify_content": null,
       "justify_items": null,
       "left": null,
       "margin": null,
       "max_height": null,
       "max_width": null,
       "min_height": null,
       "min_width": null,
       "object_fit": null,
       "object_position": null,
       "order": null,
       "overflow": null,
       "overflow_x": null,
       "overflow_y": null,
       "padding": null,
       "right": null,
       "top": null,
       "visibility": null,
       "width": "20px"
      }
     },
     "1b8d8b7df1fd48d29fb559a46623dde6": {
      "model_module": "@jupyter-widgets/controls",
      "model_module_version": "1.5.0",
      "model_name": "ProgressStyleModel",
      "state": {
       "_model_module": "@jupyter-widgets/controls",
       "_model_module_version": "1.5.0",
       "_model_name": "ProgressStyleModel",
       "_view_count": null,
       "_view_module": "@jupyter-widgets/base",
       "_view_module_version": "1.2.0",
       "_view_name": "StyleView",
       "bar_color": null,
       "description_width": ""
      }
     },
     "1cad2870e38843a39a1c377cfeabfb63": {
      "model_module": "@jupyter-widgets/controls",
      "model_module_version": "1.5.0",
      "model_name": "ProgressStyleModel",
      "state": {
       "_model_module": "@jupyter-widgets/controls",
       "_model_module_version": "1.5.0",
       "_model_name": "ProgressStyleModel",
       "_view_count": null,
       "_view_module": "@jupyter-widgets/base",
       "_view_module_version": "1.2.0",
       "_view_name": "StyleView",
       "bar_color": null,
       "description_width": ""
      }
     },
     "1d43dd9dc7564c54999763b324d2d20e": {
      "model_module": "@jupyter-widgets/controls",
      "model_module_version": "1.5.0",
      "model_name": "HTMLModel",
      "state": {
       "_dom_classes": [],
       "_model_module": "@jupyter-widgets/controls",
       "_model_module_version": "1.5.0",
       "_model_name": "HTMLModel",
       "_view_count": null,
       "_view_module": "@jupyter-widgets/controls",
       "_view_module_version": "1.5.0",
       "_view_name": "HTMLView",
       "description": "",
       "description_tooltip": null,
       "layout": "IPY_MODEL_9ac9c5f15c81443cbbed33ed496f0e60",
       "placeholder": "​",
       "style": "IPY_MODEL_18a4386112ba4d0dab300683ab37087d",
       "value": " 0/5876 [00:00&lt;?, ?it/s]"
      }
     },
     "1f1bdc85f5874d0cb16a1f721a588968": {
      "model_module": "@jupyter-widgets/controls",
      "model_module_version": "1.5.0",
      "model_name": "DescriptionStyleModel",
      "state": {
       "_model_module": "@jupyter-widgets/controls",
       "_model_module_version": "1.5.0",
       "_model_name": "DescriptionStyleModel",
       "_view_count": null,
       "_view_module": "@jupyter-widgets/base",
       "_view_module_version": "1.2.0",
       "_view_name": "StyleView",
       "description_width": ""
      }
     },
     "2059e44d5cef44d28d016a04ed6e922d": {
      "model_module": "@jupyter-widgets/controls",
      "model_module_version": "1.5.0",
      "model_name": "DescriptionStyleModel",
      "state": {
       "_model_module": "@jupyter-widgets/controls",
       "_model_module_version": "1.5.0",
       "_model_name": "DescriptionStyleModel",
       "_view_count": null,
       "_view_module": "@jupyter-widgets/base",
       "_view_module_version": "1.2.0",
       "_view_name": "StyleView",
       "description_width": ""
      }
     },
     "22b1d7dc5d7341e2aa1db03b5d3847d3": {
      "model_module": "@jupyter-widgets/base",
      "model_module_version": "1.2.0",
      "model_name": "LayoutModel",
      "state": {
       "_model_module": "@jupyter-widgets/base",
       "_model_module_version": "1.2.0",
       "_model_name": "LayoutModel",
       "_view_count": null,
       "_view_module": "@jupyter-widgets/base",
       "_view_module_version": "1.2.0",
       "_view_name": "LayoutView",
       "align_content": null,
       "align_items": null,
       "align_self": null,
       "border": null,
       "bottom": null,
       "display": null,
       "flex": null,
       "flex_flow": null,
       "grid_area": null,
       "grid_auto_columns": null,
       "grid_auto_flow": null,
       "grid_auto_rows": null,
       "grid_column": null,
       "grid_gap": null,
       "grid_row": null,
       "grid_template_areas": null,
       "grid_template_columns": null,
       "grid_template_rows": null,
       "height": null,
       "justify_content": null,
       "justify_items": null,
       "left": null,
       "margin": null,
       "max_height": null,
       "max_width": null,
       "min_height": null,
       "min_width": null,
       "object_fit": null,
       "object_position": null,
       "order": null,
       "overflow": null,
       "overflow_x": null,
       "overflow_y": null,
       "padding": null,
       "right": null,
       "top": null,
       "visibility": null,
       "width": null
      }
     },
     "2372dedd174243999c819f5a85128311": {
      "model_module": "@jupyter-widgets/controls",
      "model_module_version": "1.5.0",
      "model_name": "HBoxModel",
      "state": {
       "_dom_classes": [],
       "_model_module": "@jupyter-widgets/controls",
       "_model_module_version": "1.5.0",
       "_model_name": "HBoxModel",
       "_view_count": null,
       "_view_module": "@jupyter-widgets/controls",
       "_view_module_version": "1.5.0",
       "_view_name": "HBoxView",
       "box_style": "",
       "children": [
        "IPY_MODEL_4b3792c3e17746af8d05fe9741007659",
        "IPY_MODEL_7366adeea4764424a7c72180790e93c1",
        "IPY_MODEL_29a5f197dfc04642bddd680b132e7f2e"
       ],
       "layout": "IPY_MODEL_dbffa118c0c545f6b5dcdd250dacd5b0"
      }
     },
     "23ba011c1d924f9bb1036e0252f3fb32": {
      "model_module": "@jupyter-widgets/controls",
      "model_module_version": "1.5.0",
      "model_name": "ProgressStyleModel",
      "state": {
       "_model_module": "@jupyter-widgets/controls",
       "_model_module_version": "1.5.0",
       "_model_name": "ProgressStyleModel",
       "_view_count": null,
       "_view_module": "@jupyter-widgets/base",
       "_view_module_version": "1.2.0",
       "_view_name": "StyleView",
       "bar_color": null,
       "description_width": ""
      }
     },
     "249eb44994c54da397b806986251b17f": {
      "model_module": "@jupyter-widgets/base",
      "model_module_version": "1.2.0",
      "model_name": "LayoutModel",
      "state": {
       "_model_module": "@jupyter-widgets/base",
       "_model_module_version": "1.2.0",
       "_model_name": "LayoutModel",
       "_view_count": null,
       "_view_module": "@jupyter-widgets/base",
       "_view_module_version": "1.2.0",
       "_view_name": "LayoutView",
       "align_content": null,
       "align_items": null,
       "align_self": null,
       "border": null,
       "bottom": null,
       "display": null,
       "flex": null,
       "flex_flow": null,
       "grid_area": null,
       "grid_auto_columns": null,
       "grid_auto_flow": null,
       "grid_auto_rows": null,
       "grid_column": null,
       "grid_gap": null,
       "grid_row": null,
       "grid_template_areas": null,
       "grid_template_columns": null,
       "grid_template_rows": null,
       "height": null,
       "justify_content": null,
       "justify_items": null,
       "left": null,
       "margin": null,
       "max_height": null,
       "max_width": null,
       "min_height": null,
       "min_width": null,
       "object_fit": null,
       "object_position": null,
       "order": null,
       "overflow": null,
       "overflow_x": null,
       "overflow_y": null,
       "padding": null,
       "right": null,
       "top": null,
       "visibility": null,
       "width": null
      }
     },
     "2804682a5d6e4e8dadc387a348d17eda": {
      "model_module": "@jupyter-widgets/base",
      "model_module_version": "1.2.0",
      "model_name": "LayoutModel",
      "state": {
       "_model_module": "@jupyter-widgets/base",
       "_model_module_version": "1.2.0",
       "_model_name": "LayoutModel",
       "_view_count": null,
       "_view_module": "@jupyter-widgets/base",
       "_view_module_version": "1.2.0",
       "_view_name": "LayoutView",
       "align_content": null,
       "align_items": null,
       "align_self": null,
       "border": null,
       "bottom": null,
       "display": null,
       "flex": null,
       "flex_flow": null,
       "grid_area": null,
       "grid_auto_columns": null,
       "grid_auto_flow": null,
       "grid_auto_rows": null,
       "grid_column": null,
       "grid_gap": null,
       "grid_row": null,
       "grid_template_areas": null,
       "grid_template_columns": null,
       "grid_template_rows": null,
       "height": null,
       "justify_content": null,
       "justify_items": null,
       "left": null,
       "margin": null,
       "max_height": null,
       "max_width": null,
       "min_height": null,
       "min_width": null,
       "object_fit": null,
       "object_position": null,
       "order": null,
       "overflow": null,
       "overflow_x": null,
       "overflow_y": null,
       "padding": null,
       "right": null,
       "top": null,
       "visibility": null,
       "width": null
      }
     },
     "2815345b1bc443a4807a7470fcf641ad": {
      "model_module": "@jupyter-widgets/controls",
      "model_module_version": "1.5.0",
      "model_name": "HBoxModel",
      "state": {
       "_dom_classes": [],
       "_model_module": "@jupyter-widgets/controls",
       "_model_module_version": "1.5.0",
       "_model_name": "HBoxModel",
       "_view_count": null,
       "_view_module": "@jupyter-widgets/controls",
       "_view_module_version": "1.5.0",
       "_view_name": "HBoxView",
       "box_style": "",
       "children": [
        "IPY_MODEL_ff715aac58f3465fbc659ef2aa512ff9",
        "IPY_MODEL_467453cc1c1e4797a2504c90f127df36",
        "IPY_MODEL_c4c0019f3c0b4ef4a8dc0bf57c23238c"
       ],
       "layout": "IPY_MODEL_c95a7f4478d04efa8d9a863333a4f615"
      }
     },
     "28d86d003d9b4536b3e79763ca0b4403": {
      "model_module": "@jupyter-widgets/base",
      "model_module_version": "1.2.0",
      "model_name": "LayoutModel",
      "state": {
       "_model_module": "@jupyter-widgets/base",
       "_model_module_version": "1.2.0",
       "_model_name": "LayoutModel",
       "_view_count": null,
       "_view_module": "@jupyter-widgets/base",
       "_view_module_version": "1.2.0",
       "_view_name": "LayoutView",
       "align_content": null,
       "align_items": null,
       "align_self": null,
       "border": null,
       "bottom": null,
       "display": null,
       "flex": null,
       "flex_flow": null,
       "grid_area": null,
       "grid_auto_columns": null,
       "grid_auto_flow": null,
       "grid_auto_rows": null,
       "grid_column": null,
       "grid_gap": null,
       "grid_row": null,
       "grid_template_areas": null,
       "grid_template_columns": null,
       "grid_template_rows": null,
       "height": null,
       "justify_content": null,
       "justify_items": null,
       "left": null,
       "margin": null,
       "max_height": null,
       "max_width": null,
       "min_height": null,
       "min_width": null,
       "object_fit": null,
       "object_position": null,
       "order": null,
       "overflow": null,
       "overflow_x": null,
       "overflow_y": null,
       "padding": null,
       "right": null,
       "top": null,
       "visibility": null,
       "width": null
      }
     },
     "29a5f197dfc04642bddd680b132e7f2e": {
      "model_module": "@jupyter-widgets/controls",
      "model_module_version": "1.5.0",
      "model_name": "HTMLModel",
      "state": {
       "_dom_classes": [],
       "_model_module": "@jupyter-widgets/controls",
       "_model_module_version": "1.5.0",
       "_model_name": "HTMLModel",
       "_view_count": null,
       "_view_module": "@jupyter-widgets/controls",
       "_view_module_version": "1.5.0",
       "_view_name": "HTMLView",
       "description": "",
       "description_tooltip": null,
       "layout": "IPY_MODEL_0ddb02f590e44ce7961605c1593cdbfc",
       "placeholder": "​",
       "style": "IPY_MODEL_5133bb481aa44f6b8a3775f2fe0010ef",
       "value": " 5876/5876 [26:46&lt;00:00,  3.81it/s]"
      }
     },
     "29b39736a5784990af1ef599640b7367": {
      "model_module": "@jupyter-widgets/base",
      "model_module_version": "1.2.0",
      "model_name": "LayoutModel",
      "state": {
       "_model_module": "@jupyter-widgets/base",
       "_model_module_version": "1.2.0",
       "_model_name": "LayoutModel",
       "_view_count": null,
       "_view_module": "@jupyter-widgets/base",
       "_view_module_version": "1.2.0",
       "_view_name": "LayoutView",
       "align_content": null,
       "align_items": null,
       "align_self": null,
       "border": null,
       "bottom": null,
       "display": null,
       "flex": null,
       "flex_flow": null,
       "grid_area": null,
       "grid_auto_columns": null,
       "grid_auto_flow": null,
       "grid_auto_rows": null,
       "grid_column": null,
       "grid_gap": null,
       "grid_row": null,
       "grid_template_areas": null,
       "grid_template_columns": null,
       "grid_template_rows": null,
       "height": null,
       "justify_content": null,
       "justify_items": null,
       "left": null,
       "margin": null,
       "max_height": null,
       "max_width": null,
       "min_height": null,
       "min_width": null,
       "object_fit": null,
       "object_position": null,
       "order": null,
       "overflow": null,
       "overflow_x": null,
       "overflow_y": null,
       "padding": null,
       "right": null,
       "top": null,
       "visibility": null,
       "width": null
      }
     },
     "2a6b0dd9d9284d5e9ec4106aa4cc77a1": {
      "model_module": "@jupyter-widgets/controls",
      "model_module_version": "1.5.0",
      "model_name": "FloatProgressModel",
      "state": {
       "_dom_classes": [],
       "_model_module": "@jupyter-widgets/controls",
       "_model_module_version": "1.5.0",
       "_model_name": "FloatProgressModel",
       "_view_count": null,
       "_view_module": "@jupyter-widgets/controls",
       "_view_module_version": "1.5.0",
       "_view_name": "ProgressView",
       "bar_style": "success",
       "description": "",
       "description_tooltip": null,
       "layout": "IPY_MODEL_350156b38628409b9bb48d374b6a93cf",
       "max": 5876,
       "min": 0,
       "orientation": "horizontal",
       "style": "IPY_MODEL_046c4d1065d045d8ae63bc742daf5899",
       "value": 5876
      }
     },
     "2ce38acf5ffe400a996f0f813087b165": {
      "model_module": "@jupyter-widgets/controls",
      "model_module_version": "1.5.0",
      "model_name": "HBoxModel",
      "state": {
       "_dom_classes": [],
       "_model_module": "@jupyter-widgets/controls",
       "_model_module_version": "1.5.0",
       "_model_name": "HBoxModel",
       "_view_count": null,
       "_view_module": "@jupyter-widgets/controls",
       "_view_module_version": "1.5.0",
       "_view_name": "HBoxView",
       "box_style": "",
       "children": [
        "IPY_MODEL_359794abf0c34915b34fa236602ba239",
        "IPY_MODEL_877ed2ea3e0444fc97e7099777137170",
        "IPY_MODEL_7c0789142a54422095c1523c6e0a795f"
       ],
       "layout": "IPY_MODEL_d49ffd3cbf634fb982bd2d689b22ad55"
      }
     },
     "2cf5bc2d0fcf4f9596ba00e7e0930c92": {
      "model_module": "@jupyter-widgets/base",
      "model_module_version": "1.2.0",
      "model_name": "LayoutModel",
      "state": {
       "_model_module": "@jupyter-widgets/base",
       "_model_module_version": "1.2.0",
       "_model_name": "LayoutModel",
       "_view_count": null,
       "_view_module": "@jupyter-widgets/base",
       "_view_module_version": "1.2.0",
       "_view_name": "LayoutView",
       "align_content": null,
       "align_items": null,
       "align_self": null,
       "border": null,
       "bottom": null,
       "display": null,
       "flex": null,
       "flex_flow": null,
       "grid_area": null,
       "grid_auto_columns": null,
       "grid_auto_flow": null,
       "grid_auto_rows": null,
       "grid_column": null,
       "grid_gap": null,
       "grid_row": null,
       "grid_template_areas": null,
       "grid_template_columns": null,
       "grid_template_rows": null,
       "height": null,
       "justify_content": null,
       "justify_items": null,
       "left": null,
       "margin": null,
       "max_height": null,
       "max_width": null,
       "min_height": null,
       "min_width": null,
       "object_fit": null,
       "object_position": null,
       "order": null,
       "overflow": null,
       "overflow_x": null,
       "overflow_y": null,
       "padding": null,
       "right": null,
       "top": null,
       "visibility": null,
       "width": null
      }
     },
     "2d5b5b4273604dad916cb3694ef11fda": {
      "model_module": "@jupyter-widgets/controls",
      "model_module_version": "1.5.0",
      "model_name": "FloatProgressModel",
      "state": {
       "_dom_classes": [],
       "_model_module": "@jupyter-widgets/controls",
       "_model_module_version": "1.5.0",
       "_model_name": "FloatProgressModel",
       "_view_count": null,
       "_view_module": "@jupyter-widgets/controls",
       "_view_module_version": "1.5.0",
       "_view_name": "ProgressView",
       "bar_style": "success",
       "description": "",
       "description_tooltip": null,
       "layout": "IPY_MODEL_1b160ff9f641441fbbf5c8a8cc7d9ad7",
       "max": 1,
       "min": 0,
       "orientation": "horizontal",
       "style": "IPY_MODEL_1cad2870e38843a39a1c377cfeabfb63",
       "value": 1
      }
     },
     "2d94697d69744523ba265f0aae8e2dbe": {
      "model_module": "@jupyter-widgets/controls",
      "model_module_version": "1.5.0",
      "model_name": "ProgressStyleModel",
      "state": {
       "_model_module": "@jupyter-widgets/controls",
       "_model_module_version": "1.5.0",
       "_model_name": "ProgressStyleModel",
       "_view_count": null,
       "_view_module": "@jupyter-widgets/base",
       "_view_module_version": "1.2.0",
       "_view_name": "StyleView",
       "bar_color": null,
       "description_width": ""
      }
     },
     "32b1347321af46338ee6a472395894f4": {
      "model_module": "@jupyter-widgets/base",
      "model_module_version": "1.2.0",
      "model_name": "LayoutModel",
      "state": {
       "_model_module": "@jupyter-widgets/base",
       "_model_module_version": "1.2.0",
       "_model_name": "LayoutModel",
       "_view_count": null,
       "_view_module": "@jupyter-widgets/base",
       "_view_module_version": "1.2.0",
       "_view_name": "LayoutView",
       "align_content": null,
       "align_items": null,
       "align_self": null,
       "border": null,
       "bottom": null,
       "display": null,
       "flex": null,
       "flex_flow": null,
       "grid_area": null,
       "grid_auto_columns": null,
       "grid_auto_flow": null,
       "grid_auto_rows": null,
       "grid_column": null,
       "grid_gap": null,
       "grid_row": null,
       "grid_template_areas": null,
       "grid_template_columns": null,
       "grid_template_rows": null,
       "height": null,
       "justify_content": null,
       "justify_items": null,
       "left": null,
       "margin": null,
       "max_height": null,
       "max_width": null,
       "min_height": null,
       "min_width": null,
       "object_fit": null,
       "object_position": null,
       "order": null,
       "overflow": null,
       "overflow_x": null,
       "overflow_y": null,
       "padding": null,
       "right": null,
       "top": null,
       "visibility": null,
       "width": null
      }
     },
     "32bc1b931eb5462ea88011f87a7db1aa": {
      "model_module": "@jupyter-widgets/base",
      "model_module_version": "1.2.0",
      "model_name": "LayoutModel",
      "state": {
       "_model_module": "@jupyter-widgets/base",
       "_model_module_version": "1.2.0",
       "_model_name": "LayoutModel",
       "_view_count": null,
       "_view_module": "@jupyter-widgets/base",
       "_view_module_version": "1.2.0",
       "_view_name": "LayoutView",
       "align_content": null,
       "align_items": null,
       "align_self": null,
       "border": null,
       "bottom": null,
       "display": null,
       "flex": null,
       "flex_flow": null,
       "grid_area": null,
       "grid_auto_columns": null,
       "grid_auto_flow": null,
       "grid_auto_rows": null,
       "grid_column": null,
       "grid_gap": null,
       "grid_row": null,
       "grid_template_areas": null,
       "grid_template_columns": null,
       "grid_template_rows": null,
       "height": null,
       "justify_content": null,
       "justify_items": null,
       "left": null,
       "margin": null,
       "max_height": null,
       "max_width": null,
       "min_height": null,
       "min_width": null,
       "object_fit": null,
       "object_position": null,
       "order": null,
       "overflow": null,
       "overflow_x": null,
       "overflow_y": null,
       "padding": null,
       "right": null,
       "top": null,
       "visibility": null,
       "width": null
      }
     },
     "33f148e37edd4f35a0531e2dd887724a": {
      "model_module": "@jupyter-widgets/controls",
      "model_module_version": "1.5.0",
      "model_name": "DescriptionStyleModel",
      "state": {
       "_model_module": "@jupyter-widgets/controls",
       "_model_module_version": "1.5.0",
       "_model_name": "DescriptionStyleModel",
       "_view_count": null,
       "_view_module": "@jupyter-widgets/base",
       "_view_module_version": "1.2.0",
       "_view_name": "StyleView",
       "description_width": ""
      }
     },
     "350156b38628409b9bb48d374b6a93cf": {
      "model_module": "@jupyter-widgets/base",
      "model_module_version": "1.2.0",
      "model_name": "LayoutModel",
      "state": {
       "_model_module": "@jupyter-widgets/base",
       "_model_module_version": "1.2.0",
       "_model_name": "LayoutModel",
       "_view_count": null,
       "_view_module": "@jupyter-widgets/base",
       "_view_module_version": "1.2.0",
       "_view_name": "LayoutView",
       "align_content": null,
       "align_items": null,
       "align_self": null,
       "border": null,
       "bottom": null,
       "display": null,
       "flex": null,
       "flex_flow": null,
       "grid_area": null,
       "grid_auto_columns": null,
       "grid_auto_flow": null,
       "grid_auto_rows": null,
       "grid_column": null,
       "grid_gap": null,
       "grid_row": null,
       "grid_template_areas": null,
       "grid_template_columns": null,
       "grid_template_rows": null,
       "height": null,
       "justify_content": null,
       "justify_items": null,
       "left": null,
       "margin": null,
       "max_height": null,
       "max_width": null,
       "min_height": null,
       "min_width": null,
       "object_fit": null,
       "object_position": null,
       "order": null,
       "overflow": null,
       "overflow_x": null,
       "overflow_y": null,
       "padding": null,
       "right": null,
       "top": null,
       "visibility": null,
       "width": null
      }
     },
     "359794abf0c34915b34fa236602ba239": {
      "model_module": "@jupyter-widgets/controls",
      "model_module_version": "1.5.0",
      "model_name": "HTMLModel",
      "state": {
       "_dom_classes": [],
       "_model_module": "@jupyter-widgets/controls",
       "_model_module_version": "1.5.0",
       "_model_name": "HTMLModel",
       "_view_count": null,
       "_view_module": "@jupyter-widgets/controls",
       "_view_module_version": "1.5.0",
       "_view_name": "HTMLView",
       "description": "",
       "description_tooltip": null,
       "layout": "IPY_MODEL_7c5e9a16cb9b4ccbb6ac588d5fa2f2bd",
       "placeholder": "​",
       "style": "IPY_MODEL_a33933362a7d41de9c111ce6c82b5731",
       "value": "100%"
      }
     },
     "364805aeffbe4f6f8fbead83a73cc4c1": {
      "model_module": "@jupyter-widgets/controls",
      "model_module_version": "1.5.0",
      "model_name": "HBoxModel",
      "state": {
       "_dom_classes": [],
       "_model_module": "@jupyter-widgets/controls",
       "_model_module_version": "1.5.0",
       "_model_name": "HBoxModel",
       "_view_count": null,
       "_view_module": "@jupyter-widgets/controls",
       "_view_module_version": "1.5.0",
       "_view_name": "HBoxView",
       "box_style": "",
       "children": [
        "IPY_MODEL_6380d62276b04746ace47b6513b4166d",
        "IPY_MODEL_5c72e64566ec46daa3ef5a1b7f3bc050",
        "IPY_MODEL_d347fcf6e5c44cbeaf4f7a6c5e640302"
       ],
       "layout": "IPY_MODEL_29b39736a5784990af1ef599640b7367"
      }
     },
     "3673467aef1a42ab9e2f94d136c624cd": {
      "model_module": "@jupyter-widgets/controls",
      "model_module_version": "1.5.0",
      "model_name": "FloatProgressModel",
      "state": {
       "_dom_classes": [],
       "_model_module": "@jupyter-widgets/controls",
       "_model_module_version": "1.5.0",
       "_model_name": "FloatProgressModel",
       "_view_count": null,
       "_view_module": "@jupyter-widgets/controls",
       "_view_module_version": "1.5.0",
       "_view_name": "ProgressView",
       "bar_style": "success",
       "description": "",
       "description_tooltip": null,
       "layout": "IPY_MODEL_e53cc47face54465a7eec614b3230169",
       "max": 5876,
       "min": 0,
       "orientation": "horizontal",
       "style": "IPY_MODEL_b91f57fdc6ae4639ac29fd0c3a2befa5",
       "value": 5876
      }
     },
     "38471ff5472f45cf97f4762e1179eef9": {
      "model_module": "@jupyter-widgets/controls",
      "model_module_version": "1.5.0",
      "model_name": "DescriptionStyleModel",
      "state": {
       "_model_module": "@jupyter-widgets/controls",
       "_model_module_version": "1.5.0",
       "_model_name": "DescriptionStyleModel",
       "_view_count": null,
       "_view_module": "@jupyter-widgets/base",
       "_view_module_version": "1.2.0",
       "_view_name": "StyleView",
       "description_width": ""
      }
     },
     "38d5c6d0dfb745f793a3956099823bb8": {
      "model_module": "@jupyter-widgets/base",
      "model_module_version": "1.2.0",
      "model_name": "LayoutModel",
      "state": {
       "_model_module": "@jupyter-widgets/base",
       "_model_module_version": "1.2.0",
       "_model_name": "LayoutModel",
       "_view_count": null,
       "_view_module": "@jupyter-widgets/base",
       "_view_module_version": "1.2.0",
       "_view_name": "LayoutView",
       "align_content": null,
       "align_items": null,
       "align_self": null,
       "border": null,
       "bottom": null,
       "display": null,
       "flex": null,
       "flex_flow": null,
       "grid_area": null,
       "grid_auto_columns": null,
       "grid_auto_flow": null,
       "grid_auto_rows": null,
       "grid_column": null,
       "grid_gap": null,
       "grid_row": null,
       "grid_template_areas": null,
       "grid_template_columns": null,
       "grid_template_rows": null,
       "height": null,
       "justify_content": null,
       "justify_items": null,
       "left": null,
       "margin": null,
       "max_height": null,
       "max_width": null,
       "min_height": null,
       "min_width": null,
       "object_fit": null,
       "object_position": null,
       "order": null,
       "overflow": null,
       "overflow_x": null,
       "overflow_y": null,
       "padding": null,
       "right": null,
       "top": null,
       "visibility": null,
       "width": null
      }
     },
     "3925cf758a3a4d3bb43fd2fd393bec8d": {
      "model_module": "@jupyter-widgets/controls",
      "model_module_version": "1.5.0",
      "model_name": "HBoxModel",
      "state": {
       "_dom_classes": [],
       "_model_module": "@jupyter-widgets/controls",
       "_model_module_version": "1.5.0",
       "_model_name": "HBoxModel",
       "_view_count": null,
       "_view_module": "@jupyter-widgets/controls",
       "_view_module_version": "1.5.0",
       "_view_name": "HBoxView",
       "box_style": "",
       "children": [
        "IPY_MODEL_4bee508a59cf41de9c1d617774bc28bf",
        "IPY_MODEL_7e276e4aa44448279a2789280d20d583",
        "IPY_MODEL_720b25c0da4742d583fa84b5c6dae597"
       ],
       "layout": "IPY_MODEL_7309fbac40ca4cccbb30cb93ca5a5cd0"
      }
     },
     "3a701184aa884bfc9e1377102e82d4fc": {
      "model_module": "@jupyter-widgets/controls",
      "model_module_version": "1.5.0",
      "model_name": "DescriptionStyleModel",
      "state": {
       "_model_module": "@jupyter-widgets/controls",
       "_model_module_version": "1.5.0",
       "_model_name": "DescriptionStyleModel",
       "_view_count": null,
       "_view_module": "@jupyter-widgets/base",
       "_view_module_version": "1.2.0",
       "_view_name": "StyleView",
       "description_width": ""
      }
     },
     "3b0646012e384719b12de794ae3f0e94": {
      "model_module": "@jupyter-widgets/base",
      "model_module_version": "1.2.0",
      "model_name": "LayoutModel",
      "state": {
       "_model_module": "@jupyter-widgets/base",
       "_model_module_version": "1.2.0",
       "_model_name": "LayoutModel",
       "_view_count": null,
       "_view_module": "@jupyter-widgets/base",
       "_view_module_version": "1.2.0",
       "_view_name": "LayoutView",
       "align_content": null,
       "align_items": null,
       "align_self": null,
       "border": null,
       "bottom": null,
       "display": null,
       "flex": null,
       "flex_flow": null,
       "grid_area": null,
       "grid_auto_columns": null,
       "grid_auto_flow": null,
       "grid_auto_rows": null,
       "grid_column": null,
       "grid_gap": null,
       "grid_row": null,
       "grid_template_areas": null,
       "grid_template_columns": null,
       "grid_template_rows": null,
       "height": null,
       "justify_content": null,
       "justify_items": null,
       "left": null,
       "margin": null,
       "max_height": null,
       "max_width": null,
       "min_height": null,
       "min_width": null,
       "object_fit": null,
       "object_position": null,
       "order": null,
       "overflow": null,
       "overflow_x": null,
       "overflow_y": null,
       "padding": null,
       "right": null,
       "top": null,
       "visibility": null,
       "width": null
      }
     },
     "3d6b9d257d53407698636ae439bc1455": {
      "model_module": "@jupyter-widgets/controls",
      "model_module_version": "1.5.0",
      "model_name": "FloatProgressModel",
      "state": {
       "_dom_classes": [],
       "_model_module": "@jupyter-widgets/controls",
       "_model_module_version": "1.5.0",
       "_model_name": "FloatProgressModel",
       "_view_count": null,
       "_view_module": "@jupyter-widgets/controls",
       "_view_module_version": "1.5.0",
       "_view_name": "ProgressView",
       "bar_style": "success",
       "description": "",
       "description_tooltip": null,
       "layout": "IPY_MODEL_03e29f77e80541548c296c56c6a7ed2c",
       "max": 714355318,
       "min": 0,
       "orientation": "horizontal",
       "style": "IPY_MODEL_f9e6d6fba1e047ca8ef9bc65d6624f89",
       "value": 714355318
      }
     },
     "4045229fb9064c339d02e900f90e5837": {
      "model_module": "@jupyter-widgets/controls",
      "model_module_version": "1.5.0",
      "model_name": "DescriptionStyleModel",
      "state": {
       "_model_module": "@jupyter-widgets/controls",
       "_model_module_version": "1.5.0",
       "_model_name": "DescriptionStyleModel",
       "_view_count": null,
       "_view_module": "@jupyter-widgets/base",
       "_view_module_version": "1.2.0",
       "_view_name": "StyleView",
       "description_width": ""
      }
     },
     "40cbd7208dfd4c99b6b562ff1273695f": {
      "model_module": "@jupyter-widgets/controls",
      "model_module_version": "1.5.0",
      "model_name": "HTMLModel",
      "state": {
       "_dom_classes": [],
       "_model_module": "@jupyter-widgets/controls",
       "_model_module_version": "1.5.0",
       "_model_name": "HTMLModel",
       "_view_count": null,
       "_view_module": "@jupyter-widgets/controls",
       "_view_module_version": "1.5.0",
       "_view_name": "HTMLView",
       "description": "",
       "description_tooltip": null,
       "layout": "IPY_MODEL_f9ffbcc360d349fb9482df4f13d85aca",
       "placeholder": "​",
       "style": "IPY_MODEL_4045229fb9064c339d02e900f90e5837",
       "value": "100%"
      }
     },
     "40f0016f48bd40339a103fd1248ae932": {
      "model_module": "@jupyter-widgets/controls",
      "model_module_version": "1.5.0",
      "model_name": "HTMLModel",
      "state": {
       "_dom_classes": [],
       "_model_module": "@jupyter-widgets/controls",
       "_model_module_version": "1.5.0",
       "_model_name": "HTMLModel",
       "_view_count": null,
       "_view_module": "@jupyter-widgets/controls",
       "_view_module_version": "1.5.0",
       "_view_name": "HTMLView",
       "description": "",
       "description_tooltip": null,
       "layout": "IPY_MODEL_7af477488c1b4f268b9b53cb8928712c",
       "placeholder": "​",
       "style": "IPY_MODEL_589cf944181b4ff6b9868400aaa96c29",
       "value": " 5876/5876 [26:49&lt;00:00,  3.80it/s]"
      }
     },
     "428975fc30304361b7cbfaf0c8f3a3d1": {
      "model_module": "@jupyter-widgets/base",
      "model_module_version": "1.2.0",
      "model_name": "LayoutModel",
      "state": {
       "_model_module": "@jupyter-widgets/base",
       "_model_module_version": "1.2.0",
       "_model_name": "LayoutModel",
       "_view_count": null,
       "_view_module": "@jupyter-widgets/base",
       "_view_module_version": "1.2.0",
       "_view_name": "LayoutView",
       "align_content": null,
       "align_items": null,
       "align_self": null,
       "border": null,
       "bottom": null,
       "display": null,
       "flex": null,
       "flex_flow": null,
       "grid_area": null,
       "grid_auto_columns": null,
       "grid_auto_flow": null,
       "grid_auto_rows": null,
       "grid_column": null,
       "grid_gap": null,
       "grid_row": null,
       "grid_template_areas": null,
       "grid_template_columns": null,
       "grid_template_rows": null,
       "height": null,
       "justify_content": null,
       "justify_items": null,
       "left": null,
       "margin": null,
       "max_height": null,
       "max_width": null,
       "min_height": null,
       "min_width": null,
       "object_fit": null,
       "object_position": null,
       "order": null,
       "overflow": null,
       "overflow_x": null,
       "overflow_y": null,
       "padding": null,
       "right": null,
       "top": null,
       "visibility": null,
       "width": null
      }
     },
     "4515271baf314b69b7f67511b3a3600f": {
      "model_module": "@jupyter-widgets/controls",
      "model_module_version": "1.5.0",
      "model_name": "FloatProgressModel",
      "state": {
       "_dom_classes": [],
       "_model_module": "@jupyter-widgets/controls",
       "_model_module_version": "1.5.0",
       "_model_name": "FloatProgressModel",
       "_view_count": null,
       "_view_module": "@jupyter-widgets/controls",
       "_view_module_version": "1.5.0",
       "_view_name": "ProgressView",
       "bar_style": "success",
       "description": "",
       "description_tooltip": null,
       "layout": "IPY_MODEL_28d86d003d9b4536b3e79763ca0b4403",
       "max": 5876,
       "min": 0,
       "orientation": "horizontal",
       "style": "IPY_MODEL_23ba011c1d924f9bb1036e0252f3fb32",
       "value": 5876
      }
     },
     "4594af9f555b4af4972fdaa32a0df6f1": {
      "model_module": "@jupyter-widgets/controls",
      "model_module_version": "1.5.0",
      "model_name": "FloatProgressModel",
      "state": {
       "_dom_classes": [],
       "_model_module": "@jupyter-widgets/controls",
       "_model_module_version": "1.5.0",
       "_model_name": "FloatProgressModel",
       "_view_count": null,
       "_view_module": "@jupyter-widgets/controls",
       "_view_module_version": "1.5.0",
       "_view_name": "ProgressView",
       "bar_style": "success",
       "description": "",
       "description_tooltip": null,
       "layout": "IPY_MODEL_38d5c6d0dfb745f793a3956099823bb8",
       "max": 5876,
       "min": 0,
       "orientation": "horizontal",
       "style": "IPY_MODEL_dbe7dbc4cf534049969a4fa7d868d8b0",
       "value": 5876
      }
     },
     "467453cc1c1e4797a2504c90f127df36": {
      "model_module": "@jupyter-widgets/controls",
      "model_module_version": "1.5.0",
      "model_name": "FloatProgressModel",
      "state": {
       "_dom_classes": [],
       "_model_module": "@jupyter-widgets/controls",
       "_model_module_version": "1.5.0",
       "_model_name": "FloatProgressModel",
       "_view_count": null,
       "_view_module": "@jupyter-widgets/controls",
       "_view_module_version": "1.5.0",
       "_view_name": "ProgressView",
       "bar_style": "success",
       "description": "",
       "description_tooltip": null,
       "layout": "IPY_MODEL_7ea0593ea4c6482992540a77aaaffeff",
       "max": 5876,
       "min": 0,
       "orientation": "horizontal",
       "style": "IPY_MODEL_e46d34a1fdfc4ef9be397c826a77b8a5",
       "value": 5876
      }
     },
     "46f74105760d42798861c78dd3af8b65": {
      "model_module": "@jupyter-widgets/base",
      "model_module_version": "1.2.0",
      "model_name": "LayoutModel",
      "state": {
       "_model_module": "@jupyter-widgets/base",
       "_model_module_version": "1.2.0",
       "_model_name": "LayoutModel",
       "_view_count": null,
       "_view_module": "@jupyter-widgets/base",
       "_view_module_version": "1.2.0",
       "_view_name": "LayoutView",
       "align_content": null,
       "align_items": null,
       "align_self": null,
       "border": null,
       "bottom": null,
       "display": null,
       "flex": null,
       "flex_flow": null,
       "grid_area": null,
       "grid_auto_columns": null,
       "grid_auto_flow": null,
       "grid_auto_rows": null,
       "grid_column": null,
       "grid_gap": null,
       "grid_row": null,
       "grid_template_areas": null,
       "grid_template_columns": null,
       "grid_template_rows": null,
       "height": null,
       "justify_content": null,
       "justify_items": null,
       "left": null,
       "margin": null,
       "max_height": null,
       "max_width": null,
       "min_height": null,
       "min_width": null,
       "object_fit": null,
       "object_position": null,
       "order": null,
       "overflow": null,
       "overflow_x": null,
       "overflow_y": null,
       "padding": null,
       "right": null,
       "top": null,
       "visibility": null,
       "width": null
      }
     },
     "473ad335bcc845de93cf4ab27941b2cb": {
      "model_module": "@jupyter-widgets/controls",
      "model_module_version": "1.5.0",
      "model_name": "HTMLModel",
      "state": {
       "_dom_classes": [],
       "_model_module": "@jupyter-widgets/controls",
       "_model_module_version": "1.5.0",
       "_model_name": "HTMLModel",
       "_view_count": null,
       "_view_module": "@jupyter-widgets/controls",
       "_view_module_version": "1.5.0",
       "_view_name": "HTMLView",
       "description": "",
       "description_tooltip": null,
       "layout": "IPY_MODEL_a284f610355448a792b329d8ebe4b86d",
       "placeholder": "​",
       "style": "IPY_MODEL_7cfbcadc79b54c9cbfc54ecf185bfb4e",
       "value": "100%"
      }
     },
     "48cfd12a81f54ba7ae339edb823a8833": {
      "model_module": "@jupyter-widgets/controls",
      "model_module_version": "1.5.0",
      "model_name": "DescriptionStyleModel",
      "state": {
       "_model_module": "@jupyter-widgets/controls",
       "_model_module_version": "1.5.0",
       "_model_name": "DescriptionStyleModel",
       "_view_count": null,
       "_view_module": "@jupyter-widgets/base",
       "_view_module_version": "1.2.0",
       "_view_name": "StyleView",
       "description_width": ""
      }
     },
     "496c4651f2a24090b9f5c0512e6f7dfe": {
      "model_module": "@jupyter-widgets/controls",
      "model_module_version": "1.5.0",
      "model_name": "HTMLModel",
      "state": {
       "_dom_classes": [],
       "_model_module": "@jupyter-widgets/controls",
       "_model_module_version": "1.5.0",
       "_model_name": "HTMLModel",
       "_view_count": null,
       "_view_module": "@jupyter-widgets/controls",
       "_view_module_version": "1.5.0",
       "_view_name": "HTMLView",
       "description": "",
       "description_tooltip": null,
       "layout": "IPY_MODEL_acc8cac7041f45578a62d2700a4173a3",
       "placeholder": "​",
       "style": "IPY_MODEL_5f3482fb075041948782267c16cc4c6d",
       "value": " 5876/5876 [26:52&lt;00:00,  3.80it/s]"
      }
     },
     "49d53ec804b84748a7b3a84326868c6e": {
      "model_module": "@jupyter-widgets/controls",
      "model_module_version": "1.5.0",
      "model_name": "FloatProgressModel",
      "state": {
       "_dom_classes": [],
       "_model_module": "@jupyter-widgets/controls",
       "_model_module_version": "1.5.0",
       "_model_name": "FloatProgressModel",
       "_view_count": null,
       "_view_module": "@jupyter-widgets/controls",
       "_view_module_version": "1.5.0",
       "_view_name": "ProgressView",
       "bar_style": "success",
       "description": "",
       "description_tooltip": null,
       "layout": "IPY_MODEL_602eaefb87304d7d82d4fc365874e25b",
       "max": 5876,
       "min": 0,
       "orientation": "horizontal",
       "style": "IPY_MODEL_b823525d6d4b44759cad2eacb6c9d2fc",
       "value": 5876
      }
     },
     "4a62ebd679f94008811beca3d27a13aa": {
      "model_module": "@jupyter-widgets/base",
      "model_module_version": "1.2.0",
      "model_name": "LayoutModel",
      "state": {
       "_model_module": "@jupyter-widgets/base",
       "_model_module_version": "1.2.0",
       "_model_name": "LayoutModel",
       "_view_count": null,
       "_view_module": "@jupyter-widgets/base",
       "_view_module_version": "1.2.0",
       "_view_name": "LayoutView",
       "align_content": null,
       "align_items": null,
       "align_self": null,
       "border": null,
       "bottom": null,
       "display": null,
       "flex": null,
       "flex_flow": null,
       "grid_area": null,
       "grid_auto_columns": null,
       "grid_auto_flow": null,
       "grid_auto_rows": null,
       "grid_column": null,
       "grid_gap": null,
       "grid_row": null,
       "grid_template_areas": null,
       "grid_template_columns": null,
       "grid_template_rows": null,
       "height": null,
       "justify_content": null,
       "justify_items": null,
       "left": null,
       "margin": null,
       "max_height": null,
       "max_width": null,
       "min_height": null,
       "min_width": null,
       "object_fit": null,
       "object_position": null,
       "order": null,
       "overflow": null,
       "overflow_x": null,
       "overflow_y": null,
       "padding": null,
       "right": null,
       "top": null,
       "visibility": null,
       "width": null
      }
     },
     "4b36130c46f64e3c98efaae05dff713c": {
      "model_module": "@jupyter-widgets/base",
      "model_module_version": "1.2.0",
      "model_name": "LayoutModel",
      "state": {
       "_model_module": "@jupyter-widgets/base",
       "_model_module_version": "1.2.0",
       "_model_name": "LayoutModel",
       "_view_count": null,
       "_view_module": "@jupyter-widgets/base",
       "_view_module_version": "1.2.0",
       "_view_name": "LayoutView",
       "align_content": null,
       "align_items": null,
       "align_self": null,
       "border": null,
       "bottom": null,
       "display": null,
       "flex": null,
       "flex_flow": null,
       "grid_area": null,
       "grid_auto_columns": null,
       "grid_auto_flow": null,
       "grid_auto_rows": null,
       "grid_column": null,
       "grid_gap": null,
       "grid_row": null,
       "grid_template_areas": null,
       "grid_template_columns": null,
       "grid_template_rows": null,
       "height": null,
       "justify_content": null,
       "justify_items": null,
       "left": null,
       "margin": null,
       "max_height": null,
       "max_width": null,
       "min_height": null,
       "min_width": null,
       "object_fit": null,
       "object_position": null,
       "order": null,
       "overflow": null,
       "overflow_x": null,
       "overflow_y": null,
       "padding": null,
       "right": null,
       "top": null,
       "visibility": null,
       "width": null
      }
     },
     "4b3792c3e17746af8d05fe9741007659": {
      "model_module": "@jupyter-widgets/controls",
      "model_module_version": "1.5.0",
      "model_name": "HTMLModel",
      "state": {
       "_dom_classes": [],
       "_model_module": "@jupyter-widgets/controls",
       "_model_module_version": "1.5.0",
       "_model_name": "HTMLModel",
       "_view_count": null,
       "_view_module": "@jupyter-widgets/controls",
       "_view_module_version": "1.5.0",
       "_view_name": "HTMLView",
       "description": "",
       "description_tooltip": null,
       "layout": "IPY_MODEL_1b0f1b7d68b649a2baa58621913770fd",
       "placeholder": "​",
       "style": "IPY_MODEL_3a701184aa884bfc9e1377102e82d4fc",
       "value": "100%"
      }
     },
     "4b80c63cb7264250a3cd791373484dcf": {
      "model_module": "@jupyter-widgets/controls",
      "model_module_version": "1.5.0",
      "model_name": "HBoxModel",
      "state": {
       "_dom_classes": [],
       "_model_module": "@jupyter-widgets/controls",
       "_model_module_version": "1.5.0",
       "_model_name": "HBoxModel",
       "_view_count": null,
       "_view_module": "@jupyter-widgets/controls",
       "_view_module_version": "1.5.0",
       "_view_name": "HBoxView",
       "box_style": "",
       "children": [
        "IPY_MODEL_794b65fbadbf473b8c242eb7c873402e",
        "IPY_MODEL_f99e879d66984539b7269368e4325750",
        "IPY_MODEL_ff40bf360e264f6882fa60f67b8d647e"
       ],
       "layout": "IPY_MODEL_249eb44994c54da397b806986251b17f"
      }
     },
     "4bee508a59cf41de9c1d617774bc28bf": {
      "model_module": "@jupyter-widgets/controls",
      "model_module_version": "1.5.0",
      "model_name": "HTMLModel",
      "state": {
       "_dom_classes": [],
       "_model_module": "@jupyter-widgets/controls",
       "_model_module_version": "1.5.0",
       "_model_name": "HTMLModel",
       "_view_count": null,
       "_view_module": "@jupyter-widgets/controls",
       "_view_module_version": "1.5.0",
       "_view_name": "HTMLView",
       "description": "",
       "description_tooltip": null,
       "layout": "IPY_MODEL_04ac1744db9649ef8fa69eec4314b724",
       "placeholder": "​",
       "style": "IPY_MODEL_f304f1248c744f468661c3cb21f457e9",
       "value": "config.json: 100%"
      }
     },
     "5133bb481aa44f6b8a3775f2fe0010ef": {
      "model_module": "@jupyter-widgets/controls",
      "model_module_version": "1.5.0",
      "model_name": "DescriptionStyleModel",
      "state": {
       "_model_module": "@jupyter-widgets/controls",
       "_model_module_version": "1.5.0",
       "_model_name": "DescriptionStyleModel",
       "_view_count": null,
       "_view_module": "@jupyter-widgets/base",
       "_view_module_version": "1.2.0",
       "_view_name": "StyleView",
       "description_width": ""
      }
     },
     "536e3b2af1b343e9a7400ce0fd9df61d": {
      "model_module": "@jupyter-widgets/base",
      "model_module_version": "1.2.0",
      "model_name": "LayoutModel",
      "state": {
       "_model_module": "@jupyter-widgets/base",
       "_model_module_version": "1.2.0",
       "_model_name": "LayoutModel",
       "_view_count": null,
       "_view_module": "@jupyter-widgets/base",
       "_view_module_version": "1.2.0",
       "_view_name": "LayoutView",
       "align_content": null,
       "align_items": null,
       "align_self": null,
       "border": null,
       "bottom": null,
       "display": null,
       "flex": null,
       "flex_flow": null,
       "grid_area": null,
       "grid_auto_columns": null,
       "grid_auto_flow": null,
       "grid_auto_rows": null,
       "grid_column": null,
       "grid_gap": null,
       "grid_row": null,
       "grid_template_areas": null,
       "grid_template_columns": null,
       "grid_template_rows": null,
       "height": null,
       "justify_content": null,
       "justify_items": null,
       "left": null,
       "margin": null,
       "max_height": null,
       "max_width": null,
       "min_height": null,
       "min_width": null,
       "object_fit": null,
       "object_position": null,
       "order": null,
       "overflow": null,
       "overflow_x": null,
       "overflow_y": null,
       "padding": null,
       "right": null,
       "top": null,
       "visibility": null,
       "width": null
      }
     },
     "539e197a240c45b9bcf2136d4b702b2f": {
      "model_module": "@jupyter-widgets/base",
      "model_module_version": "1.2.0",
      "model_name": "LayoutModel",
      "state": {
       "_model_module": "@jupyter-widgets/base",
       "_model_module_version": "1.2.0",
       "_model_name": "LayoutModel",
       "_view_count": null,
       "_view_module": "@jupyter-widgets/base",
       "_view_module_version": "1.2.0",
       "_view_name": "LayoutView",
       "align_content": null,
       "align_items": null,
       "align_self": null,
       "border": null,
       "bottom": null,
       "display": null,
       "flex": null,
       "flex_flow": null,
       "grid_area": null,
       "grid_auto_columns": null,
       "grid_auto_flow": null,
       "grid_auto_rows": null,
       "grid_column": null,
       "grid_gap": null,
       "grid_row": null,
       "grid_template_areas": null,
       "grid_template_columns": null,
       "grid_template_rows": null,
       "height": null,
       "justify_content": null,
       "justify_items": null,
       "left": null,
       "margin": null,
       "max_height": null,
       "max_width": null,
       "min_height": null,
       "min_width": null,
       "object_fit": null,
       "object_position": null,
       "order": null,
       "overflow": null,
       "overflow_x": null,
       "overflow_y": null,
       "padding": null,
       "right": null,
       "top": null,
       "visibility": null,
       "width": null
      }
     },
     "56dc7febead44e72a87871c88d176795": {
      "model_module": "@jupyter-widgets/controls",
      "model_module_version": "1.5.0",
      "model_name": "HTMLModel",
      "state": {
       "_dom_classes": [],
       "_model_module": "@jupyter-widgets/controls",
       "_model_module_version": "1.5.0",
       "_model_name": "HTMLModel",
       "_view_count": null,
       "_view_module": "@jupyter-widgets/controls",
       "_view_module_version": "1.5.0",
       "_view_name": "HTMLView",
       "description": "",
       "description_tooltip": null,
       "layout": "IPY_MODEL_428975fc30304361b7cbfaf0c8f3a3d1",
       "placeholder": "​",
       "style": "IPY_MODEL_121d44d7c2be48a8b3b4d923bd924f11",
       "value": " 5876/5876 [26:51&lt;00:00,  3.80it/s]"
      }
     },
     "57098dea297242ba8b5907e175aa6797": {
      "model_module": "@jupyter-widgets/controls",
      "model_module_version": "1.5.0",
      "model_name": "HBoxModel",
      "state": {
       "_dom_classes": [],
       "_model_module": "@jupyter-widgets/controls",
       "_model_module_version": "1.5.0",
       "_model_name": "HBoxModel",
       "_view_count": null,
       "_view_module": "@jupyter-widgets/controls",
       "_view_module_version": "1.5.0",
       "_view_name": "HBoxView",
       "box_style": "",
       "children": [
        "IPY_MODEL_d806843dc7fb408087c891c0b87afc93",
        "IPY_MODEL_f77863391c8245e5b8207480c0fcb2f0",
        "IPY_MODEL_81541231f4b54e1e81525236ba187e91"
       ],
       "layout": "IPY_MODEL_2cf5bc2d0fcf4f9596ba00e7e0930c92"
      }
     },
     "5770894b34ae4d38a11b7316f621d2e7": {
      "model_module": "@jupyter-widgets/base",
      "model_module_version": "1.2.0",
      "model_name": "LayoutModel",
      "state": {
       "_model_module": "@jupyter-widgets/base",
       "_model_module_version": "1.2.0",
       "_model_name": "LayoutModel",
       "_view_count": null,
       "_view_module": "@jupyter-widgets/base",
       "_view_module_version": "1.2.0",
       "_view_name": "LayoutView",
       "align_content": null,
       "align_items": null,
       "align_self": null,
       "border": null,
       "bottom": null,
       "display": null,
       "flex": null,
       "flex_flow": null,
       "grid_area": null,
       "grid_auto_columns": null,
       "grid_auto_flow": null,
       "grid_auto_rows": null,
       "grid_column": null,
       "grid_gap": null,
       "grid_row": null,
       "grid_template_areas": null,
       "grid_template_columns": null,
       "grid_template_rows": null,
       "height": null,
       "justify_content": null,
       "justify_items": null,
       "left": null,
       "margin": null,
       "max_height": null,
       "max_width": null,
       "min_height": null,
       "min_width": null,
       "object_fit": null,
       "object_position": null,
       "order": null,
       "overflow": null,
       "overflow_x": null,
       "overflow_y": null,
       "padding": null,
       "right": null,
       "top": null,
       "visibility": null,
       "width": null
      }
     },
     "580374011fe141dabbc5cb6a28b08846": {
      "model_module": "@jupyter-widgets/base",
      "model_module_version": "1.2.0",
      "model_name": "LayoutModel",
      "state": {
       "_model_module": "@jupyter-widgets/base",
       "_model_module_version": "1.2.0",
       "_model_name": "LayoutModel",
       "_view_count": null,
       "_view_module": "@jupyter-widgets/base",
       "_view_module_version": "1.2.0",
       "_view_name": "LayoutView",
       "align_content": null,
       "align_items": null,
       "align_self": null,
       "border": null,
       "bottom": null,
       "display": null,
       "flex": null,
       "flex_flow": null,
       "grid_area": null,
       "grid_auto_columns": null,
       "grid_auto_flow": null,
       "grid_auto_rows": null,
       "grid_column": null,
       "grid_gap": null,
       "grid_row": null,
       "grid_template_areas": null,
       "grid_template_columns": null,
       "grid_template_rows": null,
       "height": null,
       "justify_content": null,
       "justify_items": null,
       "left": null,
       "margin": null,
       "max_height": null,
       "max_width": null,
       "min_height": null,
       "min_width": null,
       "object_fit": null,
       "object_position": null,
       "order": null,
       "overflow": null,
       "overflow_x": null,
       "overflow_y": null,
       "padding": null,
       "right": null,
       "top": null,
       "visibility": null,
       "width": null
      }
     },
     "589cf944181b4ff6b9868400aaa96c29": {
      "model_module": "@jupyter-widgets/controls",
      "model_module_version": "1.5.0",
      "model_name": "DescriptionStyleModel",
      "state": {
       "_model_module": "@jupyter-widgets/controls",
       "_model_module_version": "1.5.0",
       "_model_name": "DescriptionStyleModel",
       "_view_count": null,
       "_view_module": "@jupyter-widgets/base",
       "_view_module_version": "1.2.0",
       "_view_name": "StyleView",
       "description_width": ""
      }
     },
     "5c72e64566ec46daa3ef5a1b7f3bc050": {
      "model_module": "@jupyter-widgets/controls",
      "model_module_version": "1.5.0",
      "model_name": "FloatProgressModel",
      "state": {
       "_dom_classes": [],
       "_model_module": "@jupyter-widgets/controls",
       "_model_module_version": "1.5.0",
       "_model_name": "FloatProgressModel",
       "_view_count": null,
       "_view_module": "@jupyter-widgets/controls",
       "_view_module_version": "1.5.0",
       "_view_name": "ProgressView",
       "bar_style": "success",
       "description": "",
       "description_tooltip": null,
       "layout": "IPY_MODEL_f74f6363bcd04c3a9d08e50cb5e055a0",
       "max": 5876,
       "min": 0,
       "orientation": "horizontal",
       "style": "IPY_MODEL_06840e7f719f4a98b0581f911dc96abf",
       "value": 5876
      }
     },
     "5f3482fb075041948782267c16cc4c6d": {
      "model_module": "@jupyter-widgets/controls",
      "model_module_version": "1.5.0",
      "model_name": "DescriptionStyleModel",
      "state": {
       "_model_module": "@jupyter-widgets/controls",
       "_model_module_version": "1.5.0",
       "_model_name": "DescriptionStyleModel",
       "_view_count": null,
       "_view_module": "@jupyter-widgets/base",
       "_view_module_version": "1.2.0",
       "_view_name": "StyleView",
       "description_width": ""
      }
     },
     "602eaefb87304d7d82d4fc365874e25b": {
      "model_module": "@jupyter-widgets/base",
      "model_module_version": "1.2.0",
      "model_name": "LayoutModel",
      "state": {
       "_model_module": "@jupyter-widgets/base",
       "_model_module_version": "1.2.0",
       "_model_name": "LayoutModel",
       "_view_count": null,
       "_view_module": "@jupyter-widgets/base",
       "_view_module_version": "1.2.0",
       "_view_name": "LayoutView",
       "align_content": null,
       "align_items": null,
       "align_self": null,
       "border": null,
       "bottom": null,
       "display": null,
       "flex": null,
       "flex_flow": null,
       "grid_area": null,
       "grid_auto_columns": null,
       "grid_auto_flow": null,
       "grid_auto_rows": null,
       "grid_column": null,
       "grid_gap": null,
       "grid_row": null,
       "grid_template_areas": null,
       "grid_template_columns": null,
       "grid_template_rows": null,
       "height": null,
       "justify_content": null,
       "justify_items": null,
       "left": null,
       "margin": null,
       "max_height": null,
       "max_width": null,
       "min_height": null,
       "min_width": null,
       "object_fit": null,
       "object_position": null,
       "order": null,
       "overflow": null,
       "overflow_x": null,
       "overflow_y": null,
       "padding": null,
       "right": null,
       "top": null,
       "visibility": null,
       "width": null
      }
     },
     "627092fb52d6402d91961ff0235fd99f": {
      "model_module": "@jupyter-widgets/controls",
      "model_module_version": "1.5.0",
      "model_name": "HTMLModel",
      "state": {
       "_dom_classes": [],
       "_model_module": "@jupyter-widgets/controls",
       "_model_module_version": "1.5.0",
       "_model_name": "HTMLModel",
       "_view_count": null,
       "_view_module": "@jupyter-widgets/controls",
       "_view_module_version": "1.5.0",
       "_view_name": "HTMLView",
       "description": "",
       "description_tooltip": null,
       "layout": "IPY_MODEL_22b1d7dc5d7341e2aa1db03b5d3847d3",
       "placeholder": "​",
       "style": "IPY_MODEL_fea6bdaddb8d49eaaf9514697cc797e6",
       "value": " 714M/714M [00:03&lt;00:00, 222MB/s]"
      }
     },
     "6380d62276b04746ace47b6513b4166d": {
      "model_module": "@jupyter-widgets/controls",
      "model_module_version": "1.5.0",
      "model_name": "HTMLModel",
      "state": {
       "_dom_classes": [],
       "_model_module": "@jupyter-widgets/controls",
       "_model_module_version": "1.5.0",
       "_model_name": "HTMLModel",
       "_view_count": null,
       "_view_module": "@jupyter-widgets/controls",
       "_view_module_version": "1.5.0",
       "_view_name": "HTMLView",
       "description": "",
       "description_tooltip": null,
       "layout": "IPY_MODEL_e854015c1b6b41d897b30278d9ddde70",
       "placeholder": "​",
       "style": "IPY_MODEL_a0317c0408944289b567c3469defda5e",
       "value": "100%"
      }
     },
     "6ef773e3f729485ea57b4f4ccfeb36c4": {
      "model_module": "@jupyter-widgets/base",
      "model_module_version": "1.2.0",
      "model_name": "LayoutModel",
      "state": {
       "_model_module": "@jupyter-widgets/base",
       "_model_module_version": "1.2.0",
       "_model_name": "LayoutModel",
       "_view_count": null,
       "_view_module": "@jupyter-widgets/base",
       "_view_module_version": "1.2.0",
       "_view_name": "LayoutView",
       "align_content": null,
       "align_items": null,
       "align_self": null,
       "border": null,
       "bottom": null,
       "display": null,
       "flex": null,
       "flex_flow": null,
       "grid_area": null,
       "grid_auto_columns": null,
       "grid_auto_flow": null,
       "grid_auto_rows": null,
       "grid_column": null,
       "grid_gap": null,
       "grid_row": null,
       "grid_template_areas": null,
       "grid_template_columns": null,
       "grid_template_rows": null,
       "height": null,
       "justify_content": null,
       "justify_items": null,
       "left": null,
       "margin": null,
       "max_height": null,
       "max_width": null,
       "min_height": null,
       "min_width": null,
       "object_fit": null,
       "object_position": null,
       "order": null,
       "overflow": null,
       "overflow_x": null,
       "overflow_y": null,
       "padding": null,
       "right": null,
       "top": null,
       "visibility": null,
       "width": null
      }
     },
     "6feb298466734787a036a85e6983d528": {
      "model_module": "@jupyter-widgets/controls",
      "model_module_version": "1.5.0",
      "model_name": "HTMLModel",
      "state": {
       "_dom_classes": [],
       "_model_module": "@jupyter-widgets/controls",
       "_model_module_version": "1.5.0",
       "_model_name": "HTMLModel",
       "_view_count": null,
       "_view_module": "@jupyter-widgets/controls",
       "_view_module_version": "1.5.0",
       "_view_name": "HTMLView",
       "description": "",
       "description_tooltip": null,
       "layout": "IPY_MODEL_7ef98d66f9ad4c6db7cadf8511ab1b6f",
       "placeholder": "​",
       "style": "IPY_MODEL_1f1bdc85f5874d0cb16a1f721a588968",
       "value": "pytorch_model.bin: 100%"
      }
     },
     "7097bf51e208440aa6cdc1cc4963b1da": {
      "model_module": "@jupyter-widgets/controls",
      "model_module_version": "1.5.0",
      "model_name": "DescriptionStyleModel",
      "state": {
       "_model_module": "@jupyter-widgets/controls",
       "_model_module_version": "1.5.0",
       "_model_name": "DescriptionStyleModel",
       "_view_count": null,
       "_view_module": "@jupyter-widgets/base",
       "_view_module_version": "1.2.0",
       "_view_name": "StyleView",
       "description_width": ""
      }
     },
     "70fbeb6c56fe4d72b8ee2f1a229e2bd9": {
      "model_module": "@jupyter-widgets/controls",
      "model_module_version": "1.5.0",
      "model_name": "HTMLModel",
      "state": {
       "_dom_classes": [],
       "_model_module": "@jupyter-widgets/controls",
       "_model_module_version": "1.5.0",
       "_model_name": "HTMLModel",
       "_view_count": null,
       "_view_module": "@jupyter-widgets/controls",
       "_view_module_version": "1.5.0",
       "_view_name": "HTMLView",
       "description": "",
       "description_tooltip": null,
       "layout": "IPY_MODEL_32b1347321af46338ee6a472395894f4",
       "placeholder": "​",
       "style": "IPY_MODEL_38471ff5472f45cf97f4762e1179eef9",
       "value": "100%"
      }
     },
     "71f1bd1508c2458d949d7c7fa70c9511": {
      "model_module": "@jupyter-widgets/base",
      "model_module_version": "1.2.0",
      "model_name": "LayoutModel",
      "state": {
       "_model_module": "@jupyter-widgets/base",
       "_model_module_version": "1.2.0",
       "_model_name": "LayoutModel",
       "_view_count": null,
       "_view_module": "@jupyter-widgets/base",
       "_view_module_version": "1.2.0",
       "_view_name": "LayoutView",
       "align_content": null,
       "align_items": null,
       "align_self": null,
       "border": null,
       "bottom": null,
       "display": null,
       "flex": null,
       "flex_flow": null,
       "grid_area": null,
       "grid_auto_columns": null,
       "grid_auto_flow": null,
       "grid_auto_rows": null,
       "grid_column": null,
       "grid_gap": null,
       "grid_row": null,
       "grid_template_areas": null,
       "grid_template_columns": null,
       "grid_template_rows": null,
       "height": null,
       "justify_content": null,
       "justify_items": null,
       "left": null,
       "margin": null,
       "max_height": null,
       "max_width": null,
       "min_height": null,
       "min_width": null,
       "object_fit": null,
       "object_position": null,
       "order": null,
       "overflow": null,
       "overflow_x": null,
       "overflow_y": null,
       "padding": null,
       "right": null,
       "top": null,
       "visibility": null,
       "width": null
      }
     },
     "720b25c0da4742d583fa84b5c6dae597": {
      "model_module": "@jupyter-widgets/controls",
      "model_module_version": "1.5.0",
      "model_name": "HTMLModel",
      "state": {
       "_dom_classes": [],
       "_model_module": "@jupyter-widgets/controls",
       "_model_module_version": "1.5.0",
       "_model_name": "HTMLModel",
       "_view_count": null,
       "_view_module": "@jupyter-widgets/controls",
       "_view_module_version": "1.5.0",
       "_view_name": "HTMLView",
       "description": "",
       "description_tooltip": null,
       "layout": "IPY_MODEL_832d1486a0354de2a46352895265bf0c",
       "placeholder": "​",
       "style": "IPY_MODEL_2059e44d5cef44d28d016a04ed6e922d",
       "value": " 642/642 [00:00&lt;00:00, 51.9kB/s]"
      }
     },
     "723a10a80c4740cc9be1d94e08520183": {
      "model_module": "@jupyter-widgets/controls",
      "model_module_version": "1.5.0",
      "model_name": "DescriptionStyleModel",
      "state": {
       "_model_module": "@jupyter-widgets/controls",
       "_model_module_version": "1.5.0",
       "_model_name": "DescriptionStyleModel",
       "_view_count": null,
       "_view_module": "@jupyter-widgets/base",
       "_view_module_version": "1.2.0",
       "_view_name": "StyleView",
       "description_width": ""
      }
     },
     "7309fbac40ca4cccbb30cb93ca5a5cd0": {
      "model_module": "@jupyter-widgets/base",
      "model_module_version": "1.2.0",
      "model_name": "LayoutModel",
      "state": {
       "_model_module": "@jupyter-widgets/base",
       "_model_module_version": "1.2.0",
       "_model_name": "LayoutModel",
       "_view_count": null,
       "_view_module": "@jupyter-widgets/base",
       "_view_module_version": "1.2.0",
       "_view_name": "LayoutView",
       "align_content": null,
       "align_items": null,
       "align_self": null,
       "border": null,
       "bottom": null,
       "display": null,
       "flex": null,
       "flex_flow": null,
       "grid_area": null,
       "grid_auto_columns": null,
       "grid_auto_flow": null,
       "grid_auto_rows": null,
       "grid_column": null,
       "grid_gap": null,
       "grid_row": null,
       "grid_template_areas": null,
       "grid_template_columns": null,
       "grid_template_rows": null,
       "height": null,
       "justify_content": null,
       "justify_items": null,
       "left": null,
       "margin": null,
       "max_height": null,
       "max_width": null,
       "min_height": null,
       "min_width": null,
       "object_fit": null,
       "object_position": null,
       "order": null,
       "overflow": null,
       "overflow_x": null,
       "overflow_y": null,
       "padding": null,
       "right": null,
       "top": null,
       "visibility": null,
       "width": null
      }
     },
     "7331495f765b49fdb50f41ff65cefd0d": {
      "model_module": "@jupyter-widgets/controls",
      "model_module_version": "1.5.0",
      "model_name": "ProgressStyleModel",
      "state": {
       "_model_module": "@jupyter-widgets/controls",
       "_model_module_version": "1.5.0",
       "_model_name": "ProgressStyleModel",
       "_view_count": null,
       "_view_module": "@jupyter-widgets/base",
       "_view_module_version": "1.2.0",
       "_view_name": "StyleView",
       "bar_color": null,
       "description_width": ""
      }
     },
     "7366adeea4764424a7c72180790e93c1": {
      "model_module": "@jupyter-widgets/controls",
      "model_module_version": "1.5.0",
      "model_name": "FloatProgressModel",
      "state": {
       "_dom_classes": [],
       "_model_module": "@jupyter-widgets/controls",
       "_model_module_version": "1.5.0",
       "_model_name": "FloatProgressModel",
       "_view_count": null,
       "_view_module": "@jupyter-widgets/controls",
       "_view_module_version": "1.5.0",
       "_view_name": "ProgressView",
       "bar_style": "success",
       "description": "",
       "description_tooltip": null,
       "layout": "IPY_MODEL_b8364a1bf1474cafb88e76bc757348a0",
       "max": 5876,
       "min": 0,
       "orientation": "horizontal",
       "style": "IPY_MODEL_18b922543a584a36ac01d6901fb3dddb",
       "value": 5876
      }
     },
     "73840c20ce9840a48b5fb5d070c31580": {
      "model_module": "@jupyter-widgets/base",
      "model_module_version": "1.2.0",
      "model_name": "LayoutModel",
      "state": {
       "_model_module": "@jupyter-widgets/base",
       "_model_module_version": "1.2.0",
       "_model_name": "LayoutModel",
       "_view_count": null,
       "_view_module": "@jupyter-widgets/base",
       "_view_module_version": "1.2.0",
       "_view_name": "LayoutView",
       "align_content": null,
       "align_items": null,
       "align_self": null,
       "border": null,
       "bottom": null,
       "display": null,
       "flex": null,
       "flex_flow": null,
       "grid_area": null,
       "grid_auto_columns": null,
       "grid_auto_flow": null,
       "grid_auto_rows": null,
       "grid_column": null,
       "grid_gap": null,
       "grid_row": null,
       "grid_template_areas": null,
       "grid_template_columns": null,
       "grid_template_rows": null,
       "height": null,
       "justify_content": null,
       "justify_items": null,
       "left": null,
       "margin": null,
       "max_height": null,
       "max_width": null,
       "min_height": null,
       "min_width": null,
       "object_fit": null,
       "object_position": null,
       "order": null,
       "overflow": null,
       "overflow_x": null,
       "overflow_y": null,
       "padding": null,
       "right": null,
       "top": null,
       "visibility": null,
       "width": null
      }
     },
     "78028b37c0db464e8de69522f19a61b4": {
      "model_module": "@jupyter-widgets/controls",
      "model_module_version": "1.5.0",
      "model_name": "HTMLModel",
      "state": {
       "_dom_classes": [],
       "_model_module": "@jupyter-widgets/controls",
       "_model_module_version": "1.5.0",
       "_model_name": "HTMLModel",
       "_view_count": null,
       "_view_module": "@jupyter-widgets/controls",
       "_view_module_version": "1.5.0",
       "_view_name": "HTMLView",
       "description": "",
       "description_tooltip": null,
       "layout": "IPY_MODEL_b14676ba8de44bd2ae7ec08d5694e9e2",
       "placeholder": "​",
       "style": "IPY_MODEL_e16c2265ac68457ca1fc51a42c9a8553",
       "value": ""
      }
     },
     "7949b787f718467b93a93aea253804da": {
      "model_module": "@jupyter-widgets/controls",
      "model_module_version": "1.5.0",
      "model_name": "DescriptionStyleModel",
      "state": {
       "_model_module": "@jupyter-widgets/controls",
       "_model_module_version": "1.5.0",
       "_model_name": "DescriptionStyleModel",
       "_view_count": null,
       "_view_module": "@jupyter-widgets/base",
       "_view_module_version": "1.2.0",
       "_view_name": "StyleView",
       "description_width": ""
      }
     },
     "794b65fbadbf473b8c242eb7c873402e": {
      "model_module": "@jupyter-widgets/controls",
      "model_module_version": "1.5.0",
      "model_name": "HTMLModel",
      "state": {
       "_dom_classes": [],
       "_model_module": "@jupyter-widgets/controls",
       "_model_module_version": "1.5.0",
       "_model_name": "HTMLModel",
       "_view_count": null,
       "_view_module": "@jupyter-widgets/controls",
       "_view_module_version": "1.5.0",
       "_view_name": "HTMLView",
       "description": "",
       "description_tooltip": null,
       "layout": "IPY_MODEL_91122c0882c9426e96a69732808f3750",
       "placeholder": "​",
       "style": "IPY_MODEL_d773d2f5c001467aae64a33f7685941b",
       "value": "100%"
      }
     },
     "794f24bccb684a81bb74ee4acd1284e3": {
      "model_module": "@jupyter-widgets/base",
      "model_module_version": "1.2.0",
      "model_name": "LayoutModel",
      "state": {
       "_model_module": "@jupyter-widgets/base",
       "_model_module_version": "1.2.0",
       "_model_name": "LayoutModel",
       "_view_count": null,
       "_view_module": "@jupyter-widgets/base",
       "_view_module_version": "1.2.0",
       "_view_name": "LayoutView",
       "align_content": null,
       "align_items": null,
       "align_self": null,
       "border": null,
       "bottom": null,
       "display": null,
       "flex": null,
       "flex_flow": null,
       "grid_area": null,
       "grid_auto_columns": null,
       "grid_auto_flow": null,
       "grid_auto_rows": null,
       "grid_column": null,
       "grid_gap": null,
       "grid_row": null,
       "grid_template_areas": null,
       "grid_template_columns": null,
       "grid_template_rows": null,
       "height": null,
       "justify_content": null,
       "justify_items": null,
       "left": null,
       "margin": null,
       "max_height": null,
       "max_width": null,
       "min_height": null,
       "min_width": null,
       "object_fit": null,
       "object_position": null,
       "order": null,
       "overflow": null,
       "overflow_x": null,
       "overflow_y": null,
       "padding": null,
       "right": null,
       "top": null,
       "visibility": null,
       "width": null
      }
     },
     "7af477488c1b4f268b9b53cb8928712c": {
      "model_module": "@jupyter-widgets/base",
      "model_module_version": "1.2.0",
      "model_name": "LayoutModel",
      "state": {
       "_model_module": "@jupyter-widgets/base",
       "_model_module_version": "1.2.0",
       "_model_name": "LayoutModel",
       "_view_count": null,
       "_view_module": "@jupyter-widgets/base",
       "_view_module_version": "1.2.0",
       "_view_name": "LayoutView",
       "align_content": null,
       "align_items": null,
       "align_self": null,
       "border": null,
       "bottom": null,
       "display": null,
       "flex": null,
       "flex_flow": null,
       "grid_area": null,
       "grid_auto_columns": null,
       "grid_auto_flow": null,
       "grid_auto_rows": null,
       "grid_column": null,
       "grid_gap": null,
       "grid_row": null,
       "grid_template_areas": null,
       "grid_template_columns": null,
       "grid_template_rows": null,
       "height": null,
       "justify_content": null,
       "justify_items": null,
       "left": null,
       "margin": null,
       "max_height": null,
       "max_width": null,
       "min_height": null,
       "min_width": null,
       "object_fit": null,
       "object_position": null,
       "order": null,
       "overflow": null,
       "overflow_x": null,
       "overflow_y": null,
       "padding": null,
       "right": null,
       "top": null,
       "visibility": null,
       "width": null
      }
     },
     "7c0789142a54422095c1523c6e0a795f": {
      "model_module": "@jupyter-widgets/controls",
      "model_module_version": "1.5.0",
      "model_name": "HTMLModel",
      "state": {
       "_dom_classes": [],
       "_model_module": "@jupyter-widgets/controls",
       "_model_module_version": "1.5.0",
       "_model_name": "HTMLModel",
       "_view_count": null,
       "_view_module": "@jupyter-widgets/controls",
       "_view_module_version": "1.5.0",
       "_view_name": "HTMLView",
       "description": "",
       "description_tooltip": null,
       "layout": "IPY_MODEL_46f74105760d42798861c78dd3af8b65",
       "placeholder": "​",
       "style": "IPY_MODEL_c8aa14504f5441999a36a259d3b880bf",
       "value": " 5876/5876 [26:52&lt;00:00,  3.80it/s]"
      }
     },
     "7c5e9a16cb9b4ccbb6ac588d5fa2f2bd": {
      "model_module": "@jupyter-widgets/base",
      "model_module_version": "1.2.0",
      "model_name": "LayoutModel",
      "state": {
       "_model_module": "@jupyter-widgets/base",
       "_model_module_version": "1.2.0",
       "_model_name": "LayoutModel",
       "_view_count": null,
       "_view_module": "@jupyter-widgets/base",
       "_view_module_version": "1.2.0",
       "_view_name": "LayoutView",
       "align_content": null,
       "align_items": null,
       "align_self": null,
       "border": null,
       "bottom": null,
       "display": null,
       "flex": null,
       "flex_flow": null,
       "grid_area": null,
       "grid_auto_columns": null,
       "grid_auto_flow": null,
       "grid_auto_rows": null,
       "grid_column": null,
       "grid_gap": null,
       "grid_row": null,
       "grid_template_areas": null,
       "grid_template_columns": null,
       "grid_template_rows": null,
       "height": null,
       "justify_content": null,
       "justify_items": null,
       "left": null,
       "margin": null,
       "max_height": null,
       "max_width": null,
       "min_height": null,
       "min_width": null,
       "object_fit": null,
       "object_position": null,
       "order": null,
       "overflow": null,
       "overflow_x": null,
       "overflow_y": null,
       "padding": null,
       "right": null,
       "top": null,
       "visibility": null,
       "width": null
      }
     },
     "7cfbcadc79b54c9cbfc54ecf185bfb4e": {
      "model_module": "@jupyter-widgets/controls",
      "model_module_version": "1.5.0",
      "model_name": "DescriptionStyleModel",
      "state": {
       "_model_module": "@jupyter-widgets/controls",
       "_model_module_version": "1.5.0",
       "_model_name": "DescriptionStyleModel",
       "_view_count": null,
       "_view_module": "@jupyter-widgets/base",
       "_view_module_version": "1.2.0",
       "_view_name": "StyleView",
       "description_width": ""
      }
     },
     "7e276e4aa44448279a2789280d20d583": {
      "model_module": "@jupyter-widgets/controls",
      "model_module_version": "1.5.0",
      "model_name": "FloatProgressModel",
      "state": {
       "_dom_classes": [],
       "_model_module": "@jupyter-widgets/controls",
       "_model_module_version": "1.5.0",
       "_model_name": "FloatProgressModel",
       "_view_count": null,
       "_view_module": "@jupyter-widgets/controls",
       "_view_module_version": "1.5.0",
       "_view_name": "ProgressView",
       "bar_style": "success",
       "description": "",
       "description_tooltip": null,
       "layout": "IPY_MODEL_4a62ebd679f94008811beca3d27a13aa",
       "max": 642,
       "min": 0,
       "orientation": "horizontal",
       "style": "IPY_MODEL_7331495f765b49fdb50f41ff65cefd0d",
       "value": 642
      }
     },
     "7ea0593ea4c6482992540a77aaaffeff": {
      "model_module": "@jupyter-widgets/base",
      "model_module_version": "1.2.0",
      "model_name": "LayoutModel",
      "state": {
       "_model_module": "@jupyter-widgets/base",
       "_model_module_version": "1.2.0",
       "_model_name": "LayoutModel",
       "_view_count": null,
       "_view_module": "@jupyter-widgets/base",
       "_view_module_version": "1.2.0",
       "_view_name": "LayoutView",
       "align_content": null,
       "align_items": null,
       "align_self": null,
       "border": null,
       "bottom": null,
       "display": null,
       "flex": null,
       "flex_flow": null,
       "grid_area": null,
       "grid_auto_columns": null,
       "grid_auto_flow": null,
       "grid_auto_rows": null,
       "grid_column": null,
       "grid_gap": null,
       "grid_row": null,
       "grid_template_areas": null,
       "grid_template_columns": null,
       "grid_template_rows": null,
       "height": null,
       "justify_content": null,
       "justify_items": null,
       "left": null,
       "margin": null,
       "max_height": null,
       "max_width": null,
       "min_height": null,
       "min_width": null,
       "object_fit": null,
       "object_position": null,
       "order": null,
       "overflow": null,
       "overflow_x": null,
       "overflow_y": null,
       "padding": null,
       "right": null,
       "top": null,
       "visibility": null,
       "width": null
      }
     },
     "7ed0ed0ef41b44cf8f008f26c090a224": {
      "model_module": "@jupyter-widgets/base",
      "model_module_version": "1.2.0",
      "model_name": "LayoutModel",
      "state": {
       "_model_module": "@jupyter-widgets/base",
       "_model_module_version": "1.2.0",
       "_model_name": "LayoutModel",
       "_view_count": null,
       "_view_module": "@jupyter-widgets/base",
       "_view_module_version": "1.2.0",
       "_view_name": "LayoutView",
       "align_content": null,
       "align_items": null,
       "align_self": null,
       "border": null,
       "bottom": null,
       "display": null,
       "flex": null,
       "flex_flow": null,
       "grid_area": null,
       "grid_auto_columns": null,
       "grid_auto_flow": null,
       "grid_auto_rows": null,
       "grid_column": null,
       "grid_gap": null,
       "grid_row": null,
       "grid_template_areas": null,
       "grid_template_columns": null,
       "grid_template_rows": null,
       "height": null,
       "justify_content": null,
       "justify_items": null,
       "left": null,
       "margin": null,
       "max_height": null,
       "max_width": null,
       "min_height": null,
       "min_width": null,
       "object_fit": null,
       "object_position": null,
       "order": null,
       "overflow": null,
       "overflow_x": null,
       "overflow_y": null,
       "padding": null,
       "right": null,
       "top": null,
       "visibility": null,
       "width": null
      }
     },
     "7ef98d66f9ad4c6db7cadf8511ab1b6f": {
      "model_module": "@jupyter-widgets/base",
      "model_module_version": "1.2.0",
      "model_name": "LayoutModel",
      "state": {
       "_model_module": "@jupyter-widgets/base",
       "_model_module_version": "1.2.0",
       "_model_name": "LayoutModel",
       "_view_count": null,
       "_view_module": "@jupyter-widgets/base",
       "_view_module_version": "1.2.0",
       "_view_name": "LayoutView",
       "align_content": null,
       "align_items": null,
       "align_self": null,
       "border": null,
       "bottom": null,
       "display": null,
       "flex": null,
       "flex_flow": null,
       "grid_area": null,
       "grid_auto_columns": null,
       "grid_auto_flow": null,
       "grid_auto_rows": null,
       "grid_column": null,
       "grid_gap": null,
       "grid_row": null,
       "grid_template_areas": null,
       "grid_template_columns": null,
       "grid_template_rows": null,
       "height": null,
       "justify_content": null,
       "justify_items": null,
       "left": null,
       "margin": null,
       "max_height": null,
       "max_width": null,
       "min_height": null,
       "min_width": null,
       "object_fit": null,
       "object_position": null,
       "order": null,
       "overflow": null,
       "overflow_x": null,
       "overflow_y": null,
       "padding": null,
       "right": null,
       "top": null,
       "visibility": null,
       "width": null
      }
     },
     "7f20164b5d0940ae954d5be61f2a4f8c": {
      "model_module": "@jupyter-widgets/controls",
      "model_module_version": "1.5.0",
      "model_name": "HTMLModel",
      "state": {
       "_dom_classes": [],
       "_model_module": "@jupyter-widgets/controls",
       "_model_module_version": "1.5.0",
       "_model_name": "HTMLModel",
       "_view_count": null,
       "_view_module": "@jupyter-widgets/controls",
       "_view_module_version": "1.5.0",
       "_view_name": "HTMLView",
       "description": "",
       "description_tooltip": null,
       "layout": "IPY_MODEL_0cb6c1c38ff745eebbeb0f3051218056",
       "placeholder": "​",
       "style": "IPY_MODEL_079e50bf1688445190f6c38774cc2712",
       "value": "100%"
      }
     },
     "7ffbaf45f12f4e5ba51749914be45378": {
      "model_module": "@jupyter-widgets/controls",
      "model_module_version": "1.5.0",
      "model_name": "HBoxModel",
      "state": {
       "_dom_classes": [],
       "_model_module": "@jupyter-widgets/controls",
       "_model_module_version": "1.5.0",
       "_model_name": "HBoxModel",
       "_view_count": null,
       "_view_module": "@jupyter-widgets/controls",
       "_view_module_version": "1.5.0",
       "_view_name": "HBoxView",
       "box_style": "",
       "children": [
        "IPY_MODEL_0e4b08f7af334ea593606d3ea120b881",
        "IPY_MODEL_d4bfc57bead242cfae5b7d1147f71b85",
        "IPY_MODEL_1d43dd9dc7564c54999763b324d2d20e"
       ],
       "layout": "IPY_MODEL_fb7afd9f95dd48e2b3b3f5acc85269b2"
      }
     },
     "804877a237aa41b18537437746e5e6d8": {
      "model_module": "@jupyter-widgets/base",
      "model_module_version": "1.2.0",
      "model_name": "LayoutModel",
      "state": {
       "_model_module": "@jupyter-widgets/base",
       "_model_module_version": "1.2.0",
       "_model_name": "LayoutModel",
       "_view_count": null,
       "_view_module": "@jupyter-widgets/base",
       "_view_module_version": "1.2.0",
       "_view_name": "LayoutView",
       "align_content": null,
       "align_items": null,
       "align_self": null,
       "border": null,
       "bottom": null,
       "display": null,
       "flex": null,
       "flex_flow": null,
       "grid_area": null,
       "grid_auto_columns": null,
       "grid_auto_flow": null,
       "grid_auto_rows": null,
       "grid_column": null,
       "grid_gap": null,
       "grid_row": null,
       "grid_template_areas": null,
       "grid_template_columns": null,
       "grid_template_rows": null,
       "height": null,
       "justify_content": null,
       "justify_items": null,
       "left": null,
       "margin": null,
       "max_height": null,
       "max_width": null,
       "min_height": null,
       "min_width": null,
       "object_fit": null,
       "object_position": null,
       "order": null,
       "overflow": null,
       "overflow_x": null,
       "overflow_y": null,
       "padding": null,
       "right": null,
       "top": null,
       "visibility": null,
       "width": null
      }
     },
     "81541231f4b54e1e81525236ba187e91": {
      "model_module": "@jupyter-widgets/controls",
      "model_module_version": "1.5.0",
      "model_name": "HTMLModel",
      "state": {
       "_dom_classes": [],
       "_model_module": "@jupyter-widgets/controls",
       "_model_module_version": "1.5.0",
       "_model_name": "HTMLModel",
       "_view_count": null,
       "_view_module": "@jupyter-widgets/controls",
       "_view_module_version": "1.5.0",
       "_view_name": "HTMLView",
       "description": "",
       "description_tooltip": null,
       "layout": "IPY_MODEL_caebd120273646a1865c9fec5ad95aab",
       "placeholder": "​",
       "style": "IPY_MODEL_ff2f4cddba184ef89249fa0c02428bdb",
       "value": " 5876/5876 [26:51&lt;00:00,  3.80it/s]"
      }
     },
     "826adf39527744cb923beda8478819b8": {
      "model_module": "@jupyter-widgets/controls",
      "model_module_version": "1.5.0",
      "model_name": "HTMLModel",
      "state": {
       "_dom_classes": [],
       "_model_module": "@jupyter-widgets/controls",
       "_model_module_version": "1.5.0",
       "_model_name": "HTMLModel",
       "_view_count": null,
       "_view_module": "@jupyter-widgets/controls",
       "_view_module_version": "1.5.0",
       "_view_name": "HTMLView",
       "description": "",
       "description_tooltip": null,
       "layout": "IPY_MODEL_804877a237aa41b18537437746e5e6d8",
       "placeholder": "​",
       "style": "IPY_MODEL_fa427493af884ee0920acadaa421e19c",
       "value": " 5876/5876 [26:51&lt;00:00,  3.80it/s]"
      }
     },
     "8307c08852424d21bb887722ac8290eb": {
      "model_module": "@jupyter-widgets/base",
      "model_module_version": "1.2.0",
      "model_name": "LayoutModel",
      "state": {
       "_model_module": "@jupyter-widgets/base",
       "_model_module_version": "1.2.0",
       "_model_name": "LayoutModel",
       "_view_count": null,
       "_view_module": "@jupyter-widgets/base",
       "_view_module_version": "1.2.0",
       "_view_name": "LayoutView",
       "align_content": null,
       "align_items": null,
       "align_self": null,
       "border": null,
       "bottom": null,
       "display": null,
       "flex": null,
       "flex_flow": null,
       "grid_area": null,
       "grid_auto_columns": null,
       "grid_auto_flow": null,
       "grid_auto_rows": null,
       "grid_column": null,
       "grid_gap": null,
       "grid_row": null,
       "grid_template_areas": null,
       "grid_template_columns": null,
       "grid_template_rows": null,
       "height": null,
       "justify_content": null,
       "justify_items": null,
       "left": null,
       "margin": null,
       "max_height": null,
       "max_width": null,
       "min_height": null,
       "min_width": null,
       "object_fit": null,
       "object_position": null,
       "order": null,
       "overflow": null,
       "overflow_x": null,
       "overflow_y": null,
       "padding": null,
       "right": null,
       "top": null,
       "visibility": null,
       "width": null
      }
     },
     "832d1486a0354de2a46352895265bf0c": {
      "model_module": "@jupyter-widgets/base",
      "model_module_version": "1.2.0",
      "model_name": "LayoutModel",
      "state": {
       "_model_module": "@jupyter-widgets/base",
       "_model_module_version": "1.2.0",
       "_model_name": "LayoutModel",
       "_view_count": null,
       "_view_module": "@jupyter-widgets/base",
       "_view_module_version": "1.2.0",
       "_view_name": "LayoutView",
       "align_content": null,
       "align_items": null,
       "align_self": null,
       "border": null,
       "bottom": null,
       "display": null,
       "flex": null,
       "flex_flow": null,
       "grid_area": null,
       "grid_auto_columns": null,
       "grid_auto_flow": null,
       "grid_auto_rows": null,
       "grid_column": null,
       "grid_gap": null,
       "grid_row": null,
       "grid_template_areas": null,
       "grid_template_columns": null,
       "grid_template_rows": null,
       "height": null,
       "justify_content": null,
       "justify_items": null,
       "left": null,
       "margin": null,
       "max_height": null,
       "max_width": null,
       "min_height": null,
       "min_width": null,
       "object_fit": null,
       "object_position": null,
       "order": null,
       "overflow": null,
       "overflow_x": null,
       "overflow_y": null,
       "padding": null,
       "right": null,
       "top": null,
       "visibility": null,
       "width": null
      }
     },
     "85af9a31a3a64b8e9e7006cebd9b6176": {
      "model_module": "@jupyter-widgets/controls",
      "model_module_version": "1.5.0",
      "model_name": "DescriptionStyleModel",
      "state": {
       "_model_module": "@jupyter-widgets/controls",
       "_model_module_version": "1.5.0",
       "_model_name": "DescriptionStyleModel",
       "_view_count": null,
       "_view_module": "@jupyter-widgets/base",
       "_view_module_version": "1.2.0",
       "_view_name": "StyleView",
       "description_width": ""
      }
     },
     "86f77352a324442cabfdbbb5b4424ed4": {
      "model_module": "@jupyter-widgets/base",
      "model_module_version": "1.2.0",
      "model_name": "LayoutModel",
      "state": {
       "_model_module": "@jupyter-widgets/base",
       "_model_module_version": "1.2.0",
       "_model_name": "LayoutModel",
       "_view_count": null,
       "_view_module": "@jupyter-widgets/base",
       "_view_module_version": "1.2.0",
       "_view_name": "LayoutView",
       "align_content": null,
       "align_items": null,
       "align_self": null,
       "border": null,
       "bottom": null,
       "display": null,
       "flex": null,
       "flex_flow": null,
       "grid_area": null,
       "grid_auto_columns": null,
       "grid_auto_flow": null,
       "grid_auto_rows": null,
       "grid_column": null,
       "grid_gap": null,
       "grid_row": null,
       "grid_template_areas": null,
       "grid_template_columns": null,
       "grid_template_rows": null,
       "height": null,
       "justify_content": null,
       "justify_items": null,
       "left": null,
       "margin": null,
       "max_height": null,
       "max_width": null,
       "min_height": null,
       "min_width": null,
       "object_fit": null,
       "object_position": null,
       "order": null,
       "overflow": null,
       "overflow_x": null,
       "overflow_y": null,
       "padding": null,
       "right": null,
       "top": null,
       "visibility": null,
       "width": null
      }
     },
     "877ed2ea3e0444fc97e7099777137170": {
      "model_module": "@jupyter-widgets/controls",
      "model_module_version": "1.5.0",
      "model_name": "FloatProgressModel",
      "state": {
       "_dom_classes": [],
       "_model_module": "@jupyter-widgets/controls",
       "_model_module_version": "1.5.0",
       "_model_name": "FloatProgressModel",
       "_view_count": null,
       "_view_module": "@jupyter-widgets/controls",
       "_view_module_version": "1.5.0",
       "_view_name": "ProgressView",
       "bar_style": "success",
       "description": "",
       "description_tooltip": null,
       "layout": "IPY_MODEL_fd08d46a8400457f9b46491ea8894bb4",
       "max": 5876,
       "min": 0,
       "orientation": "horizontal",
       "style": "IPY_MODEL_d9defd42bc4a4835a68b11eb1e7589ef",
       "value": 5876
      }
     },
     "8a3811c5acdd411b93414f03de3ad747": {
      "model_module": "@jupyter-widgets/controls",
      "model_module_version": "1.5.0",
      "model_name": "HTMLModel",
      "state": {
       "_dom_classes": [],
       "_model_module": "@jupyter-widgets/controls",
       "_model_module_version": "1.5.0",
       "_model_name": "HTMLModel",
       "_view_count": null,
       "_view_module": "@jupyter-widgets/controls",
       "_view_module_version": "1.5.0",
       "_view_name": "HTMLView",
       "description": "",
       "description_tooltip": null,
       "layout": "IPY_MODEL_0a96946afb564dd7b56978b4884b1e14",
       "placeholder": "​",
       "style": "IPY_MODEL_021e00c7b1b043bf80663c678a9fed80",
       "value": " 5876/5876 [26:50&lt;00:00,  3.80it/s]"
      }
     },
     "8a8c2faf9af242eea7e1ed69ad21d462": {
      "model_module": "@jupyter-widgets/controls",
      "model_module_version": "1.5.0",
      "model_name": "DescriptionStyleModel",
      "state": {
       "_model_module": "@jupyter-widgets/controls",
       "_model_module_version": "1.5.0",
       "_model_name": "DescriptionStyleModel",
       "_view_count": null,
       "_view_module": "@jupyter-widgets/base",
       "_view_module_version": "1.2.0",
       "_view_name": "StyleView",
       "description_width": ""
      }
     },
     "8b6d06b5307944afaf7a93c4e10cef42": {
      "model_module": "@jupyter-widgets/base",
      "model_module_version": "1.2.0",
      "model_name": "LayoutModel",
      "state": {
       "_model_module": "@jupyter-widgets/base",
       "_model_module_version": "1.2.0",
       "_model_name": "LayoutModel",
       "_view_count": null,
       "_view_module": "@jupyter-widgets/base",
       "_view_module_version": "1.2.0",
       "_view_name": "LayoutView",
       "align_content": null,
       "align_items": null,
       "align_self": null,
       "border": null,
       "bottom": null,
       "display": null,
       "flex": null,
       "flex_flow": null,
       "grid_area": null,
       "grid_auto_columns": null,
       "grid_auto_flow": null,
       "grid_auto_rows": null,
       "grid_column": null,
       "grid_gap": null,
       "grid_row": null,
       "grid_template_areas": null,
       "grid_template_columns": null,
       "grid_template_rows": null,
       "height": null,
       "justify_content": null,
       "justify_items": null,
       "left": null,
       "margin": null,
       "max_height": null,
       "max_width": null,
       "min_height": null,
       "min_width": null,
       "object_fit": null,
       "object_position": null,
       "order": null,
       "overflow": null,
       "overflow_x": null,
       "overflow_y": null,
       "padding": null,
       "right": null,
       "top": null,
       "visibility": null,
       "width": null
      }
     },
     "8c82a94704274d1dbf8d10f860ab48d7": {
      "model_module": "@jupyter-widgets/base",
      "model_module_version": "1.2.0",
      "model_name": "LayoutModel",
      "state": {
       "_model_module": "@jupyter-widgets/base",
       "_model_module_version": "1.2.0",
       "_model_name": "LayoutModel",
       "_view_count": null,
       "_view_module": "@jupyter-widgets/base",
       "_view_module_version": "1.2.0",
       "_view_name": "LayoutView",
       "align_content": null,
       "align_items": null,
       "align_self": null,
       "border": null,
       "bottom": null,
       "display": null,
       "flex": null,
       "flex_flow": null,
       "grid_area": null,
       "grid_auto_columns": null,
       "grid_auto_flow": null,
       "grid_auto_rows": null,
       "grid_column": null,
       "grid_gap": null,
       "grid_row": null,
       "grid_template_areas": null,
       "grid_template_columns": null,
       "grid_template_rows": null,
       "height": null,
       "justify_content": null,
       "justify_items": null,
       "left": null,
       "margin": null,
       "max_height": null,
       "max_width": null,
       "min_height": null,
       "min_width": null,
       "object_fit": null,
       "object_position": null,
       "order": null,
       "overflow": null,
       "overflow_x": null,
       "overflow_y": null,
       "padding": null,
       "right": null,
       "top": null,
       "visibility": null,
       "width": null
      }
     },
     "8d161b8619114976ad560f6c2e6f8bc5": {
      "model_module": "@jupyter-widgets/base",
      "model_module_version": "1.2.0",
      "model_name": "LayoutModel",
      "state": {
       "_model_module": "@jupyter-widgets/base",
       "_model_module_version": "1.2.0",
       "_model_name": "LayoutModel",
       "_view_count": null,
       "_view_module": "@jupyter-widgets/base",
       "_view_module_version": "1.2.0",
       "_view_name": "LayoutView",
       "align_content": null,
       "align_items": null,
       "align_self": null,
       "border": null,
       "bottom": null,
       "display": null,
       "flex": null,
       "flex_flow": null,
       "grid_area": null,
       "grid_auto_columns": null,
       "grid_auto_flow": null,
       "grid_auto_rows": null,
       "grid_column": null,
       "grid_gap": null,
       "grid_row": null,
       "grid_template_areas": null,
       "grid_template_columns": null,
       "grid_template_rows": null,
       "height": null,
       "justify_content": null,
       "justify_items": null,
       "left": null,
       "margin": null,
       "max_height": null,
       "max_width": null,
       "min_height": null,
       "min_width": null,
       "object_fit": null,
       "object_position": null,
       "order": null,
       "overflow": null,
       "overflow_x": null,
       "overflow_y": null,
       "padding": null,
       "right": null,
       "top": null,
       "visibility": null,
       "width": null
      }
     },
     "8d40189f22774a55af2b060a7fd0a28a": {
      "model_module": "@jupyter-widgets/controls",
      "model_module_version": "1.5.0",
      "model_name": "DescriptionStyleModel",
      "state": {
       "_model_module": "@jupyter-widgets/controls",
       "_model_module_version": "1.5.0",
       "_model_name": "DescriptionStyleModel",
       "_view_count": null,
       "_view_module": "@jupyter-widgets/base",
       "_view_module_version": "1.2.0",
       "_view_name": "StyleView",
       "description_width": ""
      }
     },
     "8d87c90c837d42c7aabd5f5cdb1f6911": {
      "model_module": "@jupyter-widgets/controls",
      "model_module_version": "1.5.0",
      "model_name": "HBoxModel",
      "state": {
       "_dom_classes": [],
       "_model_module": "@jupyter-widgets/controls",
       "_model_module_version": "1.5.0",
       "_model_name": "HBoxModel",
       "_view_count": null,
       "_view_module": "@jupyter-widgets/controls",
       "_view_module_version": "1.5.0",
       "_view_name": "HBoxView",
       "box_style": "",
       "children": [
        "IPY_MODEL_0c1f9c1837cd405d8952db53e65d7db3",
        "IPY_MODEL_3673467aef1a42ab9e2f94d136c624cd",
        "IPY_MODEL_40f0016f48bd40339a103fd1248ae932"
       ],
       "layout": "IPY_MODEL_8307c08852424d21bb887722ac8290eb"
      }
     },
     "8e7131a1aad84b91985f8b866b0d791a": {
      "model_module": "@jupyter-widgets/base",
      "model_module_version": "1.2.0",
      "model_name": "LayoutModel",
      "state": {
       "_model_module": "@jupyter-widgets/base",
       "_model_module_version": "1.2.0",
       "_model_name": "LayoutModel",
       "_view_count": null,
       "_view_module": "@jupyter-widgets/base",
       "_view_module_version": "1.2.0",
       "_view_name": "LayoutView",
       "align_content": null,
       "align_items": null,
       "align_self": null,
       "border": null,
       "bottom": null,
       "display": null,
       "flex": null,
       "flex_flow": null,
       "grid_area": null,
       "grid_auto_columns": null,
       "grid_auto_flow": null,
       "grid_auto_rows": null,
       "grid_column": null,
       "grid_gap": null,
       "grid_row": null,
       "grid_template_areas": null,
       "grid_template_columns": null,
       "grid_template_rows": null,
       "height": null,
       "justify_content": null,
       "justify_items": null,
       "left": null,
       "margin": null,
       "max_height": null,
       "max_width": null,
       "min_height": null,
       "min_width": null,
       "object_fit": null,
       "object_position": null,
       "order": null,
       "overflow": null,
       "overflow_x": null,
       "overflow_y": null,
       "padding": null,
       "right": null,
       "top": null,
       "visibility": null,
       "width": null
      }
     },
     "91122c0882c9426e96a69732808f3750": {
      "model_module": "@jupyter-widgets/base",
      "model_module_version": "1.2.0",
      "model_name": "LayoutModel",
      "state": {
       "_model_module": "@jupyter-widgets/base",
       "_model_module_version": "1.2.0",
       "_model_name": "LayoutModel",
       "_view_count": null,
       "_view_module": "@jupyter-widgets/base",
       "_view_module_version": "1.2.0",
       "_view_name": "LayoutView",
       "align_content": null,
       "align_items": null,
       "align_self": null,
       "border": null,
       "bottom": null,
       "display": null,
       "flex": null,
       "flex_flow": null,
       "grid_area": null,
       "grid_auto_columns": null,
       "grid_auto_flow": null,
       "grid_auto_rows": null,
       "grid_column": null,
       "grid_gap": null,
       "grid_row": null,
       "grid_template_areas": null,
       "grid_template_columns": null,
       "grid_template_rows": null,
       "height": null,
       "justify_content": null,
       "justify_items": null,
       "left": null,
       "margin": null,
       "max_height": null,
       "max_width": null,
       "min_height": null,
       "min_width": null,
       "object_fit": null,
       "object_position": null,
       "order": null,
       "overflow": null,
       "overflow_x": null,
       "overflow_y": null,
       "padding": null,
       "right": null,
       "top": null,
       "visibility": null,
       "width": null
      }
     },
     "93cdd34b55fd44f0a8ef18e3a18c1f9c": {
      "model_module": "@jupyter-widgets/controls",
      "model_module_version": "1.5.0",
      "model_name": "DescriptionStyleModel",
      "state": {
       "_model_module": "@jupyter-widgets/controls",
       "_model_module_version": "1.5.0",
       "_model_name": "DescriptionStyleModel",
       "_view_count": null,
       "_view_module": "@jupyter-widgets/base",
       "_view_module_version": "1.2.0",
       "_view_name": "StyleView",
       "description_width": ""
      }
     },
     "9653e4da74b14509a7638894b94241f8": {
      "model_module": "@jupyter-widgets/controls",
      "model_module_version": "1.5.0",
      "model_name": "HTMLModel",
      "state": {
       "_dom_classes": [],
       "_model_module": "@jupyter-widgets/controls",
       "_model_module_version": "1.5.0",
       "_model_name": "HTMLModel",
       "_view_count": null,
       "_view_module": "@jupyter-widgets/controls",
       "_view_module_version": "1.5.0",
       "_view_name": "HTMLView",
       "description": "",
       "description_tooltip": null,
       "layout": "IPY_MODEL_6ef773e3f729485ea57b4f4ccfeb36c4",
       "placeholder": "​",
       "style": "IPY_MODEL_8a8c2faf9af242eea7e1ed69ad21d462",
       "value": " 1671254/? [00:06&lt;00:00, 307582.28it/s]"
      }
     },
     "99c79e09f80f4608844929aee2cf79e9": {
      "model_module": "@jupyter-widgets/controls",
      "model_module_version": "1.5.0",
      "model_name": "HTMLModel",
      "state": {
       "_dom_classes": [],
       "_model_module": "@jupyter-widgets/controls",
       "_model_module_version": "1.5.0",
       "_model_name": "HTMLModel",
       "_view_count": null,
       "_view_module": "@jupyter-widgets/controls",
       "_view_module_version": "1.5.0",
       "_view_name": "HTMLView",
       "description": "",
       "description_tooltip": null,
       "layout": "IPY_MODEL_e39bda4964ee4c32a263993f3b7b5b21",
       "placeholder": "​",
       "style": "IPY_MODEL_effab97fd1eb48358e76606a8b9732e0",
       "value": " 5876/5876 [26:51&lt;00:00,  3.79it/s]"
      }
     },
     "9a84cd86dcbf4c61895897ffcf6c090e": {
      "model_module": "@jupyter-widgets/controls",
      "model_module_version": "1.5.0",
      "model_name": "HBoxModel",
      "state": {
       "_dom_classes": [],
       "_model_module": "@jupyter-widgets/controls",
       "_model_module_version": "1.5.0",
       "_model_name": "HBoxModel",
       "_view_count": null,
       "_view_module": "@jupyter-widgets/controls",
       "_view_module_version": "1.5.0",
       "_view_name": "HBoxView",
       "box_style": "",
       "children": [
        "IPY_MODEL_7f20164b5d0940ae954d5be61f2a4f8c",
        "IPY_MODEL_abc0e53f101d49268bbfd68d3576e6d4",
        "IPY_MODEL_56dc7febead44e72a87871c88d176795"
       ],
       "layout": "IPY_MODEL_b5469f889b1a457988ab1e05c6a2d1ae"
      }
     },
     "9ac9c5f15c81443cbbed33ed496f0e60": {
      "model_module": "@jupyter-widgets/base",
      "model_module_version": "1.2.0",
      "model_name": "LayoutModel",
      "state": {
       "_model_module": "@jupyter-widgets/base",
       "_model_module_version": "1.2.0",
       "_model_name": "LayoutModel",
       "_view_count": null,
       "_view_module": "@jupyter-widgets/base",
       "_view_module_version": "1.2.0",
       "_view_name": "LayoutView",
       "align_content": null,
       "align_items": null,
       "align_self": null,
       "border": null,
       "bottom": null,
       "display": null,
       "flex": null,
       "flex_flow": null,
       "grid_area": null,
       "grid_auto_columns": null,
       "grid_auto_flow": null,
       "grid_auto_rows": null,
       "grid_column": null,
       "grid_gap": null,
       "grid_row": null,
       "grid_template_areas": null,
       "grid_template_columns": null,
       "grid_template_rows": null,
       "height": null,
       "justify_content": null,
       "justify_items": null,
       "left": null,
       "margin": null,
       "max_height": null,
       "max_width": null,
       "min_height": null,
       "min_width": null,
       "object_fit": null,
       "object_position": null,
       "order": null,
       "overflow": null,
       "overflow_x": null,
       "overflow_y": null,
       "padding": null,
       "right": null,
       "top": null,
       "visibility": null,
       "width": null
      }
     },
     "9f2f06d30aff4058bb4e4f3ce8219bab": {
      "model_module": "@jupyter-widgets/controls",
      "model_module_version": "1.5.0",
      "model_name": "HBoxModel",
      "state": {
       "_dom_classes": [],
       "_model_module": "@jupyter-widgets/controls",
       "_model_module_version": "1.5.0",
       "_model_name": "HBoxModel",
       "_view_count": null,
       "_view_module": "@jupyter-widgets/controls",
       "_view_module_version": "1.5.0",
       "_view_name": "HBoxView",
       "box_style": "",
       "children": [
        "IPY_MODEL_6feb298466734787a036a85e6983d528",
        "IPY_MODEL_3d6b9d257d53407698636ae439bc1455",
        "IPY_MODEL_627092fb52d6402d91961ff0235fd99f"
       ],
       "layout": "IPY_MODEL_0ac8275fc229400d8715b7516fe3d8f0"
      }
     },
     "a01afe39514b407b812e59039498660e": {
      "model_module": "@jupyter-widgets/controls",
      "model_module_version": "1.5.0",
      "model_name": "DescriptionStyleModel",
      "state": {
       "_model_module": "@jupyter-widgets/controls",
       "_model_module_version": "1.5.0",
       "_model_name": "DescriptionStyleModel",
       "_view_count": null,
       "_view_module": "@jupyter-widgets/base",
       "_view_module_version": "1.2.0",
       "_view_name": "StyleView",
       "description_width": ""
      }
     },
     "a0317c0408944289b567c3469defda5e": {
      "model_module": "@jupyter-widgets/controls",
      "model_module_version": "1.5.0",
      "model_name": "DescriptionStyleModel",
      "state": {
       "_model_module": "@jupyter-widgets/controls",
       "_model_module_version": "1.5.0",
       "_model_name": "DescriptionStyleModel",
       "_view_count": null,
       "_view_module": "@jupyter-widgets/base",
       "_view_module_version": "1.2.0",
       "_view_name": "StyleView",
       "description_width": ""
      }
     },
     "a0ed7d479b06492db27a6ff5396aa03a": {
      "model_module": "@jupyter-widgets/base",
      "model_module_version": "1.2.0",
      "model_name": "LayoutModel",
      "state": {
       "_model_module": "@jupyter-widgets/base",
       "_model_module_version": "1.2.0",
       "_model_name": "LayoutModel",
       "_view_count": null,
       "_view_module": "@jupyter-widgets/base",
       "_view_module_version": "1.2.0",
       "_view_name": "LayoutView",
       "align_content": null,
       "align_items": null,
       "align_self": null,
       "border": null,
       "bottom": null,
       "display": null,
       "flex": null,
       "flex_flow": null,
       "grid_area": null,
       "grid_auto_columns": null,
       "grid_auto_flow": null,
       "grid_auto_rows": null,
       "grid_column": null,
       "grid_gap": null,
       "grid_row": null,
       "grid_template_areas": null,
       "grid_template_columns": null,
       "grid_template_rows": null,
       "height": null,
       "justify_content": null,
       "justify_items": null,
       "left": null,
       "margin": null,
       "max_height": null,
       "max_width": null,
       "min_height": null,
       "min_width": null,
       "object_fit": null,
       "object_position": null,
       "order": null,
       "overflow": null,
       "overflow_x": null,
       "overflow_y": null,
       "padding": null,
       "right": null,
       "top": null,
       "visibility": null,
       "width": null
      }
     },
     "a284f610355448a792b329d8ebe4b86d": {
      "model_module": "@jupyter-widgets/base",
      "model_module_version": "1.2.0",
      "model_name": "LayoutModel",
      "state": {
       "_model_module": "@jupyter-widgets/base",
       "_model_module_version": "1.2.0",
       "_model_name": "LayoutModel",
       "_view_count": null,
       "_view_module": "@jupyter-widgets/base",
       "_view_module_version": "1.2.0",
       "_view_name": "LayoutView",
       "align_content": null,
       "align_items": null,
       "align_self": null,
       "border": null,
       "bottom": null,
       "display": null,
       "flex": null,
       "flex_flow": null,
       "grid_area": null,
       "grid_auto_columns": null,
       "grid_auto_flow": null,
       "grid_auto_rows": null,
       "grid_column": null,
       "grid_gap": null,
       "grid_row": null,
       "grid_template_areas": null,
       "grid_template_columns": null,
       "grid_template_rows": null,
       "height": null,
       "justify_content": null,
       "justify_items": null,
       "left": null,
       "margin": null,
       "max_height": null,
       "max_width": null,
       "min_height": null,
       "min_width": null,
       "object_fit": null,
       "object_position": null,
       "order": null,
       "overflow": null,
       "overflow_x": null,
       "overflow_y": null,
       "padding": null,
       "right": null,
       "top": null,
       "visibility": null,
       "width": null
      }
     },
     "a33933362a7d41de9c111ce6c82b5731": {
      "model_module": "@jupyter-widgets/controls",
      "model_module_version": "1.5.0",
      "model_name": "DescriptionStyleModel",
      "state": {
       "_model_module": "@jupyter-widgets/controls",
       "_model_module_version": "1.5.0",
       "_model_name": "DescriptionStyleModel",
       "_view_count": null,
       "_view_module": "@jupyter-widgets/base",
       "_view_module_version": "1.2.0",
       "_view_name": "StyleView",
       "description_width": ""
      }
     },
     "a36f766b69f9408dac00c1529bacdafa": {
      "model_module": "@jupyter-widgets/base",
      "model_module_version": "1.2.0",
      "model_name": "LayoutModel",
      "state": {
       "_model_module": "@jupyter-widgets/base",
       "_model_module_version": "1.2.0",
       "_model_name": "LayoutModel",
       "_view_count": null,
       "_view_module": "@jupyter-widgets/base",
       "_view_module_version": "1.2.0",
       "_view_name": "LayoutView",
       "align_content": null,
       "align_items": null,
       "align_self": null,
       "border": null,
       "bottom": null,
       "display": null,
       "flex": null,
       "flex_flow": null,
       "grid_area": null,
       "grid_auto_columns": null,
       "grid_auto_flow": null,
       "grid_auto_rows": null,
       "grid_column": null,
       "grid_gap": null,
       "grid_row": null,
       "grid_template_areas": null,
       "grid_template_columns": null,
       "grid_template_rows": null,
       "height": null,
       "justify_content": null,
       "justify_items": null,
       "left": null,
       "margin": null,
       "max_height": null,
       "max_width": null,
       "min_height": null,
       "min_width": null,
       "object_fit": null,
       "object_position": null,
       "order": null,
       "overflow": null,
       "overflow_x": null,
       "overflow_y": null,
       "padding": null,
       "right": null,
       "top": null,
       "visibility": null,
       "width": null
      }
     },
     "a5eeb1faf9ad47558bc4bfbb62547a3f": {
      "model_module": "@jupyter-widgets/base",
      "model_module_version": "1.2.0",
      "model_name": "LayoutModel",
      "state": {
       "_model_module": "@jupyter-widgets/base",
       "_model_module_version": "1.2.0",
       "_model_name": "LayoutModel",
       "_view_count": null,
       "_view_module": "@jupyter-widgets/base",
       "_view_module_version": "1.2.0",
       "_view_name": "LayoutView",
       "align_content": null,
       "align_items": null,
       "align_self": null,
       "border": null,
       "bottom": null,
       "display": null,
       "flex": null,
       "flex_flow": null,
       "grid_area": null,
       "grid_auto_columns": null,
       "grid_auto_flow": null,
       "grid_auto_rows": null,
       "grid_column": null,
       "grid_gap": null,
       "grid_row": null,
       "grid_template_areas": null,
       "grid_template_columns": null,
       "grid_template_rows": null,
       "height": null,
       "justify_content": null,
       "justify_items": null,
       "left": null,
       "margin": null,
       "max_height": null,
       "max_width": null,
       "min_height": null,
       "min_width": null,
       "object_fit": null,
       "object_position": null,
       "order": null,
       "overflow": null,
       "overflow_x": null,
       "overflow_y": null,
       "padding": null,
       "right": null,
       "top": null,
       "visibility": null,
       "width": null
      }
     },
     "a73797adc2cb4404b7c54c709417647b": {
      "model_module": "@jupyter-widgets/controls",
      "model_module_version": "1.5.0",
      "model_name": "HTMLModel",
      "state": {
       "_dom_classes": [],
       "_model_module": "@jupyter-widgets/controls",
       "_model_module_version": "1.5.0",
       "_model_name": "HTMLModel",
       "_view_count": null,
       "_view_module": "@jupyter-widgets/controls",
       "_view_module_version": "1.5.0",
       "_view_name": "HTMLView",
       "description": "",
       "description_tooltip": null,
       "layout": "IPY_MODEL_4b36130c46f64e3c98efaae05dff713c",
       "placeholder": "​",
       "style": "IPY_MODEL_d97701e7e3494a0cafe2694231b0aed1",
       "value": " 5876/5876 [26:48&lt;00:00,  3.80it/s]"
      }
     },
     "aa0f770b4e4047dabb81e91ec0a3e4e7": {
      "model_module": "@jupyter-widgets/base",
      "model_module_version": "1.2.0",
      "model_name": "LayoutModel",
      "state": {
       "_model_module": "@jupyter-widgets/base",
       "_model_module_version": "1.2.0",
       "_model_name": "LayoutModel",
       "_view_count": null,
       "_view_module": "@jupyter-widgets/base",
       "_view_module_version": "1.2.0",
       "_view_name": "LayoutView",
       "align_content": null,
       "align_items": null,
       "align_self": null,
       "border": null,
       "bottom": null,
       "display": null,
       "flex": null,
       "flex_flow": null,
       "grid_area": null,
       "grid_auto_columns": null,
       "grid_auto_flow": null,
       "grid_auto_rows": null,
       "grid_column": null,
       "grid_gap": null,
       "grid_row": null,
       "grid_template_areas": null,
       "grid_template_columns": null,
       "grid_template_rows": null,
       "height": null,
       "justify_content": null,
       "justify_items": null,
       "left": null,
       "margin": null,
       "max_height": null,
       "max_width": null,
       "min_height": null,
       "min_width": null,
       "object_fit": null,
       "object_position": null,
       "order": null,
       "overflow": null,
       "overflow_x": null,
       "overflow_y": null,
       "padding": null,
       "right": null,
       "top": null,
       "visibility": null,
       "width": null
      }
     },
     "aa6c4b10a4714b70b233cb77ccc13977": {
      "model_module": "@jupyter-widgets/base",
      "model_module_version": "1.2.0",
      "model_name": "LayoutModel",
      "state": {
       "_model_module": "@jupyter-widgets/base",
       "_model_module_version": "1.2.0",
       "_model_name": "LayoutModel",
       "_view_count": null,
       "_view_module": "@jupyter-widgets/base",
       "_view_module_version": "1.2.0",
       "_view_name": "LayoutView",
       "align_content": null,
       "align_items": null,
       "align_self": null,
       "border": null,
       "bottom": null,
       "display": null,
       "flex": null,
       "flex_flow": null,
       "grid_area": null,
       "grid_auto_columns": null,
       "grid_auto_flow": null,
       "grid_auto_rows": null,
       "grid_column": null,
       "grid_gap": null,
       "grid_row": null,
       "grid_template_areas": null,
       "grid_template_columns": null,
       "grid_template_rows": null,
       "height": null,
       "justify_content": null,
       "justify_items": null,
       "left": null,
       "margin": null,
       "max_height": null,
       "max_width": null,
       "min_height": null,
       "min_width": null,
       "object_fit": null,
       "object_position": null,
       "order": null,
       "overflow": null,
       "overflow_x": null,
       "overflow_y": null,
       "padding": null,
       "right": null,
       "top": null,
       "visibility": null,
       "width": null
      }
     },
     "abc0e53f101d49268bbfd68d3576e6d4": {
      "model_module": "@jupyter-widgets/controls",
      "model_module_version": "1.5.0",
      "model_name": "FloatProgressModel",
      "state": {
       "_dom_classes": [],
       "_model_module": "@jupyter-widgets/controls",
       "_model_module_version": "1.5.0",
       "_model_name": "FloatProgressModel",
       "_view_count": null,
       "_view_module": "@jupyter-widgets/controls",
       "_view_module_version": "1.5.0",
       "_view_name": "ProgressView",
       "bar_style": "success",
       "description": "",
       "description_tooltip": null,
       "layout": "IPY_MODEL_edc7fe1377f44406949869ca02783a57",
       "max": 5876,
       "min": 0,
       "orientation": "horizontal",
       "style": "IPY_MODEL_d6b77a6bc37548f68d1445dce964a5d9",
       "value": 5876
      }
     },
     "acc8cac7041f45578a62d2700a4173a3": {
      "model_module": "@jupyter-widgets/base",
      "model_module_version": "1.2.0",
      "model_name": "LayoutModel",
      "state": {
       "_model_module": "@jupyter-widgets/base",
       "_model_module_version": "1.2.0",
       "_model_name": "LayoutModel",
       "_view_count": null,
       "_view_module": "@jupyter-widgets/base",
       "_view_module_version": "1.2.0",
       "_view_name": "LayoutView",
       "align_content": null,
       "align_items": null,
       "align_self": null,
       "border": null,
       "bottom": null,
       "display": null,
       "flex": null,
       "flex_flow": null,
       "grid_area": null,
       "grid_auto_columns": null,
       "grid_auto_flow": null,
       "grid_auto_rows": null,
       "grid_column": null,
       "grid_gap": null,
       "grid_row": null,
       "grid_template_areas": null,
       "grid_template_columns": null,
       "grid_template_rows": null,
       "height": null,
       "justify_content": null,
       "justify_items": null,
       "left": null,
       "margin": null,
       "max_height": null,
       "max_width": null,
       "min_height": null,
       "min_width": null,
       "object_fit": null,
       "object_position": null,
       "order": null,
       "overflow": null,
       "overflow_x": null,
       "overflow_y": null,
       "padding": null,
       "right": null,
       "top": null,
       "visibility": null,
       "width": null
      }
     },
     "ad11f4cfe58f433fa3c2897c71778c0a": {
      "model_module": "@jupyter-widgets/controls",
      "model_module_version": "1.5.0",
      "model_name": "HBoxModel",
      "state": {
       "_dom_classes": [],
       "_model_module": "@jupyter-widgets/controls",
       "_model_module_version": "1.5.0",
       "_model_name": "HBoxModel",
       "_view_count": null,
       "_view_module": "@jupyter-widgets/controls",
       "_view_module_version": "1.5.0",
       "_view_name": "HBoxView",
       "box_style": "",
       "children": [
        "IPY_MODEL_fa750f813ec849999beef0f26d7b844e",
        "IPY_MODEL_f1e02743b91345b6a0e3ee2589c0421c",
        "IPY_MODEL_8a3811c5acdd411b93414f03de3ad747"
       ],
       "layout": "IPY_MODEL_71f1bd1508c2458d949d7c7fa70c9511"
      }
     },
     "b14676ba8de44bd2ae7ec08d5694e9e2": {
      "model_module": "@jupyter-widgets/base",
      "model_module_version": "1.2.0",
      "model_name": "LayoutModel",
      "state": {
       "_model_module": "@jupyter-widgets/base",
       "_model_module_version": "1.2.0",
       "_model_name": "LayoutModel",
       "_view_count": null,
       "_view_module": "@jupyter-widgets/base",
       "_view_module_version": "1.2.0",
       "_view_name": "LayoutView",
       "align_content": null,
       "align_items": null,
       "align_self": null,
       "border": null,
       "bottom": null,
       "display": null,
       "flex": null,
       "flex_flow": null,
       "grid_area": null,
       "grid_auto_columns": null,
       "grid_auto_flow": null,
       "grid_auto_rows": null,
       "grid_column": null,
       "grid_gap": null,
       "grid_row": null,
       "grid_template_areas": null,
       "grid_template_columns": null,
       "grid_template_rows": null,
       "height": null,
       "justify_content": null,
       "justify_items": null,
       "left": null,
       "margin": null,
       "max_height": null,
       "max_width": null,
       "min_height": null,
       "min_width": null,
       "object_fit": null,
       "object_position": null,
       "order": null,
       "overflow": null,
       "overflow_x": null,
       "overflow_y": null,
       "padding": null,
       "right": null,
       "top": null,
       "visibility": null,
       "width": null
      }
     },
     "b261e8c2785844b9a543f106fd342002": {
      "model_module": "@jupyter-widgets/controls",
      "model_module_version": "1.5.0",
      "model_name": "HTMLModel",
      "state": {
       "_dom_classes": [],
       "_model_module": "@jupyter-widgets/controls",
       "_model_module_version": "1.5.0",
       "_model_name": "HTMLModel",
       "_view_count": null,
       "_view_module": "@jupyter-widgets/controls",
       "_view_module_version": "1.5.0",
       "_view_name": "HTMLView",
       "description": "",
       "description_tooltip": null,
       "layout": "IPY_MODEL_8b6d06b5307944afaf7a93c4e10cef42",
       "placeholder": "​",
       "style": "IPY_MODEL_b651c2a28a2440b68851b7ea4fb491d6",
       "value": "100%"
      }
     },
     "b30e41b10e23450f85ae699d229a92df": {
      "model_module": "@jupyter-widgets/controls",
      "model_module_version": "1.5.0",
      "model_name": "ProgressStyleModel",
      "state": {
       "_model_module": "@jupyter-widgets/controls",
       "_model_module_version": "1.5.0",
       "_model_name": "ProgressStyleModel",
       "_view_count": null,
       "_view_module": "@jupyter-widgets/base",
       "_view_module_version": "1.2.0",
       "_view_name": "StyleView",
       "bar_color": null,
       "description_width": ""
      }
     },
     "b5469f889b1a457988ab1e05c6a2d1ae": {
      "model_module": "@jupyter-widgets/base",
      "model_module_version": "1.2.0",
      "model_name": "LayoutModel",
      "state": {
       "_model_module": "@jupyter-widgets/base",
       "_model_module_version": "1.2.0",
       "_model_name": "LayoutModel",
       "_view_count": null,
       "_view_module": "@jupyter-widgets/base",
       "_view_module_version": "1.2.0",
       "_view_name": "LayoutView",
       "align_content": null,
       "align_items": null,
       "align_self": null,
       "border": null,
       "bottom": null,
       "display": null,
       "flex": null,
       "flex_flow": null,
       "grid_area": null,
       "grid_auto_columns": null,
       "grid_auto_flow": null,
       "grid_auto_rows": null,
       "grid_column": null,
       "grid_gap": null,
       "grid_row": null,
       "grid_template_areas": null,
       "grid_template_columns": null,
       "grid_template_rows": null,
       "height": null,
       "justify_content": null,
       "justify_items": null,
       "left": null,
       "margin": null,
       "max_height": null,
       "max_width": null,
       "min_height": null,
       "min_width": null,
       "object_fit": null,
       "object_position": null,
       "order": null,
       "overflow": null,
       "overflow_x": null,
       "overflow_y": null,
       "padding": null,
       "right": null,
       "top": null,
       "visibility": null,
       "width": null
      }
     },
     "b651c2a28a2440b68851b7ea4fb491d6": {
      "model_module": "@jupyter-widgets/controls",
      "model_module_version": "1.5.0",
      "model_name": "DescriptionStyleModel",
      "state": {
       "_model_module": "@jupyter-widgets/controls",
       "_model_module_version": "1.5.0",
       "_model_name": "DescriptionStyleModel",
       "_view_count": null,
       "_view_module": "@jupyter-widgets/base",
       "_view_module_version": "1.2.0",
       "_view_name": "StyleView",
       "description_width": ""
      }
     },
     "b823525d6d4b44759cad2eacb6c9d2fc": {
      "model_module": "@jupyter-widgets/controls",
      "model_module_version": "1.5.0",
      "model_name": "ProgressStyleModel",
      "state": {
       "_model_module": "@jupyter-widgets/controls",
       "_model_module_version": "1.5.0",
       "_model_name": "ProgressStyleModel",
       "_view_count": null,
       "_view_module": "@jupyter-widgets/base",
       "_view_module_version": "1.2.0",
       "_view_name": "StyleView",
       "bar_color": null,
       "description_width": ""
      }
     },
     "b8364a1bf1474cafb88e76bc757348a0": {
      "model_module": "@jupyter-widgets/base",
      "model_module_version": "1.2.0",
      "model_name": "LayoutModel",
      "state": {
       "_model_module": "@jupyter-widgets/base",
       "_model_module_version": "1.2.0",
       "_model_name": "LayoutModel",
       "_view_count": null,
       "_view_module": "@jupyter-widgets/base",
       "_view_module_version": "1.2.0",
       "_view_name": "LayoutView",
       "align_content": null,
       "align_items": null,
       "align_self": null,
       "border": null,
       "bottom": null,
       "display": null,
       "flex": null,
       "flex_flow": null,
       "grid_area": null,
       "grid_auto_columns": null,
       "grid_auto_flow": null,
       "grid_auto_rows": null,
       "grid_column": null,
       "grid_gap": null,
       "grid_row": null,
       "grid_template_areas": null,
       "grid_template_columns": null,
       "grid_template_rows": null,
       "height": null,
       "justify_content": null,
       "justify_items": null,
       "left": null,
       "margin": null,
       "max_height": null,
       "max_width": null,
       "min_height": null,
       "min_width": null,
       "object_fit": null,
       "object_position": null,
       "order": null,
       "overflow": null,
       "overflow_x": null,
       "overflow_y": null,
       "padding": null,
       "right": null,
       "top": null,
       "visibility": null,
       "width": null
      }
     },
     "b8711f6ddc374be7a039ff6f76458dc3": {
      "model_module": "@jupyter-widgets/controls",
      "model_module_version": "1.5.0",
      "model_name": "HBoxModel",
      "state": {
       "_dom_classes": [],
       "_model_module": "@jupyter-widgets/controls",
       "_model_module_version": "1.5.0",
       "_model_name": "HBoxModel",
       "_view_count": null,
       "_view_module": "@jupyter-widgets/controls",
       "_view_module_version": "1.5.0",
       "_view_name": "HBoxView",
       "box_style": "",
       "children": [
        "IPY_MODEL_bbb0e656e698439aaf1bd369e6d98623",
        "IPY_MODEL_e355a3aba1ea4a3ca6d2672f002e834c",
        "IPY_MODEL_a73797adc2cb4404b7c54c709417647b"
       ],
       "layout": "IPY_MODEL_32bc1b931eb5462ea88011f87a7db1aa"
      }
     },
     "b91f57fdc6ae4639ac29fd0c3a2befa5": {
      "model_module": "@jupyter-widgets/controls",
      "model_module_version": "1.5.0",
      "model_name": "ProgressStyleModel",
      "state": {
       "_model_module": "@jupyter-widgets/controls",
       "_model_module_version": "1.5.0",
       "_model_name": "ProgressStyleModel",
       "_view_count": null,
       "_view_module": "@jupyter-widgets/base",
       "_view_module_version": "1.2.0",
       "_view_name": "StyleView",
       "bar_color": null,
       "description_width": ""
      }
     },
     "bb18f5598bba4126a5f366fc70ebe2fa": {
      "model_module": "@jupyter-widgets/base",
      "model_module_version": "1.2.0",
      "model_name": "LayoutModel",
      "state": {
       "_model_module": "@jupyter-widgets/base",
       "_model_module_version": "1.2.0",
       "_model_name": "LayoutModel",
       "_view_count": null,
       "_view_module": "@jupyter-widgets/base",
       "_view_module_version": "1.2.0",
       "_view_name": "LayoutView",
       "align_content": null,
       "align_items": null,
       "align_self": null,
       "border": null,
       "bottom": null,
       "display": null,
       "flex": null,
       "flex_flow": null,
       "grid_area": null,
       "grid_auto_columns": null,
       "grid_auto_flow": null,
       "grid_auto_rows": null,
       "grid_column": null,
       "grid_gap": null,
       "grid_row": null,
       "grid_template_areas": null,
       "grid_template_columns": null,
       "grid_template_rows": null,
       "height": null,
       "justify_content": null,
       "justify_items": null,
       "left": null,
       "margin": null,
       "max_height": null,
       "max_width": null,
       "min_height": null,
       "min_width": null,
       "object_fit": null,
       "object_position": null,
       "order": null,
       "overflow": null,
       "overflow_x": null,
       "overflow_y": null,
       "padding": null,
       "right": null,
       "top": null,
       "visibility": null,
       "width": null
      }
     },
     "bb914eb5c95944af830391502b18b26b": {
      "model_module": "@jupyter-widgets/controls",
      "model_module_version": "1.5.0",
      "model_name": "HBoxModel",
      "state": {
       "_dom_classes": [],
       "_model_module": "@jupyter-widgets/controls",
       "_model_module_version": "1.5.0",
       "_model_name": "HBoxModel",
       "_view_count": null,
       "_view_module": "@jupyter-widgets/controls",
       "_view_module_version": "1.5.0",
       "_view_name": "HBoxView",
       "box_style": "",
       "children": [
        "IPY_MODEL_40cbd7208dfd4c99b6b562ff1273695f",
        "IPY_MODEL_4515271baf314b69b7f67511b3a3600f",
        "IPY_MODEL_f6369214612949128132189392648f39"
       ],
       "layout": "IPY_MODEL_bb18f5598bba4126a5f366fc70ebe2fa"
      }
     },
     "bbb0e656e698439aaf1bd369e6d98623": {
      "model_module": "@jupyter-widgets/controls",
      "model_module_version": "1.5.0",
      "model_name": "HTMLModel",
      "state": {
       "_dom_classes": [],
       "_model_module": "@jupyter-widgets/controls",
       "_model_module_version": "1.5.0",
       "_model_name": "HTMLModel",
       "_view_count": null,
       "_view_module": "@jupyter-widgets/controls",
       "_view_module_version": "1.5.0",
       "_view_name": "HTMLView",
       "description": "",
       "description_tooltip": null,
       "layout": "IPY_MODEL_ef47384fa49844fb9df1be2dbb1ae88b",
       "placeholder": "​",
       "style": "IPY_MODEL_723a10a80c4740cc9be1d94e08520183",
       "value": "100%"
      }
     },
     "bd730b16ad944b60adf0de0fd0b639c4": {
      "model_module": "@jupyter-widgets/controls",
      "model_module_version": "1.5.0",
      "model_name": "HBoxModel",
      "state": {
       "_dom_classes": [],
       "_model_module": "@jupyter-widgets/controls",
       "_model_module_version": "1.5.0",
       "_model_name": "HBoxModel",
       "_view_count": null,
       "_view_module": "@jupyter-widgets/controls",
       "_view_module_version": "1.5.0",
       "_view_name": "HBoxView",
       "box_style": "",
       "children": [
        "IPY_MODEL_473ad335bcc845de93cf4ab27941b2cb",
        "IPY_MODEL_49d53ec804b84748a7b3a84326868c6e",
        "IPY_MODEL_99c79e09f80f4608844929aee2cf79e9"
       ],
       "layout": "IPY_MODEL_73840c20ce9840a48b5fb5d070c31580"
      }
     },
     "c4c0019f3c0b4ef4a8dc0bf57c23238c": {
      "model_module": "@jupyter-widgets/controls",
      "model_module_version": "1.5.0",
      "model_name": "HTMLModel",
      "state": {
       "_dom_classes": [],
       "_model_module": "@jupyter-widgets/controls",
       "_model_module_version": "1.5.0",
       "_model_name": "HTMLModel",
       "_view_count": null,
       "_view_module": "@jupyter-widgets/controls",
       "_view_module_version": "1.5.0",
       "_view_name": "HTMLView",
       "description": "",
       "description_tooltip": null,
       "layout": "IPY_MODEL_a0ed7d479b06492db27a6ff5396aa03a",
       "placeholder": "​",
       "style": "IPY_MODEL_c82c04fbc9d34ad6af3b8dd0ef2ca288",
       "value": " 5876/5876 [26:51&lt;00:00,  3.80it/s]"
      }
     },
     "c82c04fbc9d34ad6af3b8dd0ef2ca288": {
      "model_module": "@jupyter-widgets/controls",
      "model_module_version": "1.5.0",
      "model_name": "DescriptionStyleModel",
      "state": {
       "_model_module": "@jupyter-widgets/controls",
       "_model_module_version": "1.5.0",
       "_model_name": "DescriptionStyleModel",
       "_view_count": null,
       "_view_module": "@jupyter-widgets/base",
       "_view_module_version": "1.2.0",
       "_view_name": "StyleView",
       "description_width": ""
      }
     },
     "c8aa14504f5441999a36a259d3b880bf": {
      "model_module": "@jupyter-widgets/controls",
      "model_module_version": "1.5.0",
      "model_name": "DescriptionStyleModel",
      "state": {
       "_model_module": "@jupyter-widgets/controls",
       "_model_module_version": "1.5.0",
       "_model_name": "DescriptionStyleModel",
       "_view_count": null,
       "_view_module": "@jupyter-widgets/base",
       "_view_module_version": "1.2.0",
       "_view_name": "StyleView",
       "description_width": ""
      }
     },
     "c95a7f4478d04efa8d9a863333a4f615": {
      "model_module": "@jupyter-widgets/base",
      "model_module_version": "1.2.0",
      "model_name": "LayoutModel",
      "state": {
       "_model_module": "@jupyter-widgets/base",
       "_model_module_version": "1.2.0",
       "_model_name": "LayoutModel",
       "_view_count": null,
       "_view_module": "@jupyter-widgets/base",
       "_view_module_version": "1.2.0",
       "_view_name": "LayoutView",
       "align_content": null,
       "align_items": null,
       "align_self": null,
       "border": null,
       "bottom": null,
       "display": null,
       "flex": null,
       "flex_flow": null,
       "grid_area": null,
       "grid_auto_columns": null,
       "grid_auto_flow": null,
       "grid_auto_rows": null,
       "grid_column": null,
       "grid_gap": null,
       "grid_row": null,
       "grid_template_areas": null,
       "grid_template_columns": null,
       "grid_template_rows": null,
       "height": null,
       "justify_content": null,
       "justify_items": null,
       "left": null,
       "margin": null,
       "max_height": null,
       "max_width": null,
       "min_height": null,
       "min_width": null,
       "object_fit": null,
       "object_position": null,
       "order": null,
       "overflow": null,
       "overflow_x": null,
       "overflow_y": null,
       "padding": null,
       "right": null,
       "top": null,
       "visibility": null,
       "width": null
      }
     },
     "caebd120273646a1865c9fec5ad95aab": {
      "model_module": "@jupyter-widgets/base",
      "model_module_version": "1.2.0",
      "model_name": "LayoutModel",
      "state": {
       "_model_module": "@jupyter-widgets/base",
       "_model_module_version": "1.2.0",
       "_model_name": "LayoutModel",
       "_view_count": null,
       "_view_module": "@jupyter-widgets/base",
       "_view_module_version": "1.2.0",
       "_view_name": "LayoutView",
       "align_content": null,
       "align_items": null,
       "align_self": null,
       "border": null,
       "bottom": null,
       "display": null,
       "flex": null,
       "flex_flow": null,
       "grid_area": null,
       "grid_auto_columns": null,
       "grid_auto_flow": null,
       "grid_auto_rows": null,
       "grid_column": null,
       "grid_gap": null,
       "grid_row": null,
       "grid_template_areas": null,
       "grid_template_columns": null,
       "grid_template_rows": null,
       "height": null,
       "justify_content": null,
       "justify_items": null,
       "left": null,
       "margin": null,
       "max_height": null,
       "max_width": null,
       "min_height": null,
       "min_width": null,
       "object_fit": null,
       "object_position": null,
       "order": null,
       "overflow": null,
       "overflow_x": null,
       "overflow_y": null,
       "padding": null,
       "right": null,
       "top": null,
       "visibility": null,
       "width": null
      }
     },
     "cfd465a903c446ac88717b17d2ca9b74": {
      "model_module": "@jupyter-widgets/controls",
      "model_module_version": "1.5.0",
      "model_name": "HTMLModel",
      "state": {
       "_dom_classes": [],
       "_model_module": "@jupyter-widgets/controls",
       "_model_module_version": "1.5.0",
       "_model_name": "HTMLModel",
       "_view_count": null,
       "_view_module": "@jupyter-widgets/controls",
       "_view_module_version": "1.5.0",
       "_view_name": "HTMLView",
       "description": "",
       "description_tooltip": null,
       "layout": "IPY_MODEL_539e197a240c45b9bcf2136d4b702b2f",
       "placeholder": "​",
       "style": "IPY_MODEL_7097bf51e208440aa6cdc1cc4963b1da",
       "value": " 5876/5876 [26:50&lt;00:00,  3.80it/s]"
      }
     },
     "d347fcf6e5c44cbeaf4f7a6c5e640302": {
      "model_module": "@jupyter-widgets/controls",
      "model_module_version": "1.5.0",
      "model_name": "HTMLModel",
      "state": {
       "_dom_classes": [],
       "_model_module": "@jupyter-widgets/controls",
       "_model_module_version": "1.5.0",
       "_model_name": "HTMLModel",
       "_view_count": null,
       "_view_module": "@jupyter-widgets/controls",
       "_view_module_version": "1.5.0",
       "_view_name": "HTMLView",
       "description": "",
       "description_tooltip": null,
       "layout": "IPY_MODEL_8d161b8619114976ad560f6c2e6f8bc5",
       "placeholder": "​",
       "style": "IPY_MODEL_33f148e37edd4f35a0531e2dd887724a",
       "value": " 5876/5876 [26:50&lt;00:00,  3.80it/s]"
      }
     },
     "d49ffd3cbf634fb982bd2d689b22ad55": {
      "model_module": "@jupyter-widgets/base",
      "model_module_version": "1.2.0",
      "model_name": "LayoutModel",
      "state": {
       "_model_module": "@jupyter-widgets/base",
       "_model_module_version": "1.2.0",
       "_model_name": "LayoutModel",
       "_view_count": null,
       "_view_module": "@jupyter-widgets/base",
       "_view_module_version": "1.2.0",
       "_view_name": "LayoutView",
       "align_content": null,
       "align_items": null,
       "align_self": null,
       "border": null,
       "bottom": null,
       "display": null,
       "flex": null,
       "flex_flow": null,
       "grid_area": null,
       "grid_auto_columns": null,
       "grid_auto_flow": null,
       "grid_auto_rows": null,
       "grid_column": null,
       "grid_gap": null,
       "grid_row": null,
       "grid_template_areas": null,
       "grid_template_columns": null,
       "grid_template_rows": null,
       "height": null,
       "justify_content": null,
       "justify_items": null,
       "left": null,
       "margin": null,
       "max_height": null,
       "max_width": null,
       "min_height": null,
       "min_width": null,
       "object_fit": null,
       "object_position": null,
       "order": null,
       "overflow": null,
       "overflow_x": null,
       "overflow_y": null,
       "padding": null,
       "right": null,
       "top": null,
       "visibility": null,
       "width": null
      }
     },
     "d4bfc57bead242cfae5b7d1147f71b85": {
      "model_module": "@jupyter-widgets/controls",
      "model_module_version": "1.5.0",
      "model_name": "FloatProgressModel",
      "state": {
       "_dom_classes": [],
       "_model_module": "@jupyter-widgets/controls",
       "_model_module_version": "1.5.0",
       "_model_name": "FloatProgressModel",
       "_view_count": null,
       "_view_module": "@jupyter-widgets/controls",
       "_view_module_version": "1.5.0",
       "_view_name": "ProgressView",
       "bar_style": "danger",
       "description": "",
       "description_tooltip": null,
       "layout": "IPY_MODEL_026c25106d9745398e484e63ec186fe0",
       "max": 5876,
       "min": 0,
       "orientation": "horizontal",
       "style": "IPY_MODEL_f070972066fa4cbe8b4c28f630832280",
       "value": 0
      }
     },
     "d6b77a6bc37548f68d1445dce964a5d9": {
      "model_module": "@jupyter-widgets/controls",
      "model_module_version": "1.5.0",
      "model_name": "ProgressStyleModel",
      "state": {
       "_model_module": "@jupyter-widgets/controls",
       "_model_module_version": "1.5.0",
       "_model_name": "ProgressStyleModel",
       "_view_count": null,
       "_view_module": "@jupyter-widgets/base",
       "_view_module_version": "1.2.0",
       "_view_name": "StyleView",
       "bar_color": null,
       "description_width": ""
      }
     },
     "d773d2f5c001467aae64a33f7685941b": {
      "model_module": "@jupyter-widgets/controls",
      "model_module_version": "1.5.0",
      "model_name": "DescriptionStyleModel",
      "state": {
       "_model_module": "@jupyter-widgets/controls",
       "_model_module_version": "1.5.0",
       "_model_name": "DescriptionStyleModel",
       "_view_count": null,
       "_view_module": "@jupyter-widgets/base",
       "_view_module_version": "1.2.0",
       "_view_name": "StyleView",
       "description_width": ""
      }
     },
     "d806843dc7fb408087c891c0b87afc93": {
      "model_module": "@jupyter-widgets/controls",
      "model_module_version": "1.5.0",
      "model_name": "HTMLModel",
      "state": {
       "_dom_classes": [],
       "_model_module": "@jupyter-widgets/controls",
       "_model_module_version": "1.5.0",
       "_model_name": "HTMLModel",
       "_view_count": null,
       "_view_module": "@jupyter-widgets/controls",
       "_view_module_version": "1.5.0",
       "_view_name": "HTMLView",
       "description": "",
       "description_tooltip": null,
       "layout": "IPY_MODEL_da07704f373d4a9f840febd3a2a3d5b5",
       "placeholder": "​",
       "style": "IPY_MODEL_8d40189f22774a55af2b060a7fd0a28a",
       "value": "100%"
      }
     },
     "d97701e7e3494a0cafe2694231b0aed1": {
      "model_module": "@jupyter-widgets/controls",
      "model_module_version": "1.5.0",
      "model_name": "DescriptionStyleModel",
      "state": {
       "_model_module": "@jupyter-widgets/controls",
       "_model_module_version": "1.5.0",
       "_model_name": "DescriptionStyleModel",
       "_view_count": null,
       "_view_module": "@jupyter-widgets/base",
       "_view_module_version": "1.2.0",
       "_view_name": "StyleView",
       "description_width": ""
      }
     },
     "d9b11f1940434437bf6b1d1bd13067e8": {
      "model_module": "@jupyter-widgets/controls",
      "model_module_version": "1.5.0",
      "model_name": "FloatProgressModel",
      "state": {
       "_dom_classes": [],
       "_model_module": "@jupyter-widgets/controls",
       "_model_module_version": "1.5.0",
       "_model_name": "FloatProgressModel",
       "_view_count": null,
       "_view_module": "@jupyter-widgets/controls",
       "_view_module_version": "1.5.0",
       "_view_name": "ProgressView",
       "bar_style": "success",
       "description": "",
       "description_tooltip": null,
       "layout": "IPY_MODEL_a5eeb1faf9ad47558bc4bfbb62547a3f",
       "max": 5876,
       "min": 0,
       "orientation": "horizontal",
       "style": "IPY_MODEL_1b8d8b7df1fd48d29fb559a46623dde6",
       "value": 5876
      }
     },
     "d9defd42bc4a4835a68b11eb1e7589ef": {
      "model_module": "@jupyter-widgets/controls",
      "model_module_version": "1.5.0",
      "model_name": "ProgressStyleModel",
      "state": {
       "_model_module": "@jupyter-widgets/controls",
       "_model_module_version": "1.5.0",
       "_model_name": "ProgressStyleModel",
       "_view_count": null,
       "_view_module": "@jupyter-widgets/base",
       "_view_module_version": "1.2.0",
       "_view_name": "StyleView",
       "bar_color": null,
       "description_width": ""
      }
     },
     "da07704f373d4a9f840febd3a2a3d5b5": {
      "model_module": "@jupyter-widgets/base",
      "model_module_version": "1.2.0",
      "model_name": "LayoutModel",
      "state": {
       "_model_module": "@jupyter-widgets/base",
       "_model_module_version": "1.2.0",
       "_model_name": "LayoutModel",
       "_view_count": null,
       "_view_module": "@jupyter-widgets/base",
       "_view_module_version": "1.2.0",
       "_view_name": "LayoutView",
       "align_content": null,
       "align_items": null,
       "align_self": null,
       "border": null,
       "bottom": null,
       "display": null,
       "flex": null,
       "flex_flow": null,
       "grid_area": null,
       "grid_auto_columns": null,
       "grid_auto_flow": null,
       "grid_auto_rows": null,
       "grid_column": null,
       "grid_gap": null,
       "grid_row": null,
       "grid_template_areas": null,
       "grid_template_columns": null,
       "grid_template_rows": null,
       "height": null,
       "justify_content": null,
       "justify_items": null,
       "left": null,
       "margin": null,
       "max_height": null,
       "max_width": null,
       "min_height": null,
       "min_width": null,
       "object_fit": null,
       "object_position": null,
       "order": null,
       "overflow": null,
       "overflow_x": null,
       "overflow_y": null,
       "padding": null,
       "right": null,
       "top": null,
       "visibility": null,
       "width": null
      }
     },
     "dbe7dbc4cf534049969a4fa7d868d8b0": {
      "model_module": "@jupyter-widgets/controls",
      "model_module_version": "1.5.0",
      "model_name": "ProgressStyleModel",
      "state": {
       "_model_module": "@jupyter-widgets/controls",
       "_model_module_version": "1.5.0",
       "_model_name": "ProgressStyleModel",
       "_view_count": null,
       "_view_module": "@jupyter-widgets/base",
       "_view_module_version": "1.2.0",
       "_view_name": "StyleView",
       "bar_color": null,
       "description_width": ""
      }
     },
     "dbffa118c0c545f6b5dcdd250dacd5b0": {
      "model_module": "@jupyter-widgets/base",
      "model_module_version": "1.2.0",
      "model_name": "LayoutModel",
      "state": {
       "_model_module": "@jupyter-widgets/base",
       "_model_module_version": "1.2.0",
       "_model_name": "LayoutModel",
       "_view_count": null,
       "_view_module": "@jupyter-widgets/base",
       "_view_module_version": "1.2.0",
       "_view_name": "LayoutView",
       "align_content": null,
       "align_items": null,
       "align_self": null,
       "border": null,
       "bottom": null,
       "display": null,
       "flex": null,
       "flex_flow": null,
       "grid_area": null,
       "grid_auto_columns": null,
       "grid_auto_flow": null,
       "grid_auto_rows": null,
       "grid_column": null,
       "grid_gap": null,
       "grid_row": null,
       "grid_template_areas": null,
       "grid_template_columns": null,
       "grid_template_rows": null,
       "height": null,
       "justify_content": null,
       "justify_items": null,
       "left": null,
       "margin": null,
       "max_height": null,
       "max_width": null,
       "min_height": null,
       "min_width": null,
       "object_fit": null,
       "object_position": null,
       "order": null,
       "overflow": null,
       "overflow_x": null,
       "overflow_y": null,
       "padding": null,
       "right": null,
       "top": null,
       "visibility": null,
       "width": null
      }
     },
     "e0bcfc2317384901aa77ccf6e0df4b2c": {
      "model_module": "@jupyter-widgets/controls",
      "model_module_version": "1.5.0",
      "model_name": "DescriptionStyleModel",
      "state": {
       "_model_module": "@jupyter-widgets/controls",
       "_model_module_version": "1.5.0",
       "_model_name": "DescriptionStyleModel",
       "_view_count": null,
       "_view_module": "@jupyter-widgets/base",
       "_view_module_version": "1.2.0",
       "_view_name": "StyleView",
       "description_width": ""
      }
     },
     "e16c2265ac68457ca1fc51a42c9a8553": {
      "model_module": "@jupyter-widgets/controls",
      "model_module_version": "1.5.0",
      "model_name": "DescriptionStyleModel",
      "state": {
       "_model_module": "@jupyter-widgets/controls",
       "_model_module_version": "1.5.0",
       "_model_name": "DescriptionStyleModel",
       "_view_count": null,
       "_view_module": "@jupyter-widgets/base",
       "_view_module_version": "1.2.0",
       "_view_name": "StyleView",
       "description_width": ""
      }
     },
     "e355a3aba1ea4a3ca6d2672f002e834c": {
      "model_module": "@jupyter-widgets/controls",
      "model_module_version": "1.5.0",
      "model_name": "FloatProgressModel",
      "state": {
       "_dom_classes": [],
       "_model_module": "@jupyter-widgets/controls",
       "_model_module_version": "1.5.0",
       "_model_name": "FloatProgressModel",
       "_view_count": null,
       "_view_module": "@jupyter-widgets/controls",
       "_view_module_version": "1.5.0",
       "_view_name": "ProgressView",
       "bar_style": "success",
       "description": "",
       "description_tooltip": null,
       "layout": "IPY_MODEL_5770894b34ae4d38a11b7316f621d2e7",
       "max": 5876,
       "min": 0,
       "orientation": "horizontal",
       "style": "IPY_MODEL_fcf9f871c0254943b36a8b6a786d3caa",
       "value": 5876
      }
     },
     "e39bda4964ee4c32a263993f3b7b5b21": {
      "model_module": "@jupyter-widgets/base",
      "model_module_version": "1.2.0",
      "model_name": "LayoutModel",
      "state": {
       "_model_module": "@jupyter-widgets/base",
       "_model_module_version": "1.2.0",
       "_model_name": "LayoutModel",
       "_view_count": null,
       "_view_module": "@jupyter-widgets/base",
       "_view_module_version": "1.2.0",
       "_view_name": "LayoutView",
       "align_content": null,
       "align_items": null,
       "align_self": null,
       "border": null,
       "bottom": null,
       "display": null,
       "flex": null,
       "flex_flow": null,
       "grid_area": null,
       "grid_auto_columns": null,
       "grid_auto_flow": null,
       "grid_auto_rows": null,
       "grid_column": null,
       "grid_gap": null,
       "grid_row": null,
       "grid_template_areas": null,
       "grid_template_columns": null,
       "grid_template_rows": null,
       "height": null,
       "justify_content": null,
       "justify_items": null,
       "left": null,
       "margin": null,
       "max_height": null,
       "max_width": null,
       "min_height": null,
       "min_width": null,
       "object_fit": null,
       "object_position": null,
       "order": null,
       "overflow": null,
       "overflow_x": null,
       "overflow_y": null,
       "padding": null,
       "right": null,
       "top": null,
       "visibility": null,
       "width": null
      }
     },
     "e46d34a1fdfc4ef9be397c826a77b8a5": {
      "model_module": "@jupyter-widgets/controls",
      "model_module_version": "1.5.0",
      "model_name": "ProgressStyleModel",
      "state": {
       "_model_module": "@jupyter-widgets/controls",
       "_model_module_version": "1.5.0",
       "_model_name": "ProgressStyleModel",
       "_view_count": null,
       "_view_module": "@jupyter-widgets/base",
       "_view_module_version": "1.2.0",
       "_view_name": "StyleView",
       "bar_color": null,
       "description_width": ""
      }
     },
     "e53cc47face54465a7eec614b3230169": {
      "model_module": "@jupyter-widgets/base",
      "model_module_version": "1.2.0",
      "model_name": "LayoutModel",
      "state": {
       "_model_module": "@jupyter-widgets/base",
       "_model_module_version": "1.2.0",
       "_model_name": "LayoutModel",
       "_view_count": null,
       "_view_module": "@jupyter-widgets/base",
       "_view_module_version": "1.2.0",
       "_view_name": "LayoutView",
       "align_content": null,
       "align_items": null,
       "align_self": null,
       "border": null,
       "bottom": null,
       "display": null,
       "flex": null,
       "flex_flow": null,
       "grid_area": null,
       "grid_auto_columns": null,
       "grid_auto_flow": null,
       "grid_auto_rows": null,
       "grid_column": null,
       "grid_gap": null,
       "grid_row": null,
       "grid_template_areas": null,
       "grid_template_columns": null,
       "grid_template_rows": null,
       "height": null,
       "justify_content": null,
       "justify_items": null,
       "left": null,
       "margin": null,
       "max_height": null,
       "max_width": null,
       "min_height": null,
       "min_width": null,
       "object_fit": null,
       "object_position": null,
       "order": null,
       "overflow": null,
       "overflow_x": null,
       "overflow_y": null,
       "padding": null,
       "right": null,
       "top": null,
       "visibility": null,
       "width": null
      }
     },
     "e854015c1b6b41d897b30278d9ddde70": {
      "model_module": "@jupyter-widgets/base",
      "model_module_version": "1.2.0",
      "model_name": "LayoutModel",
      "state": {
       "_model_module": "@jupyter-widgets/base",
       "_model_module_version": "1.2.0",
       "_model_name": "LayoutModel",
       "_view_count": null,
       "_view_module": "@jupyter-widgets/base",
       "_view_module_version": "1.2.0",
       "_view_name": "LayoutView",
       "align_content": null,
       "align_items": null,
       "align_self": null,
       "border": null,
       "bottom": null,
       "display": null,
       "flex": null,
       "flex_flow": null,
       "grid_area": null,
       "grid_auto_columns": null,
       "grid_auto_flow": null,
       "grid_auto_rows": null,
       "grid_column": null,
       "grid_gap": null,
       "grid_row": null,
       "grid_template_areas": null,
       "grid_template_columns": null,
       "grid_template_rows": null,
       "height": null,
       "justify_content": null,
       "justify_items": null,
       "left": null,
       "margin": null,
       "max_height": null,
       "max_width": null,
       "min_height": null,
       "min_width": null,
       "object_fit": null,
       "object_position": null,
       "order": null,
       "overflow": null,
       "overflow_x": null,
       "overflow_y": null,
       "padding": null,
       "right": null,
       "top": null,
       "visibility": null,
       "width": null
      }
     },
     "e892c94ff9ea408f8d7ee976f0740fac": {
      "model_module": "@jupyter-widgets/controls",
      "model_module_version": "1.5.0",
      "model_name": "HTMLModel",
      "state": {
       "_dom_classes": [],
       "_model_module": "@jupyter-widgets/controls",
       "_model_module_version": "1.5.0",
       "_model_name": "HTMLModel",
       "_view_count": null,
       "_view_module": "@jupyter-widgets/controls",
       "_view_module_version": "1.5.0",
       "_view_name": "HTMLView",
       "description": "",
       "description_tooltip": null,
       "layout": "IPY_MODEL_7ed0ed0ef41b44cf8f008f26c090a224",
       "placeholder": "​",
       "style": "IPY_MODEL_93cdd34b55fd44f0a8ef18e3a18c1f9c",
       "value": "100%"
      }
     },
     "e95b9ea8747b4e60b26e5f2e94d03995": {
      "model_module": "@jupyter-widgets/controls",
      "model_module_version": "1.5.0",
      "model_name": "ProgressStyleModel",
      "state": {
       "_model_module": "@jupyter-widgets/controls",
       "_model_module_version": "1.5.0",
       "_model_name": "ProgressStyleModel",
       "_view_count": null,
       "_view_module": "@jupyter-widgets/base",
       "_view_module_version": "1.2.0",
       "_view_name": "StyleView",
       "bar_color": null,
       "description_width": ""
      }
     },
     "ea15885b5d084447865a750e2a671cf5": {
      "model_module": "@jupyter-widgets/base",
      "model_module_version": "1.2.0",
      "model_name": "LayoutModel",
      "state": {
       "_model_module": "@jupyter-widgets/base",
       "_model_module_version": "1.2.0",
       "_model_name": "LayoutModel",
       "_view_count": null,
       "_view_module": "@jupyter-widgets/base",
       "_view_module_version": "1.2.0",
       "_view_name": "LayoutView",
       "align_content": null,
       "align_items": null,
       "align_self": null,
       "border": null,
       "bottom": null,
       "display": null,
       "flex": null,
       "flex_flow": null,
       "grid_area": null,
       "grid_auto_columns": null,
       "grid_auto_flow": null,
       "grid_auto_rows": null,
       "grid_column": null,
       "grid_gap": null,
       "grid_row": null,
       "grid_template_areas": null,
       "grid_template_columns": null,
       "grid_template_rows": null,
       "height": null,
       "justify_content": null,
       "justify_items": null,
       "left": null,
       "margin": null,
       "max_height": null,
       "max_width": null,
       "min_height": null,
       "min_width": null,
       "object_fit": null,
       "object_position": null,
       "order": null,
       "overflow": null,
       "overflow_x": null,
       "overflow_y": null,
       "padding": null,
       "right": null,
       "top": null,
       "visibility": null,
       "width": null
      }
     },
     "edc7fe1377f44406949869ca02783a57": {
      "model_module": "@jupyter-widgets/base",
      "model_module_version": "1.2.0",
      "model_name": "LayoutModel",
      "state": {
       "_model_module": "@jupyter-widgets/base",
       "_model_module_version": "1.2.0",
       "_model_name": "LayoutModel",
       "_view_count": null,
       "_view_module": "@jupyter-widgets/base",
       "_view_module_version": "1.2.0",
       "_view_name": "LayoutView",
       "align_content": null,
       "align_items": null,
       "align_self": null,
       "border": null,
       "bottom": null,
       "display": null,
       "flex": null,
       "flex_flow": null,
       "grid_area": null,
       "grid_auto_columns": null,
       "grid_auto_flow": null,
       "grid_auto_rows": null,
       "grid_column": null,
       "grid_gap": null,
       "grid_row": null,
       "grid_template_areas": null,
       "grid_template_columns": null,
       "grid_template_rows": null,
       "height": null,
       "justify_content": null,
       "justify_items": null,
       "left": null,
       "margin": null,
       "max_height": null,
       "max_width": null,
       "min_height": null,
       "min_width": null,
       "object_fit": null,
       "object_position": null,
       "order": null,
       "overflow": null,
       "overflow_x": null,
       "overflow_y": null,
       "padding": null,
       "right": null,
       "top": null,
       "visibility": null,
       "width": null
      }
     },
     "eed8723d5868488fbfc672d565ec2a94": {
      "model_module": "@jupyter-widgets/controls",
      "model_module_version": "1.5.0",
      "model_name": "HBoxModel",
      "state": {
       "_dom_classes": [],
       "_model_module": "@jupyter-widgets/controls",
       "_model_module_version": "1.5.0",
       "_model_name": "HBoxModel",
       "_view_count": null,
       "_view_module": "@jupyter-widgets/controls",
       "_view_module_version": "1.5.0",
       "_view_name": "HBoxView",
       "box_style": "",
       "children": [
        "IPY_MODEL_e892c94ff9ea408f8d7ee976f0740fac",
        "IPY_MODEL_4594af9f555b4af4972fdaa32a0df6f1",
        "IPY_MODEL_826adf39527744cb923beda8478819b8"
       ],
       "layout": "IPY_MODEL_86f77352a324442cabfdbbb5b4424ed4"
      }
     },
     "ef47384fa49844fb9df1be2dbb1ae88b": {
      "model_module": "@jupyter-widgets/base",
      "model_module_version": "1.2.0",
      "model_name": "LayoutModel",
      "state": {
       "_model_module": "@jupyter-widgets/base",
       "_model_module_version": "1.2.0",
       "_model_name": "LayoutModel",
       "_view_count": null,
       "_view_module": "@jupyter-widgets/base",
       "_view_module_version": "1.2.0",
       "_view_name": "LayoutView",
       "align_content": null,
       "align_items": null,
       "align_self": null,
       "border": null,
       "bottom": null,
       "display": null,
       "flex": null,
       "flex_flow": null,
       "grid_area": null,
       "grid_auto_columns": null,
       "grid_auto_flow": null,
       "grid_auto_rows": null,
       "grid_column": null,
       "grid_gap": null,
       "grid_row": null,
       "grid_template_areas": null,
       "grid_template_columns": null,
       "grid_template_rows": null,
       "height": null,
       "justify_content": null,
       "justify_items": null,
       "left": null,
       "margin": null,
       "max_height": null,
       "max_width": null,
       "min_height": null,
       "min_width": null,
       "object_fit": null,
       "object_position": null,
       "order": null,
       "overflow": null,
       "overflow_x": null,
       "overflow_y": null,
       "padding": null,
       "right": null,
       "top": null,
       "visibility": null,
       "width": null
      }
     },
     "efa3d5a679ee4fe1ac2bd2915b27de3c": {
      "model_module": "@jupyter-widgets/controls",
      "model_module_version": "1.5.0",
      "model_name": "HBoxModel",
      "state": {
       "_dom_classes": [],
       "_model_module": "@jupyter-widgets/controls",
       "_model_module_version": "1.5.0",
       "_model_name": "HBoxModel",
       "_view_count": null,
       "_view_module": "@jupyter-widgets/controls",
       "_view_module_version": "1.5.0",
       "_view_name": "HBoxView",
       "box_style": "",
       "children": [
        "IPY_MODEL_b261e8c2785844b9a543f106fd342002",
        "IPY_MODEL_d9b11f1940434437bf6b1d1bd13067e8",
        "IPY_MODEL_496c4651f2a24090b9f5c0512e6f7dfe"
       ],
       "layout": "IPY_MODEL_794f24bccb684a81bb74ee4acd1284e3"
      }
     },
     "effab97fd1eb48358e76606a8b9732e0": {
      "model_module": "@jupyter-widgets/controls",
      "model_module_version": "1.5.0",
      "model_name": "DescriptionStyleModel",
      "state": {
       "_model_module": "@jupyter-widgets/controls",
       "_model_module_version": "1.5.0",
       "_model_name": "DescriptionStyleModel",
       "_view_count": null,
       "_view_module": "@jupyter-widgets/base",
       "_view_module_version": "1.2.0",
       "_view_name": "StyleView",
       "description_width": ""
      }
     },
     "f070972066fa4cbe8b4c28f630832280": {
      "model_module": "@jupyter-widgets/controls",
      "model_module_version": "1.5.0",
      "model_name": "ProgressStyleModel",
      "state": {
       "_model_module": "@jupyter-widgets/controls",
       "_model_module_version": "1.5.0",
       "_model_name": "ProgressStyleModel",
       "_view_count": null,
       "_view_module": "@jupyter-widgets/base",
       "_view_module_version": "1.2.0",
       "_view_name": "StyleView",
       "bar_color": null,
       "description_width": ""
      }
     },
     "f1e02743b91345b6a0e3ee2589c0421c": {
      "model_module": "@jupyter-widgets/controls",
      "model_module_version": "1.5.0",
      "model_name": "FloatProgressModel",
      "state": {
       "_dom_classes": [],
       "_model_module": "@jupyter-widgets/controls",
       "_model_module_version": "1.5.0",
       "_model_name": "FloatProgressModel",
       "_view_count": null,
       "_view_module": "@jupyter-widgets/controls",
       "_view_module_version": "1.5.0",
       "_view_name": "ProgressView",
       "bar_style": "success",
       "description": "",
       "description_tooltip": null,
       "layout": "IPY_MODEL_a36f766b69f9408dac00c1529bacdafa",
       "max": 5876,
       "min": 0,
       "orientation": "horizontal",
       "style": "IPY_MODEL_2d94697d69744523ba265f0aae8e2dbe",
       "value": 5876
      }
     },
     "f304f1248c744f468661c3cb21f457e9": {
      "model_module": "@jupyter-widgets/controls",
      "model_module_version": "1.5.0",
      "model_name": "DescriptionStyleModel",
      "state": {
       "_model_module": "@jupyter-widgets/controls",
       "_model_module_version": "1.5.0",
       "_model_name": "DescriptionStyleModel",
       "_view_count": null,
       "_view_module": "@jupyter-widgets/base",
       "_view_module_version": "1.2.0",
       "_view_name": "StyleView",
       "description_width": ""
      }
     },
     "f6369214612949128132189392648f39": {
      "model_module": "@jupyter-widgets/controls",
      "model_module_version": "1.5.0",
      "model_name": "HTMLModel",
      "state": {
       "_dom_classes": [],
       "_model_module": "@jupyter-widgets/controls",
       "_model_module_version": "1.5.0",
       "_model_name": "HTMLModel",
       "_view_count": null,
       "_view_module": "@jupyter-widgets/controls",
       "_view_module_version": "1.5.0",
       "_view_name": "HTMLView",
       "description": "",
       "description_tooltip": null,
       "layout": "IPY_MODEL_3b0646012e384719b12de794ae3f0e94",
       "placeholder": "​",
       "style": "IPY_MODEL_002b2ac0054643ebba1737bbdc76df0e",
       "value": " 5876/5876 [26:50&lt;00:00,  3.80it/s]"
      }
     },
     "f74f6363bcd04c3a9d08e50cb5e055a0": {
      "model_module": "@jupyter-widgets/base",
      "model_module_version": "1.2.0",
      "model_name": "LayoutModel",
      "state": {
       "_model_module": "@jupyter-widgets/base",
       "_model_module_version": "1.2.0",
       "_model_name": "LayoutModel",
       "_view_count": null,
       "_view_module": "@jupyter-widgets/base",
       "_view_module_version": "1.2.0",
       "_view_name": "LayoutView",
       "align_content": null,
       "align_items": null,
       "align_self": null,
       "border": null,
       "bottom": null,
       "display": null,
       "flex": null,
       "flex_flow": null,
       "grid_area": null,
       "grid_auto_columns": null,
       "grid_auto_flow": null,
       "grid_auto_rows": null,
       "grid_column": null,
       "grid_gap": null,
       "grid_row": null,
       "grid_template_areas": null,
       "grid_template_columns": null,
       "grid_template_rows": null,
       "height": null,
       "justify_content": null,
       "justify_items": null,
       "left": null,
       "margin": null,
       "max_height": null,
       "max_width": null,
       "min_height": null,
       "min_width": null,
       "object_fit": null,
       "object_position": null,
       "order": null,
       "overflow": null,
       "overflow_x": null,
       "overflow_y": null,
       "padding": null,
       "right": null,
       "top": null,
       "visibility": null,
       "width": null
      }
     },
     "f77863391c8245e5b8207480c0fcb2f0": {
      "model_module": "@jupyter-widgets/controls",
      "model_module_version": "1.5.0",
      "model_name": "FloatProgressModel",
      "state": {
       "_dom_classes": [],
       "_model_module": "@jupyter-widgets/controls",
       "_model_module_version": "1.5.0",
       "_model_name": "FloatProgressModel",
       "_view_count": null,
       "_view_module": "@jupyter-widgets/controls",
       "_view_module_version": "1.5.0",
       "_view_name": "ProgressView",
       "bar_style": "success",
       "description": "",
       "description_tooltip": null,
       "layout": "IPY_MODEL_ea15885b5d084447865a750e2a671cf5",
       "max": 5876,
       "min": 0,
       "orientation": "horizontal",
       "style": "IPY_MODEL_e95b9ea8747b4e60b26e5f2e94d03995",
       "value": 5876
      }
     },
     "f99e879d66984539b7269368e4325750": {
      "model_module": "@jupyter-widgets/controls",
      "model_module_version": "1.5.0",
      "model_name": "FloatProgressModel",
      "state": {
       "_dom_classes": [],
       "_model_module": "@jupyter-widgets/controls",
       "_model_module_version": "1.5.0",
       "_model_name": "FloatProgressModel",
       "_view_count": null,
       "_view_module": "@jupyter-widgets/controls",
       "_view_module_version": "1.5.0",
       "_view_name": "ProgressView",
       "bar_style": "success",
       "description": "",
       "description_tooltip": null,
       "layout": "IPY_MODEL_aa0f770b4e4047dabb81e91ec0a3e4e7",
       "max": 5876,
       "min": 0,
       "orientation": "horizontal",
       "style": "IPY_MODEL_b30e41b10e23450f85ae699d229a92df",
       "value": 5876
      }
     },
     "f9e6d6fba1e047ca8ef9bc65d6624f89": {
      "model_module": "@jupyter-widgets/controls",
      "model_module_version": "1.5.0",
      "model_name": "ProgressStyleModel",
      "state": {
       "_model_module": "@jupyter-widgets/controls",
       "_model_module_version": "1.5.0",
       "_model_name": "ProgressStyleModel",
       "_view_count": null,
       "_view_module": "@jupyter-widgets/base",
       "_view_module_version": "1.2.0",
       "_view_name": "StyleView",
       "bar_color": null,
       "description_width": ""
      }
     },
     "f9ffbcc360d349fb9482df4f13d85aca": {
      "model_module": "@jupyter-widgets/base",
      "model_module_version": "1.2.0",
      "model_name": "LayoutModel",
      "state": {
       "_model_module": "@jupyter-widgets/base",
       "_model_module_version": "1.2.0",
       "_model_name": "LayoutModel",
       "_view_count": null,
       "_view_module": "@jupyter-widgets/base",
       "_view_module_version": "1.2.0",
       "_view_name": "LayoutView",
       "align_content": null,
       "align_items": null,
       "align_self": null,
       "border": null,
       "bottom": null,
       "display": null,
       "flex": null,
       "flex_flow": null,
       "grid_area": null,
       "grid_auto_columns": null,
       "grid_auto_flow": null,
       "grid_auto_rows": null,
       "grid_column": null,
       "grid_gap": null,
       "grid_row": null,
       "grid_template_areas": null,
       "grid_template_columns": null,
       "grid_template_rows": null,
       "height": null,
       "justify_content": null,
       "justify_items": null,
       "left": null,
       "margin": null,
       "max_height": null,
       "max_width": null,
       "min_height": null,
       "min_width": null,
       "object_fit": null,
       "object_position": null,
       "order": null,
       "overflow": null,
       "overflow_x": null,
       "overflow_y": null,
       "padding": null,
       "right": null,
       "top": null,
       "visibility": null,
       "width": null
      }
     },
     "fa427493af884ee0920acadaa421e19c": {
      "model_module": "@jupyter-widgets/controls",
      "model_module_version": "1.5.0",
      "model_name": "DescriptionStyleModel",
      "state": {
       "_model_module": "@jupyter-widgets/controls",
       "_model_module_version": "1.5.0",
       "_model_name": "DescriptionStyleModel",
       "_view_count": null,
       "_view_module": "@jupyter-widgets/base",
       "_view_module_version": "1.2.0",
       "_view_name": "StyleView",
       "description_width": ""
      }
     },
     "fa750f813ec849999beef0f26d7b844e": {
      "model_module": "@jupyter-widgets/controls",
      "model_module_version": "1.5.0",
      "model_name": "HTMLModel",
      "state": {
       "_dom_classes": [],
       "_model_module": "@jupyter-widgets/controls",
       "_model_module_version": "1.5.0",
       "_model_name": "HTMLModel",
       "_view_count": null,
       "_view_module": "@jupyter-widgets/controls",
       "_view_module_version": "1.5.0",
       "_view_name": "HTMLView",
       "description": "",
       "description_tooltip": null,
       "layout": "IPY_MODEL_2804682a5d6e4e8dadc387a348d17eda",
       "placeholder": "​",
       "style": "IPY_MODEL_85af9a31a3a64b8e9e7006cebd9b6176",
       "value": "100%"
      }
     },
     "fb271e560dda4b89a3a315eb09029d13": {
      "model_module": "@jupyter-widgets/controls",
      "model_module_version": "1.5.0",
      "model_name": "HBoxModel",
      "state": {
       "_dom_classes": [],
       "_model_module": "@jupyter-widgets/controls",
       "_model_module_version": "1.5.0",
       "_model_name": "HBoxModel",
       "_view_count": null,
       "_view_module": "@jupyter-widgets/controls",
       "_view_module_version": "1.5.0",
       "_view_name": "HBoxView",
       "box_style": "",
       "children": [
        "IPY_MODEL_78028b37c0db464e8de69522f19a61b4",
        "IPY_MODEL_2d5b5b4273604dad916cb3694ef11fda",
        "IPY_MODEL_9653e4da74b14509a7638894b94241f8"
       ],
       "layout": "IPY_MODEL_8e7131a1aad84b91985f8b866b0d791a"
      }
     },
     "fb7afd9f95dd48e2b3b3f5acc85269b2": {
      "model_module": "@jupyter-widgets/base",
      "model_module_version": "1.2.0",
      "model_name": "LayoutModel",
      "state": {
       "_model_module": "@jupyter-widgets/base",
       "_model_module_version": "1.2.0",
       "_model_name": "LayoutModel",
       "_view_count": null,
       "_view_module": "@jupyter-widgets/base",
       "_view_module_version": "1.2.0",
       "_view_name": "LayoutView",
       "align_content": null,
       "align_items": null,
       "align_self": null,
       "border": null,
       "bottom": null,
       "display": null,
       "flex": null,
       "flex_flow": null,
       "grid_area": null,
       "grid_auto_columns": null,
       "grid_auto_flow": null,
       "grid_auto_rows": null,
       "grid_column": null,
       "grid_gap": null,
       "grid_row": null,
       "grid_template_areas": null,
       "grid_template_columns": null,
       "grid_template_rows": null,
       "height": null,
       "justify_content": null,
       "justify_items": null,
       "left": null,
       "margin": null,
       "max_height": null,
       "max_width": null,
       "min_height": null,
       "min_width": null,
       "object_fit": null,
       "object_position": null,
       "order": null,
       "overflow": null,
       "overflow_x": null,
       "overflow_y": null,
       "padding": null,
       "right": null,
       "top": null,
       "visibility": null,
       "width": null
      }
     },
     "fcf9f871c0254943b36a8b6a786d3caa": {
      "model_module": "@jupyter-widgets/controls",
      "model_module_version": "1.5.0",
      "model_name": "ProgressStyleModel",
      "state": {
       "_model_module": "@jupyter-widgets/controls",
       "_model_module_version": "1.5.0",
       "_model_name": "ProgressStyleModel",
       "_view_count": null,
       "_view_module": "@jupyter-widgets/base",
       "_view_module_version": "1.2.0",
       "_view_name": "StyleView",
       "bar_color": null,
       "description_width": ""
      }
     },
     "fd08d46a8400457f9b46491ea8894bb4": {
      "model_module": "@jupyter-widgets/base",
      "model_module_version": "1.2.0",
      "model_name": "LayoutModel",
      "state": {
       "_model_module": "@jupyter-widgets/base",
       "_model_module_version": "1.2.0",
       "_model_name": "LayoutModel",
       "_view_count": null,
       "_view_module": "@jupyter-widgets/base",
       "_view_module_version": "1.2.0",
       "_view_name": "LayoutView",
       "align_content": null,
       "align_items": null,
       "align_self": null,
       "border": null,
       "bottom": null,
       "display": null,
       "flex": null,
       "flex_flow": null,
       "grid_area": null,
       "grid_auto_columns": null,
       "grid_auto_flow": null,
       "grid_auto_rows": null,
       "grid_column": null,
       "grid_gap": null,
       "grid_row": null,
       "grid_template_areas": null,
       "grid_template_columns": null,
       "grid_template_rows": null,
       "height": null,
       "justify_content": null,
       "justify_items": null,
       "left": null,
       "margin": null,
       "max_height": null,
       "max_width": null,
       "min_height": null,
       "min_width": null,
       "object_fit": null,
       "object_position": null,
       "order": null,
       "overflow": null,
       "overflow_x": null,
       "overflow_y": null,
       "padding": null,
       "right": null,
       "top": null,
       "visibility": null,
       "width": null
      }
     },
     "fea6bdaddb8d49eaaf9514697cc797e6": {
      "model_module": "@jupyter-widgets/controls",
      "model_module_version": "1.5.0",
      "model_name": "DescriptionStyleModel",
      "state": {
       "_model_module": "@jupyter-widgets/controls",
       "_model_module_version": "1.5.0",
       "_model_name": "DescriptionStyleModel",
       "_view_count": null,
       "_view_module": "@jupyter-widgets/base",
       "_view_module_version": "1.2.0",
       "_view_name": "StyleView",
       "description_width": ""
      }
     },
     "ff2f4cddba184ef89249fa0c02428bdb": {
      "model_module": "@jupyter-widgets/controls",
      "model_module_version": "1.5.0",
      "model_name": "DescriptionStyleModel",
      "state": {
       "_model_module": "@jupyter-widgets/controls",
       "_model_module_version": "1.5.0",
       "_model_name": "DescriptionStyleModel",
       "_view_count": null,
       "_view_module": "@jupyter-widgets/base",
       "_view_module_version": "1.2.0",
       "_view_name": "StyleView",
       "description_width": ""
      }
     },
     "ff40bf360e264f6882fa60f67b8d647e": {
      "model_module": "@jupyter-widgets/controls",
      "model_module_version": "1.5.0",
      "model_name": "HTMLModel",
      "state": {
       "_dom_classes": [],
       "_model_module": "@jupyter-widgets/controls",
       "_model_module_version": "1.5.0",
       "_model_name": "HTMLModel",
       "_view_count": null,
       "_view_module": "@jupyter-widgets/controls",
       "_view_module_version": "1.5.0",
       "_view_name": "HTMLView",
       "description": "",
       "description_tooltip": null,
       "layout": "IPY_MODEL_0520c81446eb437495da24508e11c3ea",
       "placeholder": "​",
       "style": "IPY_MODEL_a01afe39514b407b812e59039498660e",
       "value": " 5876/5876 [26:51&lt;00:00,  3.79it/s]"
      }
     },
     "ff715aac58f3465fbc659ef2aa512ff9": {
      "model_module": "@jupyter-widgets/controls",
      "model_module_version": "1.5.0",
      "model_name": "HTMLModel",
      "state": {
       "_dom_classes": [],
       "_model_module": "@jupyter-widgets/controls",
       "_model_module_version": "1.5.0",
       "_model_name": "HTMLModel",
       "_view_count": null,
       "_view_module": "@jupyter-widgets/controls",
       "_view_module_version": "1.5.0",
       "_view_name": "HTMLView",
       "description": "",
       "description_tooltip": null,
       "layout": "IPY_MODEL_8c82a94704274d1dbf8d10f860ab48d7",
       "placeholder": "​",
       "style": "IPY_MODEL_e0bcfc2317384901aa77ccf6e0df4b2c",
       "value": "100%"
      }
     }
    },
    "version_major": 2,
    "version_minor": 0
   }
  }
 },
 "nbformat": 4,
 "nbformat_minor": 5
}
