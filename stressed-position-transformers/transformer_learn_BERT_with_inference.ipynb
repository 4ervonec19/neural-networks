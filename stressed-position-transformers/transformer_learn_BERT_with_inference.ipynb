{
 "cells": [
  {
   "cell_type": "markdown",
   "metadata": {},
   "source": [
    "#### Данный ноутбук посвящен оценке качества и инференсу модели, обученной с помощью BERT!"
   ]
  },
  {
   "cell_type": "markdown",
   "metadata": {},
   "source": [
    "#### Подробные комментарии к функциям и классам для train не даются, их можно увидеть (как и сам train_val loop) в ноутбуке про обучение модели [¡тык!](transformer_learn_BERT_notebook.ipynb)\n",
    "\n",
    "#### Инференс и подсчет качества сразу после функции train_model()"
   ]
  },
  {
   "cell_type": "code",
   "execution_count": 1,
   "metadata": {
    "execution": {
     "iopub.execute_input": "2024-11-09T10:15:11.763753Z",
     "iopub.status.busy": "2024-11-09T10:15:11.763386Z",
     "iopub.status.idle": "2024-11-09T10:15:25.082084Z",
     "shell.execute_reply": "2024-11-09T10:15:25.080962Z",
     "shell.execute_reply.started": "2024-11-09T10:15:11.763717Z"
    },
    "trusted": true
   },
   "outputs": [
    {
     "name": "stdout",
     "output_type": "stream",
     "text": [
      "Requirement already satisfied: transformers in /opt/conda/lib/python3.10/site-packages (4.45.1)\n",
      "Requirement already satisfied: filelock in /opt/conda/lib/python3.10/site-packages (from transformers) (3.15.1)\n",
      "Requirement already satisfied: huggingface-hub<1.0,>=0.23.2 in /opt/conda/lib/python3.10/site-packages (from transformers) (0.25.1)\n",
      "Requirement already satisfied: numpy>=1.17 in /opt/conda/lib/python3.10/site-packages (from transformers) (1.26.4)\n",
      "Requirement already satisfied: packaging>=20.0 in /opt/conda/lib/python3.10/site-packages (from transformers) (21.3)\n",
      "Requirement already satisfied: pyyaml>=5.1 in /opt/conda/lib/python3.10/site-packages (from transformers) (6.0.2)\n",
      "Requirement already satisfied: regex!=2019.12.17 in /opt/conda/lib/python3.10/site-packages (from transformers) (2024.5.15)\n",
      "Requirement already satisfied: requests in /opt/conda/lib/python3.10/site-packages (from transformers) (2.32.3)\n",
      "Requirement already satisfied: safetensors>=0.4.1 in /opt/conda/lib/python3.10/site-packages (from transformers) (0.4.5)\n",
      "Requirement already satisfied: tokenizers<0.21,>=0.20 in /opt/conda/lib/python3.10/site-packages (from transformers) (0.20.0)\n",
      "Requirement already satisfied: tqdm>=4.27 in /opt/conda/lib/python3.10/site-packages (from transformers) (4.66.4)\n",
      "Requirement already satisfied: fsspec>=2023.5.0 in /opt/conda/lib/python3.10/site-packages (from huggingface-hub<1.0,>=0.23.2->transformers) (2024.6.1)\n",
      "Requirement already satisfied: typing-extensions>=3.7.4.3 in /opt/conda/lib/python3.10/site-packages (from huggingface-hub<1.0,>=0.23.2->transformers) (4.12.2)\n",
      "Requirement already satisfied: pyparsing!=3.0.5,>=2.0.2 in /opt/conda/lib/python3.10/site-packages (from packaging>=20.0->transformers) (3.1.2)\n",
      "Requirement already satisfied: charset-normalizer<4,>=2 in /opt/conda/lib/python3.10/site-packages (from requests->transformers) (3.3.2)\n",
      "Requirement already satisfied: idna<4,>=2.5 in /opt/conda/lib/python3.10/site-packages (from requests->transformers) (3.7)\n",
      "Requirement already satisfied: urllib3<3,>=1.21.1 in /opt/conda/lib/python3.10/site-packages (from requests->transformers) (1.26.18)\n",
      "Requirement already satisfied: certifi>=2017.4.17 in /opt/conda/lib/python3.10/site-packages (from requests->transformers) (2024.8.30)\n",
      "Note: you may need to restart the kernel to use updated packages.\n"
     ]
    }
   ],
   "source": [
    "pip install transformers"
   ]
  },
  {
   "cell_type": "code",
   "execution_count": 2,
   "metadata": {
    "execution": {
     "iopub.execute_input": "2024-11-09T10:15:25.085026Z",
     "iopub.status.busy": "2024-11-09T10:15:25.084524Z",
     "iopub.status.idle": "2024-11-09T10:15:39.256650Z",
     "shell.execute_reply": "2024-11-09T10:15:39.255551Z",
     "shell.execute_reply.started": "2024-11-09T10:15:25.084976Z"
    },
    "trusted": true
   },
   "outputs": [
    {
     "name": "stdout",
     "output_type": "stream",
     "text": [
      "Requirement already satisfied: datasets in /opt/conda/lib/python3.10/site-packages (3.0.1)\n",
      "Requirement already satisfied: accelerate in /opt/conda/lib/python3.10/site-packages (0.34.2)\n",
      "Collecting nvidia-ml-py3\n",
      "  Downloading nvidia-ml-py3-7.352.0.tar.gz (19 kB)\n",
      "  Preparing metadata (setup.py) ... \u001b[?25ldone\n",
      "\u001b[?25hRequirement already satisfied: filelock in /opt/conda/lib/python3.10/site-packages (from datasets) (3.15.1)\n",
      "Requirement already satisfied: numpy>=1.17 in /opt/conda/lib/python3.10/site-packages (from datasets) (1.26.4)\n",
      "Requirement already satisfied: pyarrow>=15.0.0 in /opt/conda/lib/python3.10/site-packages (from datasets) (16.1.0)\n",
      "Requirement already satisfied: dill<0.3.9,>=0.3.0 in /opt/conda/lib/python3.10/site-packages (from datasets) (0.3.8)\n",
      "Requirement already satisfied: pandas in /opt/conda/lib/python3.10/site-packages (from datasets) (2.2.2)\n",
      "Requirement already satisfied: requests>=2.32.2 in /opt/conda/lib/python3.10/site-packages (from datasets) (2.32.3)\n",
      "Requirement already satisfied: tqdm>=4.66.3 in /opt/conda/lib/python3.10/site-packages (from datasets) (4.66.4)\n",
      "Requirement already satisfied: xxhash in /opt/conda/lib/python3.10/site-packages (from datasets) (3.4.1)\n",
      "Requirement already satisfied: multiprocess in /opt/conda/lib/python3.10/site-packages (from datasets) (0.70.16)\n",
      "Requirement already satisfied: fsspec<=2024.6.1,>=2023.1.0 in /opt/conda/lib/python3.10/site-packages (from fsspec[http]<=2024.6.1,>=2023.1.0->datasets) (2024.6.1)\n",
      "Requirement already satisfied: aiohttp in /opt/conda/lib/python3.10/site-packages (from datasets) (3.9.5)\n",
      "Requirement already satisfied: huggingface-hub>=0.22.0 in /opt/conda/lib/python3.10/site-packages (from datasets) (0.25.1)\n",
      "Requirement already satisfied: packaging in /opt/conda/lib/python3.10/site-packages (from datasets) (21.3)\n",
      "Requirement already satisfied: pyyaml>=5.1 in /opt/conda/lib/python3.10/site-packages (from datasets) (6.0.2)\n",
      "Requirement already satisfied: psutil in /opt/conda/lib/python3.10/site-packages (from accelerate) (5.9.3)\n",
      "Requirement already satisfied: torch>=1.10.0 in /opt/conda/lib/python3.10/site-packages (from accelerate) (2.4.0)\n",
      "Requirement already satisfied: safetensors>=0.4.3 in /opt/conda/lib/python3.10/site-packages (from accelerate) (0.4.5)\n",
      "Requirement already satisfied: aiosignal>=1.1.2 in /opt/conda/lib/python3.10/site-packages (from aiohttp->datasets) (1.3.1)\n",
      "Requirement already satisfied: attrs>=17.3.0 in /opt/conda/lib/python3.10/site-packages (from aiohttp->datasets) (23.2.0)\n",
      "Requirement already satisfied: frozenlist>=1.1.1 in /opt/conda/lib/python3.10/site-packages (from aiohttp->datasets) (1.4.1)\n",
      "Requirement already satisfied: multidict<7.0,>=4.5 in /opt/conda/lib/python3.10/site-packages (from aiohttp->datasets) (6.0.5)\n",
      "Requirement already satisfied: yarl<2.0,>=1.0 in /opt/conda/lib/python3.10/site-packages (from aiohttp->datasets) (1.9.4)\n",
      "Requirement already satisfied: async-timeout<5.0,>=4.0 in /opt/conda/lib/python3.10/site-packages (from aiohttp->datasets) (4.0.3)\n",
      "Requirement already satisfied: typing-extensions>=3.7.4.3 in /opt/conda/lib/python3.10/site-packages (from huggingface-hub>=0.22.0->datasets) (4.12.2)\n",
      "Requirement already satisfied: pyparsing!=3.0.5,>=2.0.2 in /opt/conda/lib/python3.10/site-packages (from packaging->datasets) (3.1.2)\n",
      "Requirement already satisfied: charset-normalizer<4,>=2 in /opt/conda/lib/python3.10/site-packages (from requests>=2.32.2->datasets) (3.3.2)\n",
      "Requirement already satisfied: idna<4,>=2.5 in /opt/conda/lib/python3.10/site-packages (from requests>=2.32.2->datasets) (3.7)\n",
      "Requirement already satisfied: urllib3<3,>=1.21.1 in /opt/conda/lib/python3.10/site-packages (from requests>=2.32.2->datasets) (1.26.18)\n",
      "Requirement already satisfied: certifi>=2017.4.17 in /opt/conda/lib/python3.10/site-packages (from requests>=2.32.2->datasets) (2024.8.30)\n",
      "Requirement already satisfied: sympy in /opt/conda/lib/python3.10/site-packages (from torch>=1.10.0->accelerate) (1.13.3)\n",
      "Requirement already satisfied: networkx in /opt/conda/lib/python3.10/site-packages (from torch>=1.10.0->accelerate) (3.3)\n",
      "Requirement already satisfied: jinja2 in /opt/conda/lib/python3.10/site-packages (from torch>=1.10.0->accelerate) (3.1.4)\n",
      "Requirement already satisfied: python-dateutil>=2.8.2 in /opt/conda/lib/python3.10/site-packages (from pandas->datasets) (2.9.0.post0)\n",
      "Requirement already satisfied: pytz>=2020.1 in /opt/conda/lib/python3.10/site-packages (from pandas->datasets) (2024.1)\n",
      "Requirement already satisfied: tzdata>=2022.7 in /opt/conda/lib/python3.10/site-packages (from pandas->datasets) (2024.1)\n",
      "Requirement already satisfied: six>=1.5 in /opt/conda/lib/python3.10/site-packages (from python-dateutil>=2.8.2->pandas->datasets) (1.16.0)\n",
      "Requirement already satisfied: MarkupSafe>=2.0 in /opt/conda/lib/python3.10/site-packages (from jinja2->torch>=1.10.0->accelerate) (2.1.5)\n",
      "Requirement already satisfied: mpmath<1.4,>=1.1.0 in /opt/conda/lib/python3.10/site-packages (from sympy->torch>=1.10.0->accelerate) (1.3.0)\n",
      "Building wheels for collected packages: nvidia-ml-py3\n",
      "  Building wheel for nvidia-ml-py3 (setup.py) ... \u001b[?25ldone\n",
      "\u001b[?25h  Created wheel for nvidia-ml-py3: filename=nvidia_ml_py3-7.352.0-py3-none-any.whl size=19172 sha256=787cfdd93687aa3478c8be5b054c89d739ab897aeb59c03c34901e9ec1dac0a3\n",
      "  Stored in directory: /root/.cache/pip/wheels/5c/d8/c0/46899f8be7a75a2ffd197a23c8797700ea858b9b34819fbf9e\n",
      "Successfully built nvidia-ml-py3\n",
      "Installing collected packages: nvidia-ml-py3\n",
      "Successfully installed nvidia-ml-py3-7.352.0\n",
      "Note: you may need to restart the kernel to use updated packages.\n"
     ]
    }
   ],
   "source": [
    "pip install datasets accelerate nvidia-ml-py3"
   ]
  },
  {
   "cell_type": "code",
   "execution_count": 3,
   "metadata": {
    "_cell_guid": "b1076dfc-b9ad-4769-8c92-a6c4dae69d19",
    "_uuid": "8f2839f25d086af736a60e9eeb907d3b93b6e0e5",
    "execution": {
     "iopub.execute_input": "2024-11-09T10:15:39.258746Z",
     "iopub.status.busy": "2024-11-09T10:15:39.258282Z",
     "iopub.status.idle": "2024-11-09T10:16:01.971441Z",
     "shell.execute_reply": "2024-11-09T10:16:01.970645Z",
     "shell.execute_reply.started": "2024-11-09T10:15:39.258672Z"
    },
    "trusted": true
   },
   "outputs": [],
   "source": [
    "import os\n",
    "import string\n",
    "import sys\n",
    "import random\n",
    "import numpy as np\n",
    "import pandas as pd\n",
    "import time\n",
    "import matplotlib.pyplot as plt\n",
    "import re\n",
    "import datetime\n",
    "\n",
    "import torch\n",
    "from torch.utils.data import Dataset, DataLoader, Subset, ConcatDataset, random_split,  RandomSampler, SequentialSampler\n",
    "import torch.nn.functional as F\n",
    "import torch.nn as nn\n",
    "import torch.optim as optim\n",
    "from torch.nn.utils.rnn import pad_sequence\n",
    "\n",
    "from sklearn.metrics import accuracy_score\n",
    "from torch.utils.tensorboard import summary, writer, SummaryWriter\n",
    "\n",
    "from tqdm.notebook import tqdm\n"
   ]
  },
  {
   "cell_type": "markdown",
   "metadata": {},
   "source": [
    "#### Устанавливаем Seed'ы:"
   ]
  },
  {
   "cell_type": "code",
   "execution_count": 4,
   "metadata": {
    "execution": {
     "iopub.execute_input": "2024-11-09T10:16:05.451862Z",
     "iopub.status.busy": "2024-11-09T10:16:05.451191Z",
     "iopub.status.idle": "2024-11-09T10:16:05.467318Z",
     "shell.execute_reply": "2024-11-09T10:16:05.466508Z",
     "shell.execute_reply.started": "2024-11-09T10:16:05.451820Z"
    },
    "trusted": true
   },
   "outputs": [],
   "source": [
    "SEED = 42\n",
    "\n",
    "random.seed(SEED)\n",
    "np.random.seed(SEED)\n",
    "torch.manual_seed(SEED)\n",
    "torch.cuda.manual_seed_all(SEED)\n",
    "\n",
    "import warnings\n",
    "warnings.filterwarnings(\"ignore\")"
   ]
  },
  {
   "cell_type": "markdown",
   "metadata": {},
   "source": [
    "#### Задаём device:"
   ]
  },
  {
   "cell_type": "code",
   "execution_count": 5,
   "metadata": {
    "execution": {
     "iopub.execute_input": "2024-11-09T10:16:07.437867Z",
     "iopub.status.busy": "2024-11-09T10:16:07.436935Z",
     "iopub.status.idle": "2024-11-09T10:16:07.499939Z",
     "shell.execute_reply": "2024-11-09T10:16:07.498998Z",
     "shell.execute_reply.started": "2024-11-09T10:16:07.437825Z"
    },
    "trusted": true
   },
   "outputs": [
    {
     "name": "stdout",
     "output_type": "stream",
     "text": [
      "There are 1 GPU(s) available.\n",
      "We will use the GPU: Tesla P100-PCIE-16GB\n"
     ]
    }
   ],
   "source": [
    "if torch.cuda.is_available():\n",
    "\n",
    "    # Tell PyTorch to use the GPU.\n",
    "    device = torch.device(\"cuda\")\n",
    "\n",
    "    print('There are %d GPU(s) available.' % torch.cuda.device_count())\n",
    "\n",
    "    print('We will use the GPU:', torch.cuda.get_device_name(0))\n",
    "\n",
    "# If not...\n",
    "else:\n",
    "    print('No GPU available, using the CPU instead.')\n",
    "    device = torch.device(\"cpu\")"
   ]
  },
  {
   "cell_type": "markdown",
   "metadata": {},
   "source": [
    "#### Импортируем и устанавливаем дополнительно все, что необходимо:"
   ]
  },
  {
   "cell_type": "code",
   "execution_count": 6,
   "metadata": {
    "execution": {
     "iopub.execute_input": "2024-11-09T10:16:10.897215Z",
     "iopub.status.busy": "2024-11-09T10:16:10.896714Z",
     "iopub.status.idle": "2024-11-09T10:16:13.110399Z",
     "shell.execute_reply": "2024-11-09T10:16:13.109414Z",
     "shell.execute_reply.started": "2024-11-09T10:16:10.897159Z"
    },
    "trusted": true
   },
   "outputs": [
    {
     "name": "stdout",
     "output_type": "stream",
     "text": [
      "Cloning into 'character-tokenizer'...\n",
      "remote: Enumerating objects: 20, done.\u001b[K\n",
      "remote: Counting objects: 100% (20/20), done.\u001b[K\n",
      "remote: Compressing objects: 100% (14/14), done.\u001b[K\n",
      "remote: Total 20 (delta 5), reused 10 (delta 3), pack-reused 0 (from 0)\u001b[K\n",
      "Receiving objects: 100% (20/20), 5.89 KiB | 1.18 MiB/s, done.\n",
      "Resolving deltas: 100% (5/5), done.\n"
     ]
    }
   ],
   "source": [
    "!git clone https://github.com/KuzmaKhrabrov/character-tokenizer.git"
   ]
  },
  {
   "cell_type": "code",
   "execution_count": 7,
   "metadata": {
    "execution": {
     "iopub.execute_input": "2024-11-09T10:16:16.886636Z",
     "iopub.status.busy": "2024-11-09T10:16:16.885808Z",
     "iopub.status.idle": "2024-11-09T10:16:17.732289Z",
     "shell.execute_reply": "2024-11-09T10:16:17.731278Z",
     "shell.execute_reply.started": "2024-11-09T10:16:16.886592Z"
    },
    "trusted": true
   },
   "outputs": [],
   "source": [
    "sys.path.append(\"/kaggle/input/tools/character-tokenizer\")\n",
    "from charactertokenizer import CharacterTokenizer"
   ]
  },
  {
   "cell_type": "markdown",
   "metadata": {},
   "source": [
    "#### Check:"
   ]
  },
  {
   "cell_type": "code",
   "execution_count": 8,
   "metadata": {
    "execution": {
     "iopub.execute_input": "2024-11-09T10:16:19.758228Z",
     "iopub.status.busy": "2024-11-09T10:16:19.757241Z",
     "iopub.status.idle": "2024-11-09T10:16:19.765955Z",
     "shell.execute_reply": "2024-11-09T10:16:19.764874Z",
     "shell.execute_reply.started": "2024-11-09T10:16:19.758184Z"
    },
    "trusted": true
   },
   "outputs": [],
   "source": [
    "chars = \"АаБбВвГгДдЕеЁёЖжЗзИиЙйКкЛлМмНнОоПпРрСсТтУуФфХхЦцЧчШшЩщЪъЫыЬьЭэЮюЯя-h\"\n",
    "model_max_length = 22\n",
    "tokenizer = CharacterTokenizer(chars, model_max_length)"
   ]
  },
  {
   "cell_type": "markdown",
   "metadata": {},
   "source": [
    "#### Encode:"
   ]
  },
  {
   "cell_type": "code",
   "execution_count": 9,
   "metadata": {
    "execution": {
     "iopub.execute_input": "2024-11-09T10:16:22.010495Z",
     "iopub.status.busy": "2024-11-09T10:16:22.009841Z",
     "iopub.status.idle": "2024-11-09T10:16:22.015678Z",
     "shell.execute_reply": "2024-11-09T10:16:22.014746Z",
     "shell.execute_reply.started": "2024-11-09T10:16:22.010452Z"
    },
    "trusted": true
   },
   "outputs": [
    {
     "name": "stdout",
     "output_type": "stream",
     "text": [
      "{'input_ids': [0, 73, 10, 48, 74, 1], 'token_type_ids': [0, 0, 0, 0, 0, 0], 'attention_mask': [1, 1, 1, 1, 1, 1]}\n"
     ]
    }
   ],
   "source": [
    "example = \"-буh\"\n",
    "tokens = tokenizer(example)\n",
    "print(tokens)"
   ]
  },
  {
   "cell_type": "markdown",
   "metadata": {},
   "source": [
    "#### Decode:"
   ]
  },
  {
   "cell_type": "code",
   "execution_count": 10,
   "metadata": {
    "execution": {
     "iopub.execute_input": "2024-11-09T10:16:23.526768Z",
     "iopub.status.busy": "2024-11-09T10:16:23.526047Z",
     "iopub.status.idle": "2024-11-09T10:16:23.531823Z",
     "shell.execute_reply": "2024-11-09T10:16:23.530897Z",
     "shell.execute_reply.started": "2024-11-09T10:16:23.526725Z"
    },
    "trusted": true
   },
   "outputs": [
    {
     "name": "stdout",
     "output_type": "stream",
     "text": [
      "[CLS]-буh[SEP]\n"
     ]
    }
   ],
   "source": [
    "print(tokenizer.decode(tokens[\"input_ids\"]))"
   ]
  },
  {
   "cell_type": "markdown",
   "metadata": {},
   "source": [
    "#### Задача:\n",
    "\n",
    "##### Необходимо обучить модель классификации букв для задачи расстановки ударения с помощью методов из библиотеки transformers.\n",
    "\n",
    "1. Написать класс для Dataset/Dataloder и разбить данные на случайные train / test сплиты в соотношении 50:50. (1 балл)\n",
    "2. Попробовать обучить одну или несколько из моделей: Bert, Albert, Deberta. Посчитать метрику Accuracy на train и test. (1 балл). При преодолении порога в Accuracy на test 0.8: (+1 балл), 0.85: (+2 балла), 0.89: (+3 балла)."
   ]
  },
  {
   "cell_type": "markdown",
   "metadata": {},
   "source": [
    "#### Датасет загружен, проверяем его содержимое:"
   ]
  },
  {
   "cell_type": "code",
   "execution_count": 11,
   "metadata": {
    "execution": {
     "iopub.execute_input": "2024-11-09T10:16:27.286456Z",
     "iopub.status.busy": "2024-11-09T10:16:27.285453Z",
     "iopub.status.idle": "2024-11-09T10:16:30.225649Z",
     "shell.execute_reply": "2024-11-09T10:16:30.224840Z",
     "shell.execute_reply.started": "2024-11-09T10:16:27.286408Z"
    },
    "trusted": true
   },
   "outputs": [],
   "source": [
    "accents_path = '/kaggle/input/accents-dataset/all_accents.tsv'\n",
    "accents_dataset = pd.read_csv(accents_path, sep = '\\t', header=0, encoding='utf-8', na_values='NA')"
   ]
  },
  {
   "cell_type": "code",
   "execution_count": 12,
   "metadata": {
    "execution": {
     "iopub.execute_input": "2024-11-09T10:16:37.794352Z",
     "iopub.status.busy": "2024-11-09T10:16:37.793962Z",
     "iopub.status.idle": "2024-11-09T10:16:37.815474Z",
     "shell.execute_reply": "2024-11-09T10:16:37.814596Z",
     "shell.execute_reply.started": "2024-11-09T10:16:37.794315Z"
    },
    "trusted": true
   },
   "outputs": [
    {
     "data": {
      "text/html": [
       "<div>\n",
       "<style scoped>\n",
       "    .dataframe tbody tr th:only-of-type {\n",
       "        vertical-align: middle;\n",
       "    }\n",
       "\n",
       "    .dataframe tbody tr th {\n",
       "        vertical-align: top;\n",
       "    }\n",
       "\n",
       "    .dataframe thead th {\n",
       "        text-align: right;\n",
       "    }\n",
       "</style>\n",
       "<table border=\"1\" class=\"dataframe\">\n",
       "  <thead>\n",
       "    <tr style=\"text-align: right;\">\n",
       "      <th></th>\n",
       "      <th>-де</th>\n",
       "      <th>-д^е</th>\n",
       "    </tr>\n",
       "  </thead>\n",
       "  <tbody>\n",
       "    <tr>\n",
       "      <th>0</th>\n",
       "      <td>-ка</td>\n",
       "      <td>-к^а</td>\n",
       "    </tr>\n",
       "    <tr>\n",
       "      <th>1</th>\n",
       "      <td>-либо</td>\n",
       "      <td>-л^ибо</td>\n",
       "    </tr>\n",
       "    <tr>\n",
       "      <th>2</th>\n",
       "      <td>-нибудь</td>\n",
       "      <td>-ниб^удь</td>\n",
       "    </tr>\n",
       "    <tr>\n",
       "      <th>3</th>\n",
       "      <td>-с</td>\n",
       "      <td>-с</td>\n",
       "    </tr>\n",
       "    <tr>\n",
       "      <th>4</th>\n",
       "      <td>-таки</td>\n",
       "      <td>-так^и</td>\n",
       "    </tr>\n",
       "  </tbody>\n",
       "</table>\n",
       "</div>"
      ],
      "text/plain": [
       "       -де      -д^е\n",
       "0      -ка      -к^а\n",
       "1    -либо    -л^ибо\n",
       "2  -нибудь  -ниб^удь\n",
       "3       -с        -с\n",
       "4    -таки    -так^и"
      ]
     },
     "execution_count": 12,
     "metadata": {},
     "output_type": "execute_result"
    }
   ],
   "source": [
    "accents_dataset.head()"
   ]
  },
  {
   "cell_type": "markdown",
   "metadata": {},
   "source": [
    "#### Немного исследований датасета:"
   ]
  },
  {
   "cell_type": "code",
   "execution_count": 13,
   "metadata": {
    "execution": {
     "iopub.execute_input": "2024-11-09T10:16:39.712134Z",
     "iopub.status.busy": "2024-11-09T10:16:39.711746Z",
     "iopub.status.idle": "2024-11-09T10:16:39.717178Z",
     "shell.execute_reply": "2024-11-09T10:16:39.716205Z",
     "shell.execute_reply.started": "2024-11-09T10:16:39.712095Z"
    },
    "trusted": true
   },
   "outputs": [
    {
     "name": "stdout",
     "output_type": "stream",
     "text": [
      "1680534\n"
     ]
    }
   ],
   "source": [
    "# Число примеров:\n",
    "print(accents_dataset.shape[0])"
   ]
  },
  {
   "cell_type": "code",
   "execution_count": 14,
   "metadata": {
    "execution": {
     "iopub.execute_input": "2024-11-09T10:16:45.464049Z",
     "iopub.status.busy": "2024-11-09T10:16:45.463006Z",
     "iopub.status.idle": "2024-11-09T10:17:05.597453Z",
     "shell.execute_reply": "2024-11-09T10:17:05.596426Z",
     "shell.execute_reply.started": "2024-11-09T10:16:45.463994Z"
    },
    "trusted": true
   },
   "outputs": [],
   "source": [
    "# Символьная длина слов\n",
    "def word_length(word):\n",
    "    return len(word)\n",
    "\n",
    "# Один символ\n",
    "def is_one_symbol(word):\n",
    "    return int(len(word) == 1)\n",
    "\n",
    "# Больше одного слова через пробел\n",
    "def more_than_one_word(word):\n",
    "    splitted = word.split(' ')\n",
    "    return int(len(splitted) > 1)\n",
    "\n",
    "# Подсчет символов ударения ^:\n",
    "def count_hat(word):\n",
    "    return len(re.findall(r'\\^', word))\n",
    "\n",
    "# Есть ли латинские буквы в слове\n",
    "def contains_latin(word):\n",
    "    return int(bool(re.search(r'[a-zA-Z]', word)))\n",
    "\n",
    "# Функция для подсчета символов, которые не являются русскими буквами\n",
    "def count_non_russian(word):\n",
    "    return len(re.findall(r'[a-zA-Z]', word))\n",
    "\n",
    "def letter_yo(word):\n",
    "    return int(bool(re.search(r'[ёЁ]', word)))\n",
    "\n",
    "def error_cases(word):\n",
    "    pattern = r'\\^[бвгджзйклмнпрстфхцчшщБВГДЖЗЙКЛМНПРСТФХЦЧШЩ]'   \n",
    "    matches = re.findall(pattern, word)\n",
    "    return len(matches)\n",
    "\n",
    "\n",
    "accents_dataset['word_length'] = accents_dataset['-де'].map(word_length)\n",
    "accents_dataset['is_one_symbol'] = accents_dataset['-де'].map(is_one_symbol)\n",
    "accents_dataset['more_than_one_word'] = accents_dataset['-де'].map(more_than_one_word)\n",
    "accents_dataset['hat_num'] = accents_dataset['-д^е'].map(count_hat)\n",
    "accents_dataset['has_latin'] = accents_dataset['-де'].map(contains_latin)\n",
    "accents_dataset['num_non_russian'] = accents_dataset['-де'].map(count_non_russian)\n",
    "accents_dataset['error_cases'] = accents_dataset['-д^е'].map(error_cases)\n",
    "accents_dataset['is_Ёё'] = accents_dataset['-де'].map(letter_yo)"
   ]
  },
  {
   "cell_type": "code",
   "execution_count": 15,
   "metadata": {
    "execution": {
     "iopub.execute_input": "2024-11-09T10:17:05.600005Z",
     "iopub.status.busy": "2024-11-09T10:17:05.599506Z",
     "iopub.status.idle": "2024-11-09T10:17:05.611313Z",
     "shell.execute_reply": "2024-11-09T10:17:05.610452Z",
     "shell.execute_reply.started": "2024-11-09T10:17:05.599954Z"
    },
    "trusted": true
   },
   "outputs": [
    {
     "name": "stdout",
     "output_type": "stream",
     "text": [
      "Максимальное число символов в слове: 56\n",
      "Среднее число символов в слове: 10.641052189363618\n"
     ]
    }
   ],
   "source": [
    "# Максимальное и среднее число символов в слове:\n",
    "word_max_length = accents_dataset['word_length'].max()\n",
    "print(f\"Максимальное число символов в слове: {word_max_length}\")\n",
    "\n",
    "# Максимальное и среднее число символов в слове:\n",
    "word_mean_length = accents_dataset['word_length'].mean()\n",
    "print(f\"Среднее число символов в слове: {word_mean_length}\")"
   ]
  },
  {
   "cell_type": "markdown",
   "metadata": {},
   "source": [
    "#### Посмотрим более пристально на ударения:"
   ]
  },
  {
   "cell_type": "code",
   "execution_count": 16,
   "metadata": {
    "execution": {
     "iopub.execute_input": "2024-11-09T10:17:05.612760Z",
     "iopub.status.busy": "2024-11-09T10:17:05.612477Z",
     "iopub.status.idle": "2024-11-09T10:17:05.631176Z",
     "shell.execute_reply": "2024-11-09T10:17:05.630330Z",
     "shell.execute_reply.started": "2024-11-09T10:17:05.612729Z"
    },
    "trusted": true
   },
   "outputs": [
    {
     "name": "stdout",
     "output_type": "stream",
     "text": [
      "Максимальное число ударений в слове: 1\n",
      "Количество случаев отсутствия ударений в словах: 507\n"
     ]
    }
   ],
   "source": [
    "accents_count_max = accents_dataset['hat_num'].max()\n",
    "print(f\"Максимальное число ударений в слове: {accents_count_max}\")\n",
    "\n",
    "zero_accents_num = accents_dataset[accents_dataset['hat_num'] == 0].shape[0]\n",
    "print(f\"Количество случаев отсутствия ударений в словах: {zero_accents_num}\")"
   ]
  },
  {
   "cell_type": "markdown",
   "metadata": {},
   "source": [
    "Ошибок нет, где у нас больше одного ударения. Однако у нас целых 507 случаев отсутствия ударений в словах:"
   ]
  },
  {
   "cell_type": "code",
   "execution_count": 17,
   "metadata": {
    "execution": {
     "iopub.execute_input": "2024-11-09T10:17:09.231106Z",
     "iopub.status.busy": "2024-11-09T10:17:09.230749Z",
     "iopub.status.idle": "2024-11-09T10:17:09.248366Z",
     "shell.execute_reply": "2024-11-09T10:17:09.247421Z",
     "shell.execute_reply.started": "2024-11-09T10:17:09.231073Z"
    },
    "trusted": true
   },
   "outputs": [
    {
     "data": {
      "text/html": [
       "<div>\n",
       "<style scoped>\n",
       "    .dataframe tbody tr th:only-of-type {\n",
       "        vertical-align: middle;\n",
       "    }\n",
       "\n",
       "    .dataframe tbody tr th {\n",
       "        vertical-align: top;\n",
       "    }\n",
       "\n",
       "    .dataframe thead th {\n",
       "        text-align: right;\n",
       "    }\n",
       "</style>\n",
       "<table border=\"1\" class=\"dataframe\">\n",
       "  <thead>\n",
       "    <tr style=\"text-align: right;\">\n",
       "      <th></th>\n",
       "      <th>-де</th>\n",
       "      <th>-д^е</th>\n",
       "      <th>word_length</th>\n",
       "      <th>is_one_symbol</th>\n",
       "      <th>more_than_one_word</th>\n",
       "      <th>hat_num</th>\n",
       "      <th>has_latin</th>\n",
       "      <th>num_non_russian</th>\n",
       "      <th>error_cases</th>\n",
       "      <th>is_Ёё</th>\n",
       "    </tr>\n",
       "  </thead>\n",
       "  <tbody>\n",
       "    <tr>\n",
       "      <th>3</th>\n",
       "      <td>-с</td>\n",
       "      <td>-с</td>\n",
       "      <td>2</td>\n",
       "      <td>0</td>\n",
       "      <td>0</td>\n",
       "      <td>0</td>\n",
       "      <td>0</td>\n",
       "      <td>0</td>\n",
       "      <td>0</td>\n",
       "      <td>0</td>\n",
       "    </tr>\n",
       "    <tr>\n",
       "      <th>16107</th>\n",
       "      <td>ай</td>\n",
       "      <td>ай</td>\n",
       "      <td>2</td>\n",
       "      <td>0</td>\n",
       "      <td>0</td>\n",
       "      <td>0</td>\n",
       "      <td>0</td>\n",
       "      <td>0</td>\n",
       "      <td>0</td>\n",
       "      <td>0</td>\n",
       "    </tr>\n",
       "    <tr>\n",
       "      <th>16172</th>\n",
       "      <td>айвингхо</td>\n",
       "      <td>айвингхо</td>\n",
       "      <td>8</td>\n",
       "      <td>0</td>\n",
       "      <td>0</td>\n",
       "      <td>0</td>\n",
       "      <td>0</td>\n",
       "      <td>0</td>\n",
       "      <td>0</td>\n",
       "      <td>0</td>\n",
       "    </tr>\n",
       "    <tr>\n",
       "      <th>24766</th>\n",
       "      <td>алмондсбери</td>\n",
       "      <td>алмондсбери</td>\n",
       "      <td>11</td>\n",
       "      <td>0</td>\n",
       "      <td>0</td>\n",
       "      <td>0</td>\n",
       "      <td>0</td>\n",
       "      <td>0</td>\n",
       "      <td>0</td>\n",
       "      <td>0</td>\n",
       "    </tr>\n",
       "    <tr>\n",
       "      <th>27255</th>\n",
       "      <td>ам</td>\n",
       "      <td>ам</td>\n",
       "      <td>2</td>\n",
       "      <td>0</td>\n",
       "      <td>0</td>\n",
       "      <td>0</td>\n",
       "      <td>0</td>\n",
       "      <td>0</td>\n",
       "      <td>0</td>\n",
       "      <td>0</td>\n",
       "    </tr>\n",
       "    <tr>\n",
       "      <th>29041</th>\n",
       "      <td>амка</td>\n",
       "      <td>амка</td>\n",
       "      <td>4</td>\n",
       "      <td>0</td>\n",
       "      <td>0</td>\n",
       "      <td>0</td>\n",
       "      <td>0</td>\n",
       "      <td>0</td>\n",
       "      <td>0</td>\n",
       "      <td>0</td>\n",
       "    </tr>\n",
       "    <tr>\n",
       "      <th>35185</th>\n",
       "      <td>анка</td>\n",
       "      <td>анка</td>\n",
       "      <td>4</td>\n",
       "      <td>0</td>\n",
       "      <td>0</td>\n",
       "      <td>0</td>\n",
       "      <td>0</td>\n",
       "      <td>0</td>\n",
       "      <td>0</td>\n",
       "      <td>0</td>\n",
       "    </tr>\n",
       "    <tr>\n",
       "      <th>42254</th>\n",
       "      <td>анька</td>\n",
       "      <td>анька</td>\n",
       "      <td>5</td>\n",
       "      <td>0</td>\n",
       "      <td>0</td>\n",
       "      <td>0</td>\n",
       "      <td>0</td>\n",
       "      <td>0</td>\n",
       "      <td>0</td>\n",
       "      <td>0</td>\n",
       "    </tr>\n",
       "    <tr>\n",
       "      <th>62526</th>\n",
       "      <td>б</td>\n",
       "      <td>б</td>\n",
       "      <td>1</td>\n",
       "      <td>1</td>\n",
       "      <td>0</td>\n",
       "      <td>0</td>\n",
       "      <td>0</td>\n",
       "      <td>0</td>\n",
       "      <td>0</td>\n",
       "      <td>0</td>\n",
       "    </tr>\n",
       "    <tr>\n",
       "      <th>75305</th>\n",
       "      <td>бедерный</td>\n",
       "      <td>бедерный</td>\n",
       "      <td>8</td>\n",
       "      <td>0</td>\n",
       "      <td>0</td>\n",
       "      <td>0</td>\n",
       "      <td>0</td>\n",
       "      <td>0</td>\n",
       "      <td>0</td>\n",
       "      <td>0</td>\n",
       "    </tr>\n",
       "  </tbody>\n",
       "</table>\n",
       "</div>"
      ],
      "text/plain": [
       "               -де         -д^е  word_length  is_one_symbol  \\\n",
       "3               -с           -с            2              0   \n",
       "16107           ай           ай            2              0   \n",
       "16172     айвингхо     айвингхо            8              0   \n",
       "24766  алмондсбери  алмондсбери           11              0   \n",
       "27255           ам           ам            2              0   \n",
       "29041         амка         амка            4              0   \n",
       "35185         анка         анка            4              0   \n",
       "42254        анька        анька            5              0   \n",
       "62526            б            б            1              1   \n",
       "75305     бедерный     бедерный            8              0   \n",
       "\n",
       "       more_than_one_word  hat_num  has_latin  num_non_russian  error_cases  \\\n",
       "3                       0        0          0                0            0   \n",
       "16107                   0        0          0                0            0   \n",
       "16172                   0        0          0                0            0   \n",
       "24766                   0        0          0                0            0   \n",
       "27255                   0        0          0                0            0   \n",
       "29041                   0        0          0                0            0   \n",
       "35185                   0        0          0                0            0   \n",
       "42254                   0        0          0                0            0   \n",
       "62526                   0        0          0                0            0   \n",
       "75305                   0        0          0                0            0   \n",
       "\n",
       "       is_Ёё  \n",
       "3          0  \n",
       "16107      0  \n",
       "16172      0  \n",
       "24766      0  \n",
       "27255      0  \n",
       "29041      0  \n",
       "35185      0  \n",
       "42254      0  \n",
       "62526      0  \n",
       "75305      0  "
      ]
     },
     "execution_count": 17,
     "metadata": {},
     "output_type": "execute_result"
    }
   ],
   "source": [
    "accents_dataset[accents_dataset['hat_num'] == 0].head(10)"
   ]
  },
  {
   "cell_type": "markdown",
   "metadata": {},
   "source": [
    "Возможно, это ошибка разметки или какие-то части слов. Но где-то это справедливо ввиду отсутствия гласных букв в словах. Подобные сэмплы могут запутать модель, но их количество в целом и незначительно в сравнении с общим числов сэмплов в обучении."
   ]
  },
  {
   "cell_type": "markdown",
   "metadata": {},
   "source": [
    "#### Нерусская раскладка:"
   ]
  },
  {
   "cell_type": "code",
   "execution_count": 18,
   "metadata": {
    "execution": {
     "iopub.execute_input": "2024-11-09T10:17:20.635283Z",
     "iopub.status.busy": "2024-11-09T10:17:20.634875Z",
     "iopub.status.idle": "2024-11-09T10:17:20.645210Z",
     "shell.execute_reply": "2024-11-09T10:17:20.644274Z",
     "shell.execute_reply.started": "2024-11-09T10:17:20.635244Z"
    },
    "trusted": true
   },
   "outputs": [
    {
     "name": "stdout",
     "output_type": "stream",
     "text": [
      "Максимальное число нерусских символов в слове: 2\n",
      "Количество сэмплов, где число нерусских символов больше 0: 14\n"
     ]
    }
   ],
   "source": [
    "accents_count_latin_max = accents_dataset['num_non_russian'].max()\n",
    "print(f\"Максимальное число нерусских символов в слове: {accents_count_latin_max}\")\n",
    "\n",
    "accents_count_latin = accents_dataset[accents_dataset['num_non_russian'] > 0].shape[0]\n",
    "print(f\"Количество сэмплов, где число нерусских символов больше 0: {accents_count_latin}\")"
   ]
  },
  {
   "cell_type": "code",
   "execution_count": 19,
   "metadata": {
    "execution": {
     "iopub.execute_input": "2024-11-09T10:17:21.276949Z",
     "iopub.status.busy": "2024-11-09T10:17:21.276582Z",
     "iopub.status.idle": "2024-11-09T10:17:21.293652Z",
     "shell.execute_reply": "2024-11-09T10:17:21.292771Z",
     "shell.execute_reply.started": "2024-11-09T10:17:21.276915Z"
    },
    "trusted": true
   },
   "outputs": [
    {
     "data": {
      "text/html": [
       "<div>\n",
       "<style scoped>\n",
       "    .dataframe tbody tr th:only-of-type {\n",
       "        vertical-align: middle;\n",
       "    }\n",
       "\n",
       "    .dataframe tbody tr th {\n",
       "        vertical-align: top;\n",
       "    }\n",
       "\n",
       "    .dataframe thead th {\n",
       "        text-align: right;\n",
       "    }\n",
       "</style>\n",
       "<table border=\"1\" class=\"dataframe\">\n",
       "  <thead>\n",
       "    <tr style=\"text-align: right;\">\n",
       "      <th></th>\n",
       "      <th>-де</th>\n",
       "      <th>-д^е</th>\n",
       "      <th>word_length</th>\n",
       "      <th>is_one_symbol</th>\n",
       "      <th>more_than_one_word</th>\n",
       "      <th>hat_num</th>\n",
       "      <th>has_latin</th>\n",
       "      <th>num_non_russian</th>\n",
       "      <th>error_cases</th>\n",
       "      <th>is_Ёё</th>\n",
       "    </tr>\n",
       "  </thead>\n",
       "  <tbody>\n",
       "    <tr>\n",
       "      <th>116704</th>\n",
       "      <td>буhалтер</td>\n",
       "      <td>буh^алтер</td>\n",
       "      <td>8</td>\n",
       "      <td>0</td>\n",
       "      <td>0</td>\n",
       "      <td>1</td>\n",
       "      <td>1</td>\n",
       "      <td>1</td>\n",
       "      <td>0</td>\n",
       "      <td>0</td>\n",
       "    </tr>\n",
       "    <tr>\n",
       "      <th>116705</th>\n",
       "      <td>буhалтер-калькулятор</td>\n",
       "      <td>буh^алтер-калькулятор</td>\n",
       "      <td>20</td>\n",
       "      <td>0</td>\n",
       "      <td>0</td>\n",
       "      <td>1</td>\n",
       "      <td>1</td>\n",
       "      <td>1</td>\n",
       "      <td>0</td>\n",
       "      <td>0</td>\n",
       "    </tr>\n",
       "    <tr>\n",
       "      <th>116706</th>\n",
       "      <td>буhалтер-ревизор</td>\n",
       "      <td>буh^алтер-ревизор</td>\n",
       "      <td>16</td>\n",
       "      <td>0</td>\n",
       "      <td>0</td>\n",
       "      <td>1</td>\n",
       "      <td>1</td>\n",
       "      <td>1</td>\n",
       "      <td>0</td>\n",
       "      <td>0</td>\n",
       "    </tr>\n",
       "    <tr>\n",
       "      <th>116707</th>\n",
       "      <td>буhалтерия</td>\n",
       "      <td>буhалт^ерия</td>\n",
       "      <td>10</td>\n",
       "      <td>0</td>\n",
       "      <td>0</td>\n",
       "      <td>1</td>\n",
       "      <td>1</td>\n",
       "      <td>1</td>\n",
       "      <td>0</td>\n",
       "      <td>0</td>\n",
       "    </tr>\n",
       "    <tr>\n",
       "      <th>116708</th>\n",
       "      <td>буhалтерски</td>\n",
       "      <td>буh^алтерски</td>\n",
       "      <td>11</td>\n",
       "      <td>0</td>\n",
       "      <td>0</td>\n",
       "      <td>1</td>\n",
       "      <td>1</td>\n",
       "      <td>1</td>\n",
       "      <td>0</td>\n",
       "      <td>0</td>\n",
       "    </tr>\n",
       "    <tr>\n",
       "      <th>116709</th>\n",
       "      <td>буhалтерский</td>\n",
       "      <td>буh^алтерский</td>\n",
       "      <td>12</td>\n",
       "      <td>0</td>\n",
       "      <td>0</td>\n",
       "      <td>1</td>\n",
       "      <td>1</td>\n",
       "      <td>1</td>\n",
       "      <td>0</td>\n",
       "      <td>0</td>\n",
       "    </tr>\n",
       "    <tr>\n",
       "      <th>116710</th>\n",
       "      <td>буhалтерша</td>\n",
       "      <td>буh^алтерша</td>\n",
       "      <td>10</td>\n",
       "      <td>0</td>\n",
       "      <td>0</td>\n",
       "      <td>1</td>\n",
       "      <td>1</td>\n",
       "      <td>1</td>\n",
       "      <td>0</td>\n",
       "      <td>0</td>\n",
       "    </tr>\n",
       "    <tr>\n",
       "      <th>620314</th>\n",
       "      <td>лимасcольский</td>\n",
       "      <td>лимасc^ольский</td>\n",
       "      <td>13</td>\n",
       "      <td>0</td>\n",
       "      <td>0</td>\n",
       "      <td>1</td>\n",
       "      <td>1</td>\n",
       "      <td>1</td>\n",
       "      <td>0</td>\n",
       "      <td>0</td>\n",
       "    </tr>\n",
       "    <tr>\n",
       "      <th>1018887</th>\n",
       "      <td>по-буhалтерски</td>\n",
       "      <td>по-буh^алтерски</td>\n",
       "      <td>14</td>\n",
       "      <td>0</td>\n",
       "      <td>0</td>\n",
       "      <td>1</td>\n",
       "      <td>1</td>\n",
       "      <td>1</td>\n",
       "      <td>0</td>\n",
       "      <td>0</td>\n",
       "    </tr>\n",
       "    <tr>\n",
       "      <th>1133176</th>\n",
       "      <td>прдjети</td>\n",
       "      <td>прдjети</td>\n",
       "      <td>7</td>\n",
       "      <td>0</td>\n",
       "      <td>0</td>\n",
       "      <td>0</td>\n",
       "      <td>1</td>\n",
       "      <td>1</td>\n",
       "      <td>0</td>\n",
       "      <td>0</td>\n",
       "    </tr>\n",
       "    <tr>\n",
       "      <th>1237738</th>\n",
       "      <td>психолоgо-педагогический</td>\n",
       "      <td>психолоgо-педагог^ический</td>\n",
       "      <td>24</td>\n",
       "      <td>0</td>\n",
       "      <td>0</td>\n",
       "      <td>1</td>\n",
       "      <td>1</td>\n",
       "      <td>1</td>\n",
       "      <td>0</td>\n",
       "      <td>0</td>\n",
       "    </tr>\n",
       "    <tr>\n",
       "      <th>1653222</th>\n",
       "      <td>э-hѐ-hе</td>\n",
       "      <td>э-hѐ-h^е</td>\n",
       "      <td>7</td>\n",
       "      <td>0</td>\n",
       "      <td>0</td>\n",
       "      <td>1</td>\n",
       "      <td>1</td>\n",
       "      <td>2</td>\n",
       "      <td>0</td>\n",
       "      <td>0</td>\n",
       "    </tr>\n",
       "    <tr>\n",
       "      <th>1653226</th>\n",
       "      <td>эhей</td>\n",
       "      <td>эh^ей</td>\n",
       "      <td>4</td>\n",
       "      <td>0</td>\n",
       "      <td>0</td>\n",
       "      <td>1</td>\n",
       "      <td>1</td>\n",
       "      <td>1</td>\n",
       "      <td>0</td>\n",
       "      <td>0</td>\n",
       "    </tr>\n",
       "    <tr>\n",
       "      <th>1680522</th>\n",
       "      <td>ѐй-боhу</td>\n",
       "      <td>ѐй-б^оhу</td>\n",
       "      <td>7</td>\n",
       "      <td>0</td>\n",
       "      <td>0</td>\n",
       "      <td>1</td>\n",
       "      <td>1</td>\n",
       "      <td>1</td>\n",
       "      <td>0</td>\n",
       "      <td>0</td>\n",
       "    </tr>\n",
       "  </tbody>\n",
       "</table>\n",
       "</div>"
      ],
      "text/plain": [
       "                              -де                       -д^е  word_length  \\\n",
       "116704                   буhалтер                  буh^алтер            8   \n",
       "116705       буhалтер-калькулятор      буh^алтер-калькулятор           20   \n",
       "116706           буhалтер-ревизор          буh^алтер-ревизор           16   \n",
       "116707                 буhалтерия                буhалт^ерия           10   \n",
       "116708                буhалтерски               буh^алтерски           11   \n",
       "116709               буhалтерский              буh^алтерский           12   \n",
       "116710                 буhалтерша                буh^алтерша           10   \n",
       "620314              лимасcольский             лимасc^ольский           13   \n",
       "1018887            по-буhалтерски            по-буh^алтерски           14   \n",
       "1133176                   прдjети                    прдjети            7   \n",
       "1237738  психолоgо-педагогический  психолоgо-педагог^ический           24   \n",
       "1653222                   э-hѐ-hе                   э-hѐ-h^е            7   \n",
       "1653226                      эhей                      эh^ей            4   \n",
       "1680522                   ѐй-боhу                   ѐй-б^оhу            7   \n",
       "\n",
       "         is_one_symbol  more_than_one_word  hat_num  has_latin  \\\n",
       "116704               0                   0        1          1   \n",
       "116705               0                   0        1          1   \n",
       "116706               0                   0        1          1   \n",
       "116707               0                   0        1          1   \n",
       "116708               0                   0        1          1   \n",
       "116709               0                   0        1          1   \n",
       "116710               0                   0        1          1   \n",
       "620314               0                   0        1          1   \n",
       "1018887              0                   0        1          1   \n",
       "1133176              0                   0        0          1   \n",
       "1237738              0                   0        1          1   \n",
       "1653222              0                   0        1          1   \n",
       "1653226              0                   0        1          1   \n",
       "1680522              0                   0        1          1   \n",
       "\n",
       "         num_non_russian  error_cases  is_Ёё  \n",
       "116704                 1            0      0  \n",
       "116705                 1            0      0  \n",
       "116706                 1            0      0  \n",
       "116707                 1            0      0  \n",
       "116708                 1            0      0  \n",
       "116709                 1            0      0  \n",
       "116710                 1            0      0  \n",
       "620314                 1            0      0  \n",
       "1018887                1            0      0  \n",
       "1133176                1            0      0  \n",
       "1237738                1            0      0  \n",
       "1653222                2            0      0  \n",
       "1653226                1            0      0  \n",
       "1680522                1            0      0  "
      ]
     },
     "execution_count": 19,
     "metadata": {},
     "output_type": "execute_result"
    }
   ],
   "source": [
    "accents_dataset[accents_dataset['num_non_russian'] > 0]"
   ]
  },
  {
   "cell_type": "markdown",
   "metadata": {},
   "source": [
    "Что ж, есть и такие сэмплы, но благо их тоже не очень-то и много."
   ]
  },
  {
   "cell_type": "markdown",
   "metadata": {},
   "source": [
    "#### Посмотрим на распределения слов по выделенным параметрам:"
   ]
  },
  {
   "cell_type": "code",
   "execution_count": 20,
   "metadata": {
    "execution": {
     "iopub.execute_input": "2024-11-09T10:17:27.974929Z",
     "iopub.status.busy": "2024-11-09T10:17:27.974534Z",
     "iopub.status.idle": "2024-11-09T10:17:28.692423Z",
     "shell.execute_reply": "2024-11-09T10:17:28.691700Z",
     "shell.execute_reply.started": "2024-11-09T10:17:27.974891Z"
    },
    "trusted": true
   },
   "outputs": [
    {
     "data": {
      "image/png": "[encoded data removed]",
      "text/plain": [
       "<Figure size 1500x500 with 2 Axes>"
      ]
     },
     "metadata": {},
     "output_type": "display_data"
    }
   ],
   "source": [
    "fig, axs = plt.subplots(1, 2, figsize=(15, 5))\n",
    "\n",
    "axs[0].hist(accents_dataset['word_length'], color='skyblue')\n",
    "axs[0].set_title('Гистограмма длины слов')\n",
    "axs[1].hist(accents_dataset['num_non_russian'], color='salmon')\n",
    "axs[1].set_title('Гистограмма количества нерусских символов')\n",
    "for ax in axs:\n",
    "    ax.set_xlabel('Значения')\n",
    "    ax.set_ylabel('Категории')\n",
    "\n",
    "plt.tight_layout()\n",
    "plt.show()"
   ]
  },
  {
   "cell_type": "code",
   "execution_count": 21,
   "metadata": {
    "execution": {
     "iopub.execute_input": "2024-11-09T10:17:29.716004Z",
     "iopub.status.busy": "2024-11-09T10:17:29.715126Z",
     "iopub.status.idle": "2024-11-09T10:17:29.741660Z",
     "shell.execute_reply": "2024-11-09T10:17:29.740761Z",
     "shell.execute_reply.started": "2024-11-09T10:17:29.715962Z"
    },
    "trusted": true
   },
   "outputs": [
    {
     "name": "stdout",
     "output_type": "stream",
     "text": [
      "95-квантиль: 16.0\n"
     ]
    }
   ],
   "source": [
    "print(f\"95-квантиль: {np.quantile(accents_dataset['word_length'].values, q = 0.95)}\")"
   ]
  },
  {
   "cell_type": "code",
   "execution_count": 22,
   "metadata": {
    "execution": {
     "iopub.execute_input": "2024-11-09T10:17:30.165726Z",
     "iopub.status.busy": "2024-11-09T10:17:30.164809Z",
     "iopub.status.idle": "2024-11-09T10:17:30.175815Z",
     "shell.execute_reply": "2024-11-09T10:17:30.174599Z",
     "shell.execute_reply.started": "2024-11-09T10:17:30.165662Z"
    },
    "trusted": true
   },
   "outputs": [
    {
     "data": {
      "text/plain": [
       "4477"
      ]
     },
     "execution_count": 22,
     "metadata": {},
     "output_type": "execute_result"
    }
   ],
   "source": [
    "len(accents_dataset[accents_dataset['word_length'] > 20])"
   ]
  },
  {
   "cell_type": "markdown",
   "metadata": {},
   "source": [
    "Думаю 4500 длинных слов можно отбросить"
   ]
  },
  {
   "cell_type": "code",
   "execution_count": 23,
   "metadata": {
    "execution": {
     "iopub.execute_input": "2024-11-09T10:17:38.018326Z",
     "iopub.status.busy": "2024-11-09T10:17:38.017432Z",
     "iopub.status.idle": "2024-11-09T10:17:38.178205Z",
     "shell.execute_reply": "2024-11-09T10:17:38.177164Z",
     "shell.execute_reply.started": "2024-11-09T10:17:38.018280Z"
    },
    "trusted": true
   },
   "outputs": [],
   "source": [
    "accents_dataset = accents_dataset[accents_dataset['word_length'] < 20]"
   ]
  },
  {
   "cell_type": "markdown",
   "metadata": {},
   "source": [
    "Итак, предварительный анализ показывает, что существуют особые сэмплы, которые могут повлиять на обобщающую способность модели. Однако их количество не такое уж и большое и, в целом, такие примеры как одна согласная могут быть довольно-таки полезными. По необходимости, отфильтруем данные позже.\n",
    "\n",
    "Как вариант иностранные символы из латинской раскладки можно заменить транслитерацией на русские символы или, например, неизвестные символы (отличающиеся от \"-\") вообще убрать или заменить на другой символ. "
   ]
  },
  {
   "cell_type": "markdown",
   "metadata": {},
   "source": [
    "#### Еще хочется посмотреть, есть ли сэмплы, в которых случайно расставлены ударения на согласную букву и сэмплы, содержащие букву ёЁ, чтобы не учить модель на них:"
   ]
  },
  {
   "cell_type": "code",
   "execution_count": 24,
   "metadata": {
    "execution": {
     "iopub.execute_input": "2024-11-09T10:17:48.500418Z",
     "iopub.status.busy": "2024-11-09T10:17:48.499144Z",
     "iopub.status.idle": "2024-11-09T10:17:48.513524Z",
     "shell.execute_reply": "2024-11-09T10:17:48.512347Z",
     "shell.execute_reply.started": "2024-11-09T10:17:48.500352Z"
    },
    "trusted": true
   },
   "outputs": [
    {
     "name": "stdout",
     "output_type": "stream",
     "text": [
      "Количество сэмплов с буквой Ёё: 0\n",
      "Количество сэмплов с ударениям на согласную: 0\n"
     ]
    }
   ],
   "source": [
    "print(f\"Количество сэмплов с буквой Ёё: {accents_dataset[accents_dataset['is_Ёё'] != 0].shape[0]}\")\n",
    "\n",
    "print(f\"Количество сэмплов с ударениям на согласную: {accents_dataset[accents_dataset['error_cases'] != 0].shape[0]}\")"
   ]
  },
  {
   "cell_type": "markdown",
   "metadata": {},
   "source": [
    "Итак, букв Ёё и ошибок с ударением на согласную нет."
   ]
  },
  {
   "cell_type": "markdown",
   "metadata": {},
   "source": [
    "#### Всё же попробуем заменит английские символы транслитерацией:"
   ]
  },
  {
   "cell_type": "code",
   "execution_count": 25,
   "metadata": {
    "execution": {
     "iopub.execute_input": "2024-11-09T10:17:51.202411Z",
     "iopub.status.busy": "2024-11-09T10:17:51.201570Z",
     "iopub.status.idle": "2024-11-09T10:17:56.294669Z",
     "shell.execute_reply": "2024-11-09T10:17:56.293727Z",
     "shell.execute_reply.started": "2024-11-09T10:17:51.202371Z"
    },
    "trusted": true
   },
   "outputs": [],
   "source": [
    "latin_to_russian_needed = {\n",
    "    'c': 'с', 'h': 'г', 'j': 'ъ', 'g': 'г'\n",
    "}\n",
    "\n",
    "def transliterate(text):\n",
    "    return ''.join(latin_to_russian_needed.get(char, char) for char in text)\n",
    "\n",
    "accents_dataset['words_upd'] = accents_dataset['-де'].map(transliterate)"
   ]
  },
  {
   "cell_type": "code",
   "execution_count": 27,
   "metadata": {
    "execution": {
     "iopub.execute_input": "2024-11-09T10:18:15.735006Z",
     "iopub.status.busy": "2024-11-09T10:18:15.734435Z",
     "iopub.status.idle": "2024-11-09T10:18:15.755427Z",
     "shell.execute_reply": "2024-11-09T10:18:15.754516Z",
     "shell.execute_reply.started": "2024-11-09T10:18:15.734957Z"
    },
    "trusted": true
   },
   "outputs": [
    {
     "data": {
      "text/html": [
       "<div>\n",
       "<style scoped>\n",
       "    .dataframe tbody tr th:only-of-type {\n",
       "        vertical-align: middle;\n",
       "    }\n",
       "\n",
       "    .dataframe tbody tr th {\n",
       "        vertical-align: top;\n",
       "    }\n",
       "\n",
       "    .dataframe thead th {\n",
       "        text-align: right;\n",
       "    }\n",
       "</style>\n",
       "<table border=\"1\" class=\"dataframe\">\n",
       "  <thead>\n",
       "    <tr style=\"text-align: right;\">\n",
       "      <th></th>\n",
       "      <th>-де</th>\n",
       "      <th>-д^е</th>\n",
       "      <th>word_length</th>\n",
       "      <th>is_one_symbol</th>\n",
       "      <th>more_than_one_word</th>\n",
       "      <th>hat_num</th>\n",
       "      <th>has_latin</th>\n",
       "      <th>num_non_russian</th>\n",
       "      <th>error_cases</th>\n",
       "      <th>is_Ёё</th>\n",
       "      <th>words_upd</th>\n",
       "    </tr>\n",
       "  </thead>\n",
       "  <tbody>\n",
       "    <tr>\n",
       "      <th>116704</th>\n",
       "      <td>буhалтер</td>\n",
       "      <td>буh^алтер</td>\n",
       "      <td>8</td>\n",
       "      <td>0</td>\n",
       "      <td>0</td>\n",
       "      <td>1</td>\n",
       "      <td>1</td>\n",
       "      <td>1</td>\n",
       "      <td>0</td>\n",
       "      <td>0</td>\n",
       "      <td>бугалтер</td>\n",
       "    </tr>\n",
       "    <tr>\n",
       "      <th>116706</th>\n",
       "      <td>буhалтер-ревизор</td>\n",
       "      <td>буh^алтер-ревизор</td>\n",
       "      <td>16</td>\n",
       "      <td>0</td>\n",
       "      <td>0</td>\n",
       "      <td>1</td>\n",
       "      <td>1</td>\n",
       "      <td>1</td>\n",
       "      <td>0</td>\n",
       "      <td>0</td>\n",
       "      <td>бугалтер-ревизор</td>\n",
       "    </tr>\n",
       "    <tr>\n",
       "      <th>116707</th>\n",
       "      <td>буhалтерия</td>\n",
       "      <td>буhалт^ерия</td>\n",
       "      <td>10</td>\n",
       "      <td>0</td>\n",
       "      <td>0</td>\n",
       "      <td>1</td>\n",
       "      <td>1</td>\n",
       "      <td>1</td>\n",
       "      <td>0</td>\n",
       "      <td>0</td>\n",
       "      <td>бугалтерия</td>\n",
       "    </tr>\n",
       "    <tr>\n",
       "      <th>116708</th>\n",
       "      <td>буhалтерски</td>\n",
       "      <td>буh^алтерски</td>\n",
       "      <td>11</td>\n",
       "      <td>0</td>\n",
       "      <td>0</td>\n",
       "      <td>1</td>\n",
       "      <td>1</td>\n",
       "      <td>1</td>\n",
       "      <td>0</td>\n",
       "      <td>0</td>\n",
       "      <td>бугалтерски</td>\n",
       "    </tr>\n",
       "    <tr>\n",
       "      <th>116709</th>\n",
       "      <td>буhалтерский</td>\n",
       "      <td>буh^алтерский</td>\n",
       "      <td>12</td>\n",
       "      <td>0</td>\n",
       "      <td>0</td>\n",
       "      <td>1</td>\n",
       "      <td>1</td>\n",
       "      <td>1</td>\n",
       "      <td>0</td>\n",
       "      <td>0</td>\n",
       "      <td>бугалтерский</td>\n",
       "    </tr>\n",
       "  </tbody>\n",
       "</table>\n",
       "</div>"
      ],
      "text/plain": [
       "                     -де               -д^е  word_length  is_one_symbol  \\\n",
       "116704          буhалтер          буh^алтер            8              0   \n",
       "116706  буhалтер-ревизор  буh^алтер-ревизор           16              0   \n",
       "116707        буhалтерия        буhалт^ерия           10              0   \n",
       "116708       буhалтерски       буh^алтерски           11              0   \n",
       "116709      буhалтерский      буh^алтерский           12              0   \n",
       "\n",
       "        more_than_one_word  hat_num  has_latin  num_non_russian  error_cases  \\\n",
       "116704                   0        1          1                1            0   \n",
       "116706                   0        1          1                1            0   \n",
       "116707                   0        1          1                1            0   \n",
       "116708                   0        1          1                1            0   \n",
       "116709                   0        1          1                1            0   \n",
       "\n",
       "        is_Ёё         words_upd  \n",
       "116704      0          бугалтер  \n",
       "116706      0  бугалтер-ревизор  \n",
       "116707      0        бугалтерия  \n",
       "116708      0       бугалтерски  \n",
       "116709      0      бугалтерский  "
      ]
     },
     "execution_count": 27,
     "metadata": {},
     "output_type": "execute_result"
    }
   ],
   "source": [
    "accents_dataset[accents_dataset['num_non_russian'] > 0].head()"
   ]
  },
  {
   "cell_type": "markdown",
   "metadata": {},
   "source": [
    "#### Уберем, где нет ударений:"
   ]
  },
  {
   "cell_type": "code",
   "execution_count": 28,
   "metadata": {
    "execution": {
     "iopub.execute_input": "2024-11-09T10:18:18.622904Z",
     "iopub.status.busy": "2024-11-09T10:18:18.622503Z",
     "iopub.status.idle": "2024-11-09T10:18:18.831608Z",
     "shell.execute_reply": "2024-11-09T10:18:18.830601Z",
     "shell.execute_reply.started": "2024-11-09T10:18:18.622864Z"
    },
    "trusted": true
   },
   "outputs": [],
   "source": [
    "accents_dataset = accents_dataset[accents_dataset['hat_num'] > 0]"
   ]
  },
  {
   "cell_type": "markdown",
   "metadata": {},
   "source": [
    "#### Итоговый датасет после некоторых преобразований:"
   ]
  },
  {
   "cell_type": "code",
   "execution_count": 29,
   "metadata": {
    "execution": {
     "iopub.execute_input": "2024-11-09T10:18:20.438959Z",
     "iopub.status.busy": "2024-11-09T10:18:20.438207Z",
     "iopub.status.idle": "2024-11-09T10:18:20.445889Z",
     "shell.execute_reply": "2024-11-09T10:18:20.444758Z",
     "shell.execute_reply.started": "2024-11-09T10:18:20.438909Z"
    },
    "trusted": true
   },
   "outputs": [
    {
     "data": {
      "text/plain": [
       "(1671254, 11)"
      ]
     },
     "execution_count": 29,
     "metadata": {},
     "output_type": "execute_result"
    }
   ],
   "source": [
    "accents_dataset.shape"
   ]
  },
  {
   "cell_type": "code",
   "execution_count": 30,
   "metadata": {
    "execution": {
     "iopub.execute_input": "2024-11-09T10:18:21.742621Z",
     "iopub.status.busy": "2024-11-09T10:18:21.742266Z",
     "iopub.status.idle": "2024-11-09T10:18:21.756746Z",
     "shell.execute_reply": "2024-11-09T10:18:21.755683Z",
     "shell.execute_reply.started": "2024-11-09T10:18:21.742589Z"
    },
    "trusted": true
   },
   "outputs": [
    {
     "data": {
      "text/html": [
       "<div>\n",
       "<style scoped>\n",
       "    .dataframe tbody tr th:only-of-type {\n",
       "        vertical-align: middle;\n",
       "    }\n",
       "\n",
       "    .dataframe tbody tr th {\n",
       "        vertical-align: top;\n",
       "    }\n",
       "\n",
       "    .dataframe thead th {\n",
       "        text-align: right;\n",
       "    }\n",
       "</style>\n",
       "<table border=\"1\" class=\"dataframe\">\n",
       "  <thead>\n",
       "    <tr style=\"text-align: right;\">\n",
       "      <th></th>\n",
       "      <th>-де</th>\n",
       "      <th>-д^е</th>\n",
       "      <th>word_length</th>\n",
       "      <th>is_one_symbol</th>\n",
       "      <th>more_than_one_word</th>\n",
       "      <th>hat_num</th>\n",
       "      <th>has_latin</th>\n",
       "      <th>num_non_russian</th>\n",
       "      <th>error_cases</th>\n",
       "      <th>is_Ёё</th>\n",
       "      <th>words_upd</th>\n",
       "    </tr>\n",
       "  </thead>\n",
       "  <tbody>\n",
       "    <tr>\n",
       "      <th>0</th>\n",
       "      <td>-ка</td>\n",
       "      <td>-к^а</td>\n",
       "      <td>3</td>\n",
       "      <td>0</td>\n",
       "      <td>0</td>\n",
       "      <td>1</td>\n",
       "      <td>0</td>\n",
       "      <td>0</td>\n",
       "      <td>0</td>\n",
       "      <td>0</td>\n",
       "      <td>-ка</td>\n",
       "    </tr>\n",
       "    <tr>\n",
       "      <th>1</th>\n",
       "      <td>-либо</td>\n",
       "      <td>-л^ибо</td>\n",
       "      <td>5</td>\n",
       "      <td>0</td>\n",
       "      <td>0</td>\n",
       "      <td>1</td>\n",
       "      <td>0</td>\n",
       "      <td>0</td>\n",
       "      <td>0</td>\n",
       "      <td>0</td>\n",
       "      <td>-либо</td>\n",
       "    </tr>\n",
       "    <tr>\n",
       "      <th>2</th>\n",
       "      <td>-нибудь</td>\n",
       "      <td>-ниб^удь</td>\n",
       "      <td>7</td>\n",
       "      <td>0</td>\n",
       "      <td>0</td>\n",
       "      <td>1</td>\n",
       "      <td>0</td>\n",
       "      <td>0</td>\n",
       "      <td>0</td>\n",
       "      <td>0</td>\n",
       "      <td>-нибудь</td>\n",
       "    </tr>\n",
       "    <tr>\n",
       "      <th>4</th>\n",
       "      <td>-таки</td>\n",
       "      <td>-так^и</td>\n",
       "      <td>5</td>\n",
       "      <td>0</td>\n",
       "      <td>0</td>\n",
       "      <td>1</td>\n",
       "      <td>0</td>\n",
       "      <td>0</td>\n",
       "      <td>0</td>\n",
       "      <td>0</td>\n",
       "      <td>-таки</td>\n",
       "    </tr>\n",
       "    <tr>\n",
       "      <th>5</th>\n",
       "      <td>-то</td>\n",
       "      <td>-т^о</td>\n",
       "      <td>3</td>\n",
       "      <td>0</td>\n",
       "      <td>0</td>\n",
       "      <td>1</td>\n",
       "      <td>0</td>\n",
       "      <td>0</td>\n",
       "      <td>0</td>\n",
       "      <td>0</td>\n",
       "      <td>-то</td>\n",
       "    </tr>\n",
       "    <tr>\n",
       "      <th>6</th>\n",
       "      <td>­вычеркнуть</td>\n",
       "      <td>­в^ычеркнуть</td>\n",
       "      <td>11</td>\n",
       "      <td>0</td>\n",
       "      <td>0</td>\n",
       "      <td>1</td>\n",
       "      <td>0</td>\n",
       "      <td>0</td>\n",
       "      <td>0</td>\n",
       "      <td>0</td>\n",
       "      <td>­вычеркнуть</td>\n",
       "    </tr>\n",
       "    <tr>\n",
       "      <th>7</th>\n",
       "      <td>а</td>\n",
       "      <td>^а</td>\n",
       "      <td>1</td>\n",
       "      <td>1</td>\n",
       "      <td>0</td>\n",
       "      <td>1</td>\n",
       "      <td>0</td>\n",
       "      <td>0</td>\n",
       "      <td>0</td>\n",
       "      <td>0</td>\n",
       "      <td>а</td>\n",
       "    </tr>\n",
       "    <tr>\n",
       "      <th>8</th>\n",
       "      <td>а-конто</td>\n",
       "      <td>а-к^онто</td>\n",
       "      <td>7</td>\n",
       "      <td>0</td>\n",
       "      <td>0</td>\n",
       "      <td>1</td>\n",
       "      <td>0</td>\n",
       "      <td>0</td>\n",
       "      <td>0</td>\n",
       "      <td>0</td>\n",
       "      <td>а-конто</td>\n",
       "    </tr>\n",
       "    <tr>\n",
       "      <th>9</th>\n",
       "      <td>а-ля</td>\n",
       "      <td>а-л^я</td>\n",
       "      <td>4</td>\n",
       "      <td>0</td>\n",
       "      <td>0</td>\n",
       "      <td>1</td>\n",
       "      <td>0</td>\n",
       "      <td>0</td>\n",
       "      <td>0</td>\n",
       "      <td>0</td>\n",
       "      <td>а-ля</td>\n",
       "    </tr>\n",
       "    <tr>\n",
       "      <th>10</th>\n",
       "      <td>а-мольный</td>\n",
       "      <td>а-м^ольный</td>\n",
       "      <td>9</td>\n",
       "      <td>0</td>\n",
       "      <td>0</td>\n",
       "      <td>1</td>\n",
       "      <td>0</td>\n",
       "      <td>0</td>\n",
       "      <td>0</td>\n",
       "      <td>0</td>\n",
       "      <td>а-мольный</td>\n",
       "    </tr>\n",
       "  </tbody>\n",
       "</table>\n",
       "</div>"
      ],
      "text/plain": [
       "            -де          -д^е  word_length  is_one_symbol  more_than_one_word  \\\n",
       "0           -ка          -к^а            3              0                   0   \n",
       "1         -либо        -л^ибо            5              0                   0   \n",
       "2       -нибудь      -ниб^удь            7              0                   0   \n",
       "4         -таки        -так^и            5              0                   0   \n",
       "5           -то          -т^о            3              0                   0   \n",
       "6   ­вычеркнуть  ­в^ычеркнуть           11              0                   0   \n",
       "7             а            ^а            1              1                   0   \n",
       "8       а-конто      а-к^онто            7              0                   0   \n",
       "9          а-ля         а-л^я            4              0                   0   \n",
       "10    а-мольный    а-м^ольный            9              0                   0   \n",
       "\n",
       "    hat_num  has_latin  num_non_russian  error_cases  is_Ёё    words_upd  \n",
       "0         1          0                0            0      0          -ка  \n",
       "1         1          0                0            0      0        -либо  \n",
       "2         1          0                0            0      0      -нибудь  \n",
       "4         1          0                0            0      0        -таки  \n",
       "5         1          0                0            0      0          -то  \n",
       "6         1          0                0            0      0  ­вычеркнуть  \n",
       "7         1          0                0            0      0            а  \n",
       "8         1          0                0            0      0      а-конто  \n",
       "9         1          0                0            0      0         а-ля  \n",
       "10        1          0                0            0      0    а-мольный  "
      ]
     },
     "execution_count": 30,
     "metadata": {},
     "output_type": "execute_result"
    }
   ],
   "source": [
    "accents_dataset.head(10)"
   ]
  },
  {
   "cell_type": "markdown",
   "metadata": {},
   "source": [
    "#### Теперь нужно подготовить данные для обучения"
   ]
  },
  {
   "cell_type": "markdown",
   "metadata": {},
   "source": [
    "Предполагается, что есть смысл разделить слово на токены, причём каждая буква будет являться токеном. Далее можно присвоить каждому токену метку 1 или 0 в зависимости от того, является ли данный токен ударным или нет и выйти на своего рода задачу бинарной классификации для каждого токена."
   ]
  },
  {
   "cell_type": "code",
   "execution_count": 31,
   "metadata": {
    "execution": {
     "iopub.execute_input": "2024-11-09T10:18:35.032295Z",
     "iopub.status.busy": "2024-11-09T10:18:35.031908Z",
     "iopub.status.idle": "2024-11-09T10:18:41.835031Z",
     "shell.execute_reply": "2024-11-09T10:18:41.834102Z",
     "shell.execute_reply.started": "2024-11-09T10:18:35.032258Z"
    },
    "trusted": true
   },
   "outputs": [
    {
     "data": {
      "application/vnd.jupyter.widget-view+json": {
       "model_id": "c2a1ddbd6f9c4bd7910f311b01c9ec3e",
       "version_major": 2,
       "version_minor": 0
      },
      "text/plain": [
       "0it [00:00, ?it/s]"
      ]
     },
     "metadata": {},
     "output_type": "display_data"
    }
   ],
   "source": [
    "def get_marked_dict(dataset = accents_dataset,\n",
    "               input_column = 'words_upd',\n",
    "               predict_column = '-д^е'):\n",
    "    \n",
    "    words = dataset[input_column].values\n",
    "    words_accents = dataset[predict_column].values\n",
    "    inputs = [word for word in words]\n",
    "    labels = []\n",
    "    \n",
    "    for word, accents in tqdm(zip(words, words_accents)):\n",
    "        label = [0] * (len(word) + 2)\n",
    "        for i, char in enumerate(accents):\n",
    "            if char == '^':\n",
    "                label[i+1] = 1\n",
    "                \n",
    "        labels.append(label)\n",
    "    return {\"input_words\" : inputs,\n",
    "           \"labels\" : labels}\n",
    "        \n",
    "words_labels = get_marked_dict()"
   ]
  },
  {
   "cell_type": "code",
   "execution_count": 32,
   "metadata": {
    "execution": {
     "iopub.execute_input": "2024-11-09T10:18:45.865877Z",
     "iopub.status.busy": "2024-11-09T10:18:45.865440Z",
     "iopub.status.idle": "2024-11-09T10:18:45.872107Z",
     "shell.execute_reply": "2024-11-09T10:18:45.870965Z",
     "shell.execute_reply.started": "2024-11-09T10:18:45.865836Z"
    },
    "trusted": true
   },
   "outputs": [
    {
     "name": "stdout",
     "output_type": "stream",
     "text": [
      "абердинского [0, 0, 0, 0, 0, 0, 1, 0, 0, 0, 0, 0, 0, 0]\n"
     ]
    }
   ],
   "source": [
    "def get_example(dict = words_labels,\n",
    "                idx = 0):\n",
    "    print(words_labels['input_words'][idx], words_labels['labels'][idx])\n",
    "    \n",
    "get_example(idx = 1001)"
   ]
  },
  {
   "cell_type": "markdown",
   "metadata": {},
   "source": [
    "Вроде как размечено корректно. Создаем torc.utils.data.Dataset из словаря:"
   ]
  },
  {
   "cell_type": "code",
   "execution_count": 33,
   "metadata": {
    "execution": {
     "iopub.execute_input": "2024-11-09T10:18:49.577389Z",
     "iopub.status.busy": "2024-11-09T10:18:49.576555Z",
     "iopub.status.idle": "2024-11-09T10:18:49.587484Z",
     "shell.execute_reply": "2024-11-09T10:18:49.586520Z",
     "shell.execute_reply.started": "2024-11-09T10:18:49.577343Z"
    },
    "trusted": true
   },
   "outputs": [],
   "source": [
    "class AccentDataset(Dataset):\n",
    "    def __init__(self, words_labels = words_labels,\n",
    "                 tokenizer = tokenizer,\n",
    "                 max_len = 22):\n",
    "        self.data = words_labels\n",
    "        self.tokenizer = tokenizer\n",
    "        self.max_model_length = max_len\n",
    "        \n",
    "    def __len__(self):\n",
    "        return len(self.data['input_words'])\n",
    "    \n",
    "    def __getitem__(self, idx, idx_to_token = False):\n",
    "        input_word, accent_labels = self.data['input_words'][idx], self.data['labels'][idx]\n",
    "        \n",
    "        encoding = self.tokenizer.encode_plus(\n",
    "            input_word,\n",
    "            add_special_tokens=True,\n",
    "            max_length=self.max_model_length,\n",
    "            padding='max_length',\n",
    "            truncation=True,\n",
    "            return_attention_mask=True,\n",
    "            return_tensors='pt',\n",
    "        )\n",
    "        \n",
    "        input_ids = encoding['input_ids'].flatten()\n",
    "        attention_mask = encoding['attention_mask'].flatten()\n",
    "\n",
    "        labels = torch.tensor(accent_labels, dtype=torch.long)\n",
    "        padding_length = self.max_model_length - labels.size(0)\n",
    "        idx = np.where(labels == 1)[0]\n",
    "        if len(idx) == 0:\n",
    "            print(input_ids)\n",
    "            print(labels)\n",
    "            print(convert_to_tokens(input_ids.tolist()))\n",
    "\n",
    "        if idx_to_token == True:\n",
    "            return {\n",
    "                'input_ids': self.tokenizer.convert_ids_to_tokens(input_ids),\n",
    "                'attention_mask': attention_mask,\n",
    "                'labels': idx\n",
    "                }\n",
    "        return {\n",
    "                'input_ids': input_ids,\n",
    "                'attention_mask': attention_mask,\n",
    "                'labels': idx\n",
    "                }\n",
    "    \n",
    "    \n",
    "words_labels_dataset = AccentDataset()"
   ]
  },
  {
   "cell_type": "markdown",
   "metadata": {},
   "source": [
    "#### Check:"
   ]
  },
  {
   "cell_type": "code",
   "execution_count": 34,
   "metadata": {
    "execution": {
     "iopub.execute_input": "2024-11-09T10:18:52.006566Z",
     "iopub.status.busy": "2024-11-09T10:18:52.006095Z",
     "iopub.status.idle": "2024-11-09T10:18:52.083921Z",
     "shell.execute_reply": "2024-11-09T10:18:52.082973Z",
     "shell.execute_reply.started": "2024-11-09T10:18:52.006519Z"
    },
    "trusted": true
   },
   "outputs": [
    {
     "data": {
      "text/plain": [
       "array([5])"
      ]
     },
     "execution_count": 34,
     "metadata": {},
     "output_type": "execute_result"
    }
   ],
   "source": [
    "words_labels_dataset[168]['labels']"
   ]
  },
  {
   "cell_type": "code",
   "execution_count": 35,
   "metadata": {
    "execution": {
     "iopub.execute_input": "2024-11-09T10:19:17.629782Z",
     "iopub.status.busy": "2024-11-09T10:19:17.629376Z",
     "iopub.status.idle": "2024-11-09T10:19:17.635861Z",
     "shell.execute_reply": "2024-11-09T10:19:17.634920Z",
     "shell.execute_reply.started": "2024-11-09T10:19:17.629744Z"
    },
    "trusted": true
   },
   "outputs": [
    {
     "data": {
      "text/plain": [
       "1671254"
      ]
     },
     "execution_count": 35,
     "metadata": {},
     "output_type": "execute_result"
    }
   ],
   "source": [
    "len(words_labels_dataset)"
   ]
  },
  {
   "cell_type": "code",
   "execution_count": 36,
   "metadata": {
    "execution": {
     "iopub.execute_input": "2024-11-09T10:19:23.325005Z",
     "iopub.status.busy": "2024-11-09T10:19:23.321037Z",
     "iopub.status.idle": "2024-11-09T10:19:23.353805Z",
     "shell.execute_reply": "2024-11-09T10:19:23.352857Z",
     "shell.execute_reply.started": "2024-11-09T10:19:23.324948Z"
    },
    "trusted": true
   },
   "outputs": [
    {
     "data": {
      "text/plain": [
       "{'input_ids': tensor([ 0,  8, 10, 18, 42, 16, 26, 36, 44, 30, 38, 14, 38,  1,  4,  4,  4,  4,\n",
       "          4,  4,  4,  4]),\n",
       " 'attention_mask': tensor([1, 1, 1, 1, 1, 1, 1, 1, 1, 1, 1, 1, 1, 1, 0, 0, 0, 0, 0, 0, 0, 0]),\n",
       " 'labels': array([6])}"
      ]
     },
     "execution_count": 36,
     "metadata": {},
     "output_type": "execute_result"
    }
   ],
   "source": [
    "words_labels_dataset[1001]"
   ]
  },
  {
   "cell_type": "code",
   "execution_count": 37,
   "metadata": {
    "execution": {
     "iopub.execute_input": "2024-11-09T10:19:29.869174Z",
     "iopub.status.busy": "2024-11-09T10:19:29.868785Z",
     "iopub.status.idle": "2024-11-09T10:19:29.877539Z",
     "shell.execute_reply": "2024-11-09T10:19:29.876709Z",
     "shell.execute_reply.started": "2024-11-09T10:19:29.869135Z"
    },
    "trusted": true
   },
   "outputs": [
    {
     "data": {
      "text/plain": [
       "{'input_ids': ['[CLS]',\n",
       "  '-',\n",
       "  'к',\n",
       "  'а',\n",
       "  '[SEP]',\n",
       "  '[PAD]',\n",
       "  '[PAD]',\n",
       "  '[PAD]',\n",
       "  '[PAD]',\n",
       "  '[PAD]',\n",
       "  '[PAD]',\n",
       "  '[PAD]',\n",
       "  '[PAD]',\n",
       "  '[PAD]',\n",
       "  '[PAD]',\n",
       "  '[PAD]',\n",
       "  '[PAD]',\n",
       "  '[PAD]',\n",
       "  '[PAD]',\n",
       "  '[PAD]',\n",
       "  '[PAD]',\n",
       "  '[PAD]'],\n",
       " 'attention_mask': tensor([1, 1, 1, 1, 1, 0, 0, 0, 0, 0, 0, 0, 0, 0, 0, 0, 0, 0, 0, 0, 0, 0]),\n",
       " 'labels': array([3])}"
      ]
     },
     "execution_count": 37,
     "metadata": {},
     "output_type": "execute_result"
    }
   ],
   "source": [
    "words_labels_dataset.__getitem__(0, idx_to_token = True)"
   ]
  },
  {
   "cell_type": "markdown",
   "metadata": {},
   "source": [
    "Всё корректно. Теперь нужно написать функцию получения датасетов для train и для test."
   ]
  },
  {
   "cell_type": "code",
   "execution_count": null,
   "metadata": {
    "execution": {
     "iopub.execute_input": "2024-11-09T10:19:33.603264Z",
     "iopub.status.busy": "2024-11-09T10:19:33.602539Z",
     "iopub.status.idle": "2024-11-09T10:19:33.770234Z",
     "shell.execute_reply": "2024-11-09T10:19:33.769351Z",
     "shell.execute_reply.started": "2024-11-09T10:19:33.603221Z"
    },
    "trusted": true
   },
   "outputs": [],
   "source": [
    "def get_datasets(dataset_cls = AccentDataset,\n",
    "               max_len = 22, # 99+% слов ниже этой длины по символам\n",
    "               data = words_labels,\n",
    "               tokenizer = tokenizer,\n",
    "               train_size = 0.5):\n",
    "    \n",
    "    dataset = dataset_cls(words_labels = data,\n",
    "                 tokenizer = tokenizer,\n",
    "                 max_len = max_len)\n",
    "    \n",
    "    train_size = int(train_size * len(dataset))\n",
    "    test_size = len(dataset) - train_size\n",
    "    train_dataset, test_dataset = random_split(dataset, [train_size, test_size])\n",
    "            \n",
    "    return train_dataset, test_dataset\n",
    "\n",
    "train_dataset_, test_dataset = get_datasets()\n",
    "    "
   ]
  },
  {
   "cell_type": "markdown",
   "metadata": {},
   "source": [
    "#### Check:"
   ]
  },
  {
   "cell_type": "code",
   "execution_count": 39,
   "metadata": {
    "execution": {
     "iopub.execute_input": "2024-11-09T10:19:36.169786Z",
     "iopub.status.busy": "2024-11-09T10:19:36.169371Z",
     "iopub.status.idle": "2024-11-09T10:19:36.174652Z",
     "shell.execute_reply": "2024-11-09T10:19:36.173471Z",
     "shell.execute_reply.started": "2024-11-09T10:19:36.169747Z"
    },
    "trusted": true
   },
   "outputs": [],
   "source": [
    "def convert_to_tokens(example):\n",
    "    result = tokenizer.convert_ids_to_tokens(example)\n",
    "    return result\n"
   ]
  },
  {
   "cell_type": "code",
   "execution_count": 40,
   "metadata": {
    "execution": {
     "iopub.execute_input": "2024-11-09T10:19:38.248123Z",
     "iopub.status.busy": "2024-11-09T10:19:38.247116Z",
     "iopub.status.idle": "2024-11-09T10:19:38.255057Z",
     "shell.execute_reply": "2024-11-09T10:19:38.253976Z",
     "shell.execute_reply.started": "2024-11-09T10:19:38.248069Z"
    },
    "trusted": true
   },
   "outputs": [
    {
     "data": {
      "text/plain": [
       "(835627, 835627)"
      ]
     },
     "execution_count": 40,
     "metadata": {},
     "output_type": "execute_result"
    }
   ],
   "source": [
    "len(train_dataset_), len(test_dataset)"
   ]
  },
  {
   "cell_type": "markdown",
   "metadata": {},
   "source": [
    "#### Train sample:"
   ]
  },
  {
   "cell_type": "code",
   "execution_count": 41,
   "metadata": {
    "execution": {
     "iopub.execute_input": "2024-11-09T10:19:49.042156Z",
     "iopub.status.busy": "2024-11-09T10:19:49.041779Z",
     "iopub.status.idle": "2024-11-09T10:19:49.050237Z",
     "shell.execute_reply": "2024-11-09T10:19:49.049262Z",
     "shell.execute_reply.started": "2024-11-09T10:19:49.042124Z"
    },
    "trusted": true
   },
   "outputs": [
    {
     "data": {
      "text/plain": [
       "{'input_ids': tensor([ 0, 24,  8, 40,  8, 52,  8, 36, 36, 48, 70,  1,  4,  4,  4,  4,  4,  4,\n",
       "          4,  4,  4,  4]),\n",
       " 'attention_mask': tensor([1, 1, 1, 1, 1, 1, 1, 1, 1, 1, 1, 1, 0, 0, 0, 0, 0, 0, 0, 0, 0, 0]),\n",
       " 'labels': array([4])}"
      ]
     },
     "execution_count": 41,
     "metadata": {},
     "output_type": "execute_result"
    }
   ],
   "source": [
    "train_dataset_[2]"
   ]
  },
  {
   "cell_type": "code",
   "execution_count": 55,
   "metadata": {
    "execution": {
     "iopub.execute_input": "2024-11-09T10:40:07.056743Z",
     "iopub.status.busy": "2024-11-09T10:40:07.056372Z",
     "iopub.status.idle": "2024-11-09T10:40:07.062623Z",
     "shell.execute_reply": "2024-11-09T10:40:07.061713Z",
     "shell.execute_reply.started": "2024-11-09T10:40:07.056709Z"
    },
    "trusted": true
   },
   "outputs": [
    {
     "name": "stdout",
     "output_type": "stream",
     "text": [
      "['[CLS]', 'з', 'а', 'п', 'а', 'х', 'а', 'н', 'н', 'у', 'ю', '[SEP]', '[PAD]', '[PAD]', '[PAD]', '[PAD]', '[PAD]', '[PAD]', '[PAD]', '[PAD]', '[PAD]', '[PAD]']\n"
     ]
    }
   ],
   "source": [
    "print(convert_to_tokens(train_dataset_[2]['input_ids'].tolist()))"
   ]
  },
  {
   "cell_type": "code",
   "execution_count": null,
   "metadata": {
    "execution": {
     "iopub.execute_input": "2024-11-09T00:21:04.568222Z",
     "iopub.status.busy": "2024-11-09T00:21:04.567687Z",
     "iopub.status.idle": "2024-11-09T00:21:04.588313Z",
     "shell.execute_reply": "2024-11-09T00:21:04.587505Z",
     "shell.execute_reply.started": "2024-11-09T00:21:04.568180Z"
    },
    "trusted": true
   },
   "outputs": [],
   "source": [
    "train_dataset_[2]['labels']"
   ]
  },
  {
   "cell_type": "markdown",
   "metadata": {},
   "source": [
    "#### Test sample:"
   ]
  },
  {
   "cell_type": "code",
   "execution_count": 43,
   "metadata": {
    "execution": {
     "iopub.execute_input": "2024-11-09T10:20:00.759061Z",
     "iopub.status.busy": "2024-11-09T10:20:00.758659Z",
     "iopub.status.idle": "2024-11-09T10:20:00.766959Z",
     "shell.execute_reply": "2024-11-09T10:20:00.766103Z",
     "shell.execute_reply.started": "2024-11-09T10:20:00.759024Z"
    },
    "trusted": true
   },
   "outputs": [
    {
     "data": {
      "text/plain": [
       "{'input_ids': tensor([ 0, 48, 54, 18, 40, 32, 72, 70, 46,  1,  4,  4,  4,  4,  4,  4,  4,  4,\n",
       "          4,  4,  4,  4]),\n",
       " 'attention_mask': tensor([1, 1, 1, 1, 1, 1, 1, 1, 1, 1, 0, 0, 0, 0, 0, 0, 0, 0, 0, 0, 0, 0]),\n",
       " 'labels': array([6])}"
      ]
     },
     "execution_count": 43,
     "metadata": {},
     "output_type": "execute_result"
    }
   ],
   "source": [
    "test_dataset[2]"
   ]
  },
  {
   "cell_type": "code",
   "execution_count": 44,
   "metadata": {
    "execution": {
     "iopub.execute_input": "2024-11-09T10:20:06.008841Z",
     "iopub.status.busy": "2024-11-09T10:20:06.008069Z",
     "iopub.status.idle": "2024-11-09T10:20:06.015245Z",
     "shell.execute_reply": "2024-11-09T10:20:06.014201Z",
     "shell.execute_reply.started": "2024-11-09T10:20:06.008796Z"
    },
    "trusted": true
   },
   "outputs": [
    {
     "name": "stdout",
     "output_type": "stream",
     "text": [
      "['[CLS]', 'у', 'ц', 'е', 'п', 'л', 'я', 'ю', 'т', '[SEP]', '[PAD]', '[PAD]', '[PAD]', '[PAD]', '[PAD]', '[PAD]', '[PAD]', '[PAD]', '[PAD]', '[PAD]', '[PAD]', '[PAD]']\n"
     ]
    }
   ],
   "source": [
    "print(convert_to_tokens(test_dataset[2]['input_ids'].tolist()))"
   ]
  },
  {
   "cell_type": "code",
   "execution_count": 45,
   "metadata": {
    "execution": {
     "iopub.execute_input": "2024-11-09T10:20:14.642484Z",
     "iopub.status.busy": "2024-11-09T10:20:14.641577Z",
     "iopub.status.idle": "2024-11-09T10:20:14.650761Z",
     "shell.execute_reply": "2024-11-09T10:20:14.648727Z",
     "shell.execute_reply.started": "2024-11-09T10:20:14.642413Z"
    },
    "trusted": true
   },
   "outputs": [
    {
     "data": {
      "text/plain": [
       "array([6])"
      ]
     },
     "execution_count": 45,
     "metadata": {},
     "output_type": "execute_result"
    }
   ],
   "source": [
    "test_dataset[2]['labels']"
   ]
  },
  {
   "cell_type": "markdown",
   "metadata": {},
   "source": [
    "Всё работает!"
   ]
  },
  {
   "cell_type": "markdown",
   "metadata": {},
   "source": [
    "#### Теперь нужно сделать train_val_split:"
   ]
  },
  {
   "cell_type": "code",
   "execution_count": 46,
   "metadata": {
    "execution": {
     "iopub.execute_input": "2024-11-09T10:20:18.252411Z",
     "iopub.status.busy": "2024-11-09T10:20:18.251687Z",
     "iopub.status.idle": "2024-11-09T10:20:18.333244Z",
     "shell.execute_reply": "2024-11-09T10:20:18.332220Z",
     "shell.execute_reply.started": "2024-11-09T10:20:18.252370Z"
    },
    "trusted": true
   },
   "outputs": [],
   "source": [
    "def train_val_split(dataset = train_dataset_,\n",
    "                   train_size = 0.9):\n",
    "    \n",
    "    train_size = int(train_size * len(dataset))\n",
    "    val_size = len(dataset) - train_size\n",
    "    \n",
    "    train_dataset, val_dataset = random_split(dataset, [train_size, val_size])\n",
    "    \n",
    "    return train_dataset, val_dataset\n",
    "\n",
    "train_dataset, val_dataset = train_val_split()"
   ]
  },
  {
   "cell_type": "markdown",
   "metadata": {},
   "source": [
    "#### Check:"
   ]
  },
  {
   "cell_type": "code",
   "execution_count": 47,
   "metadata": {
    "execution": {
     "iopub.execute_input": "2024-11-09T10:20:19.701936Z",
     "iopub.status.busy": "2024-11-09T10:20:19.701313Z",
     "iopub.status.idle": "2024-11-09T10:20:19.707745Z",
     "shell.execute_reply": "2024-11-09T10:20:19.706843Z",
     "shell.execute_reply.started": "2024-11-09T10:20:19.701893Z"
    },
    "trusted": true
   },
   "outputs": [
    {
     "data": {
      "text/plain": [
       "(752064, 83563)"
      ]
     },
     "execution_count": 47,
     "metadata": {},
     "output_type": "execute_result"
    }
   ],
   "source": [
    "len(train_dataset), len(val_dataset)"
   ]
  },
  {
   "cell_type": "code",
   "execution_count": 48,
   "metadata": {
    "execution": {
     "iopub.execute_input": "2024-11-09T10:20:30.094839Z",
     "iopub.status.busy": "2024-11-09T10:20:30.094158Z",
     "iopub.status.idle": "2024-11-09T10:20:30.101802Z",
     "shell.execute_reply": "2024-11-09T10:20:30.100770Z",
     "shell.execute_reply.started": "2024-11-09T10:20:30.094798Z"
    },
    "trusted": true
   },
   "outputs": [
    {
     "data": {
      "text/plain": [
       "array([10])"
      ]
     },
     "execution_count": 48,
     "metadata": {},
     "output_type": "execute_result"
    }
   ],
   "source": [
    "train_dataset[2]['labels']"
   ]
  },
  {
   "cell_type": "code",
   "execution_count": null,
   "metadata": {
    "execution": {
     "iopub.execute_input": "2024-11-09T10:20:39.509389Z",
     "iopub.status.busy": "2024-11-09T10:20:39.508651Z",
     "iopub.status.idle": "2024-11-09T10:20:39.516011Z",
     "shell.execute_reply": "2024-11-09T10:20:39.515116Z",
     "shell.execute_reply.started": "2024-11-09T10:20:39.509336Z"
    },
    "trusted": true
   },
   "outputs": [],
   "source": [
    "def get_loaders(train_dataset = train_dataset,\n",
    "                val_dataset = val_dataset,\n",
    "               test_dataset = test_dataset,\n",
    "               shuffle_train = True,\n",
    "               shuffle_val = False,\n",
    "                shuffle_test = False,\n",
    "               batch_size = 128):\n",
    "    \n",
    "    train_dataloader = DataLoader(\n",
    "            train_dataset,   \n",
    "            batch_size = batch_size,\n",
    "            shuffle = shuffle_train,\n",
    "        )\n",
    "\n",
    "    validation_dataloader = DataLoader(\n",
    "            val_dataset, \n",
    "               batch_size = batch_size,\n",
    "            shuffle = shuffle_val,\n",
    "        )\n",
    "    test_dataloader = DataLoader(\n",
    "            test_dataset, \n",
    "            batch_size = batch_size,\n",
    "            shuffle = shuffle_test,\n",
    "        )\n",
    "    \n",
    "    return train_dataloader, validation_dataloader, test_dataloader\n",
    "\n",
    "train_dataloader, validation_dataloader, test_dataloader = get_loaders()\n"
   ]
  },
  {
   "cell_type": "code",
   "execution_count": 57,
   "metadata": {
    "execution": {
     "iopub.execute_input": "2024-11-09T10:40:24.652998Z",
     "iopub.status.busy": "2024-11-09T10:40:24.652606Z",
     "iopub.status.idle": "2024-11-09T10:40:24.662444Z",
     "shell.execute_reply": "2024-11-09T10:40:24.661601Z",
     "shell.execute_reply.started": "2024-11-09T10:40:24.652961Z"
    },
    "trusted": true
   },
   "outputs": [
    {
     "data": {
      "text/plain": [
       "{'input_ids': tensor([ 0, 12, 18, 46, 18, 42, 26, 36,  8, 42, 36, 38, 34,  1,  4,  4,  4,  4,\n",
       "          4,  4,  4,  4]),\n",
       " 'attention_mask': tensor([1, 1, 1, 1, 1, 1, 1, 1, 1, 1, 1, 1, 1, 1, 0, 0, 0, 0, 0, 0, 0, 0]),\n",
       " 'labels': array([8])}"
      ]
     },
     "execution_count": 57,
     "metadata": {},
     "output_type": "execute_result"
    }
   ],
   "source": [
    "train_dataloader.dataset[0]"
   ]
  },
  {
   "cell_type": "code",
   "execution_count": 58,
   "metadata": {
    "execution": {
     "iopub.execute_input": "2024-11-09T10:40:26.081710Z",
     "iopub.status.busy": "2024-11-09T10:40:26.080850Z",
     "iopub.status.idle": "2024-11-09T10:40:26.090582Z",
     "shell.execute_reply": "2024-11-09T10:40:26.089577Z",
     "shell.execute_reply.started": "2024-11-09T10:40:26.081636Z"
    },
    "trusted": true
   },
   "outputs": [
    {
     "data": {
      "text/plain": [
       "{'input_ids': tensor([ 0, 42,  8, 44, 56, 18, 44, 64, 12,  8, 18, 34, 64,  1,  4,  4,  4,  4,\n",
       "          4,  4,  4,  4]),\n",
       " 'attention_mask': tensor([1, 1, 1, 1, 1, 1, 1, 1, 1, 1, 1, 1, 1, 1, 0, 0, 0, 0, 0, 0, 0, 0]),\n",
       " 'labels': array([2])}"
      ]
     },
     "execution_count": 58,
     "metadata": {},
     "output_type": "execute_result"
    }
   ],
   "source": [
    "validation_dataloader.dataset[0]"
   ]
  },
  {
   "cell_type": "code",
   "execution_count": 56,
   "metadata": {
    "execution": {
     "iopub.execute_input": "2024-11-09T10:40:16.511518Z",
     "iopub.status.busy": "2024-11-09T10:40:16.510544Z",
     "iopub.status.idle": "2024-11-09T10:40:16.657052Z",
     "shell.execute_reply": "2024-11-09T10:40:16.656150Z",
     "shell.execute_reply.started": "2024-11-09T10:40:16.511462Z"
    },
    "trusted": true
   },
   "outputs": [
    {
     "data": {
      "application/vnd.jupyter.widget-view+json": {
       "model_id": "06a27fcd6e5c4a48984b3a511be67271",
       "version_major": 2,
       "version_minor": 0
      },
      "text/plain": [
       "  0%|          | 0/5876 [00:00<?, ?it/s]"
      ]
     },
     "metadata": {},
     "output_type": "display_data"
    },
    {
     "name": "stdout",
     "output_type": "stream",
     "text": [
      "tensor([ 0, 24,  8, 10, 32,  8, 14, 38, 42,  8, 44, 44, 48, 16, 26, 32,  8, 44,\n",
      "        66,  1,  4,  4])\n",
      "22\n",
      "tensor([12])\n",
      "['[CLS]', 'з', 'а', 'б', 'л', 'а', 'г', 'о', 'р', 'а', 'с', 'с', 'у', 'д', 'и', 'л', 'а', 'с', 'ь', '[SEP]', '[PAD]', '[PAD]']\n"
     ]
    }
   ],
   "source": [
    "for i, batch in enumerate(tqdm(train_dataloader)):\n",
    "#     pass\n",
    "    print(batch['input_ids'][0])\n",
    "    print(len(batch['attention_mask'][0]))\n",
    "    print(batch['labels'][0])\n",
    "    print(convert_to_tokens(batch['input_ids'][0].tolist()))\n",
    "    if i == 0:\n",
    "        break"
   ]
  },
  {
   "cell_type": "markdown",
   "metadata": {},
   "source": [
    "#### Готовимся обучать..."
   ]
  },
  {
   "cell_type": "code",
   "execution_count": null,
   "metadata": {
    "execution": {
     "iopub.execute_input": "2024-11-09T11:20:58.584604Z",
     "iopub.status.busy": "2024-11-09T11:20:58.583542Z",
     "iopub.status.idle": "2024-11-09T11:20:59.604265Z",
     "shell.execute_reply": "2024-11-09T11:20:59.603192Z",
     "shell.execute_reply.started": "2024-11-09T11:20:58.584557Z"
    },
    "trusted": true
   },
   "outputs": [
    {
     "name": "stderr",
     "output_type": "stream",
     "text": [
      "Some weights of BertForSequenceClassification were not initialized from the model checkpoint at DeepPavlov/rubert-base-cased and are newly initialized: ['classifier.bias', 'classifier.weight']\n",
      "You should probably TRAIN this model on a down-stream task to be able to use it for predictions and inference.\n"
     ]
    },
    {
     "data": {
      "text/plain": [
       "BertForSequenceClassification(\n",
       "  (bert): BertModel(\n",
       "    (embeddings): BertEmbeddings(\n",
       "      (word_embeddings): Embedding(119547, 768, padding_idx=0)\n",
       "      (position_embeddings): Embedding(512, 768)\n",
       "      (token_type_embeddings): Embedding(2, 768)\n",
       "      (LayerNorm): LayerNorm((768,), eps=1e-12, elementwise_affine=True)\n",
       "      (dropout): Dropout(p=0.1, inplace=False)\n",
       "    )\n",
       "    (encoder): BertEncoder(\n",
       "      (layer): ModuleList(\n",
       "        (0-11): 12 x BertLayer(\n",
       "          (attention): BertAttention(\n",
       "            (self): BertSdpaSelfAttention(\n",
       "              (query): Linear(in_features=768, out_features=768, bias=True)\n",
       "              (key): Linear(in_features=768, out_features=768, bias=True)\n",
       "              (value): Linear(in_features=768, out_features=768, bias=True)\n",
       "              (dropout): Dropout(p=0.1, inplace=False)\n",
       "            )\n",
       "            (output): BertSelfOutput(\n",
       "              (dense): Linear(in_features=768, out_features=768, bias=True)\n",
       "              (LayerNorm): LayerNorm((768,), eps=1e-12, elementwise_affine=True)\n",
       "              (dropout): Dropout(p=0.1, inplace=False)\n",
       "            )\n",
       "          )\n",
       "          (intermediate): BertIntermediate(\n",
       "            (dense): Linear(in_features=768, out_features=3072, bias=True)\n",
       "            (intermediate_act_fn): GELUActivation()\n",
       "          )\n",
       "          (output): BertOutput(\n",
       "            (dense): Linear(in_features=3072, out_features=768, bias=True)\n",
       "            (LayerNorm): LayerNorm((768,), eps=1e-12, elementwise_affine=True)\n",
       "            (dropout): Dropout(p=0.1, inplace=False)\n",
       "          )\n",
       "        )\n",
       "      )\n",
       "    )\n",
       "    (pooler): BertPooler(\n",
       "      (dense): Linear(in_features=768, out_features=768, bias=True)\n",
       "      (activation): Tanh()\n",
       "    )\n",
       "  )\n",
       "  (dropout): Dropout(p=0.1, inplace=False)\n",
       "  (classifier): Linear(in_features=768, out_features=20, bias=True)\n",
       ")"
      ]
     },
     "execution_count": 87,
     "metadata": {},
     "output_type": "execute_result"
    }
   ],
   "source": [
    "from transformers import BertForTokenClassification, BertForSequenceClassification, AdamW, get_scheduler\n",
    "\n",
    "def get_model(inference = False, model_path = '/kaggle/input/saved-learning/transformers/default/1/bert_first_model.pth'):\n",
    "\t\n",
    "\t'''\n",
    "\tФункция для загрузки или создания модели\n",
    "\n",
    "\tПараметры:\n",
    "\t-inference: флаг для инференса - если True, то загружаем обученную модель (default: True)\n",
    "\t-model_path: путь к сохранённым весам \n",
    "\t\n",
    "\t'''\n",
    "\t\n",
    "\tif inference == False:\n",
    "\t\tmodel = BertForSequenceClassification.from_pretrained(\n",
    "\t\t\t'DeepPavlov/rubert-base-cased',\n",
    "\t\t\tnum_labels = 20 \n",
    "\t\t)\n",
    "\t\treturn model\n",
    "\t\n",
    "\tmodel = BertForSequenceClassification.from_pretrained(\n",
    "\t\t'DeepPavlov/rubert-base-cased',\n",
    "\t\tnum_labels=20\n",
    "\t)\n",
    "\t\n",
    "\tstate_dict = torch.load(model_path, map_location='cuda')\n",
    "\tmodel.load_state_dict(state_dict)\n",
    "\treturn model\n",
    "\n",
    "model = get_model()\n",
    "model.to('cuda' if torch.cuda.is_available() else 'cpu')\n"
   ]
  },
  {
   "cell_type": "markdown",
   "metadata": {},
   "source": [
    "#### Тест:"
   ]
  },
  {
   "cell_type": "code",
   "execution_count": 60,
   "metadata": {
    "execution": {
     "iopub.execute_input": "2024-11-09T10:41:08.417042Z",
     "iopub.status.busy": "2024-11-09T10:41:08.416023Z",
     "iopub.status.idle": "2024-11-09T10:41:10.289749Z",
     "shell.execute_reply": "2024-11-09T10:41:10.288745Z",
     "shell.execute_reply.started": "2024-11-09T10:41:08.416991Z"
    },
    "trusted": true
   },
   "outputs": [
    {
     "name": "stdout",
     "output_type": "stream",
     "text": [
      "0.0625\n",
      "0.078125\n",
      "0.09375\n",
      "0.0625\n",
      "0.1171875\n",
      "0.09375\n",
      "0.03125\n",
      "0.1171875\n",
      "0.046875\n",
      "0.0625\n",
      "0.0625\n"
     ]
    }
   ],
   "source": [
    "model.eval()  \n",
    "\n",
    "device = torch.device('cuda' if torch.cuda.is_available() else 'cpu')\n",
    "model.to(device)\n",
    "\n",
    "for i, batch in enumerate(train_dataloader):\n",
    "    \n",
    "    b_input_ids = batch['input_ids'].to(device)\n",
    "    b_input_mask = batch['attention_mask'].to(device)\n",
    "    b_labels = batch['labels']\n",
    "    \n",
    "#     print(f\"{i}:\")\n",
    "#     print(b_input_ids.size())\n",
    "#     print(b_input_mask.size())\n",
    "#     print(b_labels)\n",
    "\n",
    "    outputs = model(b_input_ids, attention_mask=b_input_mask)\n",
    "    \n",
    "    logits = outputs.logits\n",
    "#     print(outputs.logits.size())\n",
    "    \n",
    "    logits = logits.detach().cpu().numpy()\n",
    "    label_ids = b_labels.cpu().numpy()\n",
    "    mask_ids = b_input_mask.cpu().numpy()\n",
    "    \n",
    "#     print(logits)\n",
    "    \n",
    "    pred_flat = np.argmax(logits, axis=-1).flatten()  \n",
    "#     print(pred_flat)\n",
    "    labels_flat = label_ids.flatten()  \n",
    "    mask_flat = mask_ids.flatten() \n",
    "    \n",
    "#     print(labels_flat)\n",
    "\n",
    "    \n",
    "    \n",
    "    accuracy = np.sum(pred_flat == labels_flat) / len(labels_flat)\n",
    "    print(accuracy)\n",
    "    \n",
    "\n",
    "    if i == 10:\n",
    "        break\n",
    "    "
   ]
  },
  {
   "cell_type": "markdown",
   "metadata": {},
   "source": [
    "#### Оптимизатор и его scheduler:"
   ]
  },
  {
   "cell_type": "code",
   "execution_count": null,
   "metadata": {
    "execution": {
     "iopub.execute_input": "2024-11-09T00:29:54.657033Z",
     "iopub.status.busy": "2024-11-09T00:29:54.656584Z",
     "iopub.status.idle": "2024-11-09T00:29:54.666235Z",
     "shell.execute_reply": "2024-11-09T00:29:54.665359Z",
     "shell.execute_reply.started": "2024-11-09T00:29:54.656990Z"
    },
    "trusted": true
   },
   "outputs": [],
   "source": [
    "optimizer = AdamW(model.parameters(), lr=3e-5)\n",
    "\n",
    "num_epochs = 15\n",
    "\n",
    "train_steps = len(train_dataloader) * num_epochs\n",
    "lr_scheduler = get_scheduler(\n",
    "    name='linear',\n",
    "    optimizer=optimizer,\n",
    "    num_warmup_steps=0,\n",
    "    num_training_steps=train_steps\n",
    ")"
   ]
  },
  {
   "cell_type": "markdown",
   "metadata": {},
   "source": [
    "#### Утилиты для train-val loop'а:"
   ]
  },
  {
   "cell_type": "code",
   "execution_count": 61,
   "metadata": {
    "execution": {
     "iopub.execute_input": "2024-11-09T10:41:37.752079Z",
     "iopub.status.busy": "2024-11-09T10:41:37.751178Z",
     "iopub.status.idle": "2024-11-09T10:41:37.757792Z",
     "shell.execute_reply": "2024-11-09T10:41:37.756901Z",
     "shell.execute_reply.started": "2024-11-09T10:41:37.752035Z"
    },
    "trusted": true
   },
   "outputs": [],
   "source": [
    "def format_time(elapsed):\n",
    "    return str(datetime.timedelta(seconds=int(round((elapsed)))))\n",
    "\n",
    "def token_accuracy_for_accent(preds, labels, attention_mask):\n",
    "    pred_flat = np.argmax(preds, axis=1).flatten()  \n",
    "    labels_flat = labels.flatten()  \n",
    "    mask_flat = attention_mask.flatten()  \n",
    "    \n",
    "    accuracy = np.sum(pred_flat == labels_flat) / len(labels_flat)\n",
    "#     if accuracy != 0:\n",
    "#         print(\"Non-zero:\")\n",
    "#         print(pred_flat)\n",
    "#         print(labels_flat)\n",
    "    return accuracy\n"
   ]
  },
  {
   "cell_type": "markdown",
   "metadata": {},
   "source": [
    "#### Функция тренировки модели:"
   ]
  },
  {
   "cell_type": "code",
   "execution_count": null,
   "metadata": {
    "execution": {
     "iopub.execute_input": "2024-11-09T00:29:58.890376Z",
     "iopub.status.busy": "2024-11-09T00:29:58.890028Z",
     "iopub.status.idle": "2024-11-09T00:29:58.918318Z",
     "shell.execute_reply": "2024-11-09T00:29:58.917330Z",
     "shell.execute_reply.started": "2024-11-09T00:29:58.890344Z"
    },
    "trusted": true
   },
   "outputs": [],
   "source": [
    "def train_model(\n",
    "    model = model,\n",
    "    train_dataloader = train_dataloader,\n",
    "    validation_dataloader = validation_dataloader,\n",
    "    optimizer = AdamW(model.parameters(), lr=3e-5),\n",
    "    scheduler = lr_scheduler,\n",
    "    num_epochs = 15,\n",
    "    device = 'cuda',\n",
    "    model_save_path = \"bert_first_model.pth\",\n",
    "    tensorboard_log_dir = '/kaggle/working/runs/bert_launch',\n",
    "    gradient_accumulation_steps=2,\n",
    "    eval_every=1,\n",
    "    test_batch_only=False\n",
    "):\n",
    "    \n",
    "    writer = SummaryWriter(log_dir=tensorboard_log_dir)\n",
    "    history = {\n",
    "        'train_loss': [],\n",
    "        'train_accuracy': [],\n",
    "        'val_loss': [],\n",
    "        'val_accuracy': []\n",
    "    }\n",
    "    best_val_accuracy = 0.0\n",
    "    \n",
    "    for epoch in range(num_epochs):\n",
    "        print(\"\")\n",
    "        print('======== Epoch {:} / {:} ========'.format(epoch + 1, num_epochs))\n",
    "        print('Training...')\n",
    "        \n",
    "        t0 = time.time()\n",
    "        model.train()\n",
    "        total_train_loss = 0\n",
    "        total_train_accuracy = 0\n",
    "        num_train_steps = 0\n",
    "        \n",
    "        for step, batch in enumerate(tqdm(train_dataloader)):\n",
    "            \n",
    "            if test_batch_only and step >= 100:  # Прерываем после первого батча\n",
    "                break\n",
    "                \n",
    "            \n",
    "            if step % 1500 == 0 and not step == 0:\n",
    "                # Calculate elapsed time in minutes.\n",
    "                elapsed = format_time(time.time() - t0)\n",
    "\n",
    "                # Report progress.\n",
    "                print('  Batch {:>5,}  of  {:>5,}.    Elapsed: {:}.'.format(step, len(train_dataloader), elapsed))\n",
    "\n",
    "            b_input_ids = batch['input_ids'].to(device)\n",
    "            b_input_mask = batch['attention_mask'].to(device)\n",
    "            b_labels = batch['labels'].to(device)\n",
    "\n",
    "            optimizer.zero_grad()\n",
    "\n",
    "            outputs = model(b_input_ids, attention_mask=b_input_mask, labels=b_labels)\n",
    "            loss = outputs.loss\n",
    "            logits = outputs.logits\n",
    "            \n",
    "            logits = logits.detach().cpu().numpy()\n",
    "            label_ids = b_labels.cpu().numpy()\n",
    "            mask_ids = b_input_mask.cpu().numpy()\n",
    "            \n",
    "            batch_accuracy = token_accuracy_for_accent(logits, label_ids, mask_ids)\n",
    "#             if step == 0:\n",
    "#                 print('Ground True:')\n",
    "#                 print(label_ids.flatten())\n",
    "#                 print(\"Predicted:\")\n",
    "#                 print(np.argmax(logits, axis=1).flatten())\n",
    "#             print(batch_accuracy)\n",
    "            total_train_accuracy += batch_accuracy\n",
    "\n",
    "            total_train_loss += loss.item()\n",
    "            num_train_steps += 1\n",
    "\n",
    "            loss.backward()\n",
    "\n",
    "            if (step + 1) % gradient_accumulation_steps == 0 or (step + 1) == len(train_dataloader):\n",
    "                torch.nn.utils.clip_grad_norm_(model.parameters(), 1.0)\n",
    "                optimizer.step()\n",
    "                scheduler.step()\n",
    "        \n",
    "        avg_train_loss = total_train_loss / num_train_steps\n",
    "        avg_train_accuracy = total_train_accuracy / num_train_steps\n",
    "        \n",
    "        training_time = format_time(time.time() - t0)\n",
    "\n",
    "        print(\"\")\n",
    "        print(\"  Average training loss: {0:.2f}\".format(avg_train_loss))\n",
    "        print(\"  Training epoch took: {:}\".format(training_time))\n",
    "\n",
    "        history['train_loss'].append(avg_train_loss)\n",
    "        history['train_accuracy'].append(avg_train_accuracy)\n",
    "\n",
    "        # Логирование в TensorBoard для обучения\n",
    "        writer.add_scalar(\"Train/Loss\", avg_train_loss, epoch + 1)\n",
    "        writer.add_scalar(\"Train/Accuracy\", avg_train_accuracy, epoch + 1)\n",
    "\n",
    "        print(f\"Train Loss: {avg_train_loss:.4f}, Train Accuracy: {avg_train_accuracy:.4f}\")\n",
    "        \n",
    "        print(\"\")\n",
    "        print(\"Running Validation...\")\n",
    "\n",
    "        t0 = time.time()\n",
    "\n",
    "        # Put the model in evaluation mode--the dropout layers behave differently\n",
    "        # during evaluation.\n",
    "        model.eval()\n",
    "        \n",
    "        if (epoch + 1) % eval_every == 0:\n",
    "            model.eval()\n",
    "            total_eval_loss = 0\n",
    "            total_eval_accuracy = 0\n",
    "            num_eval_steps = 0\n",
    "        \n",
    "        with torch.no_grad():\n",
    "            for batch in validation_dataloader:\n",
    "                \n",
    "                if test_batch_only and num_eval_steps >= 100:  # Прерываем после первого батча\n",
    "                    break\n",
    "                b_input_ids = batch['input_ids'].to(device)\n",
    "                b_input_mask = batch['attention_mask'].to(device)\n",
    "                b_labels = batch['labels'].to(device)\n",
    "\n",
    "                outputs = model(b_input_ids, attention_mask=b_input_mask, labels=b_labels)\n",
    "                loss = outputs.loss\n",
    "                logits = outputs.logits.detach().cpu().numpy()\n",
    "                label_ids = b_labels.cpu().numpy()\n",
    "                mask_ids = b_input_mask.cpu().numpy()\n",
    "\n",
    "                batch_accuracy = token_accuracy_for_accent(logits, label_ids, mask_ids)\n",
    "                total_eval_accuracy += batch_accuracy\n",
    "\n",
    "                total_eval_loss += loss.item()\n",
    "                num_eval_steps += 1\n",
    "\n",
    "        avg_val_loss = total_eval_loss / num_eval_steps\n",
    "        avg_val_accuracy = total_eval_accuracy / num_eval_steps\n",
    "\n",
    "        history['val_loss'].append(avg_val_loss)\n",
    "        history['val_accuracy'].append(avg_val_accuracy)\n",
    "\n",
    "        # Логирование в TensorBoard для валидации\n",
    "        writer.add_scalar(\"Validation/Loss\", avg_val_loss, epoch + 1)\n",
    "        writer.add_scalar(\"Validation/Accuracy\", avg_val_accuracy, epoch + 1)\n",
    "\n",
    "        print(f\"Validation Loss: {avg_val_loss:.4f}, Validation Accuracy: {avg_val_accuracy:.4f}\")\n",
    "\n",
    "        if avg_val_accuracy > best_val_accuracy:\n",
    "            best_val_accuracy = avg_val_accuracy\n",
    "            torch.save(model.state_dict(), model_save_path)\n",
    "            print(f\"Model saved to {model_save_path}\")\n",
    "    \n",
    "    writer.close()\n",
    "    return history\n",
    "\n",
    "    "
   ]
  },
  {
   "cell_type": "code",
   "execution_count": null,
   "metadata": {
    "execution": {
     "iopub.execute_input": "2024-11-09T00:30:04.274198Z",
     "iopub.status.busy": "2024-11-09T00:30:04.273788Z",
     "iopub.status.idle": "2024-11-09T00:34:03.768673Z",
     "shell.execute_reply": "2024-11-09T00:34:03.767509Z",
     "shell.execute_reply.started": "2024-11-09T00:30:04.274160Z"
    },
    "trusted": true
   },
   "outputs": [],
   "source": [
    "train_model()"
   ]
  },
  {
   "cell_type": "markdown",
   "metadata": {},
   "source": [
    "#### Теперь инференс модели:"
   ]
  },
  {
   "cell_type": "code",
   "execution_count": null,
   "metadata": {
    "execution": {
     "iopub.execute_input": "2024-11-09T11:35:05.606089Z",
     "iopub.status.busy": "2024-11-09T11:35:05.605688Z",
     "iopub.status.idle": "2024-11-09T11:35:05.618107Z",
     "shell.execute_reply": "2024-11-09T11:35:05.617170Z",
     "shell.execute_reply.started": "2024-11-09T11:35:05.606052Z"
    },
    "trusted": true
   },
   "outputs": [],
   "source": [
    "def inference(model_path = '/kaggle/input/saved-learning/transformers/default/1/bert_first_model.pth',\n",
    "\t\t\ttest_dataloader = test_dataloader,\n",
    "\t\t\tdevice = 'cuda',\n",
    "\t\t\ttest_batch_only = False):\n",
    "\t\n",
    "\t'''\n",
    "\tФункция реализует инференс и подсчет качества модели на тестовом даталоадере\n",
    "\n",
    "\tПараметры:\n",
    "\t-model_path: путь к сохранённым весам модели\n",
    "\t-test_dataloader: тестовый даталоадер (default: test_dataloader)\n",
    "\t-device: device (default: 'cuda')\n",
    "\t-test_batch_only: флаг для контроля на одном батче (default: False)\n",
    "\t'''\n",
    "\t\n",
    "\t# Загружаем веса\n",
    "\tmodel_inference = get_model(inference = True, model_path = model_path)\n",
    "\tmodel_inference.to(device)\n",
    "\tmodel_inference.eval()\n",
    "\t\n",
    "\tprint(\"\")\n",
    "\tprint(\"Running Inference...\")\n",
    "\t\n",
    "\ttotal_inference_loss = 0\n",
    "\ttotal_inference_accuracy = 0\n",
    "\tnum_inference_steps = 0\n",
    "\t\n",
    "\tlabels_pred = []\n",
    "\tlabels_ground_truth = []\n",
    "\t\n",
    "\twith torch.no_grad():\n",
    "\t\tfor i, batch in enumerate(tqdm(test_dataloader)):\n",
    "\t\t\tif test_batch_only and num_inference_steps >= 3:  # Прерываем для тестирования работы функции\n",
    "\t\t\t\t\tbreak\n",
    "\t\t\t\t\t\n",
    "\t\t\tb_input_ids = batch['input_ids'].to(device)\n",
    "\t\t\tb_input_mask = batch['attention_mask'].to(device)\n",
    "\t\t\tb_labels = batch['labels'].to(device)\n",
    "\n",
    "\t\t\toutputs = model_inference(b_input_ids, attention_mask=b_input_mask, labels=b_labels)\n",
    "\t\t\tloss = outputs.loss\n",
    "\t\t\tlogits = outputs.logits.detach().cpu().numpy()\n",
    "\t\t\tlabel_ids = b_labels.cpu().numpy()\n",
    "\t\t\tmask_ids = b_input_mask.cpu().numpy()\n",
    "\t\t\t\n",
    "\t\t\tpredicted_labels = np.argmax(logits, axis=1).flatten()\n",
    "\t\t\t\n",
    "\t\t\t# Дополнительные выводы для контроля\n",
    "#             print(label_ids.flatten())\n",
    "#             print(predicted_labels)\n",
    "\t\t\t\n",
    "\t\t\tlabels_pred.append(predicted_labels)\n",
    "\t\t\tlabels_ground_truth.append(label_ids.flatten())\n",
    "\t\t\t\n",
    "\t\t\tbatch_accuracy = token_accuracy_for_accent(logits, label_ids, mask_ids)\n",
    "\t\t\ttotal_inference_accuracy += batch_accuracy\n",
    "\n",
    "\t\t\ttotal_inference_loss += loss.item()\n",
    "\t\t\tnum_inference_steps += 1\n",
    "\t\n",
    "\tall_predictions = np.concatenate(labels_pred)\n",
    "\tall_labels = np.concatenate(labels_ground_truth)\n",
    "\n",
    "\t# Дополнительные выводы для контроля\n",
    "#     print(all_predictions.shape)\n",
    "#     print(all_labels.shape)\n",
    "\t\n",
    "\taccuracy = accuracy_score(y_true = all_labels, y_pred = all_predictions)\n",
    "\t\t\t\n",
    "\tavg_inference_loss = total_inference_loss / num_inference_steps\n",
    "\tavg_inference_accuracy = total_inference_accuracy / num_inference_steps\n",
    "\t\n",
    "\tprint(f\"Inference Loss (avg): {avg_inference_loss:.4f}, Inference Accuracy (avg): {avg_inference_accuracy:.4f}\")\n",
    "\tprint(f\"Final Inference Accuracy Score: {accuracy:.4f}\")\n",
    "\tprint(\"\")\n",
    "\tprint(\"End of Inference!\")"
   ]
  },
  {
   "cell_type": "markdown",
   "metadata": {},
   "source": [
    "#### Запускаем инференс:"
   ]
  },
  {
   "cell_type": "code",
   "execution_count": 108,
   "metadata": {
    "execution": {
     "iopub.execute_input": "2024-11-09T11:35:12.366848Z",
     "iopub.status.busy": "2024-11-09T11:35:12.366417Z",
     "iopub.status.idle": "2024-11-09T11:47:08.892630Z",
     "shell.execute_reply": "2024-11-09T11:47:08.891671Z",
     "shell.execute_reply.started": "2024-11-09T11:35:12.366808Z"
    },
    "trusted": true
   },
   "outputs": [
    {
     "name": "stderr",
     "output_type": "stream",
     "text": [
      "Some weights of BertForSequenceClassification were not initialized from the model checkpoint at DeepPavlov/rubert-base-cased and are newly initialized: ['classifier.bias', 'classifier.weight']\n",
      "You should probably TRAIN this model on a down-stream task to be able to use it for predictions and inference.\n"
     ]
    },
    {
     "name": "stdout",
     "output_type": "stream",
     "text": [
      "\n",
      "Running Inference...\n"
     ]
    },
    {
     "data": {
      "application/vnd.jupyter.widget-view+json": {
       "model_id": "23f7db4361aa4c70ab30e77b23252f84",
       "version_major": 2,
       "version_minor": 0
      },
      "text/plain": [
       "  0%|          | 0/6529 [00:00<?, ?it/s]"
      ]
     },
     "metadata": {},
     "output_type": "display_data"
    },
    {
     "name": "stdout",
     "output_type": "stream",
     "text": [
      "Inference Loss (avg): 0.1378, Inference Accuracy (avg): 0.9548\n",
      "Final Inference Accuracy Score: 0.9548\n",
      "\n",
      "End of Inference!\n"
     ]
    }
   ],
   "source": [
    "inference(test_batch_only = False, test_dataloader = test_dataloader)"
   ]
  },
  {
   "cell_type": "markdown",
   "metadata": {},
   "source": [
    "Ок, вроде бы работает неплохо, чему-то научилась модель, если не было косяков с выборками. Давайте посмотрим, как оно работает на каком-то элементе из выборки:"
   ]
  },
  {
   "cell_type": "code",
   "execution_count": null,
   "metadata": {
    "execution": {
     "iopub.execute_input": "2024-11-09T11:56:23.489400Z",
     "iopub.status.busy": "2024-11-09T11:56:23.488642Z",
     "iopub.status.idle": "2024-11-09T11:56:23.494816Z",
     "shell.execute_reply": "2024-11-09T11:56:23.493872Z",
     "shell.execute_reply.started": "2024-11-09T11:56:23.489349Z"
    },
    "trusted": true
   },
   "outputs": [],
   "source": [
    "def get_one_batch_loader(dataset = test_dataset, shuffle_test = False):\n",
    "\t\n",
    "\t'''\n",
    "\tФункция создает даталоадер с batch_size = 1\n",
    "\n",
    "\tПараметры:\n",
    "\t-dataset: датасет (default: test_dataset)\n",
    "\t-shuffle_test: флаг перемешивания теста (default: False)\n",
    "\t'''\n",
    "\t\n",
    "\tbatch_size = 1\n",
    "\tdataloader = DataLoader(\n",
    "\t\t\tdataset, \n",
    "\t\t\tbatch_size = batch_size,\n",
    "\t\t\tshuffle = shuffle_test,\n",
    "\t\t)\n",
    "\t\n",
    "\treturn dataloader\n",
    "\n",
    "dataloader = get_one_batch_loader()\n"
   ]
  },
  {
   "cell_type": "markdown",
   "metadata": {},
   "source": [
    "#### Check длины:"
   ]
  },
  {
   "cell_type": "code",
   "execution_count": 110,
   "metadata": {
    "execution": {
     "iopub.execute_input": "2024-11-09T11:56:31.935990Z",
     "iopub.status.busy": "2024-11-09T11:56:31.935137Z",
     "iopub.status.idle": "2024-11-09T11:56:31.941507Z",
     "shell.execute_reply": "2024-11-09T11:56:31.940556Z",
     "shell.execute_reply.started": "2024-11-09T11:56:31.935950Z"
    },
    "trusted": true
   },
   "outputs": [
    {
     "data": {
      "text/plain": [
       "835627"
      ]
     },
     "execution_count": 110,
     "metadata": {},
     "output_type": "execute_result"
    }
   ],
   "source": [
    "len(dataloader)"
   ]
  },
  {
   "cell_type": "code",
   "execution_count": null,
   "metadata": {
    "execution": {
     "iopub.execute_input": "2024-11-09T12:23:47.064644Z",
     "iopub.status.busy": "2024-11-09T12:23:47.063868Z",
     "iopub.status.idle": "2024-11-09T12:23:47.077533Z",
     "shell.execute_reply": "2024-11-09T12:23:47.076564Z",
     "shell.execute_reply.started": "2024-11-09T12:23:47.064604Z"
    },
    "trusted": true
   },
   "outputs": [],
   "source": [
    "def visualize_results(dataloader = dataloader,\n",
    "\t\t\t\t\tmodel_path = '/kaggle/input/saved-learning/transformers/default/1/bert_first_model.pth',\n",
    "\t\t\t\t\tnum_predictions = 10,\n",
    "\t\t\t\t\tshow_errors = False,\n",
    "\t\t\t\t\tdevice = 'cuda'):\n",
    "\t\n",
    "\t'''\n",
    "\tФункция визуализации результатов\n",
    "\n",
    "\tПараметры:\n",
    "\t-dataloader: тестовый даталоадер (default: dataloader)\n",
    "\t-model_path: путь к весам модели (default: model_path)\n",
    "\t-num_predictions: число предсказаний (default: 10)\n",
    "\t-show_errors: флаг отображения неверных предсказаний (default: False)\n",
    "\t-device: device (default: 'cuda')\n",
    "\t'''\n",
    "\t\n",
    "\t# Загружаем веса\n",
    "\tmodel_inference = get_model(inference = True, model_path = model_path)\n",
    "\tmodel_inference.to(device)\n",
    "\tmodel_inference.eval()\n",
    "\tprint(\"Show predictions...\")\n",
    "\tcount = 0\n",
    "\tfor batch in tqdm(dataloader):\n",
    "\t\t\n",
    "\t\tb_input_ids = batch['input_ids'].to(device)\n",
    "\t\tb_input_mask = batch['attention_mask'].to(device)\n",
    "\t\tb_labels = batch['labels'].to(device)\n",
    "\n",
    "\t\toutputs = model_inference(b_input_ids, attention_mask=b_input_mask, labels=b_labels)\n",
    "\t\tloss = outputs.loss\n",
    "\t\tlogits = outputs.logits.detach().cpu().numpy()\n",
    "\t\tlabel_ids = b_labels.cpu().numpy()\n",
    "\t\tmask_ids = b_input_mask.cpu().numpy()\n",
    "\t\t\n",
    "\t\ttokens = convert_to_tokens(b_input_ids[0].tolist())\n",
    "\n",
    "\t\tpredicted_label = np.argmax(logits, axis=1).flatten()[0]\n",
    "\t\tground_truth_label = label_ids.flatten()[0]\n",
    "\t\t\n",
    "\t\tindex_to_upper_gt = ground_truth_label\n",
    "\t\tindex_to_upper_pred = predicted_label\n",
    "\t\t\n",
    "\t\t# Дополнительные выводы для контроля\n",
    "#         print(predicted_label)\n",
    "#         print(ground_truth_label)\n",
    "#         print(mask_ids[0])\n",
    "#         print(tokens)\n",
    "\t\t\n",
    "\t\t# Фильтруем токены для показа\n",
    "\t\tfiltered_tokens = [token for token, m in zip(tokens, mask_ids[0]) if m == 1]\n",
    "\t\t\n",
    "\t\tif show_errors == False:\n",
    "\t\t\tif (predicted_label == ground_truth_label):\n",
    "\t\t\t\t# По индексу предсказания делаем upper()\n",
    "\t\t\t\tfiltered_tokens[index_to_upper_pred] = filtered_tokens[index_to_upper_pred].upper()\n",
    "\t\t\t\tsequence = ''.join(filtered_tokens)\n",
    "\t\t\t\tprint(\"Correct prediction:\")\n",
    "\t\t\t\tprint(sequence)\n",
    "\t\t\t\tprint(\"\")\n",
    "\t\t\t\tcount += 1\n",
    "\t\t\t\t\n",
    "\t\telse:\n",
    "\t\t\tif (predicted_label != ground_truth_label):\n",
    "\t\t\t\ttrue_tokens = filtered_tokens.copy() \n",
    "\t\t\t\t# По индексу предсказания делаем upper()\n",
    "\t\t\t\ttrue_tokens[index_to_upper_gt] = true_tokens[index_to_upper_gt].upper()\n",
    "\t\t\t\tsequence_true = ''.join(true_tokens)\n",
    "\t\t\t\tprint(\"Error prediction!\")\n",
    "\t\t\t\tprint(f\"Ground Truth: {sequence_true}\")\n",
    "\t\t\t\t\n",
    "\t\t\t\tfiltered_tokens[index_to_upper_pred] = filtered_tokens[index_to_upper_pred].upper()\n",
    "\t\t\t\tsequence_pred = ''.join(filtered_tokens)\n",
    "\t\t\t\tprint(f\"Model's prediction: {sequence_pred}\")\n",
    "\t\t\t\tprint(\"\")\n",
    "\t\t\t\tcount += 1\n",
    "\n",
    "\t\t# Обрываем, если изобразили требуемое количество предсказаний\n",
    "\t\tif count > num_predictions:\n",
    "\t\t\tbreak  \n"
   ]
  },
  {
   "cell_type": "markdown",
   "metadata": {},
   "source": [
    "#### Правильные предсказания:"
   ]
  },
  {
   "cell_type": "code",
   "execution_count": 131,
   "metadata": {
    "execution": {
     "iopub.execute_input": "2024-11-09T12:23:49.076041Z",
     "iopub.status.busy": "2024-11-09T12:23:49.075301Z",
     "iopub.status.idle": "2024-11-09T12:23:51.414104Z",
     "shell.execute_reply": "2024-11-09T12:23:51.413154Z",
     "shell.execute_reply.started": "2024-11-09T12:23:49.076000Z"
    },
    "trusted": true
   },
   "outputs": [
    {
     "name": "stderr",
     "output_type": "stream",
     "text": [
      "Some weights of BertForSequenceClassification were not initialized from the model checkpoint at DeepPavlov/rubert-base-cased and are newly initialized: ['classifier.bias', 'classifier.weight']\n",
      "You should probably TRAIN this model on a down-stream task to be able to use it for predictions and inference.\n"
     ]
    },
    {
     "name": "stdout",
     "output_type": "stream",
     "text": [
      "Show predictions...\n"
     ]
    },
    {
     "data": {
      "application/vnd.jupyter.widget-view+json": {
       "model_id": "2a08f33359364819a3d754e71a369072",
       "version_major": 2,
       "version_minor": 0
      },
      "text/plain": [
       "  0%|          | 0/835627 [00:00<?, ?it/s]"
      ]
     },
     "metadata": {},
     "output_type": "display_data"
    },
    {
     "name": "stdout",
     "output_type": "stream",
     "text": [
      "Correct prediction:\n",
      "[CLS]набирАющих[SEP]\n",
      "\n",
      "Correct prediction:\n",
      "[CLS]родовИтым[SEP]\n",
      "\n",
      "Correct prediction:\n",
      "[CLS]уцеплЯют[SEP]\n",
      "\n",
      "Correct prediction:\n",
      "[CLS]королькОвой[SEP]\n",
      "\n",
      "Correct prediction:\n",
      "[CLS]подвздОшный[SEP]\n",
      "\n",
      "Correct prediction:\n",
      "[CLS]опростоволОсился[SEP]\n",
      "\n",
      "Correct prediction:\n",
      "[CLS]дохристиАнскому[SEP]\n",
      "\n",
      "Correct prediction:\n",
      "[CLS]вотИрующей[SEP]\n",
      "\n",
      "Correct prediction:\n",
      "[CLS]эготИзмов[SEP]\n",
      "\n",
      "Correct prediction:\n",
      "[CLS]взвИзгнет[SEP]\n",
      "\n",
      "Correct prediction:\n",
      "[CLS]набирАющие[SEP]\n",
      "\n"
     ]
    }
   ],
   "source": [
    "visualize_results()  "
   ]
  },
  {
   "cell_type": "markdown",
   "metadata": {},
   "source": [
    "#### Где мы ошиблись:"
   ]
  },
  {
   "cell_type": "code",
   "execution_count": 133,
   "metadata": {
    "execution": {
     "iopub.execute_input": "2024-11-09T12:35:01.184889Z",
     "iopub.status.busy": "2024-11-09T12:35:01.183959Z",
     "iopub.status.idle": "2024-11-09T12:35:07.043317Z",
     "shell.execute_reply": "2024-11-09T12:35:07.042385Z",
     "shell.execute_reply.started": "2024-11-09T12:35:01.184841Z"
    },
    "trusted": true
   },
   "outputs": [
    {
     "name": "stderr",
     "output_type": "stream",
     "text": [
      "Some weights of BertForSequenceClassification were not initialized from the model checkpoint at DeepPavlov/rubert-base-cased and are newly initialized: ['classifier.bias', 'classifier.weight']\n",
      "You should probably TRAIN this model on a down-stream task to be able to use it for predictions and inference.\n"
     ]
    },
    {
     "name": "stdout",
     "output_type": "stream",
     "text": [
      "Show predictions...\n"
     ]
    },
    {
     "data": {
      "application/vnd.jupyter.widget-view+json": {
       "model_id": "5248874bba88472fbe62abf5659f4f82",
       "version_major": 2,
       "version_minor": 0
      },
      "text/plain": [
       "  0%|          | 0/835627 [00:00<?, ?it/s]"
      ]
     },
     "metadata": {},
     "output_type": "display_data"
    },
    {
     "name": "stdout",
     "output_type": "stream",
     "text": [
      "Error prediction!\n",
      "Ground Truth: [CLS]всполОхи[SEP]\n",
      "Model's prediction: [CLS]всполохИ[SEP]\n",
      "\n",
      "Error prediction!\n",
      "Ground Truth: [CLS]шипчИнский[SEP]\n",
      "Model's prediction: [CLS]шИпчинский[SEP]\n",
      "\n",
      "Error prediction!\n",
      "Ground Truth: [CLS]теноркУ[SEP]\n",
      "Model's prediction: [CLS]тенОрку[SEP]\n",
      "\n",
      "Error prediction!\n",
      "Ground Truth: [CLS]боженИнский[SEP]\n",
      "Model's prediction: [CLS]божЕнинский[SEP]\n",
      "\n",
      "Error prediction!\n",
      "Ground Truth: [CLS]топчанОм[SEP]\n",
      "Model's prediction: [CLS]топчАном[SEP]\n",
      "\n",
      "Error prediction!\n",
      "Ground Truth: [CLS]нарЕзавшийся[SEP]\n",
      "Model's prediction: [CLS]нарезАвшийся[SEP]\n",
      "\n",
      "Error prediction!\n",
      "Ground Truth: [CLS]специалИст-эксперт[SEP]\n",
      "Model's prediction: [CLS]специалист-Эксперт[SEP]\n",
      "\n",
      "Error prediction!\n",
      "Ground Truth: [CLS]преувелИчит[SEP]\n",
      "Model's prediction: [CLS]преувеличИт[SEP]\n",
      "\n",
      "Error prediction!\n",
      "Ground Truth: [CLS]бЕггров[SEP]\n",
      "Model's prediction: [CLS]беггрОв[SEP]\n",
      "\n",
      "Error prediction!\n",
      "Ground Truth: [CLS]быкА[SEP]\n",
      "Model's prediction: [CLS]бЫка[SEP]\n",
      "\n",
      "Error prediction!\n",
      "Ground Truth: [CLS]пАрадайс[SEP]\n",
      "Model's prediction: [CLS]парадАйс[SEP]\n",
      "\n"
     ]
    }
   ],
   "source": [
    "visualize_results(show_errors = True)  "
   ]
  },
  {
   "cell_type": "markdown",
   "metadata": {},
   "source": [
    "#### Для единичного слова:"
   ]
  },
  {
   "cell_type": "code",
   "execution_count": null,
   "metadata": {
    "execution": {
     "iopub.execute_input": "2024-11-09T12:51:34.359484Z",
     "iopub.status.busy": "2024-11-09T12:51:34.358574Z",
     "iopub.status.idle": "2024-11-09T12:51:36.484267Z",
     "shell.execute_reply": "2024-11-09T12:51:36.483116Z",
     "shell.execute_reply.started": "2024-11-09T12:51:34.359429Z"
    },
    "trusted": true
   },
   "outputs": [
    {
     "name": "stdout",
     "output_type": "stream",
     "text": [
      "Prediction...\n"
     ]
    },
    {
     "name": "stderr",
     "output_type": "stream",
     "text": [
      "Some weights of BertForSequenceClassification were not initialized from the model checkpoint at DeepPavlov/rubert-base-cased and are newly initialized: ['classifier.bias', 'classifier.weight']\n",
      "You should probably TRAIN this model on a down-stream task to be able to use it for predictions and inference.\n"
     ]
    },
    {
     "name": "stdout",
     "output_type": "stream",
     "text": [
      "Prediction:\n",
      "[CLS]локомотИв[SEP]\n",
      "\n"
     ]
    }
   ],
   "source": [
    "def input_word_predict(word,\n",
    "\t\t\t\t\tmodel_path = '/kaggle/input/saved-learning/transformers/default/1/bert_first_model.pth',\n",
    "\t\t\t\t\tdevice = 'cuda',\n",
    "\t\t\t\t\ttokenizer = tokenizer):\n",
    "\t\n",
    "\t'''\n",
    "\tФункция предсказания одного входного слова\n",
    "\n",
    "\tПараметры:\n",
    "\t-word: входное слово\n",
    "\t-model_path: путь к сохранённой модели\n",
    "\t-device: device (default: 'cuda')\n",
    "\t-tokenizer: токенизатор (default: tokenizer)\n",
    "\t'''\n",
    "\t\n",
    "\tprint(\"Prediction...\")\n",
    "\tmodel_inference = get_model(inference = True, model_path = model_path)\n",
    "\tmodel_inference.to(device)\n",
    "\tmodel_inference.eval()\n",
    "\t\n",
    "\tencoding = tokenizer.encode_plus(\n",
    "\t\t\tword.lower(),\n",
    "\t\t\tadd_special_tokens=True,\n",
    "\t\t\tmax_length=22,\n",
    "\t\t\tpadding='max_length',\n",
    "\t\t\ttruncation=True,\n",
    "\t\t\treturn_attention_mask=True,\n",
    "\t\t\treturn_tensors='pt',\n",
    "\t\t)\n",
    "\t\t\n",
    "\tinput_ids = encoding['input_ids'].flatten().unsqueeze(0).to(device)\n",
    "\tattention_mask = encoding['attention_mask'].flatten().unsqueeze(0).to(device)\n",
    "\t\n",
    "\toutputs = model_inference(input_ids, attention_mask=attention_mask)\n",
    "\tloss = outputs.loss\n",
    "\tlogits = outputs.logits.detach().cpu().numpy()\n",
    "\tmask_ids = attention_mask.cpu().numpy()\n",
    "\n",
    "\ttokens = convert_to_tokens(input_ids[0].tolist())\n",
    "\n",
    "\tpredicted_label = np.argmax(logits, axis=1).flatten()[0]\n",
    "\tindex_to_upper_pred = predicted_label\n",
    "\t\n",
    "\tfiltered_tokens = [token for token, m in zip(tokens, mask_ids[0]) if m == 1]\n",
    "\t\n",
    "\tfiltered_tokens[index_to_upper_pred] = filtered_tokens[index_to_upper_pred].upper()\n",
    "\tsequence = ''.join(filtered_tokens)\n",
    "\tprint(\"Prediction:\")\n",
    "\tprint(sequence)\n",
    "\tprint(\"\")\n",
    "\t\n",
    "input_word_predict(\"локомотив\")"
   ]
  },
  {
   "cell_type": "code",
   "execution_count": null,
   "metadata": {},
   "outputs": [],
   "source": []
  }
 ],
 "metadata": {
  "kaggle": {
   "accelerator": "gpu",
   "dataSources": [
    {
     "datasetId": 6039745,
     "sourceId": 9844355,
     "sourceType": "datasetVersion"
    },
    {
     "datasetId": 6041907,
     "sourceId": 9847182,
     "sourceType": "datasetVersion"
    },
    {
     "isSourceIdPinned": true,
     "modelId": 159412,
     "modelInstanceId": 136686,
     "sourceId": 160746,
     "sourceType": "modelInstanceVersion"
    },
    {
     "isSourceIdPinned": true,
     "modelId": 159510,
     "modelInstanceId": 136786,
     "sourceId": 160857,
     "sourceType": "modelInstanceVersion"
    }
   ],
   "dockerImageVersionId": 30786,
   "isGpuEnabled": true,
   "isInternetEnabled": true,
   "language": "python",
   "sourceType": "notebook"
  },
  "kernelspec": {
   "display_name": "Python 3",
   "language": "python",
   "name": "python3"
  },
  "language_info": {
   "codemirror_mode": {
    "name": "ipython",
    "version": 3
   },
   "file_extension": ".py",
   "mimetype": "text/x-python",
   "name": "python",
   "nbconvert_exporter": "python",
   "pygments_lexer": "ipython3",
   "version": "3.12.3"
  }
 },
 "nbformat": 4,
 "nbformat_minor": 4
}
