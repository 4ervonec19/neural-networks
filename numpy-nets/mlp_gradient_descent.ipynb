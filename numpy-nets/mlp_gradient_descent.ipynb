{
 "cells": [
  {
   "cell_type": "code",
   "execution_count": 1,
   "metadata": {},
   "outputs": [],
   "source": [
    "import numpy as np\n",
    "import torch\n",
    "import pandas as pd\n",
    "import matplotlib.pyplot as plt\n",
    "import seaborn as sns\n",
    "sns.set()\n",
    "\n",
    "from sklearn.linear_model import LinearRegression\n",
    "from sklearn.model_selection import train_test_split\n",
    "from sklearn.metrics import r2_score\n",
    "from sklearn.preprocessing import MinMaxScaler\n",
    "from sklearn.metrics import mean_squared_error\n",
    "\n",
    "from tqdm.auto import tqdm"
   ]
  },
  {
   "cell_type": "markdown",
   "metadata": {},
   "source": [
    "#### Multilayer Perceptron implementation. \n",
    "\n",
    "#### ¡ Here we go !"
   ]
  },
  {
   "cell_type": "markdown",
   "metadata": {},
   "source": [
    "#### Classic data download and check:"
   ]
  },
  {
   "cell_type": "code",
   "execution_count": 2,
   "metadata": {},
   "outputs": [],
   "source": [
    "diamonds_df = pd.read_csv('diamonds.csv')"
   ]
  },
  {
   "cell_type": "code",
   "execution_count": 3,
   "metadata": {},
   "outputs": [
    {
     "data": {
      "text/html": [
       "<div>\n",
       "<style scoped>\n",
       "    .dataframe tbody tr th:only-of-type {\n",
       "        vertical-align: middle;\n",
       "    }\n",
       "\n",
       "    .dataframe tbody tr th {\n",
       "        vertical-align: top;\n",
       "    }\n",
       "\n",
       "    .dataframe thead th {\n",
       "        text-align: right;\n",
       "    }\n",
       "</style>\n",
       "<table border=\"1\" class=\"dataframe\">\n",
       "  <thead>\n",
       "    <tr style=\"text-align: right;\">\n",
       "      <th></th>\n",
       "      <th>carat</th>\n",
       "      <th>cut</th>\n",
       "      <th>color</th>\n",
       "      <th>clarity</th>\n",
       "      <th>depth</th>\n",
       "      <th>table</th>\n",
       "      <th>price</th>\n",
       "      <th>x</th>\n",
       "      <th>y</th>\n",
       "      <th>z</th>\n",
       "    </tr>\n",
       "  </thead>\n",
       "  <tbody>\n",
       "    <tr>\n",
       "      <th>0</th>\n",
       "      <td>0.23</td>\n",
       "      <td>Ideal</td>\n",
       "      <td>E</td>\n",
       "      <td>SI2</td>\n",
       "      <td>61.5</td>\n",
       "      <td>55.0</td>\n",
       "      <td>326</td>\n",
       "      <td>3.95</td>\n",
       "      <td>3.98</td>\n",
       "      <td>2.43</td>\n",
       "    </tr>\n",
       "    <tr>\n",
       "      <th>1</th>\n",
       "      <td>0.21</td>\n",
       "      <td>Premium</td>\n",
       "      <td>E</td>\n",
       "      <td>SI1</td>\n",
       "      <td>59.8</td>\n",
       "      <td>61.0</td>\n",
       "      <td>326</td>\n",
       "      <td>3.89</td>\n",
       "      <td>3.84</td>\n",
       "      <td>2.31</td>\n",
       "    </tr>\n",
       "    <tr>\n",
       "      <th>2</th>\n",
       "      <td>0.23</td>\n",
       "      <td>Good</td>\n",
       "      <td>E</td>\n",
       "      <td>VS1</td>\n",
       "      <td>56.9</td>\n",
       "      <td>65.0</td>\n",
       "      <td>327</td>\n",
       "      <td>4.05</td>\n",
       "      <td>4.07</td>\n",
       "      <td>2.31</td>\n",
       "    </tr>\n",
       "    <tr>\n",
       "      <th>3</th>\n",
       "      <td>0.29</td>\n",
       "      <td>Premium</td>\n",
       "      <td>I</td>\n",
       "      <td>VS2</td>\n",
       "      <td>62.4</td>\n",
       "      <td>58.0</td>\n",
       "      <td>334</td>\n",
       "      <td>4.20</td>\n",
       "      <td>4.23</td>\n",
       "      <td>2.63</td>\n",
       "    </tr>\n",
       "    <tr>\n",
       "      <th>4</th>\n",
       "      <td>0.31</td>\n",
       "      <td>Good</td>\n",
       "      <td>J</td>\n",
       "      <td>SI2</td>\n",
       "      <td>63.3</td>\n",
       "      <td>58.0</td>\n",
       "      <td>335</td>\n",
       "      <td>4.34</td>\n",
       "      <td>4.35</td>\n",
       "      <td>2.75</td>\n",
       "    </tr>\n",
       "  </tbody>\n",
       "</table>\n",
       "</div>"
      ],
      "text/plain": [
       "   carat      cut color clarity  depth  table  price     x     y     z\n",
       "0   0.23    Ideal     E     SI2   61.5   55.0    326  3.95  3.98  2.43\n",
       "1   0.21  Premium     E     SI1   59.8   61.0    326  3.89  3.84  2.31\n",
       "2   0.23     Good     E     VS1   56.9   65.0    327  4.05  4.07  2.31\n",
       "3   0.29  Premium     I     VS2   62.4   58.0    334  4.20  4.23  2.63\n",
       "4   0.31     Good     J     SI2   63.3   58.0    335  4.34  4.35  2.75"
      ]
     },
     "execution_count": 3,
     "metadata": {},
     "output_type": "execute_result"
    }
   ],
   "source": [
    "diamonds_df = diamonds_df.drop(columns=['Unnamed: 0'])\n",
    "diamonds_df.head()"
   ]
  },
  {
   "cell_type": "code",
   "execution_count": 4,
   "metadata": {},
   "outputs": [
    {
     "data": {
      "image/png": "[encoded data removed]",
      "text/plain": [
       "<Figure size 640x480 with 1 Axes>"
      ]
     },
     "metadata": {},
     "output_type": "display_data"
    }
   ],
   "source": [
    "sns.histplot(diamonds_df['price'], bins=100)\n",
    "plt.show()"
   ]
  },
  {
   "cell_type": "markdown",
   "metadata": {},
   "source": [
    "#### Data Preprocessing:"
   ]
  },
  {
   "cell_type": "code",
   "execution_count": 5,
   "metadata": {},
   "outputs": [],
   "source": [
    "features = ['carat', 'cut', 'color', 'clarity', 'depth', 'table', 'x', 'y', 'z']\n",
    "target = ['price']"
   ]
  },
  {
   "cell_type": "code",
   "execution_count": 6,
   "metadata": {},
   "outputs": [],
   "source": [
    "cut_transform = {'Fair': 0, 'Good': 1, 'Very Good': 2, 'Premium': 3, 'Ideal': 4}\n",
    "clarity_transform = {'I1': 0, 'SI2': 1, 'SI1': 2, 'VS2': 3, 'VS1': 4, 'VVS2': 5, 'VVS1': 6, 'IF': 7}\n",
    "color_transorm = {'D': 0, 'E': 1, 'F': 2, 'G': 3, 'H': 4, 'I': 5, 'J': 6}"
   ]
  },
  {
   "cell_type": "code",
   "execution_count": 7,
   "metadata": {},
   "outputs": [],
   "source": [
    "diamonds_df['cut'] = diamonds_df['cut'].apply(lambda x: cut_transform.get(x))\n",
    "diamonds_df['color'] = diamonds_df['color'].apply(lambda x: color_transorm.get(x))\n",
    "diamonds_df['clarity'] = diamonds_df['clarity'].apply(lambda x: clarity_transform.get(x))"
   ]
  },
  {
   "cell_type": "code",
   "execution_count": 8,
   "metadata": {},
   "outputs": [],
   "source": [
    "X = diamonds_df[features].copy().values\n",
    "y = diamonds_df[target].values"
   ]
  },
  {
   "cell_type": "code",
   "execution_count": 9,
   "metadata": {},
   "outputs": [],
   "source": [
    "scaler = MinMaxScaler()\n",
    "X = scaler.fit_transform(X)"
   ]
  },
  {
   "cell_type": "code",
   "execution_count": 10,
   "metadata": {},
   "outputs": [],
   "source": [
    "X_train, X_test, y_train, y_test = train_test_split(X, y, random_state=47, test_size=0.3)"
   ]
  },
  {
   "cell_type": "markdown",
   "metadata": {},
   "source": [
    "#### Let's start training with scikit-learn based models:"
   ]
  },
  {
   "cell_type": "code",
   "execution_count": 11,
   "metadata": {},
   "outputs": [],
   "source": [
    "reg = LinearRegression().fit(X_train, y_train)"
   ]
  },
  {
   "cell_type": "code",
   "execution_count": 12,
   "metadata": {},
   "outputs": [
    {
     "name": "stdout",
     "output_type": "stream",
     "text": [
      "MSE Loss: 1481760.4738284694\n"
     ]
    }
   ],
   "source": [
    "loss = mean_squared_error(y_train, reg.predict(X_train))\n",
    "print(f'MSE Loss: {loss}')"
   ]
  },
  {
   "cell_type": "code",
   "execution_count": 13,
   "metadata": {},
   "outputs": [],
   "source": [
    "y_pred = reg.predict(X_test)\n",
    "score = r2_score(y_pred, y_test)"
   ]
  },
  {
   "cell_type": "code",
   "execution_count": 14,
   "metadata": {},
   "outputs": [
    {
     "name": "stdout",
     "output_type": "stream",
     "text": [
      "0.8977468673125782\n"
     ]
    }
   ],
   "source": [
    "print(score)"
   ]
  },
  {
   "cell_type": "code",
   "execution_count": 15,
   "metadata": {},
   "outputs": [
    {
     "data": {
      "image/png": "[encoded data removed]",
      "text/plain": [
       "<Figure size 640x480 with 1 Axes>"
      ]
     },
     "metadata": {},
     "output_type": "display_data"
    }
   ],
   "source": [
    "plt.title(f'R2: {str(score)[:5]}')\n",
    "sns.histplot(y_pred.reshape(1, -1)[0], bins=100, label='PREDICTION')\n",
    "sns.histplot(y_test.reshape(1, -1)[0], bins=100, label='GT')\n",
    "plt.legend()\n",
    "plt.show()"
   ]
  },
  {
   "cell_type": "markdown",
   "metadata": {},
   "source": [
    "#### Now let's build our own Small & Lightweight Neural Network:"
   ]
  },
  {
   "cell_type": "code",
   "execution_count": 88,
   "metadata": {},
   "outputs": [],
   "source": [
    "class MLPRegressor:\n",
    "    def __init__(\n",
    "        self,\n",
    "        hidden_layer_sizes=(100,),\n",
    "        learning_rate=0.001,\n",
    "        max_iter=10,\n",
    "        num_layers = 2,\n",
    "        input_size = 9\n",
    "    ):        \n",
    "        '''\n",
    "        MLPRegressor model's constructor.\n",
    "\n",
    "        Parameters:\n",
    "\n",
    "        hidden_layers_sizes - size of hidden layers;\n",
    "        learning_rate - factor for gradient step;\n",
    "        max_iter - iterations for training;\n",
    "        num_layers - number of layers in architecture;\n",
    "        input_size - number of input vector dimensions (9 in current task).\n",
    "\n",
    "        '''\n",
    "\n",
    "        self.hidden_layer_sizes = hidden_layer_sizes\n",
    "        self.learning_rate = learning_rate\n",
    "        self.max_iter = max_iter\n",
    "        self.num_layers = num_layers\n",
    "        self.input_size = (input_size,)\n",
    "        self.output_size = (1,) # In case of regression\n",
    "\n",
    "        self.weights, self.bias = self.create_weights()\n",
    "\n",
    "    @staticmethod\n",
    "    def sigmoid_function_calc(x):\n",
    "        \n",
    "        '''Returns the evaluated sigmoid function'''\n",
    "        \n",
    "        return 1 / (1 + np.exp(-x))\n",
    "    \n",
    "    # @staticmethod\n",
    "    def sigmoid_function_derivative(self, x):\n",
    "        \n",
    "        '''Returns the derivative of sigmoid function due to math formula of derivative'''\n",
    "        \n",
    "        sigmoid = self.sigmoid_function_calc(x)\n",
    "        return sigmoid * (1 - sigmoid)\n",
    "    \n",
    "    @staticmethod\n",
    "    def linear_function(x):\n",
    "        \n",
    "        '''Classic linear function in shape of f(x) = x'''\n",
    "        \n",
    "        return x\n",
    "    \n",
    "    @staticmethod\n",
    "    def linear_function_derivative(x):\n",
    "        \n",
    "        '''Derivative of linear function as ones which would be multiplied by weights matrix'''\n",
    "\n",
    "        return np.ones_like(x)\n",
    "    \n",
    "    @staticmethod\n",
    "    def mse_loss_func(output, y):\n",
    "        \n",
    "        '''Loss function of regression model: Mean Squared Error'''\n",
    "\n",
    "        return np.mean(np.square(y - output))\n",
    "    \n",
    "    @staticmethod\n",
    "    def mse_loss_function_derivative(output, y):\n",
    "        \n",
    "        '''Loss function derivative due to math formula'''\n",
    "\n",
    "        return ((-2) * (y - output)) / (y.size)\n",
    "    \n",
    "    def create_weights(self):\n",
    "        \n",
    "        '''\n",
    "        Creates weights for architecture blocks (bias included).\n",
    "        Supports any number of layers (self.num_layers), but\n",
    "        doesn't any number of vector's dimensions.\n",
    "        '''\n",
    "        \n",
    "        weights = []\n",
    "        bias_weights = []\n",
    "\n",
    "        for layer in range(self.num_layers + 2):\n",
    "            \n",
    "            if layer == 0: # process the first input (not hidden)\n",
    "                \n",
    "                 # let it be standard normal distribution, why not\n",
    "                weights_generated = np.random.randn(self.input_size[0], self.hidden_layer_sizes[0]) \n",
    "                bias_generated = np.zeros((1, self.hidden_layer_sizes[0]))\n",
    "\n",
    "                weights.append(weights_generated)\n",
    "                bias_weights.append(bias_generated)\n",
    "\n",
    "            elif layer <= self.num_layers: # process hidden weights\n",
    "                 \n",
    "                 weights_generated = np.random.randn(self.hidden_layer_sizes[0], self.hidden_layer_sizes[0]) \n",
    "                 bias_generated = np.zeros((1, self.hidden_layer_sizes[0]))\n",
    "\n",
    "                 weights.append(weights_generated)\n",
    "                 bias_weights.append(bias_generated)\n",
    "\n",
    "            else: # process last (output)\n",
    "                \n",
    "                 weights_generated = np.random.randn(self.hidden_layer_sizes[0], self.output_size[0]) \n",
    "                 bias_generated = np.zeros((1, self.output_size[0]))\n",
    "                 weights.append(weights_generated)\n",
    "                 bias_weights.append(bias_generated)\n",
    "        \n",
    "        return weights, bias_weights\n",
    "    \n",
    "    def forward_pass(self, input_data):\n",
    "        \n",
    "        '''Evaluates forward input_data processing and returns all history of pass'''\n",
    "\n",
    "        activations = [input_data]\n",
    "        pre_activated_data = []\n",
    "\n",
    "        for i in range(len(self.weights) - 1):\n",
    "            \n",
    "            pre_activated = np.dot(activations[-1], self.weights[i]) + self.bias[i]\n",
    "\n",
    "            activations_apply = self.sigmoid_function_calc(pre_activated)\n",
    "\n",
    "            activations.append(activations_apply)\n",
    "            pre_activated_data.append(pre_activated)\n",
    "\n",
    "        # output layer:\n",
    "\n",
    "        pre_activated_output = np.dot(activations[-1], self.weights[-1]) + self.bias[-1]\n",
    "        output = self.linear_function(pre_activated_output)\n",
    "\n",
    "        pre_activated_data.append(pre_activated_output)\n",
    "        activations.append(output)\n",
    "\n",
    "        return pre_activated_data, activations\n",
    "    \n",
    "    def backward_pass(self, pre_activated_data, activations, y):\n",
    "        \n",
    "        '''\n",
    "        Back propagation implementation and weights update step\n",
    "        parameters: \n",
    "        \n",
    "        pre_activated_data - vectors before sigmoid function output (for sigmoid derivative execution)\n",
    "        activations - vectors after sigmoid output (multiplied by weights, used in complex function derivative and dW calculation both)\n",
    "        y - ground_true labels (for MSE derivative calculation)\n",
    "\n",
    "        '''\n",
    "\n",
    "        deltas = []\n",
    "\n",
    "        # output layer derivatives\n",
    "        mse_output_error_derivative = self.mse_loss_function_derivative(y = y, output = activations[-1]) # Last activated output and target feature\n",
    "        delta = mse_output_error_derivative * self.linear_function_derivative(x = pre_activated_data[-1]) # Derivative of complex function\n",
    "        deltas.append(delta)\n",
    "\n",
    "        # hidden layers derivatives of complex functions (step by step)\n",
    "        for i in reversed(range(len(self.weights) - 1)):\n",
    "            delta = np.dot(deltas[-1], self.weights[i + 1].T) * self.sigmoid_function_derivative(pre_activated_data[i])\n",
    "            deltas.append(delta)\n",
    "            # print(i)\n",
    "        \n",
    "        deltas.reverse()\n",
    "    \n",
    "        for i in range(len(self.weights)):\n",
    "            \n",
    "            # Derivatives of weights\n",
    "            dW = np.dot(activations[i].T, deltas[i])\n",
    "            db = np.sum(deltas[i], axis=0, keepdims=True)\n",
    "\n",
    "            # print(activations[i].shape)\n",
    "            # print(deltas[i].shape)\n",
    "\n",
    "            # Staff messages\n",
    "            # print(dW.shape)\n",
    "            # print(db.shape)\n",
    "            # print()\n",
    "            \n",
    "            self.weights[i] -= self.learning_rate * dW\n",
    "            self.bias[i] -= self.learning_rate * db\n",
    "            \n",
    "    def train(self, X, y):\n",
    "        \n",
    "        '''Completes Regression model's training'''\n",
    "        \n",
    "        for i in tqdm(range(self.max_iter)): # Like epochs\n",
    "            \n",
    "            # forward pass first:\n",
    "            pre_activated_data, activations = self.forward_pass(X)\n",
    "\n",
    "            # Calc loss for additional info output\n",
    "            loss = self.mse_loss_func(output = activations[-1], y = y)\n",
    "\n",
    "            # Backward pass then:\n",
    "            self.backward_pass(y = y, pre_activated_data = pre_activated_data, activations = activations)\n",
    "            \n",
    "            # info output\n",
    "            if i % 10 == 0:\n",
    "                print(f\"Loss for epoch №{i+1}: {loss:.4f}\")\n",
    "        \n",
    "        print('Training complete!')\n",
    "\n",
    "    def predict(self, X):\n",
    "        \n",
    "        '''Makes regression model's prediction with input_data'''\n",
    "        \n",
    "        _, activations = self.forward_pass(X)\n",
    "        return activations[-1]\n",
    "    \n"
   ]
  },
  {
   "cell_type": "code",
   "execution_count": 89,
   "metadata": {},
   "outputs": [],
   "source": [
    "mlp_regression = MLPRegressor(learning_rate=0.001, max_iter=200, num_layers=3, hidden_layer_sizes=(128,))"
   ]
  },
  {
   "cell_type": "markdown",
   "metadata": {},
   "source": [
    "#### Check for weights shapes (Approved):"
   ]
  },
  {
   "cell_type": "code",
   "execution_count": 90,
   "metadata": {},
   "outputs": [
    {
     "data": {
      "text/plain": [
       "((9, 128), (128, 128), (128, 128), (128, 128))"
      ]
     },
     "execution_count": 90,
     "metadata": {},
     "output_type": "execute_result"
    }
   ],
   "source": [
    "mlp_regression.weights[0].shape, mlp_regression.weights[1].shape, mlp_regression.weights[2].shape, mlp_regression.weights[3].shape"
   ]
  },
  {
   "cell_type": "markdown",
   "metadata": {},
   "source": [
    "#### Forward pass history check (Approved):"
   ]
  },
  {
   "cell_type": "code",
   "execution_count": 91,
   "metadata": {},
   "outputs": [],
   "source": [
    "pre_activated_data, activations = mlp_regression.forward_pass(X_train)"
   ]
  },
  {
   "cell_type": "code",
   "execution_count": 92,
   "metadata": {},
   "outputs": [
    {
     "data": {
      "text/plain": [
       "((37758, 128), (37758, 128), (37758, 128), (37758, 128))"
      ]
     },
     "execution_count": 92,
     "metadata": {},
     "output_type": "execute_result"
    }
   ],
   "source": [
    "pre_activated_data[0].shape, pre_activated_data[1].shape, pre_activated_data[2].shape, pre_activated_data[3].shape"
   ]
  },
  {
   "cell_type": "code",
   "execution_count": 93,
   "metadata": {},
   "outputs": [
    {
     "data": {
      "text/plain": [
       "((37758, 9), (37758, 128), (37758, 128), (37758, 128), (37758, 128))"
      ]
     },
     "execution_count": 93,
     "metadata": {},
     "output_type": "execute_result"
    }
   ],
   "source": [
    "activations[0].shape, activations[1].shape, activations[2].shape, activations[3].shape, activations[4].shape"
   ]
  },
  {
   "cell_type": "markdown",
   "metadata": {},
   "source": [
    "#### Backward pass history check (Complete):"
   ]
  },
  {
   "cell_type": "code",
   "execution_count": 94,
   "metadata": {},
   "outputs": [],
   "source": [
    "x = mlp_regression.backward_pass(activations = activations,\n",
    "                             pre_activated_data = pre_activated_data,\n",
    "                             y = y_train)"
   ]
  },
  {
   "cell_type": "markdown",
   "metadata": {},
   "source": [
    "#### Let's train model with 200 epochs:"
   ]
  },
  {
   "cell_type": "code",
   "execution_count": 95,
   "metadata": {},
   "outputs": [
    {
     "data": {
      "application/vnd.jupyter.widget-view+json": {
       "model_id": "9b5bb19791544b67a0bb9857007b4155",
       "version_major": 2,
       "version_minor": 0
      },
      "text/plain": [
       "  0%|          | 0/200 [00:00<?, ?it/s]"
      ]
     },
     "metadata": {},
     "output_type": "display_data"
    },
    {
     "name": "stdout",
     "output_type": "stream",
     "text": [
      "Loss for epoch №1: 28829646.5911\n",
      "Loss for epoch №11: 16323240.3095\n",
      "Loss for epoch №21: 15934023.3821\n",
      "Loss for epoch №31: 15923707.3174\n",
      "Loss for epoch №41: 15923433.8920\n",
      "Loss for epoch №51: 15923426.6430\n",
      "Loss for epoch №61: 15923426.4487\n",
      "Loss for epoch №71: 15923426.4412\n",
      "Loss for epoch №81: 15923426.4385\n",
      "Loss for epoch №91: 15923426.4357\n",
      "Loss for epoch №101: 15923426.4325\n",
      "Loss for epoch №111: 15923426.4290\n",
      "Loss for epoch №121: 15923426.4250\n",
      "Loss for epoch №131: 15923426.4205\n",
      "Loss for epoch №141: 15923426.4153\n",
      "Loss for epoch №151: 15923426.4093\n",
      "Loss for epoch №161: 15923426.4022\n",
      "Loss for epoch №171: 15923426.3937\n",
      "Loss for epoch №181: 15923426.3834\n",
      "Loss for epoch №191: 15923426.3706\n",
      "Training complete!\n"
     ]
    }
   ],
   "source": [
    "mlp_regression.train(X_train, y_train)"
   ]
  },
  {
   "cell_type": "markdown",
   "metadata": {},
   "source": [
    "#### Then predict the results and acquire metrics:"
   ]
  },
  {
   "cell_type": "code",
   "execution_count": 44,
   "metadata": {},
   "outputs": [],
   "source": [
    "regression_mlp_prediction = mlp_regression.predict(X_test)"
   ]
  },
  {
   "cell_type": "code",
   "execution_count": 45,
   "metadata": {},
   "outputs": [
    {
     "name": "stdout",
     "output_type": "stream",
     "text": [
      "-352710944569961.2\n"
     ]
    }
   ],
   "source": [
    "score = r2_score(regression_mlp_prediction, y_test)\n",
    "print(score)"
   ]
  },
  {
   "cell_type": "markdown",
   "metadata": {},
   "source": [
    "#### Tough, but weights are getting updated during training btw and loss decreases."
   ]
  },
  {
   "cell_type": "markdown",
   "metadata": {},
   "source": [
    "#### Let's update the class to support custom layers length inside hidden layers:"
   ]
  },
  {
   "cell_type": "code",
   "execution_count": null,
   "metadata": {},
   "outputs": [],
   "source": [
    "class MLPRegressorUPD:\n",
    "    def __init__(\n",
    "        self,\n",
    "        hidden_layer_sizes=(100, 50),\n",
    "        learning_rate=0.001,\n",
    "        max_iter=10,\n",
    "        num_layers = 2,\n",
    "        input_size = 9\n",
    "    ):        \n",
    "        '''\n",
    "        MLPRegressor model's constructor.\n",
    "\n",
    "        Parameters:\n",
    "\n",
    "        hidden_layers_sizes - size of hidden layers;\n",
    "        learning_rate - factor for gradient step;\n",
    "        max_iter - iterations for training;\n",
    "        num_layers - number of layers in architecture;\n",
    "        input_size - number of input vector dimensions (9 in current task).\n",
    "\n",
    "        '''\n",
    "\n",
    "        self.hidden_layer_sizes = hidden_layer_sizes\n",
    "        self.learning_rate = learning_rate\n",
    "        self.max_iter = max_iter\n",
    "        self.num_layers = num_layers\n",
    "        self.input_size = (input_size,)\n",
    "        self.output_size = (1,) # In case of regression\n",
    "\n",
    "        self.weights, self.bias = self.create_weights()\n",
    "\n",
    "    @staticmethod\n",
    "    def sigmoid_function_calc(x):\n",
    "        \n",
    "        '''Returns the evaluated sigmoid function'''\n",
    "        \n",
    "        return 1 / (1 + np.exp(-x))\n",
    "    \n",
    "    # @staticmethod\n",
    "    def sigmoid_function_derivative(self, x):\n",
    "        \n",
    "        '''Returns the derivative of sigmoid function due to math formula of derivative'''\n",
    "        \n",
    "        sigmoid = self.sigmoid_function_calc(x)\n",
    "        return sigmoid * (1 - sigmoid)\n",
    "    \n",
    "    @staticmethod\n",
    "    def linear_function(x):\n",
    "        \n",
    "        '''Classic linear function in shape of f(x) = x'''\n",
    "        \n",
    "        return x\n",
    "    \n",
    "    @staticmethod\n",
    "    def linear_function_derivative(x):\n",
    "        \n",
    "        '''Derivative of linear function as ones which would be multiplied by weights matrix'''\n",
    "\n",
    "        return np.ones_like(x)\n",
    "    \n",
    "    @staticmethod\n",
    "    def mse_loss_func(output, y):\n",
    "        \n",
    "        '''Loss function of regression model: Mean Squared Error'''\n",
    "\n",
    "        return np.mean(np.square(y - output))\n",
    "    \n",
    "    @staticmethod\n",
    "    def mse_loss_function_derivative(output, y):\n",
    "        \n",
    "        '''Loss function derivative due to math formula'''\n",
    "\n",
    "        return ((-2) * (y - output)) / (y.size)\n",
    "    \n",
    "    def create_weights(self):\n",
    "        '''\n",
    "        Creates weights for architecture blocks (bias included).\n",
    "        Supports any number of layers based on hidden_layer_sizes.\n",
    "        '''\n",
    "        weights = []\n",
    "        bias_weights = []\n",
    "\n",
    "        # List of sizes: input -> hidden layers -> output\n",
    "        layer_sizes = [self.input_size[0]] + list(self.hidden_layer_sizes) + [self.output_size[0]]\n",
    "\n",
    "        for i in range(len(layer_sizes) - 1):\n",
    "            # Weights between layers\n",
    "            weights_generated = np.random.randn(layer_sizes[i], layer_sizes[i + 1]) \n",
    "            bias_generated = np.zeros((1, layer_sizes[i + 1]))\n",
    "\n",
    "            weights.append(weights_generated)\n",
    "            bias_weights.append(bias_generated)\n",
    "        \n",
    "        return weights, bias_weights\n",
    "    \n",
    "    def forward_pass(self, input_data):\n",
    "        \n",
    "        '''Evaluates forward input_data processing and returns all history of pass'''\n",
    "\n",
    "        activations = [input_data]\n",
    "        pre_activated_data = []\n",
    "\n",
    "        for i in range(len(self.weights) - 1):\n",
    "            \n",
    "            pre_activated = np.dot(activations[-1], self.weights[i]) + self.bias[i]\n",
    "\n",
    "            activations_apply = self.sigmoid_function_calc(pre_activated)\n",
    "\n",
    "            activations.append(activations_apply)\n",
    "            pre_activated_data.append(pre_activated)\n",
    "\n",
    "        # output layer:\n",
    "\n",
    "        pre_activated_output = np.dot(activations[-1], self.weights[-1]) + self.bias[-1]\n",
    "        output = self.linear_function(pre_activated_output)\n",
    "\n",
    "        pre_activated_data.append(pre_activated_output)\n",
    "        activations.append(output)\n",
    "\n",
    "        return pre_activated_data, activations\n",
    "    \n",
    "    def backward_pass(self, pre_activated_data, activations, y):\n",
    "        \n",
    "        '''\n",
    "        Back propagation implementation and weights update step\n",
    "        parameters: \n",
    "        \n",
    "        pre_activated_data - vectors before sigmoid function output (for sigmoid derivative execution)\n",
    "        activations - vectors after sigmoid output (multiplied by weights, used in complex function derivative and dW calculation both)\n",
    "        y - ground_true labels (for MSE derivative calculation)\n",
    "\n",
    "        '''\n",
    "\n",
    "        deltas = []\n",
    "\n",
    "        # output layer derivatives\n",
    "        mse_output_error_derivative = self.mse_loss_function_derivative(y = y, output = activations[-1]) # Last activated output and target feature\n",
    "        delta = mse_output_error_derivative * self.linear_function_derivative(x = pre_activated_data[-1]) # Derivative of complex function\n",
    "        deltas.append(delta)\n",
    "\n",
    "        # hidden layers derivatives of complex functions (step by step)\n",
    "        for i in reversed(range(len(self.weights) - 1)):\n",
    "            delta = np.dot(deltas[-1], self.weights[i + 1].T) * self.sigmoid_function_derivative(pre_activated_data[i])\n",
    "            deltas.append(delta)\n",
    "            # print(i)\n",
    "        \n",
    "        deltas.reverse()\n",
    "    \n",
    "        for i in range(len(self.weights)):\n",
    "            \n",
    "            # Derivatives of weights\n",
    "            dW = np.dot(activations[i].T, deltas[i])\n",
    "            db = np.sum(deltas[i], axis=0, keepdims=True)\n",
    "\n",
    "            # print(activations[i].shape)\n",
    "            # print(deltas[i].shape)\n",
    "\n",
    "            # Staff messages\n",
    "            # print(dW.shape)\n",
    "            # print(db.shape)\n",
    "            # print()\n",
    "            \n",
    "            self.weights[i] -= self.learning_rate * dW\n",
    "            self.bias[i] -= self.learning_rate * db\n",
    "            \n",
    "    def train(self, X, y):\n",
    "        \n",
    "        '''Completes Regression model's training'''\n",
    "        \n",
    "        for i in tqdm(range(self.max_iter)): # Like epochs\n",
    "            \n",
    "            # forward pass first:\n",
    "            pre_activated_data, activations = self.forward_pass(X)\n",
    "\n",
    "            # Calc loss for additional info output\n",
    "            loss = self.mse_loss_func(output = activations[-1], y = y)\n",
    "\n",
    "            # Backward pass then:\n",
    "            self.backward_pass(y = y, pre_activated_data = pre_activated_data, activations = activations)\n",
    "            \n",
    "            # info output\n",
    "            if i % 10 == 0:\n",
    "                print(f\"Loss for epoch №{i+1}: {loss:.4f}\")\n",
    "        \n",
    "        print('Training complete!')\n",
    "\n",
    "    def predict(self, X):\n",
    "        \n",
    "        '''Makes regression model's prediction with input_data'''\n",
    "        \n",
    "        _, activations = self.forward_pass(X)\n",
    "        return activations[-1]"
   ]
  },
  {
   "cell_type": "markdown",
   "metadata": {},
   "source": [
    "#### Test the shapes (Approved):"
   ]
  },
  {
   "cell_type": "code",
   "execution_count": 70,
   "metadata": {},
   "outputs": [],
   "source": [
    "mlp_regression_upd = MLPRegressorUPD(learning_rate=0.001, max_iter=400, num_layers=1, hidden_layer_sizes=(128, ))"
   ]
  },
  {
   "cell_type": "code",
   "execution_count": 71,
   "metadata": {},
   "outputs": [
    {
     "data": {
      "text/plain": [
       "((9, 128), (128, 1))"
      ]
     },
     "execution_count": 71,
     "metadata": {},
     "output_type": "execute_result"
    }
   ],
   "source": [
    "mlp_regression_upd.weights[0].shape, mlp_regression_upd.weights[1].shape"
   ]
  },
  {
   "cell_type": "markdown",
   "metadata": {},
   "source": [
    "#### Test the forward pass (Approved):"
   ]
  },
  {
   "cell_type": "code",
   "execution_count": 72,
   "metadata": {},
   "outputs": [],
   "source": [
    "pre_activated_data, activations = mlp_regression_upd.forward_pass(X_train)"
   ]
  },
  {
   "cell_type": "code",
   "execution_count": 73,
   "metadata": {},
   "outputs": [
    {
     "data": {
      "text/plain": [
       "((37758, 128), (37758, 1))"
      ]
     },
     "execution_count": 73,
     "metadata": {},
     "output_type": "execute_result"
    }
   ],
   "source": [
    "pre_activated_data[0].shape, pre_activated_data[1].shape"
   ]
  },
  {
   "cell_type": "code",
   "execution_count": 74,
   "metadata": {},
   "outputs": [
    {
     "data": {
      "text/plain": [
       "((37758, 9), (37758, 128))"
      ]
     },
     "execution_count": 74,
     "metadata": {},
     "output_type": "execute_result"
    }
   ],
   "source": [
    "activations[0].shape, activations[1].shape"
   ]
  },
  {
   "cell_type": "markdown",
   "metadata": {},
   "source": [
    "#### Backward pass test (Completed):"
   ]
  },
  {
   "cell_type": "code",
   "execution_count": 75,
   "metadata": {},
   "outputs": [],
   "source": [
    "x = mlp_regression_upd.backward_pass(activations = activations,\n",
    "                             pre_activated_data = pre_activated_data,\n",
    "                             y = y_train)"
   ]
  },
  {
   "cell_type": "markdown",
   "metadata": {},
   "source": [
    "#### Let's train it (Finally, I've tried much more epochs and losses shown below is the result of ~1200 epochs in total): "
   ]
  },
  {
   "cell_type": "code",
   "execution_count": 85,
   "metadata": {},
   "outputs": [
    {
     "data": {
      "application/vnd.jupyter.widget-view+json": {
       "model_id": "4503dd5b3f6640b0b6725710905c2a26",
       "version_major": 2,
       "version_minor": 0
      },
      "text/plain": [
       "  0%|          | 0/400 [00:00<?, ?it/s]"
      ]
     },
     "metadata": {},
     "output_type": "display_data"
    },
    {
     "name": "stdout",
     "output_type": "stream",
     "text": [
      "Loss for epoch №1: 1408536.8750\n",
      "Loss for epoch №11: 1385536.5884\n",
      "Loss for epoch №21: 1383591.1884\n",
      "Loss for epoch №31: 1418923.0890\n",
      "Loss for epoch №41: 1530158.9677\n",
      "Loss for epoch №51: 1938836.9686\n",
      "Loss for epoch №61: 1607488.2330\n",
      "Loss for epoch №71: 1357009.9317\n",
      "Loss for epoch №81: 1282768.7200\n",
      "Loss for epoch №91: 1283741.5506\n",
      "Loss for epoch №101: 1321302.8225\n",
      "Loss for epoch №111: 1299477.5936\n",
      "Loss for epoch №121: 1297707.9480\n",
      "Loss for epoch №131: 1425898.3641\n",
      "Loss for epoch №141: 1486173.5062\n",
      "Loss for epoch №151: 1433787.5177\n",
      "Loss for epoch №161: 1385292.2553\n",
      "Loss for epoch №171: 1320372.6643\n",
      "Loss for epoch №181: 1314210.0529\n",
      "Loss for epoch №191: 1272410.7779\n",
      "Loss for epoch №201: 1183859.5584\n",
      "Loss for epoch №211: 1152571.1786\n",
      "Loss for epoch №221: 1183285.1561\n",
      "Loss for epoch №231: 1316203.9824\n",
      "Loss for epoch №241: 1415158.7892\n",
      "Loss for epoch №251: 1402155.8311\n",
      "Loss for epoch №261: 1243432.4129\n",
      "Loss for epoch №271: 1116847.1747\n",
      "Loss for epoch №281: 1073291.0206\n",
      "Loss for epoch №291: 1084015.5120\n",
      "Loss for epoch №301: 1178639.1362\n",
      "Loss for epoch №311: 1346451.9759\n",
      "Loss for epoch №321: 1281218.3554\n",
      "Loss for epoch №331: 1160951.7435\n",
      "Loss for epoch №341: 1191087.2281\n",
      "Loss for epoch №351: 1119785.9577\n",
      "Loss for epoch №361: 1104282.6068\n",
      "Loss for epoch №371: 1066197.1660\n",
      "Loss for epoch №381: 1029543.0028\n",
      "Loss for epoch №391: 1036576.7235\n",
      "Training complete!\n"
     ]
    }
   ],
   "source": [
    "mlp_regression_upd.train(X_train, y_train)"
   ]
  },
  {
   "cell_type": "markdown",
   "metadata": {},
   "source": [
    "#### Loss decreases, but still low score's coming:"
   ]
  },
  {
   "cell_type": "code",
   "execution_count": 86,
   "metadata": {},
   "outputs": [],
   "source": [
    "regression_mlp_prediction_upd = mlp_regression_upd.predict(X_test)"
   ]
  },
  {
   "cell_type": "code",
   "execution_count": 87,
   "metadata": {},
   "outputs": [
    {
     "name": "stdout",
     "output_type": "stream",
     "text": [
      "0.9157560210438915\n"
     ]
    }
   ],
   "source": [
    "score = r2_score(regression_mlp_prediction_upd, y_test)\n",
    "print(score)"
   ]
  },
  {
   "cell_type": "markdown",
   "metadata": {},
   "source": [
    "#### And, as a result, we've beaten Sklearn Linear Regression with r2_score and MSE_Loss! Congrats!"
   ]
  },
  {
   "cell_type": "code",
   "execution_count": null,
   "metadata": {},
   "outputs": [],
   "source": []
  }
 ],
 "metadata": {
  "kernelspec": {
   "display_name": "Python 3",
   "language": "python",
   "name": "python3"
  },
  "language_info": {
   "codemirror_mode": {
    "name": "ipython",
    "version": 3
   },
   "file_extension": ".py",
   "mimetype": "text/x-python",
   "name": "python",
   "nbconvert_exporter": "python",
   "pygments_lexer": "ipython3",
   "version": "3.12.3"
  }
 },
 "nbformat": 4,
 "nbformat_minor": 2
}
