{
 "cells": [
  {
   "cell_type": "code",
   "execution_count": 1,
   "metadata": {},
   "outputs": [],
   "source": [
    "import numpy as np\n",
    "import pandas as pd\n",
    "import matplotlib.pyplot as plt\n",
    "from matplotlib import cm\n",
    "%matplotlib inline\n",
    "\n",
    "import torch\n",
    "import torch.nn as nn \n",
    "import torchvision\n",
    "from torch.utils.data import DataLoader, random_split, Dataset\n",
    "from torchvision import transforms\n",
    "from torchvision.datasets import ImageFolder\n",
    "import torch.optim as optim\n",
    "from torch.utils.tensorboard import SummaryWriter\n",
    "import torch.optim.lr_scheduler as lr_scheduler\n",
    "from torchvision.models import vgg16\n",
    "from catboost import CatBoostClassifier\n",
    "from torchvision import datasets\n",
    "from torch.utils.data import DataLoader, Subset, ConcatDataset\n",
    "\n",
    "\n",
    "import cv2\n",
    "from sklearn.decomposition import PCA\n",
    "from sklearn.manifold import TSNE\n",
    "from sklearn.metrics import classification_report, confusion_matrix, ConfusionMatrixDisplay, accuracy_score\n",
    "import PIL\n",
    "from PIL import Image\n",
    "\n",
    "from IPython.display import clear_output\n",
    "from tqdm.auto import tqdm\n",
    "import sys\n",
    "import os\n",
    "import shutil"
   ]
  },
  {
   "cell_type": "markdown",
   "metadata": {},
   "source": [
    "#### File I'll use to complete full training of model:"
   ]
  },
  {
   "cell_type": "markdown",
   "metadata": {},
   "source": [
    "#### First, let's upload the images:"
   ]
  },
  {
   "cell_type": "markdown",
   "metadata": {},
   "source": [
    "#### ImageFolder sorts by default as I understood"
   ]
  },
  {
   "cell_type": "code",
   "execution_count": 2,
   "metadata": {},
   "outputs": [],
   "source": [
    "base_transform = transforms.Compose([transforms.Resize((224, 224)),\n",
    "                                    transforms.ToTensor(), \n",
    "                                    transforms.Normalize((0.5, 0.5, 0.5), (0.5, 0.5, 0.5))])\n",
    "\n",
    "base_transform_64 = transforms.Compose([transforms.Resize((64, 64)),\n",
    "                                    transforms.ToTensor(), \n",
    "                                    transforms.Normalize((0.5, 0.5, 0.5), (0.5, 0.5, 0.5))])\n",
    "\n",
    "transform_from_torch = transforms.Compose([transforms.Resize((64, 64)), \n",
    "                                    transforms.ToTensor(),\n",
    "                                    transforms.Normalize(mean=[0.485, 0.456, 0.406], std=[0.229, 0.224, 0.225])]) \n",
    "\n",
    "transform_from_torch_224 = transforms.Compose([transforms.Resize((224, 224)), \n",
    "                                    transforms.ToTensor(),\n",
    "                                    transforms.Normalize(mean=[0.485, 0.456, 0.406], std=[0.229, 0.224, 0.225])]) \n",
    "\n",
    "base_augmentation = transforms.Compose([\n",
    "            transforms.Lambda(lambda img: img.crop((0, 0, 256, 256))),\n",
    "            transforms.Resize((64, 64)),\n",
    "            transforms.ToTensor(), \n",
    "            transforms.RandomHorizontalFlip(p=1),\n",
    "            transforms.ColorJitter(brightness=.5, hue=.3),\n",
    "            # transforms.RandomCrop(size=(64, 64)),\n",
    "            transforms.Normalize((0.5, 0.5, 0.5), (0.5, 0.5, 0.5))])\n",
    "\n",
    "base_augmentation_224 = transforms.Compose([transforms.Resize((224, 224)),\n",
    "                                    transforms.ToTensor(), \n",
    "                                    transforms.RandomHorizontalFlip(p=0.75),\n",
    "                                    transforms.Normalize(mean=[0.485, 0.456, 0.406], std=[0.229, 0.224, 0.225])])\n",
    "\n",
    "base_base_augmentation = transforms.Compose([transforms.Resize((64, 64)),\n",
    "                                    transforms.ToTensor(), \n",
    "                                    transforms.RandomHorizontalFlip(p=0.75),\n",
    "                                    transforms.Normalize((0.5, 0.5, 0.5), (0.5, 0.5, 0.5))])\n",
    "\n",
    "left_upper_corner_transfrom = transforms.Compose([\n",
    "            transforms.Lambda(lambda img: img.crop((0, 0, 200, 200))),\n",
    "                    transforms.Resize((64, 64)),\n",
    "                                    transforms.ToTensor(), \n",
    "                                    # transforms.Normalize(mean=[0.485, 0.456, 0.406], std=[0.229, 0.224, 0.225])])\n",
    "])\n",
    "\n",
    "base_augmentation_no_norm = transforms.Compose([\n",
    "            transforms.Lambda(lambda img: img.crop((0, 0, 200, 200))),\n",
    "            transforms.Resize((64, 64)),\n",
    "            transforms.ToTensor(), \n",
    "            transforms.RandomHorizontalFlip(p=1),\n",
    "            transforms.ColorJitter(brightness=.5, hue=.3),\n",
    "            # transforms.RandomCrop(size=(64, 64)),\n",
    "            # transforms.Normalize((0.5, 0.5, 0.5), (0.5, 0.5, 0.5))\n",
    "            ])"
   ]
  },
  {
   "cell_type": "code",
   "execution_count": 3,
   "metadata": {},
   "outputs": [],
   "source": [
    "def get_dataloaders(transform = base_transform_64, \n",
    "                    augmentation = base_augmentation,\n",
    "                    path_first = './data/class1',\n",
    "                      path_second = './data/class2', \n",
    "                      root_dir = \"./data\" , \n",
    "                      train_size = 0.7, val_size = 0.15, batch_size = 4, difference = 7500):\n",
    "\n",
    "    first_class_paths = os.listdir(path_first)\n",
    "    second_class_paths = os.listdir(path_second)\n",
    "\n",
    "    size_from_first = int(len(first_class_paths)*1)\n",
    "    size_from_second = int(len(second_class_paths)*1)\n",
    "\n",
    "    indoor_outdoor_dataset = ImageFolder(root=root_dir, transform=transform)\n",
    "    indoor_outdoor_dataset_augmented = ImageFolder(root=root_dir, transform=augmentation)\n",
    "\n",
    "    indoor_dataset = Subset(indoor_outdoor_dataset, range(0, size_from_first))\n",
    "    outdoor_dataset = Subset(indoor_outdoor_dataset, range(len(first_class_paths), len(first_class_paths) + size_from_second - 1))\n",
    "    outdoor_dataset_augmented = Subset(indoor_outdoor_dataset_augmented,\n",
    "                                       range(len(first_class_paths), len(first_class_paths) + difference))\n",
    "\n",
    "    full_data = ConcatDataset([indoor_dataset, outdoor_dataset, outdoor_dataset_augmented])\n",
    "\n",
    "    train_size = int(train_size * len(full_data))  # 70% for train\n",
    "    val_size = int(val_size * len(full_data))   # 15% for validation\n",
    "    test_size = len(full_data) - train_size - val_size  # Rest for the test\n",
    "\n",
    "    train_dataset, val_dataset, test_dataset = random_split(full_data, [train_size, val_size, test_size], \n",
    "                                                            generator=torch.Generator().manual_seed(42))\n",
    "\n",
    "    train_loader = DataLoader(train_dataset, batch_size=batch_size, shuffle=True)\n",
    "    val_loader = DataLoader(val_dataset, batch_size=batch_size, shuffle=True)\n",
    "    test_loader = DataLoader(test_dataset, batch_size=batch_size, shuffle=False)\n",
    "\n",
    "\n",
    "    return train_loader, val_loader, test_loader\n",
    "\n"
   ]
  },
  {
   "cell_type": "code",
   "execution_count": null,
   "metadata": {},
   "outputs": [],
   "source": [
    "# train_loader, val_loader, test_loader = get_dataloaders(transform=transform_from_torch_224,\n",
    "#                                                          augmentation=base_augmentation_224,\n",
    "#                                                          batch_size=32)\n",
    "\n",
    "# For 0.5 0.5 Network\n",
    "\n",
    "# train_loader, val_loader, test_loader = get_dataloaders(transform=base_transform_64,\n",
    "#                                                          augmentation=base_augmentation,\n",
    "#                                                          batch_size=250, difference=12000) # Best Right Now\n",
    "\n",
    "train_loader, val_loader, test_loader = get_dataloaders(transform=left_upper_corner_transfrom,\n",
    "                                                         augmentation=base_augmentation_no_norm,\n",
    "                                                         batch_size=128, difference=12000)"
   ]
  },
  {
   "cell_type": "code",
   "execution_count": 78,
   "metadata": {},
   "outputs": [
    {
     "data": {
      "application/vnd.jupyter.widget-view+json": {
       "model_id": "0efafc055e7b4c33a51f0c1f73bee56f",
       "version_major": 2,
       "version_minor": 0
      },
      "text/plain": [
       "  0%|          | 0/595 [00:00<?, ?it/s]"
      ]
     },
     "metadata": {},
     "output_type": "display_data"
    }
   ],
   "source": [
    "def compare_length_datasets(dataloader):\n",
    "\n",
    "    '''Function that calcs number of labels presented in dataset'''\n",
    "    \n",
    "    labels_total = np.array([])\n",
    "\n",
    "    for batch in tqdm(dataloader):\n",
    "\n",
    "        images, labels = batch\n",
    "\n",
    "        labels = labels.cpu().numpy()\n",
    "        labels_total = np.append(labels_total, labels)\n",
    "    \n",
    "    return labels_total\n",
    "\n",
    "labels_array = compare_length_datasets(train_loader)"
   ]
  },
  {
   "cell_type": "code",
   "execution_count": 79,
   "metadata": {},
   "outputs": [
    {
     "data": {
      "application/vnd.jupyter.widget-view+json": {
       "model_id": "616091566e67429886a2f08b420ca174",
       "version_major": 2,
       "version_minor": 0
      },
      "text/plain": [
       "  0%|          | 0/128 [00:00<?, ?it/s]"
      ]
     },
     "metadata": {},
     "output_type": "display_data"
    },
    {
     "data": {
      "application/vnd.jupyter.widget-view+json": {
       "model_id": "a358270e04864be0bcf55d5bb7370b70",
       "version_major": 2,
       "version_minor": 0
      },
      "text/plain": [
       "  0%|          | 0/128 [00:00<?, ?it/s]"
      ]
     },
     "metadata": {},
     "output_type": "display_data"
    }
   ],
   "source": [
    "labels_array_test, labels_array_val = compare_length_datasets(test_loader), compare_length_datasets(val_loader)"
   ]
  },
  {
   "cell_type": "code",
   "execution_count": 80,
   "metadata": {},
   "outputs": [
    {
     "name": "stdout",
     "output_type": "stream",
     "text": [
      "Number of images in dataset: 152083\n",
      "Number of classes presented in data: 2\n",
      "\n",
      "Number of images by class 0: 75273\n",
      "Number of images by class 1: 76810\n",
      "\n",
      "Disbalance: number in second is greater\n",
      "Difference: 1537\n"
     ]
    }
   ],
   "source": [
    "def get_classes_info(array):\n",
    "    '''Prints some info about data'''  \n",
    "\n",
    "    print(f\"Number of images in dataset: {len(array)}\")\n",
    "    print(f\"Number of classes presented in data: {len(np.unique(array))}\")\n",
    "\n",
    "    print()\n",
    "    \n",
    "    mask_class_1 = np.where(array ==  0)\n",
    "    mask_class_2 = np.where(array == 1)\n",
    "\n",
    "    first_class = array[mask_class_1]\n",
    "    second_class = array[mask_class_2]\n",
    "\n",
    "    print(f\"Number of images by class 0: {len(first_class)}\")\n",
    "    print(f\"Number of images by class 1: {len(second_class)}\")\n",
    "\n",
    "    print()\n",
    "\n",
    "    if len(first_class) == len(second_class):\n",
    "        print(\"No disbalance in data\")\n",
    "        print()\n",
    "    \n",
    "    else:\n",
    "        if len(first_class) > len(second_class):\n",
    "            print(\"Disbalance: number in first is greater\")\n",
    "        else:\n",
    "            print(\"Disbalance: number in second is greater\")\n",
    "        print(f\"Difference: {abs(len(first_class) - len(second_class))}\")\n",
    "\n",
    "\n",
    "get_classes_info(labels_array)"
   ]
  },
  {
   "cell_type": "code",
   "execution_count": 81,
   "metadata": {},
   "outputs": [
    {
     "name": "stdout",
     "output_type": "stream",
     "text": [
      "Number of images in dataset: 32590\n",
      "Number of classes presented in data: 2\n",
      "\n",
      "Number of images by class 0: 16137\n",
      "Number of images by class 1: 16453\n",
      "\n",
      "Disbalance: number in second is greater\n",
      "Difference: 316\n"
     ]
    }
   ],
   "source": [
    "get_classes_info(labels_array_test)"
   ]
  },
  {
   "cell_type": "code",
   "execution_count": 82,
   "metadata": {},
   "outputs": [
    {
     "name": "stdout",
     "output_type": "stream",
     "text": [
      "Number of images in dataset: 32589\n",
      "Number of classes presented in data: 2\n",
      "\n",
      "Number of images by class 0: 16235\n",
      "Number of images by class 1: 16354\n",
      "\n",
      "Disbalance: number in second is greater\n",
      "Difference: 119\n"
     ]
    }
   ],
   "source": [
    "get_classes_info(labels_array_val)"
   ]
  },
  {
   "cell_type": "code",
   "execution_count": 77,
   "metadata": {},
   "outputs": [
    {
     "name": "stdout",
     "output_type": "stream",
     "text": [
      "Length of train_loader: 595\n",
      "Length of val_loader: 128\n",
      "length of test_loader: 128\n"
     ]
    }
   ],
   "source": [
    "def print_info(train_loader, val_loader, test_loader):\n",
    "\n",
    "    print(f\"Length of train_loader: {len(train_loader)}\")\n",
    "    print(f\"Length of val_loader: {len(val_loader)}\")\n",
    "    print(f\"length of test_loader: {len(test_loader)}\")\n",
    "\n",
    "print_info(train_loader, val_loader, test_loader)"
   ]
  },
  {
   "cell_type": "markdown",
   "metadata": {},
   "source": [
    "#### Ok, finally we acquired that. Let's show how the images look like (64 x 64, 0.5, 0.5):"
   ]
  },
  {
   "cell_type": "code",
   "execution_count": 57,
   "metadata": {},
   "outputs": [
    {
     "name": "stdout",
     "output_type": "stream",
     "text": [
      "tensor([1, 1, 1, 1])\n"
     ]
    },
    {
     "data": {
      "image/png": "[encoded data removed]",
      "text/plain": [
       "<Figure size 640x480 with 1 Axes>"
      ]
     },
     "metadata": {},
     "output_type": "display_data"
    }
   ],
   "source": [
    "def matplotlib_imshow(img, one_channel=False):\n",
    "\n",
    "    if one_channel:\n",
    "        img = img.mean(dim=0)\n",
    "    img = img * 0.5 + 0.5     # unnormalize\n",
    "    npimg = img.numpy()\n",
    "    if one_channel:\n",
    "        plt.imshow(npimg, cmap=\"Greys\")\n",
    "    else:\n",
    "        plt.imshow(np.transpose(npimg, (1, 2, 0)))\n",
    "\n",
    "\n",
    "dataiter = iter(train_loader)\n",
    "images, labels = next(dataiter)\n",
    "\n",
    "img_grid = torchvision.utils.make_grid(images)\n",
    "\n",
    "matplotlib_imshow(img_grid, one_channel=False)\n",
    "print(labels)"
   ]
  },
  {
   "cell_type": "code",
   "execution_count": 172,
   "metadata": {},
   "outputs": [
    {
     "name": "stdout",
     "output_type": "stream",
     "text": [
      "Length of train_loader: 4491\n",
      "Length of val_loader: 963\n",
      "length of test_loader: 963\n"
     ]
    }
   ],
   "source": [
    "print_info(train_loader, val_loader, test_loader)"
   ]
  },
  {
   "cell_type": "markdown",
   "metadata": {},
   "source": [
    "#### Check batches:"
   ]
  },
  {
   "cell_type": "code",
   "execution_count": 173,
   "metadata": {},
   "outputs": [
    {
     "name": "stdout",
     "output_type": "stream",
     "text": [
      "torch.Size([32, 3, 224, 224]) tensor([0, 1, 1, 1, 1, 0, 0, 0, 0, 0, 0, 0, 0, 1, 0, 1, 1, 1, 0, 0, 1, 1, 1, 0,\n",
      "        1, 0, 1, 1, 1, 0, 0, 0])\n"
     ]
    }
   ],
   "source": [
    "def check_after_dataload(dataloader, break_iter = True):\n",
    "    \n",
    "    for images, labels in dataloader:\n",
    "        print(images.size(), labels)\n",
    "        if break_iter:\n",
    "            break\n",
    "        \n",
    "check_after_dataload(train_loader)"
   ]
  },
  {
   "cell_type": "code",
   "execution_count": 95,
   "metadata": {},
   "outputs": [],
   "source": [
    "writer = SummaryWriter('runs/running_indoor_outdoor_model_double_convolution')"
   ]
  },
  {
   "cell_type": "markdown",
   "metadata": {},
   "source": [
    "#### Class DoubleConv (64 x 64, 0.5, 0.5):"
   ]
  },
  {
   "cell_type": "code",
   "execution_count": 5,
   "metadata": {},
   "outputs": [],
   "source": [
    "class CNNIndoorOutdoorDoubleConv(nn.Module):\n",
    "    \n",
    "    def __init__(self):\n",
    "        super(CNNIndoorOutdoorDoubleConv, self).__init__()\n",
    "        self.convolution_layers = nn.Sequential(\n",
    "            \n",
    "            nn.Conv2d(in_channels=3, out_channels=64, kernel_size=3, stride = 1, padding=1),\n",
    "            nn.ReLU(),\n",
    "            nn.Conv2d(in_channels=64, out_channels=64, kernel_size=3, stride = 1, padding=1),\n",
    "            nn.ReLU(),\n",
    "            nn.MaxPool2d(kernel_size=2, stride=2),\n",
    "\n",
    "            nn.Conv2d(in_channels=64, out_channels=32, kernel_size=3, stride = 1, padding=1),\n",
    "            nn.ReLU(),\n",
    "            nn.Conv2d(in_channels=32, out_channels=32, kernel_size=3, stride = 1, padding=1),\n",
    "            nn.ReLU(),\n",
    "            nn.MaxPool2d(kernel_size=2, stride=2),\n",
    "\n",
    "            nn.Conv2d(in_channels=32, out_channels=64, kernel_size=3, stride = 1, padding=1),\n",
    "            nn.ReLU(),\n",
    "            nn.Conv2d(in_channels=64, out_channels=64, kernel_size=3, stride = 1, padding=1),\n",
    "            nn.ReLU(),\n",
    "            nn.MaxPool2d(kernel_size=2, stride=2),\n",
    "\n",
    "            nn.Conv2d(in_channels=64, out_channels=128, kernel_size=3, stride = 1, padding=1),\n",
    "            nn.ReLU(),\n",
    "            nn.Conv2d(in_channels=128, out_channels=128, kernel_size=3, stride = 1, padding=1),\n",
    "            nn.ReLU(),\n",
    "            nn.MaxPool2d(kernel_size=2, stride=2),\n",
    "        )\n",
    "\n",
    "        self.fully_connected_layers = nn.Sequential(\n",
    "            nn.Linear(128 * 4 * 4, 2048),\n",
    "            nn.ReLU(),\n",
    "            nn.Dropout(0.5),\n",
    "            nn.Linear(2048, 1024),  \n",
    "            nn.ReLU(),\n",
    "            nn.Dropout(0.5),\n",
    "            nn.Linear(1024, 1),\n",
    "            nn.Sigmoid(),\n",
    "        )\n",
    "\n",
    "    def forward(self, input_image):\n",
    "        x = self.convolution_layers(input_image)\n",
    "        x = x.view(x.size(0), -1)  \n",
    "        x = self.fully_connected_layers(x)\n",
    "        \n",
    "        return x"
   ]
  },
  {
   "cell_type": "code",
   "execution_count": 6,
   "metadata": {},
   "outputs": [],
   "source": [
    "modelCNNIndoorOutdoorDoubleConv = CNNIndoorOutdoorDoubleConv()  \n",
    "optimizer = optim.Adam(modelCNNIndoorOutdoorDoubleConv.parameters(), lr=0.001) \n",
    "criterion = nn.BCELoss()"
   ]
  },
  {
   "cell_type": "code",
   "execution_count": 7,
   "metadata": {},
   "outputs": [],
   "source": [
    "optimizer_adadelta = optim.Adadelta(modelCNNIndoorOutdoorDoubleConv.parameters(), lr=0.0005) "
   ]
  },
  {
   "cell_type": "code",
   "execution_count": 8,
   "metadata": {},
   "outputs": [],
   "source": [
    "def save_checkpoint(state, filename='checkpoint.pth'):\n",
    "    \"\"\"Save model state\"\"\"\n",
    "    torch.save(state, filename)\n",
    "\n",
    "def load_checkpoint(modelCNN, optimizer, filename='checkpoint.pth'):\n",
    "    \n",
    "    checkpoint = torch.load(filename)\n",
    "    modelCNN.load_state_dict(checkpoint['model_state_dict']) \n",
    "    optimizer.load_state_dict(checkpoint['optimizer_state_dict'])  \n",
    "    epoch = checkpoint['epoch'] \n",
    "    loss = checkpoint['loss'] \n",
    "    accuracy = checkpoint['accuracy']  \n",
    "    print(f\"Checkpoint loaded. Epoch: {epoch}, Loss: {loss}, Accuracy: {accuracy}\")\n",
    "    return epoch, loss, accuracy\n",
    "\n",
    "def train_model(model, train_loader, val_loader, criterion, optimizer, file, device = 'cpu', num_epochs=10, \n",
    "                first_flag = True,\n",
    "                optimizer_new_flag = False, optimizer_new = optimizer_adadelta):\n",
    "    if first_flag:\n",
    "        best_val_acc = 0.0\n",
    "        epoch_last = 0\n",
    "    else:\n",
    "        epoch_last, loss, accuracy = load_checkpoint(model, optimizer, file)\n",
    "        if optimizer_new_flag:\n",
    "            optimizer = optimizer_new\n",
    "\n",
    "        best_val_acc = accuracy\n",
    "    \n",
    "    model = model.to(device)\n",
    "\n",
    "    \n",
    "    for epoch in tqdm(range(num_epochs)):\n",
    "        model.train()\n",
    "        running_loss = 0.0\n",
    "        correct = 0\n",
    "        total = 0\n",
    "        \n",
    "        \n",
    "        for inputs, labels in tqdm(train_loader):\n",
    "            inputs, labels = inputs.to(device), labels.to(device).float()\n",
    "\n",
    "            optimizer.zero_grad()\n",
    "\n",
    "            outputs = model(inputs)\n",
    "\n",
    "            loss = criterion(outputs, labels.view(labels.size(0), -1))\n",
    "            \n",
    "            loss.backward()\n",
    "            optimizer.step()\n",
    "            \n",
    "            running_loss += loss.item()\n",
    "            predicted = (outputs.view(-1) > 0.5).long() \n",
    "            correct += (predicted == labels).sum().item()\n",
    "            total += labels.size(0)\n",
    "        \n",
    "        \n",
    "        train_loss = running_loss / len(train_loader)\n",
    "        train_acc = correct / total\n",
    "        \n",
    "        val_loss, val_acc = evaluate_model(model, val_loader, criterion, device)\n",
    "        \n",
    "        print(f'Epoch [{epoch+1}/{num_epochs}], Loss: {train_loss:.4f}, Accuracy: {train_acc:.4f}, '\n",
    "              f'Val Loss: {val_loss:.4f}, Val Accuracy: {val_acc:.4f}')\n",
    "        \n",
    "        writer.add_scalar('Loss/train', train_loss, epoch + epoch_last)\n",
    "        writer.add_scalar('Accuracy/train', train_acc, epoch + epoch_last)\n",
    "        writer.add_scalar('Loss/val', val_loss, epoch + epoch_last)\n",
    "        writer.add_scalar('Accuracy/val', val_acc, epoch + epoch_last)\n",
    "        \n",
    "\n",
    "        if val_acc > best_val_acc:\n",
    "            print(f'Validation accuracy improved from {best_val_acc:.4f} to {val_acc:.4f}. Saving model...')\n",
    "            best_val_acc = val_acc\n",
    "            \n",
    "            checkpoint = {\n",
    "                'epoch': epoch + 1,\n",
    "                'model_state_dict': model.state_dict(),\n",
    "                'optimizer_state_dict': optimizer.state_dict(),\n",
    "                'loss': val_loss,\n",
    "                'accuracy': val_acc\n",
    "            }\n",
    "            save_checkpoint(checkpoint, file)\n",
    "            \n",
    "    \n",
    "def evaluate_model(model, test_loader, criterion, device):\n",
    "    model.eval()\n",
    "    correct = 0\n",
    "    total = 0\n",
    "    running_loss = 0\n",
    "    with torch.no_grad():\n",
    "        for inputs, labels in tqdm(test_loader):\n",
    "            inputs, labels = inputs.to(device), labels.to(device).float()\n",
    "            outputs = model(inputs)\n",
    "            loss = criterion(outputs, labels.view(labels.size(0), -1))\n",
    "            running_loss += loss\n",
    "            predicted = (outputs.view(-1) > 0.5).long() \n",
    "            # print(predicted)\n",
    "            correct += (predicted == labels).sum().item()\n",
    "            total += labels.size(0)\n",
    "\n",
    "    avg_loss = running_loss / len(test_loader)  \n",
    "    accuracy = correct / total \n",
    "    \n",
    "    print(f'Accuracy on test set: {accuracy:.4f}')\n",
    "    print(f'Average Loss on test set: {avg_loss:.4f}')\n",
    "\n",
    "    return avg_loss, accuracy\n",
    "\n",
    "def predict_model(model, test_loader, device):\n",
    "    model.eval()\n",
    "\n",
    "    predicted_array = []\n",
    "    labels_array = []\n",
    "    # correct = 0\n",
    "    # total = 0\n",
    "    # running_loss = 0\n",
    "    with torch.no_grad():\n",
    "        for i, (inputs, labels) in enumerate(tqdm(test_loader)):\n",
    "            inputs, labels = inputs.to(device), labels.to(device).float().numpy()\n",
    "            outputs = model(inputs)\n",
    "            # loss = criterion(outputs, labels.view(labels.size(0), -1))\n",
    "            # running_loss += loss\n",
    "            predicted = (outputs.view(-1) > 0.5).long().numpy()\n",
    "            # print(predicted)\n",
    "            predicted_array.append(predicted)\n",
    "            labels_array.append(labels)\n",
    "            # print(predicted)\n",
    "            # correct += (predicted == labels).sum().item()\n",
    "            # total += labels.size(0)\n",
    "            # if i > threshold_test:\n",
    "            #     break\n",
    "\n",
    "    # avg_loss = running_loss / len(test_loader)  \n",
    "    # accuracy = correct / total \n",
    "    \n",
    "    # print(f'Accuracy on test set: {accuracy:.4f}')\n",
    "    # print(f'Average Loss on test set: {avg_loss:.4f}')\n",
    "\n",
    "    accuracy = accuracy_score(y_pred=np.concatenate(predicted_array), y_true=np.concatenate(labels_array))\n",
    "    classification_report_task = classification_report(y_pred=np.concatenate(predicted_array), y_true=np.concatenate(labels_array))\n",
    "    confusion_matrix_task = confusion_matrix(y_pred=np.concatenate(predicted_array), y_true=np.concatenate(labels_array))\n",
    "\n",
    "    return classification_report_task, confusion_matrix_task, accuracy"
   ]
  },
  {
   "cell_type": "code",
   "execution_count": 9,
   "metadata": {},
   "outputs": [
    {
     "name": "stdout",
     "output_type": "stream",
     "text": [
      "Checkpoint loaded. Epoch: 4, Loss: 0.2660682499408722, Accuracy: 0.900808730390724\n"
     ]
    },
    {
     "name": "stderr",
     "output_type": "stream",
     "text": [
      "/var/folders/8x/8fk55v410t9cm_2bp2lzvrwr0000gn/T/ipykernel_17399/4036010281.py:7: FutureWarning: You are using `torch.load` with `weights_only=False` (the current default value), which uses the default pickle module implicitly. It is possible to construct malicious pickle data which will execute arbitrary code during unpickling (See https://github.com/pytorch/pytorch/blob/main/SECURITY.md#untrusted-models for more details). In a future release, the default value for `weights_only` will be flipped to `True`. This limits the functions that could be executed during unpickling. Arbitrary objects will no longer be allowed to be loaded via this mode unless they are explicitly allowlisted by the user via `torch.serialization.add_safe_globals`. We recommend you start setting `weights_only=True` for any use case where you don't have full control of the loaded file. Please open an issue on GitHub for any issues related to this experimental feature.\n",
      "  checkpoint = torch.load(filename)\n"
     ]
    },
    {
     "data": {
      "text/plain": [
       "(4, tensor(0.2661), 0.900808730390724)"
      ]
     },
     "execution_count": 9,
     "metadata": {},
     "output_type": "execute_result"
    }
   ],
   "source": [
    "load_checkpoint(modelCNNIndoorOutdoorDoubleConv, optimizer, filename='double_conv_model.pth')"
   ]
  },
  {
   "cell_type": "markdown",
   "metadata": {},
   "source": [
    "#### Start training now (more data):"
   ]
  },
  {
   "cell_type": "code",
   "execution_count": null,
   "metadata": {},
   "outputs": [],
   "source": [
    "train_model(modelCNNIndoorOutdoorDoubleConv, train_loader, val_loader, criterion, optimizer,\n",
    "             file = 'double_conv_model.pth', num_epochs=3, first_flag=False)"
   ]
  },
  {
   "cell_type": "code",
   "execution_count": 162,
   "metadata": {},
   "outputs": [
    {
     "name": "stdout",
     "output_type": "stream",
     "text": [
      "Checkpoint loaded. Epoch: 4, Loss: 0.2660682499408722, Accuracy: 0.900808730390724\n"
     ]
    },
    {
     "name": "stderr",
     "output_type": "stream",
     "text": [
      "/var/folders/8x/8fk55v410t9cm_2bp2lzvrwr0000gn/T/ipykernel_86693/4226393180.py:7: FutureWarning: You are using `torch.load` with `weights_only=False` (the current default value), which uses the default pickle module implicitly. It is possible to construct malicious pickle data which will execute arbitrary code during unpickling (See https://github.com/pytorch/pytorch/blob/main/SECURITY.md#untrusted-models for more details). In a future release, the default value for `weights_only` will be flipped to `True`. This limits the functions that could be executed during unpickling. Arbitrary objects will no longer be allowed to be loaded via this mode unless they are explicitly allowlisted by the user via `torch.serialization.add_safe_globals`. We recommend you start setting `weights_only=True` for any use case where you don't have full control of the loaded file. Please open an issue on GitHub for any issues related to this experimental feature.\n",
      "  checkpoint = torch.load(filename)\n"
     ]
    },
    {
     "data": {
      "text/plain": [
       "(4, tensor(0.2661), 0.900808730390724)"
      ]
     },
     "execution_count": 162,
     "metadata": {},
     "output_type": "execute_result"
    }
   ],
   "source": [
    "load_checkpoint(modelCNNIndoorOutdoorDoubleConv, optimizer, filename='double_conv_model.pth')"
   ]
  },
  {
   "cell_type": "code",
   "execution_count": 125,
   "metadata": {},
   "outputs": [
    {
     "data": {
      "application/vnd.jupyter.widget-view+json": {
       "model_id": "aa40921d1d014606bcad3af6f9f49a04",
       "version_major": 2,
       "version_minor": 0
      },
      "text/plain": [
       "  0%|          | 0/963 [00:00<?, ?it/s]"
      ]
     },
     "metadata": {},
     "output_type": "display_data"
    }
   ],
   "source": [
    "classification_report_task, confusion_matrix_task, accuracy = predict_model(modelCNNIndoorOutdoorDoubleConv, test_loader, 'cpu')"
   ]
  },
  {
   "cell_type": "code",
   "execution_count": 126,
   "metadata": {},
   "outputs": [
    {
     "name": "stdout",
     "output_type": "stream",
     "text": [
      "0.9033452419616759\n"
     ]
    }
   ],
   "source": [
    "print(accuracy)"
   ]
  },
  {
   "cell_type": "code",
   "execution_count": 127,
   "metadata": {},
   "outputs": [
    {
     "name": "stdout",
     "output_type": "stream",
     "text": [
      "              precision    recall  f1-score   support\n",
      "\n",
      "         0.0       0.89      0.94      0.91     16203\n",
      "         1.0       0.92      0.87      0.89     14587\n",
      "\n",
      "    accuracy                           0.90     30790\n",
      "   macro avg       0.91      0.90      0.90     30790\n",
      "weighted avg       0.90      0.90      0.90     30790\n",
      "\n"
     ]
    }
   ],
   "source": [
    "print(classification_report_task)"
   ]
  },
  {
   "cell_type": "code",
   "execution_count": 128,
   "metadata": {},
   "outputs": [
    {
     "data": {
      "image/png": "[encoded data removed]",
      "text/plain": [
       "<Figure size 640x480 with 2 Axes>"
      ]
     },
     "metadata": {},
     "output_type": "display_data"
    }
   ],
   "source": [
    "disp = ConfusionMatrixDisplay(confusion_matrix=confusion_matrix_task)\n",
    "disp.plot()\n",
    "plt.show()"
   ]
  },
  {
   "cell_type": "markdown",
   "metadata": {},
   "source": [
    "#### Let's look at the train_loss distrubution (probably, it's actual to filter some samples or augment them):"
   ]
  },
  {
   "cell_type": "code",
   "execution_count": null,
   "metadata": {},
   "outputs": [],
   "source": [
    "def imshow(img, title):\n",
    "    \"\"\"image show function\"\"\"\n",
    "    img = img / 2 + 0.5  # unnormalize\n",
    "    np_img = img.numpy()\n",
    "    plt.imshow(np.transpose(np_img, (1, 2, 0)))\n",
    "    plt.title(title)\n",
    "    plt.show()\n",
    "\n",
    "def inference_and_visualize_errors(model, test_loader, device ='cpu'):\n",
    "    incorrect_images = []\n",
    "    incorrect_labels = []\n",
    "    incorrect_preds = []\n",
    "    losses = []\n",
    "\n",
    "    with torch.no_grad():\n",
    "        for i, (inputs, labels) in enumerate(tqdm(test_loader)):\n",
    "            inputs, labels = inputs.to(device), labels.to(device).float()\n",
    "\n",
    "            outputs = model(inputs)\n",
    "            \n",
    "            predicted = (outputs > 0.5).float().view(-1)\n",
    "            loss = criterion(outputs, labels.view(labels.size(0), -1))\n",
    "\n",
    "\n",
    "            incorrect_indices = (predicted != labels).nonzero(as_tuple=True)[0]\n",
    "            losses.append(loss.item())\n",
    "\n",
    "            for idx in incorrect_indices:\n",
    "                incorrect_images.append(inputs[idx].cpu())\n",
    "                incorrect_labels.append(labels[idx].cpu().item())\n",
    "                incorrect_preds.append(predicted[idx].cpu().item())\n",
    "            \n",
    "\n",
    "    for i in range(min(10, len(incorrect_images))):\n",
    "        imshow(incorrect_images[i], f'Actual: {int(incorrect_labels[i])}, Predicted: {int(incorrect_preds[i])}')\n",
    "\n",
    "        writer.add_image(f'Error_{i}', incorrect_images[i])\n",
    "        writer.add_text(f'Error_{i}', f'Actual: {int(incorrect_labels[i])}, Predicted: {int(incorrect_preds[i])}')\n",
    "    return losses\n",
    "\n",
    "losses = inference_and_visualize_errors(modelCNNIndoorOutdoorDoubleConv, train_loader)\n"
   ]
  },
  {
   "cell_type": "markdown",
   "metadata": {},
   "source": [
    "#### This model is for 64x64 size, transforms.Normalize((0.5, 0.5, 0.5), (0.5, 0.5, 0.5)) and without augmentation\n",
    "\n",
    "#### Next is 64x64, transforms.Normalize(mean=[0.485, 0.456, 0.406], std=[0.229, 0.224, 0.225]) and augmented"
   ]
  },
  {
   "cell_type": "markdown",
   "metadata": {},
   "source": [
    "#### And plot the distribution of losses via batches:"
   ]
  },
  {
   "cell_type": "code",
   "execution_count": 132,
   "metadata": {},
   "outputs": [
    {
     "data": {
      "image/png": "[encoded data removed]",
      "text/plain": [
       "<Figure size 640x480 with 1 Axes>"
      ]
     },
     "metadata": {},
     "output_type": "display_data"
    }
   ],
   "source": [
    "plt.hist(losses)\n",
    "plt.title('Histogram of Sample Losses')\n",
    "plt.xlabel('Loss')\n",
    "plt.ylabel('Frequency')\n",
    "plt.show()"
   ]
  },
  {
   "cell_type": "markdown",
   "metadata": {},
   "source": [
    "#### Augmentated:"
   ]
  },
  {
   "cell_type": "code",
   "execution_count": 10,
   "metadata": {},
   "outputs": [],
   "source": [
    "class CNNIndoorOutdoorDoubleConvAugmentated(nn.Module):\n",
    "    \n",
    "    def __init__(self):\n",
    "        super(CNNIndoorOutdoorDoubleConvAugmentated, self).__init__()\n",
    "        self.convolution_layers = nn.Sequential(\n",
    "            \n",
    "            nn.Conv2d(in_channels=3, out_channels=64, kernel_size=3, stride = 1, padding=1),\n",
    "            nn.ReLU(),\n",
    "            nn.Conv2d(in_channels=64, out_channels=64, kernel_size=3, stride = 1, padding=1),\n",
    "            nn.ReLU(),\n",
    "            nn.MaxPool2d(kernel_size=2, stride=2),\n",
    "\n",
    "            nn.Conv2d(in_channels=64, out_channels=32, kernel_size=3, stride = 1, padding=1),\n",
    "            nn.ReLU(),\n",
    "            nn.Conv2d(in_channels=32, out_channels=32, kernel_size=3, stride = 1, padding=1),\n",
    "            nn.ReLU(),\n",
    "            nn.MaxPool2d(kernel_size=2, stride=2),\n",
    "\n",
    "            nn.Conv2d(in_channels=32, out_channels=64, kernel_size=3, stride = 1, padding=1),\n",
    "            nn.ReLU(),\n",
    "            nn.Conv2d(in_channels=64, out_channels=64, kernel_size=3, stride = 1, padding=1),\n",
    "            nn.ReLU(),\n",
    "            nn.MaxPool2d(kernel_size=2, stride=2),\n",
    "\n",
    "            nn.Conv2d(in_channels=64, out_channels=128, kernel_size=3, stride = 1, padding=1),\n",
    "            nn.ReLU(),\n",
    "            nn.Conv2d(in_channels=128, out_channels=128, kernel_size=3, stride = 1, padding=1),\n",
    "            nn.ReLU(),\n",
    "            nn.MaxPool2d(kernel_size=2, stride=2),\n",
    "        )\n",
    "\n",
    "        self.fully_connected_layers = nn.Sequential(\n",
    "            nn.Linear(128 * 4 * 4, 2048),\n",
    "            nn.ReLU(),\n",
    "            nn.Dropout(0.5),\n",
    "            nn.Linear(2048, 1024),  \n",
    "            nn.ReLU(),\n",
    "            nn.Dropout(0.5),\n",
    "            nn.Linear(1024, 1),\n",
    "            nn.Sigmoid(),\n",
    "        )\n",
    "\n",
    "    def forward(self, input_image):\n",
    "        x = self.convolution_layers(input_image)\n",
    "        # print(x.size())\n",
    "        x = x.view(x.size(0), -1)  \n",
    "        x = self.fully_connected_layers(x)\n",
    "        \n",
    "        return x"
   ]
  },
  {
   "cell_type": "code",
   "execution_count": 11,
   "metadata": {},
   "outputs": [],
   "source": [
    "modelCNNIndoorOutdoorDoubleConvAugmentated = CNNIndoorOutdoorDoubleConvAugmentated()  \n",
    "optimizer = optim.Adam(modelCNNIndoorOutdoorDoubleConvAugmentated.parameters(), lr=0.001) \n",
    "criterion = nn.BCELoss()"
   ]
  },
  {
   "cell_type": "code",
   "execution_count": 12,
   "metadata": {},
   "outputs": [],
   "source": [
    "optimizer = optim.RMSprop(modelCNNIndoorOutdoorDoubleConvAugmentated.parameters(), lr=0.01) "
   ]
  },
  {
   "cell_type": "code",
   "execution_count": 13,
   "metadata": {},
   "outputs": [],
   "source": [
    "writer = SummaryWriter('runs/running_indoor_outdoor_model_double_convolution_augmentated')"
   ]
  },
  {
   "cell_type": "code",
   "execution_count": 14,
   "metadata": {},
   "outputs": [],
   "source": [
    "optimizer_new = optim.Adadelta(modelCNNIndoorOutdoorDoubleConvAugmentated.parameters(), lr=0.01) "
   ]
  },
  {
   "cell_type": "code",
   "execution_count": 59,
   "metadata": {},
   "outputs": [
    {
     "name": "stdout",
     "output_type": "stream",
     "text": [
      "Checkpoint loaded. Epoch: 15, Loss: 0.21260762214660645, Accuracy: 0.9174261253797293\n"
     ]
    },
    {
     "name": "stderr",
     "output_type": "stream",
     "text": [
      "/var/folders/8x/8fk55v410t9cm_2bp2lzvrwr0000gn/T/ipykernel_17399/4036010281.py:7: FutureWarning: You are using `torch.load` with `weights_only=False` (the current default value), which uses the default pickle module implicitly. It is possible to construct malicious pickle data which will execute arbitrary code during unpickling (See https://github.com/pytorch/pytorch/blob/main/SECURITY.md#untrusted-models for more details). In a future release, the default value for `weights_only` will be flipped to `True`. This limits the functions that could be executed during unpickling. Arbitrary objects will no longer be allowed to be loaded via this mode unless they are explicitly allowlisted by the user via `torch.serialization.add_safe_globals`. We recommend you start setting `weights_only=True` for any use case where you don't have full control of the loaded file. Please open an issue on GitHub for any issues related to this experimental feature.\n",
      "  checkpoint = torch.load(filename)\n"
     ]
    },
    {
     "data": {
      "text/plain": [
       "(15, tensor(0.2126), 0.9174261253797293)"
      ]
     },
     "execution_count": 59,
     "metadata": {},
     "output_type": "execute_result"
    }
   ],
   "source": [
    "load_checkpoint(modelCNNIndoorOutdoorDoubleConvAugmentated, optimizer, filename='double_conv_model_augmentated.pth')"
   ]
  },
  {
   "cell_type": "code",
   "execution_count": 110,
   "metadata": {},
   "outputs": [
    {
     "name": "stdout",
     "output_type": "stream",
     "text": [
      "Checkpoint loaded. Epoch: 3, Loss: 0.22058901190757751, Accuracy: 0.915428965344363\n"
     ]
    },
    {
     "name": "stderr",
     "output_type": "stream",
     "text": [
      "/var/folders/8x/8fk55v410t9cm_2bp2lzvrwr0000gn/T/ipykernel_3172/3443766483.py:7: FutureWarning: You are using `torch.load` with `weights_only=False` (the current default value), which uses the default pickle module implicitly. It is possible to construct malicious pickle data which will execute arbitrary code during unpickling (See https://github.com/pytorch/pytorch/blob/main/SECURITY.md#untrusted-models for more details). In a future release, the default value for `weights_only` will be flipped to `True`. This limits the functions that could be executed during unpickling. Arbitrary objects will no longer be allowed to be loaded via this mode unless they are explicitly allowlisted by the user via `torch.serialization.add_safe_globals`. We recommend you start setting `weights_only=True` for any use case where you don't have full control of the loaded file. Please open an issue on GitHub for any issues related to this experimental feature.\n",
      "  checkpoint = torch.load(filename)\n"
     ]
    },
    {
     "data": {
      "application/vnd.jupyter.widget-view+json": {
       "model_id": "4e65da33ae174528aef7fdf55ce17b5e",
       "version_major": 2,
       "version_minor": 0
      },
      "text/plain": [
       "  0%|          | 0/15 [00:00<?, ?it/s]"
      ]
     },
     "metadata": {},
     "output_type": "display_data"
    },
    {
     "data": {
      "application/vnd.jupyter.widget-view+json": {
       "model_id": "1bd438a95b6d4af2834680b8555a79b9",
       "version_major": 2,
       "version_minor": 0
      },
      "text/plain": [
       "  0%|          | 0/595 [00:00<?, ?it/s]"
      ]
     },
     "metadata": {},
     "output_type": "display_data"
    },
    {
     "name": "stdout",
     "output_type": "stream",
     "text": [
      "Accuracy on test set: 0.9169\n",
      "Average Loss on test set: 0.2136\n",
      "Epoch [1/15], Loss: 0.2183, Accuracy: 0.9182, Val Loss: 0.2136, Val Accuracy: 0.9169\n",
      "Validation accuracy improved from 0.9154 to 0.9169. Saving model...\n"
     ]
    },
    {
     "data": {
      "application/vnd.jupyter.widget-view+json": {
       "model_id": "5319c4b9f0cc49809e110d19e410c925",
       "version_major": 2,
       "version_minor": 0
      },
      "text/plain": [
       "  0%|          | 0/595 [00:00<?, ?it/s]"
      ]
     },
     "metadata": {},
     "output_type": "display_data"
    },
    {
     "name": "stdout",
     "output_type": "stream",
     "text": [
      "Accuracy on test set: 0.9167\n",
      "Average Loss on test set: 0.2139\n",
      "Epoch [2/15], Loss: 0.2171, Accuracy: 0.9185, Val Loss: 0.2139, Val Accuracy: 0.9167\n"
     ]
    },
    {
     "data": {
      "application/vnd.jupyter.widget-view+json": {
       "model_id": "5623d3b74f7043e0be382d7da03b977a",
       "version_major": 2,
       "version_minor": 0
      },
      "text/plain": [
       "  0%|          | 0/595 [00:00<?, ?it/s]"
      ]
     },
     "metadata": {},
     "output_type": "display_data"
    },
    {
     "name": "stdout",
     "output_type": "stream",
     "text": [
      "Accuracy on test set: 0.9164\n",
      "Average Loss on test set: 0.2148\n",
      "Epoch [3/15], Loss: 0.2159, Accuracy: 0.9187, Val Loss: 0.2148, Val Accuracy: 0.9164\n"
     ]
    },
    {
     "data": {
      "application/vnd.jupyter.widget-view+json": {
       "model_id": "06e4fe1b529c4ed8875f6efdf61e54e0",
       "version_major": 2,
       "version_minor": 0
      },
      "text/plain": [
       "  0%|          | 0/595 [00:00<?, ?it/s]"
      ]
     },
     "metadata": {},
     "output_type": "display_data"
    },
    {
     "name": "stdout",
     "output_type": "stream",
     "text": [
      "Accuracy on test set: 0.9166\n",
      "Average Loss on test set: 0.2138\n",
      "Epoch [4/15], Loss: 0.2159, Accuracy: 0.9186, Val Loss: 0.2138, Val Accuracy: 0.9166\n"
     ]
    },
    {
     "data": {
      "application/vnd.jupyter.widget-view+json": {
       "model_id": "752e09eead1f4e7f923948cc4509532e",
       "version_major": 2,
       "version_minor": 0
      },
      "text/plain": [
       "  0%|          | 0/595 [00:00<?, ?it/s]"
      ]
     },
     "metadata": {},
     "output_type": "display_data"
    },
    {
     "name": "stdout",
     "output_type": "stream",
     "text": [
      "Accuracy on test set: 0.9168\n",
      "Average Loss on test set: 0.2135\n",
      "Epoch [5/15], Loss: 0.2158, Accuracy: 0.9192, Val Loss: 0.2135, Val Accuracy: 0.9168\n"
     ]
    },
    {
     "data": {
      "application/vnd.jupyter.widget-view+json": {
       "model_id": "337d329b2df845d3873550501da8c0c4",
       "version_major": 2,
       "version_minor": 0
      },
      "text/plain": [
       "  0%|          | 0/595 [00:00<?, ?it/s]"
      ]
     },
     "metadata": {},
     "output_type": "display_data"
    },
    {
     "name": "stdout",
     "output_type": "stream",
     "text": [
      "Accuracy on test set: 0.9168\n",
      "Average Loss on test set: 0.2133\n",
      "Epoch [6/15], Loss: 0.2150, Accuracy: 0.9192, Val Loss: 0.2133, Val Accuracy: 0.9168\n"
     ]
    },
    {
     "data": {
      "application/vnd.jupyter.widget-view+json": {
       "model_id": "76f1601c7b624cc687cc89abcc751aa9",
       "version_major": 2,
       "version_minor": 0
      },
      "text/plain": [
       "  0%|          | 0/595 [00:00<?, ?it/s]"
      ]
     },
     "metadata": {},
     "output_type": "display_data"
    },
    {
     "name": "stdout",
     "output_type": "stream",
     "text": [
      "Accuracy on test set: 0.9163\n",
      "Average Loss on test set: 0.2144\n",
      "Epoch [7/15], Loss: 0.2151, Accuracy: 0.9189, Val Loss: 0.2144, Val Accuracy: 0.9163\n"
     ]
    },
    {
     "data": {
      "application/vnd.jupyter.widget-view+json": {
       "model_id": "2eba4fd13456423caf3e9036a35f6614",
       "version_major": 2,
       "version_minor": 0
      },
      "text/plain": [
       "  0%|          | 0/595 [00:00<?, ?it/s]"
      ]
     },
     "metadata": {},
     "output_type": "display_data"
    },
    {
     "name": "stdout",
     "output_type": "stream",
     "text": [
      "Accuracy on test set: 0.9174\n",
      "Average Loss on test set: 0.2133\n",
      "Epoch [8/15], Loss: 0.2146, Accuracy: 0.9195, Val Loss: 0.2133, Val Accuracy: 0.9174\n",
      "Validation accuracy improved from 0.9169 to 0.9174. Saving model...\n"
     ]
    },
    {
     "data": {
      "application/vnd.jupyter.widget-view+json": {
       "model_id": "f23155019ee948b5b4516d9713b630f7",
       "version_major": 2,
       "version_minor": 0
      },
      "text/plain": [
       "  0%|          | 0/595 [00:00<?, ?it/s]"
      ]
     },
     "metadata": {},
     "output_type": "display_data"
    },
    {
     "name": "stdout",
     "output_type": "stream",
     "text": [
      "Accuracy on test set: 0.9172\n",
      "Average Loss on test set: 0.2140\n",
      "Epoch [9/15], Loss: 0.2137, Accuracy: 0.9197, Val Loss: 0.2140, Val Accuracy: 0.9172\n"
     ]
    },
    {
     "data": {
      "application/vnd.jupyter.widget-view+json": {
       "model_id": "e70babdc47ed476e93009d8817a34daa",
       "version_major": 2,
       "version_minor": 0
      },
      "text/plain": [
       "  0%|          | 0/595 [00:00<?, ?it/s]"
      ]
     },
     "metadata": {},
     "output_type": "display_data"
    },
    {
     "name": "stdout",
     "output_type": "stream",
     "text": [
      "Accuracy on test set: 0.9172\n",
      "Average Loss on test set: 0.2134\n",
      "Epoch [10/15], Loss: 0.2129, Accuracy: 0.9194, Val Loss: 0.2134, Val Accuracy: 0.9172\n"
     ]
    },
    {
     "data": {
      "application/vnd.jupyter.widget-view+json": {
       "model_id": "e9395f6f2acb4206b16b621b6d6c88b3",
       "version_major": 2,
       "version_minor": 0
      },
      "text/plain": [
       "  0%|          | 0/595 [00:00<?, ?it/s]"
      ]
     },
     "metadata": {},
     "output_type": "display_data"
    },
    {
     "name": "stdout",
     "output_type": "stream",
     "text": [
      "Accuracy on test set: 0.9174\n",
      "Average Loss on test set: 0.2144\n",
      "Epoch [11/15], Loss: 0.2133, Accuracy: 0.9197, Val Loss: 0.2144, Val Accuracy: 0.9174\n"
     ]
    },
    {
     "data": {
      "application/vnd.jupyter.widget-view+json": {
       "model_id": "1be40c10217d456d8eb36a16a57b8ab8",
       "version_major": 2,
       "version_minor": 0
      },
      "text/plain": [
       "  0%|          | 0/595 [00:00<?, ?it/s]"
      ]
     },
     "metadata": {},
     "output_type": "display_data"
    },
    {
     "name": "stdout",
     "output_type": "stream",
     "text": [
      "Accuracy on test set: 0.9171\n",
      "Average Loss on test set: 0.2130\n",
      "Epoch [12/15], Loss: 0.2122, Accuracy: 0.9196, Val Loss: 0.2130, Val Accuracy: 0.9171\n"
     ]
    },
    {
     "data": {
      "application/vnd.jupyter.widget-view+json": {
       "model_id": "d2ea1aadc3e343ca91163081598b2dc4",
       "version_major": 2,
       "version_minor": 0
      },
      "text/plain": [
       "  0%|          | 0/595 [00:00<?, ?it/s]"
      ]
     },
     "metadata": {},
     "output_type": "display_data"
    },
    {
     "name": "stdout",
     "output_type": "stream",
     "text": [
      "Accuracy on test set: 0.9174\n",
      "Average Loss on test set: 0.2122\n",
      "Epoch [13/15], Loss: 0.2120, Accuracy: 0.9195, Val Loss: 0.2122, Val Accuracy: 0.9174\n"
     ]
    },
    {
     "data": {
      "application/vnd.jupyter.widget-view+json": {
       "model_id": "02294a2ec53d44ccb23d3546dd206f9d",
       "version_major": 2,
       "version_minor": 0
      },
      "text/plain": [
       "  0%|          | 0/595 [00:00<?, ?it/s]"
      ]
     },
     "metadata": {},
     "output_type": "display_data"
    },
    {
     "name": "stdout",
     "output_type": "stream",
     "text": [
      "Accuracy on test set: 0.9169\n",
      "Average Loss on test set: 0.2140\n",
      "Epoch [14/15], Loss: 0.2122, Accuracy: 0.9201, Val Loss: 0.2140, Val Accuracy: 0.9169\n"
     ]
    },
    {
     "data": {
      "application/vnd.jupyter.widget-view+json": {
       "model_id": "70c357fdb4e64703bf40181e98b18221",
       "version_major": 2,
       "version_minor": 0
      },
      "text/plain": [
       "  0%|          | 0/595 [00:00<?, ?it/s]"
      ]
     },
     "metadata": {},
     "output_type": "display_data"
    },
    {
     "name": "stdout",
     "output_type": "stream",
     "text": [
      "Accuracy on test set: 0.9174\n",
      "Average Loss on test set: 0.2126\n",
      "Epoch [15/15], Loss: 0.2116, Accuracy: 0.9200, Val Loss: 0.2126, Val Accuracy: 0.9174\n",
      "Validation accuracy improved from 0.9174 to 0.9174. Saving model...\n"
     ]
    }
   ],
   "source": [
    "train_model(modelCNNIndoorOutdoorDoubleConvAugmentated, train_loader, val_loader, criterion, optimizer,\n",
    "             file = 'double_conv_model_augmentated.pth', num_epochs=15, first_flag=False, optimizer_new_flag=True,\n",
    "             optimizer_new=optimizer_new)"
   ]
  },
  {
   "cell_type": "markdown",
   "metadata": {},
   "source": [
    "#### Evaluate model (This was trained not with additional augmented 2nd class samples):"
   ]
  },
  {
   "cell_type": "code",
   "execution_count": 71,
   "metadata": {},
   "outputs": [
    {
     "data": {
      "application/vnd.jupyter.widget-view+json": {
       "model_id": "1e427de013d84dea91b068ac94c1bd0e",
       "version_major": 2,
       "version_minor": 0
      },
      "text/plain": [
       "  0%|          | 0/131 [00:00<?, ?it/s]"
      ]
     },
     "metadata": {},
     "output_type": "display_data"
    }
   ],
   "source": [
    "cp, cm, acc = predict_model(modelCNNIndoorOutdoorDoubleConvAugmentated, test_loader, 'cpu')"
   ]
  },
  {
   "cell_type": "code",
   "execution_count": 152,
   "metadata": {},
   "outputs": [
    {
     "name": "stdout",
     "output_type": "stream",
     "text": [
      "0.9156182878183492\n"
     ]
    }
   ],
   "source": [
    "print(acc)"
   ]
  },
  {
   "cell_type": "code",
   "execution_count": 153,
   "metadata": {},
   "outputs": [
    {
     "name": "stdout",
     "output_type": "stream",
     "text": [
      "              precision    recall  f1-score   support\n",
      "\n",
      "         0.0       0.89      0.95      0.92     16238\n",
      "         1.0       0.95      0.88      0.91     16352\n",
      "\n",
      "    accuracy                           0.92     32590\n",
      "   macro avg       0.92      0.92      0.92     32590\n",
      "weighted avg       0.92      0.92      0.92     32590\n",
      "\n"
     ]
    }
   ],
   "source": [
    "print(cp)"
   ]
  },
  {
   "cell_type": "code",
   "execution_count": 125,
   "metadata": {},
   "outputs": [
    {
     "data": {
      "image/png": "[encoded data removed]",
      "text/plain": [
       "<Figure size 640x480 with 2 Axes>"
      ]
     },
     "metadata": {},
     "output_type": "display_data"
    }
   ],
   "source": [
    "disp = ConfusionMatrixDisplay(confusion_matrix=cm)\n",
    "disp.plot()\n",
    "plt.show()"
   ]
  },
  {
   "cell_type": "markdown",
   "metadata": {},
   "source": [
    "#### Left upper corner train (Try):"
   ]
  },
  {
   "cell_type": "code",
   "execution_count": 164,
   "metadata": {},
   "outputs": [],
   "source": [
    "class CNNIndoorOutdoorDoubleConvAugmentatedCrop(CNNIndoorOutdoorDoubleConvAugmentated):\n",
    "    \n",
    "    def __init__(self):\n",
    "        super(CNNIndoorOutdoorDoubleConvAugmentatedCrop, self).__init__()\n",
    "       "
   ]
  },
  {
   "cell_type": "code",
   "execution_count": 165,
   "metadata": {},
   "outputs": [],
   "source": [
    "cropped_model_new = CNNIndoorOutdoorDoubleConvAugmentatedCrop()\n",
    "optimizer = optim.Adam(cropped_model_new.parameters(), lr=0.0005) \n",
    "criterion = nn.BCELoss()\n",
    "writer = SummaryWriter('runs/running_indoor_outdoor_model_double_convolution_augmentated_cropped_new')\n",
    "optimizer_new = optim.Adadelta(cropped_model_new.parameters(), lr=0.01) "
   ]
  },
  {
   "cell_type": "code",
   "execution_count": 116,
   "metadata": {},
   "outputs": [
    {
     "data": {
      "image/png": "[encoded data removed]",
      "text/plain": [
       "<Figure size 640x480 with 1 Axes>"
      ]
     },
     "metadata": {},
     "output_type": "display_data"
    }
   ],
   "source": [
    "import torch\n",
    "from torchvision import transforms\n",
    "from PIL import Image\n",
    "\n",
    "image = Image.open('/Users/chervonikov_alexey/Desktop/projects/Technopark_Autumn_2024/Нейронки/third_lesson_cnn/HomeWorkFolder/data/class1/00000001_11016.jpg')\n",
    "# image.show()\n",
    "\n",
    "cropped_image_tensor = left_upper_corner_transfrom(image)\n",
    "\n",
    "image_tensor_numpy = cropped_image_tensor.permute(1, 2, 0).numpy()\n",
    "\n",
    "plt.imshow(image_tensor_numpy)\n",
    "plt.axis('off') \n",
    "plt.show()\n"
   ]
  },
  {
   "cell_type": "code",
   "execution_count": 163,
   "metadata": {},
   "outputs": [
    {
     "data": {
      "application/vnd.jupyter.widget-view+json": {
       "model_id": "9f07924ca4aa499fb4584b79ff67d32c",
       "version_major": 2,
       "version_minor": 0
      },
      "text/plain": [
       "  0%|          | 0/35 [00:00<?, ?it/s]"
      ]
     },
     "metadata": {},
     "output_type": "display_data"
    },
    {
     "data": {
      "application/vnd.jupyter.widget-view+json": {
       "model_id": "2d24804b6b004fcf94d94ee8faecb524",
       "version_major": 2,
       "version_minor": 0
      },
      "text/plain": [
       "  0%|          | 0/1189 [00:00<?, ?it/s]"
      ]
     },
     "metadata": {},
     "output_type": "display_data"
    },
    {
     "data": {
      "application/vnd.jupyter.widget-view+json": {
       "model_id": "d0cd062ea5b44d6b94820d256bc43ce9",
       "version_major": 2,
       "version_minor": 0
      },
      "text/plain": [
       "  0%|          | 0/255 [00:00<?, ?it/s]"
      ]
     },
     "metadata": {},
     "output_type": "display_data"
    },
    {
     "name": "stdout",
     "output_type": "stream",
     "text": [
      "Accuracy on test set: 0.8268\n",
      "Average Loss on test set: 0.3896\n",
      "Epoch [1/35], Loss: 0.4560, Accuracy: 0.7853, Val Loss: 0.3896, Val Accuracy: 0.8268\n",
      "Validation accuracy improved from 0.0000 to 0.8268. Saving model...\n"
     ]
    },
    {
     "data": {
      "application/vnd.jupyter.widget-view+json": {
       "model_id": "706564c833a2413db4c02cbe59207f7a",
       "version_major": 2,
       "version_minor": 0
      },
      "text/plain": [
       "  0%|          | 0/1189 [00:00<?, ?it/s]"
      ]
     },
     "metadata": {},
     "output_type": "display_data"
    },
    {
     "data": {
      "application/vnd.jupyter.widget-view+json": {
       "model_id": "3cfd54bfbbae40f6b21988ba25c9d447",
       "version_major": 2,
       "version_minor": 0
      },
      "text/plain": [
       "  0%|          | 0/255 [00:00<?, ?it/s]"
      ]
     },
     "metadata": {},
     "output_type": "display_data"
    },
    {
     "name": "stdout",
     "output_type": "stream",
     "text": [
      "Accuracy on test set: 0.8506\n",
      "Average Loss on test set: 0.3459\n",
      "Epoch [2/35], Loss: 0.3744, Accuracy: 0.8373, Val Loss: 0.3459, Val Accuracy: 0.8506\n",
      "Validation accuracy improved from 0.8268 to 0.8506. Saving model...\n"
     ]
    },
    {
     "data": {
      "application/vnd.jupyter.widget-view+json": {
       "model_id": "c85d5a6420444698b7836d9f83eb865b",
       "version_major": 2,
       "version_minor": 0
      },
      "text/plain": [
       "  0%|          | 0/1189 [00:00<?, ?it/s]"
      ]
     },
     "metadata": {},
     "output_type": "display_data"
    },
    {
     "data": {
      "application/vnd.jupyter.widget-view+json": {
       "model_id": "95840129bfff4a82b4a07105f43497f4",
       "version_major": 2,
       "version_minor": 0
      },
      "text/plain": [
       "  0%|          | 0/255 [00:00<?, ?it/s]"
      ]
     },
     "metadata": {},
     "output_type": "display_data"
    },
    {
     "name": "stdout",
     "output_type": "stream",
     "text": [
      "Accuracy on test set: 0.8658\n",
      "Average Loss on test set: 0.3156\n",
      "Epoch [3/35], Loss: 0.3343, Accuracy: 0.8585, Val Loss: 0.3156, Val Accuracy: 0.8658\n",
      "Validation accuracy improved from 0.8506 to 0.8658. Saving model...\n"
     ]
    },
    {
     "data": {
      "application/vnd.jupyter.widget-view+json": {
       "model_id": "bb6aa6c8c2bd4510b86b769afc1641c8",
       "version_major": 2,
       "version_minor": 0
      },
      "text/plain": [
       "  0%|          | 0/1189 [00:00<?, ?it/s]"
      ]
     },
     "metadata": {},
     "output_type": "display_data"
    },
    {
     "data": {
      "application/vnd.jupyter.widget-view+json": {
       "model_id": "bcee79e5b9634ce6b08fccbab1f02405",
       "version_major": 2,
       "version_minor": 0
      },
      "text/plain": [
       "  0%|          | 0/255 [00:00<?, ?it/s]"
      ]
     },
     "metadata": {},
     "output_type": "display_data"
    },
    {
     "name": "stdout",
     "output_type": "stream",
     "text": [
      "Accuracy on test set: 0.8717\n",
      "Average Loss on test set: 0.3121\n",
      "Epoch [4/35], Loss: 0.3084, Accuracy: 0.8721, Val Loss: 0.3121, Val Accuracy: 0.8717\n",
      "Validation accuracy improved from 0.8658 to 0.8717. Saving model...\n"
     ]
    },
    {
     "data": {
      "application/vnd.jupyter.widget-view+json": {
       "model_id": "0c6deeb306e34e7db4494536ef4fa4af",
       "version_major": 2,
       "version_minor": 0
      },
      "text/plain": [
       "  0%|          | 0/1189 [00:00<?, ?it/s]"
      ]
     },
     "metadata": {},
     "output_type": "display_data"
    },
    {
     "data": {
      "application/vnd.jupyter.widget-view+json": {
       "model_id": "0f597374c3ef46b0a119910b981abe7e",
       "version_major": 2,
       "version_minor": 0
      },
      "text/plain": [
       "  0%|          | 0/255 [00:00<?, ?it/s]"
      ]
     },
     "metadata": {},
     "output_type": "display_data"
    },
    {
     "name": "stdout",
     "output_type": "stream",
     "text": [
      "Accuracy on test set: 0.8853\n",
      "Average Loss on test set: 0.2766\n",
      "Epoch [5/35], Loss: 0.2883, Accuracy: 0.8808, Val Loss: 0.2766, Val Accuracy: 0.8853\n",
      "Validation accuracy improved from 0.8717 to 0.8853. Saving model...\n"
     ]
    },
    {
     "data": {
      "application/vnd.jupyter.widget-view+json": {
       "model_id": "2dd2fbca393646918af91f66b3fb9701",
       "version_major": 2,
       "version_minor": 0
      },
      "text/plain": [
       "  0%|          | 0/1189 [00:00<?, ?it/s]"
      ]
     },
     "metadata": {},
     "output_type": "display_data"
    },
    {
     "data": {
      "application/vnd.jupyter.widget-view+json": {
       "model_id": "be494239593b42d093d8ea5437243bba",
       "version_major": 2,
       "version_minor": 0
      },
      "text/plain": [
       "  0%|          | 0/255 [00:00<?, ?it/s]"
      ]
     },
     "metadata": {},
     "output_type": "display_data"
    },
    {
     "name": "stdout",
     "output_type": "stream",
     "text": [
      "Accuracy on test set: 0.8805\n",
      "Average Loss on test set: 0.2864\n",
      "Epoch [6/35], Loss: 0.2757, Accuracy: 0.8876, Val Loss: 0.2864, Val Accuracy: 0.8805\n"
     ]
    },
    {
     "data": {
      "application/vnd.jupyter.widget-view+json": {
       "model_id": "c7f53644212a49f6b1537e98dd49ba6a",
       "version_major": 2,
       "version_minor": 0
      },
      "text/plain": [
       "  0%|          | 0/1189 [00:00<?, ?it/s]"
      ]
     },
     "metadata": {},
     "output_type": "display_data"
    },
    {
     "data": {
      "application/vnd.jupyter.widget-view+json": {
       "model_id": "83edfab538f648baade0422e78d25494",
       "version_major": 2,
       "version_minor": 0
      },
      "text/plain": [
       "  0%|          | 0/255 [00:00<?, ?it/s]"
      ]
     },
     "metadata": {},
     "output_type": "display_data"
    },
    {
     "name": "stdout",
     "output_type": "stream",
     "text": [
      "Accuracy on test set: 0.8944\n",
      "Average Loss on test set: 0.2640\n",
      "Epoch [7/35], Loss: 0.2621, Accuracy: 0.8943, Val Loss: 0.2640, Val Accuracy: 0.8944\n",
      "Validation accuracy improved from 0.8853 to 0.8944. Saving model...\n"
     ]
    },
    {
     "data": {
      "application/vnd.jupyter.widget-view+json": {
       "model_id": "dc96a502e6a74ac3824199b629d0a2de",
       "version_major": 2,
       "version_minor": 0
      },
      "text/plain": [
       "  0%|          | 0/1189 [00:00<?, ?it/s]"
      ]
     },
     "metadata": {},
     "output_type": "display_data"
    },
    {
     "data": {
      "application/vnd.jupyter.widget-view+json": {
       "model_id": "818fff273eb847dca61aa4d330a2f999",
       "version_major": 2,
       "version_minor": 0
      },
      "text/plain": [
       "  0%|          | 0/255 [00:00<?, ?it/s]"
      ]
     },
     "metadata": {},
     "output_type": "display_data"
    },
    {
     "name": "stdout",
     "output_type": "stream",
     "text": [
      "Accuracy on test set: 0.8958\n",
      "Average Loss on test set: 0.2582\n",
      "Epoch [8/35], Loss: 0.2494, Accuracy: 0.8995, Val Loss: 0.2582, Val Accuracy: 0.8958\n",
      "Validation accuracy improved from 0.8944 to 0.8958. Saving model...\n"
     ]
    },
    {
     "data": {
      "application/vnd.jupyter.widget-view+json": {
       "model_id": "b565cfeb7c7149c7883c9bd26173b6f3",
       "version_major": 2,
       "version_minor": 0
      },
      "text/plain": [
       "  0%|          | 0/1189 [00:00<?, ?it/s]"
      ]
     },
     "metadata": {},
     "output_type": "display_data"
    },
    {
     "data": {
      "application/vnd.jupyter.widget-view+json": {
       "model_id": "6bd7e892418c427d882f773e0053f6b5",
       "version_major": 2,
       "version_minor": 0
      },
      "text/plain": [
       "  0%|          | 0/255 [00:00<?, ?it/s]"
      ]
     },
     "metadata": {},
     "output_type": "display_data"
    },
    {
     "name": "stdout",
     "output_type": "stream",
     "text": [
      "Accuracy on test set: 0.8963\n",
      "Average Loss on test set: 0.2573\n",
      "Epoch [9/35], Loss: 0.2366, Accuracy: 0.9048, Val Loss: 0.2573, Val Accuracy: 0.8963\n",
      "Validation accuracy improved from 0.8958 to 0.8963. Saving model...\n"
     ]
    },
    {
     "data": {
      "application/vnd.jupyter.widget-view+json": {
       "model_id": "e82b4c94b02f4578bb3a58d039efc573",
       "version_major": 2,
       "version_minor": 0
      },
      "text/plain": [
       "  0%|          | 0/1189 [00:00<?, ?it/s]"
      ]
     },
     "metadata": {},
     "output_type": "display_data"
    },
    {
     "data": {
      "application/vnd.jupyter.widget-view+json": {
       "model_id": "a223000e30ba405290cc1e09ed917136",
       "version_major": 2,
       "version_minor": 0
      },
      "text/plain": [
       "  0%|          | 0/255 [00:00<?, ?it/s]"
      ]
     },
     "metadata": {},
     "output_type": "display_data"
    },
    {
     "name": "stdout",
     "output_type": "stream",
     "text": [
      "Accuracy on test set: 0.8959\n",
      "Average Loss on test set: 0.2666\n",
      "Epoch [10/35], Loss: 0.2246, Accuracy: 0.9106, Val Loss: 0.2666, Val Accuracy: 0.8959\n"
     ]
    },
    {
     "data": {
      "application/vnd.jupyter.widget-view+json": {
       "model_id": "7d92ea1169404ac8982b7ca3b1d9f989",
       "version_major": 2,
       "version_minor": 0
      },
      "text/plain": [
       "  0%|          | 0/1189 [00:00<?, ?it/s]"
      ]
     },
     "metadata": {},
     "output_type": "display_data"
    },
    {
     "data": {
      "application/vnd.jupyter.widget-view+json": {
       "model_id": "1f6946270fe84712984f3a89926d14c5",
       "version_major": 2,
       "version_minor": 0
      },
      "text/plain": [
       "  0%|          | 0/255 [00:00<?, ?it/s]"
      ]
     },
     "metadata": {},
     "output_type": "display_data"
    },
    {
     "name": "stdout",
     "output_type": "stream",
     "text": [
      "Accuracy on test set: 0.8943\n",
      "Average Loss on test set: 0.2618\n",
      "Epoch [11/35], Loss: 0.2148, Accuracy: 0.9140, Val Loss: 0.2618, Val Accuracy: 0.8943\n"
     ]
    },
    {
     "data": {
      "application/vnd.jupyter.widget-view+json": {
       "model_id": "fecb409d3f904670aa38f0183fcae437",
       "version_major": 2,
       "version_minor": 0
      },
      "text/plain": [
       "  0%|          | 0/1189 [00:00<?, ?it/s]"
      ]
     },
     "metadata": {},
     "output_type": "display_data"
    },
    {
     "data": {
      "application/vnd.jupyter.widget-view+json": {
       "model_id": "d33a9251e6db423284f3ce05ff982e90",
       "version_major": 2,
       "version_minor": 0
      },
      "text/plain": [
       "  0%|          | 0/255 [00:00<?, ?it/s]"
      ]
     },
     "metadata": {},
     "output_type": "display_data"
    },
    {
     "name": "stdout",
     "output_type": "stream",
     "text": [
      "Accuracy on test set: 0.8869\n",
      "Average Loss on test set: 0.2775\n",
      "Epoch [12/35], Loss: 0.2008, Accuracy: 0.9192, Val Loss: 0.2775, Val Accuracy: 0.8869\n"
     ]
    },
    {
     "data": {
      "application/vnd.jupyter.widget-view+json": {
       "model_id": "dee540927f4c4497a2a198eba01fb0c5",
       "version_major": 2,
       "version_minor": 0
      },
      "text/plain": [
       "  0%|          | 0/1189 [00:00<?, ?it/s]"
      ]
     },
     "metadata": {},
     "output_type": "display_data"
    },
    {
     "data": {
      "application/vnd.jupyter.widget-view+json": {
       "model_id": "83c314d739b34fbabb7d423b4584050e",
       "version_major": 2,
       "version_minor": 0
      },
      "text/plain": [
       "  0%|          | 0/255 [00:00<?, ?it/s]"
      ]
     },
     "metadata": {},
     "output_type": "display_data"
    },
    {
     "name": "stdout",
     "output_type": "stream",
     "text": [
      "Accuracy on test set: 0.8893\n",
      "Average Loss on test set: 0.2924\n",
      "Epoch [13/35], Loss: 0.1871, Accuracy: 0.9257, Val Loss: 0.2924, Val Accuracy: 0.8893\n"
     ]
    },
    {
     "data": {
      "application/vnd.jupyter.widget-view+json": {
       "model_id": "912044ff46e748abb9b0a4c44a4c13f5",
       "version_major": 2,
       "version_minor": 0
      },
      "text/plain": [
       "  0%|          | 0/1189 [00:00<?, ?it/s]"
      ]
     },
     "metadata": {},
     "output_type": "display_data"
    },
    {
     "data": {
      "application/vnd.jupyter.widget-view+json": {
       "model_id": "8d8f19ff6fda44048d4626c2c2514862",
       "version_major": 2,
       "version_minor": 0
      },
      "text/plain": [
       "  0%|          | 0/255 [00:00<?, ?it/s]"
      ]
     },
     "metadata": {},
     "output_type": "display_data"
    },
    {
     "name": "stdout",
     "output_type": "stream",
     "text": [
      "Accuracy on test set: 0.8907\n",
      "Average Loss on test set: 0.2951\n",
      "Epoch [14/35], Loss: 0.1735, Accuracy: 0.9305, Val Loss: 0.2951, Val Accuracy: 0.8907\n"
     ]
    },
    {
     "data": {
      "application/vnd.jupyter.widget-view+json": {
       "model_id": "b3c3eacc94e74cd8acd52797109a86bb",
       "version_major": 2,
       "version_minor": 0
      },
      "text/plain": [
       "  0%|          | 0/1189 [00:00<?, ?it/s]"
      ]
     },
     "metadata": {},
     "output_type": "display_data"
    },
    {
     "data": {
      "application/vnd.jupyter.widget-view+json": {
       "model_id": "b38731069ff44c1783e9cbda8d243f3d",
       "version_major": 2,
       "version_minor": 0
      },
      "text/plain": [
       "  0%|          | 0/255 [00:00<?, ?it/s]"
      ]
     },
     "metadata": {},
     "output_type": "display_data"
    },
    {
     "name": "stdout",
     "output_type": "stream",
     "text": [
      "Accuracy on test set: 0.8881\n",
      "Average Loss on test set: 0.3148\n",
      "Epoch [15/35], Loss: 0.1601, Accuracy: 0.9362, Val Loss: 0.3148, Val Accuracy: 0.8881\n"
     ]
    },
    {
     "data": {
      "application/vnd.jupyter.widget-view+json": {
       "model_id": "cf3df8c7e529414da8fb1511dd6dd43a",
       "version_major": 2,
       "version_minor": 0
      },
      "text/plain": [
       "  0%|          | 0/1189 [00:00<?, ?it/s]"
      ]
     },
     "metadata": {},
     "output_type": "display_data"
    },
    {
     "data": {
      "application/vnd.jupyter.widget-view+json": {
       "model_id": "6442571bb7c94e59ab32c00782cb32cf",
       "version_major": 2,
       "version_minor": 0
      },
      "text/plain": [
       "  0%|          | 0/255 [00:00<?, ?it/s]"
      ]
     },
     "metadata": {},
     "output_type": "display_data"
    },
    {
     "name": "stdout",
     "output_type": "stream",
     "text": [
      "Accuracy on test set: 0.8905\n",
      "Average Loss on test set: 0.3192\n",
      "Epoch [16/35], Loss: 0.1460, Accuracy: 0.9419, Val Loss: 0.3192, Val Accuracy: 0.8905\n"
     ]
    },
    {
     "data": {
      "application/vnd.jupyter.widget-view+json": {
       "model_id": "ae78a8953cc148db803ffc6c7611a8a9",
       "version_major": 2,
       "version_minor": 0
      },
      "text/plain": [
       "  0%|          | 0/1189 [00:00<?, ?it/s]"
      ]
     },
     "metadata": {},
     "output_type": "display_data"
    },
    {
     "data": {
      "application/vnd.jupyter.widget-view+json": {
       "model_id": "53ecbdf292654df88a9077543c553dbc",
       "version_major": 2,
       "version_minor": 0
      },
      "text/plain": [
       "  0%|          | 0/255 [00:00<?, ?it/s]"
      ]
     },
     "metadata": {},
     "output_type": "display_data"
    },
    {
     "name": "stdout",
     "output_type": "stream",
     "text": [
      "Accuracy on test set: 0.8869\n",
      "Average Loss on test set: 0.3831\n",
      "Epoch [17/35], Loss: 0.1348, Accuracy: 0.9469, Val Loss: 0.3831, Val Accuracy: 0.8869\n"
     ]
    },
    {
     "data": {
      "application/vnd.jupyter.widget-view+json": {
       "model_id": "da88c798728b4a3592c66b6c8904a33b",
       "version_major": 2,
       "version_minor": 0
      },
      "text/plain": [
       "  0%|          | 0/1189 [00:00<?, ?it/s]"
      ]
     },
     "metadata": {},
     "output_type": "display_data"
    },
    {
     "data": {
      "application/vnd.jupyter.widget-view+json": {
       "model_id": "002144984e6441a59b38e9a790318d9e",
       "version_major": 2,
       "version_minor": 0
      },
      "text/plain": [
       "  0%|          | 0/255 [00:00<?, ?it/s]"
      ]
     },
     "metadata": {},
     "output_type": "display_data"
    },
    {
     "name": "stdout",
     "output_type": "stream",
     "text": [
      "Accuracy on test set: 0.8878\n",
      "Average Loss on test set: 0.4049\n",
      "Epoch [18/35], Loss: 0.1243, Accuracy: 0.9511, Val Loss: 0.4049, Val Accuracy: 0.8878\n"
     ]
    },
    {
     "data": {
      "application/vnd.jupyter.widget-view+json": {
       "model_id": "88d4c8b804a144638832076bcbf86734",
       "version_major": 2,
       "version_minor": 0
      },
      "text/plain": [
       "  0%|          | 0/1189 [00:00<?, ?it/s]"
      ]
     },
     "metadata": {},
     "output_type": "display_data"
    },
    {
     "data": {
      "application/vnd.jupyter.widget-view+json": {
       "model_id": "949243f5296c4908bcfcb2feceda2c1a",
       "version_major": 2,
       "version_minor": 0
      },
      "text/plain": [
       "  0%|          | 0/255 [00:00<?, ?it/s]"
      ]
     },
     "metadata": {},
     "output_type": "display_data"
    },
    {
     "name": "stdout",
     "output_type": "stream",
     "text": [
      "Accuracy on test set: 0.8829\n",
      "Average Loss on test set: 0.4423\n",
      "Epoch [19/35], Loss: 0.1133, Accuracy: 0.9557, Val Loss: 0.4423, Val Accuracy: 0.8829\n"
     ]
    },
    {
     "data": {
      "application/vnd.jupyter.widget-view+json": {
       "model_id": "1de868de787a46d3a87c5f99fde0f04d",
       "version_major": 2,
       "version_minor": 0
      },
      "text/plain": [
       "  0%|          | 0/1189 [00:00<?, ?it/s]"
      ]
     },
     "metadata": {},
     "output_type": "display_data"
    },
    {
     "data": {
      "application/vnd.jupyter.widget-view+json": {
       "model_id": "788e5a274ea340aa8f7db361616aa5e0",
       "version_major": 2,
       "version_minor": 0
      },
      "text/plain": [
       "  0%|          | 0/255 [00:00<?, ?it/s]"
      ]
     },
     "metadata": {},
     "output_type": "display_data"
    },
    {
     "name": "stdout",
     "output_type": "stream",
     "text": [
      "Accuracy on test set: 0.8836\n",
      "Average Loss on test set: 0.4668\n",
      "Epoch [20/35], Loss: 0.1044, Accuracy: 0.9594, Val Loss: 0.4668, Val Accuracy: 0.8836\n"
     ]
    },
    {
     "data": {
      "application/vnd.jupyter.widget-view+json": {
       "model_id": "11f2e979f8eb4d9299d886239bc64f91",
       "version_major": 2,
       "version_minor": 0
      },
      "text/plain": [
       "  0%|          | 0/1189 [00:00<?, ?it/s]"
      ]
     },
     "metadata": {},
     "output_type": "display_data"
    },
    {
     "data": {
      "application/vnd.jupyter.widget-view+json": {
       "model_id": "65589d8d874d4a9aa2237f55bf12281e",
       "version_major": 2,
       "version_minor": 0
      },
      "text/plain": [
       "  0%|          | 0/255 [00:00<?, ?it/s]"
      ]
     },
     "metadata": {},
     "output_type": "display_data"
    },
    {
     "name": "stdout",
     "output_type": "stream",
     "text": [
      "Accuracy on test set: 0.8842\n",
      "Average Loss on test set: 0.5042\n",
      "Epoch [21/35], Loss: 0.0951, Accuracy: 0.9633, Val Loss: 0.5042, Val Accuracy: 0.8842\n"
     ]
    },
    {
     "data": {
      "application/vnd.jupyter.widget-view+json": {
       "model_id": "dd9e60be359c43e5a4ed2c1c04b4c3a3",
       "version_major": 2,
       "version_minor": 0
      },
      "text/plain": [
       "  0%|          | 0/1189 [00:00<?, ?it/s]"
      ]
     },
     "metadata": {},
     "output_type": "display_data"
    },
    {
     "data": {
      "application/vnd.jupyter.widget-view+json": {
       "model_id": "ab0c93523f5b4ae9a7d651c3d72d67b3",
       "version_major": 2,
       "version_minor": 0
      },
      "text/plain": [
       "  0%|          | 0/255 [00:00<?, ?it/s]"
      ]
     },
     "metadata": {},
     "output_type": "display_data"
    },
    {
     "name": "stdout",
     "output_type": "stream",
     "text": [
      "Accuracy on test set: 0.8882\n",
      "Average Loss on test set: 0.5107\n",
      "Epoch [22/35], Loss: 0.0906, Accuracy: 0.9653, Val Loss: 0.5107, Val Accuracy: 0.8882\n"
     ]
    },
    {
     "data": {
      "application/vnd.jupyter.widget-view+json": {
       "model_id": "7bebb316cfd24110b41c53bcee86cc7a",
       "version_major": 2,
       "version_minor": 0
      },
      "text/plain": [
       "  0%|          | 0/1189 [00:00<?, ?it/s]"
      ]
     },
     "metadata": {},
     "output_type": "display_data"
    },
    {
     "data": {
      "application/vnd.jupyter.widget-view+json": {
       "model_id": "9730f770e5334368b813dfd30d246ff9",
       "version_major": 2,
       "version_minor": 0
      },
      "text/plain": [
       "  0%|          | 0/255 [00:00<?, ?it/s]"
      ]
     },
     "metadata": {},
     "output_type": "display_data"
    },
    {
     "name": "stdout",
     "output_type": "stream",
     "text": [
      "Accuracy on test set: 0.8892\n",
      "Average Loss on test set: 0.5386\n",
      "Epoch [23/35], Loss: 0.0827, Accuracy: 0.9686, Val Loss: 0.5386, Val Accuracy: 0.8892\n"
     ]
    },
    {
     "data": {
      "application/vnd.jupyter.widget-view+json": {
       "model_id": "b0db62f6417f4425a8333c81e1e9a7b4",
       "version_major": 2,
       "version_minor": 0
      },
      "text/plain": [
       "  0%|          | 0/1189 [00:00<?, ?it/s]"
      ]
     },
     "metadata": {},
     "output_type": "display_data"
    },
    {
     "data": {
      "application/vnd.jupyter.widget-view+json": {
       "model_id": "a1d59e8420bf4b42bc92017074eba913",
       "version_major": 2,
       "version_minor": 0
      },
      "text/plain": [
       "  0%|          | 0/255 [00:00<?, ?it/s]"
      ]
     },
     "metadata": {},
     "output_type": "display_data"
    },
    {
     "name": "stdout",
     "output_type": "stream",
     "text": [
      "Accuracy on test set: 0.8861\n",
      "Average Loss on test set: 0.4986\n",
      "Epoch [24/35], Loss: 0.0796, Accuracy: 0.9703, Val Loss: 0.4986, Val Accuracy: 0.8861\n"
     ]
    },
    {
     "data": {
      "application/vnd.jupyter.widget-view+json": {
       "model_id": "c5b0e791cbf342b0ba7b28e9415c11a6",
       "version_major": 2,
       "version_minor": 0
      },
      "text/plain": [
       "  0%|          | 0/1189 [00:00<?, ?it/s]"
      ]
     },
     "metadata": {},
     "output_type": "display_data"
    },
    {
     "data": {
      "application/vnd.jupyter.widget-view+json": {
       "model_id": "7fda5f0774a849bfb41b221aacde4531",
       "version_major": 2,
       "version_minor": 0
      },
      "text/plain": [
       "  0%|          | 0/255 [00:00<?, ?it/s]"
      ]
     },
     "metadata": {},
     "output_type": "display_data"
    },
    {
     "name": "stdout",
     "output_type": "stream",
     "text": [
      "Accuracy on test set: 0.8854\n",
      "Average Loss on test set: 0.4811\n",
      "Epoch [25/35], Loss: 0.0761, Accuracy: 0.9713, Val Loss: 0.4811, Val Accuracy: 0.8854\n"
     ]
    },
    {
     "data": {
      "application/vnd.jupyter.widget-view+json": {
       "model_id": "ac83c3f19fee4f3b9b77ec9a854323b1",
       "version_major": 2,
       "version_minor": 0
      },
      "text/plain": [
       "  0%|          | 0/1189 [00:00<?, ?it/s]"
      ]
     },
     "metadata": {},
     "output_type": "display_data"
    },
    {
     "data": {
      "application/vnd.jupyter.widget-view+json": {
       "model_id": "0bd4f1e645a8413ebd2b638f018692a0",
       "version_major": 2,
       "version_minor": 0
      },
      "text/plain": [
       "  0%|          | 0/255 [00:00<?, ?it/s]"
      ]
     },
     "metadata": {},
     "output_type": "display_data"
    },
    {
     "name": "stdout",
     "output_type": "stream",
     "text": [
      "Accuracy on test set: 0.8855\n",
      "Average Loss on test set: 0.5436\n",
      "Epoch [26/35], Loss: 0.0696, Accuracy: 0.9742, Val Loss: 0.5436, Val Accuracy: 0.8855\n"
     ]
    },
    {
     "data": {
      "application/vnd.jupyter.widget-view+json": {
       "model_id": "ca4a264332544c05964d9094256544f7",
       "version_major": 2,
       "version_minor": 0
      },
      "text/plain": [
       "  0%|          | 0/1189 [00:00<?, ?it/s]"
      ]
     },
     "metadata": {},
     "output_type": "display_data"
    },
    {
     "data": {
      "application/vnd.jupyter.widget-view+json": {
       "model_id": "a0d688ebe5ec45dbb25de4db7f19f3d7",
       "version_major": 2,
       "version_minor": 0
      },
      "text/plain": [
       "  0%|          | 0/255 [00:00<?, ?it/s]"
      ]
     },
     "metadata": {},
     "output_type": "display_data"
    },
    {
     "name": "stdout",
     "output_type": "stream",
     "text": [
      "Accuracy on test set: 0.8861\n",
      "Average Loss on test set: 0.6709\n",
      "Epoch [27/35], Loss: 0.0668, Accuracy: 0.9751, Val Loss: 0.6709, Val Accuracy: 0.8861\n"
     ]
    },
    {
     "data": {
      "application/vnd.jupyter.widget-view+json": {
       "model_id": "86037f5d8e5545ff8f1c5d10e75cd99e",
       "version_major": 2,
       "version_minor": 0
      },
      "text/plain": [
       "  0%|          | 0/1189 [00:00<?, ?it/s]"
      ]
     },
     "metadata": {},
     "output_type": "display_data"
    },
    {
     "data": {
      "application/vnd.jupyter.widget-view+json": {
       "model_id": "8c5010ab4eca4509ae549b49ed6ea235",
       "version_major": 2,
       "version_minor": 0
      },
      "text/plain": [
       "  0%|          | 0/255 [00:00<?, ?it/s]"
      ]
     },
     "metadata": {},
     "output_type": "display_data"
    },
    {
     "name": "stdout",
     "output_type": "stream",
     "text": [
      "Accuracy on test set: 0.8861\n",
      "Average Loss on test set: 0.5836\n",
      "Epoch [28/35], Loss: 0.0662, Accuracy: 0.9760, Val Loss: 0.5836, Val Accuracy: 0.8861\n"
     ]
    },
    {
     "data": {
      "application/vnd.jupyter.widget-view+json": {
       "model_id": "3f411ef380a742f58dd01aa21f79f3b1",
       "version_major": 2,
       "version_minor": 0
      },
      "text/plain": [
       "  0%|          | 0/1189 [00:00<?, ?it/s]"
      ]
     },
     "metadata": {},
     "output_type": "display_data"
    },
    {
     "data": {
      "application/vnd.jupyter.widget-view+json": {
       "model_id": "144ac1c90a0d4ad2925450cb6d7a42e3",
       "version_major": 2,
       "version_minor": 0
      },
      "text/plain": [
       "  0%|          | 0/255 [00:00<?, ?it/s]"
      ]
     },
     "metadata": {},
     "output_type": "display_data"
    },
    {
     "name": "stdout",
     "output_type": "stream",
     "text": [
      "Accuracy on test set: 0.8875\n",
      "Average Loss on test set: 0.5882\n",
      "Epoch [29/35], Loss: 0.0609, Accuracy: 0.9776, Val Loss: 0.5882, Val Accuracy: 0.8875\n"
     ]
    },
    {
     "data": {
      "application/vnd.jupyter.widget-view+json": {
       "model_id": "2401de14652d489080708b6442c86aa6",
       "version_major": 2,
       "version_minor": 0
      },
      "text/plain": [
       "  0%|          | 0/1189 [00:00<?, ?it/s]"
      ]
     },
     "metadata": {},
     "output_type": "display_data"
    },
    {
     "data": {
      "application/vnd.jupyter.widget-view+json": {
       "model_id": "104d5ff8e4484843913707d8e0922b4f",
       "version_major": 2,
       "version_minor": 0
      },
      "text/plain": [
       "  0%|          | 0/255 [00:00<?, ?it/s]"
      ]
     },
     "metadata": {},
     "output_type": "display_data"
    },
    {
     "name": "stdout",
     "output_type": "stream",
     "text": [
      "Accuracy on test set: 0.8827\n",
      "Average Loss on test set: 0.6041\n",
      "Epoch [30/35], Loss: 0.0598, Accuracy: 0.9783, Val Loss: 0.6041, Val Accuracy: 0.8827\n"
     ]
    },
    {
     "data": {
      "application/vnd.jupyter.widget-view+json": {
       "model_id": "1b5a5a0bdcef4cbebe39d83d302029c1",
       "version_major": 2,
       "version_minor": 0
      },
      "text/plain": [
       "  0%|          | 0/1189 [00:00<?, ?it/s]"
      ]
     },
     "metadata": {},
     "output_type": "display_data"
    },
    {
     "data": {
      "application/vnd.jupyter.widget-view+json": {
       "model_id": "f270de88fea441b6b96ad20a5bf9cf89",
       "version_major": 2,
       "version_minor": 0
      },
      "text/plain": [
       "  0%|          | 0/255 [00:00<?, ?it/s]"
      ]
     },
     "metadata": {},
     "output_type": "display_data"
    },
    {
     "name": "stdout",
     "output_type": "stream",
     "text": [
      "Accuracy on test set: 0.8801\n",
      "Average Loss on test set: 0.6309\n",
      "Epoch [31/35], Loss: 0.0583, Accuracy: 0.9788, Val Loss: 0.6309, Val Accuracy: 0.8801\n"
     ]
    },
    {
     "data": {
      "application/vnd.jupyter.widget-view+json": {
       "model_id": "25b8e3a5e8cb48f99a61ad3bfb51767f",
       "version_major": 2,
       "version_minor": 0
      },
      "text/plain": [
       "  0%|          | 0/1189 [00:00<?, ?it/s]"
      ]
     },
     "metadata": {},
     "output_type": "display_data"
    }
   ],
   "source": [
    "train_model(cropped_model_new, train_loader, val_loader, criterion, optimizer,\n",
    "             file = 'double_conv_model_augmentated_croped_new.pth', num_epochs=35, first_flag=True, optimizer_new_flag=False,\n",
    "             optimizer_new=optimizer_new)"
   ]
  },
  {
   "cell_type": "markdown",
   "metadata": {},
   "source": [
    "#### Overfitting started from 9 epoch... But on train it grows"
   ]
  },
  {
   "cell_type": "code",
   "execution_count": 1,
   "metadata": {},
   "outputs": [
    {
     "name": "stdout",
     "output_type": "stream",
     "text": [
      "Коэффициенты полинома: [ 3.14285714e+00  1.11022302e-16 -5.71428571e-01]\n"
     ]
    },
    {
     "data": {
      "image/png": "[encoded data removed]",
      "text/plain": [
       "<Figure size 640x480 with 1 Axes>"
      ]
     },
     "metadata": {},
     "output_type": "display_data"
    }
   ],
   "source": [
    "import numpy as np\n",
    "\n",
    "# Данные\n",
    "x = np.array([-2, -1, 0, 1, 2])\n",
    "y = np.array([1, 2, 4, 2, 1])\n",
    "\n",
    "# Степень полинома\n",
    "degree = 2\n",
    "\n",
    "# Создаем матрицу X для полинома степени degree\n",
    "X = np.column_stack([x**i for i in range(degree + 1)])\n",
    "\n",
    "# Вычисляем коэффициенты полинома\n",
    "coefficients = np.linalg.lstsq(X, y, rcond=None)[0]\n",
    "\n",
    "# Выводим коэффициенты\n",
    "print(\"Коэффициенты полинома:\", coefficients)\n",
    "\n",
    "# Функция для вычисления значений полинома\n",
    "def polynomial(x, coefficients):\n",
    "    return sum(coef * x**i for i, coef in enumerate(coefficients))\n",
    "\n",
    "# Проверка аппроксимации\n",
    "x_test = np.linspace(1, 3, 100)\n",
    "y_test = polynomial(x_test, coefficients)\n",
    "\n",
    "# Визуализация\n",
    "import matplotlib.pyplot as plt\n",
    "\n",
    "plt.scatter(x, y, color='red', label='Данные')\n",
    "plt.plot(x_test, y_test, label='Аппроксимация полиномом')\n",
    "plt.xlabel('x')\n",
    "plt.ylabel('y')\n",
    "plt.legend()\n",
    "plt.show()\n"
   ]
  },
  {
   "cell_type": "markdown",
   "metadata": {},
   "source": []
  }
 ],
 "metadata": {
  "kernelspec": {
   "display_name": "Python 3",
   "language": "python",
   "name": "python3"
  },
  "language_info": {
   "codemirror_mode": {
    "name": "ipython",
    "version": 3
   },
   "file_extension": ".py",
   "mimetype": "text/x-python",
   "name": "python",
   "nbconvert_exporter": "python",
   "pygments_lexer": "ipython3",
   "version": "3.12.3"
  }
 },
 "nbformat": 4,
 "nbformat_minor": 2
}
